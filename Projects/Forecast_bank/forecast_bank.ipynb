{
 "cells": [
  {
   "cell_type": "markdown",
   "metadata": {
    "toc": true
   },
   "source": [
    "<h1>Содержание<span class=\"tocSkip\"></span></h1>\n",
    "<div class=\"toc\"><ul class=\"toc-item\"><li><span><a href=\"#Подготовка-данных\" data-toc-modified-id=\"Подготовка-данных-1\"><span class=\"toc-item-num\">1&nbsp;&nbsp;</span>Подготовка данных</a></span><ul class=\"toc-item\"><li><ul class=\"toc-item\"><li><span><a href=\"#Импортируем-библиотеки,-которые-будем-использовать-в-дальнейшем.\" data-toc-modified-id=\"Импортируем-библиотеки,-которые-будем-использовать-в-дальнейшем.-1.0.1\"><span class=\"toc-item-num\">1.0.1&nbsp;&nbsp;</span>Импортируем библиотеки, которые будем использовать в дальнейшем.</a></span></li><li><span><a href=\"#Загружаем-данные\" data-toc-modified-id=\"Загружаем-данные-1.0.2\"><span class=\"toc-item-num\">1.0.2&nbsp;&nbsp;</span>Загружаем данные</a></span></li><li><span><a href=\"#Применяем-ранее-написанную-функцию-чтобы-ознакомится-с-данными.\" data-toc-modified-id=\"Применяем-ранее-написанную-функцию-чтобы-ознакомится-с-данными.-1.0.3\"><span class=\"toc-item-num\">1.0.3&nbsp;&nbsp;</span>Применяем ранее написанную функцию чтобы ознакомится с данными.</a></span></li><li><span><a href=\"#Вывод:\" data-toc-modified-id=\"Вывод:-1.0.4\"><span class=\"toc-item-num\">1.0.4&nbsp;&nbsp;</span>Вывод:</a></span></li></ul></li><li><span><a href=\"#Заполняем-значения-NaN.\" data-toc-modified-id=\"Заполняем-значения-NaN.-1.1\"><span class=\"toc-item-num\">1.1&nbsp;&nbsp;</span>Заполняем значения NaN.</a></span><ul class=\"toc-item\"><li><span><a href=\"#Смотрим-как-распределены-значения.\" data-toc-modified-id=\"Смотрим-как-распределены-значения.-1.1.1\"><span class=\"toc-item-num\">1.1.1&nbsp;&nbsp;</span>Смотрим как распределены значения.</a></span></li><li><span><a href=\"#Принимаем-решение-заполнить-значения-NaN-случайными-данными-из-списка-существующих-значений.\" data-toc-modified-id=\"Принимаем-решение-заполнить-значения-NaN-случайными-данными-из-списка-существующих-значений.-1.1.2\"><span class=\"toc-item-num\">1.1.2&nbsp;&nbsp;</span>Принимаем решение заполнить значения NaN случайными данными из списка существующих значений.</a></span></li><li><span><a href=\"#Проверяем-результат\" data-toc-modified-id=\"Проверяем-результат-1.1.3\"><span class=\"toc-item-num\">1.1.3&nbsp;&nbsp;</span>Проверяем результат</a></span></li></ul></li><li><span><a href=\"#Убираем-не-нужные-в-обучении-модели-столбцы-(индекс-строки-в-данных,-уникальный-идентификатор-клиента,-фамилия)\" data-toc-modified-id=\"Убираем-не-нужные-в-обучении-модели-столбцы-(индекс-строки-в-данных,-уникальный-идентификатор-клиента,-фамилия)-1.2\"><span class=\"toc-item-num\">1.2&nbsp;&nbsp;</span>Убираем не нужные в обучении модели столбцы (индекс строки в данных, уникальный идентификатор клиента, фамилия)</a></span></li><li><span><a href=\"#Выполняем-унитарное-кодирование-(One-Hot-Encoding)\" data-toc-modified-id=\"Выполняем-унитарное-кодирование-(One-Hot-Encoding)-1.3\"><span class=\"toc-item-num\">1.3&nbsp;&nbsp;</span>Выполняем унитарное кодирование (One Hot Encoding)</a></span></li><li><span><a href=\"#Смотрим-что-получилось\" data-toc-modified-id=\"Смотрим-что-получилось-1.4\"><span class=\"toc-item-num\">1.4&nbsp;&nbsp;</span>Смотрим что получилось</a></span></li><li><span><a href=\"#Вывод\" data-toc-modified-id=\"Вывод-1.5\"><span class=\"toc-item-num\">1.5&nbsp;&nbsp;</span>Вывод</a></span></li></ul></li><li><span><a href=\"#Исследование-задачи\" data-toc-modified-id=\"Исследование-задачи-2\"><span class=\"toc-item-num\">2&nbsp;&nbsp;</span>Исследование задачи</a></span><ul class=\"toc-item\"><li><span><a href=\"#Разделим-данные-на-обучающие,-валидационные-и-тестовые.\" data-toc-modified-id=\"Разделим-данные-на-обучающие,-валидационные-и-тестовые.-2.1\"><span class=\"toc-item-num\">2.1&nbsp;&nbsp;</span>Разделим данные на обучающие, валидационные и тестовые.</a></span><ul class=\"toc-item\"><li><span><a href=\"#Проверяем-размерность.\" data-toc-modified-id=\"Проверяем-размерность.-2.1.1\"><span class=\"toc-item-num\">2.1.1&nbsp;&nbsp;</span>Проверяем размерность.</a></span></li><li><span><a href=\"#Вывод:\" data-toc-modified-id=\"Вывод:-2.1.2\"><span class=\"toc-item-num\">2.1.2&nbsp;&nbsp;</span>Вывод:</a></span></li></ul></li><li><span><a href=\"#Масштабируем-признаки\" data-toc-modified-id=\"Масштабируем-признаки-2.2\"><span class=\"toc-item-num\">2.2&nbsp;&nbsp;</span>Масштабируем признаки</a></span><ul class=\"toc-item\"><li><span><a href=\"#Смотрим-что-получилось\" data-toc-modified-id=\"Смотрим-что-получилось-2.2.1\"><span class=\"toc-item-num\">2.2.1&nbsp;&nbsp;</span>Смотрим что получилось</a></span></li><li><span><a href=\"#Вывод:\" data-toc-modified-id=\"Вывод:-2.2.2\"><span class=\"toc-item-num\">2.2.2&nbsp;&nbsp;</span>Вывод:</a></span></li></ul></li><li><span><a href=\"#Модель-«Дерево-решений»\" data-toc-modified-id=\"Модель-«Дерево-решений»-2.3\"><span class=\"toc-item-num\">2.3&nbsp;&nbsp;</span>Модель «Дерево решений»</a></span><ul class=\"toc-item\"><li><span><a href=\"#Вывод:\" data-toc-modified-id=\"Вывод:-2.3.1\"><span class=\"toc-item-num\">2.3.1&nbsp;&nbsp;</span>Вывод:</a></span></li></ul></li><li><span><a href=\"#Модель-«Логистическая-регрессия»\" data-toc-modified-id=\"Модель-«Логистическая-регрессия»-2.4\"><span class=\"toc-item-num\">2.4&nbsp;&nbsp;</span>Модель «Логистическая регрессия»</a></span><ul class=\"toc-item\"><li><span><a href=\"#Вывод:\" data-toc-modified-id=\"Вывод:-2.4.1\"><span class=\"toc-item-num\">2.4.1&nbsp;&nbsp;</span>Вывод:</a></span></li></ul></li><li><span><a href=\"#Модель-«Случайный-лес»\" data-toc-modified-id=\"Модель-«Случайный-лес»-2.5\"><span class=\"toc-item-num\">2.5&nbsp;&nbsp;</span>Модель «Случайный лес»</a></span><ul class=\"toc-item\"><li><span><a href=\"#Выберем-лучший-параметр-max_depth-для-этой-модели\" data-toc-modified-id=\"Выберем-лучший-параметр-max_depth-для-этой-модели-2.5.1\"><span class=\"toc-item-num\">2.5.1&nbsp;&nbsp;</span>Выберем лучший параметр max_depth для этой модели</a></span></li><li><span><a href=\"#Выберем-лучший-параметр-n_estimators-для-этой-модели\" data-toc-modified-id=\"Выберем-лучший-параметр-n_estimators-для-этой-модели-2.5.2\"><span class=\"toc-item-num\">2.5.2&nbsp;&nbsp;</span>Выберем лучший параметр n_estimators для этой модели</a></span></li><li><span><a href=\"#Вывод:\" data-toc-modified-id=\"Вывод:-2.5.3\"><span class=\"toc-item-num\">2.5.3&nbsp;&nbsp;</span>Вывод:</a></span></li></ul></li></ul></li><li><span><a href=\"#Борьба-с-дисбалансом\" data-toc-modified-id=\"Борьба-с-дисбалансом-3\"><span class=\"toc-item-num\">3&nbsp;&nbsp;</span>Борьба с дисбалансом</a></span><ul class=\"toc-item\"><li><span><a href=\"#Улучшим-качество-модели,-учитывая-дисбаланс-классов.\" data-toc-modified-id=\"Улучшим-качество-модели,-учитывая-дисбаланс-классов.-3.1\"><span class=\"toc-item-num\">3.1&nbsp;&nbsp;</span>Улучшим качество модели, учитывая дисбаланс классов.</a></span></li><li><span><a href=\"#Устраняем-дисбаланс-классов-при-помощи-class_weight\" data-toc-modified-id=\"Устраняем-дисбаланс-классов-при-помощи-class_weight-3.2\"><span class=\"toc-item-num\">3.2&nbsp;&nbsp;</span>Устраняем дисбаланс классов при помощи class_weight</a></span></li><li><span><a href=\"#Модель-«Дерево-решений»\" data-toc-modified-id=\"Модель-«Дерево-решений»-3.3\"><span class=\"toc-item-num\">3.3&nbsp;&nbsp;</span>Модель «Дерево решений»</a></span><ul class=\"toc-item\"><li><span><a href=\"#Вывод:\" data-toc-modified-id=\"Вывод:-3.3.1\"><span class=\"toc-item-num\">3.3.1&nbsp;&nbsp;</span>Вывод:</a></span></li></ul></li><li><span><a href=\"#Модель-«Логистическая-регрессия»\" data-toc-modified-id=\"Модель-«Логистическая-регрессия»-3.4\"><span class=\"toc-item-num\">3.4&nbsp;&nbsp;</span>Модель «Логистическая регрессия»</a></span><ul class=\"toc-item\"><li><span><a href=\"#Вывод:\" data-toc-modified-id=\"Вывод:-3.4.1\"><span class=\"toc-item-num\">3.4.1&nbsp;&nbsp;</span>Вывод:</a></span></li></ul></li><li><span><a href=\"#Модель-«Случайный-лес»\" data-toc-modified-id=\"Модель-«Случайный-лес»-3.5\"><span class=\"toc-item-num\">3.5&nbsp;&nbsp;</span>Модель «Случайный лес»</a></span><ul class=\"toc-item\"><li><span><a href=\"#Выберем-лучший-параметр-max_depth-для-этой-модели\" data-toc-modified-id=\"Выберем-лучший-параметр-max_depth-для-этой-модели-3.5.1\"><span class=\"toc-item-num\">3.5.1&nbsp;&nbsp;</span>Выберем лучший параметр max_depth для этой модели</a></span></li><li><span><a href=\"#Выберем-лучший-параметр-n_estimators-для-этой-модели\" data-toc-modified-id=\"Выберем-лучший-параметр-n_estimators-для-этой-модели-3.5.2\"><span class=\"toc-item-num\">3.5.2&nbsp;&nbsp;</span>Выберем лучший параметр n_estimators для этой модели</a></span></li></ul></li><li><span><a href=\"#Борьба-с-дисбалансом---Увеличение-выборки\" data-toc-modified-id=\"Борьба-с-дисбалансом---Увеличение-выборки-3.6\"><span class=\"toc-item-num\">3.6&nbsp;&nbsp;</span>Борьба с дисбалансом - Увеличение выборки</a></span><ul class=\"toc-item\"><li><span><a href=\"#Дисбаланс-классов-составляет-примерно-4:1.-Исправим-ситуацию-увеличив-недостающий-класс.\" data-toc-modified-id=\"Дисбаланс-классов-составляет-примерно-4:1.-Исправим-ситуацию-увеличив-недостающий-класс.-3.6.1\"><span class=\"toc-item-num\">3.6.1&nbsp;&nbsp;</span>Дисбаланс классов составляет примерно 4:1. Исправим ситуацию увеличив недостающий класс.</a></span></li><li><span><a href=\"#Дисбаланс-классов-устранен,-переходим-к-обучению.\" data-toc-modified-id=\"Дисбаланс-классов-устранен,-переходим-к-обучению.-3.6.2\"><span class=\"toc-item-num\">3.6.2&nbsp;&nbsp;</span>Дисбаланс классов устранен, переходим к обучению.</a></span></li></ul></li><li><span><a href=\"#Модель-«Дерево-решений»\" data-toc-modified-id=\"Модель-«Дерево-решений»-3.7\"><span class=\"toc-item-num\">3.7&nbsp;&nbsp;</span>Модель «Дерево решений»</a></span><ul class=\"toc-item\"><li><span><a href=\"#Вывод:\" data-toc-modified-id=\"Вывод:-3.7.1\"><span class=\"toc-item-num\">3.7.1&nbsp;&nbsp;</span>Вывод:</a></span></li></ul></li><li><span><a href=\"#Модель-«Логистическая-регрессия»\" data-toc-modified-id=\"Модель-«Логистическая-регрессия»-3.8\"><span class=\"toc-item-num\">3.8&nbsp;&nbsp;</span>Модель «Логистическая регрессия»</a></span><ul class=\"toc-item\"><li><span><a href=\"#Вывод:\" data-toc-modified-id=\"Вывод:-3.8.1\"><span class=\"toc-item-num\">3.8.1&nbsp;&nbsp;</span>Вывод:</a></span></li></ul></li><li><span><a href=\"#Модель-«Случайный-лес»\" data-toc-modified-id=\"Модель-«Случайный-лес»-3.9\"><span class=\"toc-item-num\">3.9&nbsp;&nbsp;</span>Модель «Случайный лес»</a></span><ul class=\"toc-item\"><li><span><a href=\"#Выберем-лучший-параметр-max_depth-для-этой-модели\" data-toc-modified-id=\"Выберем-лучший-параметр-max_depth-для-этой-модели-3.9.1\"><span class=\"toc-item-num\">3.9.1&nbsp;&nbsp;</span>Выберем лучший параметр max_depth для этой модели</a></span></li><li><span><a href=\"#Выберем-лучший-параметр-n_estimators-для-этой-модели\" data-toc-modified-id=\"Выберем-лучший-параметр-n_estimators-для-этой-модели-3.9.2\"><span class=\"toc-item-num\">3.9.2&nbsp;&nbsp;</span>Выберем лучший параметр n_estimators для этой модели</a></span></li><li><span><a href=\"#Вывод:\" data-toc-modified-id=\"Вывод:-3.9.3\"><span class=\"toc-item-num\">3.9.3&nbsp;&nbsp;</span>Вывод:</a></span></li></ul></li><li><span><a href=\"#Сравнительная-таблица-показателей-f1-и-roc_auc-при-разных-условиях.\" data-toc-modified-id=\"Сравнительная-таблица-показателей-f1-и-roc_auc-при-разных-условиях.-3.10\"><span class=\"toc-item-num\">3.10&nbsp;&nbsp;</span>Сравнительная таблица показателей f1 и roc_auc при разных условиях.</a></span></li><li><span><a href=\"#Вывод\" data-toc-modified-id=\"Вывод-3.11\"><span class=\"toc-item-num\">3.11&nbsp;&nbsp;</span>Вывод</a></span></li></ul></li><li><span><a href=\"#Тестирование-модели\" data-toc-modified-id=\"Тестирование-модели-4\"><span class=\"toc-item-num\">4&nbsp;&nbsp;</span>Тестирование модели</a></span><ul class=\"toc-item\"><li><span><a href=\"#Проверим-лучшую-модель-на-тестовой-выборке\" data-toc-modified-id=\"Проверим-лучшую-модель-на-тестовой-выборке-4.1\"><span class=\"toc-item-num\">4.1&nbsp;&nbsp;</span>Проверим лучшую модель на тестовой выборке</a></span><ul class=\"toc-item\"><li><span><a href=\"#Вывод:\" data-toc-modified-id=\"Вывод:-4.1.1\"><span class=\"toc-item-num\">4.1.1&nbsp;&nbsp;</span>Вывод:</a></span></li></ul></li><li><span><a href=\"#Построим-ROC-кривую\" data-toc-modified-id=\"Построим-ROC-кривую-4.2\"><span class=\"toc-item-num\">4.2&nbsp;&nbsp;</span>Построим ROC-кривую</a></span><ul class=\"toc-item\"><li><span><a href=\"#Вывод:\" data-toc-modified-id=\"Вывод:-4.2.1\"><span class=\"toc-item-num\">4.2.1&nbsp;&nbsp;</span>Вывод:</a></span></li></ul></li><li><span><a href=\"#Находим-значение-auc_roc\" data-toc-modified-id=\"Находим-значение-auc_roc-4.3\"><span class=\"toc-item-num\">4.3&nbsp;&nbsp;</span>Находим значение auc_roc</a></span><ul class=\"toc-item\"><li><span><a href=\"#Вывод:\" data-toc-modified-id=\"Вывод:-4.3.1\"><span class=\"toc-item-num\">4.3.1&nbsp;&nbsp;</span>Вывод:</a></span></li></ul></li></ul></li><li><span><a href=\"#Общий-вывод\" data-toc-modified-id=\"Общий-вывод-5\"><span class=\"toc-item-num\">5&nbsp;&nbsp;</span>Общий вывод</a></span></li><li><span><a href=\"#Чек-лист-готовности-проекта\" data-toc-modified-id=\"Чек-лист-готовности-проекта-6\"><span class=\"toc-item-num\">6&nbsp;&nbsp;</span>Чек-лист готовности проекта</a></span></li></ul></div>"
   ]
  },
  {
   "cell_type": "markdown",
   "metadata": {},
   "source": [
    "# Прогнозирование оттока клиентов Банка"
   ]
  },
  {
   "cell_type": "markdown",
   "metadata": {},
   "source": [
    "\n",
    "## Описание проекта\n",
    "\n",
    "\n",
    "Из банка стали уходить клиенты. Каждый месяц. Немного, но заметно. Банковские маркетологи посчитали: сохранять текущих клиентов дешевле, чем привлекать новых. Нужно спрогнозировать, уйдёт клиент из банка в ближайшее время или нет. Предоставлены исторические данные о поведении клиентов и расторжении договоров с банком.\n",
    "**Цель исследования:** \n",
    "На основе данных из банка определить клиент, который может уйти.\n",
    "\n",
    "**Результаты исследования:** Построить модель со значением метрики качества F1 не меньше 0.59.\n",
    "\n",
    "\n",
    "Источник данных: [https://www.kaggle.com/barelydedicated/bank-customer-churn-modeling](https://www.kaggle.com/barelydedicated/bank-customer-churn-modeling)"
   ]
  },
  {
   "cell_type": "markdown",
   "metadata": {},
   "source": [
    "***Описание данных***\n",
    "\n",
    "\n",
    "\n",
    "\n",
    "\n",
    "\n",
    "•\tRowNumber — индекс строки в данных\n",
    "\n",
    "•\tCustomerId — уникальный идентификатор клиента\n",
    "\n",
    "•\tSurname — фамилия\n",
    "\n",
    "•\tCreditScore — кредитный рейтинг\n",
    "\n",
    "•\tGeography — страна проживания\n",
    "\n",
    "•\tGender — пол\n",
    "\n",
    "•\tAge — возраст\n",
    "\n",
    "•\tTenure — сколько лет человек является клиентом банка\n",
    "\n",
    "•\tBalance — баланс на счёте\n",
    "\n",
    "•\tNumOfProducts — количество продуктов банка, используемых клиентом\n",
    "\n",
    "•\tHasCrCard — наличие кредитной карты\n",
    "\n",
    "•\tIsActiveMember — активность клиента\n",
    "\n",
    "•\tEstimatedSalary — предполагаемая зарплата\n",
    "\n",
    "***Целевой признак***\n",
    "\n",
    "•\tExited — факт ухода клиента"
   ]
  },
  {
   "cell_type": "markdown",
   "metadata": {},
   "source": [
    "## Подготовка данных"
   ]
  },
  {
   "cell_type": "markdown",
   "metadata": {},
   "source": [
    "#### Импортируем библиотеки, которые будем использовать в дальнейшем."
   ]
  },
  {
   "cell_type": "code",
   "execution_count": 1,
   "metadata": {},
   "outputs": [],
   "source": [
    "import pandas as pd\n",
    "import numpy as np\n",
    "from random import randint\n",
    "from random import choice\n",
    "from math import isnan\n",
    "from sklearn.preprocessing import StandardScaler \n",
    "from sklearn.model_selection import train_test_split\n",
    "from sklearn.tree import DecisionTreeClassifier\n",
    "from sklearn.linear_model import LogisticRegression\n",
    "from sklearn.ensemble import RandomForestClassifier\n",
    "from sklearn.metrics import mean_absolute_error\n",
    "from sklearn.metrics import f1_score\n",
    "from sklearn.utils import shuffle\n",
    "from sklearn.metrics import roc_curve\n",
    "from sklearn.metrics import roc_auc_score\n",
    "import matplotlib.pyplot as plt"
   ]
  },
  {
   "cell_type": "markdown",
   "metadata": {},
   "source": [
    "#### Загружаем данные"
   ]
  },
  {
   "cell_type": "code",
   "execution_count": 2,
   "metadata": {},
   "outputs": [],
   "source": [
    "df = pd.read_csv('/datasets/Churn.csv')"
   ]
  },
  {
   "cell_type": "markdown",
   "metadata": {},
   "source": [
    "#### Применяем ранее написанную функцию чтобы ознакомится с данными."
   ]
  },
  {
   "cell_type": "code",
   "execution_count": 3,
   "metadata": {
    "scrolled": true
   },
   "outputs": [
    {
     "name": "stdout",
     "output_type": "stream",
     "text": [
      "<class 'pandas.core.frame.DataFrame'>\n",
      "RangeIndex: 10000 entries, 0 to 9999\n",
      "Data columns (total 14 columns):\n",
      " #   Column           Non-Null Count  Dtype  \n",
      "---  ------           --------------  -----  \n",
      " 0   RowNumber        10000 non-null  int64  \n",
      " 1   CustomerId       10000 non-null  int64  \n",
      " 2   Surname          10000 non-null  object \n",
      " 3   CreditScore      10000 non-null  int64  \n",
      " 4   Geography        10000 non-null  object \n",
      " 5   Gender           10000 non-null  object \n",
      " 6   Age              10000 non-null  int64  \n",
      " 7   Tenure           9091 non-null   float64\n",
      " 8   Balance          10000 non-null  float64\n",
      " 9   NumOfProducts    10000 non-null  int64  \n",
      " 10  HasCrCard        10000 non-null  int64  \n",
      " 11  IsActiveMember   10000 non-null  int64  \n",
      " 12  EstimatedSalary  10000 non-null  float64\n",
      " 13  Exited           10000 non-null  int64  \n",
      "dtypes: float64(3), int64(8), object(3)\n",
      "memory usage: 1.1+ MB\n"
     ]
    },
    {
     "data": {
      "text/plain": [
       "None"
      ]
     },
     "metadata": {},
     "output_type": "display_data"
    },
    {
     "data": {
      "text/html": [
       "<div>\n",
       "<style scoped>\n",
       "    .dataframe tbody tr th:only-of-type {\n",
       "        vertical-align: middle;\n",
       "    }\n",
       "\n",
       "    .dataframe tbody tr th {\n",
       "        vertical-align: top;\n",
       "    }\n",
       "\n",
       "    .dataframe thead th {\n",
       "        text-align: right;\n",
       "    }\n",
       "</style>\n",
       "<table border=\"1\" class=\"dataframe\">\n",
       "  <thead>\n",
       "    <tr style=\"text-align: right;\">\n",
       "      <th></th>\n",
       "      <th>count</th>\n",
       "      <th>mean</th>\n",
       "      <th>std</th>\n",
       "      <th>min</th>\n",
       "      <th>25%</th>\n",
       "      <th>50%</th>\n",
       "      <th>75%</th>\n",
       "      <th>max</th>\n",
       "    </tr>\n",
       "  </thead>\n",
       "  <tbody>\n",
       "    <tr>\n",
       "      <th>RowNumber</th>\n",
       "      <td>10000.0</td>\n",
       "      <td>5.000500e+03</td>\n",
       "      <td>2886.895680</td>\n",
       "      <td>1.00</td>\n",
       "      <td>2500.75</td>\n",
       "      <td>5.000500e+03</td>\n",
       "      <td>7.500250e+03</td>\n",
       "      <td>10000.00</td>\n",
       "    </tr>\n",
       "    <tr>\n",
       "      <th>CustomerId</th>\n",
       "      <td>10000.0</td>\n",
       "      <td>1.569094e+07</td>\n",
       "      <td>71936.186123</td>\n",
       "      <td>15565701.00</td>\n",
       "      <td>15628528.25</td>\n",
       "      <td>1.569074e+07</td>\n",
       "      <td>1.575323e+07</td>\n",
       "      <td>15815690.00</td>\n",
       "    </tr>\n",
       "    <tr>\n",
       "      <th>CreditScore</th>\n",
       "      <td>10000.0</td>\n",
       "      <td>6.505288e+02</td>\n",
       "      <td>96.653299</td>\n",
       "      <td>350.00</td>\n",
       "      <td>584.00</td>\n",
       "      <td>6.520000e+02</td>\n",
       "      <td>7.180000e+02</td>\n",
       "      <td>850.00</td>\n",
       "    </tr>\n",
       "    <tr>\n",
       "      <th>Age</th>\n",
       "      <td>10000.0</td>\n",
       "      <td>3.892180e+01</td>\n",
       "      <td>10.487806</td>\n",
       "      <td>18.00</td>\n",
       "      <td>32.00</td>\n",
       "      <td>3.700000e+01</td>\n",
       "      <td>4.400000e+01</td>\n",
       "      <td>92.00</td>\n",
       "    </tr>\n",
       "    <tr>\n",
       "      <th>Tenure</th>\n",
       "      <td>9091.0</td>\n",
       "      <td>4.997690e+00</td>\n",
       "      <td>2.894723</td>\n",
       "      <td>0.00</td>\n",
       "      <td>2.00</td>\n",
       "      <td>5.000000e+00</td>\n",
       "      <td>7.000000e+00</td>\n",
       "      <td>10.00</td>\n",
       "    </tr>\n",
       "    <tr>\n",
       "      <th>Balance</th>\n",
       "      <td>10000.0</td>\n",
       "      <td>7.648589e+04</td>\n",
       "      <td>62397.405202</td>\n",
       "      <td>0.00</td>\n",
       "      <td>0.00</td>\n",
       "      <td>9.719854e+04</td>\n",
       "      <td>1.276442e+05</td>\n",
       "      <td>250898.09</td>\n",
       "    </tr>\n",
       "    <tr>\n",
       "      <th>NumOfProducts</th>\n",
       "      <td>10000.0</td>\n",
       "      <td>1.530200e+00</td>\n",
       "      <td>0.581654</td>\n",
       "      <td>1.00</td>\n",
       "      <td>1.00</td>\n",
       "      <td>1.000000e+00</td>\n",
       "      <td>2.000000e+00</td>\n",
       "      <td>4.00</td>\n",
       "    </tr>\n",
       "    <tr>\n",
       "      <th>HasCrCard</th>\n",
       "      <td>10000.0</td>\n",
       "      <td>7.055000e-01</td>\n",
       "      <td>0.455840</td>\n",
       "      <td>0.00</td>\n",
       "      <td>0.00</td>\n",
       "      <td>1.000000e+00</td>\n",
       "      <td>1.000000e+00</td>\n",
       "      <td>1.00</td>\n",
       "    </tr>\n",
       "    <tr>\n",
       "      <th>IsActiveMember</th>\n",
       "      <td>10000.0</td>\n",
       "      <td>5.151000e-01</td>\n",
       "      <td>0.499797</td>\n",
       "      <td>0.00</td>\n",
       "      <td>0.00</td>\n",
       "      <td>1.000000e+00</td>\n",
       "      <td>1.000000e+00</td>\n",
       "      <td>1.00</td>\n",
       "    </tr>\n",
       "    <tr>\n",
       "      <th>EstimatedSalary</th>\n",
       "      <td>10000.0</td>\n",
       "      <td>1.000902e+05</td>\n",
       "      <td>57510.492818</td>\n",
       "      <td>11.58</td>\n",
       "      <td>51002.11</td>\n",
       "      <td>1.001939e+05</td>\n",
       "      <td>1.493882e+05</td>\n",
       "      <td>199992.48</td>\n",
       "    </tr>\n",
       "    <tr>\n",
       "      <th>Exited</th>\n",
       "      <td>10000.0</td>\n",
       "      <td>2.037000e-01</td>\n",
       "      <td>0.402769</td>\n",
       "      <td>0.00</td>\n",
       "      <td>0.00</td>\n",
       "      <td>0.000000e+00</td>\n",
       "      <td>0.000000e+00</td>\n",
       "      <td>1.00</td>\n",
       "    </tr>\n",
       "  </tbody>\n",
       "</table>\n",
       "</div>"
      ],
      "text/plain": [
       "                   count          mean           std          min  \\\n",
       "RowNumber        10000.0  5.000500e+03   2886.895680         1.00   \n",
       "CustomerId       10000.0  1.569094e+07  71936.186123  15565701.00   \n",
       "CreditScore      10000.0  6.505288e+02     96.653299       350.00   \n",
       "Age              10000.0  3.892180e+01     10.487806        18.00   \n",
       "Tenure            9091.0  4.997690e+00      2.894723         0.00   \n",
       "Balance          10000.0  7.648589e+04  62397.405202         0.00   \n",
       "NumOfProducts    10000.0  1.530200e+00      0.581654         1.00   \n",
       "HasCrCard        10000.0  7.055000e-01      0.455840         0.00   \n",
       "IsActiveMember   10000.0  5.151000e-01      0.499797         0.00   \n",
       "EstimatedSalary  10000.0  1.000902e+05  57510.492818        11.58   \n",
       "Exited           10000.0  2.037000e-01      0.402769         0.00   \n",
       "\n",
       "                         25%           50%           75%          max  \n",
       "RowNumber            2500.75  5.000500e+03  7.500250e+03     10000.00  \n",
       "CustomerId       15628528.25  1.569074e+07  1.575323e+07  15815690.00  \n",
       "CreditScore           584.00  6.520000e+02  7.180000e+02       850.00  \n",
       "Age                    32.00  3.700000e+01  4.400000e+01        92.00  \n",
       "Tenure                  2.00  5.000000e+00  7.000000e+00        10.00  \n",
       "Balance                 0.00  9.719854e+04  1.276442e+05    250898.09  \n",
       "NumOfProducts           1.00  1.000000e+00  2.000000e+00         4.00  \n",
       "HasCrCard               0.00  1.000000e+00  1.000000e+00         1.00  \n",
       "IsActiveMember          0.00  1.000000e+00  1.000000e+00         1.00  \n",
       "EstimatedSalary     51002.11  1.001939e+05  1.493882e+05    199992.48  \n",
       "Exited                  0.00  0.000000e+00  0.000000e+00         1.00  "
      ]
     },
     "metadata": {},
     "output_type": "display_data"
    },
    {
     "data": {
      "text/html": [
       "<div>\n",
       "<style scoped>\n",
       "    .dataframe tbody tr th:only-of-type {\n",
       "        vertical-align: middle;\n",
       "    }\n",
       "\n",
       "    .dataframe tbody tr th {\n",
       "        vertical-align: top;\n",
       "    }\n",
       "\n",
       "    .dataframe thead th {\n",
       "        text-align: right;\n",
       "    }\n",
       "</style>\n",
       "<table border=\"1\" class=\"dataframe\">\n",
       "  <thead>\n",
       "    <tr style=\"text-align: right;\">\n",
       "      <th></th>\n",
       "      <th>RowNumber</th>\n",
       "      <th>CustomerId</th>\n",
       "      <th>Surname</th>\n",
       "      <th>CreditScore</th>\n",
       "      <th>Geography</th>\n",
       "      <th>Gender</th>\n",
       "      <th>Age</th>\n",
       "      <th>Tenure</th>\n",
       "      <th>Balance</th>\n",
       "      <th>NumOfProducts</th>\n",
       "      <th>HasCrCard</th>\n",
       "      <th>IsActiveMember</th>\n",
       "      <th>EstimatedSalary</th>\n",
       "      <th>Exited</th>\n",
       "    </tr>\n",
       "  </thead>\n",
       "  <tbody>\n",
       "    <tr>\n",
       "      <th>6502</th>\n",
       "      <td>6503</td>\n",
       "      <td>15590286</td>\n",
       "      <td>Fairley</td>\n",
       "      <td>611</td>\n",
       "      <td>France</td>\n",
       "      <td>Female</td>\n",
       "      <td>40</td>\n",
       "      <td>2.0</td>\n",
       "      <td>125879.29</td>\n",
       "      <td>1</td>\n",
       "      <td>1</td>\n",
       "      <td>0</td>\n",
       "      <td>93203.43</td>\n",
       "      <td>0</td>\n",
       "    </tr>\n",
       "    <tr>\n",
       "      <th>8488</th>\n",
       "      <td>8489</td>\n",
       "      <td>15794360</td>\n",
       "      <td>Hao</td>\n",
       "      <td>592</td>\n",
       "      <td>Germany</td>\n",
       "      <td>Female</td>\n",
       "      <td>70</td>\n",
       "      <td>5.0</td>\n",
       "      <td>71816.74</td>\n",
       "      <td>2</td>\n",
       "      <td>1</td>\n",
       "      <td>0</td>\n",
       "      <td>105096.82</td>\n",
       "      <td>1</td>\n",
       "    </tr>\n",
       "    <tr>\n",
       "      <th>6211</th>\n",
       "      <td>6212</td>\n",
       "      <td>15793116</td>\n",
       "      <td>Beneventi</td>\n",
       "      <td>502</td>\n",
       "      <td>Germany</td>\n",
       "      <td>Female</td>\n",
       "      <td>40</td>\n",
       "      <td>7.0</td>\n",
       "      <td>117304.29</td>\n",
       "      <td>1</td>\n",
       "      <td>0</td>\n",
       "      <td>0</td>\n",
       "      <td>196278.32</td>\n",
       "      <td>0</td>\n",
       "    </tr>\n",
       "    <tr>\n",
       "      <th>5474</th>\n",
       "      <td>5475</td>\n",
       "      <td>15696277</td>\n",
       "      <td>Hs?</td>\n",
       "      <td>651</td>\n",
       "      <td>France</td>\n",
       "      <td>Female</td>\n",
       "      <td>34</td>\n",
       "      <td>9.0</td>\n",
       "      <td>0.00</td>\n",
       "      <td>2</td>\n",
       "      <td>1</td>\n",
       "      <td>0</td>\n",
       "      <td>138113.71</td>\n",
       "      <td>0</td>\n",
       "    </tr>\n",
       "    <tr>\n",
       "      <th>3113</th>\n",
       "      <td>3114</td>\n",
       "      <td>15779529</td>\n",
       "      <td>Grant</td>\n",
       "      <td>620</td>\n",
       "      <td>France</td>\n",
       "      <td>Male</td>\n",
       "      <td>32</td>\n",
       "      <td>7.0</td>\n",
       "      <td>0.00</td>\n",
       "      <td>2</td>\n",
       "      <td>1</td>\n",
       "      <td>1</td>\n",
       "      <td>34665.79</td>\n",
       "      <td>0</td>\n",
       "    </tr>\n",
       "    <tr>\n",
       "      <th>3065</th>\n",
       "      <td>3066</td>\n",
       "      <td>15614827</td>\n",
       "      <td>Sun</td>\n",
       "      <td>503</td>\n",
       "      <td>France</td>\n",
       "      <td>Male</td>\n",
       "      <td>42</td>\n",
       "      <td>8.0</td>\n",
       "      <td>104430.08</td>\n",
       "      <td>1</td>\n",
       "      <td>1</td>\n",
       "      <td>1</td>\n",
       "      <td>147557.71</td>\n",
       "      <td>0</td>\n",
       "    </tr>\n",
       "    <tr>\n",
       "      <th>2604</th>\n",
       "      <td>2605</td>\n",
       "      <td>15643752</td>\n",
       "      <td>Wei</td>\n",
       "      <td>540</td>\n",
       "      <td>France</td>\n",
       "      <td>Male</td>\n",
       "      <td>25</td>\n",
       "      <td>5.0</td>\n",
       "      <td>116160.23</td>\n",
       "      <td>1</td>\n",
       "      <td>1</td>\n",
       "      <td>0</td>\n",
       "      <td>13411.67</td>\n",
       "      <td>0</td>\n",
       "    </tr>\n",
       "    <tr>\n",
       "      <th>5678</th>\n",
       "      <td>5679</td>\n",
       "      <td>15732265</td>\n",
       "      <td>Obialo</td>\n",
       "      <td>630</td>\n",
       "      <td>France</td>\n",
       "      <td>Male</td>\n",
       "      <td>33</td>\n",
       "      <td>9.0</td>\n",
       "      <td>0.00</td>\n",
       "      <td>2</td>\n",
       "      <td>1</td>\n",
       "      <td>0</td>\n",
       "      <td>64804.59</td>\n",
       "      <td>0</td>\n",
       "    </tr>\n",
       "    <tr>\n",
       "      <th>3316</th>\n",
       "      <td>3317</td>\n",
       "      <td>15758116</td>\n",
       "      <td>Rossi</td>\n",
       "      <td>666</td>\n",
       "      <td>France</td>\n",
       "      <td>Male</td>\n",
       "      <td>53</td>\n",
       "      <td>5.0</td>\n",
       "      <td>64646.70</td>\n",
       "      <td>1</td>\n",
       "      <td>1</td>\n",
       "      <td>0</td>\n",
       "      <td>128019.48</td>\n",
       "      <td>1</td>\n",
       "    </tr>\n",
       "    <tr>\n",
       "      <th>9160</th>\n",
       "      <td>9161</td>\n",
       "      <td>15753679</td>\n",
       "      <td>Mullawirraburka</td>\n",
       "      <td>778</td>\n",
       "      <td>France</td>\n",
       "      <td>Male</td>\n",
       "      <td>24</td>\n",
       "      <td>4.0</td>\n",
       "      <td>0.00</td>\n",
       "      <td>2</td>\n",
       "      <td>1</td>\n",
       "      <td>1</td>\n",
       "      <td>162809.20</td>\n",
       "      <td>0</td>\n",
       "    </tr>\n",
       "  </tbody>\n",
       "</table>\n",
       "</div>"
      ],
      "text/plain": [
       "      RowNumber  CustomerId          Surname  CreditScore Geography  Gender  \\\n",
       "6502       6503    15590286          Fairley          611    France  Female   \n",
       "8488       8489    15794360              Hao          592   Germany  Female   \n",
       "6211       6212    15793116        Beneventi          502   Germany  Female   \n",
       "5474       5475    15696277              Hs?          651    France  Female   \n",
       "3113       3114    15779529            Grant          620    France    Male   \n",
       "3065       3066    15614827              Sun          503    France    Male   \n",
       "2604       2605    15643752              Wei          540    France    Male   \n",
       "5678       5679    15732265           Obialo          630    France    Male   \n",
       "3316       3317    15758116            Rossi          666    France    Male   \n",
       "9160       9161    15753679  Mullawirraburka          778    France    Male   \n",
       "\n",
       "      Age  Tenure    Balance  NumOfProducts  HasCrCard  IsActiveMember  \\\n",
       "6502   40     2.0  125879.29              1          1               0   \n",
       "8488   70     5.0   71816.74              2          1               0   \n",
       "6211   40     7.0  117304.29              1          0               0   \n",
       "5474   34     9.0       0.00              2          1               0   \n",
       "3113   32     7.0       0.00              2          1               1   \n",
       "3065   42     8.0  104430.08              1          1               1   \n",
       "2604   25     5.0  116160.23              1          1               0   \n",
       "5678   33     9.0       0.00              2          1               0   \n",
       "3316   53     5.0   64646.70              1          1               0   \n",
       "9160   24     4.0       0.00              2          1               1   \n",
       "\n",
       "      EstimatedSalary  Exited  \n",
       "6502         93203.43       0  \n",
       "8488        105096.82       1  \n",
       "6211        196278.32       0  \n",
       "5474        138113.71       0  \n",
       "3113         34665.79       0  \n",
       "3065        147557.71       0  \n",
       "2604         13411.67       0  \n",
       "5678         64804.59       0  \n",
       "3316        128019.48       1  \n",
       "9160        162809.20       0  "
      ]
     },
     "metadata": {},
     "output_type": "display_data"
    },
    {
     "name": "stdout",
     "output_type": "stream",
     "text": [
      "Количество дубликатов: 0\n"
     ]
    }
   ],
   "source": [
    "def df_info(df: pd.DataFrame):\n",
    "    display(df.info())\n",
    "    display(df.describe().T)\n",
    "    display(df.sample(10))\n",
    "    print(f\"Количество дубликатов: {df.duplicated().sum()}\")\n",
    "df_info (df)"
   ]
  },
  {
   "cell_type": "markdown",
   "metadata": {},
   "source": [
    "#### Вывод:\n",
    "В столбце Tenure есть значения NaN. Исправим эту ситуацию.\n"
   ]
  },
  {
   "cell_type": "markdown",
   "metadata": {},
   "source": [
    "### Заполняем значения NaN."
   ]
  },
  {
   "cell_type": "markdown",
   "metadata": {},
   "source": [
    "#### Смотрим как распределены значения."
   ]
  },
  {
   "cell_type": "code",
   "execution_count": 4,
   "metadata": {},
   "outputs": [
    {
     "data": {
      "text/plain": [
       "1.0     952\n",
       "2.0     950\n",
       "8.0     933\n",
       "3.0     928\n",
       "5.0     927\n",
       "7.0     925\n",
       "4.0     885\n",
       "9.0     882\n",
       "6.0     881\n",
       "10.0    446\n",
       "0.0     382\n",
       "Name: Tenure, dtype: int64"
      ]
     },
     "execution_count": 4,
     "metadata": {},
     "output_type": "execute_result"
    }
   ],
   "source": [
    "df['Tenure'].value_counts()"
   ]
  },
  {
   "cell_type": "markdown",
   "metadata": {},
   "source": [
    "#### Принимаем решение заполнить значения NaN случайными данными из списка существующих значений."
   ]
  },
  {
   "cell_type": "code",
   "execution_count": 5,
   "metadata": {},
   "outputs": [],
   "source": [
    "med = df['Tenure'].median()\n",
    "def Replacing_median (temp):\n",
    "    if isnan(temp):return med\n",
    "    else: return temp\n",
    "    \n",
    "df['Tenure'] = df['Tenure'].apply(Replacing_median)"
   ]
  },
  {
   "cell_type": "markdown",
   "metadata": {},
   "source": [
    "#### Проверяем результат"
   ]
  },
  {
   "cell_type": "code",
   "execution_count": 6,
   "metadata": {},
   "outputs": [
    {
     "data": {
      "text/plain": [
       "5.0     1836\n",
       "1.0      952\n",
       "2.0      950\n",
       "8.0      933\n",
       "3.0      928\n",
       "7.0      925\n",
       "4.0      885\n",
       "9.0      882\n",
       "6.0      881\n",
       "10.0     446\n",
       "0.0      382\n",
       "Name: Tenure, dtype: int64"
      ]
     },
     "execution_count": 6,
     "metadata": {},
     "output_type": "execute_result"
    }
   ],
   "source": [
    "df['Tenure'].value_counts()"
   ]
  },
  {
   "cell_type": "markdown",
   "metadata": {},
   "source": [
    "### Убираем не нужные в обучении модели столбцы (индекс строки в данных, уникальный идентификатор клиента, фамилия) "
   ]
  },
  {
   "cell_type": "code",
   "execution_count": 7,
   "metadata": {},
   "outputs": [],
   "source": [
    "df = df.drop(['Surname','RowNumber','CustomerId'], axis=1)"
   ]
  },
  {
   "cell_type": "markdown",
   "metadata": {},
   "source": [
    "### Выполняем унитарное кодирование (One Hot Encoding)"
   ]
  },
  {
   "cell_type": "code",
   "execution_count": 8,
   "metadata": {},
   "outputs": [],
   "source": [
    "df = pd.get_dummies(df, columns=[\"Geography\", \"Gender\"], drop_first=True)"
   ]
  },
  {
   "cell_type": "markdown",
   "metadata": {},
   "source": [
    "### Смотрим что получилось "
   ]
  },
  {
   "cell_type": "code",
   "execution_count": 11,
   "metadata": {},
   "outputs": [
    {
     "data": {
      "text/html": [
       "<div>\n",
       "<style scoped>\n",
       "    .dataframe tbody tr th:only-of-type {\n",
       "        vertical-align: middle;\n",
       "    }\n",
       "\n",
       "    .dataframe tbody tr th {\n",
       "        vertical-align: top;\n",
       "    }\n",
       "\n",
       "    .dataframe thead th {\n",
       "        text-align: right;\n",
       "    }\n",
       "</style>\n",
       "<table border=\"1\" class=\"dataframe\">\n",
       "  <thead>\n",
       "    <tr style=\"text-align: right;\">\n",
       "      <th></th>\n",
       "      <th>CreditScore</th>\n",
       "      <th>Age</th>\n",
       "      <th>Tenure</th>\n",
       "      <th>Balance</th>\n",
       "      <th>NumOfProducts</th>\n",
       "      <th>HasCrCard</th>\n",
       "      <th>IsActiveMember</th>\n",
       "      <th>EstimatedSalary</th>\n",
       "      <th>Exited</th>\n",
       "      <th>Geography_Germany</th>\n",
       "      <th>Geography_Spain</th>\n",
       "      <th>Gender_Male</th>\n",
       "    </tr>\n",
       "  </thead>\n",
       "  <tbody>\n",
       "    <tr>\n",
       "      <th>0</th>\n",
       "      <td>619</td>\n",
       "      <td>42</td>\n",
       "      <td>2.0</td>\n",
       "      <td>0.00</td>\n",
       "      <td>1</td>\n",
       "      <td>1</td>\n",
       "      <td>1</td>\n",
       "      <td>101348.88</td>\n",
       "      <td>1</td>\n",
       "      <td>0</td>\n",
       "      <td>0</td>\n",
       "      <td>0</td>\n",
       "    </tr>\n",
       "    <tr>\n",
       "      <th>1</th>\n",
       "      <td>608</td>\n",
       "      <td>41</td>\n",
       "      <td>1.0</td>\n",
       "      <td>83807.86</td>\n",
       "      <td>1</td>\n",
       "      <td>0</td>\n",
       "      <td>1</td>\n",
       "      <td>112542.58</td>\n",
       "      <td>0</td>\n",
       "      <td>0</td>\n",
       "      <td>1</td>\n",
       "      <td>0</td>\n",
       "    </tr>\n",
       "    <tr>\n",
       "      <th>2</th>\n",
       "      <td>502</td>\n",
       "      <td>42</td>\n",
       "      <td>8.0</td>\n",
       "      <td>159660.80</td>\n",
       "      <td>3</td>\n",
       "      <td>1</td>\n",
       "      <td>0</td>\n",
       "      <td>113931.57</td>\n",
       "      <td>1</td>\n",
       "      <td>0</td>\n",
       "      <td>0</td>\n",
       "      <td>0</td>\n",
       "    </tr>\n",
       "    <tr>\n",
       "      <th>3</th>\n",
       "      <td>699</td>\n",
       "      <td>39</td>\n",
       "      <td>1.0</td>\n",
       "      <td>0.00</td>\n",
       "      <td>2</td>\n",
       "      <td>0</td>\n",
       "      <td>0</td>\n",
       "      <td>93826.63</td>\n",
       "      <td>0</td>\n",
       "      <td>0</td>\n",
       "      <td>0</td>\n",
       "      <td>0</td>\n",
       "    </tr>\n",
       "    <tr>\n",
       "      <th>4</th>\n",
       "      <td>850</td>\n",
       "      <td>43</td>\n",
       "      <td>2.0</td>\n",
       "      <td>125510.82</td>\n",
       "      <td>1</td>\n",
       "      <td>1</td>\n",
       "      <td>1</td>\n",
       "      <td>79084.10</td>\n",
       "      <td>0</td>\n",
       "      <td>0</td>\n",
       "      <td>1</td>\n",
       "      <td>0</td>\n",
       "    </tr>\n",
       "    <tr>\n",
       "      <th>...</th>\n",
       "      <td>...</td>\n",
       "      <td>...</td>\n",
       "      <td>...</td>\n",
       "      <td>...</td>\n",
       "      <td>...</td>\n",
       "      <td>...</td>\n",
       "      <td>...</td>\n",
       "      <td>...</td>\n",
       "      <td>...</td>\n",
       "      <td>...</td>\n",
       "      <td>...</td>\n",
       "      <td>...</td>\n",
       "    </tr>\n",
       "    <tr>\n",
       "      <th>9995</th>\n",
       "      <td>771</td>\n",
       "      <td>39</td>\n",
       "      <td>5.0</td>\n",
       "      <td>0.00</td>\n",
       "      <td>2</td>\n",
       "      <td>1</td>\n",
       "      <td>0</td>\n",
       "      <td>96270.64</td>\n",
       "      <td>0</td>\n",
       "      <td>0</td>\n",
       "      <td>0</td>\n",
       "      <td>1</td>\n",
       "    </tr>\n",
       "    <tr>\n",
       "      <th>9996</th>\n",
       "      <td>516</td>\n",
       "      <td>35</td>\n",
       "      <td>10.0</td>\n",
       "      <td>57369.61</td>\n",
       "      <td>1</td>\n",
       "      <td>1</td>\n",
       "      <td>1</td>\n",
       "      <td>101699.77</td>\n",
       "      <td>0</td>\n",
       "      <td>0</td>\n",
       "      <td>0</td>\n",
       "      <td>1</td>\n",
       "    </tr>\n",
       "    <tr>\n",
       "      <th>9997</th>\n",
       "      <td>709</td>\n",
       "      <td>36</td>\n",
       "      <td>7.0</td>\n",
       "      <td>0.00</td>\n",
       "      <td>1</td>\n",
       "      <td>0</td>\n",
       "      <td>1</td>\n",
       "      <td>42085.58</td>\n",
       "      <td>1</td>\n",
       "      <td>0</td>\n",
       "      <td>0</td>\n",
       "      <td>0</td>\n",
       "    </tr>\n",
       "    <tr>\n",
       "      <th>9998</th>\n",
       "      <td>772</td>\n",
       "      <td>42</td>\n",
       "      <td>3.0</td>\n",
       "      <td>75075.31</td>\n",
       "      <td>2</td>\n",
       "      <td>1</td>\n",
       "      <td>0</td>\n",
       "      <td>92888.52</td>\n",
       "      <td>1</td>\n",
       "      <td>1</td>\n",
       "      <td>0</td>\n",
       "      <td>1</td>\n",
       "    </tr>\n",
       "    <tr>\n",
       "      <th>9999</th>\n",
       "      <td>792</td>\n",
       "      <td>28</td>\n",
       "      <td>5.0</td>\n",
       "      <td>130142.79</td>\n",
       "      <td>1</td>\n",
       "      <td>1</td>\n",
       "      <td>0</td>\n",
       "      <td>38190.78</td>\n",
       "      <td>0</td>\n",
       "      <td>0</td>\n",
       "      <td>0</td>\n",
       "      <td>0</td>\n",
       "    </tr>\n",
       "  </tbody>\n",
       "</table>\n",
       "<p>10000 rows × 12 columns</p>\n",
       "</div>"
      ],
      "text/plain": [
       "      CreditScore  Age  Tenure    Balance  NumOfProducts  HasCrCard  \\\n",
       "0             619   42     2.0       0.00              1          1   \n",
       "1             608   41     1.0   83807.86              1          0   \n",
       "2             502   42     8.0  159660.80              3          1   \n",
       "3             699   39     1.0       0.00              2          0   \n",
       "4             850   43     2.0  125510.82              1          1   \n",
       "...           ...  ...     ...        ...            ...        ...   \n",
       "9995          771   39     5.0       0.00              2          1   \n",
       "9996          516   35    10.0   57369.61              1          1   \n",
       "9997          709   36     7.0       0.00              1          0   \n",
       "9998          772   42     3.0   75075.31              2          1   \n",
       "9999          792   28     5.0  130142.79              1          1   \n",
       "\n",
       "      IsActiveMember  EstimatedSalary  Exited  Geography_Germany  \\\n",
       "0                  1        101348.88       1                  0   \n",
       "1                  1        112542.58       0                  0   \n",
       "2                  0        113931.57       1                  0   \n",
       "3                  0         93826.63       0                  0   \n",
       "4                  1         79084.10       0                  0   \n",
       "...              ...              ...     ...                ...   \n",
       "9995               0         96270.64       0                  0   \n",
       "9996               1        101699.77       0                  0   \n",
       "9997               1         42085.58       1                  0   \n",
       "9998               0         92888.52       1                  1   \n",
       "9999               0         38190.78       0                  0   \n",
       "\n",
       "      Geography_Spain  Gender_Male  \n",
       "0                   0            0  \n",
       "1                   1            0  \n",
       "2                   0            0  \n",
       "3                   0            0  \n",
       "4                   1            0  \n",
       "...               ...          ...  \n",
       "9995                0            1  \n",
       "9996                0            1  \n",
       "9997                0            0  \n",
       "9998                0            1  \n",
       "9999                0            0  \n",
       "\n",
       "[10000 rows x 12 columns]"
      ]
     },
     "execution_count": 11,
     "metadata": {},
     "output_type": "execute_result"
    }
   ],
   "source": [
    "df"
   ]
  },
  {
   "cell_type": "markdown",
   "metadata": {},
   "source": [
    "### Вывод\n",
    "Данные подготовлены. Можно приступать к обучению модели.\n",
    "Во время подготовки данных мы избавились от NaN значений, убрали не нужные в обучении модели столбцы и выполнили унитарное кодирование (One Hot Encoding).\n",
    "\n"
   ]
  },
  {
   "cell_type": "markdown",
   "metadata": {},
   "source": [
    "## Исследование задачи"
   ]
  },
  {
   "cell_type": "markdown",
   "metadata": {},
   "source": [
    "### Разделим данные на обучающие, валидационные и тестовые."
   ]
  },
  {
   "cell_type": "code",
   "execution_count": 12,
   "metadata": {},
   "outputs": [],
   "source": [
    "df_temp, df_test = train_test_split(df, test_size=0.2, random_state=12345)\n",
    "df_train, df_valid = train_test_split(df_temp, test_size=0.25, random_state=12345)\n",
    "\n",
    "features_train = df_train.drop(['Exited'], axis=1)\n",
    "target_train = df_train['Exited']\n",
    "features_valid = df_valid.drop(['Exited'], axis=1)\n",
    "target_valid = df_valid['Exited']\n",
    "features_test = df_test.drop(['Exited'], axis=1)\n",
    "target_test = df_test['Exited']"
   ]
  },
  {
   "cell_type": "markdown",
   "metadata": {},
   "source": [
    "#### Проверяем размерность."
   ]
  },
  {
   "cell_type": "code",
   "execution_count": 13,
   "metadata": {},
   "outputs": [
    {
     "name": "stdout",
     "output_type": "stream",
     "text": [
      "features_train имеет размерность: (6000, 11)\n",
      "target_train имеет размерность: (6000,)\n",
      "features_valid имеет размерность: (2000, 11)\n",
      "target_valid имеет размерность: (2000,)\n",
      "features_test имеет размерность: (2000, 11)\n",
      "target_test имеет размерность: (2000,)\n"
     ]
    }
   ],
   "source": [
    "print ('features_train имеет размерность:', features_train.shape)\n",
    "print ('target_train имеет размерность:', target_train.shape)\n",
    "print ('features_valid имеет размерность:', features_valid.shape)\n",
    "print ('target_valid имеет размерность:', target_valid.shape)\n",
    "print ('features_test имеет размерность:', features_test.shape)\n",
    "print ('target_test имеет размерность:', target_test.shape)"
   ]
  },
  {
   "cell_type": "markdown",
   "metadata": {},
   "source": [
    "#### Вывод:\n",
    "Выборки успешно разделены.\n"
   ]
  },
  {
   "cell_type": "markdown",
   "metadata": {},
   "source": [
    "### Масштабируем признаки "
   ]
  },
  {
   "cell_type": "code",
   "execution_count": 14,
   "metadata": {},
   "outputs": [],
   "source": [
    "numeric = ['CreditScore', 'Age', 'Tenure', 'Balance', 'NumOfProducts', 'EstimatedSalary']\n",
    "scaler = StandardScaler()\n",
    "\n",
    "\n",
    "scaler.fit(features_train[numeric]) \n",
    "features_train[numeric] = scaler.transform(features_train[numeric])\n",
    "features_valid[numeric] = scaler.transform(features_valid[numeric])\n",
    "features_test[numeric] = scaler.transform(features_test[numeric])"
   ]
  },
  {
   "cell_type": "markdown",
   "metadata": {},
   "source": [
    "#### Смотрим что получилось "
   ]
  },
  {
   "cell_type": "code",
   "execution_count": 15,
   "metadata": {},
   "outputs": [
    {
     "data": {
      "text/html": [
       "<div>\n",
       "<style scoped>\n",
       "    .dataframe tbody tr th:only-of-type {\n",
       "        vertical-align: middle;\n",
       "    }\n",
       "\n",
       "    .dataframe tbody tr th {\n",
       "        vertical-align: top;\n",
       "    }\n",
       "\n",
       "    .dataframe thead th {\n",
       "        text-align: right;\n",
       "    }\n",
       "</style>\n",
       "<table border=\"1\" class=\"dataframe\">\n",
       "  <thead>\n",
       "    <tr style=\"text-align: right;\">\n",
       "      <th></th>\n",
       "      <th>CreditScore</th>\n",
       "      <th>Age</th>\n",
       "      <th>Tenure</th>\n",
       "      <th>Balance</th>\n",
       "      <th>NumOfProducts</th>\n",
       "      <th>HasCrCard</th>\n",
       "      <th>IsActiveMember</th>\n",
       "      <th>EstimatedSalary</th>\n",
       "      <th>Geography_Germany</th>\n",
       "      <th>Geography_Spain</th>\n",
       "      <th>Gender_Male</th>\n",
       "    </tr>\n",
       "  </thead>\n",
       "  <tbody>\n",
       "    <tr>\n",
       "      <th>492</th>\n",
       "      <td>-0.134048</td>\n",
       "      <td>-0.078068</td>\n",
       "      <td>-0.369113</td>\n",
       "      <td>0.076163</td>\n",
       "      <td>0.816929</td>\n",
       "      <td>0</td>\n",
       "      <td>1</td>\n",
       "      <td>0.331571</td>\n",
       "      <td>0</td>\n",
       "      <td>0</td>\n",
       "      <td>0</td>\n",
       "    </tr>\n",
       "    <tr>\n",
       "      <th>6655</th>\n",
       "      <td>-1.010798</td>\n",
       "      <td>0.494555</td>\n",
       "      <td>-0.007415</td>\n",
       "      <td>0.136391</td>\n",
       "      <td>-0.896909</td>\n",
       "      <td>1</td>\n",
       "      <td>1</td>\n",
       "      <td>-0.727858</td>\n",
       "      <td>0</td>\n",
       "      <td>0</td>\n",
       "      <td>1</td>\n",
       "    </tr>\n",
       "    <tr>\n",
       "      <th>4287</th>\n",
       "      <td>0.639554</td>\n",
       "      <td>1.353490</td>\n",
       "      <td>-1.454209</td>\n",
       "      <td>0.358435</td>\n",
       "      <td>-0.896909</td>\n",
       "      <td>1</td>\n",
       "      <td>1</td>\n",
       "      <td>-0.477006</td>\n",
       "      <td>1</td>\n",
       "      <td>0</td>\n",
       "      <td>1</td>\n",
       "    </tr>\n",
       "    <tr>\n",
       "      <th>42</th>\n",
       "      <td>-0.990168</td>\n",
       "      <td>2.116987</td>\n",
       "      <td>-1.092511</td>\n",
       "      <td>0.651725</td>\n",
       "      <td>-0.896909</td>\n",
       "      <td>1</td>\n",
       "      <td>1</td>\n",
       "      <td>-0.100232</td>\n",
       "      <td>0</td>\n",
       "      <td>0</td>\n",
       "      <td>0</td>\n",
       "    </tr>\n",
       "    <tr>\n",
       "      <th>8178</th>\n",
       "      <td>0.567351</td>\n",
       "      <td>0.685430</td>\n",
       "      <td>0.715982</td>\n",
       "      <td>0.813110</td>\n",
       "      <td>0.816929</td>\n",
       "      <td>1</td>\n",
       "      <td>1</td>\n",
       "      <td>0.801922</td>\n",
       "      <td>0</td>\n",
       "      <td>0</td>\n",
       "      <td>0</td>\n",
       "    </tr>\n",
       "    <tr>\n",
       "      <th>...</th>\n",
       "      <td>...</td>\n",
       "      <td>...</td>\n",
       "      <td>...</td>\n",
       "      <td>...</td>\n",
       "      <td>...</td>\n",
       "      <td>...</td>\n",
       "      <td>...</td>\n",
       "      <td>...</td>\n",
       "      <td>...</td>\n",
       "      <td>...</td>\n",
       "      <td>...</td>\n",
       "    </tr>\n",
       "    <tr>\n",
       "      <th>8819</th>\n",
       "      <td>-0.618839</td>\n",
       "      <td>-0.268942</td>\n",
       "      <td>1.801078</td>\n",
       "      <td>0.744283</td>\n",
       "      <td>-0.896909</td>\n",
       "      <td>0</td>\n",
       "      <td>1</td>\n",
       "      <td>0.803658</td>\n",
       "      <td>1</td>\n",
       "      <td>0</td>\n",
       "      <td>1</td>\n",
       "    </tr>\n",
       "    <tr>\n",
       "      <th>1537</th>\n",
       "      <td>1.743227</td>\n",
       "      <td>-1.032439</td>\n",
       "      <td>1.077681</td>\n",
       "      <td>-1.232442</td>\n",
       "      <td>-0.896909</td>\n",
       "      <td>1</td>\n",
       "      <td>1</td>\n",
       "      <td>-1.098797</td>\n",
       "      <td>0</td>\n",
       "      <td>0</td>\n",
       "      <td>0</td>\n",
       "    </tr>\n",
       "    <tr>\n",
       "      <th>1408</th>\n",
       "      <td>0.567351</td>\n",
       "      <td>-0.650691</td>\n",
       "      <td>1.439380</td>\n",
       "      <td>-1.232442</td>\n",
       "      <td>0.816929</td>\n",
       "      <td>0</td>\n",
       "      <td>0</td>\n",
       "      <td>-1.202257</td>\n",
       "      <td>0</td>\n",
       "      <td>0</td>\n",
       "      <td>1</td>\n",
       "    </tr>\n",
       "    <tr>\n",
       "      <th>7661</th>\n",
       "      <td>-0.412545</td>\n",
       "      <td>0.494555</td>\n",
       "      <td>-1.092511</td>\n",
       "      <td>0.615524</td>\n",
       "      <td>-0.896909</td>\n",
       "      <td>1</td>\n",
       "      <td>1</td>\n",
       "      <td>-0.038931</td>\n",
       "      <td>1</td>\n",
       "      <td>0</td>\n",
       "      <td>1</td>\n",
       "    </tr>\n",
       "    <tr>\n",
       "      <th>3295</th>\n",
       "      <td>1.052142</td>\n",
       "      <td>-1.891374</td>\n",
       "      <td>1.439380</td>\n",
       "      <td>-1.232442</td>\n",
       "      <td>-0.896909</td>\n",
       "      <td>1</td>\n",
       "      <td>0</td>\n",
       "      <td>1.560932</td>\n",
       "      <td>0</td>\n",
       "      <td>1</td>\n",
       "      <td>0</td>\n",
       "    </tr>\n",
       "  </tbody>\n",
       "</table>\n",
       "<p>6000 rows × 11 columns</p>\n",
       "</div>"
      ],
      "text/plain": [
       "      CreditScore       Age    Tenure   Balance  NumOfProducts  HasCrCard  \\\n",
       "492     -0.134048 -0.078068 -0.369113  0.076163       0.816929          0   \n",
       "6655    -1.010798  0.494555 -0.007415  0.136391      -0.896909          1   \n",
       "4287     0.639554  1.353490 -1.454209  0.358435      -0.896909          1   \n",
       "42      -0.990168  2.116987 -1.092511  0.651725      -0.896909          1   \n",
       "8178     0.567351  0.685430  0.715982  0.813110       0.816929          1   \n",
       "...           ...       ...       ...       ...            ...        ...   \n",
       "8819    -0.618839 -0.268942  1.801078  0.744283      -0.896909          0   \n",
       "1537     1.743227 -1.032439  1.077681 -1.232442      -0.896909          1   \n",
       "1408     0.567351 -0.650691  1.439380 -1.232442       0.816929          0   \n",
       "7661    -0.412545  0.494555 -1.092511  0.615524      -0.896909          1   \n",
       "3295     1.052142 -1.891374  1.439380 -1.232442      -0.896909          1   \n",
       "\n",
       "      IsActiveMember  EstimatedSalary  Geography_Germany  Geography_Spain  \\\n",
       "492                1         0.331571                  0                0   \n",
       "6655               1        -0.727858                  0                0   \n",
       "4287               1        -0.477006                  1                0   \n",
       "42                 1        -0.100232                  0                0   \n",
       "8178               1         0.801922                  0                0   \n",
       "...              ...              ...                ...              ...   \n",
       "8819               1         0.803658                  1                0   \n",
       "1537               1        -1.098797                  0                0   \n",
       "1408               0        -1.202257                  0                0   \n",
       "7661               1        -0.038931                  1                0   \n",
       "3295               0         1.560932                  0                1   \n",
       "\n",
       "      Gender_Male  \n",
       "492             0  \n",
       "6655            1  \n",
       "4287            1  \n",
       "42              0  \n",
       "8178            0  \n",
       "...           ...  \n",
       "8819            1  \n",
       "1537            0  \n",
       "1408            1  \n",
       "7661            1  \n",
       "3295            0  \n",
       "\n",
       "[6000 rows x 11 columns]"
      ]
     },
     "execution_count": 15,
     "metadata": {},
     "output_type": "execute_result"
    }
   ],
   "source": [
    "features_train"
   ]
  },
  {
   "cell_type": "markdown",
   "metadata": {},
   "source": [
    "####  Вывод:\n",
    "Данные готовы. Переходим к обучению модели."
   ]
  },
  {
   "cell_type": "markdown",
   "metadata": {},
   "source": [
    "### Модель «Дерево решений»"
   ]
  },
  {
   "cell_type": "markdown",
   "metadata": {},
   "source": [
    "Сравниваем эффективность данной модели на различной глубине."
   ]
  },
  {
   "cell_type": "code",
   "execution_count": 16,
   "metadata": {},
   "outputs": [
    {
     "name": "stdout",
     "output_type": "stream",
     "text": [
      "Лучшее значение F1-меры получено с параметром max_depth = 7 , и составляет 0.5583596214511041\n",
      "Значение auc_roc = 0.49171543806417123\n"
     ]
    }
   ],
   "source": [
    "depth_temp = 0\n",
    "f1_temp = 0\n",
    "best_model = None\n",
    "\n",
    "for depth in range(1, 16, 1):\n",
    "    model = DecisionTreeClassifier(random_state=12345, max_depth=depth)\n",
    "    model.fit(features_train, target_train)\n",
    "    predictions_valid = model.predict(features_valid)\n",
    "    result = f1_score(target_valid, predictions_valid)\n",
    "    if result > f1_temp:\n",
    "        f1_temp = result\n",
    "        depth_temp = depth\n",
    "        best_model = model\n",
    "print('Лучшее значение F1-меры получено с параметром max_depth =', depth_temp,', и составляет', f1_temp)\n",
    "\n",
    "probabilities_valid = best_model.predict_proba(features_valid)\n",
    "probabilities_one_valid = probabilities_valid[:, 1]\n",
    "auc_roc = roc_auc_score(target_valid, probabilities_one_valid)\n",
    "print('Значение auc_roc =', auc_roc)\n",
    "\n",
    "df_f1_roc_auc = pd.DataFrame({'name': ['Модель «Дерево решений»'], 'f1': [f1_temp], 'roc_auc': [auc_roc]})\n"
   ]
  },
  {
   "cell_type": "markdown",
   "metadata": {},
   "source": [
    "#### Вывод:\n",
    "Результат неплохой, но не отличный.\n",
    "Посмотрим на остальные модели."
   ]
  },
  {
   "cell_type": "markdown",
   "metadata": {},
   "source": [
    "### Модель «Логистическая регрессия»"
   ]
  },
  {
   "cell_type": "code",
   "execution_count": 17,
   "metadata": {},
   "outputs": [
    {
     "name": "stdout",
     "output_type": "stream",
     "text": [
      "Значение F1-меры = 0.30131826741996237\n",
      "Значение auc_roc = 0.7703391568208877\n"
     ]
    }
   ],
   "source": [
    "model = LogisticRegression(random_state=12345) \n",
    "model.fit(features_train, target_train)\n",
    "predictions_valid = model.predict(features_valid)\n",
    "print('Значение F1-меры =', f1_score(target_valid, predictions_valid)) \n",
    "probabilities_valid = model.predict_proba(features_valid)\n",
    "probabilities_one_valid = probabilities_valid[:, 1]\n",
    "auc_roc = roc_auc_score(target_valid, probabilities_one_valid)\n",
    "print('Значение auc_roc =', auc_roc)\n",
    "\n",
    "df_f1_roc_auc.loc[len(df_f1_roc_auc.index)] = ['Модель «Логистическая регрессия»', f1_score(target_valid, predictions_valid), auc_roc]"
   ]
  },
  {
   "cell_type": "markdown",
   "metadata": {},
   "source": [
    "#### Вывод:\n",
    "Результат не лучший, зато метод быстрый."
   ]
  },
  {
   "cell_type": "markdown",
   "metadata": {},
   "source": [
    "### Модель «Случайный лес»"
   ]
  },
  {
   "cell_type": "markdown",
   "metadata": {},
   "source": [
    "Сравниваем эффективность данной модели на различной глубине и с разным количеством деревьев."
   ]
  },
  {
   "cell_type": "markdown",
   "metadata": {},
   "source": [
    "#### Выберем лучший параметр max_depth для этой модели"
   ]
  },
  {
   "cell_type": "code",
   "execution_count": 18,
   "metadata": {},
   "outputs": [
    {
     "name": "stdout",
     "output_type": "stream",
     "text": [
      "Лучшее значение F1-меры получено с параметром max_depth = 19 , и составляет 0.5624999999999999\n",
      "Значение auc_roc = 0.8289783014024373\n"
     ]
    }
   ],
   "source": [
    "depth_temp = 0\n",
    "f1_temp = 0\n",
    "best_model = None\n",
    "\n",
    "for depth in range(1, 30, 1):\n",
    "    model = RandomForestClassifier(n_estimators=20, max_depth=depth, random_state=12345)\n",
    "    model.fit(features_train, target_train)\n",
    "    predictions_valid = model.predict(features_valid)\n",
    "    result = f1_score(target_valid, predictions_valid)\n",
    "    if result > f1_temp:\n",
    "        f1_temp = result\n",
    "        depth_temp = depth\n",
    "        best_model = model\n",
    "print('Лучшее значение F1-меры получено с параметром max_depth =', depth_temp,', и составляет', f1_temp)\n",
    "\n",
    "probabilities_valid = best_model.predict_proba(features_valid)\n",
    "probabilities_one_valid = probabilities_valid[:, 1]\n",
    "auc_roc = roc_auc_score(target_valid, probabilities_one_valid)\n",
    "print('Значение auc_roc =', auc_roc)\n",
    "\n"
   ]
  },
  {
   "cell_type": "markdown",
   "metadata": {},
   "source": [
    "#### Выберем лучший параметр n_estimators для этой модели"
   ]
  },
  {
   "cell_type": "code",
   "execution_count": 19,
   "metadata": {},
   "outputs": [
    {
     "name": "stdout",
     "output_type": "stream",
     "text": [
      "Лучшее значение F1-меры получено с параметром n_estimators = 41 , и составляет 0.5804416403785488\n",
      "Значение auc_roc = 0.8401359679170396\n"
     ]
    }
   ],
   "source": [
    "n_e_temp = 0\n",
    "f1_temp = 0\n",
    "best_model = None\n",
    "\n",
    "for n_e in range(1, 50, 1):\n",
    "    model = RandomForestClassifier(n_estimators=n_e, max_depth=depth_temp, random_state=12345)\n",
    "    model.fit(features_train, target_train)\n",
    "    predictions_valid = model.predict(features_valid)\n",
    "    result = f1_score(target_valid, predictions_valid)\n",
    "    if result > f1_temp:\n",
    "        f1_temp = result\n",
    "        n_e_temp = n_e\n",
    "        best_model = model\n",
    "print('Лучшее значение F1-меры получено с параметром n_estimators =', n_e_temp,', и составляет', f1_temp)\n",
    "\n",
    "probabilities_valid = best_model.predict_proba(features_valid)\n",
    "probabilities_one_valid = probabilities_valid[:, 1]\n",
    "auc_roc = roc_auc_score(target_valid, probabilities_one_valid)\n",
    "print('Значение auc_roc =', auc_roc)\n",
    "\n",
    "df_f1_roc_auc.loc[len(df_f1_roc_auc.index)] = ['Модель «Случайный лес»', f1_temp, auc_roc]"
   ]
  },
  {
   "cell_type": "markdown",
   "metadata": {},
   "source": [
    "#### Вывод:\n",
    "Данная модель показала наилучшие результаты."
   ]
  },
  {
   "cell_type": "markdown",
   "metadata": {},
   "source": [
    "## Борьба с дисбалансом"
   ]
  },
  {
   "cell_type": "markdown",
   "metadata": {},
   "source": [
    "### Улучшим качество модели, учитывая дисбаланс классов. "
   ]
  },
  {
   "cell_type": "markdown",
   "metadata": {},
   "source": [
    "### Устраняем дисбаланс классов при помощи class_weight"
   ]
  },
  {
   "cell_type": "markdown",
   "metadata": {},
   "source": [
    "### Модель «Дерево решений»"
   ]
  },
  {
   "cell_type": "markdown",
   "metadata": {},
   "source": [
    "Сравниваем эффективность данной модели на различной глубине."
   ]
  },
  {
   "cell_type": "code",
   "execution_count": 20,
   "metadata": {},
   "outputs": [
    {
     "name": "stdout",
     "output_type": "stream",
     "text": [
      "Лучшее значение F1-меры получено с параметром max_depth = 6 , и составляет 0.5587044534412956\n",
      "Значение auc_roc = 0.8090671240258203\n"
     ]
    }
   ],
   "source": [
    "depth_temp = 0\n",
    "f1_temp = 0\n",
    "best_model = None\n",
    "\n",
    "for depth in range(1, 16, 1):\n",
    "    model = DecisionTreeClassifier(random_state=12345, max_depth=depth, class_weight='balanced')\n",
    "    model.fit(features_train, target_train)\n",
    "    predictions_valid = model.predict(features_valid)\n",
    "    result = f1_score(target_valid, predictions_valid)\n",
    "    if result > f1_temp:\n",
    "        f1_temp = result\n",
    "        depth_temp = depth\n",
    "        best_model = model\n",
    "print('Лучшее значение F1-меры получено с параметром max_depth =', depth_temp,', и составляет', f1_temp)\n",
    "probabilities_valid = best_model.predict_proba(features_valid)\n",
    "probabilities_one_valid = probabilities_valid[:, 1]\n",
    "auc_roc = roc_auc_score(target_valid, probabilities_one_valid)\n",
    "print('Значение auc_roc =', auc_roc)\n",
    "\n",
    "\n",
    "df_f1_roc_auc.loc[len(df_f1_roc_auc.index)] = ['Борьба с дисбалансом - class_weight', '', '']\n",
    "\n",
    "df_f1_roc_auc.loc[len(df_f1_roc_auc.index)] = ['Модель «Дерево решений»', f1_temp, auc_roc]\n"
   ]
  },
  {
   "cell_type": "markdown",
   "metadata": {},
   "source": [
    "#### Вывод:\n",
    "Результат неплохой, но не отличный.\n",
    "Посмотрим на остальные модели.\n"
   ]
  },
  {
   "cell_type": "markdown",
   "metadata": {},
   "source": [
    "### Модель «Логистическая регрессия»"
   ]
  },
  {
   "cell_type": "code",
   "execution_count": 21,
   "metadata": {},
   "outputs": [
    {
     "name": "stdout",
     "output_type": "stream",
     "text": [
      "Значение F1-меры = 0.4741532976827095\n",
      "Значение auc_roc = 0.7725660805030526\n"
     ]
    }
   ],
   "source": [
    "model = LogisticRegression(random_state=12345, solver='liblinear', class_weight='balanced') \n",
    "model.fit(features_train, target_train)\n",
    "predictions_valid = model.predict(features_valid)\n",
    "print('Значение F1-меры =', f1_score(target_valid, predictions_valid)) \n",
    "\n",
    "probabilities_valid = model.predict_proba(features_valid)\n",
    "probabilities_one_valid = probabilities_valid[:, 1]\n",
    "auc_roc = roc_auc_score(target_valid, probabilities_one_valid)\n",
    "print('Значение auc_roc =', auc_roc)\n",
    "\n",
    "df_f1_roc_auc.loc[len(df_f1_roc_auc.index)] = ['Модель «Логистическая регрессия»', f1_score(target_valid, predictions_valid), auc_roc]"
   ]
  },
  {
   "cell_type": "markdown",
   "metadata": {},
   "source": [
    "#### Вывод:\n",
    "Результат не лучший, зато метод быстрый."
   ]
  },
  {
   "cell_type": "markdown",
   "metadata": {},
   "source": [
    "### Модель «Случайный лес»"
   ]
  },
  {
   "cell_type": "markdown",
   "metadata": {},
   "source": [
    "Сравниваем эффективность данной модели на различной глубине и с разным количеством деревьев."
   ]
  },
  {
   "cell_type": "markdown",
   "metadata": {},
   "source": [
    "#### Выберем лучший параметр max_depth для этой модели"
   ]
  },
  {
   "cell_type": "code",
   "execution_count": 22,
   "metadata": {},
   "outputs": [
    {
     "name": "stdout",
     "output_type": "stream",
     "text": [
      "Лучшее значение F1-меры получено с параметром max_depth = 8 , и составляет 0.5889281507656067\n",
      "Значение auc_roc = 0.850324024548615\n"
     ]
    }
   ],
   "source": [
    "depth_temp = 0\n",
    "f1_temp = 0\n",
    "best_model = None\n",
    "\n",
    "for depth in range(1, 30, 1):\n",
    "    model = RandomForestClassifier(n_estimators=20, max_depth=depth, random_state=12345, class_weight='balanced')\n",
    "    model.fit(features_train, target_train)\n",
    "    predictions_valid = model.predict(features_valid)\n",
    "    result = f1_score(target_valid, predictions_valid)\n",
    "    if result > f1_temp:\n",
    "        f1_temp = result\n",
    "        depth_temp = depth\n",
    "        best_model = model\n",
    "print('Лучшее значение F1-меры получено с параметром max_depth =', depth_temp,', и составляет', f1_temp)\n",
    "probabilities_valid = best_model.predict_proba(features_valid)\n",
    "probabilities_one_valid = probabilities_valid[:, 1]\n",
    "auc_roc = roc_auc_score(target_valid, probabilities_one_valid)\n",
    "print('Значение auc_roc =', auc_roc)"
   ]
  },
  {
   "cell_type": "markdown",
   "metadata": {},
   "source": [
    "#### Выберем лучший параметр n_estimators для этой модели"
   ]
  },
  {
   "cell_type": "code",
   "execution_count": 23,
   "metadata": {},
   "outputs": [
    {
     "name": "stdout",
     "output_type": "stream",
     "text": [
      "Лучшее значение F1-меры получено с параметром n_estimators = 26 , и составляет 0.5951557093425606\n",
      "Значение auc_roc = 0.8512793287120561\n"
     ]
    }
   ],
   "source": [
    "n_e_temp = 0\n",
    "f1_temp = 0\n",
    "best_model_1 = None\n",
    "\n",
    "for n_e in range(1, 50, 1):\n",
    "    model = RandomForestClassifier(n_estimators=n_e, max_depth=depth_temp, random_state=12345, class_weight='balanced')\n",
    "    model.fit(features_train, target_train)\n",
    "    predictions_valid = model.predict(features_valid)\n",
    "    result = f1_score(target_valid, predictions_valid)\n",
    "    if result > f1_temp:\n",
    "        f1_temp = result\n",
    "        n_e_temp = n_e\n",
    "        best_model_1 = model\n",
    "print('Лучшее значение F1-меры получено с параметром n_estimators =', n_e_temp,', и составляет', f1_temp)\n",
    "probabilities_valid = best_model_1.predict_proba(features_valid)\n",
    "probabilities_one_valid = probabilities_valid[:, 1]\n",
    "auc_roc = roc_auc_score(target_valid, probabilities_one_valid)\n",
    "print('Значение auc_roc =', auc_roc)\n",
    "\n",
    "df_f1_roc_auc.loc[len(df_f1_roc_auc.index)] = ['Модель «Случайный лес»', f1_temp, auc_roc]"
   ]
  },
  {
   "cell_type": "markdown",
   "metadata": {},
   "source": [
    "### Борьба с дисбалансом - Увеличение выборки"
   ]
  },
  {
   "cell_type": "code",
   "execution_count": 24,
   "metadata": {},
   "outputs": [
    {
     "data": {
      "text/plain": [
       "0    7963\n",
       "1    2037\n",
       "Name: Exited, dtype: int64"
      ]
     },
     "execution_count": 24,
     "metadata": {},
     "output_type": "execute_result"
    }
   ],
   "source": [
    "df['Exited'].value_counts()"
   ]
  },
  {
   "cell_type": "markdown",
   "metadata": {},
   "source": [
    "#### Дисбаланс классов составляет примерно 4:1. Исправим ситуацию увеличив недостающий класс."
   ]
  },
  {
   "cell_type": "code",
   "execution_count": 25,
   "metadata": {},
   "outputs": [],
   "source": [
    "def upsample(features, target, repeat):\n",
    "    features_zeros = features[target == 0]\n",
    "    features_ones = features[target == 1]\n",
    "    target_zeros = target[target == 0]\n",
    "    target_ones = target[target == 1]\n",
    "    features_upsampled = pd.concat([features_zeros] + [features_ones] * repeat)\n",
    "    target_upsampled = pd.concat([target_zeros] + [target_ones] * repeat)    \n",
    "    features_upsampled, target_upsampled = shuffle(\n",
    "        features_upsampled, target_upsampled, random_state=12345)    \n",
    "    return features_upsampled, target_upsampled\n",
    "\n",
    "features_upsampled, target_upsampled = upsample(features_train, target_train, 4)"
   ]
  },
  {
   "cell_type": "markdown",
   "metadata": {},
   "source": [
    "#### Дисбаланс классов устранен, переходим к обучению."
   ]
  },
  {
   "cell_type": "markdown",
   "metadata": {},
   "source": [
    "### Модель «Дерево решений»"
   ]
  },
  {
   "cell_type": "markdown",
   "metadata": {},
   "source": [
    "Сравниваем эффективность данной модели на различной глубине."
   ]
  },
  {
   "cell_type": "code",
   "execution_count": 26,
   "metadata": {},
   "outputs": [
    {
     "name": "stdout",
     "output_type": "stream",
     "text": [
      "Лучшее значение F1-меры получено с параметром max_depth = 6 , и составляет 0.5587044534412956\n",
      "Значение auc_roc = 0.809054407830633\n"
     ]
    }
   ],
   "source": [
    "depth_temp = 0\n",
    "f1_temp = 0\n",
    "best_model = None\n",
    "\n",
    "for depth in range(1, 16, 1):\n",
    "    model = DecisionTreeClassifier(random_state=12345, max_depth=depth)\n",
    "    model.fit(features_upsampled, target_upsampled)\n",
    "    predictions_valid = model.predict(features_valid)\n",
    "    result = f1_score(target_valid, predictions_valid)\n",
    "    if result > f1_temp:\n",
    "        f1_temp = result\n",
    "        depth_temp = depth\n",
    "        best_model = model\n",
    "print('Лучшее значение F1-меры получено с параметром max_depth =', depth_temp,', и составляет', f1_temp)\n",
    "probabilities_valid = best_model.predict_proba(features_valid)\n",
    "probabilities_one_valid = probabilities_valid[:, 1]\n",
    "auc_roc = roc_auc_score(target_valid, probabilities_one_valid)\n",
    "print('Значение auc_roc =', auc_roc)\n",
    "\n",
    "\n",
    "df_f1_roc_auc.loc[len(df_f1_roc_auc.index)] = ['Борьба с дисбалансом - Увеличение выборки', '', '']\n",
    "\n",
    "df_f1_roc_auc.loc[len(df_f1_roc_auc.index)] = ['Модель «Дерево решений»', f1_temp, auc_roc]\n"
   ]
  },
  {
   "cell_type": "markdown",
   "metadata": {},
   "source": [
    "#### Вывод:\n",
    "Результат неплохой, но не отличный.\n",
    "Посмотрим на остальные модели.\n"
   ]
  },
  {
   "cell_type": "markdown",
   "metadata": {},
   "source": [
    "### Модель «Логистическая регрессия»"
   ]
  },
  {
   "cell_type": "code",
   "execution_count": 27,
   "metadata": {},
   "outputs": [
    {
     "name": "stdout",
     "output_type": "stream",
     "text": [
      "Значение F1-меры = 0.4771126760563381\n",
      "Значение auc_roc = 0.7725676700274511\n"
     ]
    }
   ],
   "source": [
    "model = LogisticRegression(random_state=12345) \n",
    "model.fit(features_upsampled, target_upsampled)\n",
    "predictions_valid = model.predict(features_valid)\n",
    "print('Значение F1-меры =', f1_score(target_valid, predictions_valid)) \n",
    "\n",
    "probabilities_valid = model.predict_proba(features_valid)\n",
    "probabilities_one_valid = probabilities_valid[:, 1]\n",
    "auc_roc = roc_auc_score(target_valid, probabilities_one_valid)\n",
    "print('Значение auc_roc =', auc_roc)\n",
    "\n",
    "df_f1_roc_auc.loc[len(df_f1_roc_auc.index)] = ['Модель «Логистическая регрессия»', f1_score(target_valid, predictions_valid), auc_roc]"
   ]
  },
  {
   "cell_type": "markdown",
   "metadata": {},
   "source": [
    "#### Вывод:\n",
    "Результат не лучший, зато метод быстрый."
   ]
  },
  {
   "cell_type": "markdown",
   "metadata": {},
   "source": [
    "### Модель «Случайный лес»"
   ]
  },
  {
   "cell_type": "markdown",
   "metadata": {},
   "source": [
    "Сравниваем эффективность данной модели на различной глубине и с разным количеством деревьев."
   ]
  },
  {
   "cell_type": "markdown",
   "metadata": {},
   "source": [
    "#### Выберем лучший параметр max_depth для этой модели"
   ]
  },
  {
   "cell_type": "code",
   "execution_count": 28,
   "metadata": {},
   "outputs": [
    {
     "name": "stdout",
     "output_type": "stream",
     "text": [
      "Лучшее значение F1-меры получено с параметром max_depth = 13 , и составляет 0.5892420537897312\n",
      "Значение auc_roc = 0.8421570481896112\n"
     ]
    }
   ],
   "source": [
    "depth_temp = 0\n",
    "f1_temp = 0\n",
    "best_model = None\n",
    "\n",
    "for depth in range(1, 30, 1):\n",
    "    model = RandomForestClassifier(n_estimators=20, max_depth=depth, random_state=12345)\n",
    "    model.fit(features_upsampled, target_upsampled)\n",
    "    predictions_valid = model.predict(features_valid)\n",
    "    result = f1_score(target_valid, predictions_valid)\n",
    "    if result > f1_temp:\n",
    "        f1_temp = result\n",
    "        depth_temp = depth\n",
    "        best_model = model\n",
    "print('Лучшее значение F1-меры получено с параметром max_depth =', depth_temp,', и составляет', f1_temp)\n",
    "probabilities_valid = best_model.predict_proba(features_valid)\n",
    "probabilities_one_valid = probabilities_valid[:, 1]\n",
    "auc_roc = roc_auc_score(target_valid, probabilities_one_valid)\n",
    "print('Значение auc_roc =', auc_roc)"
   ]
  },
  {
   "cell_type": "markdown",
   "metadata": {},
   "source": [
    "#### Выберем лучший параметр n_estimators для этой модели"
   ]
  },
  {
   "cell_type": "code",
   "execution_count": 29,
   "metadata": {},
   "outputs": [
    {
     "name": "stdout",
     "output_type": "stream",
     "text": [
      "Лучшее значение F1-меры получено с параметром n_estimators = 37 , и составляет 0.5949367088607594\n",
      "Значение auc_roc = 0.8481439918362027\n"
     ]
    }
   ],
   "source": [
    "n_e_temp = 0\n",
    "f1_temp = 0\n",
    "best_model = None\n",
    "\n",
    "for n_e in range(1, 50, 1):\n",
    "    model = RandomForestClassifier(n_estimators=n_e, max_depth=depth_temp, random_state=12345)\n",
    "    model.fit(features_upsampled, target_upsampled)\n",
    "    predictions_valid = model.predict(features_valid)\n",
    "    result = f1_score(target_valid, predictions_valid)\n",
    "    if result > f1_temp:\n",
    "        f1_temp = result\n",
    "        n_e_temp = n_e\n",
    "        best_model = model\n",
    "print('Лучшее значение F1-меры получено с параметром n_estimators =', n_e_temp,', и составляет', f1_temp)\n",
    "probabilities_valid = best_model.predict_proba(features_valid)\n",
    "probabilities_one_valid = probabilities_valid[:, 1]\n",
    "auc_roc = roc_auc_score(target_valid, probabilities_one_valid)\n",
    "print('Значение auc_roc =', auc_roc)\n",
    "\n",
    "df_f1_roc_auc.loc[len(df_f1_roc_auc.index)] = ['Модель «Случайный лес»', f1_temp, auc_roc]"
   ]
  },
  {
   "cell_type": "markdown",
   "metadata": {},
   "source": [
    "#### Вывод:\n",
    "Данная модель показала наилучшие результаты. Проверку на тестовой выборке будем осуществлять именно на этой модели.\n"
   ]
  },
  {
   "cell_type": "markdown",
   "metadata": {},
   "source": [
    "### Сравнительная таблица показателей f1 и roc_auc при разных условиях."
   ]
  },
  {
   "cell_type": "code",
   "execution_count": 30,
   "metadata": {},
   "outputs": [
    {
     "data": {
      "text/html": [
       "<div>\n",
       "<style scoped>\n",
       "    .dataframe tbody tr th:only-of-type {\n",
       "        vertical-align: middle;\n",
       "    }\n",
       "\n",
       "    .dataframe tbody tr th {\n",
       "        vertical-align: top;\n",
       "    }\n",
       "\n",
       "    .dataframe thead th {\n",
       "        text-align: right;\n",
       "    }\n",
       "</style>\n",
       "<table border=\"1\" class=\"dataframe\">\n",
       "  <thead>\n",
       "    <tr style=\"text-align: right;\">\n",
       "      <th></th>\n",
       "      <th>name</th>\n",
       "      <th>f1</th>\n",
       "      <th>roc_auc</th>\n",
       "    </tr>\n",
       "  </thead>\n",
       "  <tbody>\n",
       "    <tr>\n",
       "      <th>0</th>\n",
       "      <td>Модель «Дерево решений»</td>\n",
       "      <td>0.55836</td>\n",
       "      <td>0.491715</td>\n",
       "    </tr>\n",
       "    <tr>\n",
       "      <th>1</th>\n",
       "      <td>Модель «Логистическая регрессия»</td>\n",
       "      <td>0.301318</td>\n",
       "      <td>0.770339</td>\n",
       "    </tr>\n",
       "    <tr>\n",
       "      <th>2</th>\n",
       "      <td>Модель «Случайный лес»</td>\n",
       "      <td>0.580442</td>\n",
       "      <td>0.840136</td>\n",
       "    </tr>\n",
       "    <tr>\n",
       "      <th>3</th>\n",
       "      <td>Борьба с дисбалансом - class_weight</td>\n",
       "      <td></td>\n",
       "      <td></td>\n",
       "    </tr>\n",
       "    <tr>\n",
       "      <th>4</th>\n",
       "      <td>Модель «Дерево решений»</td>\n",
       "      <td>0.558704</td>\n",
       "      <td>0.809067</td>\n",
       "    </tr>\n",
       "    <tr>\n",
       "      <th>5</th>\n",
       "      <td>Модель «Логистическая регрессия»</td>\n",
       "      <td>0.474153</td>\n",
       "      <td>0.772566</td>\n",
       "    </tr>\n",
       "    <tr>\n",
       "      <th>6</th>\n",
       "      <td>Модель «Случайный лес»</td>\n",
       "      <td>0.595156</td>\n",
       "      <td>0.851279</td>\n",
       "    </tr>\n",
       "    <tr>\n",
       "      <th>7</th>\n",
       "      <td>Борьба с дисбалансом - Увеличение выборки</td>\n",
       "      <td></td>\n",
       "      <td></td>\n",
       "    </tr>\n",
       "    <tr>\n",
       "      <th>8</th>\n",
       "      <td>Модель «Дерево решений»</td>\n",
       "      <td>0.558704</td>\n",
       "      <td>0.809054</td>\n",
       "    </tr>\n",
       "    <tr>\n",
       "      <th>9</th>\n",
       "      <td>Модель «Логистическая регрессия»</td>\n",
       "      <td>0.477113</td>\n",
       "      <td>0.772568</td>\n",
       "    </tr>\n",
       "    <tr>\n",
       "      <th>10</th>\n",
       "      <td>Модель «Случайный лес»</td>\n",
       "      <td>0.594937</td>\n",
       "      <td>0.848144</td>\n",
       "    </tr>\n",
       "  </tbody>\n",
       "</table>\n",
       "</div>"
      ],
      "text/plain": [
       "                                         name        f1   roc_auc\n",
       "0                     Модель «Дерево решений»   0.55836  0.491715\n",
       "1            Модель «Логистическая регрессия»  0.301318  0.770339\n",
       "2                      Модель «Случайный лес»  0.580442  0.840136\n",
       "3         Борьба с дисбалансом - class_weight                    \n",
       "4                     Модель «Дерево решений»  0.558704  0.809067\n",
       "5            Модель «Логистическая регрессия»  0.474153  0.772566\n",
       "6                      Модель «Случайный лес»  0.595156  0.851279\n",
       "7   Борьба с дисбалансом - Увеличение выборки                    \n",
       "8                     Модель «Дерево решений»  0.558704  0.809054\n",
       "9            Модель «Логистическая регрессия»  0.477113  0.772568\n",
       "10                     Модель «Случайный лес»  0.594937  0.848144"
      ]
     },
     "execution_count": 30,
     "metadata": {},
     "output_type": "execute_result"
    }
   ],
   "source": [
    "df_f1_roc_auc"
   ]
  },
  {
   "cell_type": "markdown",
   "metadata": {},
   "source": [
    "### Вывод\n",
    "Наиболее эффективным оказалась Модель «Случайный лес».\n",
    "Борьба с дисбалансом - class_weight\tи «Увеличение выборки» показали примерно равную эффективность.\n",
    "\n"
   ]
  },
  {
   "cell_type": "markdown",
   "metadata": {},
   "source": [
    "## Тестирование модели"
   ]
  },
  {
   "cell_type": "markdown",
   "metadata": {},
   "source": [
    "### Проверим лучшую модель на тестовой выборке"
   ]
  },
  {
   "cell_type": "code",
   "execution_count": 31,
   "metadata": {},
   "outputs": [
    {
     "name": "stdout",
     "output_type": "stream",
     "text": [
      "Значение F1-меры = 0.6342451874366767\n"
     ]
    }
   ],
   "source": [
    "model = best_model_1\n",
    "model.fit(features_upsampled, target_upsampled)\n",
    "predictions_test = model.predict(features_test)\n",
    "result = f1_score(target_test, predictions_test)\n",
    "print('Значение F1-меры =', result)"
   ]
  },
  {
   "cell_type": "markdown",
   "metadata": {},
   "source": [
    "#### Вывод:\n",
    "Значение F1-меры на тестовой выборке больше 0.59. То есть наша модель удовлетворяет заданным критериям.\n"
   ]
  },
  {
   "cell_type": "markdown",
   "metadata": {},
   "source": [
    "### Построим ROC-кривую"
   ]
  },
  {
   "cell_type": "code",
   "execution_count": 32,
   "metadata": {},
   "outputs": [
    {
     "data": {
      "image/png": "[encoded data removed]",
      "text/plain": [
       "<Figure size 432x288 with 1 Axes>"
      ]
     },
     "metadata": {
      "needs_background": "light"
     },
     "output_type": "display_data"
    }
   ],
   "source": [
    "probabilities_valid = model.predict_proba(features_test)\n",
    "probabilities_one_valid = probabilities_valid[:, 1]\n",
    "\n",
    "fpr, tpr, thresholds = roc_curve(target_test, probabilities_one_valid) \n",
    "\n",
    "plt.figure()\n",
    "plt.plot(fpr, tpr, linestyle='--')\n",
    "plt.plot([0, 1], [0, 1], linestyle='--')\n",
    "plt.xlabel('Частота ложноположительных Результатов')\n",
    "plt.ylabel('Частота истинноположительных результатов')\n",
    "plt.ylim([0.0, 1.0])\n",
    "plt.xlim([0.0, 1.0])\n",
    "plt.title('ROC-кривая')\n",
    "\n",
    "\n",
    "plt.show()"
   ]
  },
  {
   "cell_type": "markdown",
   "metadata": {},
   "source": [
    "#### Вывод:\n",
    "ROC-кривая показывает, что модель выбрана корректно.\n"
   ]
  },
  {
   "cell_type": "markdown",
   "metadata": {},
   "source": [
    "### Находим значение auc_roc"
   ]
  },
  {
   "cell_type": "code",
   "execution_count": 33,
   "metadata": {},
   "outputs": [
    {
     "name": "stdout",
     "output_type": "stream",
     "text": [
      "Значение auc_roc = 0.8671886980381764\n"
     ]
    }
   ],
   "source": [
    "auc_roc = roc_auc_score(target_test, probabilities_one_valid)\n",
    "print('Значение auc_roc =', auc_roc)"
   ]
  },
  {
   "cell_type": "markdown",
   "metadata": {},
   "source": [
    "#### Вывод:\n",
    "Значение auc_roc так же говорит о том, что модель выбрана корректно.\n"
   ]
  },
  {
   "cell_type": "markdown",
   "metadata": {},
   "source": [
    "## Общий вывод"
   ]
  },
  {
   "cell_type": "markdown",
   "metadata": {},
   "source": [
    "На тестовой выборке удалость достичь значения F1-меры = 0.61, что больше заданного для выполнения этого задания значения в 0.59.\n"
   ]
  }
 ],
 "metadata": {
  "ExecuteTimeLog": [
   {
    "duration": 616,
    "start_time": "2022-03-15T07:44:21.906Z"
   },
   {
    "duration": 28,
    "start_time": "2022-03-15T07:44:56.907Z"
   },
   {
    "duration": 76,
    "start_time": "2022-03-15T07:45:19.717Z"
   },
   {
    "duration": 12,
    "start_time": "2022-03-15T07:54:08.926Z"
   },
   {
    "duration": 30,
    "start_time": "2022-03-15T07:54:42.983Z"
   },
   {
    "duration": 72,
    "start_time": "2022-03-15T07:54:45.605Z"
   },
   {
    "duration": 5,
    "start_time": "2022-03-15T07:55:58.718Z"
   },
   {
    "duration": 7,
    "start_time": "2022-03-15T11:02:17.866Z"
   },
   {
    "duration": 4,
    "start_time": "2022-03-15T11:08:44.535Z"
   },
   {
    "duration": 7,
    "start_time": "2022-03-15T11:08:47.131Z"
   },
   {
    "duration": 4,
    "start_time": "2022-03-15T11:13:16.395Z"
   },
   {
    "duration": 3,
    "start_time": "2022-03-15T11:13:19.823Z"
   },
   {
    "duration": 4,
    "start_time": "2022-03-15T11:13:24.414Z"
   },
   {
    "duration": 8,
    "start_time": "2022-03-15T11:14:44.621Z"
   },
   {
    "duration": 8,
    "start_time": "2022-03-15T11:14:57.618Z"
   },
   {
    "duration": 6,
    "start_time": "2022-03-15T11:15:11.034Z"
   },
   {
    "duration": 26,
    "start_time": "2022-03-15T11:15:41.771Z"
   },
   {
    "duration": 71,
    "start_time": "2022-03-15T11:15:44.019Z"
   },
   {
    "duration": 6,
    "start_time": "2022-03-15T11:15:51.114Z"
   },
   {
    "duration": 5,
    "start_time": "2022-03-15T11:15:56.648Z"
   },
   {
    "duration": 7,
    "start_time": "2022-03-15T11:16:10.346Z"
   },
   {
    "duration": 30,
    "start_time": "2022-03-15T11:20:02.588Z"
   },
   {
    "duration": 8,
    "start_time": "2022-03-15T11:20:10.417Z"
   },
   {
    "duration": 8,
    "start_time": "2022-03-15T11:20:14.944Z"
   },
   {
    "duration": 6,
    "start_time": "2022-03-15T11:20:46.306Z"
   },
   {
    "duration": 6,
    "start_time": "2022-03-15T11:20:51.606Z"
   },
   {
    "duration": 5,
    "start_time": "2022-03-15T13:15:00.687Z"
   },
   {
    "duration": 270,
    "start_time": "2022-03-15T13:16:54.261Z"
   },
   {
    "duration": 5,
    "start_time": "2022-03-15T13:22:21.614Z"
   },
   {
    "duration": 182,
    "start_time": "2022-03-15T13:23:08.891Z"
   },
   {
    "duration": 205,
    "start_time": "2022-03-15T13:23:20.232Z"
   },
   {
    "duration": 219,
    "start_time": "2022-03-15T13:23:41.919Z"
   },
   {
    "duration": 6,
    "start_time": "2022-03-15T13:24:22.414Z"
   },
   {
    "duration": 8,
    "start_time": "2022-03-15T13:24:51.688Z"
   },
   {
    "duration": 4,
    "start_time": "2022-03-15T13:26:45.352Z"
   },
   {
    "duration": 186,
    "start_time": "2022-03-15T13:26:52.542Z"
   },
   {
    "duration": 3,
    "start_time": "2022-03-15T13:26:59.777Z"
   },
   {
    "duration": 3,
    "start_time": "2022-03-15T13:27:04.831Z"
   },
   {
    "duration": 4,
    "start_time": "2022-03-15T13:27:09.354Z"
   },
   {
    "duration": 7,
    "start_time": "2022-03-15T13:27:15.206Z"
   },
   {
    "duration": 9,
    "start_time": "2022-03-15T13:28:22.504Z"
   },
   {
    "duration": 4,
    "start_time": "2022-03-15T13:28:25.534Z"
   },
   {
    "duration": 85,
    "start_time": "2022-03-15T13:45:03.916Z"
   },
   {
    "duration": 8,
    "start_time": "2022-03-15T13:45:19.914Z"
   },
   {
    "duration": 5271,
    "start_time": "2022-03-15T13:45:26.601Z"
   },
   {
    "duration": -323,
    "start_time": "2022-03-15T13:45:32.198Z"
   },
   {
    "duration": 8,
    "start_time": "2022-03-15T13:45:40.497Z"
   },
   {
    "duration": 71,
    "start_time": "2022-03-15T13:52:20.693Z"
   },
   {
    "duration": 72,
    "start_time": "2022-03-15T13:52:39.370Z"
   },
   {
    "duration": 5060,
    "start_time": "2022-03-15T13:53:04.049Z"
   },
   {
    "duration": 8,
    "start_time": "2022-03-15T13:53:11.681Z"
   },
   {
    "duration": 4846,
    "start_time": "2022-03-15T14:07:34.776Z"
   },
   {
    "duration": -373,
    "start_time": "2022-03-15T14:07:39.998Z"
   },
   {
    "duration": 7,
    "start_time": "2022-03-15T14:07:44.192Z"
   },
   {
    "duration": 5672,
    "start_time": "2022-03-15T14:08:25.025Z"
   },
   {
    "duration": 1157,
    "start_time": "2022-03-15T14:08:48.953Z"
   },
   {
    "duration": 3,
    "start_time": "2022-03-15T14:10:07.427Z"
   },
   {
    "duration": 10,
    "start_time": "2022-03-15T14:10:12.999Z"
   },
   {
    "duration": 7,
    "start_time": "2022-03-15T14:10:19.097Z"
   },
   {
    "duration": 3,
    "start_time": "2022-03-15T14:35:17.753Z"
   },
   {
    "duration": 8,
    "start_time": "2022-03-15T14:35:22.847Z"
   },
   {
    "duration": 8,
    "start_time": "2022-03-15T14:35:28.934Z"
   },
   {
    "duration": 704,
    "start_time": "2022-03-15T14:38:07.470Z"
   },
   {
    "duration": 27,
    "start_time": "2022-03-15T14:38:08.177Z"
   },
   {
    "duration": 100,
    "start_time": "2022-03-15T14:38:08.209Z"
   },
   {
    "duration": 7,
    "start_time": "2022-03-15T14:38:08.311Z"
   },
   {
    "duration": 13,
    "start_time": "2022-03-15T14:38:08.320Z"
   },
   {
    "duration": 7,
    "start_time": "2022-03-15T14:38:08.335Z"
   },
   {
    "duration": 73,
    "start_time": "2022-03-15T14:38:37.535Z"
   },
   {
    "duration": 520,
    "start_time": "2022-03-17T13:15:09.978Z"
   },
   {
    "duration": 56,
    "start_time": "2022-03-17T13:15:10.501Z"
   },
   {
    "duration": 127,
    "start_time": "2022-03-17T13:15:10.560Z"
   },
   {
    "duration": 11,
    "start_time": "2022-03-17T13:15:10.689Z"
   },
   {
    "duration": 15,
    "start_time": "2022-03-17T13:15:10.704Z"
   },
   {
    "duration": 13,
    "start_time": "2022-03-17T13:15:10.722Z"
   },
   {
    "duration": 145,
    "start_time": "2022-03-17T13:15:10.738Z"
   },
   {
    "duration": 508,
    "start_time": "2022-03-17T13:16:40.291Z"
   },
   {
    "duration": 32,
    "start_time": "2022-03-17T13:16:40.803Z"
   },
   {
    "duration": 125,
    "start_time": "2022-03-17T13:16:40.838Z"
   },
   {
    "duration": 21,
    "start_time": "2022-03-17T13:16:40.966Z"
   },
   {
    "duration": 27,
    "start_time": "2022-03-17T13:16:40.990Z"
   },
   {
    "duration": 32,
    "start_time": "2022-03-17T13:16:41.019Z"
   },
   {
    "duration": 35,
    "start_time": "2022-03-17T13:16:41.054Z"
   },
   {
    "duration": 7,
    "start_time": "2022-03-17T13:28:38.999Z"
   },
   {
    "duration": 12,
    "start_time": "2022-03-17T13:32:03.811Z"
   },
   {
    "duration": 9,
    "start_time": "2022-03-17T13:32:19.780Z"
   },
   {
    "duration": 12,
    "start_time": "2022-03-17T13:32:31.783Z"
   },
   {
    "duration": 6,
    "start_time": "2022-03-17T13:33:16.965Z"
   },
   {
    "duration": 99,
    "start_time": "2022-03-17T13:40:48.819Z"
   },
   {
    "duration": 10,
    "start_time": "2022-03-17T13:41:07.771Z"
   },
   {
    "duration": 9,
    "start_time": "2022-03-17T13:41:27.934Z"
   },
   {
    "duration": 11,
    "start_time": "2022-03-17T13:52:15.107Z"
   },
   {
    "duration": 12,
    "start_time": "2022-03-17T13:52:21.106Z"
   },
   {
    "duration": 15,
    "start_time": "2022-03-17T13:52:50.326Z"
   },
   {
    "duration": 15,
    "start_time": "2022-03-17T13:55:38.846Z"
   },
   {
    "duration": 9,
    "start_time": "2022-03-17T13:55:49.307Z"
   },
   {
    "duration": 7,
    "start_time": "2022-03-17T13:56:02.985Z"
   },
   {
    "duration": 19,
    "start_time": "2022-03-17T13:59:33.906Z"
   },
   {
    "duration": 7,
    "start_time": "2022-03-17T13:59:45.646Z"
   },
   {
    "duration": 19,
    "start_time": "2022-03-17T13:59:47.986Z"
   },
   {
    "duration": 8,
    "start_time": "2022-03-17T14:25:02.045Z"
   },
   {
    "duration": 61,
    "start_time": "2022-03-17T14:25:06.666Z"
   },
   {
    "duration": 7,
    "start_time": "2022-03-17T14:25:09.548Z"
   },
   {
    "duration": 8,
    "start_time": "2022-03-17T14:29:47.306Z"
   },
   {
    "duration": 9,
    "start_time": "2022-03-17T14:29:50.475Z"
   },
   {
    "duration": 1183,
    "start_time": "2022-03-17T14:41:43.470Z"
   },
   {
    "duration": 22,
    "start_time": "2022-03-17T14:42:17.265Z"
   },
   {
    "duration": 11,
    "start_time": "2022-03-17T14:44:22.886Z"
   },
   {
    "duration": 7,
    "start_time": "2022-03-17T14:45:19.068Z"
   },
   {
    "duration": 51,
    "start_time": "2022-03-17T14:45:29.230Z"
   },
   {
    "duration": 6,
    "start_time": "2022-03-17T14:45:56.187Z"
   },
   {
    "duration": 1759,
    "start_time": "2022-03-17T14:47:44.484Z"
   },
   {
    "duration": 37,
    "start_time": "2022-03-17T14:47:46.246Z"
   },
   {
    "duration": 143,
    "start_time": "2022-03-17T14:47:46.286Z"
   },
   {
    "duration": 9,
    "start_time": "2022-03-17T14:47:46.432Z"
   },
   {
    "duration": 45,
    "start_time": "2022-03-17T14:47:46.445Z"
   },
   {
    "duration": 10,
    "start_time": "2022-03-17T14:47:46.493Z"
   },
   {
    "duration": 10,
    "start_time": "2022-03-17T14:47:46.506Z"
   },
   {
    "duration": 20,
    "start_time": "2022-03-17T14:47:46.518Z"
   },
   {
    "duration": 44,
    "start_time": "2022-03-17T14:47:46.542Z"
   },
   {
    "duration": 21,
    "start_time": "2022-03-17T14:47:46.589Z"
   },
   {
    "duration": 11,
    "start_time": "2022-03-17T14:47:46.612Z"
   },
   {
    "duration": 10,
    "start_time": "2022-03-17T14:47:46.627Z"
   },
   {
    "duration": 76,
    "start_time": "2022-03-17T14:47:46.640Z"
   },
   {
    "duration": 28,
    "start_time": "2022-03-17T14:47:46.721Z"
   },
   {
    "duration": 5,
    "start_time": "2022-03-17T14:48:24.363Z"
   },
   {
    "duration": 10,
    "start_time": "2022-03-17T14:48:41.003Z"
   },
   {
    "duration": 176,
    "start_time": "2022-03-17T14:48:54.645Z"
   },
   {
    "duration": 6,
    "start_time": "2022-03-17T14:49:04.203Z"
   },
   {
    "duration": 19,
    "start_time": "2022-03-17T14:50:31.783Z"
   },
   {
    "duration": 6,
    "start_time": "2022-03-17T14:51:37.703Z"
   },
   {
    "duration": 5,
    "start_time": "2022-03-17T14:51:41.043Z"
   },
   {
    "duration": 13,
    "start_time": "2022-03-17T14:51:55.424Z"
   },
   {
    "duration": 14,
    "start_time": "2022-03-17T14:52:08.824Z"
   },
   {
    "duration": 6,
    "start_time": "2022-03-17T14:52:22.843Z"
   },
   {
    "duration": 13,
    "start_time": "2022-03-17T14:52:49.583Z"
   },
   {
    "duration": 7,
    "start_time": "2022-03-17T14:54:10.798Z"
   },
   {
    "duration": 7,
    "start_time": "2022-03-17T14:54:31.845Z"
   },
   {
    "duration": 6,
    "start_time": "2022-03-17T14:54:44.423Z"
   },
   {
    "duration": 12,
    "start_time": "2022-03-17T14:57:04.522Z"
   },
   {
    "duration": 38,
    "start_time": "2022-03-17T14:57:46.664Z"
   },
   {
    "duration": 24,
    "start_time": "2022-03-17T14:57:49.664Z"
   },
   {
    "duration": 1678,
    "start_time": "2022-03-17T15:11:02.926Z"
   },
   {
    "duration": 31,
    "start_time": "2022-03-17T15:11:04.616Z"
   },
   {
    "duration": 134,
    "start_time": "2022-03-17T15:11:04.650Z"
   },
   {
    "duration": 13,
    "start_time": "2022-03-17T15:11:04.786Z"
   },
   {
    "duration": 15,
    "start_time": "2022-03-17T15:11:04.804Z"
   },
   {
    "duration": 34,
    "start_time": "2022-03-17T15:11:04.821Z"
   },
   {
    "duration": 9,
    "start_time": "2022-03-17T15:11:04.858Z"
   },
   {
    "duration": 18,
    "start_time": "2022-03-17T15:11:04.882Z"
   },
   {
    "duration": 8,
    "start_time": "2022-03-17T15:11:04.902Z"
   },
   {
    "duration": 42,
    "start_time": "2022-03-17T15:11:04.913Z"
   },
   {
    "duration": 38,
    "start_time": "2022-03-17T15:11:04.957Z"
   },
   {
    "duration": 1686,
    "start_time": "2022-03-17T15:15:33.734Z"
   },
   {
    "duration": 33,
    "start_time": "2022-03-17T15:15:35.423Z"
   },
   {
    "duration": 134,
    "start_time": "2022-03-17T15:15:35.458Z"
   },
   {
    "duration": 10,
    "start_time": "2022-03-17T15:15:35.594Z"
   },
   {
    "duration": 12,
    "start_time": "2022-03-17T15:15:35.607Z"
   },
   {
    "duration": 10,
    "start_time": "2022-03-17T15:15:35.621Z"
   },
   {
    "duration": 50,
    "start_time": "2022-03-17T15:15:35.633Z"
   },
   {
    "duration": 7,
    "start_time": "2022-03-17T15:15:35.685Z"
   },
   {
    "duration": 0,
    "start_time": "2022-03-17T15:15:35.695Z"
   },
   {
    "duration": 0,
    "start_time": "2022-03-17T15:15:35.697Z"
   },
   {
    "duration": 0,
    "start_time": "2022-03-17T15:15:35.699Z"
   },
   {
    "duration": 14,
    "start_time": "2022-03-17T15:15:48.246Z"
   },
   {
    "duration": 1641,
    "start_time": "2022-03-17T15:15:56.116Z"
   },
   {
    "duration": 35,
    "start_time": "2022-03-17T15:15:57.760Z"
   },
   {
    "duration": 140,
    "start_time": "2022-03-17T15:15:57.797Z"
   },
   {
    "duration": 8,
    "start_time": "2022-03-17T15:15:57.940Z"
   },
   {
    "duration": 33,
    "start_time": "2022-03-17T15:15:57.950Z"
   },
   {
    "duration": 11,
    "start_time": "2022-03-17T15:15:57.985Z"
   },
   {
    "duration": 8,
    "start_time": "2022-03-17T15:15:57.999Z"
   },
   {
    "duration": 19,
    "start_time": "2022-03-17T15:15:58.009Z"
   },
   {
    "duration": 16,
    "start_time": "2022-03-17T15:15:58.030Z"
   },
   {
    "duration": 54,
    "start_time": "2022-03-17T15:15:58.049Z"
   },
   {
    "duration": 21,
    "start_time": "2022-03-17T15:15:58.106Z"
   },
   {
    "duration": 116,
    "start_time": "2022-03-17T15:16:48.516Z"
   },
   {
    "duration": 31,
    "start_time": "2022-03-17T15:24:25.406Z"
   },
   {
    "duration": 92,
    "start_time": "2022-03-17T15:24:28.596Z"
   },
   {
    "duration": 59,
    "start_time": "2022-03-17T15:25:37.936Z"
   },
   {
    "duration": 1080,
    "start_time": "2022-03-18T06:13:07.442Z"
   },
   {
    "duration": 30,
    "start_time": "2022-03-18T06:13:08.524Z"
   },
   {
    "duration": 82,
    "start_time": "2022-03-18T06:13:08.556Z"
   },
   {
    "duration": 6,
    "start_time": "2022-03-18T06:13:08.639Z"
   },
   {
    "duration": 7,
    "start_time": "2022-03-18T06:13:08.647Z"
   },
   {
    "duration": 5,
    "start_time": "2022-03-18T06:13:08.656Z"
   },
   {
    "duration": 5,
    "start_time": "2022-03-18T06:13:08.663Z"
   },
   {
    "duration": 108,
    "start_time": "2022-03-18T06:13:08.670Z"
   },
   {
    "duration": 0,
    "start_time": "2022-03-18T06:13:08.780Z"
   },
   {
    "duration": 0,
    "start_time": "2022-03-18T06:13:08.781Z"
   },
   {
    "duration": 0,
    "start_time": "2022-03-18T06:13:08.782Z"
   },
   {
    "duration": 1074,
    "start_time": "2022-03-18T06:13:58.746Z"
   },
   {
    "duration": 40,
    "start_time": "2022-03-18T06:13:59.822Z"
   },
   {
    "duration": 78,
    "start_time": "2022-03-18T06:13:59.864Z"
   },
   {
    "duration": 5,
    "start_time": "2022-03-18T06:13:59.944Z"
   },
   {
    "duration": 11,
    "start_time": "2022-03-18T06:13:59.951Z"
   },
   {
    "duration": 7,
    "start_time": "2022-03-18T06:13:59.964Z"
   },
   {
    "duration": 6,
    "start_time": "2022-03-18T06:13:59.972Z"
   },
   {
    "duration": 10,
    "start_time": "2022-03-18T06:13:59.980Z"
   },
   {
    "duration": 6,
    "start_time": "2022-03-18T06:13:59.992Z"
   },
   {
    "duration": 48,
    "start_time": "2022-03-18T06:14:00.000Z"
   },
   {
    "duration": 44,
    "start_time": "2022-03-18T06:14:00.050Z"
   },
   {
    "duration": 35,
    "start_time": "2022-03-18T06:14:17.971Z"
   },
   {
    "duration": 186,
    "start_time": "2022-03-18T06:26:21.479Z"
   },
   {
    "duration": 21,
    "start_time": "2022-03-18T06:26:29.650Z"
   },
   {
    "duration": 17,
    "start_time": "2022-03-18T06:27:13.371Z"
   },
   {
    "duration": 1106,
    "start_time": "2022-03-18T06:30:19.428Z"
   },
   {
    "duration": 26,
    "start_time": "2022-03-18T06:30:20.536Z"
   },
   {
    "duration": 74,
    "start_time": "2022-03-18T06:30:20.563Z"
   },
   {
    "duration": 5,
    "start_time": "2022-03-18T06:30:20.639Z"
   },
   {
    "duration": 8,
    "start_time": "2022-03-18T06:30:20.646Z"
   },
   {
    "duration": 7,
    "start_time": "2022-03-18T06:30:20.655Z"
   },
   {
    "duration": 6,
    "start_time": "2022-03-18T06:30:20.663Z"
   },
   {
    "duration": 11,
    "start_time": "2022-03-18T06:30:20.670Z"
   },
   {
    "duration": 5,
    "start_time": "2022-03-18T06:30:20.683Z"
   },
   {
    "duration": 48,
    "start_time": "2022-03-18T06:30:20.689Z"
   },
   {
    "duration": 37,
    "start_time": "2022-03-18T06:30:20.739Z"
   },
   {
    "duration": 38,
    "start_time": "2022-03-18T06:30:20.778Z"
   },
   {
    "duration": 34,
    "start_time": "2022-03-18T06:30:20.818Z"
   },
   {
    "duration": 209,
    "start_time": "2022-03-18T06:30:20.854Z"
   },
   {
    "duration": 18,
    "start_time": "2022-03-18T06:30:21.065Z"
   },
   {
    "duration": 1089,
    "start_time": "2022-03-18T06:31:26.459Z"
   },
   {
    "duration": 29,
    "start_time": "2022-03-18T06:31:27.550Z"
   },
   {
    "duration": 88,
    "start_time": "2022-03-18T06:31:27.581Z"
   },
   {
    "duration": 6,
    "start_time": "2022-03-18T06:31:27.671Z"
   },
   {
    "duration": 13,
    "start_time": "2022-03-18T06:31:27.680Z"
   },
   {
    "duration": 24,
    "start_time": "2022-03-18T06:31:27.695Z"
   },
   {
    "duration": 16,
    "start_time": "2022-03-18T06:31:27.721Z"
   },
   {
    "duration": 15,
    "start_time": "2022-03-18T06:31:27.739Z"
   },
   {
    "duration": 10,
    "start_time": "2022-03-18T06:31:27.756Z"
   },
   {
    "duration": 32,
    "start_time": "2022-03-18T06:31:27.768Z"
   },
   {
    "duration": 43,
    "start_time": "2022-03-18T06:31:27.802Z"
   },
   {
    "duration": 47,
    "start_time": "2022-03-18T06:31:27.848Z"
   },
   {
    "duration": 19,
    "start_time": "2022-03-18T06:31:27.897Z"
   },
   {
    "duration": 201,
    "start_time": "2022-03-18T06:31:27.939Z"
   },
   {
    "duration": 19,
    "start_time": "2022-03-18T06:31:28.142Z"
   },
   {
    "duration": 18,
    "start_time": "2022-03-18T06:35:48.148Z"
   },
   {
    "duration": 1041,
    "start_time": "2022-03-18T06:35:55.988Z"
   },
   {
    "duration": 27,
    "start_time": "2022-03-18T06:35:57.031Z"
   },
   {
    "duration": 83,
    "start_time": "2022-03-18T06:35:57.059Z"
   },
   {
    "duration": 6,
    "start_time": "2022-03-18T06:35:57.144Z"
   },
   {
    "duration": 9,
    "start_time": "2022-03-18T06:35:57.152Z"
   },
   {
    "duration": 5,
    "start_time": "2022-03-18T06:35:57.163Z"
   },
   {
    "duration": 109,
    "start_time": "2022-03-18T06:35:57.170Z"
   },
   {
    "duration": 0,
    "start_time": "2022-03-18T06:35:57.281Z"
   },
   {
    "duration": 0,
    "start_time": "2022-03-18T06:35:57.282Z"
   },
   {
    "duration": 0,
    "start_time": "2022-03-18T06:35:57.283Z"
   },
   {
    "duration": 0,
    "start_time": "2022-03-18T06:35:57.284Z"
   },
   {
    "duration": 0,
    "start_time": "2022-03-18T06:35:57.286Z"
   },
   {
    "duration": 0,
    "start_time": "2022-03-18T06:35:57.287Z"
   },
   {
    "duration": 0,
    "start_time": "2022-03-18T06:35:57.289Z"
   },
   {
    "duration": 0,
    "start_time": "2022-03-18T06:35:57.289Z"
   },
   {
    "duration": 0,
    "start_time": "2022-03-18T06:35:57.291Z"
   },
   {
    "duration": 5,
    "start_time": "2022-03-18T06:36:12.370Z"
   },
   {
    "duration": 12,
    "start_time": "2022-03-18T06:36:14.877Z"
   },
   {
    "duration": 17,
    "start_time": "2022-03-18T06:36:17.447Z"
   },
   {
    "duration": 19,
    "start_time": "2022-03-18T06:36:21.507Z"
   },
   {
    "duration": 1027,
    "start_time": "2022-03-18T06:37:45.788Z"
   },
   {
    "duration": 25,
    "start_time": "2022-03-18T06:37:46.817Z"
   },
   {
    "duration": 69,
    "start_time": "2022-03-18T06:37:46.843Z"
   },
   {
    "duration": 5,
    "start_time": "2022-03-18T06:37:46.914Z"
   },
   {
    "duration": 9,
    "start_time": "2022-03-18T06:37:46.939Z"
   },
   {
    "duration": 21,
    "start_time": "2022-03-18T06:37:46.949Z"
   },
   {
    "duration": 6,
    "start_time": "2022-03-18T06:37:46.972Z"
   },
   {
    "duration": 12,
    "start_time": "2022-03-18T06:37:46.979Z"
   },
   {
    "duration": 84,
    "start_time": "2022-03-18T06:37:46.993Z"
   },
   {
    "duration": 0,
    "start_time": "2022-03-18T06:37:47.080Z"
   },
   {
    "duration": 0,
    "start_time": "2022-03-18T06:37:47.081Z"
   },
   {
    "duration": 0,
    "start_time": "2022-03-18T06:37:47.082Z"
   },
   {
    "duration": 0,
    "start_time": "2022-03-18T06:37:47.083Z"
   },
   {
    "duration": 10,
    "start_time": "2022-03-18T06:38:00.228Z"
   },
   {
    "duration": 19,
    "start_time": "2022-03-18T06:38:14.588Z"
   },
   {
    "duration": 40,
    "start_time": "2022-03-18T06:38:17.587Z"
   },
   {
    "duration": 17,
    "start_time": "2022-03-18T06:38:24.839Z"
   },
   {
    "duration": 1061,
    "start_time": "2022-03-18T06:42:49.859Z"
   },
   {
    "duration": 25,
    "start_time": "2022-03-18T06:42:50.921Z"
   },
   {
    "duration": 69,
    "start_time": "2022-03-18T06:42:50.947Z"
   },
   {
    "duration": 20,
    "start_time": "2022-03-18T06:42:51.018Z"
   },
   {
    "duration": 8,
    "start_time": "2022-03-18T06:42:51.041Z"
   },
   {
    "duration": 10,
    "start_time": "2022-03-18T06:42:51.050Z"
   },
   {
    "duration": 4,
    "start_time": "2022-03-18T06:42:51.062Z"
   },
   {
    "duration": 12,
    "start_time": "2022-03-18T06:42:51.067Z"
   },
   {
    "duration": 20,
    "start_time": "2022-03-18T06:42:51.081Z"
   },
   {
    "duration": 35,
    "start_time": "2022-03-18T06:42:51.103Z"
   },
   {
    "duration": 86,
    "start_time": "2022-03-18T06:42:51.140Z"
   },
   {
    "duration": 7,
    "start_time": "2022-03-18T06:43:14.456Z"
   },
   {
    "duration": 9,
    "start_time": "2022-03-18T06:47:51.406Z"
   },
   {
    "duration": 9,
    "start_time": "2022-03-18T06:49:05.567Z"
   },
   {
    "duration": 46,
    "start_time": "2022-03-18T06:49:13.646Z"
   },
   {
    "duration": 15,
    "start_time": "2022-03-18T06:49:22.986Z"
   },
   {
    "duration": 3509,
    "start_time": "2022-03-18T06:49:28.528Z"
   },
   {
    "duration": 1414,
    "start_time": "2022-03-18T06:51:13.446Z"
   },
   {
    "duration": 66,
    "start_time": "2022-03-18T06:56:18.009Z"
   },
   {
    "duration": 4,
    "start_time": "2022-03-18T06:56:26.256Z"
   },
   {
    "duration": 72,
    "start_time": "2022-03-18T06:56:34.216Z"
   },
   {
    "duration": 3470,
    "start_time": "2022-03-18T06:57:50.750Z"
   },
   {
    "duration": 1245,
    "start_time": "2022-03-18T09:43:35.664Z"
   },
   {
    "duration": 25,
    "start_time": "2022-03-18T09:43:36.911Z"
   },
   {
    "duration": 83,
    "start_time": "2022-03-18T09:43:36.937Z"
   },
   {
    "duration": 7,
    "start_time": "2022-03-18T09:43:37.022Z"
   },
   {
    "duration": 10,
    "start_time": "2022-03-18T09:43:37.031Z"
   },
   {
    "duration": 26,
    "start_time": "2022-03-18T09:43:37.042Z"
   },
   {
    "duration": 7,
    "start_time": "2022-03-18T09:43:37.069Z"
   },
   {
    "duration": 13,
    "start_time": "2022-03-18T09:43:37.077Z"
   },
   {
    "duration": 18,
    "start_time": "2022-03-18T09:43:37.091Z"
   },
   {
    "duration": 16,
    "start_time": "2022-03-18T09:43:37.110Z"
   },
   {
    "duration": 35,
    "start_time": "2022-03-18T09:43:37.128Z"
   },
   {
    "duration": 3619,
    "start_time": "2022-03-18T09:43:37.165Z"
   },
   {
    "duration": 1429,
    "start_time": "2022-03-18T09:43:40.786Z"
   },
   {
    "duration": 4,
    "start_time": "2022-03-18T09:44:48.504Z"
   },
   {
    "duration": 5,
    "start_time": "2022-03-18T09:45:15.383Z"
   },
   {
    "duration": 4,
    "start_time": "2022-03-18T09:45:32.044Z"
   },
   {
    "duration": 91,
    "start_time": "2022-03-18T09:49:19.803Z"
   },
   {
    "duration": 3,
    "start_time": "2022-03-18T09:49:50.186Z"
   },
   {
    "duration": 12,
    "start_time": "2022-03-18T09:50:03.823Z"
   },
   {
    "duration": 693,
    "start_time": "2022-03-18T09:50:15.444Z"
   },
   {
    "duration": 4,
    "start_time": "2022-03-18T09:54:35.482Z"
   },
   {
    "duration": 19,
    "start_time": "2022-03-18T09:56:56.125Z"
   },
   {
    "duration": 385,
    "start_time": "2022-03-18T09:57:25.004Z"
   },
   {
    "duration": 35,
    "start_time": "2022-03-18T09:59:33.344Z"
   },
   {
    "duration": 20,
    "start_time": "2022-03-18T10:02:45.063Z"
   },
   {
    "duration": 36763,
    "start_time": "2022-03-18T10:03:21.548Z"
   },
   {
    "duration": 1749,
    "start_time": "2022-03-18T10:11:40.804Z"
   },
   {
    "duration": 4221,
    "start_time": "2022-03-18T10:12:01.405Z"
   },
   {
    "duration": 39934,
    "start_time": "2022-03-18T10:16:13.745Z"
   },
   {
    "duration": 990,
    "start_time": "2022-03-18T10:17:36.886Z"
   },
   {
    "duration": 2189,
    "start_time": "2022-03-18T10:17:50.085Z"
   },
   {
    "duration": 4155,
    "start_time": "2022-03-18T10:18:03.404Z"
   },
   {
    "duration": 21343,
    "start_time": "2022-03-18T10:18:23.266Z"
   },
   {
    "duration": 40280,
    "start_time": "2022-03-18T10:18:53.925Z"
   },
   {
    "duration": 8004,
    "start_time": "2022-03-18T10:20:06.123Z"
   },
   {
    "duration": 4097,
    "start_time": "2022-03-18T10:20:23.644Z"
   },
   {
    "duration": 4159,
    "start_time": "2022-03-18T10:25:01.925Z"
   },
   {
    "duration": 4088,
    "start_time": "2022-03-18T10:25:20.684Z"
   },
   {
    "duration": 10391,
    "start_time": "2022-03-18T10:28:05.905Z"
   },
   {
    "duration": 40311,
    "start_time": "2022-03-18T10:29:17.345Z"
   },
   {
    "duration": 10079,
    "start_time": "2022-03-18T10:30:19.526Z"
   },
   {
    "duration": 10247,
    "start_time": "2022-03-18T10:31:00.925Z"
   },
   {
    "duration": 1303,
    "start_time": "2022-03-18T10:32:41.453Z"
   },
   {
    "duration": 26,
    "start_time": "2022-03-18T10:32:42.758Z"
   },
   {
    "duration": 84,
    "start_time": "2022-03-18T10:32:42.786Z"
   },
   {
    "duration": 6,
    "start_time": "2022-03-18T10:32:42.872Z"
   },
   {
    "duration": 9,
    "start_time": "2022-03-18T10:32:42.881Z"
   },
   {
    "duration": 13,
    "start_time": "2022-03-18T10:32:42.892Z"
   },
   {
    "duration": 4,
    "start_time": "2022-03-18T10:32:42.907Z"
   },
   {
    "duration": 6,
    "start_time": "2022-03-18T10:32:42.912Z"
   },
   {
    "duration": 11,
    "start_time": "2022-03-18T10:32:42.920Z"
   },
   {
    "duration": 44,
    "start_time": "2022-03-18T10:32:42.933Z"
   },
   {
    "duration": 16,
    "start_time": "2022-03-18T10:32:42.979Z"
   },
   {
    "duration": 8,
    "start_time": "2022-03-18T10:32:42.996Z"
   },
   {
    "duration": 5,
    "start_time": "2022-03-18T10:32:43.005Z"
   },
   {
    "duration": 413,
    "start_time": "2022-03-18T10:32:43.013Z"
   },
   {
    "duration": 362,
    "start_time": "2022-03-18T10:32:43.428Z"
   },
   {
    "duration": 4109,
    "start_time": "2022-03-18T10:32:43.864Z"
   },
   {
    "duration": 10094,
    "start_time": "2022-03-18T10:32:47.975Z"
   },
   {
    "duration": 1410,
    "start_time": "2022-03-18T10:34:24.230Z"
   },
   {
    "duration": 29,
    "start_time": "2022-03-18T10:34:25.642Z"
   },
   {
    "duration": 97,
    "start_time": "2022-03-18T10:34:25.674Z"
   },
   {
    "duration": 6,
    "start_time": "2022-03-18T10:34:25.773Z"
   },
   {
    "duration": 12,
    "start_time": "2022-03-18T10:34:25.781Z"
   },
   {
    "duration": 8,
    "start_time": "2022-03-18T10:34:25.795Z"
   },
   {
    "duration": 4,
    "start_time": "2022-03-18T10:34:25.805Z"
   },
   {
    "duration": 8,
    "start_time": "2022-03-18T10:34:25.810Z"
   },
   {
    "duration": 12,
    "start_time": "2022-03-18T10:34:25.820Z"
   },
   {
    "duration": 46,
    "start_time": "2022-03-18T10:34:25.833Z"
   },
   {
    "duration": 17,
    "start_time": "2022-03-18T10:34:25.882Z"
   },
   {
    "duration": 8,
    "start_time": "2022-03-18T10:34:25.900Z"
   },
   {
    "duration": 6,
    "start_time": "2022-03-18T10:34:25.910Z"
   },
   {
    "duration": 448,
    "start_time": "2022-03-18T10:34:25.918Z"
   },
   {
    "duration": 399,
    "start_time": "2022-03-18T10:34:26.368Z"
   },
   {
    "duration": 4535,
    "start_time": "2022-03-18T10:34:26.769Z"
   },
   {
    "duration": 12040,
    "start_time": "2022-03-18T10:34:31.306Z"
   },
   {
    "duration": 10062,
    "start_time": "2022-03-18T10:35:10.549Z"
   },
   {
    "duration": 1255,
    "start_time": "2022-03-18T10:36:03.733Z"
   },
   {
    "duration": 26,
    "start_time": "2022-03-18T10:36:04.991Z"
   },
   {
    "duration": 91,
    "start_time": "2022-03-18T10:36:05.019Z"
   },
   {
    "duration": 7,
    "start_time": "2022-03-18T10:36:05.112Z"
   },
   {
    "duration": 7,
    "start_time": "2022-03-18T10:36:05.122Z"
   },
   {
    "duration": 32,
    "start_time": "2022-03-18T10:36:05.131Z"
   },
   {
    "duration": 4,
    "start_time": "2022-03-18T10:36:05.165Z"
   },
   {
    "duration": 13,
    "start_time": "2022-03-18T10:36:05.171Z"
   },
   {
    "duration": 20,
    "start_time": "2022-03-18T10:36:05.186Z"
   },
   {
    "duration": 19,
    "start_time": "2022-03-18T10:36:05.207Z"
   },
   {
    "duration": 36,
    "start_time": "2022-03-18T10:36:05.227Z"
   },
   {
    "duration": 5,
    "start_time": "2022-03-18T10:36:05.265Z"
   },
   {
    "duration": 399,
    "start_time": "2022-03-18T10:36:05.271Z"
   },
   {
    "duration": 399,
    "start_time": "2022-03-18T10:36:05.672Z"
   },
   {
    "duration": 4154,
    "start_time": "2022-03-18T10:36:06.165Z"
   },
   {
    "duration": 10189,
    "start_time": "2022-03-18T10:36:10.320Z"
   },
   {
    "duration": 8910,
    "start_time": "2022-03-18T10:36:41.293Z"
   },
   {
    "duration": 1191,
    "start_time": "2022-03-18T10:38:11.734Z"
   },
   {
    "duration": 24,
    "start_time": "2022-03-18T10:38:12.927Z"
   },
   {
    "duration": 81,
    "start_time": "2022-03-18T10:38:12.953Z"
   },
   {
    "duration": 7,
    "start_time": "2022-03-18T10:38:13.036Z"
   },
   {
    "duration": 8,
    "start_time": "2022-03-18T10:38:13.065Z"
   },
   {
    "duration": 8,
    "start_time": "2022-03-18T10:38:13.075Z"
   },
   {
    "duration": 5,
    "start_time": "2022-03-18T10:38:13.085Z"
   },
   {
    "duration": 12,
    "start_time": "2022-03-18T10:38:13.092Z"
   },
   {
    "duration": 17,
    "start_time": "2022-03-18T10:38:13.106Z"
   },
   {
    "duration": 44,
    "start_time": "2022-03-18T10:38:13.125Z"
   },
   {
    "duration": 7,
    "start_time": "2022-03-18T10:38:13.171Z"
   },
   {
    "duration": 402,
    "start_time": "2022-03-18T10:38:13.179Z"
   },
   {
    "duration": 183,
    "start_time": "2022-03-18T10:38:13.583Z"
   },
   {
    "duration": 4087,
    "start_time": "2022-03-18T10:38:13.769Z"
   },
   {
    "duration": 9802,
    "start_time": "2022-03-18T10:38:17.862Z"
   },
   {
    "duration": 4116,
    "start_time": "2022-03-18T10:39:09.084Z"
   },
   {
    "duration": 16,
    "start_time": "2022-03-18T10:39:26.364Z"
   },
   {
    "duration": 4,
    "start_time": "2022-03-18T10:44:21.984Z"
   },
   {
    "duration": 25,
    "start_time": "2022-03-18T10:44:25.344Z"
   },
   {
    "duration": 68,
    "start_time": "2022-03-18T10:44:27.764Z"
   },
   {
    "duration": 7,
    "start_time": "2022-03-18T10:44:35.563Z"
   },
   {
    "duration": 5,
    "start_time": "2022-03-18T10:44:40.543Z"
   },
   {
    "duration": 11,
    "start_time": "2022-03-18T10:44:46.124Z"
   },
   {
    "duration": 20,
    "start_time": "2022-03-18T10:44:51.203Z"
   },
   {
    "duration": 9,
    "start_time": "2022-03-18T10:45:00.384Z"
   },
   {
    "duration": 4112,
    "start_time": "2022-03-18T10:45:20.324Z"
   },
   {
    "duration": 10217,
    "start_time": "2022-03-18T10:45:52.405Z"
   },
   {
    "duration": 1417,
    "start_time": "2022-03-18T10:46:29.339Z"
   },
   {
    "duration": 25,
    "start_time": "2022-03-18T10:46:30.758Z"
   },
   {
    "duration": 80,
    "start_time": "2022-03-18T10:46:30.785Z"
   },
   {
    "duration": 6,
    "start_time": "2022-03-18T10:46:30.867Z"
   },
   {
    "duration": 18,
    "start_time": "2022-03-18T10:46:30.875Z"
   },
   {
    "duration": 11,
    "start_time": "2022-03-18T10:46:30.894Z"
   },
   {
    "duration": 11,
    "start_time": "2022-03-18T10:46:30.907Z"
   },
   {
    "duration": 17,
    "start_time": "2022-03-18T10:46:30.920Z"
   },
   {
    "duration": 38,
    "start_time": "2022-03-18T10:46:30.939Z"
   },
   {
    "duration": 24,
    "start_time": "2022-03-18T10:46:30.980Z"
   },
   {
    "duration": 11,
    "start_time": "2022-03-18T10:46:31.006Z"
   },
   {
    "duration": 550,
    "start_time": "2022-03-18T10:46:31.020Z"
   },
   {
    "duration": 494,
    "start_time": "2022-03-18T10:46:31.573Z"
   },
   {
    "duration": 4152,
    "start_time": "2022-03-18T10:46:32.073Z"
   },
   {
    "duration": 10095,
    "start_time": "2022-03-18T10:46:36.226Z"
   },
   {
    "duration": 18,
    "start_time": "2022-03-18T10:46:46.323Z"
   },
   {
    "duration": 6,
    "start_time": "2022-03-18T10:58:13.523Z"
   },
   {
    "duration": 360,
    "start_time": "2022-03-18T11:52:37.189Z"
   },
   {
    "duration": 3960,
    "start_time": "2022-03-18T11:52:51.390Z"
   },
   {
    "duration": 10792,
    "start_time": "2022-03-18T11:53:01.735Z"
   },
   {
    "duration": 103,
    "start_time": "2022-03-18T11:53:40.749Z"
   },
   {
    "duration": 4,
    "start_time": "2022-03-18T11:54:07.309Z"
   },
   {
    "duration": 12,
    "start_time": "2022-03-18T11:54:13.989Z"
   },
   {
    "duration": 462,
    "start_time": "2022-03-18T11:55:23.010Z"
   },
   {
    "duration": 166,
    "start_time": "2022-03-18T11:56:02.509Z"
   },
   {
    "duration": 197,
    "start_time": "2022-03-18T11:56:11.771Z"
   },
   {
    "duration": 4034,
    "start_time": "2022-03-18T11:56:51.569Z"
   },
   {
    "duration": 10911,
    "start_time": "2022-03-18T11:57:06.014Z"
   },
   {
    "duration": 1406,
    "start_time": "2022-03-18T11:57:26.640Z"
   },
   {
    "duration": 30,
    "start_time": "2022-03-18T11:57:28.048Z"
   },
   {
    "duration": 174,
    "start_time": "2022-03-18T11:57:28.080Z"
   },
   {
    "duration": 8,
    "start_time": "2022-03-18T11:57:28.256Z"
   },
   {
    "duration": 8,
    "start_time": "2022-03-18T11:57:28.267Z"
   },
   {
    "duration": 7,
    "start_time": "2022-03-18T11:57:28.277Z"
   },
   {
    "duration": 6,
    "start_time": "2022-03-18T11:57:28.286Z"
   },
   {
    "duration": 15,
    "start_time": "2022-03-18T11:57:28.294Z"
   },
   {
    "duration": 22,
    "start_time": "2022-03-18T11:57:28.310Z"
   },
   {
    "duration": 44,
    "start_time": "2022-03-18T11:57:28.333Z"
   },
   {
    "duration": 9,
    "start_time": "2022-03-18T11:57:28.379Z"
   },
   {
    "duration": 384,
    "start_time": "2022-03-18T11:57:28.389Z"
   },
   {
    "duration": 194,
    "start_time": "2022-03-18T11:57:28.774Z"
   },
   {
    "duration": 4410,
    "start_time": "2022-03-18T11:57:28.972Z"
   },
   {
    "duration": 9817,
    "start_time": "2022-03-18T11:57:33.384Z"
   },
   {
    "duration": 172,
    "start_time": "2022-03-18T11:57:43.203Z"
   },
   {
    "duration": 4568,
    "start_time": "2022-03-18T11:57:43.465Z"
   },
   {
    "duration": 10081,
    "start_time": "2022-03-18T11:57:48.036Z"
   },
   {
    "duration": 5,
    "start_time": "2022-03-18T11:57:58.119Z"
   },
   {
    "duration": 17,
    "start_time": "2022-03-18T11:57:58.126Z"
   },
   {
    "duration": 483,
    "start_time": "2022-03-18T11:57:58.144Z"
   },
   {
    "duration": 1202,
    "start_time": "2022-03-18T12:00:48.610Z"
   },
   {
    "duration": 30,
    "start_time": "2022-03-18T12:00:49.814Z"
   },
   {
    "duration": 78,
    "start_time": "2022-03-18T12:00:49.845Z"
   },
   {
    "duration": 7,
    "start_time": "2022-03-18T12:00:49.925Z"
   },
   {
    "duration": 9,
    "start_time": "2022-03-18T12:00:49.934Z"
   },
   {
    "duration": 21,
    "start_time": "2022-03-18T12:00:49.944Z"
   },
   {
    "duration": 7,
    "start_time": "2022-03-18T12:00:49.967Z"
   },
   {
    "duration": 12,
    "start_time": "2022-03-18T12:00:49.976Z"
   },
   {
    "duration": 18,
    "start_time": "2022-03-18T12:00:49.989Z"
   },
   {
    "duration": 19,
    "start_time": "2022-03-18T12:00:50.009Z"
   },
   {
    "duration": 38,
    "start_time": "2022-03-18T12:00:50.030Z"
   },
   {
    "duration": 396,
    "start_time": "2022-03-18T12:00:50.069Z"
   },
   {
    "duration": 203,
    "start_time": "2022-03-18T12:00:50.468Z"
   },
   {
    "duration": 4390,
    "start_time": "2022-03-18T12:00:50.675Z"
   },
   {
    "duration": 10935,
    "start_time": "2022-03-18T12:00:55.067Z"
   },
   {
    "duration": 6,
    "start_time": "2022-03-18T12:01:06.004Z"
   },
   {
    "duration": 19,
    "start_time": "2022-03-18T12:01:06.011Z"
   },
   {
    "duration": 496,
    "start_time": "2022-03-18T12:01:06.032Z"
   },
   {
    "duration": 245,
    "start_time": "2022-03-18T12:01:06.529Z"
   },
   {
    "duration": 5914,
    "start_time": "2022-03-18T12:01:06.867Z"
   },
   {
    "duration": 10518,
    "start_time": "2022-03-18T12:01:12.783Z"
   },
   {
    "duration": 1204,
    "start_time": "2022-03-18T12:08:02.693Z"
   },
   {
    "duration": 31,
    "start_time": "2022-03-18T12:08:03.899Z"
   },
   {
    "duration": 73,
    "start_time": "2022-03-18T12:08:03.932Z"
   },
   {
    "duration": 6,
    "start_time": "2022-03-18T12:08:04.007Z"
   },
   {
    "duration": 7,
    "start_time": "2022-03-18T12:08:04.015Z"
   },
   {
    "duration": 6,
    "start_time": "2022-03-18T12:08:04.023Z"
   },
   {
    "duration": 33,
    "start_time": "2022-03-18T12:08:04.031Z"
   },
   {
    "duration": 10,
    "start_time": "2022-03-18T12:08:04.066Z"
   },
   {
    "duration": 18,
    "start_time": "2022-03-18T12:08:04.077Z"
   },
   {
    "duration": 16,
    "start_time": "2022-03-18T12:08:04.097Z"
   },
   {
    "duration": 2,
    "start_time": "2022-03-18T12:08:04.115Z"
   },
   {
    "duration": 12,
    "start_time": "2022-03-18T12:08:04.119Z"
   },
   {
    "duration": 330,
    "start_time": "2022-03-18T12:08:04.132Z"
   },
   {
    "duration": 202,
    "start_time": "2022-03-18T12:08:04.466Z"
   },
   {
    "duration": 3593,
    "start_time": "2022-03-18T12:08:04.670Z"
   },
   {
    "duration": 8282,
    "start_time": "2022-03-18T12:08:08.264Z"
   },
   {
    "duration": 15,
    "start_time": "2022-03-18T12:08:16.548Z"
   },
   {
    "duration": 15,
    "start_time": "2022-03-18T12:08:16.564Z"
   },
   {
    "duration": 402,
    "start_time": "2022-03-18T12:08:16.580Z"
   },
   {
    "duration": 186,
    "start_time": "2022-03-18T12:08:16.984Z"
   },
   {
    "duration": 4692,
    "start_time": "2022-03-18T12:08:17.173Z"
   },
   {
    "duration": 11120,
    "start_time": "2022-03-18T12:08:21.866Z"
   },
   {
    "duration": 5,
    "start_time": "2022-03-18T12:09:22.349Z"
   },
   {
    "duration": 8,
    "start_time": "2022-03-18T12:12:56.468Z"
   },
   {
    "duration": 6,
    "start_time": "2022-03-18T12:14:10.829Z"
   },
   {
    "duration": 3,
    "start_time": "2022-03-18T12:14:41.830Z"
   },
   {
    "duration": 3,
    "start_time": "2022-03-18T12:14:57.171Z"
   },
   {
    "duration": 6,
    "start_time": "2022-03-18T12:15:26.794Z"
   },
   {
    "duration": 4862,
    "start_time": "2022-03-18T12:19:28.049Z"
   },
   {
    "duration": 1361,
    "start_time": "2022-03-18T12:26:05.052Z"
   },
   {
    "duration": 28,
    "start_time": "2022-03-18T12:26:06.415Z"
   },
   {
    "duration": 80,
    "start_time": "2022-03-18T12:26:06.445Z"
   },
   {
    "duration": 6,
    "start_time": "2022-03-18T12:26:06.527Z"
   },
   {
    "duration": 29,
    "start_time": "2022-03-18T12:26:06.534Z"
   },
   {
    "duration": 6,
    "start_time": "2022-03-18T12:26:06.565Z"
   },
   {
    "duration": 6,
    "start_time": "2022-03-18T12:26:06.573Z"
   },
   {
    "duration": 13,
    "start_time": "2022-03-18T12:26:06.581Z"
   },
   {
    "duration": 19,
    "start_time": "2022-03-18T12:26:06.596Z"
   },
   {
    "duration": 17,
    "start_time": "2022-03-18T12:26:06.617Z"
   },
   {
    "duration": 27,
    "start_time": "2022-03-18T12:26:06.636Z"
   },
   {
    "duration": 16,
    "start_time": "2022-03-18T12:26:06.665Z"
   },
   {
    "duration": 337,
    "start_time": "2022-03-18T12:26:06.683Z"
   },
   {
    "duration": 247,
    "start_time": "2022-03-18T12:26:07.021Z"
   },
   {
    "duration": 3605,
    "start_time": "2022-03-18T12:26:07.272Z"
   },
   {
    "duration": 8278,
    "start_time": "2022-03-18T12:26:10.878Z"
   },
   {
    "duration": 6,
    "start_time": "2022-03-18T12:26:19.162Z"
   },
   {
    "duration": 17,
    "start_time": "2022-03-18T12:26:19.170Z"
   },
   {
    "duration": 406,
    "start_time": "2022-03-18T12:26:19.189Z"
   },
   {
    "duration": 267,
    "start_time": "2022-03-18T12:26:19.597Z"
   },
   {
    "duration": 5188,
    "start_time": "2022-03-18T12:26:19.867Z"
   },
   {
    "duration": 11292,
    "start_time": "2022-03-18T12:26:25.062Z"
   },
   {
    "duration": 11701,
    "start_time": "2022-03-18T12:34:15.851Z"
   },
   {
    "duration": 12714,
    "start_time": "2022-03-18T12:34:46.031Z"
   },
   {
    "duration": 1260,
    "start_time": "2022-03-18T12:40:46.941Z"
   },
   {
    "duration": 25,
    "start_time": "2022-03-18T12:40:48.203Z"
   },
   {
    "duration": 74,
    "start_time": "2022-03-18T12:40:48.230Z"
   },
   {
    "duration": 6,
    "start_time": "2022-03-18T12:40:48.306Z"
   },
   {
    "duration": 7,
    "start_time": "2022-03-18T12:40:48.314Z"
   },
   {
    "duration": 8,
    "start_time": "2022-03-18T12:40:48.323Z"
   },
   {
    "duration": 31,
    "start_time": "2022-03-18T12:40:48.332Z"
   },
   {
    "duration": 12,
    "start_time": "2022-03-18T12:40:48.365Z"
   },
   {
    "duration": 18,
    "start_time": "2022-03-18T12:40:48.379Z"
   },
   {
    "duration": 20,
    "start_time": "2022-03-18T12:40:48.398Z"
   },
   {
    "duration": 3,
    "start_time": "2022-03-18T12:40:48.420Z"
   },
   {
    "duration": 40,
    "start_time": "2022-03-18T12:40:48.424Z"
   },
   {
    "duration": 319,
    "start_time": "2022-03-18T12:40:48.466Z"
   },
   {
    "duration": 275,
    "start_time": "2022-03-18T12:40:48.788Z"
   },
   {
    "duration": 3478,
    "start_time": "2022-03-18T12:40:49.066Z"
   },
   {
    "duration": 7985,
    "start_time": "2022-03-18T12:40:52.546Z"
   },
   {
    "duration": 6,
    "start_time": "2022-03-18T12:41:00.533Z"
   },
   {
    "duration": 30,
    "start_time": "2022-03-18T12:41:00.541Z"
   },
   {
    "duration": 406,
    "start_time": "2022-03-18T12:41:00.573Z"
   },
   {
    "duration": 193,
    "start_time": "2022-03-18T12:41:00.982Z"
   },
   {
    "duration": 5223,
    "start_time": "2022-03-18T12:41:01.265Z"
   },
   {
    "duration": 12482,
    "start_time": "2022-03-18T12:41:06.489Z"
   },
   {
    "duration": 1205,
    "start_time": "2022-03-19T04:39:47.343Z"
   },
   {
    "duration": 30,
    "start_time": "2022-03-19T04:39:48.550Z"
   },
   {
    "duration": 68,
    "start_time": "2022-03-19T04:39:48.581Z"
   },
   {
    "duration": 5,
    "start_time": "2022-03-19T04:39:48.651Z"
   },
   {
    "duration": 6,
    "start_time": "2022-03-19T04:39:48.682Z"
   },
   {
    "duration": 7,
    "start_time": "2022-03-19T04:39:48.690Z"
   },
   {
    "duration": 5,
    "start_time": "2022-03-19T04:39:48.699Z"
   },
   {
    "duration": 12,
    "start_time": "2022-03-19T04:39:48.705Z"
   },
   {
    "duration": 16,
    "start_time": "2022-03-19T04:39:48.718Z"
   },
   {
    "duration": 15,
    "start_time": "2022-03-19T04:39:48.736Z"
   },
   {
    "duration": 2,
    "start_time": "2022-03-19T04:39:48.753Z"
   },
   {
    "duration": 11,
    "start_time": "2022-03-19T04:39:48.781Z"
   },
   {
    "duration": 287,
    "start_time": "2022-03-19T04:39:48.794Z"
   },
   {
    "duration": 201,
    "start_time": "2022-03-19T04:39:49.084Z"
   },
   {
    "duration": 3290,
    "start_time": "2022-03-19T04:39:49.287Z"
   },
   {
    "duration": 6673,
    "start_time": "2022-03-19T04:39:52.581Z"
   },
   {
    "duration": 9,
    "start_time": "2022-03-19T04:39:59.256Z"
   },
   {
    "duration": 26,
    "start_time": "2022-03-19T04:39:59.267Z"
   },
   {
    "duration": 355,
    "start_time": "2022-03-19T04:39:59.294Z"
   },
   {
    "duration": 235,
    "start_time": "2022-03-19T04:39:59.650Z"
   },
   {
    "duration": 4506,
    "start_time": "2022-03-19T04:39:59.887Z"
   },
   {
    "duration": 9294,
    "start_time": "2022-03-19T04:40:04.394Z"
   },
   {
    "duration": 340,
    "start_time": "2022-03-19T04:40:13.690Z"
   },
   {
    "duration": 3,
    "start_time": "2022-03-19T04:46:07.913Z"
   },
   {
    "duration": 1210,
    "start_time": "2022-03-19T05:15:23.478Z"
   },
   {
    "duration": 43,
    "start_time": "2022-03-19T05:15:24.690Z"
   },
   {
    "duration": 69,
    "start_time": "2022-03-19T05:15:24.735Z"
   },
   {
    "duration": 6,
    "start_time": "2022-03-19T05:15:24.806Z"
   },
   {
    "duration": 8,
    "start_time": "2022-03-19T05:15:24.813Z"
   },
   {
    "duration": 10,
    "start_time": "2022-03-19T05:15:24.823Z"
   },
   {
    "duration": 5,
    "start_time": "2022-03-19T05:15:24.835Z"
   },
   {
    "duration": 11,
    "start_time": "2022-03-19T05:15:24.842Z"
   },
   {
    "duration": 37,
    "start_time": "2022-03-19T05:15:24.854Z"
   },
   {
    "duration": 16,
    "start_time": "2022-03-19T05:15:24.893Z"
   },
   {
    "duration": 4,
    "start_time": "2022-03-19T05:15:24.910Z"
   },
   {
    "duration": 11,
    "start_time": "2022-03-19T05:15:24.915Z"
   },
   {
    "duration": 302,
    "start_time": "2022-03-19T05:15:24.927Z"
   },
   {
    "duration": 158,
    "start_time": "2022-03-19T05:15:25.230Z"
   },
   {
    "duration": 3302,
    "start_time": "2022-03-19T05:15:25.391Z"
   },
   {
    "duration": 7463,
    "start_time": "2022-03-19T05:15:28.695Z"
   },
   {
    "duration": 5,
    "start_time": "2022-03-19T05:15:36.160Z"
   },
   {
    "duration": 25,
    "start_time": "2022-03-19T05:15:36.167Z"
   },
   {
    "duration": 363,
    "start_time": "2022-03-19T05:15:36.193Z"
   },
   {
    "duration": 223,
    "start_time": "2022-03-19T05:15:36.558Z"
   },
   {
    "duration": 4507,
    "start_time": "2022-03-19T05:15:36.783Z"
   },
   {
    "duration": 10145,
    "start_time": "2022-03-19T05:15:41.292Z"
   },
   {
    "duration": 260,
    "start_time": "2022-03-19T05:15:51.439Z"
   },
   {
    "duration": 92,
    "start_time": "2022-03-19T05:15:51.700Z"
   },
   {
    "duration": 1487,
    "start_time": "2022-03-19T05:18:32.335Z"
   },
   {
    "duration": 29,
    "start_time": "2022-03-19T05:18:33.824Z"
   },
   {
    "duration": 63,
    "start_time": "2022-03-19T05:18:33.855Z"
   },
   {
    "duration": 5,
    "start_time": "2022-03-19T05:18:33.919Z"
   },
   {
    "duration": 7,
    "start_time": "2022-03-19T05:18:33.926Z"
   },
   {
    "duration": 7,
    "start_time": "2022-03-19T05:18:33.934Z"
   },
   {
    "duration": 8,
    "start_time": "2022-03-19T05:18:33.942Z"
   },
   {
    "duration": 12,
    "start_time": "2022-03-19T05:18:33.951Z"
   },
   {
    "duration": 18,
    "start_time": "2022-03-19T05:18:33.981Z"
   },
   {
    "duration": 14,
    "start_time": "2022-03-19T05:18:34.000Z"
   },
   {
    "duration": 4,
    "start_time": "2022-03-19T05:18:34.015Z"
   },
   {
    "duration": 11,
    "start_time": "2022-03-19T05:18:34.020Z"
   },
   {
    "duration": 297,
    "start_time": "2022-03-19T05:18:34.032Z"
   },
   {
    "duration": 155,
    "start_time": "2022-03-19T05:18:34.333Z"
   },
   {
    "duration": 3278,
    "start_time": "2022-03-19T05:18:34.490Z"
   },
   {
    "duration": 7789,
    "start_time": "2022-03-19T05:18:37.770Z"
   },
   {
    "duration": 5,
    "start_time": "2022-03-19T05:18:45.561Z"
   },
   {
    "duration": 24,
    "start_time": "2022-03-19T05:18:45.567Z"
   },
   {
    "duration": 347,
    "start_time": "2022-03-19T05:18:45.593Z"
   },
   {
    "duration": 240,
    "start_time": "2022-03-19T05:18:45.942Z"
   },
   {
    "duration": 4233,
    "start_time": "2022-03-19T05:18:46.184Z"
   },
   {
    "duration": 9848,
    "start_time": "2022-03-19T05:18:50.418Z"
   },
   {
    "duration": 194,
    "start_time": "2022-03-19T05:19:00.267Z"
   },
   {
    "duration": 139,
    "start_time": "2022-03-19T05:19:00.462Z"
   },
   {
    "duration": 169,
    "start_time": "2022-03-19T05:19:00.603Z"
   },
   {
    "duration": 0,
    "start_time": "2022-03-19T05:19:00.774Z"
   },
   {
    "duration": 5,
    "start_time": "2022-03-19T05:19:31.754Z"
   },
   {
    "duration": 188,
    "start_time": "2022-03-19T05:25:12.393Z"
   },
   {
    "duration": 5,
    "start_time": "2022-03-19T05:31:14.673Z"
   },
   {
    "duration": 9995,
    "start_time": "2022-03-19T05:43:36.273Z"
   },
   {
    "duration": 4179,
    "start_time": "2022-03-19T05:47:50.629Z"
   },
   {
    "duration": 4141,
    "start_time": "2022-03-19T05:48:23.392Z"
   },
   {
    "duration": 9966,
    "start_time": "2022-03-19T05:48:51.915Z"
   },
   {
    "duration": 9932,
    "start_time": "2022-03-19T05:49:10.490Z"
   },
   {
    "duration": 2,
    "start_time": "2022-03-19T05:50:46.180Z"
   },
   {
    "duration": 2,
    "start_time": "2022-03-19T05:51:13.570Z"
   },
   {
    "duration": 129,
    "start_time": "2022-03-19T05:53:54.253Z"
   },
   {
    "duration": 355,
    "start_time": "2022-03-19T05:58:23.961Z"
   },
   {
    "duration": 177,
    "start_time": "2022-03-19T05:59:47.420Z"
   },
   {
    "duration": 2,
    "start_time": "2022-03-19T06:03:29.701Z"
   },
   {
    "duration": 2,
    "start_time": "2022-03-19T06:04:52.070Z"
   },
   {
    "duration": 2,
    "start_time": "2022-03-19T06:57:57.431Z"
   },
   {
    "duration": 1485,
    "start_time": "2022-03-19T07:01:02.643Z"
   },
   {
    "duration": 42,
    "start_time": "2022-03-19T07:01:04.130Z"
   },
   {
    "duration": 68,
    "start_time": "2022-03-19T07:01:04.174Z"
   },
   {
    "duration": 5,
    "start_time": "2022-03-19T07:01:04.244Z"
   },
   {
    "duration": 7,
    "start_time": "2022-03-19T07:01:04.252Z"
   },
   {
    "duration": 6,
    "start_time": "2022-03-19T07:01:04.280Z"
   },
   {
    "duration": 5,
    "start_time": "2022-03-19T07:01:04.288Z"
   },
   {
    "duration": 11,
    "start_time": "2022-03-19T07:01:04.294Z"
   },
   {
    "duration": 17,
    "start_time": "2022-03-19T07:01:04.307Z"
   },
   {
    "duration": 16,
    "start_time": "2022-03-19T07:01:04.326Z"
   },
   {
    "duration": 43,
    "start_time": "2022-03-19T07:01:04.344Z"
   },
   {
    "duration": 294,
    "start_time": "2022-03-19T07:01:04.389Z"
   },
   {
    "duration": 201,
    "start_time": "2022-03-19T07:01:04.685Z"
   },
   {
    "duration": 3394,
    "start_time": "2022-03-19T07:01:04.889Z"
   },
   {
    "duration": 7969,
    "start_time": "2022-03-19T07:01:08.284Z"
   },
   {
    "duration": 5,
    "start_time": "2022-03-19T07:01:16.254Z"
   },
   {
    "duration": 30,
    "start_time": "2022-03-19T07:01:16.261Z"
   },
   {
    "duration": 364,
    "start_time": "2022-03-19T07:01:16.292Z"
   },
   {
    "duration": 329,
    "start_time": "2022-03-19T07:01:16.657Z"
   },
   {
    "duration": 4441,
    "start_time": "2022-03-19T07:01:16.988Z"
   },
   {
    "duration": 10782,
    "start_time": "2022-03-19T07:01:21.431Z"
   },
   {
    "duration": 411,
    "start_time": "2022-03-19T07:01:32.215Z"
   },
   {
    "duration": 149,
    "start_time": "2022-03-19T07:01:32.628Z"
   },
   {
    "duration": 7,
    "start_time": "2022-03-19T07:01:32.780Z"
   },
   {
    "duration": 1442,
    "start_time": "2022-03-19T07:07:38.930Z"
   },
   {
    "duration": 30,
    "start_time": "2022-03-19T07:07:40.374Z"
   },
   {
    "duration": 69,
    "start_time": "2022-03-19T07:07:40.406Z"
   },
   {
    "duration": 8,
    "start_time": "2022-03-19T07:07:40.476Z"
   },
   {
    "duration": 8,
    "start_time": "2022-03-19T07:07:40.486Z"
   },
   {
    "duration": 5,
    "start_time": "2022-03-19T07:07:40.496Z"
   },
   {
    "duration": 6,
    "start_time": "2022-03-19T07:07:40.503Z"
   },
   {
    "duration": 13,
    "start_time": "2022-03-19T07:07:40.510Z"
   },
   {
    "duration": 16,
    "start_time": "2022-03-19T07:07:40.525Z"
   },
   {
    "duration": 43,
    "start_time": "2022-03-19T07:07:40.543Z"
   },
   {
    "duration": 11,
    "start_time": "2022-03-19T07:07:40.587Z"
   },
   {
    "duration": 296,
    "start_time": "2022-03-19T07:07:40.600Z"
   },
   {
    "duration": 186,
    "start_time": "2022-03-19T07:07:40.898Z"
   },
   {
    "duration": 3235,
    "start_time": "2022-03-19T07:07:41.087Z"
   },
   {
    "duration": 8124,
    "start_time": "2022-03-19T07:07:44.324Z"
   },
   {
    "duration": 7,
    "start_time": "2022-03-19T07:07:52.450Z"
   },
   {
    "duration": 35,
    "start_time": "2022-03-19T07:07:52.459Z"
   },
   {
    "duration": 371,
    "start_time": "2022-03-19T07:07:52.495Z"
   },
   {
    "duration": 218,
    "start_time": "2022-03-19T07:07:52.868Z"
   },
   {
    "duration": 4948,
    "start_time": "2022-03-19T07:07:53.088Z"
   },
   {
    "duration": 11489,
    "start_time": "2022-03-19T07:07:58.038Z"
   },
   {
    "duration": 354,
    "start_time": "2022-03-19T07:08:09.529Z"
   },
   {
    "duration": 146,
    "start_time": "2022-03-19T07:08:09.884Z"
   },
   {
    "duration": 6,
    "start_time": "2022-03-19T07:08:10.031Z"
   },
   {
    "duration": 2423,
    "start_time": "2022-03-20T06:03:40.539Z"
   },
   {
    "duration": 39,
    "start_time": "2022-03-20T06:03:42.966Z"
   },
   {
    "duration": 122,
    "start_time": "2022-03-20T06:03:43.007Z"
   },
   {
    "duration": 14,
    "start_time": "2022-03-20T06:03:43.143Z"
   },
   {
    "duration": 12,
    "start_time": "2022-03-20T06:03:43.160Z"
   },
   {
    "duration": 10,
    "start_time": "2022-03-20T06:03:43.174Z"
   },
   {
    "duration": 7,
    "start_time": "2022-03-20T06:03:43.187Z"
   },
   {
    "duration": 58,
    "start_time": "2022-03-20T06:03:43.196Z"
   },
   {
    "duration": 30,
    "start_time": "2022-03-20T06:03:43.256Z"
   },
   {
    "duration": 26,
    "start_time": "2022-03-20T06:03:43.290Z"
   },
   {
    "duration": 41,
    "start_time": "2022-03-20T06:03:43.318Z"
   },
   {
    "duration": 466,
    "start_time": "2022-03-20T06:03:43.361Z"
   },
   {
    "duration": 534,
    "start_time": "2022-03-20T06:03:43.830Z"
   },
   {
    "duration": 5466,
    "start_time": "2022-03-20T06:03:44.452Z"
   },
   {
    "duration": 12623,
    "start_time": "2022-03-20T06:03:49.920Z"
   },
   {
    "duration": 12,
    "start_time": "2022-03-20T06:04:02.545Z"
   },
   {
    "duration": 28,
    "start_time": "2022-03-20T06:04:02.559Z"
   },
   {
    "duration": 613,
    "start_time": "2022-03-20T06:04:02.589Z"
   },
   {
    "duration": 645,
    "start_time": "2022-03-20T06:04:03.204Z"
   },
   {
    "duration": 7331,
    "start_time": "2022-03-20T06:04:03.858Z"
   },
   {
    "duration": 15790,
    "start_time": "2022-03-20T06:04:11.191Z"
   },
   {
    "duration": 489,
    "start_time": "2022-03-20T06:04:26.983Z"
   },
   {
    "duration": 251,
    "start_time": "2022-03-20T06:04:27.474Z"
   },
   {
    "duration": 8,
    "start_time": "2022-03-20T06:04:27.728Z"
   },
   {
    "duration": 1721,
    "start_time": "2022-03-20T09:46:51.094Z"
   },
   {
    "duration": 31,
    "start_time": "2022-03-20T09:46:56.315Z"
   },
   {
    "duration": 78,
    "start_time": "2022-03-20T09:47:01.585Z"
   },
   {
    "duration": 7,
    "start_time": "2022-03-20T09:47:10.244Z"
   },
   {
    "duration": 6,
    "start_time": "2022-03-20T09:47:45.663Z"
   },
   {
    "duration": 8,
    "start_time": "2022-03-20T09:50:55.833Z"
   },
   {
    "duration": 7,
    "start_time": "2022-03-20T09:51:02.474Z"
   },
   {
    "duration": 21,
    "start_time": "2022-03-20T09:54:51.393Z"
   },
   {
    "duration": 4,
    "start_time": "2022-03-20T09:57:53.554Z"
   },
   {
    "duration": 18,
    "start_time": "2022-03-20T09:57:56.573Z"
   },
   {
    "duration": 8,
    "start_time": "2022-03-20T09:58:13.424Z"
   },
   {
    "duration": 19,
    "start_time": "2022-03-20T09:58:22.133Z"
   },
   {
    "duration": 108,
    "start_time": "2022-03-20T09:59:18.483Z"
   },
   {
    "duration": 25,
    "start_time": "2022-03-20T09:59:51.654Z"
   },
   {
    "duration": 5,
    "start_time": "2022-03-20T10:00:02.274Z"
   },
   {
    "duration": 18,
    "start_time": "2022-03-20T10:00:04.363Z"
   },
   {
    "duration": 10,
    "start_time": "2022-03-20T10:00:13.001Z"
   },
   {
    "duration": 20,
    "start_time": "2022-03-20T10:00:15.473Z"
   },
   {
    "duration": 154,
    "start_time": "2022-03-20T10:14:09.515Z"
   },
   {
    "duration": 14,
    "start_time": "2022-03-20T10:15:53.404Z"
   },
   {
    "duration": 6,
    "start_time": "2022-03-20T10:15:59.724Z"
   },
   {
    "duration": 3,
    "start_time": "2022-03-20T10:16:51.775Z"
   },
   {
    "duration": 18,
    "start_time": "2022-03-20T10:22:14.113Z"
   },
   {
    "duration": 15,
    "start_time": "2022-03-20T10:22:35.774Z"
   },
   {
    "duration": 26,
    "start_time": "2022-03-20T10:22:51.723Z"
   },
   {
    "duration": 16,
    "start_time": "2022-03-20T10:22:54.264Z"
   },
   {
    "duration": 3,
    "start_time": "2022-03-20T10:23:57.554Z"
   },
   {
    "duration": 1572,
    "start_time": "2022-03-20T10:28:53.364Z"
   },
   {
    "duration": 27,
    "start_time": "2022-03-20T10:28:54.939Z"
   },
   {
    "duration": 78,
    "start_time": "2022-03-20T10:28:54.967Z"
   },
   {
    "duration": 7,
    "start_time": "2022-03-20T10:28:55.063Z"
   },
   {
    "duration": 7,
    "start_time": "2022-03-20T10:28:55.073Z"
   },
   {
    "duration": 9,
    "start_time": "2022-03-20T10:28:55.082Z"
   },
   {
    "duration": 7,
    "start_time": "2022-03-20T10:28:55.093Z"
   },
   {
    "duration": 11,
    "start_time": "2022-03-20T10:28:55.102Z"
   },
   {
    "duration": 2,
    "start_time": "2022-03-20T10:28:55.115Z"
   },
   {
    "duration": 6,
    "start_time": "2022-03-20T10:28:55.119Z"
   },
   {
    "duration": 50,
    "start_time": "2022-03-20T10:28:55.126Z"
   },
   {
    "duration": 11,
    "start_time": "2022-03-20T10:28:55.178Z"
   },
   {
    "duration": 6,
    "start_time": "2022-03-20T10:28:55.191Z"
   },
   {
    "duration": 25,
    "start_time": "2022-03-20T10:28:55.200Z"
   },
   {
    "duration": 41,
    "start_time": "2022-03-20T10:28:55.227Z"
   },
   {
    "duration": 329,
    "start_time": "2022-03-20T10:28:55.270Z"
   },
   {
    "duration": 263,
    "start_time": "2022-03-20T10:28:55.601Z"
   },
   {
    "duration": 3484,
    "start_time": "2022-03-20T10:28:55.866Z"
   },
   {
    "duration": 8392,
    "start_time": "2022-03-20T10:28:59.352Z"
   },
   {
    "duration": 6,
    "start_time": "2022-03-20T10:29:07.746Z"
   },
   {
    "duration": 14,
    "start_time": "2022-03-20T10:29:07.763Z"
   },
   {
    "duration": 388,
    "start_time": "2022-03-20T10:29:07.779Z"
   },
   {
    "duration": 203,
    "start_time": "2022-03-20T10:29:08.169Z"
   },
   {
    "duration": 4633,
    "start_time": "2022-03-20T10:29:08.465Z"
   },
   {
    "duration": 13219,
    "start_time": "2022-03-20T10:29:13.100Z"
   },
   {
    "duration": 536,
    "start_time": "2022-03-20T10:29:26.321Z"
   },
   {
    "duration": 223,
    "start_time": "2022-03-20T10:29:26.863Z"
   },
   {
    "duration": 7,
    "start_time": "2022-03-20T10:29:27.089Z"
   },
   {
    "duration": 2199,
    "start_time": "2022-03-20T13:54:17.595Z"
   },
   {
    "duration": 37,
    "start_time": "2022-03-20T13:54:19.797Z"
   },
   {
    "duration": 129,
    "start_time": "2022-03-20T13:54:19.836Z"
   },
   {
    "duration": 20,
    "start_time": "2022-03-20T13:54:19.967Z"
   },
   {
    "duration": 10,
    "start_time": "2022-03-20T13:54:19.991Z"
   },
   {
    "duration": 7,
    "start_time": "2022-03-20T13:54:20.003Z"
   },
   {
    "duration": 8,
    "start_time": "2022-03-20T13:54:20.012Z"
   },
   {
    "duration": 64,
    "start_time": "2022-03-20T13:54:20.022Z"
   },
   {
    "duration": 4,
    "start_time": "2022-03-20T13:54:20.088Z"
   },
   {
    "duration": 6,
    "start_time": "2022-03-20T13:54:20.094Z"
   },
   {
    "duration": 33,
    "start_time": "2022-03-20T13:54:20.102Z"
   },
   {
    "duration": 52,
    "start_time": "2022-03-20T13:54:20.138Z"
   },
   {
    "duration": 8,
    "start_time": "2022-03-20T13:54:20.192Z"
   },
   {
    "duration": 39,
    "start_time": "2022-03-20T13:54:20.205Z"
   },
   {
    "duration": 54,
    "start_time": "2022-03-20T13:54:20.246Z"
   },
   {
    "duration": 465,
    "start_time": "2022-03-20T13:54:20.303Z"
   },
   {
    "duration": 415,
    "start_time": "2022-03-20T13:54:20.770Z"
   },
   {
    "duration": 7742,
    "start_time": "2022-03-20T13:54:21.189Z"
   },
   {
    "duration": 12648,
    "start_time": "2022-03-20T13:54:28.934Z"
   },
   {
    "duration": 8,
    "start_time": "2022-03-20T13:54:41.584Z"
   },
   {
    "duration": 22,
    "start_time": "2022-03-20T13:54:41.595Z"
   },
   {
    "duration": 602,
    "start_time": "2022-03-20T13:54:41.619Z"
   },
   {
    "duration": 361,
    "start_time": "2022-03-20T13:54:42.223Z"
   },
   {
    "duration": 7357,
    "start_time": "2022-03-20T13:54:42.588Z"
   },
   {
    "duration": 16921,
    "start_time": "2022-03-20T13:54:49.948Z"
   },
   {
    "duration": 511,
    "start_time": "2022-03-20T13:55:06.871Z"
   },
   {
    "duration": 247,
    "start_time": "2022-03-20T13:55:07.384Z"
   },
   {
    "duration": 8,
    "start_time": "2022-03-20T13:55:07.634Z"
   },
   {
    "duration": 467,
    "start_time": "2022-03-20T13:55:31.022Z"
   },
   {
    "duration": 5206,
    "start_time": "2022-03-20T13:56:32.582Z"
   },
   {
    "duration": 12806,
    "start_time": "2022-03-20T13:57:20.012Z"
   },
   {
    "duration": 566,
    "start_time": "2022-03-20T14:07:56.236Z"
   },
   {
    "duration": 710,
    "start_time": "2022-03-20T14:08:50.785Z"
   },
   {
    "duration": 447,
    "start_time": "2022-03-20T14:09:30.315Z"
   },
   {
    "duration": 546,
    "start_time": "2022-03-20T14:09:50.002Z"
   },
   {
    "duration": 285,
    "start_time": "2022-03-20T14:10:00.211Z"
   },
   {
    "duration": 5283,
    "start_time": "2022-03-20T14:10:16.382Z"
   },
   {
    "duration": 12640,
    "start_time": "2022-03-20T14:10:43.020Z"
   },
   {
    "duration": 814,
    "start_time": "2022-03-20T14:11:07.232Z"
   },
   {
    "duration": 310,
    "start_time": "2022-03-20T14:12:14.772Z"
   },
   {
    "duration": 563,
    "start_time": "2022-03-20T14:12:48.451Z"
   },
   {
    "duration": 6837,
    "start_time": "2022-03-20T14:13:53.771Z"
   },
   {
    "duration": 18287,
    "start_time": "2022-03-20T14:14:20.152Z"
   },
   {
    "duration": 165,
    "start_time": "2022-03-20T14:32:06.113Z"
   },
   {
    "duration": 648,
    "start_time": "2022-03-20T14:33:02.212Z"
   },
   {
    "duration": 392,
    "start_time": "2022-03-20T14:33:34.392Z"
   },
   {
    "duration": 301,
    "start_time": "2022-03-20T14:37:21.282Z"
   },
   {
    "duration": 462,
    "start_time": "2022-03-20T14:37:32.723Z"
   },
   {
    "duration": 10828,
    "start_time": "2022-03-20T14:37:45.533Z"
   },
   {
    "duration": 6,
    "start_time": "2022-03-20T14:42:36.532Z"
   },
   {
    "duration": 12,
    "start_time": "2022-03-20T14:53:33.651Z"
   },
   {
    "duration": 9,
    "start_time": "2022-03-20T14:54:34.674Z"
   },
   {
    "duration": 164,
    "start_time": "2022-03-20T14:56:34.631Z"
   },
   {
    "duration": 12,
    "start_time": "2022-03-20T14:57:33.041Z"
   },
   {
    "duration": 15,
    "start_time": "2022-03-20T14:58:10.202Z"
   },
   {
    "duration": 15,
    "start_time": "2022-03-20T14:58:50.873Z"
   },
   {
    "duration": 17,
    "start_time": "2022-03-20T15:00:17.531Z"
   },
   {
    "duration": 2643,
    "start_time": "2022-03-20T15:11:01.678Z"
   },
   {
    "duration": 1073,
    "start_time": "2022-03-20T15:11:15.611Z"
   },
   {
    "duration": 2145,
    "start_time": "2022-03-21T04:50:47.588Z"
   },
   {
    "duration": 53,
    "start_time": "2022-03-21T04:50:49.736Z"
   },
   {
    "duration": 117,
    "start_time": "2022-03-21T04:50:49.791Z"
   },
   {
    "duration": 9,
    "start_time": "2022-03-21T04:50:49.910Z"
   },
   {
    "duration": 12,
    "start_time": "2022-03-21T04:50:49.942Z"
   },
   {
    "duration": 8,
    "start_time": "2022-03-21T04:50:49.956Z"
   },
   {
    "duration": 7,
    "start_time": "2022-03-21T04:50:49.965Z"
   },
   {
    "duration": 21,
    "start_time": "2022-03-21T04:50:49.974Z"
   },
   {
    "duration": 3,
    "start_time": "2022-03-21T04:50:49.998Z"
   },
   {
    "duration": 4,
    "start_time": "2022-03-21T04:50:50.043Z"
   },
   {
    "duration": 31,
    "start_time": "2022-03-21T04:50:50.050Z"
   },
   {
    "duration": 15,
    "start_time": "2022-03-21T04:50:50.083Z"
   },
   {
    "duration": 46,
    "start_time": "2022-03-21T04:50:50.101Z"
   },
   {
    "duration": 39,
    "start_time": "2022-03-21T04:50:50.152Z"
   },
   {
    "duration": 56,
    "start_time": "2022-03-21T04:50:50.193Z"
   },
   {
    "duration": 448,
    "start_time": "2022-03-21T04:50:50.251Z"
   },
   {
    "duration": 546,
    "start_time": "2022-03-21T04:50:50.702Z"
   },
   {
    "duration": 5177,
    "start_time": "2022-03-21T04:50:51.250Z"
   },
   {
    "duration": 12436,
    "start_time": "2022-03-21T04:50:56.430Z"
   },
   {
    "duration": 9,
    "start_time": "2022-03-21T04:51:08.868Z"
   },
   {
    "duration": 21,
    "start_time": "2022-03-21T04:51:08.879Z"
   },
   {
    "duration": 741,
    "start_time": "2022-03-21T04:51:08.902Z"
   },
   {
    "duration": 405,
    "start_time": "2022-03-21T04:51:09.645Z"
   },
   {
    "duration": 7308,
    "start_time": "2022-03-21T04:51:10.053Z"
   },
   {
    "duration": 16350,
    "start_time": "2022-03-21T04:51:17.364Z"
   },
   {
    "duration": 500,
    "start_time": "2022-03-21T04:51:33.716Z"
   },
   {
    "duration": 232,
    "start_time": "2022-03-21T04:51:34.218Z"
   },
   {
    "duration": 8,
    "start_time": "2022-03-21T04:51:34.452Z"
   },
   {
    "duration": 11,
    "start_time": "2022-03-21T04:53:15.245Z"
   },
   {
    "duration": 1937,
    "start_time": "2022-03-21T04:58:25.545Z"
   },
   {
    "duration": 37,
    "start_time": "2022-03-21T04:58:27.488Z"
   },
   {
    "duration": 140,
    "start_time": "2022-03-21T04:58:27.528Z"
   },
   {
    "duration": 8,
    "start_time": "2022-03-21T04:58:27.671Z"
   },
   {
    "duration": 15,
    "start_time": "2022-03-21T04:58:27.681Z"
   },
   {
    "duration": 46,
    "start_time": "2022-03-21T04:58:27.698Z"
   },
   {
    "duration": 6,
    "start_time": "2022-03-21T04:58:27.746Z"
   },
   {
    "duration": 15,
    "start_time": "2022-03-21T04:58:27.754Z"
   },
   {
    "duration": 4,
    "start_time": "2022-03-21T04:58:27.773Z"
   },
   {
    "duration": 8,
    "start_time": "2022-03-21T04:58:27.779Z"
   },
   {
    "duration": 70,
    "start_time": "2022-03-21T04:58:27.789Z"
   },
   {
    "duration": 16,
    "start_time": "2022-03-21T04:58:27.861Z"
   },
   {
    "duration": 7,
    "start_time": "2022-03-21T04:58:27.879Z"
   },
   {
    "duration": 77,
    "start_time": "2022-03-21T04:58:27.888Z"
   },
   {
    "duration": 24,
    "start_time": "2022-03-21T04:58:27.968Z"
   },
   {
    "duration": 470,
    "start_time": "2022-03-21T04:58:27.994Z"
   },
   {
    "duration": 378,
    "start_time": "2022-03-21T04:58:28.466Z"
   },
   {
    "duration": 5172,
    "start_time": "2022-03-21T04:58:28.846Z"
   },
   {
    "duration": 12276,
    "start_time": "2022-03-21T04:58:34.021Z"
   },
   {
    "duration": 8,
    "start_time": "2022-03-21T04:58:46.299Z"
   },
   {
    "duration": 48,
    "start_time": "2022-03-21T04:58:46.309Z"
   },
   {
    "duration": 743,
    "start_time": "2022-03-21T04:58:46.359Z"
   },
   {
    "duration": 0,
    "start_time": "2022-03-21T04:58:47.105Z"
   },
   {
    "duration": 0,
    "start_time": "2022-03-21T04:58:47.106Z"
   },
   {
    "duration": 0,
    "start_time": "2022-03-21T04:58:47.108Z"
   },
   {
    "duration": 0,
    "start_time": "2022-03-21T04:58:47.109Z"
   },
   {
    "duration": 0,
    "start_time": "2022-03-21T04:58:47.111Z"
   },
   {
    "duration": 0,
    "start_time": "2022-03-21T04:58:47.113Z"
   },
   {
    "duration": 602,
    "start_time": "2022-03-21T05:01:08.075Z"
   },
   {
    "duration": 594,
    "start_time": "2022-03-21T05:02:00.034Z"
   },
   {
    "duration": 600,
    "start_time": "2022-03-21T05:02:21.404Z"
   },
   {
    "duration": 587,
    "start_time": "2022-03-21T05:04:36.585Z"
   },
   {
    "duration": 1990,
    "start_time": "2022-03-21T05:04:53.920Z"
   },
   {
    "duration": 37,
    "start_time": "2022-03-21T05:04:55.913Z"
   },
   {
    "duration": 131,
    "start_time": "2022-03-21T05:04:55.953Z"
   },
   {
    "duration": 8,
    "start_time": "2022-03-21T05:04:56.086Z"
   },
   {
    "duration": 10,
    "start_time": "2022-03-21T05:04:56.097Z"
   },
   {
    "duration": 40,
    "start_time": "2022-03-21T05:04:56.109Z"
   },
   {
    "duration": 5,
    "start_time": "2022-03-21T05:04:56.152Z"
   },
   {
    "duration": 14,
    "start_time": "2022-03-21T05:04:56.159Z"
   },
   {
    "duration": 2,
    "start_time": "2022-03-21T05:04:56.176Z"
   },
   {
    "duration": 5,
    "start_time": "2022-03-21T05:04:56.180Z"
   },
   {
    "duration": 72,
    "start_time": "2022-03-21T05:04:56.188Z"
   },
   {
    "duration": 15,
    "start_time": "2022-03-21T05:04:56.263Z"
   },
   {
    "duration": 7,
    "start_time": "2022-03-21T05:04:56.280Z"
   },
   {
    "duration": 79,
    "start_time": "2022-03-21T05:04:56.294Z"
   },
   {
    "duration": 25,
    "start_time": "2022-03-21T05:04:56.375Z"
   },
   {
    "duration": 470,
    "start_time": "2022-03-21T05:04:56.402Z"
   },
   {
    "duration": 471,
    "start_time": "2022-03-21T05:04:56.874Z"
   },
   {
    "duration": 5084,
    "start_time": "2022-03-21T05:04:57.348Z"
   },
   {
    "duration": 12243,
    "start_time": "2022-03-21T05:05:02.434Z"
   },
   {
    "duration": 8,
    "start_time": "2022-03-21T05:05:14.679Z"
   },
   {
    "duration": 53,
    "start_time": "2022-03-21T05:05:14.690Z"
   },
   {
    "duration": 629,
    "start_time": "2022-03-21T05:05:14.745Z"
   },
   {
    "duration": 274,
    "start_time": "2022-03-21T05:05:15.377Z"
   },
   {
    "duration": 7212,
    "start_time": "2022-03-21T05:05:15.654Z"
   },
   {
    "duration": 16750,
    "start_time": "2022-03-21T05:05:22.868Z"
   },
   {
    "duration": 516,
    "start_time": "2022-03-21T05:05:39.620Z"
   },
   {
    "duration": 234,
    "start_time": "2022-03-21T05:05:40.142Z"
   },
   {
    "duration": 8,
    "start_time": "2022-03-21T05:05:40.379Z"
   },
   {
    "duration": 583,
    "start_time": "2022-03-21T05:05:44.753Z"
   },
   {
    "duration": 2017,
    "start_time": "2022-03-21T05:07:06.061Z"
   },
   {
    "duration": 38,
    "start_time": "2022-03-21T05:07:08.081Z"
   },
   {
    "duration": 134,
    "start_time": "2022-03-21T05:07:08.121Z"
   },
   {
    "duration": 9,
    "start_time": "2022-03-21T05:07:08.257Z"
   },
   {
    "duration": 11,
    "start_time": "2022-03-21T05:07:08.269Z"
   },
   {
    "duration": 8,
    "start_time": "2022-03-21T05:07:08.282Z"
   },
   {
    "duration": 51,
    "start_time": "2022-03-21T05:07:08.292Z"
   },
   {
    "duration": 14,
    "start_time": "2022-03-21T05:07:08.345Z"
   },
   {
    "duration": 3,
    "start_time": "2022-03-21T05:07:08.361Z"
   },
   {
    "duration": 6,
    "start_time": "2022-03-21T05:07:08.365Z"
   },
   {
    "duration": 30,
    "start_time": "2022-03-21T05:07:08.373Z"
   },
   {
    "duration": 53,
    "start_time": "2022-03-21T05:07:08.405Z"
   },
   {
    "duration": 7,
    "start_time": "2022-03-21T05:07:08.460Z"
   },
   {
    "duration": 75,
    "start_time": "2022-03-21T05:07:08.471Z"
   },
   {
    "duration": 25,
    "start_time": "2022-03-21T05:07:08.548Z"
   },
   {
    "duration": 473,
    "start_time": "2022-03-21T05:07:08.575Z"
   },
   {
    "duration": 593,
    "start_time": "2022-03-21T05:07:09.051Z"
   },
   {
    "duration": 5172,
    "start_time": "2022-03-21T05:07:09.647Z"
   },
   {
    "duration": 12236,
    "start_time": "2022-03-21T05:07:14.822Z"
   },
   {
    "duration": 8,
    "start_time": "2022-03-21T05:07:27.061Z"
   },
   {
    "duration": 21,
    "start_time": "2022-03-21T05:07:27.071Z"
   },
   {
    "duration": 621,
    "start_time": "2022-03-21T05:07:27.094Z"
   },
   {
    "duration": 435,
    "start_time": "2022-03-21T05:07:27.717Z"
   },
   {
    "duration": 6983,
    "start_time": "2022-03-21T05:07:28.244Z"
   },
   {
    "duration": 17168,
    "start_time": "2022-03-21T05:07:35.229Z"
   },
   {
    "duration": 746,
    "start_time": "2022-03-21T05:07:52.400Z"
   },
   {
    "duration": 404,
    "start_time": "2022-03-21T05:07:53.149Z"
   },
   {
    "duration": 9,
    "start_time": "2022-03-21T05:07:53.557Z"
   },
   {
    "duration": 14,
    "start_time": "2022-03-21T05:08:09.346Z"
   },
   {
    "duration": 724,
    "start_time": "2022-03-21T05:29:25.629Z"
   },
   {
    "duration": 126,
    "start_time": "2022-03-21T05:29:56.819Z"
   },
   {
    "duration": 12400,
    "start_time": "2022-03-21T05:31:24.059Z"
   },
   {
    "duration": 4,
    "start_time": "2022-03-21T05:40:16.292Z"
   },
   {
    "duration": 2748,
    "start_time": "2022-03-21T05:51:58.776Z"
   },
   {
    "duration": 50,
    "start_time": "2022-03-21T05:52:01.528Z"
   },
   {
    "duration": 183,
    "start_time": "2022-03-21T05:52:01.581Z"
   },
   {
    "duration": 10,
    "start_time": "2022-03-21T05:52:01.767Z"
   },
   {
    "duration": 31,
    "start_time": "2022-03-21T05:52:01.782Z"
   },
   {
    "duration": 34,
    "start_time": "2022-03-21T05:52:01.815Z"
   },
   {
    "duration": 56,
    "start_time": "2022-03-21T05:52:01.851Z"
   },
   {
    "duration": 31,
    "start_time": "2022-03-21T05:52:01.910Z"
   },
   {
    "duration": 16,
    "start_time": "2022-03-21T05:52:01.945Z"
   },
   {
    "duration": 27,
    "start_time": "2022-03-21T05:52:01.964Z"
   },
   {
    "duration": 46,
    "start_time": "2022-03-21T05:52:01.994Z"
   },
   {
    "duration": 22,
    "start_time": "2022-03-21T05:52:02.042Z"
   },
   {
    "duration": 10,
    "start_time": "2022-03-21T05:52:02.067Z"
   },
   {
    "duration": 79,
    "start_time": "2022-03-21T05:52:02.081Z"
   },
   {
    "duration": 25,
    "start_time": "2022-03-21T05:52:02.163Z"
   },
   {
    "duration": 489,
    "start_time": "2022-03-21T05:52:02.190Z"
   },
   {
    "duration": 361,
    "start_time": "2022-03-21T05:52:02.682Z"
   },
   {
    "duration": 5187,
    "start_time": "2022-03-21T05:52:03.046Z"
   },
   {
    "duration": 12461,
    "start_time": "2022-03-21T05:52:08.243Z"
   },
   {
    "duration": 175,
    "start_time": "2022-03-21T05:52:20.707Z"
   },
   {
    "duration": 0,
    "start_time": "2022-03-21T05:52:20.885Z"
   },
   {
    "duration": 0,
    "start_time": "2022-03-21T05:52:20.888Z"
   },
   {
    "duration": 0,
    "start_time": "2022-03-21T05:52:20.889Z"
   },
   {
    "duration": 0,
    "start_time": "2022-03-21T05:52:20.892Z"
   },
   {
    "duration": 0,
    "start_time": "2022-03-21T05:52:20.894Z"
   },
   {
    "duration": 0,
    "start_time": "2022-03-21T05:52:20.897Z"
   },
   {
    "duration": 0,
    "start_time": "2022-03-21T05:52:20.899Z"
   },
   {
    "duration": 0,
    "start_time": "2022-03-21T05:52:20.902Z"
   },
   {
    "duration": 0,
    "start_time": "2022-03-21T05:52:20.903Z"
   },
   {
    "duration": 0,
    "start_time": "2022-03-21T05:52:20.906Z"
   },
   {
    "duration": 0,
    "start_time": "2022-03-21T05:52:20.944Z"
   },
   {
    "duration": 0,
    "start_time": "2022-03-21T05:52:20.947Z"
   },
   {
    "duration": 0,
    "start_time": "2022-03-21T05:52:20.949Z"
   },
   {
    "duration": 1991,
    "start_time": "2022-03-21T05:54:28.241Z"
   },
   {
    "duration": 48,
    "start_time": "2022-03-21T05:54:30.234Z"
   },
   {
    "duration": 116,
    "start_time": "2022-03-21T05:54:30.284Z"
   },
   {
    "duration": 8,
    "start_time": "2022-03-21T05:54:30.402Z"
   },
   {
    "duration": 37,
    "start_time": "2022-03-21T05:54:30.413Z"
   },
   {
    "duration": 12,
    "start_time": "2022-03-21T05:54:30.452Z"
   },
   {
    "duration": 14,
    "start_time": "2022-03-21T05:54:30.467Z"
   },
   {
    "duration": 38,
    "start_time": "2022-03-21T05:54:30.483Z"
   },
   {
    "duration": 18,
    "start_time": "2022-03-21T05:54:30.524Z"
   },
   {
    "duration": 13,
    "start_time": "2022-03-21T05:54:30.544Z"
   },
   {
    "duration": 32,
    "start_time": "2022-03-21T05:54:30.559Z"
   },
   {
    "duration": 19,
    "start_time": "2022-03-21T05:54:30.594Z"
   },
   {
    "duration": 33,
    "start_time": "2022-03-21T05:54:30.615Z"
   },
   {
    "duration": 40,
    "start_time": "2022-03-21T05:54:30.655Z"
   },
   {
    "duration": 66,
    "start_time": "2022-03-21T05:54:30.697Z"
   },
   {
    "duration": 484,
    "start_time": "2022-03-21T05:54:30.766Z"
   },
   {
    "duration": 394,
    "start_time": "2022-03-21T05:54:31.252Z"
   },
   {
    "duration": 5089,
    "start_time": "2022-03-21T05:54:31.649Z"
   },
   {
    "duration": 12376,
    "start_time": "2022-03-21T05:54:36.744Z"
   },
   {
    "duration": 492,
    "start_time": "2022-03-21T05:54:49.122Z"
   },
   {
    "duration": 131,
    "start_time": "2022-03-21T05:54:49.617Z"
   },
   {
    "duration": 5140,
    "start_time": "2022-03-21T05:54:49.752Z"
   },
   {
    "duration": 9335,
    "start_time": "2022-03-21T05:54:54.895Z"
   },
   {
    "duration": 15,
    "start_time": "2022-03-21T05:55:04.232Z"
   },
   {
    "duration": 21,
    "start_time": "2022-03-21T05:55:04.249Z"
   },
   {
    "duration": 715,
    "start_time": "2022-03-21T05:55:04.272Z"
   },
   {
    "duration": 357,
    "start_time": "2022-03-21T05:55:04.990Z"
   },
   {
    "duration": 7218,
    "start_time": "2022-03-21T05:55:05.350Z"
   },
   {
    "duration": 16778,
    "start_time": "2022-03-21T05:55:12.570Z"
   },
   {
    "duration": 12,
    "start_time": "2022-03-21T05:55:29.350Z"
   },
   {
    "duration": 517,
    "start_time": "2022-03-21T05:55:29.364Z"
   },
   {
    "duration": 245,
    "start_time": "2022-03-21T05:55:29.884Z"
   },
   {
    "duration": 15,
    "start_time": "2022-03-21T05:55:30.131Z"
   },
   {
    "duration": 15,
    "start_time": "2022-03-21T06:00:52.410Z"
   },
   {
    "duration": 2013,
    "start_time": "2022-03-21T06:19:30.910Z"
   },
   {
    "duration": 47,
    "start_time": "2022-03-21T06:19:32.925Z"
   },
   {
    "duration": 118,
    "start_time": "2022-03-21T06:19:32.974Z"
   },
   {
    "duration": 8,
    "start_time": "2022-03-21T06:19:33.094Z"
   },
   {
    "duration": 41,
    "start_time": "2022-03-21T06:19:33.105Z"
   },
   {
    "duration": 7,
    "start_time": "2022-03-21T06:19:33.149Z"
   },
   {
    "duration": 7,
    "start_time": "2022-03-21T06:19:33.159Z"
   },
   {
    "duration": 15,
    "start_time": "2022-03-21T06:19:33.168Z"
   },
   {
    "duration": 3,
    "start_time": "2022-03-21T06:19:33.185Z"
   },
   {
    "duration": 7,
    "start_time": "2022-03-21T06:19:33.191Z"
   },
   {
    "duration": 28,
    "start_time": "2022-03-21T06:19:33.244Z"
   },
   {
    "duration": 17,
    "start_time": "2022-03-21T06:19:33.274Z"
   },
   {
    "duration": 8,
    "start_time": "2022-03-21T06:19:33.293Z"
   },
   {
    "duration": 38,
    "start_time": "2022-03-21T06:19:33.342Z"
   },
   {
    "duration": 24,
    "start_time": "2022-03-21T06:19:33.382Z"
   },
   {
    "duration": 475,
    "start_time": "2022-03-21T06:19:33.408Z"
   },
   {
    "duration": 460,
    "start_time": "2022-03-21T06:19:33.885Z"
   },
   {
    "duration": 5308,
    "start_time": "2022-03-21T06:19:34.351Z"
   },
   {
    "duration": 12597,
    "start_time": "2022-03-21T06:19:39.661Z"
   },
   {
    "duration": 494,
    "start_time": "2022-03-21T06:19:52.261Z"
   },
   {
    "duration": 193,
    "start_time": "2022-03-21T06:19:52.757Z"
   },
   {
    "duration": 5131,
    "start_time": "2022-03-21T06:19:52.953Z"
   },
   {
    "duration": 9205,
    "start_time": "2022-03-21T06:19:58.087Z"
   },
   {
    "duration": 10,
    "start_time": "2022-03-21T06:20:07.295Z"
   },
   {
    "duration": 50,
    "start_time": "2022-03-21T06:20:07.308Z"
   },
   {
    "duration": 611,
    "start_time": "2022-03-21T06:20:07.360Z"
   },
   {
    "duration": 472,
    "start_time": "2022-03-21T06:20:07.974Z"
   },
   {
    "duration": 7168,
    "start_time": "2022-03-21T06:20:08.448Z"
   },
   {
    "duration": 16406,
    "start_time": "2022-03-21T06:20:15.618Z"
   },
   {
    "duration": 21,
    "start_time": "2022-03-21T06:20:32.028Z"
   },
   {
    "duration": 531,
    "start_time": "2022-03-21T06:20:32.052Z"
   },
   {
    "duration": 247,
    "start_time": "2022-03-21T06:20:32.586Z"
   },
   {
    "duration": 14,
    "start_time": "2022-03-21T06:20:32.835Z"
   },
   {
    "duration": 2063,
    "start_time": "2022-03-21T06:22:08.696Z"
   },
   {
    "duration": 47,
    "start_time": "2022-03-21T06:22:10.762Z"
   },
   {
    "duration": 131,
    "start_time": "2022-03-21T06:22:10.812Z"
   },
   {
    "duration": 9,
    "start_time": "2022-03-21T06:22:10.946Z"
   },
   {
    "duration": 9,
    "start_time": "2022-03-21T06:22:10.957Z"
   },
   {
    "duration": 8,
    "start_time": "2022-03-21T06:22:10.968Z"
   },
   {
    "duration": 6,
    "start_time": "2022-03-21T06:22:10.978Z"
   },
   {
    "duration": 59,
    "start_time": "2022-03-21T06:22:10.986Z"
   },
   {
    "duration": 3,
    "start_time": "2022-03-21T06:22:11.047Z"
   },
   {
    "duration": 3,
    "start_time": "2022-03-21T06:22:11.055Z"
   },
   {
    "duration": 31,
    "start_time": "2022-03-21T06:22:11.060Z"
   },
   {
    "duration": 53,
    "start_time": "2022-03-21T06:22:11.093Z"
   },
   {
    "duration": 9,
    "start_time": "2022-03-21T06:22:11.148Z"
   },
   {
    "duration": 37,
    "start_time": "2022-03-21T06:22:11.160Z"
   },
   {
    "duration": 65,
    "start_time": "2022-03-21T06:22:11.199Z"
   },
   {
    "duration": 477,
    "start_time": "2022-03-21T06:22:11.267Z"
   },
   {
    "duration": 401,
    "start_time": "2022-03-21T06:22:11.746Z"
   },
   {
    "duration": 5159,
    "start_time": "2022-03-21T06:22:12.150Z"
   },
   {
    "duration": 12682,
    "start_time": "2022-03-21T06:22:17.311Z"
   },
   {
    "duration": 500,
    "start_time": "2022-03-21T06:22:29.995Z"
   },
   {
    "duration": 246,
    "start_time": "2022-03-21T06:22:30.498Z"
   },
   {
    "duration": 5225,
    "start_time": "2022-03-21T06:22:30.747Z"
   },
   {
    "duration": 9568,
    "start_time": "2022-03-21T06:22:35.974Z"
   },
   {
    "duration": 7,
    "start_time": "2022-03-21T06:22:45.545Z"
   },
   {
    "duration": 126,
    "start_time": "2022-03-21T06:22:45.555Z"
   },
   {
    "duration": 611,
    "start_time": "2022-03-21T06:22:45.684Z"
   },
   {
    "duration": 454,
    "start_time": "2022-03-21T06:22:46.298Z"
   },
   {
    "duration": 7804,
    "start_time": "2022-03-21T06:22:46.757Z"
   },
   {
    "duration": 16951,
    "start_time": "2022-03-21T06:22:54.563Z"
   },
   {
    "duration": 12,
    "start_time": "2022-03-21T06:23:11.516Z"
   },
   {
    "duration": 517,
    "start_time": "2022-03-21T06:23:11.544Z"
   },
   {
    "duration": 281,
    "start_time": "2022-03-21T06:23:12.064Z"
   },
   {
    "duration": 9,
    "start_time": "2022-03-21T06:23:12.348Z"
   },
   {
    "duration": 2202,
    "start_time": "2022-03-21T15:51:42.074Z"
   },
   {
    "duration": 34,
    "start_time": "2022-03-21T15:51:44.278Z"
   },
   {
    "duration": 151,
    "start_time": "2022-03-21T15:51:44.314Z"
   },
   {
    "duration": 10,
    "start_time": "2022-03-21T15:51:44.476Z"
   },
   {
    "duration": 22,
    "start_time": "2022-03-21T15:51:44.489Z"
   },
   {
    "duration": 15,
    "start_time": "2022-03-21T15:51:44.513Z"
   },
   {
    "duration": 21,
    "start_time": "2022-03-21T15:51:44.530Z"
   },
   {
    "duration": 34,
    "start_time": "2022-03-21T15:51:44.554Z"
   },
   {
    "duration": 3,
    "start_time": "2022-03-21T15:51:44.591Z"
   },
   {
    "duration": 19,
    "start_time": "2022-03-21T15:51:44.598Z"
   },
   {
    "duration": 39,
    "start_time": "2022-03-21T15:51:44.619Z"
   },
   {
    "duration": 17,
    "start_time": "2022-03-21T15:51:44.660Z"
   },
   {
    "duration": 14,
    "start_time": "2022-03-21T15:51:44.679Z"
   },
   {
    "duration": 57,
    "start_time": "2022-03-21T15:51:44.696Z"
   },
   {
    "duration": 23,
    "start_time": "2022-03-21T15:51:44.755Z"
   },
   {
    "duration": 571,
    "start_time": "2022-03-21T15:51:44.780Z"
   },
   {
    "duration": 525,
    "start_time": "2022-03-21T15:51:45.353Z"
   },
   {
    "duration": 5657,
    "start_time": "2022-03-21T15:51:45.880Z"
   },
   {
    "duration": 13140,
    "start_time": "2022-03-21T15:51:51.539Z"
   },
   {
    "duration": 685,
    "start_time": "2022-03-21T15:52:04.681Z"
   },
   {
    "duration": 203,
    "start_time": "2022-03-21T15:52:05.372Z"
   },
   {
    "duration": 5213,
    "start_time": "2022-03-21T15:52:05.577Z"
   },
   {
    "duration": 9457,
    "start_time": "2022-03-21T15:52:10.793Z"
   },
   {
    "duration": 22,
    "start_time": "2022-03-21T15:52:20.253Z"
   },
   {
    "duration": 19,
    "start_time": "2022-03-21T15:52:20.278Z"
   },
   {
    "duration": 611,
    "start_time": "2022-03-21T15:52:20.299Z"
   },
   {
    "duration": 267,
    "start_time": "2022-03-21T15:52:20.912Z"
   },
   {
    "duration": 7515,
    "start_time": "2022-03-21T15:52:21.184Z"
   },
   {
    "duration": 19646,
    "start_time": "2022-03-21T15:52:28.702Z"
   },
   {
    "duration": 11,
    "start_time": "2022-03-21T15:52:48.350Z"
   },
   {
    "duration": 529,
    "start_time": "2022-03-21T15:52:48.374Z"
   },
   {
    "duration": 256,
    "start_time": "2022-03-21T15:52:48.906Z"
   },
   {
    "duration": 13,
    "start_time": "2022-03-21T15:52:49.165Z"
   },
   {
    "duration": 2709,
    "start_time": "2022-03-22T06:20:49.012Z"
   },
   {
    "duration": 49,
    "start_time": "2022-03-22T06:20:51.724Z"
   },
   {
    "duration": 121,
    "start_time": "2022-03-22T06:20:51.775Z"
   },
   {
    "duration": 9,
    "start_time": "2022-03-22T06:20:51.899Z"
   },
   {
    "duration": 36,
    "start_time": "2022-03-22T06:20:51.913Z"
   },
   {
    "duration": 9,
    "start_time": "2022-03-22T06:20:51.951Z"
   },
   {
    "duration": 10,
    "start_time": "2022-03-22T06:20:51.962Z"
   },
   {
    "duration": 20,
    "start_time": "2022-03-22T06:20:51.974Z"
   },
   {
    "duration": 4,
    "start_time": "2022-03-22T06:20:51.996Z"
   },
   {
    "duration": 12,
    "start_time": "2022-03-22T06:20:52.002Z"
   },
   {
    "duration": 49,
    "start_time": "2022-03-22T06:20:52.017Z"
   },
   {
    "duration": 16,
    "start_time": "2022-03-22T06:20:52.068Z"
   },
   {
    "duration": 8,
    "start_time": "2022-03-22T06:20:52.086Z"
   },
   {
    "duration": 73,
    "start_time": "2022-03-22T06:20:52.098Z"
   },
   {
    "duration": 25,
    "start_time": "2022-03-22T06:20:52.173Z"
   },
   {
    "duration": 465,
    "start_time": "2022-03-22T06:20:52.201Z"
   },
   {
    "duration": 479,
    "start_time": "2022-03-22T06:20:52.668Z"
   },
   {
    "duration": 5359,
    "start_time": "2022-03-22T06:20:53.149Z"
   },
   {
    "duration": 13164,
    "start_time": "2022-03-22T06:20:58.510Z"
   },
   {
    "duration": 488,
    "start_time": "2022-03-22T06:21:11.676Z"
   },
   {
    "duration": 180,
    "start_time": "2022-03-22T06:21:12.167Z"
   },
   {
    "duration": 5512,
    "start_time": "2022-03-22T06:21:12.351Z"
   },
   {
    "duration": 9771,
    "start_time": "2022-03-22T06:21:17.865Z"
   },
   {
    "duration": 7,
    "start_time": "2022-03-22T06:21:27.643Z"
   },
   {
    "duration": 18,
    "start_time": "2022-03-22T06:21:27.652Z"
   },
   {
    "duration": 608,
    "start_time": "2022-03-22T06:21:27.672Z"
   },
   {
    "duration": 571,
    "start_time": "2022-03-22T06:21:28.282Z"
   },
   {
    "duration": 7662,
    "start_time": "2022-03-22T06:21:28.855Z"
   },
   {
    "duration": 17249,
    "start_time": "2022-03-22T06:21:36.519Z"
   },
   {
    "duration": 13,
    "start_time": "2022-03-22T06:21:53.770Z"
   },
   {
    "duration": 542,
    "start_time": "2022-03-22T06:21:53.786Z"
   },
   {
    "duration": 247,
    "start_time": "2022-03-22T06:21:54.331Z"
   },
   {
    "duration": 9,
    "start_time": "2022-03-22T06:21:54.581Z"
   },
   {
    "duration": 2224,
    "start_time": "2022-03-22T06:27:14.885Z"
   },
   {
    "duration": 37,
    "start_time": "2022-03-22T06:27:17.112Z"
   },
   {
    "duration": 123,
    "start_time": "2022-03-22T06:27:17.151Z"
   },
   {
    "duration": 8,
    "start_time": "2022-03-22T06:27:17.277Z"
   },
   {
    "duration": 9,
    "start_time": "2022-03-22T06:27:17.290Z"
   },
   {
    "duration": 42,
    "start_time": "2022-03-22T06:27:17.302Z"
   },
   {
    "duration": 6,
    "start_time": "2022-03-22T06:27:17.346Z"
   },
   {
    "duration": 15,
    "start_time": "2022-03-22T06:27:17.354Z"
   },
   {
    "duration": 3,
    "start_time": "2022-03-22T06:27:17.371Z"
   },
   {
    "duration": 5,
    "start_time": "2022-03-22T06:27:17.376Z"
   },
   {
    "duration": 63,
    "start_time": "2022-03-22T06:27:17.383Z"
   },
   {
    "duration": 17,
    "start_time": "2022-03-22T06:27:17.448Z"
   },
   {
    "duration": 6,
    "start_time": "2022-03-22T06:27:17.467Z"
   },
   {
    "duration": 67,
    "start_time": "2022-03-22T06:27:17.477Z"
   },
   {
    "duration": 29,
    "start_time": "2022-03-22T06:27:17.547Z"
   },
   {
    "duration": 569,
    "start_time": "2022-03-22T06:27:17.578Z"
   },
   {
    "duration": 502,
    "start_time": "2022-03-22T06:27:18.150Z"
   },
   {
    "duration": 5277,
    "start_time": "2022-03-22T06:27:18.655Z"
   },
   {
    "duration": 12694,
    "start_time": "2022-03-22T06:27:23.935Z"
   },
   {
    "duration": 491,
    "start_time": "2022-03-22T06:27:36.632Z"
   },
   {
    "duration": 319,
    "start_time": "2022-03-22T06:27:37.125Z"
   },
   {
    "duration": 5673,
    "start_time": "2022-03-22T06:27:37.446Z"
   },
   {
    "duration": 10187,
    "start_time": "2022-03-22T06:27:43.122Z"
   },
   {
    "duration": 8,
    "start_time": "2022-03-22T06:27:53.312Z"
   },
   {
    "duration": 40,
    "start_time": "2022-03-22T06:27:53.322Z"
   },
   {
    "duration": 680,
    "start_time": "2022-03-22T06:27:53.365Z"
   },
   {
    "duration": 603,
    "start_time": "2022-03-22T06:27:54.048Z"
   },
   {
    "duration": 7547,
    "start_time": "2022-03-22T06:27:54.742Z"
   },
   {
    "duration": 17353,
    "start_time": "2022-03-22T06:28:02.291Z"
   },
   {
    "duration": 11,
    "start_time": "2022-03-22T06:28:19.646Z"
   },
   {
    "duration": 531,
    "start_time": "2022-03-22T06:28:19.659Z"
   },
   {
    "duration": 315,
    "start_time": "2022-03-22T06:28:20.192Z"
   },
   {
    "duration": 8,
    "start_time": "2022-03-22T06:28:20.509Z"
   },
   {
    "duration": 11779,
    "start_time": "2022-03-22T06:39:13.772Z"
   },
   {
    "duration": 2144,
    "start_time": "2022-03-22T06:44:54.706Z"
   },
   {
    "duration": 47,
    "start_time": "2022-03-22T06:44:56.853Z"
   },
   {
    "duration": 109,
    "start_time": "2022-03-22T06:44:56.902Z"
   },
   {
    "duration": 8,
    "start_time": "2022-03-22T06:44:57.013Z"
   },
   {
    "duration": 10,
    "start_time": "2022-03-22T06:44:57.043Z"
   },
   {
    "duration": 9,
    "start_time": "2022-03-22T06:44:57.056Z"
   },
   {
    "duration": 6,
    "start_time": "2022-03-22T06:44:57.067Z"
   },
   {
    "duration": 17,
    "start_time": "2022-03-22T06:44:57.075Z"
   },
   {
    "duration": 3,
    "start_time": "2022-03-22T06:44:57.094Z"
   },
   {
    "duration": 4,
    "start_time": "2022-03-22T06:44:57.100Z"
   },
   {
    "duration": 27,
    "start_time": "2022-03-22T06:44:57.143Z"
   },
   {
    "duration": 16,
    "start_time": "2022-03-22T06:44:57.172Z"
   },
   {
    "duration": 8,
    "start_time": "2022-03-22T06:44:57.190Z"
   },
   {
    "duration": 75,
    "start_time": "2022-03-22T06:44:57.202Z"
   },
   {
    "duration": 23,
    "start_time": "2022-03-22T06:44:57.279Z"
   },
   {
    "duration": 486,
    "start_time": "2022-03-22T06:44:57.305Z"
   },
   {
    "duration": 358,
    "start_time": "2022-03-22T06:44:57.792Z"
   },
   {
    "duration": 5284,
    "start_time": "2022-03-22T06:44:58.159Z"
   },
   {
    "duration": 13194,
    "start_time": "2022-03-22T06:45:03.445Z"
   },
   {
    "duration": 587,
    "start_time": "2022-03-22T06:45:16.646Z"
   },
   {
    "duration": 299,
    "start_time": "2022-03-22T06:45:17.244Z"
   },
   {
    "duration": 5790,
    "start_time": "2022-03-22T06:45:17.547Z"
   },
   {
    "duration": 9755,
    "start_time": "2022-03-22T06:45:23.348Z"
   },
   {
    "duration": 8,
    "start_time": "2022-03-22T06:45:33.105Z"
   },
   {
    "duration": 65,
    "start_time": "2022-03-22T06:45:33.115Z"
   },
   {
    "duration": 618,
    "start_time": "2022-03-22T06:45:33.182Z"
   },
   {
    "duration": 748,
    "start_time": "2022-03-22T06:45:33.802Z"
   },
   {
    "duration": 7340,
    "start_time": "2022-03-22T06:45:34.559Z"
   },
   {
    "duration": 16776,
    "start_time": "2022-03-22T06:45:41.902Z"
   },
   {
    "duration": 12,
    "start_time": "2022-03-22T06:45:58.680Z"
   },
   {
    "duration": 520,
    "start_time": "2022-03-22T06:45:58.694Z"
   },
   {
    "duration": 242,
    "start_time": "2022-03-22T06:45:59.216Z"
   },
   {
    "duration": 9,
    "start_time": "2022-03-22T06:45:59.461Z"
   },
   {
    "duration": 300,
    "start_time": "2022-03-22T06:46:42.554Z"
   },
   {
    "duration": 212,
    "start_time": "2022-03-22T06:46:57.054Z"
   },
   {
    "duration": 9,
    "start_time": "2022-03-22T06:47:04.884Z"
   },
   {
    "duration": 2105,
    "start_time": "2022-03-22T06:49:02.831Z"
   },
   {
    "duration": 48,
    "start_time": "2022-03-22T06:49:04.939Z"
   },
   {
    "duration": 111,
    "start_time": "2022-03-22T06:49:04.989Z"
   },
   {
    "duration": 8,
    "start_time": "2022-03-22T06:49:05.103Z"
   },
   {
    "duration": 35,
    "start_time": "2022-03-22T06:49:05.114Z"
   },
   {
    "duration": 15,
    "start_time": "2022-03-22T06:49:05.152Z"
   },
   {
    "duration": 19,
    "start_time": "2022-03-22T06:49:05.169Z"
   },
   {
    "duration": 38,
    "start_time": "2022-03-22T06:49:05.191Z"
   },
   {
    "duration": 10,
    "start_time": "2022-03-22T06:49:05.232Z"
   },
   {
    "duration": 15,
    "start_time": "2022-03-22T06:49:05.244Z"
   },
   {
    "duration": 38,
    "start_time": "2022-03-22T06:49:05.261Z"
   },
   {
    "duration": 16,
    "start_time": "2022-03-22T06:49:05.302Z"
   },
   {
    "duration": 23,
    "start_time": "2022-03-22T06:49:05.320Z"
   },
   {
    "duration": 43,
    "start_time": "2022-03-22T06:49:05.348Z"
   },
   {
    "duration": 25,
    "start_time": "2022-03-22T06:49:05.394Z"
   },
   {
    "duration": 488,
    "start_time": "2022-03-22T06:49:05.422Z"
   },
   {
    "duration": 538,
    "start_time": "2022-03-22T06:49:05.912Z"
   },
   {
    "duration": 5233,
    "start_time": "2022-03-22T06:49:06.452Z"
   },
   {
    "duration": 13723,
    "start_time": "2022-03-22T06:49:11.688Z"
   },
   {
    "duration": 530,
    "start_time": "2022-03-22T06:49:25.413Z"
   },
   {
    "duration": 299,
    "start_time": "2022-03-22T06:49:25.945Z"
   },
   {
    "duration": 5566,
    "start_time": "2022-03-22T06:49:26.248Z"
   },
   {
    "duration": 9129,
    "start_time": "2022-03-22T06:49:31.817Z"
   },
   {
    "duration": 7,
    "start_time": "2022-03-22T06:49:40.948Z"
   },
   {
    "duration": 60,
    "start_time": "2022-03-22T06:49:40.957Z"
   },
   {
    "duration": 587,
    "start_time": "2022-03-22T06:49:41.019Z"
   },
   {
    "duration": 534,
    "start_time": "2022-03-22T06:49:41.609Z"
   },
   {
    "duration": 7121,
    "start_time": "2022-03-22T06:49:42.145Z"
   },
   {
    "duration": 16802,
    "start_time": "2022-03-22T06:49:49.269Z"
   },
   {
    "duration": 12,
    "start_time": "2022-03-22T06:50:06.073Z"
   },
   {
    "duration": 312,
    "start_time": "2022-03-22T06:50:06.087Z"
   },
   {
    "duration": 228,
    "start_time": "2022-03-22T06:50:06.401Z"
   },
   {
    "duration": 13,
    "start_time": "2022-03-22T06:50:06.631Z"
   },
   {
    "duration": 1989,
    "start_time": "2022-03-22T07:33:57.764Z"
   },
   {
    "duration": 25,
    "start_time": "2022-03-22T07:33:59.755Z"
   },
   {
    "duration": 86,
    "start_time": "2022-03-22T07:33:59.782Z"
   },
   {
    "duration": 6,
    "start_time": "2022-03-22T07:33:59.871Z"
   },
   {
    "duration": 8,
    "start_time": "2022-03-22T07:33:59.900Z"
   },
   {
    "duration": 8,
    "start_time": "2022-03-22T07:33:59.910Z"
   },
   {
    "duration": 8,
    "start_time": "2022-03-22T07:33:59.920Z"
   },
   {
    "duration": 14,
    "start_time": "2022-03-22T07:33:59.930Z"
   },
   {
    "duration": 2,
    "start_time": "2022-03-22T07:33:59.946Z"
   },
   {
    "duration": 4,
    "start_time": "2022-03-22T07:33:59.951Z"
   },
   {
    "duration": 49,
    "start_time": "2022-03-22T07:33:59.957Z"
   },
   {
    "duration": 15,
    "start_time": "2022-03-22T07:34:00.008Z"
   },
   {
    "duration": 6,
    "start_time": "2022-03-22T07:34:00.025Z"
   },
   {
    "duration": 46,
    "start_time": "2022-03-22T07:34:00.033Z"
   },
   {
    "duration": 34,
    "start_time": "2022-03-22T07:34:00.082Z"
   },
   {
    "duration": 353,
    "start_time": "2022-03-22T07:34:00.117Z"
   },
   {
    "duration": 339,
    "start_time": "2022-03-22T07:34:00.472Z"
   },
   {
    "duration": 3880,
    "start_time": "2022-03-22T07:34:00.902Z"
   },
   {
    "duration": 9603,
    "start_time": "2022-03-22T07:34:04.784Z"
   },
   {
    "duration": 370,
    "start_time": "2022-03-22T07:34:14.389Z"
   },
   {
    "duration": 149,
    "start_time": "2022-03-22T07:34:14.761Z"
   },
   {
    "duration": 3754,
    "start_time": "2022-03-22T07:34:15.002Z"
   },
   {
    "duration": 6920,
    "start_time": "2022-03-22T07:34:18.757Z"
   },
   {
    "duration": 7,
    "start_time": "2022-03-22T07:34:25.679Z"
   },
   {
    "duration": 20,
    "start_time": "2022-03-22T07:34:25.702Z"
   },
   {
    "duration": 437,
    "start_time": "2022-03-22T07:34:25.723Z"
   },
   {
    "duration": 349,
    "start_time": "2022-03-22T07:34:26.161Z"
   },
   {
    "duration": 5224,
    "start_time": "2022-03-22T07:34:26.604Z"
   },
   {
    "duration": 12150,
    "start_time": "2022-03-22T07:34:31.831Z"
   },
   {
    "duration": 20,
    "start_time": "2022-03-22T07:34:43.983Z"
   },
   {
    "duration": 212,
    "start_time": "2022-03-22T07:34:44.006Z"
   },
   {
    "duration": 160,
    "start_time": "2022-03-22T07:34:44.220Z"
   },
   {
    "duration": 7,
    "start_time": "2022-03-22T07:34:44.383Z"
   },
   {
    "duration": 6,
    "start_time": "2022-03-22T07:40:42.129Z"
   }
  ],
  "kernelspec": {
   "display_name": "Python 3",
   "language": "python",
   "name": "python3"
  },
  "language_info": {
   "codemirror_mode": {
    "name": "ipython",
    "version": 3
   },
   "file_extension": ".py",
   "mimetype": "text/x-python",
   "name": "python",
   "nbconvert_exporter": "python",
   "pygments_lexer": "ipython3",
   "version": "3.8.8"
  },
  "toc": {
   "base_numbering": 1,
   "nav_menu": {},
   "number_sections": true,
   "sideBar": true,
   "skip_h1_title": true,
   "title_cell": "Содержание",
   "title_sidebar": "Contents",
   "toc_cell": true,
   "toc_position": {
    "height": "calc(100% - 180px)",
    "left": "10px",
    "top": "150px",
    "width": "355.25px"
   },
   "toc_section_display": true,
   "toc_window_display": true
  }
 },
 "nbformat": 4,
 "nbformat_minor": 2
}
