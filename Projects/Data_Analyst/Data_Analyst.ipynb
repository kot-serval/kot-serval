{
 "cells": [
  {
   "cell_type": "markdown",
   "metadata": {},
   "source": [
    "# Исследование надёжности заёмщиков — анализ банковских данных\n",
    "На основе данных кредитного отдела банка исследовал влияние семейного положения и количества детей на факт погашения кредита в срок. Была получена информация о данных. Определены и обработаны пропуски. Заменены типы данных на соответствующие хранящимся данным. Удалены дубликаты. Категоризованы данные. Один датафрейм декомпозирован на три.\n",
    "\n",
    "**Цель исследования:** \n",
    "На основе статистики о платёжеспособности клиентов исследовать влияет ли семейное положение и количество детей клиента на факт возврата кредита в срок\n",
    "\n",
    "\n",
    "Результаты исследования будут учтены при построении модели **кредитного скоринга** — специальной системы, которая оценивает способность потенциального заёмщика вернуть кредит банку."
   ]
  },
  {
   "cell_type": "markdown",
   "metadata": {},
   "source": [
    "## Подготовка"
   ]
  },
  {
   "cell_type": "markdown",
   "metadata": {},
   "source": [
    "### Импортируем библиотеки."
   ]
  },
  {
   "cell_type": "code",
   "execution_count": 1,
   "metadata": {},
   "outputs": [],
   "source": [
    "# импорт библиотек\n",
    "import pandas as pd\n",
    "import numpy as np\n",
    "from pymystem3 import Mystem\n",
    "from collections import Counter\n"
   ]
  },
  {
   "cell_type": "markdown",
   "metadata": {},
   "source": [
    "Смотрим на данные"
   ]
  },
  {
   "cell_type": "code",
   "execution_count": 2,
   "metadata": {
    "scrolled": true
   },
   "outputs": [
    {
     "data": {
      "text/html": [
       "<div>\n",
       "<style scoped>\n",
       "    .dataframe tbody tr th:only-of-type {\n",
       "        vertical-align: middle;\n",
       "    }\n",
       "\n",
       "    .dataframe tbody tr th {\n",
       "        vertical-align: top;\n",
       "    }\n",
       "\n",
       "    .dataframe thead th {\n",
       "        text-align: right;\n",
       "    }\n",
       "</style>\n",
       "<table border=\"1\" class=\"dataframe\">\n",
       "  <thead>\n",
       "    <tr style=\"text-align: right;\">\n",
       "      <th></th>\n",
       "      <th>children</th>\n",
       "      <th>days_employed</th>\n",
       "      <th>dob_years</th>\n",
       "      <th>education</th>\n",
       "      <th>education_id</th>\n",
       "      <th>family_status</th>\n",
       "      <th>family_status_id</th>\n",
       "      <th>gender</th>\n",
       "      <th>income_type</th>\n",
       "      <th>debt</th>\n",
       "      <th>total_income</th>\n",
       "      <th>purpose</th>\n",
       "    </tr>\n",
       "  </thead>\n",
       "  <tbody>\n",
       "    <tr>\n",
       "      <td>0</td>\n",
       "      <td>1</td>\n",
       "      <td>-8437.673028</td>\n",
       "      <td>42</td>\n",
       "      <td>высшее</td>\n",
       "      <td>0</td>\n",
       "      <td>женат / замужем</td>\n",
       "      <td>0</td>\n",
       "      <td>F</td>\n",
       "      <td>сотрудник</td>\n",
       "      <td>0</td>\n",
       "      <td>253875.639453</td>\n",
       "      <td>покупка жилья</td>\n",
       "    </tr>\n",
       "    <tr>\n",
       "      <td>1</td>\n",
       "      <td>1</td>\n",
       "      <td>-4024.803754</td>\n",
       "      <td>36</td>\n",
       "      <td>среднее</td>\n",
       "      <td>1</td>\n",
       "      <td>женат / замужем</td>\n",
       "      <td>0</td>\n",
       "      <td>F</td>\n",
       "      <td>сотрудник</td>\n",
       "      <td>0</td>\n",
       "      <td>112080.014102</td>\n",
       "      <td>приобретение автомобиля</td>\n",
       "    </tr>\n",
       "    <tr>\n",
       "      <td>2</td>\n",
       "      <td>0</td>\n",
       "      <td>-5623.422610</td>\n",
       "      <td>33</td>\n",
       "      <td>Среднее</td>\n",
       "      <td>1</td>\n",
       "      <td>женат / замужем</td>\n",
       "      <td>0</td>\n",
       "      <td>M</td>\n",
       "      <td>сотрудник</td>\n",
       "      <td>0</td>\n",
       "      <td>145885.952297</td>\n",
       "      <td>покупка жилья</td>\n",
       "    </tr>\n",
       "    <tr>\n",
       "      <td>3</td>\n",
       "      <td>3</td>\n",
       "      <td>-4124.747207</td>\n",
       "      <td>32</td>\n",
       "      <td>среднее</td>\n",
       "      <td>1</td>\n",
       "      <td>женат / замужем</td>\n",
       "      <td>0</td>\n",
       "      <td>M</td>\n",
       "      <td>сотрудник</td>\n",
       "      <td>0</td>\n",
       "      <td>267628.550329</td>\n",
       "      <td>дополнительное образование</td>\n",
       "    </tr>\n",
       "    <tr>\n",
       "      <td>4</td>\n",
       "      <td>0</td>\n",
       "      <td>340266.072047</td>\n",
       "      <td>53</td>\n",
       "      <td>среднее</td>\n",
       "      <td>1</td>\n",
       "      <td>гражданский брак</td>\n",
       "      <td>1</td>\n",
       "      <td>F</td>\n",
       "      <td>пенсионер</td>\n",
       "      <td>0</td>\n",
       "      <td>158616.077870</td>\n",
       "      <td>сыграть свадьбу</td>\n",
       "    </tr>\n",
       "    <tr>\n",
       "      <td>5</td>\n",
       "      <td>0</td>\n",
       "      <td>-926.185831</td>\n",
       "      <td>27</td>\n",
       "      <td>высшее</td>\n",
       "      <td>0</td>\n",
       "      <td>гражданский брак</td>\n",
       "      <td>1</td>\n",
       "      <td>M</td>\n",
       "      <td>компаньон</td>\n",
       "      <td>0</td>\n",
       "      <td>255763.565419</td>\n",
       "      <td>покупка жилья</td>\n",
       "    </tr>\n",
       "    <tr>\n",
       "      <td>6</td>\n",
       "      <td>0</td>\n",
       "      <td>-2879.202052</td>\n",
       "      <td>43</td>\n",
       "      <td>высшее</td>\n",
       "      <td>0</td>\n",
       "      <td>женат / замужем</td>\n",
       "      <td>0</td>\n",
       "      <td>F</td>\n",
       "      <td>компаньон</td>\n",
       "      <td>0</td>\n",
       "      <td>240525.971920</td>\n",
       "      <td>операции с жильем</td>\n",
       "    </tr>\n",
       "    <tr>\n",
       "      <td>7</td>\n",
       "      <td>0</td>\n",
       "      <td>-152.779569</td>\n",
       "      <td>50</td>\n",
       "      <td>СРЕДНЕЕ</td>\n",
       "      <td>1</td>\n",
       "      <td>женат / замужем</td>\n",
       "      <td>0</td>\n",
       "      <td>M</td>\n",
       "      <td>сотрудник</td>\n",
       "      <td>0</td>\n",
       "      <td>135823.934197</td>\n",
       "      <td>образование</td>\n",
       "    </tr>\n",
       "    <tr>\n",
       "      <td>8</td>\n",
       "      <td>2</td>\n",
       "      <td>-6929.865299</td>\n",
       "      <td>35</td>\n",
       "      <td>ВЫСШЕЕ</td>\n",
       "      <td>0</td>\n",
       "      <td>гражданский брак</td>\n",
       "      <td>1</td>\n",
       "      <td>F</td>\n",
       "      <td>сотрудник</td>\n",
       "      <td>0</td>\n",
       "      <td>95856.832424</td>\n",
       "      <td>на проведение свадьбы</td>\n",
       "    </tr>\n",
       "    <tr>\n",
       "      <td>9</td>\n",
       "      <td>0</td>\n",
       "      <td>-2188.756445</td>\n",
       "      <td>41</td>\n",
       "      <td>среднее</td>\n",
       "      <td>1</td>\n",
       "      <td>женат / замужем</td>\n",
       "      <td>0</td>\n",
       "      <td>M</td>\n",
       "      <td>сотрудник</td>\n",
       "      <td>0</td>\n",
       "      <td>144425.938277</td>\n",
       "      <td>покупка жилья для семьи</td>\n",
       "    </tr>\n",
       "  </tbody>\n",
       "</table>\n",
       "</div>"
      ],
      "text/plain": [
       "   children  days_employed  dob_years education  education_id  \\\n",
       "0         1   -8437.673028         42    высшее             0   \n",
       "1         1   -4024.803754         36   среднее             1   \n",
       "2         0   -5623.422610         33   Среднее             1   \n",
       "3         3   -4124.747207         32   среднее             1   \n",
       "4         0  340266.072047         53   среднее             1   \n",
       "5         0    -926.185831         27    высшее             0   \n",
       "6         0   -2879.202052         43    высшее             0   \n",
       "7         0    -152.779569         50   СРЕДНЕЕ             1   \n",
       "8         2   -6929.865299         35    ВЫСШЕЕ             0   \n",
       "9         0   -2188.756445         41   среднее             1   \n",
       "\n",
       "      family_status  family_status_id gender income_type  debt   total_income  \\\n",
       "0   женат / замужем                 0      F   сотрудник     0  253875.639453   \n",
       "1   женат / замужем                 0      F   сотрудник     0  112080.014102   \n",
       "2   женат / замужем                 0      M   сотрудник     0  145885.952297   \n",
       "3   женат / замужем                 0      M   сотрудник     0  267628.550329   \n",
       "4  гражданский брак                 1      F   пенсионер     0  158616.077870   \n",
       "5  гражданский брак                 1      M   компаньон     0  255763.565419   \n",
       "6   женат / замужем                 0      F   компаньон     0  240525.971920   \n",
       "7   женат / замужем                 0      M   сотрудник     0  135823.934197   \n",
       "8  гражданский брак                 1      F   сотрудник     0   95856.832424   \n",
       "9   женат / замужем                 0      M   сотрудник     0  144425.938277   \n",
       "\n",
       "                      purpose  \n",
       "0               покупка жилья  \n",
       "1     приобретение автомобиля  \n",
       "2               покупка жилья  \n",
       "3  дополнительное образование  \n",
       "4             сыграть свадьбу  \n",
       "5               покупка жилья  \n",
       "6           операции с жильем  \n",
       "7                 образование  \n",
       "8       на проведение свадьбы  \n",
       "9     покупка жилья для семьи  "
      ]
     },
     "execution_count": 2,
     "metadata": {},
     "output_type": "execute_result"
    }
   ],
   "source": [
    "# чтение файла с данными и сохранение в df\n",
    "df = pd.read_csv ('/datasets/data.csv')\n",
    "# получение первых 10 строк таблицы df\n",
    "df.head(10)"
   ]
  },
  {
   "cell_type": "code",
   "execution_count": 3,
   "metadata": {},
   "outputs": [
    {
     "name": "stdout",
     "output_type": "stream",
     "text": [
      "<class 'pandas.core.frame.DataFrame'>\n",
      "RangeIndex: 21525 entries, 0 to 21524\n",
      "Data columns (total 12 columns):\n",
      "children            21525 non-null int64\n",
      "days_employed       19351 non-null float64\n",
      "dob_years           21525 non-null int64\n",
      "education           21525 non-null object\n",
      "education_id        21525 non-null int64\n",
      "family_status       21525 non-null object\n",
      "family_status_id    21525 non-null int64\n",
      "gender              21525 non-null object\n",
      "income_type         21525 non-null object\n",
      "debt                21525 non-null int64\n",
      "total_income        19351 non-null float64\n",
      "purpose             21525 non-null object\n",
      "dtypes: float64(2), int64(5), object(5)\n",
      "memory usage: 2.0+ MB\n"
     ]
    }
   ],
   "source": [
    "# получение общей информации о данных в таблице df\n",
    "df.info()"
   ]
  },
  {
   "cell_type": "markdown",
   "metadata": {},
   "source": [
    "Названия столбцов корректны, оставляем без изменений"
   ]
  },
  {
   "cell_type": "markdown",
   "metadata": {},
   "source": [
    "Проверяем, нет ли разного написания значений в 'education'"
   ]
  },
  {
   "cell_type": "code",
   "execution_count": 4,
   "metadata": {},
   "outputs": [
    {
     "name": "stdout",
     "output_type": "stream",
     "text": [
      "Уникальные значения в столбце в education ['высшее' 'среднее' 'Среднее' 'СРЕДНЕЕ' 'ВЫСШЕЕ' 'неоконченное высшее'\n",
      " 'начальное' 'Высшее' 'НЕОКОНЧЕННОЕ ВЫСШЕЕ' 'Неоконченное высшее'\n",
      " 'НАЧАЛЬНОЕ' 'Начальное' 'Ученая степень' 'УЧЕНАЯ СТЕПЕНЬ'\n",
      " 'ученая степень']\n",
      "\n",
      "Уникальные значения в столбце в education после перевода в нижний регистр ['высшее' 'среднее' 'неоконченное высшее' 'начальное' 'ученая степень']\n"
     ]
    }
   ],
   "source": [
    "print ('Уникальные значения в столбце в education', \n",
    "       df['education'].unique()) # смотрим уникальные значения\n",
    "# Переводим в нижний регистр\n",
    "df['education'] = df['education'].str.lower()\n",
    "print ()\n",
    "print ('Уникальные значения в столбце в education после перевода в нижний регистр',\n",
    "       df['education'].unique())"
   ]
  },
  {
   "cell_type": "markdown",
   "metadata": {},
   "source": [
    "Теперь все хорошо. Проблема была в том, что одинаковые слова писали в разных регистрах"
   ]
  },
  {
   "cell_type": "markdown",
   "metadata": {},
   "source": [
    "**Вывод**"
   ]
  },
  {
   "cell_type": "markdown",
   "metadata": {},
   "source": [
    "  \n",
    "Итак, в таблице 12 столбцов.\n",
    "\n",
    "Согласно документации к данным:\n",
    "* children — количество детей в семье\n",
    "* days_employed — общий трудовой стаж в днях\n",
    "* dob_years — возраст клиента в годах\n",
    "* education — уровень образования клиента\n",
    "* education_id — идентификатор уровня образования\n",
    "* family_status — семейное положение\n",
    "* family_status_id — идентификатор семейного положения\n",
    "* gender — пол клиента\n",
    "* income_type — тип занятости\n",
    "* debt — имел ли задолженность по возврату кредитов\n",
    "* total_income — ежемесячный доход\n",
    "* purpose — цель получения кредита\n",
    "\n",
    "Переменные относящиеся к количественным\n",
    "* Children\n",
    "* days_employed\t\n",
    "* dob_years\n",
    "* total_income\n",
    "\n",
    "Переменные относящиеся к категориальным\n",
    "* Education\n",
    "* education_id\n",
    "* family_status\n",
    "* family_status_id\n",
    "* gender\n",
    "* income_type\n",
    "* purpose\n",
    "\n",
    "Переменные относящиеся к логическим\n",
    "* Debt"
   ]
  },
  {
   "cell_type": "markdown",
   "metadata": {},
   "source": [
    "## Шаг 2. Предобработка данных"
   ]
  },
  {
   "cell_type": "markdown",
   "metadata": {},
   "source": [
    "### Обработка пропусков"
   ]
  },
  {
   "cell_type": "code",
   "execution_count": 5,
   "metadata": {},
   "outputs": [
    {
     "data": {
      "text/plain": [
       "children               0\n",
       "days_employed       2174\n",
       "dob_years              0\n",
       "education              0\n",
       "education_id           0\n",
       "family_status          0\n",
       "family_status_id       0\n",
       "gender                 0\n",
       "income_type            0\n",
       "debt                   0\n",
       "total_income        2174\n",
       "purpose                0\n",
       "dtype: int64"
      ]
     },
     "execution_count": 5,
     "metadata": {},
     "output_type": "execute_result"
    }
   ],
   "source": [
    "df.isnull().sum()"
   ]
  },
  {
   "cell_type": "markdown",
   "metadata": {},
   "source": [
    "Нашли два столбца с пропусками в данных. Это «days_employed» и «total_income» соответственно.\n",
    "Возможная причина появления пропусков в данных, это технический сбой при копировании. \n",
    "Трудовой стаж не связан с целью нашего исследования,\n",
    "поэтому принимаем решение заменить пропущенные значения на число «-1»,\n",
    "предварительно проверив что таких значений в данных нет."
   ]
  },
  {
   "cell_type": "code",
   "execution_count": 6,
   "metadata": {},
   "outputs": [
    {
     "name": "stdout",
     "output_type": "stream",
     "text": [
      "Количество значений «-1» в столбце «days_employed»: 0\n"
     ]
    }
   ],
   "source": [
    "print ('Количество значений «-1» в столбце «days_employed»:',\n",
    "       df[df['days_employed'] == -1]['children'].count())"
   ]
  },
  {
   "cell_type": "markdown",
   "metadata": {},
   "source": [
    "\n",
    "Все хорошо, можем менять пропуски на значение «-1»\n"
   ]
  },
  {
   "cell_type": "code",
   "execution_count": 7,
   "metadata": {},
   "outputs": [],
   "source": [
    "df['days_employed'] = df['days_employed'].fillna(-1)\n"
   ]
  },
  {
   "cell_type": "markdown",
   "metadata": {},
   "source": [
    "Проверяем, остались ли значения «NaN» в days_employed\n"
   ]
  },
  {
   "cell_type": "code",
   "execution_count": 8,
   "metadata": {},
   "outputs": [
    {
     "data": {
      "text/plain": [
       "children               0\n",
       "days_employed          0\n",
       "dob_years              0\n",
       "education              0\n",
       "education_id           0\n",
       "family_status          0\n",
       "family_status_id       0\n",
       "gender                 0\n",
       "income_type            0\n",
       "debt                   0\n",
       "total_income        2174\n",
       "purpose                0\n",
       "dtype: int64"
      ]
     },
     "execution_count": 8,
     "metadata": {},
     "output_type": "execute_result"
    }
   ],
   "source": [
    "df.isnull().sum()"
   ]
  },
  {
   "cell_type": "markdown",
   "metadata": {},
   "source": [
    "\n",
    "    \n",
    "    \n",
    "В нашем исследовании нужно дать ответы на вопросы:\n",
    "* Есть ли зависимость между наличием детей и возвратом кредита в срок?\n",
    "* Есть ли зависимость между семейным положением и возвратом кредита в срок?\n",
    "* Есть ли зависимость между уровнем дохода и возвратом кредита в срок?\n",
    "* Как разные цели кредита влияют на его возврат в срок?\n",
    "\n",
    "Поэтому смотрим есть ли зависимость в пропущенных данных столбца с уровнем дохода со значениями в столбцах с количеством детей, и семейным положением. Цель кредита будет анализироваться ниже, поэтому в данном случае мы ее проигнорируем чтобы не загромождать код учебного проекта. Гипотеза заключается в следующем: если разница в зависимости будет незначительна (на уровне статистической погрешности), то мы будем считать, что пропуски в таблице были скорее всего случайны, и обусловлены техническими проблемами при формировании таблицы. И мы заполним недостающие данные усредненными значениями по категориям.\n"
   ]
  },
  {
   "cell_type": "code",
   "execution_count": 9,
   "metadata": {},
   "outputs": [
    {
     "name": "stdout",
     "output_type": "stream",
     "text": [
      "Среднее количество детей для записей с пропусками в столбце total_income 0.5524379024839007\n",
      "Среднее количество детей для всех данных 0.5389082462253194\n"
     ]
    }
   ],
   "source": [
    "print ('Среднее количество детей для записей с пропусками в столбце total_income',\n",
    "       df[df['total_income'].isna()]['children'].mean())\n",
    "print ('Среднее количество детей для всех данных',\n",
    "       df['children'].mean())"
   ]
  },
  {
   "cell_type": "code",
   "execution_count": 10,
   "metadata": {},
   "outputs": [
    {
     "name": "stdout",
     "output_type": "stream",
     "text": [
      "Таблица с соотношением по семейному статусу для записей с пропусками в столбце total_income\n",
      "\n",
      "женат / замужем          0.568997\n",
      "гражданский брак         0.203312\n",
      "Не женат / не замужем    0.132475\n",
      "в разводе                0.051518\n",
      "вдовец / вдова           0.043698\n",
      "Name: family_status, dtype: float64\n",
      "\n",
      "Таблица с соотношением по семейному статусу для всех данных\n",
      "женат / замужем          0.575145\n",
      "гражданский брак         0.194053\n",
      "Не женат / не замужем    0.130685\n",
      "в разводе                0.055517\n",
      "вдовец / вдова           0.044599\n",
      "Name: family_status, dtype: float64\n"
     ]
    }
   ],
   "source": [
    "print ('Таблица с соотношением по семейному статусу для записей с пропусками в столбце total_income')\n",
    "print ()\n",
    "print (df[df['total_income'].isna()]['family_status'].value_counts()/df.isnull()['total_income'].sum())\n",
    "print ()\n",
    "print ('Таблица с соотношением по семейному статусу для всех данных')\n",
    "print (df['family_status'].value_counts()/len(df))\n"
   ]
  },
  {
   "cell_type": "markdown",
   "metadata": {},
   "source": [
    "\n",
    "Гипотеза подтвердилась, переходим к заполнению отсутствующих значений."
   ]
  },
  {
   "cell_type": "markdown",
   "metadata": {},
   "source": [
    "Анализируем данные в столбце «total_income».\n",
    "Предполагаем, что ежемесячный доход коррелирует с уровнем образования клиента и типом занятости."
   ]
  },
  {
   "cell_type": "code",
   "execution_count": 11,
   "metadata": {},
   "outputs": [
    {
     "name": "stdout",
     "output_type": "stream",
     "text": [
      "Общее количество\n"
     ]
    },
    {
     "data": {
      "text/html": [
       "<div>\n",
       "<style scoped>\n",
       "    .dataframe tbody tr th:only-of-type {\n",
       "        vertical-align: middle;\n",
       "    }\n",
       "\n",
       "    .dataframe tbody tr th {\n",
       "        vertical-align: top;\n",
       "    }\n",
       "\n",
       "    .dataframe thead th {\n",
       "        text-align: right;\n",
       "    }\n",
       "</style>\n",
       "<table border=\"1\" class=\"dataframe\">\n",
       "  <thead>\n",
       "    <tr style=\"text-align: right;\">\n",
       "      <th>income_type</th>\n",
       "      <th>безработный</th>\n",
       "      <th>в декрете</th>\n",
       "      <th>госслужащий</th>\n",
       "      <th>компаньон</th>\n",
       "      <th>пенсионер</th>\n",
       "      <th>предприниматель</th>\n",
       "      <th>сотрудник</th>\n",
       "      <th>студент</th>\n",
       "    </tr>\n",
       "    <tr>\n",
       "      <th>education</th>\n",
       "      <th></th>\n",
       "      <th></th>\n",
       "      <th></th>\n",
       "      <th></th>\n",
       "      <th></th>\n",
       "      <th></th>\n",
       "      <th></th>\n",
       "      <th></th>\n",
       "    </tr>\n",
       "  </thead>\n",
       "  <tbody>\n",
       "    <tr>\n",
       "      <td>высшее</td>\n",
       "      <td>1.0</td>\n",
       "      <td>NaN</td>\n",
       "      <td>488.0</td>\n",
       "      <td>1600.0</td>\n",
       "      <td>520.0</td>\n",
       "      <td>1.0</td>\n",
       "      <td>2105.0</td>\n",
       "      <td>1.0</td>\n",
       "    </tr>\n",
       "    <tr>\n",
       "      <td>начальное</td>\n",
       "      <td>NaN</td>\n",
       "      <td>NaN</td>\n",
       "      <td>6.0</td>\n",
       "      <td>29.0</td>\n",
       "      <td>93.0</td>\n",
       "      <td>NaN</td>\n",
       "      <td>133.0</td>\n",
       "      <td>NaN</td>\n",
       "    </tr>\n",
       "    <tr>\n",
       "      <td>неоконченное высшее</td>\n",
       "      <td>NaN</td>\n",
       "      <td>NaN</td>\n",
       "      <td>46.0</td>\n",
       "      <td>261.0</td>\n",
       "      <td>35.0</td>\n",
       "      <td>NaN</td>\n",
       "      <td>333.0</td>\n",
       "      <td>NaN</td>\n",
       "    </tr>\n",
       "    <tr>\n",
       "      <td>среднее</td>\n",
       "      <td>1.0</td>\n",
       "      <td>1.0</td>\n",
       "      <td>771.0</td>\n",
       "      <td>2687.0</td>\n",
       "      <td>2793.0</td>\n",
       "      <td>NaN</td>\n",
       "      <td>7440.0</td>\n",
       "      <td>NaN</td>\n",
       "    </tr>\n",
       "    <tr>\n",
       "      <td>ученая степень</td>\n",
       "      <td>NaN</td>\n",
       "      <td>NaN</td>\n",
       "      <td>1.0</td>\n",
       "      <td>NaN</td>\n",
       "      <td>2.0</td>\n",
       "      <td>NaN</td>\n",
       "      <td>3.0</td>\n",
       "      <td>NaN</td>\n",
       "    </tr>\n",
       "  </tbody>\n",
       "</table>\n",
       "</div>"
      ],
      "text/plain": [
       "income_type          безработный  в декрете  госслужащий  компаньон  \\\n",
       "education                                                             \n",
       "высшее                       1.0        NaN        488.0     1600.0   \n",
       "начальное                    NaN        NaN          6.0       29.0   \n",
       "неоконченное высшее          NaN        NaN         46.0      261.0   \n",
       "среднее                      1.0        1.0        771.0     2687.0   \n",
       "ученая степень               NaN        NaN          1.0        NaN   \n",
       "\n",
       "income_type          пенсионер  предприниматель  сотрудник  студент  \n",
       "education                                                            \n",
       "высшее                   520.0              1.0     2105.0      1.0  \n",
       "начальное                 93.0              NaN      133.0      NaN  \n",
       "неоконченное высшее       35.0              NaN      333.0      NaN  \n",
       "среднее                 2793.0              NaN     7440.0      NaN  \n",
       "ученая степень             2.0              NaN        3.0      NaN  "
      ]
     },
     "metadata": {},
     "output_type": "display_data"
    },
    {
     "name": "stdout",
     "output_type": "stream",
     "text": [
      "Минимальное значение дохода\n"
     ]
    },
    {
     "data": {
      "text/html": [
       "<div>\n",
       "<style scoped>\n",
       "    .dataframe tbody tr th:only-of-type {\n",
       "        vertical-align: middle;\n",
       "    }\n",
       "\n",
       "    .dataframe tbody tr th {\n",
       "        vertical-align: top;\n",
       "    }\n",
       "\n",
       "    .dataframe thead th {\n",
       "        text-align: right;\n",
       "    }\n",
       "</style>\n",
       "<table border=\"1\" class=\"dataframe\">\n",
       "  <thead>\n",
       "    <tr style=\"text-align: right;\">\n",
       "      <th>income_type</th>\n",
       "      <th>безработный</th>\n",
       "      <th>в декрете</th>\n",
       "      <th>госслужащий</th>\n",
       "      <th>компаньон</th>\n",
       "      <th>пенсионер</th>\n",
       "      <th>предприниматель</th>\n",
       "      <th>сотрудник</th>\n",
       "      <th>студент</th>\n",
       "    </tr>\n",
       "    <tr>\n",
       "      <th>education</th>\n",
       "      <th></th>\n",
       "      <th></th>\n",
       "      <th></th>\n",
       "      <th></th>\n",
       "      <th></th>\n",
       "      <th></th>\n",
       "      <th></th>\n",
       "      <th></th>\n",
       "    </tr>\n",
       "  </thead>\n",
       "  <tbody>\n",
       "    <tr>\n",
       "      <td>высшее</td>\n",
       "      <td>202722.511368</td>\n",
       "      <td>NaN</td>\n",
       "      <td>44734.262614</td>\n",
       "      <td>42777.827594</td>\n",
       "      <td>35137.992145</td>\n",
       "      <td>499163.144947</td>\n",
       "      <td>32178.213678</td>\n",
       "      <td>98201.625314</td>\n",
       "    </tr>\n",
       "    <tr>\n",
       "      <td>начальное</td>\n",
       "      <td>NaN</td>\n",
       "      <td>NaN</td>\n",
       "      <td>53099.539176</td>\n",
       "      <td>71051.529875</td>\n",
       "      <td>25308.586849</td>\n",
       "      <td>NaN</td>\n",
       "      <td>36481.866637</td>\n",
       "      <td>NaN</td>\n",
       "    </tr>\n",
       "    <tr>\n",
       "      <td>неоконченное высшее</td>\n",
       "      <td>NaN</td>\n",
       "      <td>NaN</td>\n",
       "      <td>50962.678837</td>\n",
       "      <td>53214.817508</td>\n",
       "      <td>34466.133539</td>\n",
       "      <td>NaN</td>\n",
       "      <td>51022.430000</td>\n",
       "      <td>NaN</td>\n",
       "    </tr>\n",
       "    <tr>\n",
       "      <td>среднее</td>\n",
       "      <td>59956.991984</td>\n",
       "      <td>53829.130729</td>\n",
       "      <td>29200.077193</td>\n",
       "      <td>28702.812889</td>\n",
       "      <td>20667.263793</td>\n",
       "      <td>NaN</td>\n",
       "      <td>21367.648356</td>\n",
       "      <td>NaN</td>\n",
       "    </tr>\n",
       "    <tr>\n",
       "      <td>ученая степень</td>\n",
       "      <td>NaN</td>\n",
       "      <td>NaN</td>\n",
       "      <td>111392.231107</td>\n",
       "      <td>NaN</td>\n",
       "      <td>98752.495442</td>\n",
       "      <td>NaN</td>\n",
       "      <td>115949.039788</td>\n",
       "      <td>NaN</td>\n",
       "    </tr>\n",
       "  </tbody>\n",
       "</table>\n",
       "</div>"
      ],
      "text/plain": [
       "income_type            безработный     в декрете    госслужащий     компаньон  \\\n",
       "education                                                                       \n",
       "высшее               202722.511368           NaN   44734.262614  42777.827594   \n",
       "начальное                      NaN           NaN   53099.539176  71051.529875   \n",
       "неоконченное высшее            NaN           NaN   50962.678837  53214.817508   \n",
       "среднее               59956.991984  53829.130729   29200.077193  28702.812889   \n",
       "ученая степень                 NaN           NaN  111392.231107           NaN   \n",
       "\n",
       "income_type             пенсионер  предприниматель      сотрудник  \\\n",
       "education                                                           \n",
       "высшее               35137.992145    499163.144947   32178.213678   \n",
       "начальное            25308.586849              NaN   36481.866637   \n",
       "неоконченное высшее  34466.133539              NaN   51022.430000   \n",
       "среднее              20667.263793              NaN   21367.648356   \n",
       "ученая степень       98752.495442              NaN  115949.039788   \n",
       "\n",
       "income_type               студент  \n",
       "education                          \n",
       "высшее               98201.625314  \n",
       "начальное                     NaN  \n",
       "неоконченное высшее           NaN  \n",
       "среднее                       NaN  \n",
       "ученая степень                NaN  "
      ]
     },
     "metadata": {},
     "output_type": "display_data"
    },
    {
     "name": "stdout",
     "output_type": "stream",
     "text": [
      "Максимальное значение дохода\n"
     ]
    },
    {
     "data": {
      "text/html": [
       "<div>\n",
       "<style scoped>\n",
       "    .dataframe tbody tr th:only-of-type {\n",
       "        vertical-align: middle;\n",
       "    }\n",
       "\n",
       "    .dataframe tbody tr th {\n",
       "        vertical-align: top;\n",
       "    }\n",
       "\n",
       "    .dataframe thead th {\n",
       "        text-align: right;\n",
       "    }\n",
       "</style>\n",
       "<table border=\"1\" class=\"dataframe\">\n",
       "  <thead>\n",
       "    <tr style=\"text-align: right;\">\n",
       "      <th>income_type</th>\n",
       "      <th>безработный</th>\n",
       "      <th>в декрете</th>\n",
       "      <th>госслужащий</th>\n",
       "      <th>компаньон</th>\n",
       "      <th>пенсионер</th>\n",
       "      <th>предприниматель</th>\n",
       "      <th>сотрудник</th>\n",
       "      <th>студент</th>\n",
       "    </tr>\n",
       "    <tr>\n",
       "      <th>education</th>\n",
       "      <th></th>\n",
       "      <th></th>\n",
       "      <th></th>\n",
       "      <th></th>\n",
       "      <th></th>\n",
       "      <th></th>\n",
       "      <th></th>\n",
       "      <th></th>\n",
       "    </tr>\n",
       "  </thead>\n",
       "  <tbody>\n",
       "    <tr>\n",
       "      <td>высшее</td>\n",
       "      <td>202722.511368</td>\n",
       "      <td>NaN</td>\n",
       "      <td>910451.470814</td>\n",
       "      <td>2.265604e+06</td>\n",
       "      <td>735103.270167</td>\n",
       "      <td>499163.144947</td>\n",
       "      <td>1.286281e+06</td>\n",
       "      <td>98201.625314</td>\n",
       "    </tr>\n",
       "    <tr>\n",
       "      <td>начальное</td>\n",
       "      <td>NaN</td>\n",
       "      <td>NaN</td>\n",
       "      <td>490067.335319</td>\n",
       "      <td>3.786062e+05</td>\n",
       "      <td>296160.300798</td>\n",
       "      <td>NaN</td>\n",
       "      <td>4.078999e+05</td>\n",
       "      <td>NaN</td>\n",
       "    </tr>\n",
       "    <tr>\n",
       "      <td>неоконченное высшее</td>\n",
       "      <td>NaN</td>\n",
       "      <td>NaN</td>\n",
       "      <td>514283.242908</td>\n",
       "      <td>9.584346e+05</td>\n",
       "      <td>412386.347106</td>\n",
       "      <td>NaN</td>\n",
       "      <td>8.224260e+05</td>\n",
       "      <td>NaN</td>\n",
       "    </tr>\n",
       "    <tr>\n",
       "      <td>среднее</td>\n",
       "      <td>59956.991984</td>\n",
       "      <td>53829.130729</td>\n",
       "      <td>521325.076243</td>\n",
       "      <td>1.597613e+06</td>\n",
       "      <td>681300.590458</td>\n",
       "      <td>NaN</td>\n",
       "      <td>1.726276e+06</td>\n",
       "      <td>NaN</td>\n",
       "    </tr>\n",
       "    <tr>\n",
       "      <td>ученая степень</td>\n",
       "      <td>NaN</td>\n",
       "      <td>NaN</td>\n",
       "      <td>111392.231107</td>\n",
       "      <td>NaN</td>\n",
       "      <td>255425.196556</td>\n",
       "      <td>NaN</td>\n",
       "      <td>2.684112e+05</td>\n",
       "      <td>NaN</td>\n",
       "    </tr>\n",
       "  </tbody>\n",
       "</table>\n",
       "</div>"
      ],
      "text/plain": [
       "income_type            безработный     в декрете    госслужащий     компаньон  \\\n",
       "education                                                                       \n",
       "высшее               202722.511368           NaN  910451.470814  2.265604e+06   \n",
       "начальное                      NaN           NaN  490067.335319  3.786062e+05   \n",
       "неоконченное высшее            NaN           NaN  514283.242908  9.584346e+05   \n",
       "среднее               59956.991984  53829.130729  521325.076243  1.597613e+06   \n",
       "ученая степень                 NaN           NaN  111392.231107           NaN   \n",
       "\n",
       "income_type              пенсионер  предприниматель     сотрудник  \\\n",
       "education                                                           \n",
       "высшее               735103.270167    499163.144947  1.286281e+06   \n",
       "начальное            296160.300798              NaN  4.078999e+05   \n",
       "неоконченное высшее  412386.347106              NaN  8.224260e+05   \n",
       "среднее              681300.590458              NaN  1.726276e+06   \n",
       "ученая степень       255425.196556              NaN  2.684112e+05   \n",
       "\n",
       "income_type               студент  \n",
       "education                          \n",
       "высшее               98201.625314  \n",
       "начальное                     NaN  \n",
       "неоконченное высшее           NaN  \n",
       "среднее                       NaN  \n",
       "ученая степень                NaN  "
      ]
     },
     "metadata": {},
     "output_type": "display_data"
    },
    {
     "name": "stdout",
     "output_type": "stream",
     "text": [
      "Медианное значение дохода\n"
     ]
    },
    {
     "data": {
      "text/html": [
       "<div>\n",
       "<style scoped>\n",
       "    .dataframe tbody tr th:only-of-type {\n",
       "        vertical-align: middle;\n",
       "    }\n",
       "\n",
       "    .dataframe tbody tr th {\n",
       "        vertical-align: top;\n",
       "    }\n",
       "\n",
       "    .dataframe thead th {\n",
       "        text-align: right;\n",
       "    }\n",
       "</style>\n",
       "<table border=\"1\" class=\"dataframe\">\n",
       "  <thead>\n",
       "    <tr style=\"text-align: right;\">\n",
       "      <th>income_type</th>\n",
       "      <th>безработный</th>\n",
       "      <th>в декрете</th>\n",
       "      <th>госслужащий</th>\n",
       "      <th>компаньон</th>\n",
       "      <th>пенсионер</th>\n",
       "      <th>предприниматель</th>\n",
       "      <th>сотрудник</th>\n",
       "      <th>студент</th>\n",
       "    </tr>\n",
       "    <tr>\n",
       "      <th>education</th>\n",
       "      <th></th>\n",
       "      <th></th>\n",
       "      <th></th>\n",
       "      <th></th>\n",
       "      <th></th>\n",
       "      <th></th>\n",
       "      <th></th>\n",
       "      <th></th>\n",
       "    </tr>\n",
       "  </thead>\n",
       "  <tbody>\n",
       "    <tr>\n",
       "      <td>высшее</td>\n",
       "      <td>202722.511368</td>\n",
       "      <td>NaN</td>\n",
       "      <td>172511.107016</td>\n",
       "      <td>201785.400018</td>\n",
       "      <td>144240.768611</td>\n",
       "      <td>499163.144947</td>\n",
       "      <td>165640.744634</td>\n",
       "      <td>98201.625314</td>\n",
       "    </tr>\n",
       "    <tr>\n",
       "      <td>начальное</td>\n",
       "      <td>NaN</td>\n",
       "      <td>NaN</td>\n",
       "      <td>148339.290825</td>\n",
       "      <td>136798.905143</td>\n",
       "      <td>102598.653164</td>\n",
       "      <td>NaN</td>\n",
       "      <td>125994.910603</td>\n",
       "      <td>NaN</td>\n",
       "    </tr>\n",
       "    <tr>\n",
       "      <td>неоконченное высшее</td>\n",
       "      <td>NaN</td>\n",
       "      <td>NaN</td>\n",
       "      <td>160592.345303</td>\n",
       "      <td>179867.152890</td>\n",
       "      <td>120136.896353</td>\n",
       "      <td>NaN</td>\n",
       "      <td>151308.937846</td>\n",
       "      <td>NaN</td>\n",
       "    </tr>\n",
       "    <tr>\n",
       "      <td>среднее</td>\n",
       "      <td>59956.991984</td>\n",
       "      <td>53829.130729</td>\n",
       "      <td>136652.970357</td>\n",
       "      <td>159070.690289</td>\n",
       "      <td>114842.854099</td>\n",
       "      <td>NaN</td>\n",
       "      <td>136555.108821</td>\n",
       "      <td>NaN</td>\n",
       "    </tr>\n",
       "    <tr>\n",
       "      <td>ученая степень</td>\n",
       "      <td>NaN</td>\n",
       "      <td>NaN</td>\n",
       "      <td>111392.231107</td>\n",
       "      <td>NaN</td>\n",
       "      <td>177088.845999</td>\n",
       "      <td>NaN</td>\n",
       "      <td>198570.757322</td>\n",
       "      <td>NaN</td>\n",
       "    </tr>\n",
       "  </tbody>\n",
       "</table>\n",
       "</div>"
      ],
      "text/plain": [
       "income_type            безработный     в декрете    госслужащий  \\\n",
       "education                                                         \n",
       "высшее               202722.511368           NaN  172511.107016   \n",
       "начальное                      NaN           NaN  148339.290825   \n",
       "неоконченное высшее            NaN           NaN  160592.345303   \n",
       "среднее               59956.991984  53829.130729  136652.970357   \n",
       "ученая степень                 NaN           NaN  111392.231107   \n",
       "\n",
       "income_type              компаньон      пенсионер  предприниматель  \\\n",
       "education                                                            \n",
       "высшее               201785.400018  144240.768611    499163.144947   \n",
       "начальное            136798.905143  102598.653164              NaN   \n",
       "неоконченное высшее  179867.152890  120136.896353              NaN   \n",
       "среднее              159070.690289  114842.854099              NaN   \n",
       "ученая степень                 NaN  177088.845999              NaN   \n",
       "\n",
       "income_type              сотрудник       студент  \n",
       "education                                         \n",
       "высшее               165640.744634  98201.625314  \n",
       "начальное            125994.910603           NaN  \n",
       "неоконченное высшее  151308.937846           NaN  \n",
       "среднее              136555.108821           NaN  \n",
       "ученая степень       198570.757322           NaN  "
      ]
     },
     "metadata": {},
     "output_type": "display_data"
    },
    {
     "name": "stdout",
     "output_type": "stream",
     "text": [
      "Среднее значение дохода\n"
     ]
    },
    {
     "data": {
      "text/html": [
       "<div>\n",
       "<style scoped>\n",
       "    .dataframe tbody tr th:only-of-type {\n",
       "        vertical-align: middle;\n",
       "    }\n",
       "\n",
       "    .dataframe tbody tr th {\n",
       "        vertical-align: top;\n",
       "    }\n",
       "\n",
       "    .dataframe thead th {\n",
       "        text-align: right;\n",
       "    }\n",
       "</style>\n",
       "<table border=\"1\" class=\"dataframe\">\n",
       "  <thead>\n",
       "    <tr style=\"text-align: right;\">\n",
       "      <th>income_type</th>\n",
       "      <th>безработный</th>\n",
       "      <th>в декрете</th>\n",
       "      <th>госслужащий</th>\n",
       "      <th>компаньон</th>\n",
       "      <th>пенсионер</th>\n",
       "      <th>предприниматель</th>\n",
       "      <th>сотрудник</th>\n",
       "      <th>студент</th>\n",
       "    </tr>\n",
       "    <tr>\n",
       "      <th>education</th>\n",
       "      <th></th>\n",
       "      <th></th>\n",
       "      <th></th>\n",
       "      <th></th>\n",
       "      <th></th>\n",
       "      <th></th>\n",
       "      <th></th>\n",
       "      <th></th>\n",
       "    </tr>\n",
       "  </thead>\n",
       "  <tbody>\n",
       "    <tr>\n",
       "      <td>высшее</td>\n",
       "      <td>202722.511368</td>\n",
       "      <td>NaN</td>\n",
       "      <td>197320.548067</td>\n",
       "      <td>242375.855503</td>\n",
       "      <td>170667.987802</td>\n",
       "      <td>499163.144947</td>\n",
       "      <td>191564.306210</td>\n",
       "      <td>98201.625314</td>\n",
       "    </tr>\n",
       "    <tr>\n",
       "      <td>начальное</td>\n",
       "      <td>NaN</td>\n",
       "      <td>NaN</td>\n",
       "      <td>184056.353037</td>\n",
       "      <td>165057.030695</td>\n",
       "      <td>111314.924441</td>\n",
       "      <td>NaN</td>\n",
       "      <td>137212.850187</td>\n",
       "      <td>NaN</td>\n",
       "    </tr>\n",
       "    <tr>\n",
       "      <td>неоконченное высшее</td>\n",
       "      <td>NaN</td>\n",
       "      <td>NaN</td>\n",
       "      <td>172476.953367</td>\n",
       "      <td>197649.335647</td>\n",
       "      <td>138312.108423</td>\n",
       "      <td>NaN</td>\n",
       "      <td>174697.072430</td>\n",
       "      <td>NaN</td>\n",
       "    </tr>\n",
       "    <tr>\n",
       "      <td>среднее</td>\n",
       "      <td>59956.991984</td>\n",
       "      <td>53829.130729</td>\n",
       "      <td>154055.103706</td>\n",
       "      <td>179490.220250</td>\n",
       "      <td>131698.933496</td>\n",
       "      <td>NaN</td>\n",
       "      <td>152662.997144</td>\n",
       "      <td>NaN</td>\n",
       "    </tr>\n",
       "    <tr>\n",
       "      <td>ученая степень</td>\n",
       "      <td>NaN</td>\n",
       "      <td>NaN</td>\n",
       "      <td>111392.231107</td>\n",
       "      <td>NaN</td>\n",
       "      <td>177088.845999</td>\n",
       "      <td>NaN</td>\n",
       "      <td>194310.337215</td>\n",
       "      <td>NaN</td>\n",
       "    </tr>\n",
       "  </tbody>\n",
       "</table>\n",
       "</div>"
      ],
      "text/plain": [
       "income_type            безработный     в декрете    госслужащий  \\\n",
       "education                                                         \n",
       "высшее               202722.511368           NaN  197320.548067   \n",
       "начальное                      NaN           NaN  184056.353037   \n",
       "неоконченное высшее            NaN           NaN  172476.953367   \n",
       "среднее               59956.991984  53829.130729  154055.103706   \n",
       "ученая степень                 NaN           NaN  111392.231107   \n",
       "\n",
       "income_type              компаньон      пенсионер  предприниматель  \\\n",
       "education                                                            \n",
       "высшее               242375.855503  170667.987802    499163.144947   \n",
       "начальное            165057.030695  111314.924441              NaN   \n",
       "неоконченное высшее  197649.335647  138312.108423              NaN   \n",
       "среднее              179490.220250  131698.933496              NaN   \n",
       "ученая степень                 NaN  177088.845999              NaN   \n",
       "\n",
       "income_type              сотрудник       студент  \n",
       "education                                         \n",
       "высшее               191564.306210  98201.625314  \n",
       "начальное            137212.850187           NaN  \n",
       "неоконченное высшее  174697.072430           NaN  \n",
       "среднее              152662.997144           NaN  \n",
       "ученая степень       194310.337215           NaN  "
      ]
     },
     "metadata": {},
     "output_type": "display_data"
    }
   ],
   "source": [
    "print ('Общее количество')\n",
    "display(df.pivot_table(index='education', columns='income_type', \n",
    "                       values='total_income', aggfunc='count'))\n",
    "print ('Минимальное значение дохода')\n",
    "display(df.pivot_table(index='education', columns='income_type', \n",
    "                       values='total_income', aggfunc='min'))\n",
    "print ('Максимальное значение дохода')\n",
    "display(df.pivot_table(index='education', columns='income_type', \n",
    "                       values='total_income', aggfunc='max'))\n",
    "print ('Медианное значение дохода')\n",
    "display(df.pivot_table(index='education', columns='income_type', \n",
    "                       values='total_income', aggfunc='median'))\n",
    "print ('Среднее значение дохода')\n",
    "display(df.pivot_table(index='education', columns='income_type', \n",
    "                       values='total_income', aggfunc='mean'))"
   ]
  },
  {
   "cell_type": "markdown",
   "metadata": {},
   "source": [
    "Проанализировав данные видим большие различия в минимальных и максимальных значениях относительно средних. Для того чтобы нивелировать влияние крайних значений на данные, принимаем решение использовать медианные значения."
   ]
  },
  {
   "cell_type": "code",
   "execution_count": 12,
   "metadata": {},
   "outputs": [
    {
     "name": "stdout",
     "output_type": "stream",
     "text": [
      "Количество ошибок: 0\n"
     ]
    },
    {
     "data": {
      "text/plain": [
       "children            0\n",
       "days_employed       0\n",
       "dob_years           0\n",
       "education           0\n",
       "education_id        0\n",
       "family_status       0\n",
       "family_status_id    0\n",
       "gender              0\n",
       "income_type         0\n",
       "debt                0\n",
       "total_income        0\n",
       "purpose             0\n",
       "dtype: int64"
      ]
     },
     "execution_count": 12,
     "metadata": {},
     "output_type": "execute_result"
    }
   ],
   "source": [
    "# Создаем временную выборку с медианными значениями\n",
    "df_temp = df.pivot_table(index='education', columns='income_type', values='total_income', aggfunc='median')\n",
    "# Создаем функцию, возвращающую медианное значение для выбранной категории\n",
    "def median_value (df_temp, education, income_type):\n",
    "    return df_temp.loc[education, income_type]\n",
    "\n",
    "# Сброс счетчика ошибок\n",
    "count_errors = 0\n",
    "\n",
    "for i in range(len(df)):\n",
    "    if np.isnan(df.loc[i,'total_income']): #Выбираем ячейки со значением «NaN»\n",
    "        try:\n",
    "            # Пишем в выбранную ячейку медианное значение из временной выборки\n",
    "            df.loc[i,'total_income'] = median_value (df_temp, df.loc[i,'education'], df.loc[i,'income_type'])\n",
    "        except:\n",
    "            count_errors +=1\n",
    "    \n",
    "print ('Количество ошибок:',count_errors) \n",
    "#Проверяем, остались ли значения «NaN»\n",
    "df.isnull().sum()"
   ]
  },
  {
   "cell_type": "markdown",
   "metadata": {},
   "source": [
    "**Вывод**"
   ]
  },
  {
   "cell_type": "markdown",
   "metadata": {},
   "source": [
    "\n",
    "\n",
    "При обработке пропусков нашли два столбца с пропусками в данных. Это «days_employed» и «total_income». Трудовой стаж не связан с целью нашего исследования, поэтому принимаем решение заменить пропущенные значения на число «-1», предварительно проверив что таких значений в данных нет. Проанализировав данные в столбце «total_income» пришли к выводу что пропуски несут случайный характер, после чего заменили пропуски на медианные значения предварительно сгруппировав данные по уровню образования клиента и типом занятости."
   ]
  },
  {
   "cell_type": "markdown",
   "metadata": {},
   "source": [
    "### Замена типа данных"
   ]
  },
  {
   "cell_type": "code",
   "execution_count": 13,
   "metadata": {},
   "outputs": [
    {
     "name": "stdout",
     "output_type": "stream",
     "text": [
      "Проверяем результат\n",
      "<class 'pandas.core.frame.DataFrame'>\n",
      "RangeIndex: 21525 entries, 0 to 21524\n",
      "Data columns (total 12 columns):\n",
      "children            21525 non-null int64\n",
      "days_employed       21525 non-null int64\n",
      "dob_years           21525 non-null int64\n",
      "education           21525 non-null object\n",
      "education_id        21525 non-null int64\n",
      "family_status       21525 non-null object\n",
      "family_status_id    21525 non-null int64\n",
      "gender              21525 non-null object\n",
      "income_type         21525 non-null object\n",
      "debt                21525 non-null int64\n",
      "total_income        21525 non-null int64\n",
      "purpose             21525 non-null object\n",
      "dtypes: int64(7), object(5)\n",
      "memory usage: 2.0+ MB\n"
     ]
    }
   ],
   "source": [
    "df['days_employed'] = df['days_employed'].astype(int) \n",
    "df['total_income'] = df['total_income'].astype(int) \n",
    "print ('Проверяем результат')\n",
    "df.info()"
   ]
  },
  {
   "cell_type": "markdown",
   "metadata": {},
   "source": [
    "**Вывод**"
   ]
  },
  {
   "cell_type": "markdown",
   "metadata": {},
   "source": [
    "Меняем тип данных на int."
   ]
  },
  {
   "cell_type": "markdown",
   "metadata": {},
   "source": [
    "### Обработка дубликатов"
   ]
  },
  {
   "cell_type": "markdown",
   "metadata": {},
   "source": [
    "Смотрим что в данных:"
   ]
  },
  {
   "cell_type": "code",
   "execution_count": 14,
   "metadata": {
    "scrolled": true
   },
   "outputs": [
    {
     "name": "stdout",
     "output_type": "stream",
     "text": [
      "среднее                15233\n",
      "высшее                  5260\n",
      "неоконченное высшее      744\n",
      "начальное                282\n",
      "ученая степень             6\n",
      "Name: education, dtype: int64\n"
     ]
    }
   ],
   "source": [
    "print (df['education'].value_counts())"
   ]
  },
  {
   "cell_type": "markdown",
   "metadata": {},
   "source": [
    "Здесь все хорошо"
   ]
  },
  {
   "cell_type": "code",
   "execution_count": 15,
   "metadata": {},
   "outputs": [
    {
     "name": "stdout",
     "output_type": "stream",
     "text": [
      "женат / замужем          12380\n",
      "гражданский брак          4177\n",
      "Не женат / не замужем     2813\n",
      "в разводе                 1195\n",
      "вдовец / вдова             960\n",
      "Name: family_status, dtype: int64\n"
     ]
    }
   ],
   "source": [
    "print (df['family_status'].value_counts())"
   ]
  },
  {
   "cell_type": "markdown",
   "metadata": {},
   "source": [
    "Здесь все хорошо"
   ]
  },
  {
   "cell_type": "code",
   "execution_count": 16,
   "metadata": {},
   "outputs": [
    {
     "name": "stdout",
     "output_type": "stream",
     "text": [
      "F      14236\n",
      "M       7288\n",
      "XNA        1\n",
      "Name: gender, dtype: int64\n"
     ]
    }
   ],
   "source": [
    "print (df['gender'].value_counts())"
   ]
  },
  {
   "cell_type": "markdown",
   "metadata": {},
   "source": [
    "Нашли аномальное значение «XNA» в столбце 'gender'.\n",
    "На данное исследование значение 'gender' не влияет, поэтому принимаем решение оставить данные без изменений."
   ]
  },
  {
   "cell_type": "code",
   "execution_count": 17,
   "metadata": {},
   "outputs": [
    {
     "name": "stdout",
     "output_type": "stream",
     "text": [
      "сотрудник          11119\n",
      "компаньон           5085\n",
      "пенсионер           3856\n",
      "госслужащий         1459\n",
      "безработный            2\n",
      "предприниматель        2\n",
      "студент                1\n",
      "в декрете              1\n",
      "Name: income_type, dtype: int64\n"
     ]
    }
   ],
   "source": [
    "print (df['income_type'].value_counts())"
   ]
  },
  {
   "cell_type": "markdown",
   "metadata": {},
   "source": [
    "Здесь все хорошо"
   ]
  },
  {
   "cell_type": "code",
   "execution_count": 18,
   "metadata": {},
   "outputs": [
    {
     "name": "stdout",
     "output_type": "stream",
     "text": [
      "свадьба                                   797\n",
      "на проведение свадьбы                     777\n",
      "сыграть свадьбу                           774\n",
      "операции с недвижимостью                  676\n",
      "покупка коммерческой недвижимости         664\n",
      "покупка жилья для сдачи                   653\n",
      "операции с жильем                         653\n",
      "операции с коммерческой недвижимостью     651\n",
      "жилье                                     647\n",
      "покупка жилья                             647\n",
      "покупка жилья для семьи                   641\n",
      "строительство собственной недвижимости    635\n",
      "недвижимость                              634\n",
      "операции со своей недвижимостью           630\n",
      "строительство жилой недвижимости          626\n",
      "покупка недвижимости                      624\n",
      "строительство недвижимости                620\n",
      "покупка своего жилья                      620\n",
      "ремонт жилью                              612\n",
      "покупка жилой недвижимости                607\n",
      "на покупку своего автомобиля              505\n",
      "заняться высшим образованием              496\n",
      "автомобиль                                495\n",
      "сделка с подержанным автомобилем          489\n",
      "свой автомобиль                           480\n",
      "на покупку подержанного автомобиля        479\n",
      "автомобили                                478\n",
      "на покупку автомобиля                     472\n",
      "дополнительное образование                462\n",
      "приобретение автомобиля                   462\n",
      "сделка с автомобилем                      455\n",
      "высшее образование                        453\n",
      "образование                               447\n",
      "получение дополнительного образования     447\n",
      "получение образования                     443\n",
      "профильное образование                    436\n",
      "получение высшего образования             426\n",
      "заняться образованием                     412\n",
      "Name: purpose, dtype: int64\n"
     ]
    }
   ],
   "source": [
    "print (df['purpose'].value_counts())"
   ]
  },
  {
   "cell_type": "markdown",
   "metadata": {},
   "source": [
    "Здесь все хорошо"
   ]
  },
  {
   "cell_type": "code",
   "execution_count": 19,
   "metadata": {},
   "outputs": [
    {
     "name": "stdout",
     "output_type": "stream",
     "text": [
      " 0     14149\n",
      " 1      4818\n",
      " 2      2055\n",
      " 3       330\n",
      " 20       76\n",
      "-1        47\n",
      " 4        41\n",
      " 5         9\n",
      "Name: children, dtype: int64\n"
     ]
    }
   ],
   "source": [
    "print (df['children'].value_counts())"
   ]
  },
  {
   "cell_type": "markdown",
   "metadata": {},
   "source": [
    "Отрицательным количество детей быть не может, предполагаем, что значение «-1» это отсутствие детей.\n",
    "Причина: различный метод внесения информации о том, что детей нет.\n",
    "Вносим соответствующие корректировки в базу, \"-1\" меняем на \"0\".\n"
   ]
  },
  {
   "cell_type": "code",
   "execution_count": 20,
   "metadata": {},
   "outputs": [],
   "source": [
    "df['children'] = ((abs(df['children'])+(df['children']))/2).astype(int) "
   ]
  },
  {
   "cell_type": "markdown",
   "metadata": {},
   "source": [
    "Проверяем что получилось убрать отрицательные значения, и прибавить их к нулевым."
   ]
  },
  {
   "cell_type": "code",
   "execution_count": 21,
   "metadata": {},
   "outputs": [
    {
     "name": "stdout",
     "output_type": "stream",
     "text": [
      "0     14196\n",
      "1      4818\n",
      "2      2055\n",
      "3       330\n",
      "20       76\n",
      "4        41\n",
      "5         9\n",
      "Name: children, dtype: int64\n"
     ]
    }
   ],
   "source": [
    "print (df['children'].value_counts())"
   ]
  },
  {
   "cell_type": "markdown",
   "metadata": {},
   "source": [
    "Все получилось!!!"
   ]
  },
  {
   "cell_type": "code",
   "execution_count": 22,
   "metadata": {},
   "outputs": [
    {
     "name": "stdout",
     "output_type": "stream",
     "text": [
      "0    19784\n",
      "1     1741\n",
      "Name: debt, dtype: int64\n"
     ]
    }
   ],
   "source": [
    "print (df['debt'].value_counts())"
   ]
  },
  {
   "cell_type": "markdown",
   "metadata": {},
   "source": [
    "Здесь все хорошо\n",
    "\n",
    "Ищем явные дубликаты"
   ]
  },
  {
   "cell_type": "code",
   "execution_count": 23,
   "metadata": {},
   "outputs": [
    {
     "name": "stdout",
     "output_type": "stream",
     "text": [
      "Найдено дубликатов: 71\n"
     ]
    }
   ],
   "source": [
    "print ('Найдено дубликатов:', df.duplicated().sum())\n"
   ]
  },
  {
   "cell_type": "markdown",
   "metadata": {},
   "source": [
    "Причина: предположительно ошибки при формировании выгрузки.\n",
    "Удаляем дубликаты, обновляем индексы\n"
   ]
  },
  {
   "cell_type": "code",
   "execution_count": 24,
   "metadata": {},
   "outputs": [],
   "source": [
    "df = df.drop_duplicates().reset_index(drop=True)\n"
   ]
  },
  {
   "cell_type": "markdown",
   "metadata": {},
   "source": [
    "Проверяем результат\n"
   ]
  },
  {
   "cell_type": "code",
   "execution_count": 25,
   "metadata": {},
   "outputs": [
    {
     "name": "stdout",
     "output_type": "stream",
     "text": [
      "Найдено дубликатов после их удаления: 0\n"
     ]
    }
   ],
   "source": [
    "print ('Найдено дубликатов после их удаления:', df.duplicated().sum())"
   ]
  },
  {
   "cell_type": "markdown",
   "metadata": {},
   "source": [
    "**Вывод**"
   ]
  },
  {
   "cell_type": "markdown",
   "metadata": {},
   "source": [
    "При обработке данных нашли записи с количеством детей «-1». Заменили их на «0».\n",
    "Были найдены дубликаты. Их удалили."
   ]
  },
  {
   "cell_type": "markdown",
   "metadata": {},
   "source": [
    "### Лемматизация"
   ]
  },
  {
   "cell_type": "markdown",
   "metadata": {},
   "source": [
    "Для лемматизации целей кредита я разбиваю каждую цель кредита на леммы, объединяю их в один список и смотрю частоту вхождения.\n"
   ]
  },
  {
   "cell_type": "code",
   "execution_count": 26,
   "metadata": {
    "scrolled": true
   },
   "outputs": [
    {
     "name": "stdout",
     "output_type": "stream",
     "text": [
      "Counter({' ': 33570, '\\n': 21454, 'недвижимость': 6351, 'покупка': 5897, 'жилье': 4460, 'автомобиль': 4306, 'образование': 4013, 'с': 2918, 'операция': 2604, 'свадьба': 2324, 'свой': 2230, 'на': 2222, 'строительство': 1878, 'высокий': 1374, 'получение': 1314, 'коммерческий': 1311, 'для': 1289, 'жилой': 1230, 'сделка': 941, 'дополнительный': 906, 'заниматься': 904, 'проведение': 768, 'сыграть': 765, 'сдача': 651, 'семья': 638, 'собственный': 635, 'со': 627, 'ремонт': 607, 'подержанный': 486, 'подержать': 478, 'приобретение': 461, 'профильный': 436})\n"
     ]
    }
   ],
   "source": [
    "m = Mystem()\n",
    "temp_lem = []\n",
    "for i in range(len(df)):\n",
    "    temp_lem += (m.lemmatize(df.loc[i,'purpose']))\n",
    "print(Counter(temp_lem)) "
   ]
  },
  {
   "cell_type": "markdown",
   "metadata": {},
   "source": [
    "Цели кредита хорошо группируются на 4:\n",
    "- 'недвижимость', 'жилье', 'строительство', 'жилой', 'операция', 'ремонт'\n",
    "- 'автомобиль'\n",
    "- 'образование', 'профильный'\n",
    "- 'свадьба', 'сыграть'\n",
    "\n",
    "Решил проверить к чему относиться 'операция', к медицине, или недвижимости:"
   ]
  },
  {
   "cell_type": "code",
   "execution_count": 27,
   "metadata": {},
   "outputs": [
    {
     "name": "stdout",
     "output_type": "stream",
     "text": [
      "операции с жильем\n",
      "операции с коммерческой недвижимостью\n",
      "операции с коммерческой недвижимостью\n",
      "операции со своей недвижимостью\n",
      "операции с недвижимостью\n",
      "операции с жильем\n",
      "операции с коммерческой недвижимостью\n",
      "операции с коммерческой недвижимостью\n",
      "операции с коммерческой недвижимостью\n",
      "операции с недвижимостью\n",
      "операции со своей недвижимостью\n",
      "операции с жильем\n",
      "операции с недвижимостью\n",
      "операции со своей недвижимостью\n",
      "операции с коммерческой недвижимостью\n",
      "операции с коммерческой недвижимостью\n",
      "операции со своей недвижимостью\n",
      "операции со своей недвижимостью\n",
      "операции с недвижимостью\n",
      "операции с жильем\n",
      "операции с коммерческой недвижимостью\n",
      "операции с жильем\n",
      "операции с коммерческой недвижимостью\n",
      "операции с коммерческой недвижимостью\n",
      "операции с недвижимостью\n",
      "операции с коммерческой недвижимостью\n",
      "операции с коммерческой недвижимостью\n",
      "операции с недвижимостью\n",
      "операции с жильем\n",
      "операции с жильем\n",
      "операции с коммерческой недвижимостью\n",
      "операции со своей недвижимостью\n",
      "операции с жильем\n",
      "операции с коммерческой недвижимостью\n",
      "операции с коммерческой недвижимостью\n",
      "операции с коммерческой недвижимостью\n",
      "операции с коммерческой недвижимостью\n",
      "операции с недвижимостью\n",
      "операции с коммерческой недвижимостью\n",
      "операции с коммерческой недвижимостью\n",
      "операции с жильем\n",
      "операции с недвижимостью\n",
      "операции с жильем\n",
      "операции с недвижимостью\n",
      "операции со своей недвижимостью\n",
      "операции со своей недвижимостью\n",
      "операции со своей недвижимостью\n",
      "операции с жильем\n",
      "операции с жильем\n",
      "операции с недвижимостью\n",
      "операции с коммерческой недвижимостью\n",
      "операции со своей недвижимостью\n",
      "операции со своей недвижимостью\n",
      "операции с коммерческой недвижимостью\n",
      "операции с жильем\n",
      "операции с коммерческой недвижимостью\n",
      "операции с жильем\n",
      "операции с коммерческой недвижимостью\n",
      "операции с недвижимостью\n",
      "операции с коммерческой недвижимостью\n",
      "операции с жильем\n",
      "операции с жильем\n",
      "операции с жильем\n",
      "операции с жильем\n",
      "операции с жильем\n",
      "операции со своей недвижимостью\n",
      "операции с недвижимостью\n",
      "операции с коммерческой недвижимостью\n",
      "операции с жильем\n",
      "операции с коммерческой недвижимостью\n",
      "операции с коммерческой недвижимостью\n",
      "операции со своей недвижимостью\n",
      "операции со своей недвижимостью\n",
      "операции с недвижимостью\n",
      "операции с коммерческой недвижимостью\n",
      "операции с жильем\n",
      "операции с коммерческой недвижимостью\n",
      "операции с недвижимостью\n",
      "операции с жильем\n",
      "операции с жильем\n",
      "операции с недвижимостью\n",
      "операции с жильем\n",
      "операции с недвижимостью\n",
      "операции со своей недвижимостью\n",
      "операции с жильем\n",
      "операции с жильем\n",
      "операции со своей недвижимостью\n",
      "операции с жильем\n",
      "операции с недвижимостью\n",
      "операции с коммерческой недвижимостью\n",
      "операции со своей недвижимостью\n",
      "операции со своей недвижимостью\n",
      "операции с коммерческой недвижимостью\n",
      "операции с недвижимостью\n",
      "операции с недвижимостью\n",
      "операции со своей недвижимостью\n",
      "операции с недвижимостью\n",
      "операции со своей недвижимостью\n",
      "операции с коммерческой недвижимостью\n",
      "операции с недвижимостью\n",
      "операции с недвижимостью\n",
      "операции с жильем\n",
      "операции с жильем\n",
      "операции с недвижимостью\n",
      "операции с коммерческой недвижимостью\n",
      "операции с жильем\n",
      "операции с недвижимостью\n",
      "операции с недвижимостью\n",
      "операции с коммерческой недвижимостью\n",
      "операции с недвижимостью\n",
      "операции с недвижимостью\n",
      "операции с жильем\n",
      "операции с жильем\n",
      "операции с коммерческой недвижимостью\n",
      "операции со своей недвижимостью\n",
      "операции с жильем\n",
      "операции с жильем\n",
      "операции с жильем\n",
      "операции с недвижимостью\n",
      "операции со своей недвижимостью\n",
      "операции с недвижимостью\n",
      "операции с жильем\n",
      "операции с недвижимостью\n",
      "операции с коммерческой недвижимостью\n",
      "операции с недвижимостью\n",
      "операции с недвижимостью\n",
      "операции с коммерческой недвижимостью\n",
      "операции с коммерческой недвижимостью\n",
      "операции с недвижимостью\n",
      "операции с жильем\n",
      "операции с коммерческой недвижимостью\n",
      "операции со своей недвижимостью\n",
      "операции со своей недвижимостью\n",
      "операции с жильем\n",
      "операции с коммерческой недвижимостью\n",
      "операции с коммерческой недвижимостью\n",
      "операции с коммерческой недвижимостью\n",
      "операции с недвижимостью\n",
      "операции со своей недвижимостью\n",
      "операции с недвижимостью\n",
      "операции с недвижимостью\n",
      "операции с коммерческой недвижимостью\n",
      "операции с жильем\n",
      "операции с коммерческой недвижимостью\n",
      "операции с жильем\n",
      "операции со своей недвижимостью\n",
      "операции с жильем\n",
      "операции с недвижимостью\n",
      "операции с коммерческой недвижимостью\n",
      "операции с недвижимостью\n",
      "операции с недвижимостью\n",
      "операции с жильем\n",
      "операции со своей недвижимостью\n",
      "операции с недвижимостью\n",
      "операции с коммерческой недвижимостью\n",
      "операции с недвижимостью\n",
      "операции с коммерческой недвижимостью\n",
      "операции со своей недвижимостью\n",
      "операции с коммерческой недвижимостью\n",
      "операции с недвижимостью\n",
      "операции с коммерческой недвижимостью\n",
      "операции с недвижимостью\n",
      "операции с коммерческой недвижимостью\n",
      "операции с недвижимостью\n",
      "операции со своей недвижимостью\n",
      "операции с жильем\n",
      "операции со своей недвижимостью\n",
      "операции со своей недвижимостью\n",
      "операции с недвижимостью\n",
      "операции со своей недвижимостью\n",
      "операции со своей недвижимостью\n",
      "операции со своей недвижимостью\n",
      "операции с жильем\n",
      "операции со своей недвижимостью\n",
      "операции с коммерческой недвижимостью\n",
      "операции с жильем\n",
      "операции с недвижимостью\n",
      "операции с жильем\n",
      "операции с коммерческой недвижимостью\n",
      "операции со своей недвижимостью\n",
      "операции со своей недвижимостью\n",
      "операции с недвижимостью\n",
      "операции с жильем\n",
      "операции с недвижимостью\n",
      "операции с жильем\n",
      "операции с жильем\n",
      "операции с жильем\n",
      "операции со своей недвижимостью\n",
      "операции со своей недвижимостью\n",
      "операции с коммерческой недвижимостью\n",
      "операции с жильем\n",
      "операции с коммерческой недвижимостью\n",
      "операции с жильем\n",
      "операции со своей недвижимостью\n",
      "операции с недвижимостью\n",
      "операции с жильем\n",
      "операции с коммерческой недвижимостью\n",
      "операции с коммерческой недвижимостью\n",
      "операции с коммерческой недвижимостью\n",
      "операции со своей недвижимостью\n",
      "операции с недвижимостью\n",
      "операции с недвижимостью\n",
      "операции со своей недвижимостью\n",
      "операции с жильем\n",
      "операции с недвижимостью\n",
      "операции с недвижимостью\n",
      "операции со своей недвижимостью\n",
      "операции с жильем\n",
      "операции с недвижимостью\n",
      "операции со своей недвижимостью\n",
      "операции со своей недвижимостью\n",
      "операции с жильем\n",
      "операции с недвижимостью\n",
      "операции с коммерческой недвижимостью\n",
      "операции с недвижимостью\n",
      "операции с недвижимостью\n",
      "операции с коммерческой недвижимостью\n",
      "операции со своей недвижимостью\n",
      "операции со своей недвижимостью\n",
      "операции с коммерческой недвижимостью\n",
      "операции с недвижимостью\n",
      "операции с коммерческой недвижимостью\n",
      "операции со своей недвижимостью\n",
      "операции с коммерческой недвижимостью\n",
      "операции с коммерческой недвижимостью\n",
      "операции с недвижимостью\n",
      "операции с жильем\n",
      "операции с коммерческой недвижимостью\n",
      "операции с недвижимостью\n",
      "операции со своей недвижимостью\n",
      "операции с недвижимостью\n",
      "операции с недвижимостью\n",
      "операции со своей недвижимостью\n",
      "операции с недвижимостью\n",
      "операции с коммерческой недвижимостью\n",
      "операции со своей недвижимостью\n",
      "операции со своей недвижимостью\n",
      "операции со своей недвижимостью\n",
      "операции с недвижимостью\n",
      "операции с коммерческой недвижимостью\n",
      "операции с жильем\n",
      "операции с жильем\n",
      "операции с коммерческой недвижимостью\n",
      "операции с недвижимостью\n",
      "операции с коммерческой недвижимостью\n",
      "операции со своей недвижимостью\n",
      "операции с жильем\n",
      "операции с коммерческой недвижимостью\n",
      "операции со своей недвижимостью\n",
      "операции со своей недвижимостью\n",
      "операции с жильем\n",
      "операции с коммерческой недвижимостью\n",
      "операции со своей недвижимостью\n",
      "операции со своей недвижимостью\n",
      "операции с недвижимостью\n",
      "операции со своей недвижимостью\n",
      "операции со своей недвижимостью\n",
      "операции с недвижимостью\n",
      "операции с коммерческой недвижимостью\n",
      "операции с коммерческой недвижимостью\n",
      "операции с недвижимостью\n",
      "операции с коммерческой недвижимостью\n",
      "операции со своей недвижимостью\n",
      "операции с недвижимостью\n",
      "операции с жильем\n",
      "операции со своей недвижимостью\n",
      "операции с недвижимостью\n",
      "операции с недвижимостью\n",
      "операции со своей недвижимостью\n",
      "операции с недвижимостью\n",
      "операции с недвижимостью\n",
      "операции с недвижимостью\n",
      "операции со своей недвижимостью\n",
      "операции с недвижимостью\n",
      "операции с недвижимостью\n",
      "операции с коммерческой недвижимостью\n",
      "операции со своей недвижимостью\n",
      "операции с недвижимостью\n",
      "операции с коммерческой недвижимостью\n",
      "операции с жильем\n",
      "операции с коммерческой недвижимостью\n",
      "операции с жильем\n",
      "операции со своей недвижимостью\n",
      "операции с жильем\n",
      "операции с недвижимостью\n",
      "операции с коммерческой недвижимостью\n",
      "операции с недвижимостью\n",
      "операции с жильем\n",
      "операции с коммерческой недвижимостью\n",
      "операции с жильем\n",
      "операции со своей недвижимостью\n",
      "операции с коммерческой недвижимостью\n",
      "операции со своей недвижимостью\n",
      "операции с коммерческой недвижимостью\n",
      "операции с жильем\n",
      "операции с коммерческой недвижимостью\n",
      "операции со своей недвижимостью\n",
      "операции с жильем\n",
      "операции со своей недвижимостью\n",
      "операции со своей недвижимостью\n",
      "операции с коммерческой недвижимостью\n",
      "операции с жильем\n",
      "операции с жильем\n",
      "операции со своей недвижимостью\n",
      "операции с коммерческой недвижимостью\n",
      "операции с жильем\n",
      "операции с жильем\n",
      "операции с коммерческой недвижимостью\n",
      "операции со своей недвижимостью\n",
      "операции с жильем\n",
      "операции с коммерческой недвижимостью\n",
      "операции с жильем\n",
      "операции со своей недвижимостью\n",
      "операции с коммерческой недвижимостью\n",
      "операции с недвижимостью\n",
      "операции со своей недвижимостью\n",
      "операции со своей недвижимостью\n",
      "операции с недвижимостью\n",
      "операции с коммерческой недвижимостью\n",
      "операции с жильем\n",
      "операции с жильем\n",
      "операции с недвижимостью\n",
      "операции с коммерческой недвижимостью\n",
      "операции с коммерческой недвижимостью\n",
      "операции с жильем\n",
      "операции с недвижимостью\n",
      "операции с коммерческой недвижимостью\n",
      "операции с недвижимостью\n",
      "операции с недвижимостью\n",
      "операции с коммерческой недвижимостью\n",
      "операции с жильем\n",
      "операции с недвижимостью\n",
      "операции с недвижимостью\n",
      "операции с недвижимостью\n",
      "операции со своей недвижимостью\n",
      "операции с недвижимостью\n",
      "операции с коммерческой недвижимостью\n",
      "операции с коммерческой недвижимостью\n",
      "операции с жильем\n",
      "операции с недвижимостью\n",
      "операции с коммерческой недвижимостью\n",
      "операции с жильем\n",
      "операции с недвижимостью\n",
      "операции с недвижимостью\n",
      "операции с недвижимостью\n",
      "операции с жильем\n",
      "операции с недвижимостью\n",
      "операции с недвижимостью\n",
      "операции с коммерческой недвижимостью\n",
      "операции со своей недвижимостью\n",
      "операции с коммерческой недвижимостью\n",
      "операции с коммерческой недвижимостью\n",
      "операции с жильем\n",
      "операции с недвижимостью\n",
      "операции с жильем\n",
      "операции с недвижимостью\n",
      "операции с недвижимостью\n",
      "операции с жильем\n",
      "операции со своей недвижимостью\n",
      "операции со своей недвижимостью\n",
      "операции со своей недвижимостью\n",
      "операции со своей недвижимостью\n",
      "операции с коммерческой недвижимостью\n",
      "операции с коммерческой недвижимостью\n",
      "операции со своей недвижимостью\n",
      "операции со своей недвижимостью\n",
      "операции с жильем\n",
      "операции с недвижимостью\n",
      "операции со своей недвижимостью\n",
      "операции с недвижимостью\n",
      "операции с недвижимостью\n",
      "операции с недвижимостью\n",
      "операции с коммерческой недвижимостью\n",
      "операции с коммерческой недвижимостью\n",
      "операции с недвижимостью\n",
      "операции со своей недвижимостью\n",
      "операции с жильем\n",
      "операции с коммерческой недвижимостью\n",
      "операции с коммерческой недвижимостью\n",
      "операции со своей недвижимостью\n",
      "операции с жильем\n",
      "операции с жильем\n",
      "операции с жильем\n",
      "операции с жильем\n",
      "операции с коммерческой недвижимостью\n",
      "операции со своей недвижимостью\n",
      "операции с недвижимостью\n",
      "операции с недвижимостью\n",
      "операции с жильем\n",
      "операции с жильем\n",
      "операции со своей недвижимостью\n",
      "операции с коммерческой недвижимостью\n",
      "операции со своей недвижимостью\n",
      "операции со своей недвижимостью\n",
      "операции с коммерческой недвижимостью\n",
      "операции с недвижимостью\n",
      "операции с недвижимостью\n",
      "операции с жильем\n",
      "операции с жильем\n",
      "операции со своей недвижимостью\n",
      "операции с коммерческой недвижимостью\n",
      "операции с жильем\n",
      "операции со своей недвижимостью\n",
      "операции со своей недвижимостью\n",
      "операции с коммерческой недвижимостью\n",
      "операции с коммерческой недвижимостью\n",
      "операции со своей недвижимостью\n",
      "операции с жильем\n",
      "операции со своей недвижимостью\n",
      "операции с жильем\n",
      "операции с недвижимостью\n",
      "операции с недвижимостью\n",
      "операции со своей недвижимостью\n",
      "операции с коммерческой недвижимостью\n",
      "операции с жильем\n",
      "операции с коммерческой недвижимостью\n",
      "операции со своей недвижимостью\n",
      "операции со своей недвижимостью\n",
      "операции с коммерческой недвижимостью\n",
      "операции с коммерческой недвижимостью\n",
      "операции с жильем\n",
      "операции с коммерческой недвижимостью\n",
      "операции со своей недвижимостью\n",
      "операции с жильем\n",
      "операции со своей недвижимостью\n",
      "операции с жильем\n",
      "операции с жильем\n",
      "операции с коммерческой недвижимостью\n",
      "операции со своей недвижимостью\n",
      "операции с жильем\n",
      "операции с коммерческой недвижимостью\n",
      "операции с жильем\n",
      "операции с недвижимостью\n",
      "операции с жильем\n",
      "операции со своей недвижимостью\n",
      "операции со своей недвижимостью\n",
      "операции со своей недвижимостью\n",
      "операции со своей недвижимостью\n",
      "операции с коммерческой недвижимостью\n",
      "операции с недвижимостью\n",
      "операции с коммерческой недвижимостью\n",
      "операции с коммерческой недвижимостью\n",
      "операции со своей недвижимостью\n",
      "операции со своей недвижимостью\n",
      "операции с жильем\n",
      "операции со своей недвижимостью\n",
      "операции с недвижимостью\n",
      "операции с коммерческой недвижимостью\n",
      "операции с жильем\n",
      "операции со своей недвижимостью\n",
      "операции со своей недвижимостью\n",
      "операции с недвижимостью\n",
      "операции с недвижимостью\n",
      "операции с коммерческой недвижимостью\n",
      "операции с жильем\n",
      "операции с коммерческой недвижимостью\n",
      "операции с жильем\n",
      "операции со своей недвижимостью\n",
      "операции с недвижимостью\n",
      "операции с жильем\n",
      "операции с коммерческой недвижимостью\n",
      "операции с недвижимостью\n",
      "операции с коммерческой недвижимостью\n",
      "операции с жильем\n",
      "операции со своей недвижимостью\n",
      "операции с коммерческой недвижимостью\n",
      "операции с недвижимостью\n",
      "операции с недвижимостью\n",
      "операции со своей недвижимостью\n",
      "операции с недвижимостью\n",
      "операции с жильем\n",
      "операции с коммерческой недвижимостью\n",
      "операции с коммерческой недвижимостью\n",
      "операции со своей недвижимостью\n",
      "операции с недвижимостью\n",
      "операции со своей недвижимостью\n",
      "операции с недвижимостью\n",
      "операции со своей недвижимостью\n",
      "операции со своей недвижимостью\n",
      "операции со своей недвижимостью\n",
      "операции с коммерческой недвижимостью\n",
      "операции с жильем\n",
      "операции с коммерческой недвижимостью\n",
      "операции с недвижимостью\n",
      "операции с недвижимостью\n",
      "операции с жильем\n",
      "операции с жильем\n",
      "операции с недвижимостью\n",
      "операции с коммерческой недвижимостью\n",
      "операции со своей недвижимостью\n",
      "операции с жильем\n",
      "операции с жильем\n",
      "операции со своей недвижимостью\n",
      "операции с недвижимостью\n",
      "операции с жильем\n",
      "операции со своей недвижимостью\n",
      "операции с недвижимостью\n",
      "операции с недвижимостью\n",
      "операции со своей недвижимостью\n",
      "операции с коммерческой недвижимостью\n",
      "операции с недвижимостью\n",
      "операции с недвижимостью\n",
      "операции с коммерческой недвижимостью\n",
      "операции с коммерческой недвижимостью\n",
      "операции со своей недвижимостью\n",
      "операции с коммерческой недвижимостью\n",
      "операции со своей недвижимостью\n",
      "операции с недвижимостью\n",
      "операции со своей недвижимостью\n",
      "операции с коммерческой недвижимостью\n",
      "операции с недвижимостью\n",
      "операции с жильем\n",
      "операции со своей недвижимостью\n",
      "операции с коммерческой недвижимостью\n",
      "операции с жильем\n",
      "операции с жильем\n",
      "операции с коммерческой недвижимостью\n",
      "операции с недвижимостью\n",
      "операции с недвижимостью\n",
      "операции с жильем\n",
      "операции с коммерческой недвижимостью\n",
      "операции со своей недвижимостью\n",
      "операции со своей недвижимостью\n",
      "операции с жильем\n",
      "операции с недвижимостью\n",
      "операции с недвижимостью\n",
      "операции со своей недвижимостью\n",
      "операции с коммерческой недвижимостью\n",
      "операции со своей недвижимостью\n",
      "операции со своей недвижимостью\n",
      "операции с недвижимостью\n",
      "операции с коммерческой недвижимостью\n",
      "операции с коммерческой недвижимостью\n",
      "операции с жильем\n",
      "операции с коммерческой недвижимостью\n",
      "операции с коммерческой недвижимостью\n",
      "операции с недвижимостью\n",
      "операции с недвижимостью\n",
      "операции с недвижимостью\n",
      "операции со своей недвижимостью\n",
      "операции со своей недвижимостью\n",
      "операции со своей недвижимостью\n",
      "операции с коммерческой недвижимостью\n",
      "операции со своей недвижимостью\n",
      "операции с недвижимостью\n",
      "операции с жильем\n",
      "операции с жильем\n",
      "операции с недвижимостью\n",
      "операции со своей недвижимостью\n",
      "операции с недвижимостью\n",
      "операции с коммерческой недвижимостью\n",
      "операции с жильем\n",
      "операции со своей недвижимостью\n",
      "операции со своей недвижимостью\n",
      "операции с жильем\n",
      "операции с жильем\n",
      "операции с недвижимостью\n",
      "операции с жильем\n",
      "операции с жильем\n",
      "операции с коммерческой недвижимостью\n",
      "операции с жильем\n",
      "операции со своей недвижимостью\n",
      "операции с недвижимостью\n",
      "операции со своей недвижимостью\n",
      "операции со своей недвижимостью\n",
      "операции с коммерческой недвижимостью\n",
      "операции со своей недвижимостью\n",
      "операции с жильем\n",
      "операции с недвижимостью\n",
      "операции со своей недвижимостью\n",
      "операции со своей недвижимостью\n",
      "операции со своей недвижимостью\n",
      "операции со своей недвижимостью\n",
      "операции с жильем\n",
      "операции с жильем\n",
      "операции со своей недвижимостью\n",
      "операции с коммерческой недвижимостью\n",
      "операции с недвижимостью\n",
      "операции с недвижимостью\n",
      "операции с жильем\n",
      "операции со своей недвижимостью\n",
      "операции с коммерческой недвижимостью\n",
      "операции со своей недвижимостью\n",
      "операции с коммерческой недвижимостью\n",
      "операции с недвижимостью\n",
      "операции с коммерческой недвижимостью\n",
      "операции с недвижимостью\n",
      "операции с жильем\n",
      "операции с жильем\n",
      "операции с жильем\n",
      "операции со своей недвижимостью\n",
      "операции с коммерческой недвижимостью\n",
      "операции со своей недвижимостью\n",
      "операции с жильем\n",
      "операции с жильем\n",
      "операции с недвижимостью\n",
      "операции со своей недвижимостью\n",
      "операции с жильем\n",
      "операции со своей недвижимостью\n",
      "операции с коммерческой недвижимостью\n",
      "операции с коммерческой недвижимостью\n",
      "операции с недвижимостью\n",
      "операции с недвижимостью\n",
      "операции с коммерческой недвижимостью\n",
      "операции с жильем\n",
      "операции со своей недвижимостью\n",
      "операции с коммерческой недвижимостью\n",
      "операции с жильем\n",
      "операции со своей недвижимостью\n",
      "операции со своей недвижимостью\n",
      "операции со своей недвижимостью\n",
      "операции с коммерческой недвижимостью\n",
      "операции с жильем\n",
      "операции с недвижимостью\n",
      "операции со своей недвижимостью\n",
      "операции со своей недвижимостью\n",
      "операции с жильем\n",
      "операции со своей недвижимостью\n",
      "операции с жильем\n",
      "операции с коммерческой недвижимостью\n",
      "операции с жильем\n",
      "операции с жильем\n",
      "операции с жильем\n",
      "операции со своей недвижимостью\n",
      "операции с недвижимостью\n",
      "операции с коммерческой недвижимостью\n",
      "операции со своей недвижимостью\n",
      "операции со своей недвижимостью\n",
      "операции с коммерческой недвижимостью\n",
      "операции со своей недвижимостью\n",
      "операции с жильем\n",
      "операции с недвижимостью\n",
      "операции с коммерческой недвижимостью\n",
      "операции со своей недвижимостью\n",
      "операции с недвижимостью\n",
      "операции с жильем\n",
      "операции с жильем\n",
      "операции с жильем\n",
      "операции с недвижимостью\n",
      "операции с коммерческой недвижимостью\n",
      "операции с жильем\n",
      "операции со своей недвижимостью\n",
      "операции с жильем\n",
      "операции с жильем\n",
      "операции со своей недвижимостью\n",
      "операции с недвижимостью\n",
      "операции со своей недвижимостью\n",
      "операции с коммерческой недвижимостью\n",
      "операции со своей недвижимостью\n",
      "операции с жильем\n",
      "операции с жильем\n",
      "операции с коммерческой недвижимостью\n",
      "операции с жильем\n",
      "операции с жильем\n",
      "операции с коммерческой недвижимостью\n",
      "операции с недвижимостью\n",
      "операции с недвижимостью\n",
      "операции с недвижимостью\n",
      "операции с жильем\n",
      "операции с недвижимостью\n",
      "операции с жильем\n",
      "операции со своей недвижимостью\n",
      "операции с коммерческой недвижимостью\n",
      "операции с недвижимостью\n",
      "операции с недвижимостью\n",
      "операции с жильем\n",
      "операции с коммерческой недвижимостью\n",
      "операции с недвижимостью\n",
      "операции с недвижимостью\n",
      "операции с коммерческой недвижимостью\n",
      "операции с коммерческой недвижимостью\n",
      "операции с жильем\n",
      "операции с недвижимостью\n",
      "операции со своей недвижимостью\n",
      "операции с коммерческой недвижимостью\n",
      "операции с жильем\n",
      "операции с коммерческой недвижимостью\n",
      "операции с недвижимостью\n",
      "операции с недвижимостью\n",
      "операции со своей недвижимостью\n",
      "операции с недвижимостью\n",
      "операции с недвижимостью\n",
      "операции со своей недвижимостью\n",
      "операции с жильем\n",
      "операции с недвижимостью\n",
      "операции с коммерческой недвижимостью\n",
      "операции с жильем\n",
      "операции с недвижимостью\n",
      "операции с недвижимостью\n",
      "операции с жильем\n",
      "операции со своей недвижимостью\n",
      "операции со своей недвижимостью\n",
      "операции со своей недвижимостью\n",
      "операции с жильем\n",
      "операции со своей недвижимостью\n",
      "операции с жильем\n",
      "операции с коммерческой недвижимостью\n",
      "операции с коммерческой недвижимостью\n",
      "операции с коммерческой недвижимостью\n",
      "операции с недвижимостью\n",
      "операции с коммерческой недвижимостью\n",
      "операции с коммерческой недвижимостью\n",
      "операции с коммерческой недвижимостью\n",
      "операции с коммерческой недвижимостью\n",
      "операции с жильем\n",
      "операции со своей недвижимостью\n",
      "операции с недвижимостью\n",
      "операции с жильем\n",
      "операции с недвижимостью\n",
      "операции со своей недвижимостью\n",
      "операции с недвижимостью\n",
      "операции с коммерческой недвижимостью\n",
      "операции с жильем\n",
      "операции с жильем\n",
      "операции с жильем\n",
      "операции со своей недвижимостью\n",
      "операции с жильем\n",
      "операции со своей недвижимостью\n",
      "операции со своей недвижимостью\n",
      "операции с недвижимостью\n",
      "операции с недвижимостью\n",
      "операции с коммерческой недвижимостью\n",
      "операции со своей недвижимостью\n",
      "операции с жильем\n",
      "операции с недвижимостью\n",
      "операции со своей недвижимостью\n",
      "операции с коммерческой недвижимостью\n",
      "операции с недвижимостью\n",
      "операции с жильем\n",
      "операции со своей недвижимостью\n",
      "операции с недвижимостью\n",
      "операции с недвижимостью\n",
      "операции со своей недвижимостью\n",
      "операции с жильем\n",
      "операции с жильем\n",
      "операции со своей недвижимостью\n",
      "операции со своей недвижимостью\n",
      "операции с недвижимостью\n",
      "операции с коммерческой недвижимостью\n",
      "операции со своей недвижимостью\n",
      "операции с недвижимостью\n",
      "операции со своей недвижимостью\n",
      "операции со своей недвижимостью\n",
      "операции с жильем\n",
      "операции с недвижимостью\n",
      "операции с жильем\n",
      "операции с жильем\n",
      "операции с недвижимостью\n",
      "операции с жильем\n",
      "операции со своей недвижимостью\n",
      "операции с коммерческой недвижимостью\n",
      "операции с недвижимостью\n",
      "операции с жильем\n",
      "операции с жильем\n",
      "операции с жильем\n",
      "операции с недвижимостью\n",
      "операции с коммерческой недвижимостью\n",
      "операции с жильем\n",
      "операции с коммерческой недвижимостью\n",
      "операции с коммерческой недвижимостью\n",
      "операции со своей недвижимостью\n",
      "операции с недвижимостью\n",
      "операции с недвижимостью\n",
      "операции с жильем\n",
      "операции с недвижимостью\n",
      "операции с жильем\n",
      "операции с недвижимостью\n",
      "операции со своей недвижимостью\n",
      "операции с жильем\n",
      "операции с недвижимостью\n",
      "операции со своей недвижимостью\n",
      "операции с жильем\n",
      "операции с коммерческой недвижимостью\n",
      "операции с недвижимостью\n",
      "операции с коммерческой недвижимостью\n",
      "операции с коммерческой недвижимостью\n",
      "операции со своей недвижимостью\n",
      "операции с недвижимостью\n",
      "операции со своей недвижимостью\n",
      "операции с коммерческой недвижимостью\n",
      "операции со своей недвижимостью\n",
      "операции с коммерческой недвижимостью\n",
      "операции со своей недвижимостью\n",
      "операции с жильем\n",
      "операции с недвижимостью\n",
      "операции со своей недвижимостью\n",
      "операции с недвижимостью\n",
      "операции с жильем\n",
      "операции со своей недвижимостью\n",
      "операции со своей недвижимостью\n",
      "операции с недвижимостью\n",
      "операции с жильем\n",
      "операции с недвижимостью\n",
      "операции с недвижимостью\n",
      "операции со своей недвижимостью\n",
      "операции с недвижимостью\n",
      "операции со своей недвижимостью\n",
      "операции с коммерческой недвижимостью\n",
      "операции со своей недвижимостью\n",
      "операции с коммерческой недвижимостью\n",
      "операции с недвижимостью\n",
      "операции со своей недвижимостью\n",
      "операции с недвижимостью\n",
      "операции со своей недвижимостью\n",
      "операции со своей недвижимостью\n",
      "операции с коммерческой недвижимостью\n",
      "операции с коммерческой недвижимостью\n",
      "операции со своей недвижимостью\n",
      "операции со своей недвижимостью\n",
      "операции с недвижимостью\n",
      "операции с коммерческой недвижимостью\n",
      "операции с недвижимостью\n",
      "операции с недвижимостью\n",
      "операции с жильем\n",
      "операции с недвижимостью\n",
      "операции с коммерческой недвижимостью\n",
      "операции с коммерческой недвижимостью\n",
      "операции со своей недвижимостью\n",
      "операции с коммерческой недвижимостью\n",
      "операции с недвижимостью\n",
      "операции со своей недвижимостью\n",
      "операции с недвижимостью\n",
      "операции с недвижимостью\n",
      "операции с коммерческой недвижимостью\n",
      "операции с коммерческой недвижимостью\n",
      "операции с недвижимостью\n",
      "операции с жильем\n",
      "операции с жильем\n",
      "операции с недвижимостью\n",
      "операции с жильем\n",
      "операции с недвижимостью\n",
      "операции с коммерческой недвижимостью\n",
      "операции с коммерческой недвижимостью\n",
      "операции со своей недвижимостью\n",
      "операции с коммерческой недвижимостью\n",
      "операции с коммерческой недвижимостью\n",
      "операции со своей недвижимостью\n",
      "операции с коммерческой недвижимостью\n",
      "операции с жильем\n",
      "операции с коммерческой недвижимостью\n",
      "операции с коммерческой недвижимостью\n",
      "операции с жильем\n",
      "операции с коммерческой недвижимостью\n",
      "операции с жильем\n",
      "операции с коммерческой недвижимостью\n",
      "операции с недвижимостью\n",
      "операции с недвижимостью\n",
      "операции с коммерческой недвижимостью\n",
      "операции со своей недвижимостью\n",
      "операции с жильем\n",
      "операции с недвижимостью\n",
      "операции с коммерческой недвижимостью\n",
      "операции со своей недвижимостью\n",
      "операции с недвижимостью\n",
      "операции с жильем\n",
      "операции с жильем\n",
      "операции с жильем\n",
      "операции с недвижимостью\n",
      "операции со своей недвижимостью\n",
      "операции с недвижимостью\n",
      "операции с жильем\n",
      "операции с жильем\n",
      "операции со своей недвижимостью\n",
      "операции с коммерческой недвижимостью\n",
      "операции с жильем\n",
      "операции с коммерческой недвижимостью\n",
      "операции с недвижимостью\n",
      "операции со своей недвижимостью\n",
      "операции с недвижимостью\n",
      "операции с недвижимостью\n",
      "операции с недвижимостью\n",
      "операции с жильем\n",
      "операции с жильем\n",
      "операции с коммерческой недвижимостью\n",
      "операции с недвижимостью\n",
      "операции с недвижимостью\n",
      "операции с жильем\n",
      "операции с коммерческой недвижимостью\n",
      "операции с жильем\n",
      "операции со своей недвижимостью\n",
      "операции со своей недвижимостью\n",
      "операции с недвижимостью\n",
      "операции с жильем\n",
      "операции с жильем\n",
      "операции со своей недвижимостью\n",
      "операции с жильем\n",
      "операции со своей недвижимостью\n",
      "операции со своей недвижимостью\n",
      "операции с коммерческой недвижимостью\n",
      "операции с недвижимостью\n",
      "операции с коммерческой недвижимостью\n",
      "операции со своей недвижимостью\n",
      "операции с жильем\n",
      "операции с жильем\n",
      "операции с недвижимостью\n",
      "операции с недвижимостью\n",
      "операции с коммерческой недвижимостью\n",
      "операции с жильем\n",
      "операции с жильем\n",
      "операции с жильем\n",
      "операции с недвижимостью\n",
      "операции с недвижимостью\n",
      "операции с жильем\n",
      "операции со своей недвижимостью\n",
      "операции с коммерческой недвижимостью\n",
      "операции с недвижимостью\n",
      "операции с недвижимостью\n",
      "операции с жильем\n",
      "операции с коммерческой недвижимостью\n",
      "операции со своей недвижимостью\n",
      "операции со своей недвижимостью\n",
      "операции с недвижимостью\n",
      "операции с недвижимостью\n",
      "операции с коммерческой недвижимостью\n",
      "операции с коммерческой недвижимостью\n",
      "операции с жильем\n",
      "операции с коммерческой недвижимостью\n",
      "операции с коммерческой недвижимостью\n",
      "операции с коммерческой недвижимостью\n",
      "операции со своей недвижимостью\n",
      "операции с недвижимостью\n",
      "операции с жильем\n",
      "операции с жильем\n",
      "операции с недвижимостью\n",
      "операции с жильем\n",
      "операции со своей недвижимостью\n",
      "операции с коммерческой недвижимостью\n",
      "операции с недвижимостью\n",
      "операции с коммерческой недвижимостью\n",
      "операции со своей недвижимостью\n",
      "операции со своей недвижимостью\n",
      "операции с коммерческой недвижимостью\n",
      "операции с недвижимостью\n",
      "операции с жильем\n",
      "операции с недвижимостью\n",
      "операции с недвижимостью\n",
      "операции с жильем\n",
      "операции с жильем\n",
      "операции с недвижимостью\n",
      "операции с жильем\n",
      "операции с недвижимостью\n",
      "операции с коммерческой недвижимостью\n",
      "операции с жильем\n",
      "операции с недвижимостью\n",
      "операции с недвижимостью\n",
      "операции с жильем\n",
      "операции со своей недвижимостью\n",
      "операции с недвижимостью\n",
      "операции со своей недвижимостью\n",
      "операции с коммерческой недвижимостью\n",
      "операции с недвижимостью\n",
      "операции с недвижимостью\n",
      "операции со своей недвижимостью\n",
      "операции с коммерческой недвижимостью\n",
      "операции с недвижимостью\n",
      "операции со своей недвижимостью\n",
      "операции со своей недвижимостью\n",
      "операции с коммерческой недвижимостью\n",
      "операции с коммерческой недвижимостью\n",
      "операции с жильем\n",
      "операции с жильем\n",
      "операции с коммерческой недвижимостью\n",
      "операции с недвижимостью\n",
      "операции с жильем\n",
      "операции со своей недвижимостью\n",
      "операции с коммерческой недвижимостью\n",
      "операции со своей недвижимостью\n",
      "операции с недвижимостью\n",
      "операции с коммерческой недвижимостью\n",
      "операции с жильем\n",
      "операции с недвижимостью\n",
      "операции с коммерческой недвижимостью\n",
      "операции с жильем\n",
      "операции с коммерческой недвижимостью\n",
      "операции со своей недвижимостью\n",
      "операции с коммерческой недвижимостью\n",
      "операции со своей недвижимостью\n",
      "операции с недвижимостью\n",
      "операции с жильем\n",
      "операции с жильем\n",
      "операции с коммерческой недвижимостью\n",
      "операции с жильем\n",
      "операции с коммерческой недвижимостью\n",
      "операции с недвижимостью\n",
      "операции с недвижимостью\n",
      "операции с недвижимостью\n",
      "операции с коммерческой недвижимостью\n",
      "операции с жильем\n",
      "операции с жильем\n",
      "операции со своей недвижимостью\n",
      "операции с жильем\n",
      "операции с коммерческой недвижимостью\n",
      "операции с коммерческой недвижимостью\n",
      "операции со своей недвижимостью\n",
      "операции с коммерческой недвижимостью\n",
      "операции с недвижимостью\n",
      "операции с коммерческой недвижимостью\n",
      "операции с жильем\n",
      "операции с недвижимостью\n",
      "операции с недвижимостью\n",
      "операции со своей недвижимостью\n",
      "операции с коммерческой недвижимостью\n",
      "операции с коммерческой недвижимостью\n",
      "операции с недвижимостью\n",
      "операции с жильем\n",
      "операции с коммерческой недвижимостью\n",
      "операции с жильем\n",
      "операции со своей недвижимостью\n",
      "операции с недвижимостью\n",
      "операции с недвижимостью\n",
      "операции с жильем\n",
      "операции с недвижимостью\n",
      "операции с жильем\n",
      "операции со своей недвижимостью\n",
      "операции со своей недвижимостью\n",
      "операции с коммерческой недвижимостью\n",
      "операции с недвижимостью\n",
      "операции с жильем\n",
      "операции с недвижимостью\n",
      "операции с коммерческой недвижимостью\n",
      "операции с недвижимостью\n",
      "операции с недвижимостью\n",
      "операции с коммерческой недвижимостью\n",
      "операции со своей недвижимостью\n",
      "операции с коммерческой недвижимостью\n",
      "операции с коммерческой недвижимостью\n",
      "операции со своей недвижимостью\n",
      "операции с жильем\n",
      "операции со своей недвижимостью\n",
      "операции со своей недвижимостью\n",
      "операции с коммерческой недвижимостью\n",
      "операции с жильем\n",
      "операции с коммерческой недвижимостью\n",
      "операции с коммерческой недвижимостью\n",
      "операции с недвижимостью\n",
      "операции с коммерческой недвижимостью\n",
      "операции с коммерческой недвижимостью\n",
      "операции с жильем\n",
      "операции с недвижимостью\n",
      "операции с жильем\n",
      "операции со своей недвижимостью\n",
      "операции с жильем\n",
      "операции с недвижимостью\n",
      "операции с недвижимостью\n",
      "операции с недвижимостью\n",
      "операции с недвижимостью\n",
      "операции с недвижимостью\n",
      "операции со своей недвижимостью\n",
      "операции со своей недвижимостью\n",
      "операции со своей недвижимостью\n",
      "операции со своей недвижимостью\n",
      "операции с жильем\n",
      "операции со своей недвижимостью\n",
      "операции с недвижимостью\n",
      "операции с недвижимостью\n",
      "операции со своей недвижимостью\n",
      "операции с недвижимостью\n",
      "операции с коммерческой недвижимостью\n",
      "операции с недвижимостью\n",
      "операции со своей недвижимостью\n",
      "операции с недвижимостью\n",
      "операции со своей недвижимостью\n",
      "операции со своей недвижимостью\n",
      "операции со своей недвижимостью\n",
      "операции с недвижимостью\n",
      "операции со своей недвижимостью\n",
      "операции с недвижимостью\n",
      "операции с коммерческой недвижимостью\n",
      "операции с коммерческой недвижимостью\n",
      "операции со своей недвижимостью\n",
      "операции с недвижимостью\n",
      "операции с коммерческой недвижимостью\n",
      "операции с жильем\n",
      "операции со своей недвижимостью\n",
      "операции с коммерческой недвижимостью\n",
      "операции со своей недвижимостью\n",
      "операции с жильем\n",
      "операции со своей недвижимостью\n",
      "операции с недвижимостью\n",
      "операции с жильем\n",
      "операции с коммерческой недвижимостью\n",
      "операции с недвижимостью\n",
      "операции с коммерческой недвижимостью\n",
      "операции с коммерческой недвижимостью\n",
      "операции с жильем\n",
      "операции с жильем\n",
      "операции с недвижимостью\n",
      "операции с недвижимостью\n",
      "операции с коммерческой недвижимостью\n",
      "операции с недвижимостью\n",
      "операции с коммерческой недвижимостью\n",
      "операции со своей недвижимостью\n",
      "операции с жильем\n",
      "операции с коммерческой недвижимостью\n",
      "операции с коммерческой недвижимостью\n",
      "операции с недвижимостью\n",
      "операции со своей недвижимостью\n",
      "операции с недвижимостью\n",
      "операции с коммерческой недвижимостью\n",
      "операции с недвижимостью\n",
      "операции с недвижимостью\n",
      "операции со своей недвижимостью\n",
      "операции с жильем\n",
      "операции с недвижимостью\n",
      "операции с коммерческой недвижимостью\n",
      "операции с недвижимостью\n",
      "операции с коммерческой недвижимостью\n",
      "операции с коммерческой недвижимостью\n",
      "операции с коммерческой недвижимостью\n",
      "операции с недвижимостью\n",
      "операции с недвижимостью\n",
      "операции с недвижимостью\n",
      "операции со своей недвижимостью\n",
      "операции с недвижимостью\n",
      "операции со своей недвижимостью\n",
      "операции со своей недвижимостью\n",
      "операции со своей недвижимостью\n",
      "операции с жильем\n",
      "операции с жильем\n",
      "операции с коммерческой недвижимостью\n",
      "операции со своей недвижимостью\n",
      "операции с коммерческой недвижимостью\n",
      "операции с недвижимостью\n",
      "операции со своей недвижимостью\n",
      "операции с недвижимостью\n",
      "операции с коммерческой недвижимостью\n",
      "операции со своей недвижимостью\n",
      "операции с недвижимостью\n",
      "операции с жильем\n",
      "операции с недвижимостью\n",
      "операции с жильем\n",
      "операции с жильем\n",
      "операции с недвижимостью\n",
      "операции с коммерческой недвижимостью\n",
      "операции с жильем\n",
      "операции с недвижимостью\n",
      "операции с недвижимостью\n",
      "операции со своей недвижимостью\n",
      "операции с коммерческой недвижимостью\n",
      "операции со своей недвижимостью\n",
      "операции с жильем\n",
      "операции с коммерческой недвижимостью\n",
      "операции с коммерческой недвижимостью\n",
      "операции с недвижимостью\n",
      "операции с жильем\n",
      "операции с жильем\n",
      "операции с жильем\n",
      "операции с коммерческой недвижимостью\n",
      "операции со своей недвижимостью\n",
      "операции с жильем\n",
      "операции с жильем\n",
      "операции со своей недвижимостью\n",
      "операции с недвижимостью\n",
      "операции с жильем\n",
      "операции с коммерческой недвижимостью\n",
      "операции с жильем\n",
      "операции с жильем\n",
      "операции с коммерческой недвижимостью\n",
      "операции с недвижимостью\n",
      "операции с жильем\n",
      "операции с жильем\n",
      "операции с недвижимостью\n",
      "операции с недвижимостью\n",
      "операции со своей недвижимостью\n",
      "операции с недвижимостью\n",
      "операции со своей недвижимостью\n",
      "операции со своей недвижимостью\n",
      "операции со своей недвижимостью\n",
      "операции с недвижимостью\n",
      "операции с коммерческой недвижимостью\n",
      "операции с недвижимостью\n",
      "операции со своей недвижимостью\n",
      "операции со своей недвижимостью\n",
      "операции с коммерческой недвижимостью\n",
      "операции с жильем\n",
      "операции со своей недвижимостью\n",
      "операции со своей недвижимостью\n",
      "операции с коммерческой недвижимостью\n",
      "операции с жильем\n",
      "операции с недвижимостью\n",
      "операции с жильем\n",
      "операции с коммерческой недвижимостью\n",
      "операции со своей недвижимостью\n",
      "операции с жильем\n",
      "операции с жильем\n",
      "операции с недвижимостью\n",
      "операции с жильем\n",
      "операции с жильем\n",
      "операции с недвижимостью\n",
      "операции с недвижимостью\n",
      "операции с жильем\n",
      "операции со своей недвижимостью\n",
      "операции со своей недвижимостью\n",
      "операции со своей недвижимостью\n",
      "операции с коммерческой недвижимостью\n",
      "операции с жильем\n",
      "операции с недвижимостью\n",
      "операции с коммерческой недвижимостью\n",
      "операции со своей недвижимостью\n",
      "операции с жильем\n",
      "операции с коммерческой недвижимостью\n",
      "операции с жильем\n",
      "операции с жильем\n",
      "операции с недвижимостью\n",
      "операции со своей недвижимостью\n",
      "операции с коммерческой недвижимостью\n",
      "операции с недвижимостью\n",
      "операции с недвижимостью\n",
      "операции с коммерческой недвижимостью\n",
      "операции со своей недвижимостью\n",
      "операции с коммерческой недвижимостью\n",
      "операции с недвижимостью\n",
      "операции с коммерческой недвижимостью\n",
      "операции с коммерческой недвижимостью\n",
      "операции со своей недвижимостью\n",
      "операции с коммерческой недвижимостью\n",
      "операции с коммерческой недвижимостью\n",
      "операции с недвижимостью\n",
      "операции с жильем\n",
      "операции с коммерческой недвижимостью\n",
      "операции с коммерческой недвижимостью\n",
      "операции с жильем\n",
      "операции с недвижимостью\n",
      "операции со своей недвижимостью\n",
      "операции со своей недвижимостью\n",
      "операции с коммерческой недвижимостью\n",
      "операции с коммерческой недвижимостью\n",
      "операции с коммерческой недвижимостью\n",
      "операции со своей недвижимостью\n",
      "операции с коммерческой недвижимостью\n",
      "операции с жильем\n",
      "операции с недвижимостью\n",
      "операции с коммерческой недвижимостью\n",
      "операции с жильем\n",
      "операции с недвижимостью\n",
      "операции с недвижимостью\n",
      "операции с коммерческой недвижимостью\n",
      "операции со своей недвижимостью\n",
      "операции с коммерческой недвижимостью\n",
      "операции с жильем\n",
      "операции со своей недвижимостью\n",
      "операции с недвижимостью\n",
      "операции с коммерческой недвижимостью\n",
      "операции с коммерческой недвижимостью\n",
      "операции с недвижимостью\n",
      "операции с коммерческой недвижимостью\n",
      "операции с недвижимостью\n",
      "операции с жильем\n",
      "операции с коммерческой недвижимостью\n",
      "операции со своей недвижимостью\n",
      "операции со своей недвижимостью\n",
      "операции с жильем\n",
      "операции со своей недвижимостью\n",
      "операции со своей недвижимостью\n",
      "операции с недвижимостью\n",
      "операции с жильем\n",
      "операции со своей недвижимостью\n",
      "операции с недвижимостью\n",
      "операции с недвижимостью\n",
      "операции со своей недвижимостью\n",
      "операции с недвижимостью\n",
      "операции с недвижимостью\n",
      "операции с недвижимостью\n",
      "операции с недвижимостью\n",
      "операции с недвижимостью\n",
      "операции с коммерческой недвижимостью\n",
      "операции со своей недвижимостью\n",
      "операции с коммерческой недвижимостью\n",
      "операции с недвижимостью\n",
      "операции со своей недвижимостью\n",
      "операции с жильем\n",
      "операции со своей недвижимостью\n",
      "операции с недвижимостью\n",
      "операции с коммерческой недвижимостью\n",
      "операции с жильем\n",
      "операции с недвижимостью\n",
      "операции с коммерческой недвижимостью\n",
      "операции с недвижимостью\n",
      "операции с жильем\n",
      "операции с коммерческой недвижимостью\n",
      "операции с недвижимостью\n",
      "операции с недвижимостью\n",
      "операции с недвижимостью\n",
      "операции со своей недвижимостью\n",
      "операции с недвижимостью\n",
      "операции со своей недвижимостью\n",
      "операции со своей недвижимостью\n",
      "операции со своей недвижимостью\n",
      "операции с недвижимостью\n",
      "операции с недвижимостью\n",
      "операции со своей недвижимостью\n",
      "операции с недвижимостью\n",
      "операции с недвижимостью\n",
      "операции со своей недвижимостью\n",
      "операции с коммерческой недвижимостью\n",
      "операции со своей недвижимостью\n",
      "операции со своей недвижимостью\n",
      "операции с коммерческой недвижимостью\n",
      "операции со своей недвижимостью\n",
      "операции с недвижимостью\n",
      "операции со своей недвижимостью\n",
      "операции с недвижимостью\n",
      "операции с жильем\n",
      "операции со своей недвижимостью\n",
      "операции с жильем\n",
      "операции со своей недвижимостью\n",
      "операции с коммерческой недвижимостью\n",
      "операции со своей недвижимостью\n",
      "операции с жильем\n",
      "операции с коммерческой недвижимостью\n",
      "операции со своей недвижимостью\n",
      "операции с коммерческой недвижимостью\n",
      "операции с коммерческой недвижимостью\n",
      "операции с недвижимостью\n",
      "операции со своей недвижимостью\n",
      "операции с недвижимостью\n",
      "операции со своей недвижимостью\n",
      "операции с жильем\n",
      "операции с жильем\n",
      "операции с недвижимостью\n",
      "операции с жильем\n",
      "операции с жильем\n",
      "операции с коммерческой недвижимостью\n",
      "операции с жильем\n",
      "операции с коммерческой недвижимостью\n",
      "операции с недвижимостью\n",
      "операции с недвижимостью\n",
      "операции со своей недвижимостью\n",
      "операции со своей недвижимостью\n",
      "операции с жильем\n",
      "операции с жильем\n",
      "операции с коммерческой недвижимостью\n",
      "операции с жильем\n",
      "операции с коммерческой недвижимостью\n",
      "операции с жильем\n",
      "операции со своей недвижимостью\n",
      "операции с коммерческой недвижимостью\n",
      "операции с жильем\n",
      "операции со своей недвижимостью\n",
      "операции со своей недвижимостью\n",
      "операции с недвижимостью\n",
      "операции с коммерческой недвижимостью\n",
      "операции с коммерческой недвижимостью\n",
      "операции с коммерческой недвижимостью\n",
      "операции со своей недвижимостью\n",
      "операции со своей недвижимостью\n",
      "операции с коммерческой недвижимостью\n",
      "операции с жильем\n",
      "операции с коммерческой недвижимостью\n",
      "операции с коммерческой недвижимостью\n",
      "операции с коммерческой недвижимостью\n",
      "операции с недвижимостью\n",
      "операции с недвижимостью\n",
      "операции со своей недвижимостью\n",
      "операции с коммерческой недвижимостью\n",
      "операции с жильем\n",
      "операции с жильем\n",
      "операции со своей недвижимостью\n",
      "операции с недвижимостью\n",
      "операции со своей недвижимостью\n",
      "операции с жильем\n",
      "операции с коммерческой недвижимостью\n",
      "операции с недвижимостью\n",
      "операции с жильем\n",
      "операции со своей недвижимостью\n",
      "операции со своей недвижимостью\n",
      "операции с недвижимостью\n",
      "операции со своей недвижимостью\n",
      "операции со своей недвижимостью\n",
      "операции со своей недвижимостью\n",
      "операции с недвижимостью\n",
      "операции с коммерческой недвижимостью\n",
      "операции с недвижимостью\n",
      "операции с недвижимостью\n",
      "операции с жильем\n",
      "операции со своей недвижимостью\n",
      "операции с недвижимостью\n",
      "операции с жильем\n",
      "операции с коммерческой недвижимостью\n",
      "операции с недвижимостью\n",
      "операции с жильем\n",
      "операции с жильем\n",
      "операции с коммерческой недвижимостью\n",
      "операции с недвижимостью\n",
      "операции с жильем\n",
      "операции с коммерческой недвижимостью\n",
      "операции с жильем\n",
      "операции с жильем\n",
      "операции со своей недвижимостью\n",
      "операции с недвижимостью\n",
      "операции с недвижимостью\n",
      "операции с недвижимостью\n",
      "операции со своей недвижимостью\n",
      "операции с недвижимостью\n",
      "операции с коммерческой недвижимостью\n",
      "операции со своей недвижимостью\n",
      "операции с недвижимостью\n",
      "операции с коммерческой недвижимостью\n",
      "операции с недвижимостью\n",
      "операции с недвижимостью\n",
      "операции с коммерческой недвижимостью\n",
      "операции с жильем\n",
      "операции с жильем\n",
      "операции с жильем\n",
      "операции со своей недвижимостью\n",
      "операции с коммерческой недвижимостью\n",
      "операции с коммерческой недвижимостью\n",
      "операции с недвижимостью\n",
      "операции со своей недвижимостью\n",
      "операции со своей недвижимостью\n",
      "операции с коммерческой недвижимостью\n",
      "операции с коммерческой недвижимостью\n",
      "операции с недвижимостью\n",
      "операции с жильем\n",
      "операции с недвижимостью\n",
      "операции со своей недвижимостью\n",
      "операции с жильем\n",
      "операции с коммерческой недвижимостью\n",
      "операции с коммерческой недвижимостью\n",
      "операции с недвижимостью\n",
      "операции со своей недвижимостью\n",
      "операции с недвижимостью\n",
      "операции с жильем\n",
      "операции со своей недвижимостью\n",
      "операции с жильем\n",
      "операции с недвижимостью\n",
      "операции с жильем\n",
      "операции со своей недвижимостью\n",
      "операции с жильем\n",
      "операции с жильем\n",
      "операции со своей недвижимостью\n",
      "операции с недвижимостью\n",
      "операции с коммерческой недвижимостью\n",
      "операции со своей недвижимостью\n",
      "операции с жильем\n",
      "операции с жильем\n",
      "операции со своей недвижимостью\n",
      "операции с недвижимостью\n",
      "операции с недвижимостью\n",
      "операции с жильем\n",
      "операции с коммерческой недвижимостью\n",
      "операции с недвижимостью\n",
      "операции с жильем\n",
      "операции с коммерческой недвижимостью\n",
      "операции с недвижимостью\n",
      "операции с недвижимостью\n",
      "операции с коммерческой недвижимостью\n",
      "операции с недвижимостью\n",
      "операции со своей недвижимостью\n",
      "операции с недвижимостью\n",
      "операции со своей недвижимостью\n",
      "операции с коммерческой недвижимостью\n",
      "операции со своей недвижимостью\n",
      "операции с недвижимостью\n",
      "операции с коммерческой недвижимостью\n",
      "операции с коммерческой недвижимостью\n",
      "операции с недвижимостью\n",
      "операции с жильем\n",
      "операции с недвижимостью\n",
      "операции со своей недвижимостью\n",
      "операции со своей недвижимостью\n",
      "операции с жильем\n",
      "операции со своей недвижимостью\n",
      "операции со своей недвижимостью\n",
      "операции с коммерческой недвижимостью\n",
      "операции с коммерческой недвижимостью\n",
      "операции с коммерческой недвижимостью\n",
      "операции со своей недвижимостью\n",
      "операции с недвижимостью\n",
      "операции с жильем\n",
      "операции с коммерческой недвижимостью\n",
      "операции со своей недвижимостью\n",
      "операции с жильем\n",
      "операции с жильем\n",
      "операции с недвижимостью\n",
      "операции с жильем\n",
      "операции с коммерческой недвижимостью\n",
      "операции с недвижимостью\n",
      "операции со своей недвижимостью\n",
      "операции с жильем\n",
      "операции со своей недвижимостью\n",
      "операции с коммерческой недвижимостью\n",
      "операции с жильем\n",
      "операции со своей недвижимостью\n",
      "операции с жильем\n",
      "операции со своей недвижимостью\n",
      "операции с коммерческой недвижимостью\n",
      "операции со своей недвижимостью\n",
      "операции с жильем\n",
      "операции с недвижимостью\n",
      "операции с жильем\n",
      "операции с жильем\n",
      "операции со своей недвижимостью\n",
      "операции с коммерческой недвижимостью\n",
      "операции с жильем\n",
      "операции с коммерческой недвижимостью\n",
      "операции с недвижимостью\n",
      "операции со своей недвижимостью\n",
      "операции с жильем\n",
      "операции с коммерческой недвижимостью\n",
      "операции со своей недвижимостью\n",
      "операции с недвижимостью\n",
      "операции с недвижимостью\n",
      "операции со своей недвижимостью\n",
      "операции с жильем\n",
      "операции со своей недвижимостью\n",
      "операции с коммерческой недвижимостью\n",
      "операции с жильем\n",
      "операции с жильем\n",
      "операции с коммерческой недвижимостью\n",
      "операции с недвижимостью\n",
      "операции со своей недвижимостью\n",
      "операции с коммерческой недвижимостью\n",
      "операции со своей недвижимостью\n",
      "операции с жильем\n",
      "операции с жильем\n",
      "операции с жильем\n",
      "операции с недвижимостью\n",
      "операции с жильем\n",
      "операции со своей недвижимостью\n",
      "операции с недвижимостью\n",
      "операции со своей недвижимостью\n",
      "операции с жильем\n",
      "операции со своей недвижимостью\n",
      "операции с жильем\n",
      "операции с коммерческой недвижимостью\n",
      "операции с жильем\n",
      "операции со своей недвижимостью\n",
      "операции с жильем\n",
      "операции с коммерческой недвижимостью\n",
      "операции с недвижимостью\n",
      "операции со своей недвижимостью\n",
      "операции с коммерческой недвижимостью\n",
      "операции со своей недвижимостью\n",
      "операции с коммерческой недвижимостью\n",
      "операции с коммерческой недвижимостью\n",
      "операции со своей недвижимостью\n",
      "операции с жильем\n",
      "операции с жильем\n",
      "операции со своей недвижимостью\n",
      "операции со своей недвижимостью\n",
      "операции с жильем\n",
      "операции с жильем\n",
      "операции с коммерческой недвижимостью\n",
      "операции со своей недвижимостью\n",
      "операции со своей недвижимостью\n",
      "операции с жильем\n",
      "операции с коммерческой недвижимостью\n",
      "операции с жильем\n",
      "операции с коммерческой недвижимостью\n",
      "операции с жильем\n",
      "операции со своей недвижимостью\n",
      "операции со своей недвижимостью\n",
      "операции с недвижимостью\n",
      "операции со своей недвижимостью\n",
      "операции с коммерческой недвижимостью\n",
      "операции со своей недвижимостью\n",
      "операции с недвижимостью\n",
      "операции со своей недвижимостью\n",
      "операции с коммерческой недвижимостью\n",
      "операции с коммерческой недвижимостью\n",
      "операции с недвижимостью\n",
      "операции с коммерческой недвижимостью\n",
      "операции с недвижимостью\n",
      "операции со своей недвижимостью\n",
      "операции с жильем\n",
      "операции с недвижимостью\n",
      "операции с недвижимостью\n",
      "операции со своей недвижимостью\n",
      "операции с недвижимостью\n",
      "операции со своей недвижимостью\n",
      "операции с коммерческой недвижимостью\n",
      "операции со своей недвижимостью\n",
      "операции с коммерческой недвижимостью\n",
      "операции со своей недвижимостью\n",
      "операции с недвижимостью\n",
      "операции с недвижимостью\n",
      "операции с недвижимостью\n",
      "операции с жильем\n",
      "операции с коммерческой недвижимостью\n",
      "операции с жильем\n",
      "операции с недвижимостью\n",
      "операции с недвижимостью\n",
      "операции с коммерческой недвижимостью\n",
      "операции со своей недвижимостью\n",
      "операции с коммерческой недвижимостью\n",
      "операции со своей недвижимостью\n",
      "операции с недвижимостью\n",
      "операции с коммерческой недвижимостью\n",
      "операции с жильем\n",
      "операции с жильем\n",
      "операции с коммерческой недвижимостью\n",
      "операции с жильем\n",
      "операции с коммерческой недвижимостью\n",
      "операции с недвижимостью\n",
      "операции с недвижимостью\n",
      "операции с жильем\n",
      "операции с недвижимостью\n",
      "операции с жильем\n",
      "операции с жильем\n",
      "операции с жильем\n",
      "операции с жильем\n",
      "операции с коммерческой недвижимостью\n",
      "операции с недвижимостью\n",
      "операции с коммерческой недвижимостью\n",
      "операции с недвижимостью\n",
      "операции с недвижимостью\n",
      "операции со своей недвижимостью\n",
      "операции с коммерческой недвижимостью\n",
      "операции с коммерческой недвижимостью\n",
      "операции с коммерческой недвижимостью\n",
      "операции со своей недвижимостью\n",
      "операции с жильем\n",
      "операции со своей недвижимостью\n",
      "операции с коммерческой недвижимостью\n",
      "операции с коммерческой недвижимостью\n",
      "операции с коммерческой недвижимостью\n",
      "операции с жильем\n",
      "операции с жильем\n",
      "операции с жильем\n",
      "операции с коммерческой недвижимостью\n",
      "операции с коммерческой недвижимостью\n",
      "операции со своей недвижимостью\n",
      "операции с жильем\n",
      "операции с коммерческой недвижимостью\n",
      "операции с жильем\n",
      "операции с коммерческой недвижимостью\n",
      "операции с коммерческой недвижимостью\n",
      "операции со своей недвижимостью\n",
      "операции с жильем\n",
      "операции с жильем\n",
      "операции с недвижимостью\n",
      "операции с недвижимостью\n",
      "операции со своей недвижимостью\n",
      "операции с недвижимостью\n",
      "операции со своей недвижимостью\n",
      "операции с жильем\n",
      "операции со своей недвижимостью\n",
      "операции со своей недвижимостью\n",
      "операции с недвижимостью\n",
      "операции с недвижимостью\n",
      "операции с коммерческой недвижимостью\n",
      "операции с недвижимостью\n",
      "операции с жильем\n",
      "операции со своей недвижимостью\n",
      "операции со своей недвижимостью\n",
      "операции с жильем\n",
      "операции с недвижимостью\n",
      "операции с коммерческой недвижимостью\n",
      "операции с жильем\n",
      "операции с недвижимостью\n",
      "операции с недвижимостью\n",
      "операции с коммерческой недвижимостью\n",
      "операции с жильем\n",
      "операции с недвижимостью\n",
      "операции с коммерческой недвижимостью\n",
      "операции с жильем\n",
      "операции с жильем\n",
      "операции с недвижимостью\n",
      "операции с коммерческой недвижимостью\n",
      "операции со своей недвижимостью\n",
      "операции с жильем\n",
      "операции со своей недвижимостью\n",
      "операции с жильем\n",
      "операции с коммерческой недвижимостью\n",
      "операции со своей недвижимостью\n",
      "операции с коммерческой недвижимостью\n",
      "операции с недвижимостью\n",
      "операции с жильем\n",
      "операции с недвижимостью\n",
      "операции со своей недвижимостью\n",
      "операции со своей недвижимостью\n",
      "операции с коммерческой недвижимостью\n",
      "операции со своей недвижимостью\n",
      "операции с жильем\n",
      "операции со своей недвижимостью\n",
      "операции со своей недвижимостью\n",
      "операции со своей недвижимостью\n",
      "операции с жильем\n",
      "операции со своей недвижимостью\n",
      "операции с коммерческой недвижимостью\n",
      "операции с жильем\n",
      "операции с жильем\n",
      "операции с недвижимостью\n",
      "операции с коммерческой недвижимостью\n",
      "операции с недвижимостью\n",
      "операции со своей недвижимостью\n",
      "операции со своей недвижимостью\n",
      "операции с коммерческой недвижимостью\n",
      "операции с недвижимостью\n",
      "операции со своей недвижимостью\n",
      "операции с жильем\n",
      "операции со своей недвижимостью\n",
      "операции с жильем\n",
      "операции с жильем\n",
      "операции с коммерческой недвижимостью\n",
      "операции с недвижимостью\n",
      "операции с коммерческой недвижимостью\n",
      "операции с коммерческой недвижимостью\n",
      "операции с недвижимостью\n",
      "операции с коммерческой недвижимостью\n",
      "операции с жильем\n",
      "операции со своей недвижимостью\n",
      "операции с жильем\n",
      "операции с недвижимостью\n",
      "операции с коммерческой недвижимостью\n",
      "операции с жильем\n",
      "операции с недвижимостью\n",
      "операции с недвижимостью\n",
      "операции с жильем\n",
      "операции с недвижимостью\n",
      "операции с недвижимостью\n",
      "операции с жильем\n",
      "операции с жильем\n",
      "операции с жильем\n",
      "операции с коммерческой недвижимостью\n",
      "операции со своей недвижимостью\n",
      "операции с коммерческой недвижимостью\n",
      "операции с жильем\n",
      "операции со своей недвижимостью\n",
      "операции с коммерческой недвижимостью\n",
      "операции со своей недвижимостью\n",
      "операции с недвижимостью\n",
      "операции с коммерческой недвижимостью\n",
      "операции с недвижимостью\n",
      "операции с жильем\n",
      "операции с коммерческой недвижимостью\n",
      "операции со своей недвижимостью\n",
      "операции со своей недвижимостью\n",
      "операции с коммерческой недвижимостью\n",
      "операции с недвижимостью\n",
      "операции с недвижимостью\n",
      "операции с недвижимостью\n",
      "операции с коммерческой недвижимостью\n",
      "операции со своей недвижимостью\n",
      "операции с недвижимостью\n",
      "операции с коммерческой недвижимостью\n",
      "операции со своей недвижимостью\n",
      "операции с жильем\n",
      "операции с коммерческой недвижимостью\n",
      "операции с жильем\n",
      "операции со своей недвижимостью\n",
      "операции с коммерческой недвижимостью\n",
      "операции с недвижимостью\n",
      "операции с недвижимостью\n",
      "операции с недвижимостью\n",
      "операции с жильем\n",
      "операции с недвижимостью\n",
      "операции с коммерческой недвижимостью\n",
      "операции с коммерческой недвижимостью\n",
      "операции с недвижимостью\n",
      "операции с коммерческой недвижимостью\n",
      "операции с коммерческой недвижимостью\n",
      "операции с недвижимостью\n",
      "операции с недвижимостью\n",
      "операции с жильем\n",
      "операции со своей недвижимостью\n",
      "операции с недвижимостью\n",
      "операции с коммерческой недвижимостью\n",
      "операции со своей недвижимостью\n",
      "операции со своей недвижимостью\n",
      "операции со своей недвижимостью\n",
      "операции с коммерческой недвижимостью\n",
      "операции со своей недвижимостью\n",
      "операции со своей недвижимостью\n",
      "операции с жильем\n",
      "операции со своей недвижимостью\n",
      "операции с недвижимостью\n",
      "операции с коммерческой недвижимостью\n",
      "операции с жильем\n",
      "операции со своей недвижимостью\n",
      "операции с жильем\n",
      "операции с коммерческой недвижимостью\n",
      "операции с коммерческой недвижимостью\n",
      "операции с жильем\n",
      "операции с недвижимостью\n",
      "операции со своей недвижимостью\n",
      "операции со своей недвижимостью\n",
      "операции со своей недвижимостью\n",
      "операции со своей недвижимостью\n",
      "операции с жильем\n",
      "операции с жильем\n",
      "операции со своей недвижимостью\n",
      "операции с недвижимостью\n",
      "операции с недвижимостью\n",
      "операции с недвижимостью\n",
      "операции с недвижимостью\n",
      "операции с недвижимостью\n",
      "операции с жильем\n",
      "операции с жильем\n",
      "операции с жильем\n",
      "операции со своей недвижимостью\n",
      "операции с недвижимостью\n",
      "операции с коммерческой недвижимостью\n",
      "операции с недвижимостью\n",
      "операции с недвижимостью\n",
      "операции с недвижимостью\n",
      "операции со своей недвижимостью\n",
      "операции с недвижимостью\n",
      "операции с недвижимостью\n",
      "операции со своей недвижимостью\n",
      "операции со своей недвижимостью\n",
      "операции с жильем\n",
      "операции со своей недвижимостью\n",
      "операции с коммерческой недвижимостью\n",
      "операции с жильем\n",
      "операции с жильем\n",
      "операции с коммерческой недвижимостью\n",
      "операции со своей недвижимостью\n",
      "операции с недвижимостью\n",
      "операции с недвижимостью\n",
      "операции с недвижимостью\n",
      "операции с жильем\n",
      "операции с недвижимостью\n",
      "операции с недвижимостью\n",
      "операции со своей недвижимостью\n",
      "операции с жильем\n",
      "операции с недвижимостью\n",
      "операции со своей недвижимостью\n",
      "операции с жильем\n",
      "операции со своей недвижимостью\n",
      "операции со своей недвижимостью\n",
      "операции с коммерческой недвижимостью\n",
      "операции с жильем\n",
      "операции со своей недвижимостью\n",
      "операции со своей недвижимостью\n",
      "операции со своей недвижимостью\n",
      "операции с коммерческой недвижимостью\n",
      "операции со своей недвижимостью\n",
      "операции с жильем\n",
      "операции с недвижимостью\n",
      "операции с коммерческой недвижимостью\n",
      "операции с коммерческой недвижимостью\n",
      "операции со своей недвижимостью\n",
      "операции с недвижимостью\n",
      "операции с коммерческой недвижимостью\n",
      "операции с недвижимостью\n",
      "операции со своей недвижимостью\n",
      "операции с жильем\n",
      "операции с жильем\n",
      "операции с недвижимостью\n",
      "операции со своей недвижимостью\n",
      "операции с жильем\n",
      "операции с недвижимостью\n",
      "операции со своей недвижимостью\n",
      "операции с недвижимостью\n",
      "операции со своей недвижимостью\n",
      "операции с жильем\n",
      "операции с жильем\n",
      "операции с недвижимостью\n",
      "операции со своей недвижимостью\n",
      "операции с недвижимостью\n",
      "операции со своей недвижимостью\n",
      "операции с жильем\n",
      "операции с коммерческой недвижимостью\n",
      "операции с жильем\n",
      "операции со своей недвижимостью\n",
      "операции с недвижимостью\n",
      "операции с коммерческой недвижимостью\n",
      "операции с жильем\n",
      "операции с коммерческой недвижимостью\n",
      "операции с коммерческой недвижимостью\n",
      "операции с коммерческой недвижимостью\n",
      "операции со своей недвижимостью\n",
      "операции с коммерческой недвижимостью\n",
      "операции с жильем\n",
      "операции со своей недвижимостью\n",
      "операции со своей недвижимостью\n",
      "операции с коммерческой недвижимостью\n",
      "операции со своей недвижимостью\n",
      "операции со своей недвижимостью\n",
      "операции со своей недвижимостью\n",
      "операции со своей недвижимостью\n",
      "операции с коммерческой недвижимостью\n",
      "операции с жильем\n",
      "операции с жильем\n",
      "операции с жильем\n",
      "операции с жильем\n",
      "операции с коммерческой недвижимостью\n",
      "операции со своей недвижимостью\n",
      "операции со своей недвижимостью\n",
      "операции со своей недвижимостью\n",
      "операции с жильем\n",
      "операции с жильем\n",
      "операции с коммерческой недвижимостью\n",
      "операции с недвижимостью\n",
      "операции с коммерческой недвижимостью\n",
      "операции с коммерческой недвижимостью\n",
      "операции с жильем\n",
      "операции с недвижимостью\n",
      "операции с недвижимостью\n",
      "операции со своей недвижимостью\n",
      "операции с коммерческой недвижимостью\n",
      "операции с недвижимостью\n",
      "операции с жильем\n",
      "операции с коммерческой недвижимостью\n",
      "операции с недвижимостью\n",
      "операции с коммерческой недвижимостью\n",
      "операции с жильем\n",
      "операции с недвижимостью\n",
      "операции со своей недвижимостью\n",
      "операции с коммерческой недвижимостью\n",
      "операции с коммерческой недвижимостью\n",
      "операции с коммерческой недвижимостью\n",
      "операции с коммерческой недвижимостью\n",
      "операции с жильем\n",
      "операции с недвижимостью\n",
      "операции с недвижимостью\n",
      "операции с жильем\n",
      "операции с недвижимостью\n",
      "операции со своей недвижимостью\n",
      "операции с недвижимостью\n",
      "операции со своей недвижимостью\n",
      "операции с жильем\n",
      "операции с жильем\n",
      "операции с недвижимостью\n",
      "операции с недвижимостью\n",
      "операции с жильем\n",
      "операции с жильем\n",
      "операции с жильем\n",
      "операции с недвижимостью\n",
      "операции с жильем\n",
      "операции с жильем\n",
      "операции с коммерческой недвижимостью\n",
      "операции с недвижимостью\n",
      "операции со своей недвижимостью\n",
      "операции со своей недвижимостью\n",
      "операции с коммерческой недвижимостью\n",
      "операции с коммерческой недвижимостью\n",
      "операции с недвижимостью\n",
      "операции со своей недвижимостью\n",
      "операции со своей недвижимостью\n",
      "операции со своей недвижимостью\n",
      "операции с коммерческой недвижимостью\n",
      "операции с жильем\n",
      "операции с коммерческой недвижимостью\n",
      "операции с коммерческой недвижимостью\n",
      "операции с коммерческой недвижимостью\n",
      "операции со своей недвижимостью\n",
      "операции с недвижимостью\n",
      "операции с жильем\n",
      "операции с недвижимостью\n",
      "операции с жильем\n",
      "операции с коммерческой недвижимостью\n",
      "операции с недвижимостью\n",
      "операции со своей недвижимостью\n",
      "операции с недвижимостью\n",
      "операции со своей недвижимостью\n",
      "операции с жильем\n",
      "операции со своей недвижимостью\n",
      "операции с недвижимостью\n",
      "операции со своей недвижимостью\n",
      "операции с коммерческой недвижимостью\n",
      "операции со своей недвижимостью\n",
      "операции с недвижимостью\n",
      "операции с жильем\n",
      "операции с коммерческой недвижимостью\n",
      "операции с жильем\n",
      "операции с жильем\n",
      "операции с коммерческой недвижимостью\n",
      "операции с недвижимостью\n",
      "операции с недвижимостью\n",
      "операции с недвижимостью\n",
      "операции с коммерческой недвижимостью\n",
      "операции со своей недвижимостью\n",
      "операции со своей недвижимостью\n",
      "операции с коммерческой недвижимостью\n",
      "операции с коммерческой недвижимостью\n",
      "операции со своей недвижимостью\n",
      "операции с жильем\n",
      "операции с коммерческой недвижимостью\n",
      "операции с коммерческой недвижимостью\n",
      "операции со своей недвижимостью\n",
      "операции со своей недвижимостью\n",
      "операции с коммерческой недвижимостью\n",
      "операции с коммерческой недвижимостью\n",
      "операции с коммерческой недвижимостью\n",
      "операции с коммерческой недвижимостью\n",
      "операции с недвижимостью\n",
      "операции с коммерческой недвижимостью\n",
      "операции с коммерческой недвижимостью\n",
      "операции с недвижимостью\n",
      "операции со своей недвижимостью\n",
      "операции с недвижимостью\n",
      "операции с жильем\n",
      "операции с коммерческой недвижимостью\n",
      "операции с коммерческой недвижимостью\n",
      "операции с коммерческой недвижимостью\n",
      "операции с жильем\n",
      "операции с коммерческой недвижимостью\n",
      "операции с недвижимостью\n",
      "операции с коммерческой недвижимостью\n",
      "операции со своей недвижимостью\n",
      "операции со своей недвижимостью\n",
      "операции с коммерческой недвижимостью\n",
      "операции со своей недвижимостью\n",
      "операции с коммерческой недвижимостью\n",
      "операции с жильем\n",
      "операции с жильем\n",
      "операции с коммерческой недвижимостью\n",
      "операции с недвижимостью\n",
      "операции с коммерческой недвижимостью\n",
      "операции со своей недвижимостью\n",
      "операции с недвижимостью\n",
      "операции с жильем\n",
      "операции с коммерческой недвижимостью\n",
      "операции с недвижимостью\n",
      "операции с недвижимостью\n",
      "операции с жильем\n",
      "операции с коммерческой недвижимостью\n",
      "операции с жильем\n",
      "операции со своей недвижимостью\n",
      "операции со своей недвижимостью\n",
      "операции с коммерческой недвижимостью\n",
      "операции с недвижимостью\n",
      "операции со своей недвижимостью\n",
      "операции с жильем\n",
      "операции со своей недвижимостью\n",
      "операции с недвижимостью\n",
      "операции со своей недвижимостью\n",
      "операции с жильем\n",
      "операции с коммерческой недвижимостью\n",
      "операции с жильем\n",
      "операции с жильем\n",
      "операции со своей недвижимостью\n",
      "операции со своей недвижимостью\n",
      "операции с коммерческой недвижимостью\n",
      "операции с коммерческой недвижимостью\n",
      "операции с жильем\n",
      "операции с недвижимостью\n",
      "операции с жильем\n",
      "операции с недвижимостью\n",
      "операции с жильем\n",
      "операции с жильем\n",
      "операции с коммерческой недвижимостью\n",
      "операции с коммерческой недвижимостью\n",
      "операции со своей недвижимостью\n",
      "операции с жильем\n",
      "операции с недвижимостью\n",
      "операции со своей недвижимостью\n",
      "операции с коммерческой недвижимостью\n",
      "операции со своей недвижимостью\n",
      "операции с жильем\n",
      "операции с коммерческой недвижимостью\n",
      "операции с коммерческой недвижимостью\n",
      "операции с коммерческой недвижимостью\n",
      "операции с коммерческой недвижимостью\n",
      "операции с недвижимостью\n",
      "операции со своей недвижимостью\n",
      "операции с жильем\n",
      "операции со своей недвижимостью\n",
      "операции с недвижимостью\n",
      "операции с жильем\n",
      "операции с жильем\n",
      "операции с жильем\n",
      "операции со своей недвижимостью\n",
      "операции с недвижимостью\n",
      "операции с недвижимостью\n",
      "операции с коммерческой недвижимостью\n",
      "операции с жильем\n",
      "операции с жильем\n",
      "операции с коммерческой недвижимостью\n",
      "операции с жильем\n",
      "операции со своей недвижимостью\n",
      "операции с коммерческой недвижимостью\n",
      "операции со своей недвижимостью\n",
      "операции со своей недвижимостью\n",
      "операции с недвижимостью\n",
      "операции с недвижимостью\n",
      "операции с жильем\n",
      "операции с недвижимостью\n",
      "операции с коммерческой недвижимостью\n",
      "операции с жильем\n",
      "операции с жильем\n",
      "операции со своей недвижимостью\n",
      "операции с недвижимостью\n",
      "операции с коммерческой недвижимостью\n",
      "операции с недвижимостью\n",
      "операции с недвижимостью\n",
      "операции с жильем\n",
      "операции с жильем\n",
      "операции со своей недвижимостью\n",
      "операции с недвижимостью\n",
      "операции со своей недвижимостью\n",
      "операции с недвижимостью\n",
      "операции с недвижимостью\n",
      "операции с недвижимостью\n",
      "операции с жильем\n",
      "операции с недвижимостью\n",
      "операции с недвижимостью\n",
      "операции с жильем\n",
      "операции с жильем\n",
      "операции со своей недвижимостью\n",
      "операции с недвижимостью\n",
      "операции с коммерческой недвижимостью\n",
      "операции с недвижимостью\n",
      "операции с жильем\n",
      "операции с недвижимостью\n",
      "операции с недвижимостью\n",
      "операции с коммерческой недвижимостью\n",
      "операции с жильем\n",
      "операции с коммерческой недвижимостью\n",
      "операции с коммерческой недвижимостью\n",
      "операции с коммерческой недвижимостью\n",
      "операции с недвижимостью\n",
      "операции со своей недвижимостью\n",
      "операции с жильем\n",
      "операции с недвижимостью\n",
      "операции со своей недвижимостью\n",
      "операции с жильем\n",
      "операции с коммерческой недвижимостью\n",
      "операции с недвижимостью\n",
      "операции со своей недвижимостью\n",
      "операции с жильем\n",
      "операции со своей недвижимостью\n",
      "операции с жильем\n",
      "операции с недвижимостью\n",
      "операции с жильем\n",
      "операции со своей недвижимостью\n",
      "операции с коммерческой недвижимостью\n",
      "операции со своей недвижимостью\n",
      "операции с жильем\n",
      "операции со своей недвижимостью\n",
      "операции с жильем\n",
      "операции с коммерческой недвижимостью\n",
      "операции с недвижимостью\n",
      "операции с недвижимостью\n",
      "операции с коммерческой недвижимостью\n",
      "операции с недвижимостью\n",
      "операции со своей недвижимостью\n",
      "операции со своей недвижимостью\n",
      "операции со своей недвижимостью\n",
      "операции с коммерческой недвижимостью\n",
      "операции с жильем\n",
      "операции с жильем\n",
      "операции с жильем\n",
      "операции с недвижимостью\n",
      "операции с коммерческой недвижимостью\n",
      "операции с жильем\n",
      "операции с коммерческой недвижимостью\n",
      "операции с коммерческой недвижимостью\n",
      "операции со своей недвижимостью\n",
      "операции с недвижимостью\n",
      "операции с недвижимостью\n",
      "операции с коммерческой недвижимостью\n",
      "операции с недвижимостью\n",
      "операции с жильем\n",
      "операции со своей недвижимостью\n",
      "операции со своей недвижимостью\n",
      "операции с коммерческой недвижимостью\n",
      "операции со своей недвижимостью\n",
      "операции с коммерческой недвижимостью\n",
      "операции с жильем\n",
      "операции с жильем\n",
      "операции с недвижимостью\n",
      "операции с коммерческой недвижимостью\n",
      "операции со своей недвижимостью\n",
      "операции с коммерческой недвижимостью\n",
      "операции со своей недвижимостью\n",
      "операции с жильем\n",
      "операции с жильем\n",
      "операции с недвижимостью\n",
      "операции с коммерческой недвижимостью\n",
      "операции с недвижимостью\n",
      "операции со своей недвижимостью\n",
      "операции с жильем\n",
      "операции с коммерческой недвижимостью\n",
      "операции с коммерческой недвижимостью\n",
      "операции со своей недвижимостью\n",
      "операции с жильем\n",
      "операции с недвижимостью\n",
      "операции с недвижимостью\n",
      "операции с жильем\n",
      "операции с коммерческой недвижимостью\n",
      "операции с коммерческой недвижимостью\n",
      "операции с коммерческой недвижимостью\n",
      "операции с коммерческой недвижимостью\n",
      "операции с жильем\n",
      "операции со своей недвижимостью\n",
      "операции со своей недвижимостью\n",
      "операции со своей недвижимостью\n",
      "операции со своей недвижимостью\n",
      "операции с жильем\n",
      "операции с коммерческой недвижимостью\n",
      "операции с жильем\n",
      "операции с коммерческой недвижимостью\n",
      "операции с недвижимостью\n",
      "операции с недвижимостью\n",
      "операции с жильем\n",
      "операции с жильем\n",
      "операции со своей недвижимостью\n",
      "операции с недвижимостью\n",
      "операции с недвижимостью\n",
      "операции с жильем\n",
      "операции со своей недвижимостью\n",
      "операции с жильем\n",
      "операции с жильем\n",
      "операции с недвижимостью\n",
      "операции со своей недвижимостью\n",
      "операции со своей недвижимостью\n",
      "операции с коммерческой недвижимостью\n",
      "операции с жильем\n",
      "операции с коммерческой недвижимостью\n",
      "операции с жильем\n",
      "операции с коммерческой недвижимостью\n",
      "операции со своей недвижимостью\n",
      "операции с коммерческой недвижимостью\n",
      "операции с коммерческой недвижимостью\n",
      "операции с жильем\n",
      "операции с коммерческой недвижимостью\n",
      "операции с коммерческой недвижимостью\n",
      "операции с коммерческой недвижимостью\n",
      "операции с недвижимостью\n",
      "операции с недвижимостью\n",
      "операции с недвижимостью\n",
      "операции с жильем\n",
      "операции с недвижимостью\n",
      "операции с жильем\n",
      "операции со своей недвижимостью\n",
      "операции с жильем\n",
      "операции с жильем\n",
      "операции со своей недвижимостью\n",
      "операции с недвижимостью\n",
      "операции с жильем\n",
      "операции со своей недвижимостью\n",
      "операции с жильем\n",
      "операции со своей недвижимостью\n",
      "операции с недвижимостью\n",
      "операции с коммерческой недвижимостью\n",
      "операции с недвижимостью\n",
      "операции с коммерческой недвижимостью\n",
      "операции с недвижимостью\n",
      "операции со своей недвижимостью\n",
      "операции со своей недвижимостью\n",
      "операции с коммерческой недвижимостью\n",
      "операции с жильем\n",
      "операции с коммерческой недвижимостью\n",
      "операции с коммерческой недвижимостью\n",
      "операции со своей недвижимостью\n",
      "операции с недвижимостью\n",
      "операции с недвижимостью\n",
      "операции с недвижимостью\n",
      "операции с жильем\n",
      "операции с недвижимостью\n",
      "операции с коммерческой недвижимостью\n",
      "операции с жильем\n",
      "операции с жильем\n",
      "операции с коммерческой недвижимостью\n",
      "операции с жильем\n",
      "операции со своей недвижимостью\n",
      "операции с жильем\n",
      "операции со своей недвижимостью\n",
      "операции с жильем\n",
      "операции с недвижимостью\n",
      "операции с жильем\n",
      "операции с коммерческой недвижимостью\n",
      "операции с жильем\n",
      "операции с коммерческой недвижимостью\n",
      "операции с недвижимостью\n",
      "операции с коммерческой недвижимостью\n",
      "операции с недвижимостью\n",
      "операции с коммерческой недвижимостью\n",
      "операции с жильем\n",
      "операции с недвижимостью\n",
      "операции с жильем\n",
      "операции с жильем\n",
      "операции с жильем\n",
      "операции со своей недвижимостью\n",
      "операции с недвижимостью\n",
      "операции с недвижимостью\n",
      "операции с недвижимостью\n",
      "операции с жильем\n",
      "операции со своей недвижимостью\n",
      "операции с недвижимостью\n",
      "операции со своей недвижимостью\n",
      "операции с недвижимостью\n",
      "операции с коммерческой недвижимостью\n",
      "операции с коммерческой недвижимостью\n",
      "операции с коммерческой недвижимостью\n",
      "операции с недвижимостью\n",
      "операции с жильем\n",
      "операции со своей недвижимостью\n",
      "операции с недвижимостью\n",
      "операции с недвижимостью\n",
      "операции с недвижимостью\n",
      "операции с жильем\n",
      "операции с коммерческой недвижимостью\n",
      "операции с недвижимостью\n",
      "операции с жильем\n",
      "операции с недвижимостью\n",
      "операции с недвижимостью\n",
      "операции с жильем\n",
      "операции с коммерческой недвижимостью\n",
      "операции с жильем\n",
      "операции с жильем\n",
      "операции с коммерческой недвижимостью\n",
      "операции с коммерческой недвижимостью\n",
      "операции с жильем\n",
      "операции с жильем\n",
      "операции с жильем\n",
      "операции с коммерческой недвижимостью\n",
      "операции с коммерческой недвижимостью\n",
      "операции с коммерческой недвижимостью\n",
      "операции с недвижимостью\n",
      "операции с недвижимостью\n",
      "операции со своей недвижимостью\n",
      "операции с жильем\n",
      "операции с недвижимостью\n",
      "операции с коммерческой недвижимостью\n",
      "операции с жильем\n",
      "операции со своей недвижимостью\n",
      "операции с жильем\n",
      "операции с коммерческой недвижимостью\n",
      "операции с жильем\n",
      "операции с жильем\n",
      "операции с жильем\n",
      "операции с жильем\n",
      "операции с жильем\n",
      "операции с коммерческой недвижимостью\n",
      "операции с недвижимостью\n",
      "операции со своей недвижимостью\n",
      "операции с недвижимостью\n",
      "операции с недвижимостью\n",
      "операции с недвижимостью\n",
      "операции с жильем\n",
      "операции со своей недвижимостью\n",
      "операции с коммерческой недвижимостью\n",
      "операции с недвижимостью\n",
      "операции с недвижимостью\n",
      "операции со своей недвижимостью\n",
      "операции с недвижимостью\n",
      "операции с жильем\n",
      "операции с жильем\n",
      "операции с жильем\n",
      "операции с жильем\n",
      "операции с недвижимостью\n",
      "операции с жильем\n",
      "операции с жильем\n",
      "операции с жильем\n",
      "операции с жильем\n",
      "операции с недвижимостью\n",
      "операции с жильем\n",
      "операции с недвижимостью\n",
      "операции со своей недвижимостью\n",
      "операции со своей недвижимостью\n",
      "операции с недвижимостью\n",
      "операции с недвижимостью\n",
      "операции с коммерческой недвижимостью\n",
      "операции со своей недвижимостью\n",
      "операции с недвижимостью\n",
      "операции с недвижимостью\n",
      "операции с жильем\n",
      "операции со своей недвижимостью\n",
      "операции с коммерческой недвижимостью\n",
      "операции со своей недвижимостью\n",
      "операции с коммерческой недвижимостью\n",
      "операции с коммерческой недвижимостью\n",
      "операции с жильем\n",
      "операции со своей недвижимостью\n",
      "операции с недвижимостью\n",
      "операции с жильем\n",
      "операции с жильем\n",
      "операции с коммерческой недвижимостью\n",
      "операции с недвижимостью\n",
      "операции с коммерческой недвижимостью\n",
      "операции со своей недвижимостью\n",
      "операции с недвижимостью\n",
      "операции с недвижимостью\n",
      "операции с коммерческой недвижимостью\n",
      "операции с коммерческой недвижимостью\n",
      "операции с недвижимостью\n",
      "операции с коммерческой недвижимостью\n",
      "операции с жильем\n",
      "операции с жильем\n",
      "операции с коммерческой недвижимостью\n",
      "операции с коммерческой недвижимостью\n",
      "операции со своей недвижимостью\n",
      "операции со своей недвижимостью\n",
      "операции с жильем\n",
      "операции со своей недвижимостью\n",
      "операции с жильем\n",
      "операции со своей недвижимостью\n",
      "операции с жильем\n",
      "операции с жильем\n",
      "операции с жильем\n",
      "операции со своей недвижимостью\n",
      "операции со своей недвижимостью\n",
      "операции с коммерческой недвижимостью\n",
      "операции с жильем\n",
      "операции с коммерческой недвижимостью\n",
      "операции с жильем\n",
      "операции с коммерческой недвижимостью\n",
      "операции с недвижимостью\n",
      "операции с недвижимостью\n",
      "операции с недвижимостью\n",
      "операции с коммерческой недвижимостью\n",
      "операции со своей недвижимостью\n",
      "операции с жильем\n",
      "операции с коммерческой недвижимостью\n",
      "операции с жильем\n",
      "операции с недвижимостью\n",
      "операции с коммерческой недвижимостью\n",
      "операции с жильем\n",
      "операции с жильем\n",
      "операции с жильем\n",
      "операции с жильем\n",
      "операции со своей недвижимостью\n",
      "операции со своей недвижимостью\n",
      "операции со своей недвижимостью\n",
      "операции с жильем\n",
      "операции с недвижимостью\n",
      "операции с недвижимостью\n",
      "операции с жильем\n",
      "операции с недвижимостью\n",
      "операции с коммерческой недвижимостью\n",
      "операции с коммерческой недвижимостью\n",
      "операции с жильем\n",
      "операции со своей недвижимостью\n",
      "операции с недвижимостью\n",
      "операции с жильем\n",
      "операции со своей недвижимостью\n",
      "операции с коммерческой недвижимостью\n",
      "операции с недвижимостью\n",
      "операции с недвижимостью\n",
      "операции с жильем\n",
      "операции с жильем\n",
      "операции с жильем\n",
      "операции с недвижимостью\n",
      "операции с коммерческой недвижимостью\n",
      "операции с недвижимостью\n",
      "операции с коммерческой недвижимостью\n",
      "операции с недвижимостью\n",
      "операции с недвижимостью\n",
      "операции с жильем\n",
      "операции с недвижимостью\n",
      "операции с коммерческой недвижимостью\n",
      "операции с коммерческой недвижимостью\n",
      "операции с недвижимостью\n",
      "операции с жильем\n",
      "операции с коммерческой недвижимостью\n",
      "операции с недвижимостью\n",
      "операции с коммерческой недвижимостью\n",
      "операции с коммерческой недвижимостью\n",
      "операции с недвижимостью\n",
      "операции с коммерческой недвижимостью\n",
      "операции со своей недвижимостью\n",
      "операции с недвижимостью\n",
      "операции с жильем\n",
      "операции с коммерческой недвижимостью\n",
      "операции с недвижимостью\n",
      "операции с недвижимостью\n",
      "операции с недвижимостью\n",
      "операции с недвижимостью\n",
      "операции со своей недвижимостью\n",
      "операции со своей недвижимостью\n",
      "операции с коммерческой недвижимостью\n",
      "операции со своей недвижимостью\n",
      "операции с недвижимостью\n",
      "операции со своей недвижимостью\n",
      "операции с жильем\n",
      "операции с недвижимостью\n",
      "операции с жильем\n",
      "операции с жильем\n",
      "операции со своей недвижимостью\n",
      "операции с недвижимостью\n",
      "операции со своей недвижимостью\n",
      "операции со своей недвижимостью\n",
      "операции с коммерческой недвижимостью\n",
      "операции с жильем\n",
      "операции со своей недвижимостью\n",
      "операции с коммерческой недвижимостью\n",
      "операции с жильем\n",
      "операции с жильем\n",
      "операции с коммерческой недвижимостью\n",
      "операции с недвижимостью\n",
      "операции с недвижимостью\n",
      "операции с недвижимостью\n",
      "операции с недвижимостью\n",
      "операции с жильем\n",
      "операции со своей недвижимостью\n",
      "операции с жильем\n",
      "операции с коммерческой недвижимостью\n",
      "операции со своей недвижимостью\n",
      "операции с недвижимостью\n",
      "операции с коммерческой недвижимостью\n",
      "операции с коммерческой недвижимостью\n",
      "операции со своей недвижимостью\n",
      "операции с недвижимостью\n",
      "операции со своей недвижимостью\n",
      "операции с недвижимостью\n",
      "операции со своей недвижимостью\n",
      "операции с недвижимостью\n",
      "операции с коммерческой недвижимостью\n",
      "операции со своей недвижимостью\n",
      "операции с недвижимостью\n",
      "операции с жильем\n",
      "операции с коммерческой недвижимостью\n",
      "операции со своей недвижимостью\n",
      "операции со своей недвижимостью\n",
      "операции с коммерческой недвижимостью\n",
      "операции с недвижимостью\n",
      "операции с коммерческой недвижимостью\n",
      "операции с жильем\n",
      "операции с недвижимостью\n",
      "операции с жильем\n",
      "операции с коммерческой недвижимостью\n",
      "операции с коммерческой недвижимостью\n",
      "операции с коммерческой недвижимостью\n",
      "операции со своей недвижимостью\n",
      "операции с коммерческой недвижимостью\n",
      "операции с недвижимостью\n",
      "операции с жильем\n",
      "операции с жильем\n",
      "операции с коммерческой недвижимостью\n",
      "операции со своей недвижимостью\n",
      "операции с коммерческой недвижимостью\n",
      "операции с недвижимостью\n",
      "операции с недвижимостью\n",
      "операции с жильем\n",
      "операции с недвижимостью\n",
      "операции с недвижимостью\n",
      "операции с коммерческой недвижимостью\n",
      "операции со своей недвижимостью\n",
      "операции с жильем\n",
      "операции с жильем\n",
      "операции с коммерческой недвижимостью\n",
      "операции с коммерческой недвижимостью\n",
      "операции со своей недвижимостью\n",
      "операции с недвижимостью\n",
      "операции с недвижимостью\n",
      "операции с коммерческой недвижимостью\n",
      "операции с жильем\n",
      "операции с коммерческой недвижимостью\n",
      "операции с недвижимостью\n",
      "операции со своей недвижимостью\n",
      "операции с коммерческой недвижимостью\n",
      "операции со своей недвижимостью\n",
      "операции с коммерческой недвижимостью\n",
      "операции со своей недвижимостью\n",
      "операции с коммерческой недвижимостью\n",
      "операции с коммерческой недвижимостью\n",
      "операции с коммерческой недвижимостью\n",
      "операции со своей недвижимостью\n",
      "операции с жильем\n",
      "операции с недвижимостью\n",
      "операции с коммерческой недвижимостью\n",
      "операции с коммерческой недвижимостью\n",
      "операции с недвижимостью\n",
      "операции с жильем\n",
      "операции со своей недвижимостью\n",
      "операции с жильем\n",
      "операции с недвижимостью\n",
      "операции со своей недвижимостью\n",
      "операции с коммерческой недвижимостью\n",
      "операции с недвижимостью\n",
      "операции с коммерческой недвижимостью\n",
      "операции со своей недвижимостью\n",
      "операции с недвижимостью\n",
      "операции со своей недвижимостью\n",
      "операции с жильем\n",
      "операции с коммерческой недвижимостью\n",
      "операции с коммерческой недвижимостью\n",
      "операции со своей недвижимостью\n",
      "операции с недвижимостью\n",
      "операции с жильем\n",
      "операции с недвижимостью\n",
      "операции со своей недвижимостью\n",
      "операции с жильем\n",
      "операции с недвижимостью\n",
      "операции с недвижимостью\n",
      "операции с жильем\n",
      "операции со своей недвижимостью\n",
      "операции с коммерческой недвижимостью\n",
      "операции с недвижимостью\n",
      "операции с жильем\n",
      "операции с коммерческой недвижимостью\n",
      "операции с жильем\n",
      "операции со своей недвижимостью\n",
      "операции с недвижимостью\n",
      "операции с жильем\n",
      "операции с коммерческой недвижимостью\n",
      "операции со своей недвижимостью\n",
      "операции с коммерческой недвижимостью\n",
      "операции с жильем\n",
      "операции с коммерческой недвижимостью\n",
      "операции со своей недвижимостью\n",
      "операции с жильем\n",
      "операции с жильем\n",
      "операции с коммерческой недвижимостью\n",
      "операции с жильем\n",
      "операции со своей недвижимостью\n",
      "операции со своей недвижимостью\n",
      "операции с жильем\n",
      "операции с жильем\n",
      "операции с коммерческой недвижимостью\n",
      "операции с коммерческой недвижимостью\n",
      "операции с жильем\n",
      "операции с коммерческой недвижимостью\n",
      "операции со своей недвижимостью\n",
      "операции с недвижимостью\n",
      "операции с коммерческой недвижимостью\n",
      "операции с коммерческой недвижимостью\n",
      "операции с недвижимостью\n",
      "операции с жильем\n"
     ]
    }
   ],
   "source": [
    "for i in range(len(df)):\n",
    "    if 'операция' in (m.lemmatize(df.loc[i,'purpose'])): print(df.loc[i,'purpose']) "
   ]
  },
  {
   "cell_type": "markdown",
   "metadata": {},
   "source": [
    "Оставляем 'операция' в группе с недвижимостью."
   ]
  },
  {
   "cell_type": "markdown",
   "metadata": {},
   "source": [
    "**Вывод**"
   ]
  },
  {
   "cell_type": "markdown",
   "metadata": {},
   "source": [
    "Провели лемматизацию целей кредита.  \n",
    "Цели кредита хорошо группируются на 4:\n",
    "* 'недвижимость', 'жилье', 'строительство', 'жилой', 'операция', 'ремонт'\n",
    "* 'автомобиль'\n",
    "* 'образование', 'профильный'\n",
    "* 'свадьба', 'сыграть'\n"
   ]
  },
  {
   "cell_type": "markdown",
   "metadata": {},
   "source": [
    "### Категоризация данных"
   ]
  },
  {
   "cell_type": "code",
   "execution_count": 28,
   "metadata": {},
   "outputs": [
    {
     "name": "stdout",
     "output_type": "stream",
     "text": [
      "<class 'pandas.core.frame.DataFrame'>\n",
      "RangeIndex: 21454 entries, 0 to 21453\n",
      "Data columns (total 13 columns):\n",
      "children            21454 non-null int64\n",
      "days_employed       21454 non-null int64\n",
      "dob_years           21454 non-null int64\n",
      "education           21454 non-null object\n",
      "education_id        21454 non-null int64\n",
      "family_status       21454 non-null object\n",
      "family_status_id    21454 non-null int64\n",
      "gender              21454 non-null object\n",
      "income_type         21454 non-null object\n",
      "debt                21454 non-null int64\n",
      "total_income        21454 non-null int64\n",
      "purpose             21454 non-null object\n",
      "purpose_id          21454 non-null int64\n",
      "dtypes: int64(8), object(5)\n",
      "memory usage: 2.1+ MB\n",
      "\n",
      "1    10811\n",
      "2     4306\n",
      "3     4013\n",
      "4     2324\n",
      "Name: purpose_id, dtype: int64\n"
     ]
    }
   ],
   "source": [
    "# Функция возвращает к какой категории относится цель получения кредита\n",
    "# 1 'недвижимость', 2 'автомобиль', 3 'образование’, 4 'свадьба' «-1» 'не найден'.\n",
    "\n",
    "def purpose_lem (purpose):\n",
    "    temp_lem = m.lemmatize(purpose) # Пишем во временную переменную, чтобы не вычислять каждый раз значение\n",
    "    if 'недвижимость' in temp_lem: return 1\n",
    "    elif 'жилье' in temp_lem: return 1\n",
    "    elif 'строительство' in temp_lem: return 1\n",
    "    elif 'жилой' in temp_lem: return 1\n",
    "    elif 'операция' in temp_lem: return 1\n",
    "    elif 'ремонт' in temp_lem: return 1\n",
    "    elif 'автомобиль' in temp_lem: return 2\n",
    "    elif 'образование' in temp_lem: return 3\n",
    "    elif 'профильный' in temp_lem: return 3\n",
    "    elif 'свадьба' in temp_lem: return 4\n",
    "    elif 'сыграть' in temp_lem: return 4\n",
    "    else: return -1\n",
    "\n",
    "# Добавляем колонку 'purpose_id' с категорией получения кредита.    \n",
    "\n",
    "df['purpose_id'] = df['purpose'].apply(purpose_lem)\n",
    "\n",
    "# Проверяем что получилось\n",
    "df.info()\n",
    "print ()\n",
    "# Проверяем, нет ли значений «-1»\n",
    "print (df['purpose_id'].value_counts())\n",
    "# Все значения найдены"
   ]
  },
  {
   "cell_type": "markdown",
   "metadata": {},
   "source": [
    " Категоризация дохода"
   ]
  },
  {
   "cell_type": "code",
   "execution_count": 29,
   "metadata": {},
   "outputs": [
    {
     "data": {
      "text/html": [
       "<div>\n",
       "<style scoped>\n",
       "    .dataframe tbody tr th:only-of-type {\n",
       "        vertical-align: middle;\n",
       "    }\n",
       "\n",
       "    .dataframe tbody tr th {\n",
       "        vertical-align: top;\n",
       "    }\n",
       "\n",
       "    .dataframe thead th {\n",
       "        text-align: right;\n",
       "    }\n",
       "</style>\n",
       "<table border=\"1\" class=\"dataframe\">\n",
       "  <thead>\n",
       "    <tr style=\"text-align: right;\">\n",
       "      <th></th>\n",
       "      <th>purpose_id</th>\n",
       "      <th>Цель кредита</th>\n",
       "    </tr>\n",
       "  </thead>\n",
       "  <tbody>\n",
       "    <tr>\n",
       "      <td>0</td>\n",
       "      <td>1</td>\n",
       "      <td>недвижимость</td>\n",
       "    </tr>\n",
       "    <tr>\n",
       "      <td>1</td>\n",
       "      <td>2</td>\n",
       "      <td>автомобиль</td>\n",
       "    </tr>\n",
       "    <tr>\n",
       "      <td>2</td>\n",
       "      <td>3</td>\n",
       "      <td>образование</td>\n",
       "    </tr>\n",
       "    <tr>\n",
       "      <td>3</td>\n",
       "      <td>4</td>\n",
       "      <td>свадьба</td>\n",
       "    </tr>\n",
       "  </tbody>\n",
       "</table>\n",
       "</div>"
      ],
      "text/plain": [
       "   purpose_id  Цель кредита\n",
       "0           1  недвижимость\n",
       "1           2    автомобиль\n",
       "2           3   образование\n",
       "3           4       свадьба"
      ]
     },
     "execution_count": 29,
     "metadata": {},
     "output_type": "execute_result"
    }
   ],
   "source": [
    "purpose_list = [[1, 'недвижимость'], [2, 'автомобиль'], [3, 'образование'], [4, 'свадьба']] # создаем список с ключами\n",
    "df_purpose_list =  pd.DataFrame(purpose_list, columns=['purpose_id', 'Цель кредита']) # преобразуем список в датафрейм\n",
    "df_purpose_list     # проверяем что получилось       "
   ]
  },
  {
   "cell_type": "markdown",
   "metadata": {},
   "source": [
    "Словари:\n",
    "- purpose\tpurpose_id\n",
    "- family_status\tfamily_status_id\n",
    "- education\teducation_id\n",
    "- df_purpose_list"
   ]
  },
  {
   "cell_type": "markdown",
   "metadata": {},
   "source": [
    "## Шаг 3. Проверка гипотез"
   ]
  },
  {
   "cell_type": "markdown",
   "metadata": {},
   "source": [
    "### Есть ли зависимость между наличием детей и возвратом кредита в срок?"
   ]
  },
  {
   "cell_type": "code",
   "execution_count": 30,
   "metadata": {},
   "outputs": [
    {
     "name": "stdout",
     "output_type": "stream",
     "text": [
      "Данные в абсолютных значениях\n"
     ]
    },
    {
     "data": {
      "text/html": [
       "<div>\n",
       "<style scoped>\n",
       "    .dataframe tbody tr th:only-of-type {\n",
       "        vertical-align: middle;\n",
       "    }\n",
       "\n",
       "    .dataframe tbody tr th {\n",
       "        vertical-align: top;\n",
       "    }\n",
       "\n",
       "    .dataframe thead th {\n",
       "        text-align: right;\n",
       "    }\n",
       "</style>\n",
       "<table border=\"1\" class=\"dataframe\">\n",
       "  <thead>\n",
       "    <tr style=\"text-align: right;\">\n",
       "      <th></th>\n",
       "      <th>Нет детей</th>\n",
       "      <th>Есть дети</th>\n",
       "    </tr>\n",
       "  </thead>\n",
       "  <tbody>\n",
       "    <tr>\n",
       "      <td>Задолженности нет</td>\n",
       "      <td>13074</td>\n",
       "      <td>6639</td>\n",
       "    </tr>\n",
       "    <tr>\n",
       "      <td>Задолженность есть</td>\n",
       "      <td>1064</td>\n",
       "      <td>677</td>\n",
       "    </tr>\n",
       "  </tbody>\n",
       "</table>\n",
       "</div>"
      ],
      "text/plain": [
       "                    Нет детей  Есть дети\n",
       "Задолженности нет       13074       6639\n",
       "Задолженность есть       1064        677"
      ]
     },
     "metadata": {},
     "output_type": "display_data"
    },
    {
     "name": "stdout",
     "output_type": "stream",
     "text": [
      "Расчет доли\n"
     ]
    },
    {
     "data": {
      "text/html": [
       "<div>\n",
       "<style scoped>\n",
       "    .dataframe tbody tr th:only-of-type {\n",
       "        vertical-align: middle;\n",
       "    }\n",
       "\n",
       "    .dataframe tbody tr th {\n",
       "        vertical-align: top;\n",
       "    }\n",
       "\n",
       "    .dataframe thead th {\n",
       "        text-align: right;\n",
       "    }\n",
       "</style>\n",
       "<table border=\"1\" class=\"dataframe\">\n",
       "  <thead>\n",
       "    <tr style=\"text-align: right;\">\n",
       "      <th></th>\n",
       "      <th>Нет детей</th>\n",
       "      <th>Есть дети</th>\n",
       "    </tr>\n",
       "  </thead>\n",
       "  <tbody>\n",
       "    <tr>\n",
       "      <td>Задолженности нет</td>\n",
       "      <td>0.924742</td>\n",
       "      <td>0.907463</td>\n",
       "    </tr>\n",
       "    <tr>\n",
       "      <td>Задолженность есть</td>\n",
       "      <td>0.075258</td>\n",
       "      <td>0.092537</td>\n",
       "    </tr>\n",
       "  </tbody>\n",
       "</table>\n",
       "</div>"
      ],
      "text/plain": [
       "                    Нет детей  Есть дети\n",
       "Задолженности нет    0.924742   0.907463\n",
       "Задолженность есть   0.075258   0.092537"
      ]
     },
     "metadata": {},
     "output_type": "display_data"
    }
   ],
   "source": [
    "df_children = df.pivot_table(index='debt', columns='children', values='total_income', aggfunc='count') # сделали сводную таблицу по должникам и детям\n",
    "df_children = df_children.fillna(0) # обнулили NaN\n",
    "df_children = df_children.astype(int) # меняем тип значений на int\n",
    "df_children[1] = df_children.sum(axis=1) - df_children[0] # в столбец «1» пишем общее количество с детьми.\n",
    "df_children = df_children.drop([2,3,4,5,20], 1) # удаляем все столбцы кроме 0 и 1\n",
    "df_children.set_axis(['Нет детей','Есть дети'],axis = 1,inplace = True) # меняем подписи к столбцам\n",
    "df_children.set_axis(['Задолженности нет','Задолженность есть'],axis = 0,inplace = True) # меняем подписи к строкам\n",
    "print ('Данные в абсолютных значениях')\n",
    "display (df_children)\n",
    "print ('Расчет доли')\n",
    "df_children['Нет детей'] = df_children['Нет детей']/(df_children['Нет детей'].sum())  # Переводим абсолютные значения в расчет доли\n",
    "df_children['Есть дети'] = df_children['Есть дети']/(df_children['Есть дети'].sum())  # Переводим абсолютные значения в расчет доли\n",
    "display (df_children)\n",
    "children_0 = (df_children['Нет детей'][0])/(df_children['Нет детей'].sum()) # Вероятность возврата кредита в срок при отсутствии детей\n",
    "children_1 = (df_children['Есть дети'][0])/(df_children['Есть дети'].sum()) # Вероятность возврата кредита в срок при наличии детей\n",
    "\n"
   ]
  },
  {
   "cell_type": "markdown",
   "metadata": {},
   "source": [
    "**Вывод**"
   ]
  },
  {
   "cell_type": "code",
   "execution_count": 31,
   "metadata": {},
   "outputs": [
    {
     "name": "stdout",
     "output_type": "stream",
     "text": [
      "Вероятность возврата кредита в срок при отсутствии детей составляет 92.47%\n",
      "Вероятность возврата кредита в срок при наличии детей составляет 90.75%\n",
      "Вывод: отсутствие детей повышает вероятность возврата кредита в срок на 1.73%\n"
     ]
    }
   ],
   "source": [
    "print (f'Вероятность возврата кредита в срок при отсутствии детей составляет {children_0:.2%}')\n",
    "print (f'Вероятность возврата кредита в срок при наличии детей составляет {children_1:.2%}')\n",
    "print (f'Вывод: отсутствие детей повышает вероятность возврата кредита в срок на {(children_0 - children_1):.2%}')"
   ]
  },
  {
   "cell_type": "markdown",
   "metadata": {},
   "source": [
    "###  Есть ли зависимость между семейным положением и возвратом кредита в срок?"
   ]
  },
  {
   "cell_type": "code",
   "execution_count": 32,
   "metadata": {},
   "outputs": [
    {
     "data": {
      "text/html": [
       "<div>\n",
       "<style scoped>\n",
       "    .dataframe tbody tr th:only-of-type {\n",
       "        vertical-align: middle;\n",
       "    }\n",
       "\n",
       "    .dataframe tbody tr th {\n",
       "        vertical-align: top;\n",
       "    }\n",
       "\n",
       "    .dataframe thead th {\n",
       "        text-align: right;\n",
       "    }\n",
       "</style>\n",
       "<table border=\"1\" class=\"dataframe\">\n",
       "  <thead>\n",
       "    <tr style=\"text-align: right;\">\n",
       "      <th></th>\n",
       "      <th>Вероятность задолженности</th>\n",
       "    </tr>\n",
       "    <tr>\n",
       "      <th>family_status</th>\n",
       "      <th></th>\n",
       "    </tr>\n",
       "  </thead>\n",
       "  <tbody>\n",
       "    <tr>\n",
       "      <td>Не женат / не замужем</td>\n",
       "      <td>0.097509</td>\n",
       "    </tr>\n",
       "    <tr>\n",
       "      <td>гражданский брак</td>\n",
       "      <td>0.093471</td>\n",
       "    </tr>\n",
       "    <tr>\n",
       "      <td>женат / замужем</td>\n",
       "      <td>0.075452</td>\n",
       "    </tr>\n",
       "    <tr>\n",
       "      <td>в разводе</td>\n",
       "      <td>0.071130</td>\n",
       "    </tr>\n",
       "    <tr>\n",
       "      <td>вдовец / вдова</td>\n",
       "      <td>0.065693</td>\n",
       "    </tr>\n",
       "  </tbody>\n",
       "</table>\n",
       "</div>"
      ],
      "text/plain": [
       "                       Вероятность задолженности\n",
       "family_status                                   \n",
       "Не женат / не замужем                   0.097509\n",
       "гражданский брак                        0.093471\n",
       "женат / замужем                         0.075452\n",
       "в разводе                               0.071130\n",
       "вдовец / вдова                          0.065693"
      ]
     },
     "execution_count": 32,
     "metadata": {},
     "output_type": "execute_result"
    }
   ],
   "source": [
    "df_family_status = df.groupby('family_status').agg({'debt': ['count', 'sum']}) # Для каждого семейного статуса нашли общее количество заемщиков, и количество должников.\n",
    "df_family_status['percentage_of_debtors'] = df_family_status['debt']['sum']/df_family_status['debt']['count'] # Нашли процент должников\n",
    "df_family_status = df_family_status.sort_values('percentage_of_debtors', ascending=False) # Упорядочили по должникам\n",
    "df_family_status = df_family_status.drop(['debt'], 1) # Убрали технические столбцы\n",
    "df_family_status.set_axis(['Вероятность задолженности'],axis = 1,inplace = True) # меняем подписи к столбцам\n",
    "df_family_status # Выводим результат. Но как поменять название «family_status» и вывести данные в процентах, я так и не смог разобраться.\n"
   ]
  },
  {
   "cell_type": "markdown",
   "metadata": {},
   "source": [
    "**Вывод**"
   ]
  },
  {
   "cell_type": "markdown",
   "metadata": {},
   "source": [
    "Да, зависимость между семейным положением и возвратом кредита в срок есть. Максимальное различие составляет 2.21%. Развернутые данные в таблице выше."
   ]
  },
  {
   "cell_type": "markdown",
   "metadata": {},
   "source": [
    "- Есть ли зависимость между уровнем дохода и возвратом кредита в срок?"
   ]
  },
  {
   "cell_type": "markdown",
   "metadata": {},
   "source": [
    "Чтобы оценить зависимость, нужно разбить уровень доходов на группы, после чего их сравнить."
   ]
  },
  {
   "cell_type": "markdown",
   "metadata": {},
   "source": [
    "\n",
    "\n",
    "Проводим графическую оценку данных"
   ]
  },
  {
   "cell_type": "code",
   "execution_count": 33,
   "metadata": {},
   "outputs": [
    {
     "data": {
      "image/png": "[encoded data removed]",
      "text/plain": [
       "<Figure size 432x288 with 1 Axes>"
      ]
     },
     "metadata": {
      "needs_background": "light"
     },
     "output_type": "display_data"
    }
   ],
   "source": [
    "h = df['total_income'].hist(bins = 100)\n",
    "fig = h.get_figure()"
   ]
  },
  {
   "cell_type": "markdown",
   "metadata": {},
   "source": [
    "Внешне распределение выглядят ровным."
   ]
  },
  {
   "cell_type": "markdown",
   "metadata": {},
   "source": [
    "Проводим стандартную оценку данных"
   ]
  },
  {
   "cell_type": "code",
   "execution_count": 34,
   "metadata": {},
   "outputs": [
    {
     "name": "stdout",
     "output_type": "stream",
     "text": [
      "Максимальное значение 2265604\n",
      "Минимальное значение 20667\n",
      "Медианное значение 143707.5\n",
      "Среднее значение 165453.02372517946\n",
      "Количество значений 21454\n"
     ]
    }
   ],
   "source": [
    "print ('Максимальное значение', df['total_income'].max())\n",
    "print ('Минимальное значение', df['total_income'].min())\n",
    "print ('Медианное значение', df['total_income'].median())\n",
    "print ('Среднее значение', df['total_income'].mean())\n",
    "print ('Количество значений', df['total_income'].count())\n"
   ]
  },
  {
   "cell_type": "markdown",
   "metadata": {},
   "source": [
    "\n",
    "\n",
    "Принимаем решение разбить данные на 4 группы: низкие (меньше 10% по количеству); ниже среднего (от 10 % до медианы); выше среднего (от медианы до 90%); высокие (выше 90 %).\n",
    "    \n",
    "Получаем значения для разделения диапазонов:"
   ]
  },
  {
   "cell_type": "code",
   "execution_count": 35,
   "metadata": {},
   "outputs": [
    {
     "name": "stdout",
     "output_type": "stream",
     "text": [
      "Уровень дохода разделяющий низкий уровень и уровень ниже среднего 78716\n",
      "Уровень дохода разделяющий высокий уровень и уровень выше среднего 269784\n"
     ]
    }
   ],
   "source": [
    "df = df.sort_values('total_income') # сортируем по доходу\n",
    "df = df.reset_index(drop=True) # сбрасываем индекс\n",
    "total_income_index_min = df['total_income'].count()//10 # находим индекс записи, стоящей на месте 10% от всех записей с начала\n",
    "total_income_index_max = total_income_index_min*9 # находим индекс записи, стоящей на месте 90% от всех записей с начала\n",
    "total_income_min = df.loc[total_income_index_min,'total_income']# получаем значения для разделения диапазонов\n",
    "total_income_max = df.loc[total_income_index_max,'total_income']# получаем значения для разделения диапазонов\n",
    "total_income_median = df['total_income'].median()# получаем значения для разделения диапазонов\n",
    "print ('Уровень дохода разделяющий низкий уровень и уровень ниже среднего', total_income_min)\n",
    "print ('Уровень дохода разделяющий высокий уровень и уровень выше среднего', total_income_max)\n"
   ]
  },
  {
   "cell_type": "code",
   "execution_count": 36,
   "metadata": {},
   "outputs": [
    {
     "name": "stdout",
     "output_type": "stream",
     "text": [
      "<class 'pandas.core.frame.DataFrame'>\n",
      "RangeIndex: 21454 entries, 0 to 21453\n",
      "Data columns (total 14 columns):\n",
      "children               21454 non-null int64\n",
      "days_employed          21454 non-null int64\n",
      "dob_years              21454 non-null int64\n",
      "education              21454 non-null object\n",
      "education_id           21454 non-null int64\n",
      "family_status          21454 non-null object\n",
      "family_status_id       21454 non-null int64\n",
      "gender                 21454 non-null object\n",
      "income_type            21454 non-null object\n",
      "debt                   21454 non-null int64\n",
      "total_income           21454 non-null int64\n",
      "purpose                21454 non-null object\n",
      "purpose_id             21454 non-null int64\n",
      "total_income_status    21454 non-null object\n",
      "dtypes: int64(8), object(6)\n",
      "memory usage: 2.3+ MB\n",
      "\n",
      "ниже среднего    8582\n",
      "выше среднего    8578\n",
      "высокие          2149\n",
      "низкие           2145\n",
      "Name: total_income_status, dtype: int64\n"
     ]
    }
   ],
   "source": [
    "# Функция возвращает к какой категории относится доход\n",
    "# 1 низкие (меньше 10% по количеству), 2 ниже среднего (от 10 % до медианы), 3 выше среднего (от медианы до 90%), 4 высокие (выше 90 %) «-1» 'не найден'.\n",
    "\n",
    "def total_income_status (total_income):\n",
    "    if total_income_min > total_income: return 'низкие'\n",
    "    elif total_income_median > total_income: return 'ниже среднего'\n",
    "    elif total_income_max > total_income: return 'выше среднего'\n",
    "    elif total_income_max <= total_income: return 'высокие'\n",
    "    else: return -1\n",
    "\n",
    "# Добавляем колонку 'total_income_status' с категорией получения кредита.    \n",
    "\n",
    "df['total_income_status'] = df['total_income'].apply(total_income_status)\n",
    "\n",
    "    \n",
    "# Проверяем что получилось\n",
    "df.info()\n",
    "print ()\n",
    "# Проверяем, нет ли значений «-1»\n",
    "print (df['total_income_status'].value_counts())\n",
    "# Все значения найдены"
   ]
  },
  {
   "cell_type": "code",
   "execution_count": 37,
   "metadata": {},
   "outputs": [
    {
     "data": {
      "text/html": [
       "<div>\n",
       "<style scoped>\n",
       "    .dataframe tbody tr th:only-of-type {\n",
       "        vertical-align: middle;\n",
       "    }\n",
       "\n",
       "    .dataframe tbody tr th {\n",
       "        vertical-align: top;\n",
       "    }\n",
       "\n",
       "    .dataframe thead th {\n",
       "        text-align: right;\n",
       "    }\n",
       "</style>\n",
       "<table border=\"1\" class=\"dataframe\">\n",
       "  <thead>\n",
       "    <tr style=\"text-align: right;\">\n",
       "      <th></th>\n",
       "      <th>Вероятность задолженности</th>\n",
       "    </tr>\n",
       "    <tr>\n",
       "      <th>total_income_status</th>\n",
       "      <th></th>\n",
       "    </tr>\n",
       "  </thead>\n",
       "  <tbody>\n",
       "    <tr>\n",
       "      <td>ниже среднего</td>\n",
       "      <td>0.087975</td>\n",
       "    </tr>\n",
       "    <tr>\n",
       "      <td>выше среднего</td>\n",
       "      <td>0.079039</td>\n",
       "    </tr>\n",
       "    <tr>\n",
       "      <td>низкие</td>\n",
       "      <td>0.073193</td>\n",
       "    </tr>\n",
       "    <tr>\n",
       "      <td>высокие</td>\n",
       "      <td>0.070265</td>\n",
       "    </tr>\n",
       "  </tbody>\n",
       "</table>\n",
       "</div>"
      ],
      "text/plain": [
       "                     Вероятность задолженности\n",
       "total_income_status                           \n",
       "ниже среднего                         0.087975\n",
       "выше среднего                         0.079039\n",
       "низкие                                0.073193\n",
       "высокие                               0.070265"
      ]
     },
     "execution_count": 37,
     "metadata": {},
     "output_type": "execute_result"
    }
   ],
   "source": [
    "df_total_income_status = df.groupby('total_income_status').agg({'debt': ['count', 'sum']}) # Для каждого уровня дохода нашли общее количество заемщиков, и количество должников.\n",
    "df_total_income_status['percentage_of_debtors'] = df_total_income_status['debt']['sum']/df_total_income_status['debt']['count'] # Нашли процент должников\n",
    "df_total_income_status = df_total_income_status.sort_values('percentage_of_debtors', ascending=False) # Упорядочили по должникам\n",
    "df_total_income_status = df_total_income_status.drop(['debt'], 1) # Убрали технические столбцы\n",
    "df_total_income_status.set_axis(['Вероятность задолженности'],axis = 1,inplace = True) # меняем подписи к столбцам\n",
    "df_total_income_status # Выводим результат."
   ]
  },
  {
   "cell_type": "markdown",
   "metadata": {},
   "source": [
    "**Вывод**"
   ]
  },
  {
   "cell_type": "markdown",
   "metadata": {},
   "source": [
    "Да, зависимость между уровнем дохода и возвратом кредита в срок есть, но не линейная. Максимальное различие составляет 1.77%. Развернутые данные в таблице выше."
   ]
  },
  {
   "cell_type": "markdown",
   "metadata": {},
   "source": [
    "###  Как разные цели кредита влияют на его возврат в срок?"
   ]
  },
  {
   "cell_type": "code",
   "execution_count": 38,
   "metadata": {},
   "outputs": [
    {
     "name": "stderr",
     "output_type": "stream",
     "text": [
      "/opt/conda/lib/python3.7/site-packages/pandas/core/reshape/merge.py:617: UserWarning: merging between different levels can give an unintended result (2 levels on the left, 1 on the right)\n",
      "  warnings.warn(msg, UserWarning)\n"
     ]
    },
    {
     "data": {
      "text/html": [
       "<div>\n",
       "<style scoped>\n",
       "    .dataframe tbody tr th:only-of-type {\n",
       "        vertical-align: middle;\n",
       "    }\n",
       "\n",
       "    .dataframe tbody tr th {\n",
       "        vertical-align: top;\n",
       "    }\n",
       "\n",
       "    .dataframe thead th {\n",
       "        text-align: right;\n",
       "    }\n",
       "</style>\n",
       "<table border=\"1\" class=\"dataframe\">\n",
       "  <thead>\n",
       "    <tr style=\"text-align: right;\">\n",
       "      <th></th>\n",
       "      <th>Вероятность задолженности</th>\n",
       "      <th>Цель кредита</th>\n",
       "    </tr>\n",
       "  </thead>\n",
       "  <tbody>\n",
       "    <tr>\n",
       "      <td>0</td>\n",
       "      <td>0.093590</td>\n",
       "      <td>автомобиль</td>\n",
       "    </tr>\n",
       "    <tr>\n",
       "      <td>1</td>\n",
       "      <td>0.092200</td>\n",
       "      <td>образование</td>\n",
       "    </tr>\n",
       "    <tr>\n",
       "      <td>2</td>\n",
       "      <td>0.080034</td>\n",
       "      <td>свадьба</td>\n",
       "    </tr>\n",
       "    <tr>\n",
       "      <td>3</td>\n",
       "      <td>0.072334</td>\n",
       "      <td>недвижимость</td>\n",
       "    </tr>\n",
       "  </tbody>\n",
       "</table>\n",
       "</div>"
      ],
      "text/plain": [
       "   Вероятность задолженности  Цель кредита\n",
       "0                   0.093590    автомобиль\n",
       "1                   0.092200   образование\n",
       "2                   0.080034       свадьба\n",
       "3                   0.072334  недвижимость"
      ]
     },
     "execution_count": 38,
     "metadata": {},
     "output_type": "execute_result"
    }
   ],
   "source": [
    "df_purpose_status = df.groupby('purpose_id').agg({'debt': ['count', 'sum']}) # Для каждой цели кредита нашли общее количество заемщиков, и количество должников.\n",
    "df_purpose_status['percentage_of_debtors'] = df_purpose_status['debt']['sum']/df_purpose_status['debt']['count'] # Нашли процент должников\n",
    "df_purpose_status = df_purpose_status.sort_values('percentage_of_debtors', ascending=False) # Упорядочили по должникам\n",
    "df_purpose_status = df_purpose_status.drop(['debt'], 1) # Убрали технические столбцы\n",
    "df_purpose_status = df_purpose_status.merge(df_purpose_list, on='purpose_id', how='left') # объединили с датафреймом хранящем названия ключей\n",
    "df_purpose_status = df_purpose_status.drop(['purpose_id'], 1) # Убрали технические столбцы\n",
    "df_purpose_status.set_axis(['Вероятность задолженности','Цель кредита'],axis = 1,inplace = True) # меняем подписи к столбцам\n",
    "df_purpose_status # Выводим результат."
   ]
  },
  {
   "cell_type": "markdown",
   "metadata": {},
   "source": [
    "**Вывод**"
   ]
  },
  {
   "cell_type": "markdown",
   "metadata": {},
   "source": [
    "Да, зависимость между целями кредита и возвратом кредита в срок есть. Максимальное различие составляет 1.77%. Развернутые данные в таблице выше."
   ]
  },
  {
   "cell_type": "markdown",
   "metadata": {},
   "source": [
    "## Шаг 4. Общий вывод"
   ]
  },
  {
   "cell_type": "markdown",
   "metadata": {},
   "source": [
    "Проведя данное исследование, мы пришли к выводу, что все 4 фактора виляют на возврат кредита в срок. Наибольшее значение (2.21%) оказывает семейное положение, наименьшее (1.73%) оказывает факт наличия детей. Зависимость между уровнем дохода и возвратом кредита в срок оказалась не линейна. Рекомендую провести дополнительное исследование уточнив какие категории по доходу должны сравниваться. Возможно стоит разделить группы по территориальному признаку, тогда выборка по уровню дохода будет более релевантна.\n",
    "\n",
    "В итоге у нас получилось, что худший заёмщик:\n",
    "- это человек с детьми\n",
    "- не женатый/замужний\n",
    "- с доходом ниже среднего\n",
    "- берущий в кредит автомобиль\n",
    "\n",
    "Лучший же заемщик это:\n",
    "- это человек без детей\n",
    "- вдовец / вдова\t\n",
    "- с высоким доходом\n",
    "- берущий кредит на недвижимость"
   ]
  }
 ],
 "metadata": {
  "ExecuteTimeLog": [
   {
    "duration": 564,
    "start_time": "2021-12-27T07:04:55.233Z"
   },
   {
    "duration": 58,
    "start_time": "2021-12-27T07:09:11.345Z"
   },
   {
    "duration": 61,
    "start_time": "2021-12-27T07:14:22.576Z"
   },
   {
    "duration": 326,
    "start_time": "2021-12-27T07:54:10.048Z"
   },
   {
    "duration": 81,
    "start_time": "2021-12-27T07:54:20.578Z"
   },
   {
    "duration": 286,
    "start_time": "2021-12-27T08:07:30.902Z"
   },
   {
    "duration": 65,
    "start_time": "2021-12-27T08:09:54.509Z"
   },
   {
    "duration": 61,
    "start_time": "2021-12-27T08:11:05.636Z"
   },
   {
    "duration": 77,
    "start_time": "2021-12-27T08:11:53.008Z"
   },
   {
    "duration": 19,
    "start_time": "2021-12-27T08:15:23.946Z"
   },
   {
    "duration": 10,
    "start_time": "2021-12-27T08:15:50.178Z"
   },
   {
    "duration": 44,
    "start_time": "2021-12-27T08:18:29.294Z"
   },
   {
    "duration": 134,
    "start_time": "2021-12-27T08:18:37.194Z"
   },
   {
    "duration": 10,
    "start_time": "2021-12-27T08:18:48.339Z"
   },
   {
    "duration": 9,
    "start_time": "2021-12-27T08:19:28.501Z"
   },
   {
    "duration": 6,
    "start_time": "2021-12-27T08:19:54.040Z"
   },
   {
    "duration": 145,
    "start_time": "2021-12-27T08:29:19.138Z"
   },
   {
    "duration": 9,
    "start_time": "2021-12-27T08:29:41.891Z"
   },
   {
    "duration": 140,
    "start_time": "2021-12-27T08:30:32.064Z"
   },
   {
    "duration": 7,
    "start_time": "2021-12-27T08:30:39.228Z"
   },
   {
    "duration": 5,
    "start_time": "2021-12-27T08:30:54.782Z"
   },
   {
    "duration": 6,
    "start_time": "2021-12-27T08:31:00.735Z"
   },
   {
    "duration": 7,
    "start_time": "2021-12-27T08:32:25.115Z"
   },
   {
    "duration": 7,
    "start_time": "2021-12-27T08:32:52.366Z"
   },
   {
    "duration": 10,
    "start_time": "2021-12-27T08:33:43.704Z"
   },
   {
    "duration": 8,
    "start_time": "2021-12-27T08:34:10.117Z"
   },
   {
    "duration": 14,
    "start_time": "2021-12-27T08:34:27.998Z"
   },
   {
    "duration": 7,
    "start_time": "2021-12-27T08:34:32.745Z"
   },
   {
    "duration": 7,
    "start_time": "2021-12-27T08:34:41.755Z"
   },
   {
    "duration": 7,
    "start_time": "2021-12-27T08:34:47.033Z"
   },
   {
    "duration": 7,
    "start_time": "2021-12-27T08:35:17.146Z"
   },
   {
    "duration": 7,
    "start_time": "2021-12-27T08:35:45.243Z"
   },
   {
    "duration": 8,
    "start_time": "2021-12-27T08:35:58.911Z"
   },
   {
    "duration": 3840,
    "start_time": "2021-12-27T08:37:32.572Z"
   },
   {
    "duration": 4263,
    "start_time": "2021-12-27T08:38:21.260Z"
   },
   {
    "duration": 75,
    "start_time": "2021-12-27T08:40:35.337Z"
   },
   {
    "duration": 8,
    "start_time": "2021-12-27T08:40:59.033Z"
   },
   {
    "duration": 7,
    "start_time": "2021-12-27T08:41:24.430Z"
   },
   {
    "duration": 7,
    "start_time": "2021-12-27T08:42:12.181Z"
   },
   {
    "duration": 7,
    "start_time": "2021-12-27T08:42:22.460Z"
   },
   {
    "duration": 9,
    "start_time": "2021-12-27T08:42:28.123Z"
   },
   {
    "duration": 10,
    "start_time": "2021-12-27T08:42:44.541Z"
   },
   {
    "duration": 12,
    "start_time": "2021-12-27T08:42:54.708Z"
   },
   {
    "duration": 14,
    "start_time": "2021-12-27T08:43:03.993Z"
   },
   {
    "duration": 3458,
    "start_time": "2021-12-27T08:43:22.293Z"
   },
   {
    "duration": 12,
    "start_time": "2021-12-27T08:43:31.149Z"
   },
   {
    "duration": 10,
    "start_time": "2021-12-27T08:43:41.016Z"
   },
   {
    "duration": 9,
    "start_time": "2021-12-27T08:44:23.016Z"
   },
   {
    "duration": 9,
    "start_time": "2021-12-27T08:47:34.150Z"
   },
   {
    "duration": 13,
    "start_time": "2021-12-27T08:47:48.729Z"
   },
   {
    "duration": 71,
    "start_time": "2021-12-27T08:48:31.493Z"
   },
   {
    "duration": 13,
    "start_time": "2021-12-27T08:49:36.855Z"
   },
   {
    "duration": 73,
    "start_time": "2021-12-27T08:50:28.192Z"
   },
   {
    "duration": 27,
    "start_time": "2021-12-27T08:50:33.492Z"
   },
   {
    "duration": 9,
    "start_time": "2021-12-27T09:38:43.497Z"
   },
   {
    "duration": 15,
    "start_time": "2021-12-27T09:41:03.498Z"
   },
   {
    "duration": 73,
    "start_time": "2021-12-27T09:54:22.135Z"
   },
   {
    "duration": 5,
    "start_time": "2021-12-27T09:55:58.472Z"
   },
   {
    "duration": 4,
    "start_time": "2021-12-27T09:56:21.625Z"
   },
   {
    "duration": 21,
    "start_time": "2021-12-27T10:04:30.276Z"
   },
   {
    "duration": 20,
    "start_time": "2021-12-27T10:04:56.065Z"
   },
   {
    "duration": 21,
    "start_time": "2021-12-27T10:05:36.265Z"
   },
   {
    "duration": 19,
    "start_time": "2021-12-27T10:07:11.770Z"
   },
   {
    "duration": 18,
    "start_time": "2021-12-27T10:08:25.424Z"
   },
   {
    "duration": 21,
    "start_time": "2021-12-27T10:08:55.913Z"
   },
   {
    "duration": 21,
    "start_time": "2021-12-27T10:11:21.260Z"
   },
   {
    "duration": 23,
    "start_time": "2021-12-27T10:11:50.445Z"
   },
   {
    "duration": 21,
    "start_time": "2021-12-27T10:12:15.856Z"
   },
   {
    "duration": 19,
    "start_time": "2021-12-27T10:15:21.707Z"
   },
   {
    "duration": 28,
    "start_time": "2021-12-27T10:16:28.077Z"
   },
   {
    "duration": 38,
    "start_time": "2021-12-27T10:17:47.345Z"
   },
   {
    "duration": 42,
    "start_time": "2021-12-27T10:18:26.397Z"
   },
   {
    "duration": 46,
    "start_time": "2021-12-27T10:18:40.704Z"
   },
   {
    "duration": 47,
    "start_time": "2021-12-27T10:19:02.208Z"
   },
   {
    "duration": 139,
    "start_time": "2021-12-27T10:19:53.847Z"
   },
   {
    "duration": 47,
    "start_time": "2021-12-27T10:20:11.332Z"
   },
   {
    "duration": 81,
    "start_time": "2021-12-27T10:21:40.977Z"
   },
   {
    "duration": 96,
    "start_time": "2021-12-27T10:41:04.167Z"
   },
   {
    "duration": 7,
    "start_time": "2021-12-27T11:11:29.907Z"
   },
   {
    "duration": 7,
    "start_time": "2021-12-27T11:14:08.901Z"
   },
   {
    "duration": 276,
    "start_time": "2021-12-27T11:14:29.520Z"
   },
   {
    "duration": 25,
    "start_time": "2021-12-27T11:14:55.775Z"
   },
   {
    "duration": 132,
    "start_time": "2021-12-27T11:16:41.772Z"
   },
   {
    "duration": 34,
    "start_time": "2021-12-27T11:17:02.191Z"
   },
   {
    "duration": 39,
    "start_time": "2021-12-27T11:17:22.013Z"
   },
   {
    "duration": 33,
    "start_time": "2021-12-27T11:18:01.360Z"
   },
   {
    "duration": 187,
    "start_time": "2021-12-27T11:19:12.231Z"
   },
   {
    "duration": 7659,
    "start_time": "2021-12-27T11:20:37.922Z"
   },
   {
    "duration": 66,
    "start_time": "2021-12-27T11:21:40.620Z"
   },
   {
    "duration": 35,
    "start_time": "2021-12-27T11:21:47.914Z"
   },
   {
    "duration": 7813,
    "start_time": "2021-12-27T11:24:38.202Z"
   },
   {
    "duration": 66,
    "start_time": "2021-12-27T11:29:52.780Z"
   },
   {
    "duration": 7897,
    "start_time": "2021-12-27T11:29:57.152Z"
   },
   {
    "duration": 7908,
    "start_time": "2021-12-27T11:30:37.450Z"
   },
   {
    "duration": 67,
    "start_time": "2021-12-27T11:32:19.665Z"
   },
   {
    "duration": 7892,
    "start_time": "2021-12-27T11:32:25.003Z"
   },
   {
    "duration": 65,
    "start_time": "2021-12-27T11:32:42.255Z"
   },
   {
    "duration": 7909,
    "start_time": "2021-12-27T11:32:46.397Z"
   },
   {
    "duration": 8084,
    "start_time": "2021-12-27T11:33:36.090Z"
   },
   {
    "duration": 119,
    "start_time": "2021-12-27T11:54:23.893Z"
   },
   {
    "duration": 111,
    "start_time": "2021-12-27T11:55:17.503Z"
   },
   {
    "duration": 101,
    "start_time": "2021-12-27T12:03:59.829Z"
   },
   {
    "duration": 132,
    "start_time": "2021-12-27T12:07:40.652Z"
   },
   {
    "duration": 5,
    "start_time": "2021-12-27T12:07:54.545Z"
   },
   {
    "duration": 22,
    "start_time": "2021-12-27T12:08:42.116Z"
   },
   {
    "duration": 120,
    "start_time": "2021-12-27T12:09:57.880Z"
   },
   {
    "duration": 157,
    "start_time": "2021-12-27T12:14:28.629Z"
   },
   {
    "duration": 106,
    "start_time": "2021-12-27T12:14:38.832Z"
   },
   {
    "duration": 112,
    "start_time": "2021-12-27T12:19:46.716Z"
   },
   {
    "duration": 126,
    "start_time": "2021-12-27T12:22:12.502Z"
   },
   {
    "duration": 197,
    "start_time": "2021-12-27T12:45:04.948Z"
   },
   {
    "duration": 176,
    "start_time": "2021-12-27T12:45:09.265Z"
   },
   {
    "duration": 5,
    "start_time": "2021-12-27T12:47:45.532Z"
   },
   {
    "duration": 151,
    "start_time": "2021-12-27T12:48:37.268Z"
   },
   {
    "duration": 163,
    "start_time": "2021-12-27T12:48:49.922Z"
   },
   {
    "duration": 194,
    "start_time": "2021-12-27T12:49:12.258Z"
   },
   {
    "duration": 145,
    "start_time": "2021-12-27T12:49:49.151Z"
   },
   {
    "duration": 143,
    "start_time": "2021-12-27T12:50:11.441Z"
   },
   {
    "duration": 5,
    "start_time": "2021-12-27T12:50:33.331Z"
   },
   {
    "duration": 48,
    "start_time": "2021-12-27T12:55:25.746Z"
   },
   {
    "duration": 130,
    "start_time": "2021-12-27T12:55:51.643Z"
   },
   {
    "duration": 166,
    "start_time": "2021-12-27T12:56:12.071Z"
   },
   {
    "duration": 135,
    "start_time": "2021-12-27T12:58:10.653Z"
   },
   {
    "duration": 15,
    "start_time": "2021-12-27T12:58:49.178Z"
   },
   {
    "duration": 20,
    "start_time": "2021-12-27T12:59:11.420Z"
   },
   {
    "duration": 42,
    "start_time": "2021-12-27T12:59:35.480Z"
   },
   {
    "duration": 16,
    "start_time": "2021-12-27T12:59:41.821Z"
   },
   {
    "duration": 67,
    "start_time": "2021-12-27T13:02:48.535Z"
   },
   {
    "duration": 47,
    "start_time": "2021-12-27T13:02:55.368Z"
   },
   {
    "duration": 40,
    "start_time": "2021-12-27T13:03:24.003Z"
   },
   {
    "duration": 62,
    "start_time": "2021-12-27T13:03:41.885Z"
   },
   {
    "duration": 16,
    "start_time": "2021-12-27T13:04:09.185Z"
   },
   {
    "duration": 19,
    "start_time": "2021-12-27T13:04:34.370Z"
   },
   {
    "duration": 4,
    "start_time": "2021-12-27T13:06:23.201Z"
   },
   {
    "duration": 5,
    "start_time": "2021-12-27T13:07:58.989Z"
   },
   {
    "duration": 136,
    "start_time": "2021-12-27T13:09:36.739Z"
   },
   {
    "duration": 31,
    "start_time": "2021-12-27T13:10:09.234Z"
   },
   {
    "duration": 232,
    "start_time": "2021-12-27T13:10:17.769Z"
   },
   {
    "duration": 93,
    "start_time": "2021-12-27T13:13:47.962Z"
   },
   {
    "duration": 145,
    "start_time": "2021-12-27T13:14:16.864Z"
   },
   {
    "duration": 21,
    "start_time": "2021-12-27T13:26:43.826Z"
   },
   {
    "duration": 24,
    "start_time": "2021-12-27T13:27:32.076Z"
   },
   {
    "duration": 21,
    "start_time": "2021-12-27T13:27:48.240Z"
   },
   {
    "duration": 21,
    "start_time": "2021-12-27T13:28:39.506Z"
   },
   {
    "duration": 3190,
    "start_time": "2021-12-27T13:29:26.116Z"
   },
   {
    "duration": 3307,
    "start_time": "2021-12-27T13:29:41.285Z"
   },
   {
    "duration": 22,
    "start_time": "2021-12-27T13:29:51.322Z"
   },
   {
    "duration": 3277,
    "start_time": "2021-12-27T13:30:35.518Z"
   },
   {
    "duration": 3456,
    "start_time": "2021-12-27T13:30:45.948Z"
   },
   {
    "duration": 18,
    "start_time": "2021-12-27T13:31:01.451Z"
   },
   {
    "duration": 19,
    "start_time": "2021-12-27T13:48:22.968Z"
   },
   {
    "duration": 151,
    "start_time": "2021-12-27T13:55:51.612Z"
   },
   {
    "duration": 3328,
    "start_time": "2021-12-27T13:56:09.288Z"
   },
   {
    "duration": 151,
    "start_time": "2021-12-27T13:57:37.607Z"
   },
   {
    "duration": 156,
    "start_time": "2021-12-27T13:59:55.895Z"
   },
   {
    "duration": 1332,
    "start_time": "2021-12-27T14:05:33.523Z"
   },
   {
    "duration": 3141,
    "start_time": "2021-12-27T14:12:10.121Z"
   },
   {
    "duration": 3153,
    "start_time": "2021-12-27T14:12:27.340Z"
   },
   {
    "duration": 3206,
    "start_time": "2021-12-27T14:13:27.714Z"
   },
   {
    "duration": 3199,
    "start_time": "2021-12-27T14:15:10.995Z"
   },
   {
    "duration": 3254,
    "start_time": "2021-12-27T14:15:37.997Z"
   },
   {
    "duration": 4287,
    "start_time": "2021-12-27T14:26:09.638Z"
   },
   {
    "duration": 4203,
    "start_time": "2021-12-27T14:28:54.565Z"
   },
   {
    "duration": 3751,
    "start_time": "2021-12-27T14:29:49.652Z"
   },
   {
    "duration": 4353,
    "start_time": "2021-12-27T14:30:50.454Z"
   },
   {
    "duration": 3929,
    "start_time": "2021-12-27T14:31:57.104Z"
   },
   {
    "duration": 3271,
    "start_time": "2021-12-27T14:32:23.950Z"
   },
   {
    "duration": 5039,
    "start_time": "2021-12-27T14:34:16.475Z"
   },
   {
    "duration": 205,
    "start_time": "2021-12-27T14:35:11.695Z"
   },
   {
    "duration": 68,
    "start_time": "2021-12-27T14:35:30.337Z"
   },
   {
    "duration": 1181,
    "start_time": "2021-12-27T14:36:56.344Z"
   },
   {
    "duration": 69,
    "start_time": "2021-12-27T14:38:40.016Z"
   },
   {
    "duration": 1187,
    "start_time": "2021-12-27T14:38:48.183Z"
   },
   {
    "duration": 124,
    "start_time": "2021-12-27T14:39:09.140Z"
   },
   {
    "duration": 65,
    "start_time": "2021-12-27T14:48:10.893Z"
   },
   {
    "duration": 46,
    "start_time": "2021-12-27T14:48:29.206Z"
   },
   {
    "duration": 1202,
    "start_time": "2021-12-27T14:48:42.437Z"
   },
   {
    "duration": 66,
    "start_time": "2021-12-27T14:50:13.359Z"
   },
   {
    "duration": 1290,
    "start_time": "2021-12-27T14:50:20.331Z"
   },
   {
    "duration": 22,
    "start_time": "2021-12-27T15:02:32.759Z"
   },
   {
    "duration": 127,
    "start_time": "2021-12-27T15:02:37.749Z"
   },
   {
    "duration": 65,
    "start_time": "2021-12-27T15:02:57.932Z"
   },
   {
    "duration": 17,
    "start_time": "2021-12-27T15:03:04.309Z"
   },
   {
    "duration": 5,
    "start_time": "2021-12-27T15:03:13.789Z"
   },
   {
    "duration": 4,
    "start_time": "2021-12-27T15:03:18.522Z"
   },
   {
    "duration": 14,
    "start_time": "2021-12-27T15:04:24.552Z"
   },
   {
    "duration": 107,
    "start_time": "2021-12-27T15:29:35.508Z"
   },
   {
    "duration": 1202,
    "start_time": "2021-12-27T15:32:17.250Z"
   },
   {
    "duration": 12,
    "start_time": "2021-12-27T15:33:04.603Z"
   },
   {
    "duration": 14,
    "start_time": "2021-12-27T15:44:44.544Z"
   },
   {
    "duration": 15,
    "start_time": "2021-12-27T15:45:21.687Z"
   },
   {
    "duration": 13,
    "start_time": "2021-12-27T15:46:52.828Z"
   },
   {
    "duration": 843,
    "start_time": "2021-12-28T07:29:22.380Z"
   },
   {
    "duration": 31,
    "start_time": "2021-12-28T07:29:23.232Z"
   },
   {
    "duration": 7,
    "start_time": "2021-12-28T07:29:23.266Z"
   },
   {
    "duration": 48,
    "start_time": "2021-12-28T07:29:23.275Z"
   },
   {
    "duration": 35,
    "start_time": "2021-12-28T07:29:23.326Z"
   },
   {
    "duration": 17,
    "start_time": "2021-12-28T07:29:23.364Z"
   },
   {
    "duration": 201,
    "start_time": "2021-12-28T07:29:23.384Z"
   },
   {
    "duration": 1956,
    "start_time": "2021-12-28T07:29:23.588Z"
   },
   {
    "duration": 19,
    "start_time": "2021-12-28T07:29:25.547Z"
   },
   {
    "duration": 863,
    "start_time": "2021-12-28T07:39:59.655Z"
   },
   {
    "duration": 30,
    "start_time": "2021-12-28T07:40:00.521Z"
   },
   {
    "duration": 6,
    "start_time": "2021-12-28T07:40:00.554Z"
   },
   {
    "duration": 16,
    "start_time": "2021-12-28T07:40:00.563Z"
   },
   {
    "duration": 46,
    "start_time": "2021-12-28T07:40:00.581Z"
   },
   {
    "duration": 198,
    "start_time": "2021-12-28T07:40:00.629Z"
   },
   {
    "duration": 1960,
    "start_time": "2021-12-28T07:40:00.829Z"
   },
   {
    "duration": 34,
    "start_time": "2021-12-28T07:40:02.791Z"
   },
   {
    "duration": 11,
    "start_time": "2021-12-28T07:44:08.006Z"
   },
   {
    "duration": 21,
    "start_time": "2021-12-28T07:48:29.299Z"
   },
   {
    "duration": 23,
    "start_time": "2021-12-28T07:49:02.922Z"
   },
   {
    "duration": 28,
    "start_time": "2021-12-28T07:50:54.636Z"
   },
   {
    "duration": 871,
    "start_time": "2021-12-28T08:08:24.691Z"
   },
   {
    "duration": 448,
    "start_time": "2021-12-28T08:08:25.565Z"
   },
   {
    "duration": 774,
    "start_time": "2021-12-28T08:08:25.241Z"
   },
   {
    "duration": 775,
    "start_time": "2021-12-28T08:08:25.242Z"
   },
   {
    "duration": 772,
    "start_time": "2021-12-28T08:08:25.247Z"
   },
   {
    "duration": 771,
    "start_time": "2021-12-28T08:08:25.249Z"
   },
   {
    "duration": 772,
    "start_time": "2021-12-28T08:08:25.250Z"
   },
   {
    "duration": 857,
    "start_time": "2021-12-28T08:09:16.126Z"
   },
   {
    "duration": 41,
    "start_time": "2021-12-28T08:09:16.986Z"
   },
   {
    "duration": 17,
    "start_time": "2021-12-28T08:09:17.031Z"
   },
   {
    "duration": 210,
    "start_time": "2021-12-28T08:09:17.050Z"
   },
   {
    "duration": 2118,
    "start_time": "2021-12-28T08:09:17.264Z"
   },
   {
    "duration": 17,
    "start_time": "2021-12-28T08:09:19.384Z"
   },
   {
    "duration": 44,
    "start_time": "2021-12-28T08:09:19.403Z"
   },
   {
    "duration": 36,
    "start_time": "2021-12-28T08:16:48.056Z"
   },
   {
    "duration": 8757,
    "start_time": "2021-12-28T08:30:03.890Z"
   },
   {
    "duration": 9161,
    "start_time": "2021-12-28T08:31:03.690Z"
   },
   {
    "duration": 8467,
    "start_time": "2021-12-28T08:33:32.874Z"
   },
   {
    "duration": 9237,
    "start_time": "2021-12-28T08:34:34.053Z"
   },
   {
    "duration": 8954,
    "start_time": "2021-12-28T08:35:05.552Z"
   },
   {
    "duration": 45,
    "start_time": "2021-12-28T08:40:52.502Z"
   },
   {
    "duration": 884,
    "start_time": "2021-12-28T08:41:51.679Z"
   },
   {
    "duration": 23,
    "start_time": "2021-12-28T08:41:52.566Z"
   },
   {
    "duration": 38,
    "start_time": "2021-12-28T08:41:52.592Z"
   },
   {
    "duration": 200,
    "start_time": "2021-12-28T08:41:52.632Z"
   },
   {
    "duration": 2005,
    "start_time": "2021-12-28T08:41:52.834Z"
   },
   {
    "duration": 18,
    "start_time": "2021-12-28T08:41:54.841Z"
   },
   {
    "duration": 450,
    "start_time": "2021-12-28T08:41:54.861Z"
   },
   {
    "duration": 872,
    "start_time": "2021-12-28T08:42:54.443Z"
   },
   {
    "duration": 25,
    "start_time": "2021-12-28T08:42:55.317Z"
   },
   {
    "duration": 30,
    "start_time": "2021-12-28T08:42:55.346Z"
   },
   {
    "duration": 207,
    "start_time": "2021-12-28T08:42:55.380Z"
   },
   {
    "duration": 2136,
    "start_time": "2021-12-28T08:42:55.589Z"
   },
   {
    "duration": 25,
    "start_time": "2021-12-28T08:42:57.728Z"
   },
   {
    "duration": 85,
    "start_time": "2021-12-28T08:42:57.755Z"
   },
   {
    "duration": 57,
    "start_time": "2021-12-28T08:51:02.855Z"
   },
   {
    "duration": 66,
    "start_time": "2021-12-28T08:53:08.807Z"
   },
   {
    "duration": 58,
    "start_time": "2021-12-28T09:34:35.885Z"
   },
   {
    "duration": 90,
    "start_time": "2021-12-28T09:38:59.935Z"
   },
   {
    "duration": 90,
    "start_time": "2021-12-28T09:39:30.833Z"
   },
   {
    "duration": 1131,
    "start_time": "2021-12-28T09:44:08.329Z"
   },
   {
    "duration": 37,
    "start_time": "2021-12-28T09:44:09.464Z"
   },
   {
    "duration": 22,
    "start_time": "2021-12-28T09:44:09.525Z"
   },
   {
    "duration": 233,
    "start_time": "2021-12-28T09:44:09.551Z"
   },
   {
    "duration": 2117,
    "start_time": "2021-12-28T09:44:09.787Z"
   },
   {
    "duration": 30,
    "start_time": "2021-12-28T09:44:11.907Z"
   },
   {
    "duration": 118,
    "start_time": "2021-12-28T09:44:11.940Z"
   },
   {
    "duration": 41,
    "start_time": "2021-12-28T10:07:23.674Z"
   },
   {
    "duration": 417,
    "start_time": "2021-12-28T10:08:51.541Z"
   },
   {
    "duration": 348,
    "start_time": "2021-12-28T10:09:10.856Z"
   },
   {
    "duration": 347,
    "start_time": "2021-12-28T10:13:21.927Z"
   },
   {
    "duration": 6024,
    "start_time": "2021-12-28T10:14:42.238Z"
   },
   {
    "duration": 949,
    "start_time": "2021-12-28T10:15:47.147Z"
   },
   {
    "duration": 899,
    "start_time": "2021-12-28T10:16:17.963Z"
   },
   {
    "duration": 1252,
    "start_time": "2021-12-28T10:17:23.288Z"
   },
   {
    "duration": 349,
    "start_time": "2021-12-28T10:19:25.147Z"
   },
   {
    "duration": 1183,
    "start_time": "2021-12-28T10:19:34.131Z"
   },
   {
    "duration": 349,
    "start_time": "2021-12-28T10:21:23.809Z"
   },
   {
    "duration": 327,
    "start_time": "2021-12-28T10:22:23.522Z"
   },
   {
    "duration": 108,
    "start_time": "2021-12-28T10:22:57.165Z"
   },
   {
    "duration": 372,
    "start_time": "2021-12-28T10:23:02.253Z"
   },
   {
    "duration": 7,
    "start_time": "2021-12-28T10:23:58.165Z"
   },
   {
    "duration": 399,
    "start_time": "2021-12-28T10:24:31.632Z"
   },
   {
    "duration": 326,
    "start_time": "2021-12-28T10:24:43.665Z"
   },
   {
    "duration": 379,
    "start_time": "2021-12-28T10:25:12.461Z"
   },
   {
    "duration": 103,
    "start_time": "2021-12-28T10:38:12.643Z"
   },
   {
    "duration": 1317,
    "start_time": "2021-12-28T10:38:27.585Z"
   },
   {
    "duration": 1394,
    "start_time": "2021-12-28T10:38:55.746Z"
   },
   {
    "duration": 103,
    "start_time": "2021-12-28T10:42:11.925Z"
   },
   {
    "duration": 116,
    "start_time": "2021-12-28T10:42:47.897Z"
   },
   {
    "duration": 125,
    "start_time": "2021-12-28T10:43:03.646Z"
   },
   {
    "duration": 914,
    "start_time": "2021-12-28T10:43:35.889Z"
   },
   {
    "duration": 1287,
    "start_time": "2021-12-28T10:44:30.724Z"
   },
   {
    "duration": 110,
    "start_time": "2021-12-28T10:46:04.154Z"
   },
   {
    "duration": 1354,
    "start_time": "2021-12-28T10:46:08.412Z"
   },
   {
    "duration": 1215,
    "start_time": "2021-12-28T10:48:16.538Z"
   },
   {
    "duration": 940,
    "start_time": "2021-12-28T10:48:58.456Z"
   },
   {
    "duration": 4798,
    "start_time": "2021-12-28T10:52:47.231Z"
   },
   {
    "duration": 5285,
    "start_time": "2021-12-28T11:08:38.138Z"
   },
   {
    "duration": 5109,
    "start_time": "2021-12-28T11:09:17.625Z"
   },
   {
    "duration": 5620,
    "start_time": "2021-12-28T11:10:02.189Z"
   },
   {
    "duration": 6238,
    "start_time": "2021-12-28T11:10:24.487Z"
   },
   {
    "duration": 6937,
    "start_time": "2021-12-28T11:11:41.321Z"
   },
   {
    "duration": 6852,
    "start_time": "2021-12-28T11:11:56.493Z"
   },
   {
    "duration": 6025,
    "start_time": "2021-12-28T11:13:58.073Z"
   },
   {
    "duration": 5349,
    "start_time": "2021-12-28T11:14:13.001Z"
   },
   {
    "duration": 5507,
    "start_time": "2021-12-28T11:14:29.524Z"
   },
   {
    "duration": 7642,
    "start_time": "2021-12-28T11:15:12.935Z"
   },
   {
    "duration": 6115,
    "start_time": "2021-12-28T11:18:06.119Z"
   },
   {
    "duration": 5846,
    "start_time": "2021-12-28T11:19:15.201Z"
   },
   {
    "duration": 5672,
    "start_time": "2021-12-28T11:19:51.923Z"
   },
   {
    "duration": 770,
    "start_time": "2021-12-28T12:04:31.366Z"
   },
   {
    "duration": 22,
    "start_time": "2021-12-28T12:04:32.138Z"
   },
   {
    "duration": 17,
    "start_time": "2021-12-28T12:04:32.164Z"
   },
   {
    "duration": 207,
    "start_time": "2021-12-28T12:04:32.184Z"
   },
   {
    "duration": 2068,
    "start_time": "2021-12-28T12:04:32.393Z"
   },
   {
    "duration": 18,
    "start_time": "2021-12-28T12:04:34.463Z"
   },
   {
    "duration": 116,
    "start_time": "2021-12-28T12:04:34.483Z"
   },
   {
    "duration": 6314,
    "start_time": "2021-12-28T12:04:34.601Z"
   },
   {
    "duration": 6280,
    "start_time": "2021-12-28T12:04:40.924Z"
   },
   {
    "duration": 40643,
    "start_time": "2021-12-28T12:04:47.207Z"
   },
   {
    "duration": 31,
    "start_time": "2021-12-28T12:05:27.853Z"
   },
   {
    "duration": 40948,
    "start_time": "2021-12-28T12:09:10.288Z"
   },
   {
    "duration": 55376,
    "start_time": "2021-12-28T12:12:47.666Z"
   },
   {
    "duration": 39272,
    "start_time": "2021-12-28T12:15:37.801Z"
   },
   {
    "duration": 827,
    "start_time": "2021-12-28T12:23:22.349Z"
   },
   {
    "duration": 23,
    "start_time": "2021-12-28T12:23:23.178Z"
   },
   {
    "duration": 33,
    "start_time": "2021-12-28T12:23:23.204Z"
   },
   {
    "duration": 191,
    "start_time": "2021-12-28T12:23:23.241Z"
   },
   {
    "duration": 2009,
    "start_time": "2021-12-28T12:23:23.435Z"
   },
   {
    "duration": 18,
    "start_time": "2021-12-28T12:23:25.446Z"
   },
   {
    "duration": 120,
    "start_time": "2021-12-28T12:23:25.466Z"
   },
   {
    "duration": 5658,
    "start_time": "2021-12-28T12:23:25.589Z"
   },
   {
    "duration": 6149,
    "start_time": "2021-12-28T12:23:31.251Z"
   },
   {
    "duration": 23210,
    "start_time": "2021-12-28T12:23:37.422Z"
   },
   {
    "duration": 34,
    "start_time": "2021-12-28T12:24:00.635Z"
   },
   {
    "duration": 802,
    "start_time": "2021-12-28T12:48:17.976Z"
   },
   {
    "duration": 23,
    "start_time": "2021-12-28T12:48:18.780Z"
   },
   {
    "duration": 18,
    "start_time": "2021-12-28T12:48:18.826Z"
   },
   {
    "duration": 199,
    "start_time": "2021-12-28T12:48:18.846Z"
   },
   {
    "duration": 2049,
    "start_time": "2021-12-28T12:48:19.048Z"
   },
   {
    "duration": 30,
    "start_time": "2021-12-28T12:48:21.100Z"
   },
   {
    "duration": 116,
    "start_time": "2021-12-28T12:48:21.133Z"
   },
   {
    "duration": 5502,
    "start_time": "2021-12-28T12:48:21.252Z"
   },
   {
    "duration": 6325,
    "start_time": "2021-12-28T12:48:26.758Z"
   },
   {
    "duration": 439,
    "start_time": "2021-12-28T12:48:33.086Z"
   },
   {
    "duration": 1067,
    "start_time": "2021-12-28T12:48:32.461Z"
   },
   {
    "duration": 4467,
    "start_time": "2021-12-28T12:49:17.097Z"
   },
   {
    "duration": 31,
    "start_time": "2021-12-28T13:40:23.624Z"
   },
   {
    "duration": 40,
    "start_time": "2021-12-28T14:32:35.884Z"
   },
   {
    "duration": 27,
    "start_time": "2021-12-28T14:34:02.586Z"
   },
   {
    "duration": 32,
    "start_time": "2021-12-28T14:52:08.100Z"
   },
   {
    "duration": 33,
    "start_time": "2021-12-28T14:55:22.581Z"
   },
   {
    "duration": 34,
    "start_time": "2021-12-28T14:57:31.285Z"
   },
   {
    "duration": 31,
    "start_time": "2021-12-28T14:58:04.331Z"
   },
   {
    "duration": 35,
    "start_time": "2021-12-28T14:58:19.302Z"
   },
   {
    "duration": 35,
    "start_time": "2021-12-28T14:58:28.302Z"
   },
   {
    "duration": 29,
    "start_time": "2021-12-28T14:59:23.071Z"
   },
   {
    "duration": 24,
    "start_time": "2021-12-28T14:59:31.367Z"
   },
   {
    "duration": 27,
    "start_time": "2021-12-28T14:59:41.801Z"
   },
   {
    "duration": 32,
    "start_time": "2021-12-28T15:00:09.623Z"
   },
   {
    "duration": 444,
    "start_time": "2021-12-28T15:16:01.955Z"
   },
   {
    "duration": 358,
    "start_time": "2021-12-28T15:16:49.734Z"
   },
   {
    "duration": 25,
    "start_time": "2021-12-28T15:17:26.654Z"
   },
   {
    "duration": 24,
    "start_time": "2021-12-28T15:17:35.026Z"
   },
   {
    "duration": 398,
    "start_time": "2021-12-28T15:18:00.454Z"
   },
   {
    "duration": 33,
    "start_time": "2021-12-28T15:18:14.075Z"
   },
   {
    "duration": 119,
    "start_time": "2021-12-28T15:18:57.832Z"
   },
   {
    "duration": 1126,
    "start_time": "2021-12-28T15:19:19.406Z"
   },
   {
    "duration": 386,
    "start_time": "2021-12-28T15:21:30.306Z"
   },
   {
    "duration": 31,
    "start_time": "2021-12-28T15:21:37.170Z"
   },
   {
    "duration": 332,
    "start_time": "2021-12-28T15:21:51.698Z"
   },
   {
    "duration": 400,
    "start_time": "2021-12-28T15:21:58.122Z"
   },
   {
    "duration": 32,
    "start_time": "2021-12-28T15:22:30.001Z"
   },
   {
    "duration": 119,
    "start_time": "2021-12-28T15:22:43.774Z"
   },
   {
    "duration": 352,
    "start_time": "2021-12-28T15:22:56.345Z"
   },
   {
    "duration": 30,
    "start_time": "2021-12-28T15:23:01.388Z"
   },
   {
    "duration": 29,
    "start_time": "2021-12-28T15:23:19.203Z"
   },
   {
    "duration": 41,
    "start_time": "2021-12-28T15:33:08.456Z"
   },
   {
    "duration": 45,
    "start_time": "2021-12-28T15:35:39.868Z"
   },
   {
    "duration": 30,
    "start_time": "2021-12-28T15:35:48.230Z"
   },
   {
    "duration": 30,
    "start_time": "2021-12-28T15:36:40.689Z"
   },
   {
    "duration": 1423,
    "start_time": "2021-12-28T15:38:39.596Z"
   },
   {
    "duration": 9169,
    "start_time": "2021-12-28T15:39:07.421Z"
   },
   {
    "duration": 8147,
    "start_time": "2021-12-28T15:39:41.668Z"
   },
   {
    "duration": 33,
    "start_time": "2021-12-28T15:40:25.605Z"
   },
   {
    "duration": 32,
    "start_time": "2021-12-28T15:40:33.831Z"
   },
   {
    "duration": 32,
    "start_time": "2021-12-28T15:42:47.236Z"
   },
   {
    "duration": 7939,
    "start_time": "2021-12-28T15:43:50.915Z"
   },
   {
    "duration": 376,
    "start_time": "2021-12-28T15:44:47.405Z"
   },
   {
    "duration": 8863,
    "start_time": "2021-12-28T15:45:15.503Z"
   },
   {
    "duration": 9629,
    "start_time": "2021-12-28T15:47:45.454Z"
   },
   {
    "duration": 363,
    "start_time": "2021-12-28T15:48:53.173Z"
   },
   {
    "duration": 570,
    "start_time": "2021-12-28T15:49:45.931Z"
   },
   {
    "duration": 33,
    "start_time": "2021-12-28T15:49:55.118Z"
   },
   {
    "duration": 348,
    "start_time": "2021-12-28T15:50:17.706Z"
   },
   {
    "duration": 33,
    "start_time": "2021-12-28T15:50:30.804Z"
   },
   {
    "duration": 351,
    "start_time": "2021-12-28T15:50:36.120Z"
   },
   {
    "duration": 397,
    "start_time": "2021-12-28T15:51:21.643Z"
   },
   {
    "duration": 105,
    "start_time": "2021-12-28T15:51:28.257Z"
   },
   {
    "duration": 33,
    "start_time": "2021-12-28T15:51:34.844Z"
   },
   {
    "duration": 806,
    "start_time": "2021-12-28T15:51:51.802Z"
   },
   {
    "duration": 31,
    "start_time": "2021-12-28T15:52:26.509Z"
   },
   {
    "duration": 32,
    "start_time": "2021-12-28T15:52:47.635Z"
   },
   {
    "duration": 2559,
    "start_time": "2021-12-28T15:53:05.145Z"
   },
   {
    "duration": 31,
    "start_time": "2021-12-28T15:53:26.551Z"
   },
   {
    "duration": 364,
    "start_time": "2021-12-28T15:56:02.366Z"
   },
   {
    "duration": 31,
    "start_time": "2021-12-28T15:56:20.972Z"
   },
   {
    "duration": 33,
    "start_time": "2021-12-28T15:56:29.046Z"
   },
   {
    "duration": 337,
    "start_time": "2021-12-28T15:57:16.843Z"
   },
   {
    "duration": 31,
    "start_time": "2021-12-28T15:58:23.228Z"
   },
   {
    "duration": 389,
    "start_time": "2021-12-28T15:59:26.027Z"
   },
   {
    "duration": 2260,
    "start_time": "2021-12-28T15:59:31.183Z"
   },
   {
    "duration": 459,
    "start_time": "2021-12-28T15:59:40.078Z"
   },
   {
    "duration": 8618,
    "start_time": "2021-12-28T16:00:30.482Z"
   },
   {
    "duration": 29,
    "start_time": "2021-12-28T16:04:12.162Z"
   },
   {
    "duration": 30,
    "start_time": "2021-12-28T16:05:43.434Z"
   },
   {
    "duration": 386,
    "start_time": "2021-12-28T16:13:33.364Z"
   },
   {
    "duration": 348,
    "start_time": "2021-12-28T16:13:45.982Z"
   },
   {
    "duration": 428,
    "start_time": "2021-12-28T16:14:33.773Z"
   },
   {
    "duration": 37,
    "start_time": "2021-12-28T16:14:52.165Z"
   },
   {
    "duration": 39,
    "start_time": "2021-12-28T16:15:08.657Z"
   },
   {
    "duration": 357,
    "start_time": "2021-12-28T16:15:26.743Z"
   },
   {
    "duration": 34,
    "start_time": "2021-12-28T16:15:44.777Z"
   },
   {
    "duration": 355,
    "start_time": "2021-12-28T16:16:14.203Z"
   },
   {
    "duration": 38,
    "start_time": "2021-12-28T16:16:21.285Z"
   },
   {
    "duration": 33,
    "start_time": "2021-12-28T16:16:49.006Z"
   },
   {
    "duration": 60,
    "start_time": "2021-12-28T16:17:13.075Z"
   },
   {
    "duration": 368,
    "start_time": "2021-12-28T16:17:31.974Z"
   },
   {
    "duration": 403,
    "start_time": "2021-12-28T16:17:42.920Z"
   },
   {
    "duration": 42,
    "start_time": "2021-12-28T16:17:50.408Z"
   },
   {
    "duration": 9368,
    "start_time": "2021-12-28T16:18:08.412Z"
   },
   {
    "duration": 1328,
    "start_time": "2021-12-28T16:32:31.238Z"
   },
   {
    "duration": 5965,
    "start_time": "2021-12-28T16:32:44.872Z"
   },
   {
    "duration": 30,
    "start_time": "2021-12-28T16:33:03.407Z"
   },
   {
    "duration": 8408,
    "start_time": "2021-12-28T16:36:03.451Z"
   },
   {
    "duration": 35,
    "start_time": "2021-12-28T16:36:26.825Z"
   },
   {
    "duration": 36,
    "start_time": "2021-12-28T16:37:32.663Z"
   },
   {
    "duration": 6190,
    "start_time": "2021-12-28T16:39:18.563Z"
   },
   {
    "duration": 34,
    "start_time": "2021-12-28T16:40:35.512Z"
   },
   {
    "duration": 2175,
    "start_time": "2021-12-28T16:42:16.393Z"
   },
   {
    "duration": 41,
    "start_time": "2021-12-28T16:42:28.190Z"
   },
   {
    "duration": 32,
    "start_time": "2021-12-28T16:42:39.508Z"
   },
   {
    "duration": 45,
    "start_time": "2021-12-28T16:44:08.113Z"
   },
   {
    "duration": 33,
    "start_time": "2021-12-28T16:45:11.347Z"
   },
   {
    "duration": 8313,
    "start_time": "2021-12-28T16:45:35.869Z"
   },
   {
    "duration": 30,
    "start_time": "2021-12-28T16:47:00.037Z"
   },
   {
    "duration": 8947,
    "start_time": "2021-12-28T16:47:09.919Z"
   },
   {
    "duration": 8240,
    "start_time": "2021-12-28T16:48:24.837Z"
   },
   {
    "duration": 32,
    "start_time": "2021-12-28T16:48:51.857Z"
   },
   {
    "duration": 33,
    "start_time": "2021-12-28T16:49:12.771Z"
   },
   {
    "duration": 32,
    "start_time": "2021-12-28T16:49:35.162Z"
   },
   {
    "duration": 33,
    "start_time": "2021-12-28T16:50:08.469Z"
   },
   {
    "duration": 49,
    "start_time": "2021-12-28T16:59:15.251Z"
   },
   {
    "duration": 35,
    "start_time": "2021-12-28T17:01:15.849Z"
   },
   {
    "duration": 45,
    "start_time": "2021-12-28T17:02:37.252Z"
   },
   {
    "duration": 55,
    "start_time": "2021-12-28T17:04:25.638Z"
   },
   {
    "duration": 6806,
    "start_time": "2021-12-28T17:05:26.924Z"
   },
   {
    "duration": 58,
    "start_time": "2021-12-28T17:05:47.441Z"
   },
   {
    "duration": 69,
    "start_time": "2021-12-28T17:08:05.942Z"
   },
   {
    "duration": 1659,
    "start_time": "2021-12-28T17:08:35.768Z"
   },
   {
    "duration": 1369,
    "start_time": "2021-12-28T17:09:01.793Z"
   },
   {
    "duration": 983,
    "start_time": "2021-12-29T06:37:25.472Z"
   },
   {
    "duration": 24,
    "start_time": "2021-12-29T06:37:26.459Z"
   },
   {
    "duration": 44,
    "start_time": "2021-12-29T06:37:26.486Z"
   },
   {
    "duration": 214,
    "start_time": "2021-12-29T06:37:26.534Z"
   },
   {
    "duration": 2021,
    "start_time": "2021-12-29T06:37:26.750Z"
   },
   {
    "duration": 19,
    "start_time": "2021-12-29T06:37:28.774Z"
   },
   {
    "duration": 105,
    "start_time": "2021-12-29T06:37:28.816Z"
   },
   {
    "duration": 5615,
    "start_time": "2021-12-29T06:37:28.924Z"
   },
   {
    "duration": 6859,
    "start_time": "2021-12-29T06:37:34.542Z"
   },
   {
    "duration": 4346,
    "start_time": "2021-12-29T06:37:41.418Z"
   },
   {
    "duration": 33,
    "start_time": "2021-12-29T06:37:45.767Z"
   },
   {
    "duration": 1481,
    "start_time": "2021-12-29T06:37:45.818Z"
   },
   {
    "duration": 7044,
    "start_time": "2021-12-29T06:40:26.632Z"
   },
   {
    "duration": 6756,
    "start_time": "2021-12-29T06:42:58.166Z"
   },
   {
    "duration": 6172,
    "start_time": "2021-12-29T06:44:47.734Z"
   },
   {
    "duration": 6035,
    "start_time": "2021-12-29T06:45:18.711Z"
   },
   {
    "duration": 37,
    "start_time": "2021-12-29T06:46:01.190Z"
   },
   {
    "duration": 36,
    "start_time": "2021-12-29T06:57:17.293Z"
   },
   {
    "duration": 161,
    "start_time": "2021-12-29T07:11:03.214Z"
   },
   {
    "duration": 111,
    "start_time": "2021-12-29T07:11:43.122Z"
   },
   {
    "duration": 115,
    "start_time": "2021-12-29T07:12:37.118Z"
   },
   {
    "duration": 55,
    "start_time": "2021-12-29T07:13:16.675Z"
   },
   {
    "duration": 366,
    "start_time": "2021-12-29T07:13:46.279Z"
   },
   {
    "duration": 1118,
    "start_time": "2021-12-29T07:14:57.647Z"
   },
   {
    "duration": 37,
    "start_time": "2021-12-29T07:15:05.714Z"
   },
   {
    "duration": 354,
    "start_time": "2021-12-29T07:17:44.286Z"
   },
   {
    "duration": 38,
    "start_time": "2021-12-29T07:17:55.971Z"
   },
   {
    "duration": 365,
    "start_time": "2021-12-29T07:18:14.008Z"
   },
   {
    "duration": 357,
    "start_time": "2021-12-29T07:18:22.531Z"
   },
   {
    "duration": 368,
    "start_time": "2021-12-29T07:18:43.697Z"
   },
   {
    "duration": 52,
    "start_time": "2021-12-29T07:39:20.157Z"
   },
   {
    "duration": 67,
    "start_time": "2021-12-29T07:39:31.567Z"
   },
   {
    "duration": 34,
    "start_time": "2021-12-29T07:39:44.470Z"
   },
   {
    "duration": 45,
    "start_time": "2021-12-29T07:39:57.717Z"
   },
   {
    "duration": 37,
    "start_time": "2021-12-29T07:40:25.781Z"
   },
   {
    "duration": 43,
    "start_time": "2021-12-29T07:40:43.221Z"
   },
   {
    "duration": 16,
    "start_time": "2021-12-29T07:40:56.559Z"
   },
   {
    "duration": 476,
    "start_time": "2021-12-29T07:41:02.912Z"
   },
   {
    "duration": 58,
    "start_time": "2021-12-29T07:41:34.239Z"
   },
   {
    "duration": 52,
    "start_time": "2021-12-29T07:42:15.219Z"
   },
   {
    "duration": 48,
    "start_time": "2021-12-29T07:42:28.443Z"
   },
   {
    "duration": 438,
    "start_time": "2021-12-29T07:42:38.113Z"
   },
   {
    "duration": 50,
    "start_time": "2021-12-29T07:42:48.133Z"
   },
   {
    "duration": 49,
    "start_time": "2021-12-29T07:44:26.102Z"
   },
   {
    "duration": 1150,
    "start_time": "2021-12-29T07:46:35.476Z"
   },
   {
    "duration": 41,
    "start_time": "2021-12-29T07:46:36.630Z"
   },
   {
    "duration": 57,
    "start_time": "2021-12-29T07:46:36.676Z"
   },
   {
    "duration": 322,
    "start_time": "2021-12-29T07:46:36.737Z"
   },
   {
    "duration": 2708,
    "start_time": "2021-12-29T07:46:37.063Z"
   },
   {
    "duration": 22,
    "start_time": "2021-12-29T07:46:39.774Z"
   },
   {
    "duration": 135,
    "start_time": "2021-12-29T07:46:39.819Z"
   },
   {
    "duration": 6436,
    "start_time": "2021-12-29T07:46:39.958Z"
   },
   {
    "duration": 7736,
    "start_time": "2021-12-29T07:46:46.398Z"
   },
   {
    "duration": 4060,
    "start_time": "2021-12-29T07:46:54.137Z"
   },
   {
    "duration": 61,
    "start_time": "2021-12-29T07:46:58.200Z"
   },
   {
    "duration": 41,
    "start_time": "2021-12-29T07:56:54.703Z"
   },
   {
    "duration": 27,
    "start_time": "2021-12-29T07:58:18.669Z"
   },
   {
    "duration": 548,
    "start_time": "2021-12-29T08:13:42.146Z"
   },
   {
    "duration": 36,
    "start_time": "2021-12-29T08:14:32.722Z"
   },
   {
    "duration": 387,
    "start_time": "2021-12-29T08:15:24.152Z"
   },
   {
    "duration": 648,
    "start_time": "2021-12-29T08:15:41.011Z"
   },
   {
    "duration": 377,
    "start_time": "2021-12-29T08:15:56.389Z"
   },
   {
    "duration": 28,
    "start_time": "2021-12-29T08:16:03.935Z"
   },
   {
    "duration": 25,
    "start_time": "2021-12-29T08:16:18.488Z"
   },
   {
    "duration": 27,
    "start_time": "2021-12-29T08:19:02.982Z"
   },
   {
    "duration": 419,
    "start_time": "2021-12-29T08:24:38.398Z"
   },
   {
    "duration": 373,
    "start_time": "2021-12-29T08:24:52.516Z"
   },
   {
    "duration": 1352,
    "start_time": "2021-12-29T08:25:11.606Z"
   },
   {
    "duration": 1429,
    "start_time": "2021-12-29T08:25:24.421Z"
   },
   {
    "duration": 1631,
    "start_time": "2021-12-29T08:25:34.980Z"
   },
   {
    "duration": 11593,
    "start_time": "2021-12-29T08:25:41.374Z"
   },
   {
    "duration": 8577,
    "start_time": "2021-12-29T08:25:56.592Z"
   },
   {
    "duration": 374,
    "start_time": "2021-12-29T08:26:46.567Z"
   },
   {
    "duration": 8717,
    "start_time": "2021-12-29T08:27:00.264Z"
   },
   {
    "duration": 20,
    "start_time": "2021-12-29T08:27:27.200Z"
   },
   {
    "duration": 18,
    "start_time": "2021-12-29T08:27:51.973Z"
   },
   {
    "duration": 30,
    "start_time": "2021-12-29T08:28:09.918Z"
   },
   {
    "duration": 35,
    "start_time": "2021-12-29T08:28:41.939Z"
   },
   {
    "duration": 35,
    "start_time": "2021-12-29T08:30:07.409Z"
   },
   {
    "duration": 28,
    "start_time": "2021-12-29T08:31:12.067Z"
   },
   {
    "duration": 27,
    "start_time": "2021-12-29T08:31:37.069Z"
   },
   {
    "duration": 26,
    "start_time": "2021-12-29T08:31:51.146Z"
   },
   {
    "duration": 8652,
    "start_time": "2021-12-29T08:47:50.738Z"
   },
   {
    "duration": 9278,
    "start_time": "2021-12-29T08:48:24.913Z"
   },
   {
    "duration": 11002,
    "start_time": "2021-12-29T08:48:40.053Z"
   },
   {
    "duration": 27,
    "start_time": "2021-12-29T08:49:21.779Z"
   },
   {
    "duration": 42,
    "start_time": "2021-12-29T08:49:49.310Z"
   },
   {
    "duration": 32,
    "start_time": "2021-12-29T08:50:32.833Z"
   },
   {
    "duration": 404,
    "start_time": "2021-12-29T08:52:07.146Z"
   },
   {
    "duration": 375,
    "start_time": "2021-12-29T08:52:15.617Z"
   },
   {
    "duration": 401,
    "start_time": "2021-12-29T08:52:39.275Z"
   },
   {
    "duration": 362,
    "start_time": "2021-12-29T08:53:04.107Z"
   },
   {
    "duration": 383,
    "start_time": "2021-12-29T08:53:10.904Z"
   },
   {
    "duration": 35,
    "start_time": "2021-12-29T08:54:28.585Z"
   },
   {
    "duration": 37,
    "start_time": "2021-12-29T08:54:39.371Z"
   },
   {
    "duration": 8521,
    "start_time": "2021-12-29T08:55:55.145Z"
   },
   {
    "duration": 46,
    "start_time": "2021-12-29T08:56:26.625Z"
   },
   {
    "duration": 375,
    "start_time": "2021-12-29T08:56:40.594Z"
   },
   {
    "duration": 32,
    "start_time": "2021-12-29T08:56:50.150Z"
   },
   {
    "duration": 41,
    "start_time": "2021-12-29T08:57:51.849Z"
   },
   {
    "duration": 41,
    "start_time": "2021-12-29T09:00:06.253Z"
   },
   {
    "duration": 45,
    "start_time": "2021-12-29T09:00:17.702Z"
   },
   {
    "duration": 1471,
    "start_time": "2021-12-29T09:00:29.776Z"
   },
   {
    "duration": 31,
    "start_time": "2021-12-29T09:01:40.331Z"
   },
   {
    "duration": 32,
    "start_time": "2021-12-29T09:02:27.485Z"
   },
   {
    "duration": 27,
    "start_time": "2021-12-29T09:04:14.954Z"
   },
   {
    "duration": 883,
    "start_time": "2021-12-29T09:08:18.730Z"
   },
   {
    "duration": 25,
    "start_time": "2021-12-29T09:08:19.616Z"
   },
   {
    "duration": 19,
    "start_time": "2021-12-29T09:08:19.645Z"
   },
   {
    "duration": 224,
    "start_time": "2021-12-29T09:08:19.667Z"
   },
   {
    "duration": 1986,
    "start_time": "2021-12-29T09:08:19.917Z"
   },
   {
    "duration": 27,
    "start_time": "2021-12-29T09:08:21.906Z"
   },
   {
    "duration": 123,
    "start_time": "2021-12-29T09:08:21.936Z"
   },
   {
    "duration": 6622,
    "start_time": "2021-12-29T09:08:22.063Z"
   },
   {
    "duration": 7507,
    "start_time": "2021-12-29T09:08:28.689Z"
   },
   {
    "duration": 4463,
    "start_time": "2021-12-29T09:08:36.198Z"
   },
   {
    "duration": 58,
    "start_time": "2021-12-29T09:08:40.664Z"
   },
   {
    "duration": 31,
    "start_time": "2021-12-29T09:08:40.725Z"
   },
   {
    "duration": 35,
    "start_time": "2021-12-29T09:13:50.318Z"
   },
   {
    "duration": 436,
    "start_time": "2021-12-29T09:14:23.342Z"
   },
   {
    "duration": 780,
    "start_time": "2021-12-29T09:23:34.782Z"
   },
   {
    "duration": 589,
    "start_time": "2021-12-29T09:27:15.340Z"
   },
   {
    "duration": 316,
    "start_time": "2021-12-29T09:28:30.620Z"
   },
   {
    "duration": 820,
    "start_time": "2021-12-29T09:33:28.591Z"
   },
   {
    "duration": 3601,
    "start_time": "2021-12-29T09:35:27.950Z"
   },
   {
    "duration": 858,
    "start_time": "2021-12-29T09:35:45.181Z"
   },
   {
    "duration": 925,
    "start_time": "2021-12-29T09:52:33.993Z"
   },
   {
    "duration": 801,
    "start_time": "2021-12-29T09:52:40.704Z"
   },
   {
    "duration": 7,
    "start_time": "2021-12-29T09:53:11.205Z"
   },
   {
    "duration": 5,
    "start_time": "2021-12-29T09:53:55.651Z"
   },
   {
    "duration": 123,
    "start_time": "2021-12-29T09:54:54.129Z"
   },
   {
    "duration": 5,
    "start_time": "2021-12-29T09:55:00.358Z"
   },
   {
    "duration": 1016,
    "start_time": "2021-12-29T09:58:33.775Z"
   },
   {
    "duration": 651,
    "start_time": "2021-12-29T09:59:27.524Z"
   },
   {
    "duration": 612,
    "start_time": "2021-12-29T10:18:18.996Z"
   },
   {
    "duration": 993,
    "start_time": "2021-12-29T10:19:46.385Z"
   },
   {
    "duration": 1096,
    "start_time": "2021-12-29T10:20:46.449Z"
   },
   {
    "duration": 118,
    "start_time": "2021-12-29T10:22:12.919Z"
   },
   {
    "duration": 134,
    "start_time": "2021-12-29T10:22:21.056Z"
   },
   {
    "duration": 968,
    "start_time": "2021-12-29T10:22:29.288Z"
   },
   {
    "duration": 9443,
    "start_time": "2021-12-29T10:22:58.061Z"
   },
   {
    "duration": 823,
    "start_time": "2021-12-29T10:23:27.414Z"
   },
   {
    "duration": 129,
    "start_time": "2021-12-29T10:24:59.203Z"
   },
   {
    "duration": 628,
    "start_time": "2021-12-29T10:25:16.553Z"
   },
   {
    "duration": 673,
    "start_time": "2021-12-29T10:26:00.323Z"
   },
   {
    "duration": 780,
    "start_time": "2021-12-29T10:26:13.829Z"
   },
   {
    "duration": 630,
    "start_time": "2021-12-29T10:29:47.512Z"
   },
   {
    "duration": 603,
    "start_time": "2021-12-29T10:30:10.163Z"
   },
   {
    "duration": 628,
    "start_time": "2021-12-29T10:34:00.635Z"
   },
   {
    "duration": 620,
    "start_time": "2021-12-29T10:34:25.777Z"
   },
   {
    "duration": 743,
    "start_time": "2021-12-29T10:37:41.238Z"
   },
   {
    "duration": 800,
    "start_time": "2021-12-29T10:39:36.642Z"
   },
   {
    "duration": 19,
    "start_time": "2021-12-29T10:39:40.344Z"
   },
   {
    "duration": 44,
    "start_time": "2021-12-29T10:49:00.979Z"
   },
   {
    "duration": 34,
    "start_time": "2021-12-29T10:49:21.832Z"
   },
   {
    "duration": 882,
    "start_time": "2021-12-29T10:55:38.215Z"
   },
   {
    "duration": 38,
    "start_time": "2021-12-29T10:55:39.099Z"
   },
   {
    "duration": 18,
    "start_time": "2021-12-29T10:55:39.139Z"
   },
   {
    "duration": 220,
    "start_time": "2021-12-29T10:55:39.160Z"
   },
   {
    "duration": 2115,
    "start_time": "2021-12-29T10:55:39.383Z"
   },
   {
    "duration": 36,
    "start_time": "2021-12-29T10:55:41.501Z"
   },
   {
    "duration": 168,
    "start_time": "2021-12-29T10:55:41.539Z"
   },
   {
    "duration": 5819,
    "start_time": "2021-12-29T10:55:41.723Z"
   },
   {
    "duration": 7304,
    "start_time": "2021-12-29T10:55:47.546Z"
   },
   {
    "duration": 4553,
    "start_time": "2021-12-29T10:55:54.853Z"
   },
   {
    "duration": 54,
    "start_time": "2021-12-29T10:55:59.409Z"
   },
   {
    "duration": 59,
    "start_time": "2021-12-29T10:55:59.467Z"
   },
   {
    "duration": 731,
    "start_time": "2021-12-29T10:55:59.529Z"
   },
   {
    "duration": 119,
    "start_time": "2021-12-29T10:56:00.263Z"
   },
   {
    "duration": -169,
    "start_time": "2021-12-29T10:56:00.554Z"
   },
   {
    "duration": -169,
    "start_time": "2021-12-29T10:56:00.556Z"
   },
   {
    "duration": 27,
    "start_time": "2021-12-29T10:56:13.883Z"
   },
   {
    "duration": 92,
    "start_time": "2021-12-29T10:57:49.085Z"
   },
   {
    "duration": 27,
    "start_time": "2021-12-29T10:58:35.509Z"
   },
   {
    "duration": 54,
    "start_time": "2021-12-29T10:58:51.709Z"
   },
   {
    "duration": 9105,
    "start_time": "2021-12-29T11:03:09.981Z"
   },
   {
    "duration": 428,
    "start_time": "2021-12-29T11:03:40.775Z"
   },
   {
    "duration": 26,
    "start_time": "2021-12-29T11:04:18.174Z"
   },
   {
    "duration": 52,
    "start_time": "2021-12-29T11:10:26.531Z"
   },
   {
    "duration": 29,
    "start_time": "2021-12-29T11:10:35.871Z"
   },
   {
    "duration": 84,
    "start_time": "2021-12-29T11:11:54.067Z"
   },
   {
    "duration": 38,
    "start_time": "2021-12-29T11:11:57.454Z"
   },
   {
    "duration": 37,
    "start_time": "2021-12-29T12:33:50.872Z"
   },
   {
    "duration": 29,
    "start_time": "2021-12-29T12:54:20.475Z"
   },
   {
    "duration": 39,
    "start_time": "2021-12-29T13:04:43.792Z"
   },
   {
    "duration": 27,
    "start_time": "2021-12-29T13:05:17.516Z"
   },
   {
    "duration": 871,
    "start_time": "2021-12-29T13:07:51.114Z"
   },
   {
    "duration": 45,
    "start_time": "2021-12-29T13:07:51.987Z"
   },
   {
    "duration": 23,
    "start_time": "2021-12-29T13:07:52.035Z"
   },
   {
    "duration": 258,
    "start_time": "2021-12-29T13:07:52.061Z"
   },
   {
    "duration": 3167,
    "start_time": "2021-12-29T13:07:52.323Z"
   },
   {
    "duration": 37,
    "start_time": "2021-12-29T13:07:55.493Z"
   },
   {
    "duration": 120,
    "start_time": "2021-12-29T13:07:55.533Z"
   },
   {
    "duration": 5809,
    "start_time": "2021-12-29T13:07:55.657Z"
   },
   {
    "duration": 7186,
    "start_time": "2021-12-29T13:08:01.469Z"
   },
   {
    "duration": 4346,
    "start_time": "2021-12-29T13:08:08.659Z"
   },
   {
    "duration": 40,
    "start_time": "2021-12-29T13:08:13.017Z"
   },
   {
    "duration": 59,
    "start_time": "2021-12-29T13:08:13.060Z"
   },
   {
    "duration": 680,
    "start_time": "2021-12-29T13:08:13.122Z"
   },
   {
    "duration": 41,
    "start_time": "2021-12-29T13:08:13.804Z"
   },
   {
    "duration": 8913,
    "start_time": "2021-12-29T13:08:13.848Z"
   },
   {
    "duration": -281,
    "start_time": "2021-12-29T13:08:23.045Z"
   },
   {
    "duration": -282,
    "start_time": "2021-12-29T13:08:23.047Z"
   },
   {
    "duration": 73,
    "start_time": "2021-12-29T13:09:24.472Z"
   },
   {
    "duration": 27,
    "start_time": "2021-12-29T13:09:36.656Z"
   },
   {
    "duration": 101,
    "start_time": "2021-12-29T13:12:12.908Z"
   },
   {
    "duration": 8,
    "start_time": "2021-12-29T13:12:53.015Z"
   },
   {
    "duration": 30,
    "start_time": "2021-12-29T13:13:38.772Z"
   },
   {
    "duration": 424,
    "start_time": "2021-12-29T13:17:42.142Z"
   },
   {
    "duration": 12,
    "start_time": "2021-12-29T13:22:24.934Z"
   },
   {
    "duration": 15,
    "start_time": "2021-12-29T13:23:34.842Z"
   },
   {
    "duration": 418,
    "start_time": "2021-12-29T13:24:01.248Z"
   },
   {
    "duration": 13,
    "start_time": "2021-12-29T13:29:31.486Z"
   },
   {
    "duration": 33,
    "start_time": "2021-12-29T13:30:07.678Z"
   },
   {
    "duration": 31,
    "start_time": "2021-12-29T13:31:12.674Z"
   },
   {
    "duration": 42,
    "start_time": "2021-12-29T13:36:32.573Z"
   },
   {
    "duration": 124,
    "start_time": "2021-12-29T13:37:00.959Z"
   },
   {
    "duration": 40,
    "start_time": "2021-12-29T13:37:04.749Z"
   },
   {
    "duration": 50,
    "start_time": "2021-12-29T13:37:35.875Z"
   },
   {
    "duration": 47,
    "start_time": "2021-12-29T13:38:41.942Z"
   },
   {
    "duration": 35,
    "start_time": "2021-12-29T13:45:02.059Z"
   },
   {
    "duration": 842,
    "start_time": "2021-12-29T14:36:29.236Z"
   },
   {
    "duration": 25,
    "start_time": "2021-12-29T14:36:30.080Z"
   },
   {
    "duration": 22,
    "start_time": "2021-12-29T14:36:30.108Z"
   },
   {
    "duration": 232,
    "start_time": "2021-12-29T14:36:30.133Z"
   },
   {
    "duration": 2050,
    "start_time": "2021-12-29T14:36:30.367Z"
   },
   {
    "duration": 22,
    "start_time": "2021-12-29T14:36:32.420Z"
   },
   {
    "duration": 127,
    "start_time": "2021-12-29T14:36:32.445Z"
   },
   {
    "duration": 5699,
    "start_time": "2021-12-29T14:36:32.576Z"
   },
   {
    "duration": 6860,
    "start_time": "2021-12-29T14:36:38.280Z"
   },
   {
    "duration": 4462,
    "start_time": "2021-12-29T14:36:45.143Z"
   },
   {
    "duration": 50,
    "start_time": "2021-12-29T14:36:49.607Z"
   },
   {
    "duration": 63,
    "start_time": "2021-12-29T14:36:49.659Z"
   },
   {
    "duration": 692,
    "start_time": "2021-12-29T14:36:49.725Z"
   },
   {
    "duration": 38,
    "start_time": "2021-12-29T14:36:50.421Z"
   },
   {
    "duration": 80,
    "start_time": "2021-12-29T14:36:50.462Z"
   },
   {
    "duration": 28,
    "start_time": "2021-12-29T14:36:50.545Z"
   },
   {
    "duration": 41,
    "start_time": "2021-12-29T14:36:50.576Z"
   },
   {
    "duration": 35,
    "start_time": "2021-12-29T14:36:50.620Z"
   },
   {
    "duration": 49,
    "start_time": "2021-12-29T14:38:19.363Z"
   },
   {
    "duration": 819,
    "start_time": "2021-12-29T14:57:55.053Z"
   },
   {
    "duration": 23,
    "start_time": "2021-12-29T14:57:55.875Z"
   },
   {
    "duration": 19,
    "start_time": "2021-12-29T14:57:55.917Z"
   },
   {
    "duration": 205,
    "start_time": "2021-12-29T14:57:55.938Z"
   },
   {
    "duration": 1955,
    "start_time": "2021-12-29T14:57:56.146Z"
   },
   {
    "duration": 28,
    "start_time": "2021-12-29T14:57:58.103Z"
   },
   {
    "duration": 115,
    "start_time": "2021-12-29T14:57:58.134Z"
   },
   {
    "duration": 5714,
    "start_time": "2021-12-29T14:57:58.255Z"
   },
   {
    "duration": 7188,
    "start_time": "2021-12-29T14:58:03.973Z"
   },
   {
    "duration": 4311,
    "start_time": "2021-12-29T14:58:11.165Z"
   },
   {
    "duration": 63,
    "start_time": "2021-12-29T14:58:15.479Z"
   },
   {
    "duration": 41,
    "start_time": "2021-12-29T14:58:15.545Z"
   },
   {
    "duration": 748,
    "start_time": "2021-12-29T14:58:15.590Z"
   },
   {
    "duration": 33,
    "start_time": "2021-12-29T14:58:16.341Z"
   },
   {
    "duration": 74,
    "start_time": "2021-12-29T14:58:16.377Z"
   },
   {
    "duration": 34,
    "start_time": "2021-12-29T14:58:16.454Z"
   },
   {
    "duration": 34,
    "start_time": "2021-12-29T14:58:16.492Z"
   },
   {
    "duration": 53,
    "start_time": "2021-12-29T14:58:16.529Z"
   },
   {
    "duration": 36,
    "start_time": "2021-12-29T14:58:42.832Z"
   },
   {
    "duration": 707,
    "start_time": "2021-12-30T15:11:59.378Z"
   },
   {
    "duration": 26,
    "start_time": "2021-12-30T15:12:00.087Z"
   },
   {
    "duration": 21,
    "start_time": "2021-12-30T15:12:00.116Z"
   },
   {
    "duration": 166,
    "start_time": "2021-12-30T15:12:00.140Z"
   },
   {
    "duration": 1262,
    "start_time": "2021-12-30T15:12:00.308Z"
   },
   {
    "duration": 23,
    "start_time": "2021-12-30T15:12:01.572Z"
   },
   {
    "duration": 67,
    "start_time": "2021-12-30T15:12:01.597Z"
   },
   {
    "duration": 4349,
    "start_time": "2021-12-30T15:12:01.691Z"
   },
   {
    "duration": 4652,
    "start_time": "2021-12-30T15:12:06.042Z"
   },
   {
    "duration": 3226,
    "start_time": "2021-12-30T15:12:10.696Z"
   },
   {
    "duration": 31,
    "start_time": "2021-12-30T15:12:13.924Z"
   },
   {
    "duration": 44,
    "start_time": "2021-12-30T15:12:13.957Z"
   },
   {
    "duration": 447,
    "start_time": "2021-12-30T15:12:14.004Z"
   },
   {
    "duration": 19,
    "start_time": "2021-12-30T15:12:14.453Z"
   },
   {
    "duration": 46,
    "start_time": "2021-12-30T15:12:14.473Z"
   },
   {
    "duration": 18,
    "start_time": "2021-12-30T15:12:14.521Z"
   },
   {
    "duration": 6,
    "start_time": "2021-12-30T15:12:14.541Z"
   },
   {
    "duration": 49,
    "start_time": "2021-12-30T15:12:14.549Z"
   },
   {
    "duration": 353,
    "start_time": "2022-01-08T10:15:11.769Z"
   },
   {
    "duration": 749,
    "start_time": "2022-01-08T10:15:16.269Z"
   },
   {
    "duration": 88,
    "start_time": "2022-01-08T10:15:19.092Z"
   },
   {
    "duration": 15,
    "start_time": "2022-01-08T10:15:40.254Z"
   },
   {
    "duration": 78,
    "start_time": "2022-01-08T10:17:51.154Z"
   },
   {
    "duration": 116,
    "start_time": "2022-01-08T11:30:03.547Z"
   },
   {
    "duration": 8,
    "start_time": "2022-01-08T12:29:40.209Z"
   },
   {
    "duration": 6,
    "start_time": "2022-01-08T12:29:50.005Z"
   },
   {
    "duration": 5,
    "start_time": "2022-01-08T12:36:25.954Z"
   },
   {
    "duration": 13,
    "start_time": "2022-01-08T12:36:34.198Z"
   },
   {
    "duration": 16,
    "start_time": "2022-01-08T13:04:50.980Z"
   },
   {
    "duration": 767,
    "start_time": "2022-01-08T13:05:22.327Z"
   },
   {
    "duration": 98,
    "start_time": "2022-01-08T13:05:23.097Z"
   },
   {
    "duration": 16,
    "start_time": "2022-01-08T13:05:23.198Z"
   },
   {
    "duration": 65,
    "start_time": "2022-01-08T13:05:23.217Z"
   },
   {
    "duration": 19,
    "start_time": "2022-01-08T13:05:23.286Z"
   },
   {
    "duration": 8,
    "start_time": "2022-01-08T13:05:23.307Z"
   },
   {
    "duration": 5,
    "start_time": "2022-01-08T13:05:23.317Z"
   },
   {
    "duration": 23,
    "start_time": "2022-01-08T13:05:23.364Z"
   },
   {
    "duration": 13,
    "start_time": "2022-01-08T13:05:23.392Z"
   },
   {
    "duration": 263,
    "start_time": "2022-01-08T13:05:23.408Z"
   },
   {
    "duration": 2689,
    "start_time": "2022-01-08T13:05:23.675Z"
   },
   {
    "duration": 20,
    "start_time": "2022-01-08T13:05:26.367Z"
   },
   {
    "duration": 131,
    "start_time": "2022-01-08T13:05:26.390Z"
   },
   {
    "duration": 5396,
    "start_time": "2022-01-08T13:05:26.523Z"
   },
   {
    "duration": 6768,
    "start_time": "2022-01-08T13:05:31.921Z"
   },
   {
    "duration": 3932,
    "start_time": "2022-01-08T13:05:38.692Z"
   },
   {
    "duration": 55,
    "start_time": "2022-01-08T13:05:42.626Z"
   },
   {
    "duration": 28,
    "start_time": "2022-01-08T13:05:42.683Z"
   },
   {
    "duration": 687,
    "start_time": "2022-01-08T13:05:42.713Z"
   },
   {
    "duration": 28,
    "start_time": "2022-01-08T13:05:43.402Z"
   },
   {
    "duration": 68,
    "start_time": "2022-01-08T13:05:43.433Z"
   },
   {
    "duration": 26,
    "start_time": "2022-01-08T13:05:43.503Z"
   },
   {
    "duration": 40,
    "start_time": "2022-01-08T13:05:43.531Z"
   },
   {
    "duration": 36,
    "start_time": "2022-01-08T13:05:43.574Z"
   },
   {
    "duration": 14,
    "start_time": "2022-01-08T13:07:39.656Z"
   },
   {
    "duration": 13,
    "start_time": "2022-01-08T13:08:18.253Z"
   },
   {
    "duration": 16,
    "start_time": "2022-01-08T13:08:40.990Z"
   },
   {
    "duration": 609,
    "start_time": "2022-01-08T13:26:35.480Z"
   },
   {
    "duration": 34,
    "start_time": "2022-01-08T13:27:03.160Z"
   },
   {
    "duration": 558,
    "start_time": "2022-01-08T13:30:25.376Z"
   },
   {
    "duration": 48,
    "start_time": "2022-01-08T13:31:18.305Z"
   },
   {
    "duration": 260,
    "start_time": "2022-01-08T13:31:40.362Z"
   },
   {
    "duration": 265,
    "start_time": "2022-01-08T13:32:00.920Z"
   },
   {
    "duration": 261,
    "start_time": "2022-01-08T13:36:11.282Z"
   },
   {
    "duration": 15,
    "start_time": "2022-01-08T13:36:20.304Z"
   },
   {
    "duration": 761,
    "start_time": "2022-01-08T13:37:33.562Z"
   },
   {
    "duration": 101,
    "start_time": "2022-01-08T13:37:36.523Z"
   },
   {
    "duration": 26,
    "start_time": "2022-01-08T13:37:43.526Z"
   },
   {
    "duration": 13,
    "start_time": "2022-01-08T13:37:49.904Z"
   },
   {
    "duration": 14,
    "start_time": "2022-01-08T13:37:57.574Z"
   },
   {
    "duration": 33,
    "start_time": "2022-01-08T13:38:00.483Z"
   },
   {
    "duration": 377,
    "start_time": "2022-01-08T13:38:43.609Z"
   },
   {
    "duration": 242,
    "start_time": "2022-01-08T13:39:42.089Z"
   },
   {
    "duration": 9,
    "start_time": "2022-01-08T13:39:51.866Z"
   },
   {
    "duration": 9,
    "start_time": "2022-01-08T13:40:26.610Z"
   },
   {
    "duration": 9,
    "start_time": "2022-01-08T13:40:47.158Z"
   },
   {
    "duration": 155,
    "start_time": "2022-01-08T14:04:36.385Z"
   },
   {
    "duration": 8,
    "start_time": "2022-01-08T14:04:48.639Z"
   },
   {
    "duration": 8,
    "start_time": "2022-01-08T14:08:30.708Z"
   },
   {
    "duration": 41,
    "start_time": "2022-01-08T14:12:53.820Z"
   },
   {
    "duration": 556,
    "start_time": "2022-01-08T14:14:29.667Z"
   },
   {
    "duration": 255,
    "start_time": "2022-01-08T14:14:42.821Z"
   },
   {
    "duration": 281,
    "start_time": "2022-01-08T14:14:54.166Z"
   },
   {
    "duration": 43,
    "start_time": "2022-01-08T14:15:30.976Z"
   },
   {
    "duration": 16,
    "start_time": "2022-01-08T14:17:51.663Z"
   },
   {
    "duration": 9,
    "start_time": "2022-01-08T14:18:35.349Z"
   },
   {
    "duration": 15,
    "start_time": "2022-01-08T14:19:38.782Z"
   },
   {
    "duration": 90,
    "start_time": "2022-01-08T14:20:17.392Z"
   },
   {
    "duration": 23,
    "start_time": "2022-01-08T14:20:40.128Z"
   },
   {
    "duration": 26,
    "start_time": "2022-01-08T14:21:19.392Z"
   },
   {
    "duration": 20,
    "start_time": "2022-01-08T14:21:36.073Z"
   },
   {
    "duration": 24,
    "start_time": "2022-01-08T14:23:21.134Z"
   },
   {
    "duration": 26,
    "start_time": "2022-01-08T14:23:46.657Z"
   },
   {
    "duration": 21,
    "start_time": "2022-01-08T14:24:17.373Z"
   },
   {
    "duration": 22,
    "start_time": "2022-01-08T14:24:46.216Z"
   },
   {
    "duration": 31,
    "start_time": "2022-01-08T14:27:39.216Z"
   },
   {
    "duration": 23,
    "start_time": "2022-01-08T14:28:48.732Z"
   },
   {
    "duration": 117,
    "start_time": "2022-01-08T14:58:13.465Z"
   },
   {
    "duration": 243,
    "start_time": "2022-01-08T14:59:20.015Z"
   },
   {
    "duration": 833,
    "start_time": "2022-01-08T15:00:24.139Z"
   },
   {
    "duration": 106,
    "start_time": "2022-01-08T15:00:24.975Z"
   },
   {
    "duration": 20,
    "start_time": "2022-01-08T15:00:25.085Z"
   },
   {
    "duration": 57,
    "start_time": "2022-01-08T15:00:25.108Z"
   },
   {
    "duration": 17,
    "start_time": "2022-01-08T15:00:25.168Z"
   },
   {
    "duration": 9,
    "start_time": "2022-01-08T15:00:25.189Z"
   },
   {
    "duration": 5,
    "start_time": "2022-01-08T15:00:25.201Z"
   },
   {
    "duration": 54,
    "start_time": "2022-01-08T15:00:25.211Z"
   },
   {
    "duration": 9,
    "start_time": "2022-01-08T15:00:25.269Z"
   },
   {
    "duration": 50,
    "start_time": "2022-01-08T15:00:25.281Z"
   },
   {
    "duration": 204,
    "start_time": "2022-01-08T15:00:25.334Z"
   },
   {
    "duration": 2251,
    "start_time": "2022-01-08T15:00:25.540Z"
   },
   {
    "duration": 22,
    "start_time": "2022-01-08T15:00:27.794Z"
   },
   {
    "duration": 150,
    "start_time": "2022-01-08T15:00:27.819Z"
   },
   {
    "duration": 6448,
    "start_time": "2022-01-08T15:00:27.972Z"
   },
   {
    "duration": 7340,
    "start_time": "2022-01-08T15:00:34.424Z"
   },
   {
    "duration": 4314,
    "start_time": "2022-01-08T15:00:41.767Z"
   },
   {
    "duration": 39,
    "start_time": "2022-01-08T15:00:46.084Z"
   },
   {
    "duration": 52,
    "start_time": "2022-01-08T15:00:46.126Z"
   },
   {
    "duration": 783,
    "start_time": "2022-01-08T15:00:46.180Z"
   },
   {
    "duration": 36,
    "start_time": "2022-01-08T15:00:46.966Z"
   },
   {
    "duration": 74,
    "start_time": "2022-01-08T15:00:47.005Z"
   },
   {
    "duration": 27,
    "start_time": "2022-01-08T15:00:47.085Z"
   },
   {
    "duration": 13,
    "start_time": "2022-01-08T15:00:47.116Z"
   },
   {
    "duration": 34,
    "start_time": "2022-01-08T15:00:47.163Z"
   },
   {
    "duration": 778,
    "start_time": "2022-01-08T15:09:33.282Z"
   },
   {
    "duration": 118,
    "start_time": "2022-01-08T15:09:34.064Z"
   },
   {
    "duration": 21,
    "start_time": "2022-01-08T15:09:34.186Z"
   },
   {
    "duration": 53,
    "start_time": "2022-01-08T15:09:34.210Z"
   },
   {
    "duration": 14,
    "start_time": "2022-01-08T15:09:34.266Z"
   },
   {
    "duration": 9,
    "start_time": "2022-01-08T15:09:34.284Z"
   },
   {
    "duration": 6,
    "start_time": "2022-01-08T15:09:34.296Z"
   },
   {
    "duration": 57,
    "start_time": "2022-01-08T15:09:34.307Z"
   },
   {
    "duration": 10,
    "start_time": "2022-01-08T15:09:34.368Z"
   },
   {
    "duration": 27,
    "start_time": "2022-01-08T15:09:34.380Z"
   },
   {
    "duration": 220,
    "start_time": "2022-01-08T15:09:34.410Z"
   },
   {
    "duration": 2153,
    "start_time": "2022-01-08T15:09:34.633Z"
   },
   {
    "duration": 21,
    "start_time": "2022-01-08T15:09:36.789Z"
   },
   {
    "duration": 13,
    "start_time": "2022-01-08T15:09:36.813Z"
   },
   {
    "duration": 42,
    "start_time": "2022-01-08T15:09:36.829Z"
   },
   {
    "duration": 10,
    "start_time": "2022-01-08T15:09:36.874Z"
   },
   {
    "duration": 10,
    "start_time": "2022-01-08T15:09:36.887Z"
   },
   {
    "duration": 92,
    "start_time": "2022-01-08T15:09:36.899Z"
   },
   {
    "duration": 209,
    "start_time": "2022-01-08T15:09:36.787Z"
   },
   {
    "duration": 207,
    "start_time": "2022-01-08T15:09:36.791Z"
   },
   {
    "duration": 205,
    "start_time": "2022-01-08T15:09:36.794Z"
   },
   {
    "duration": 204,
    "start_time": "2022-01-08T15:09:36.797Z"
   },
   {
    "duration": 198,
    "start_time": "2022-01-08T15:09:36.805Z"
   },
   {
    "duration": 197,
    "start_time": "2022-01-08T15:09:36.808Z"
   },
   {
    "duration": 196,
    "start_time": "2022-01-08T15:09:36.811Z"
   },
   {
    "duration": 195,
    "start_time": "2022-01-08T15:09:36.813Z"
   },
   {
    "duration": 190,
    "start_time": "2022-01-08T15:09:36.820Z"
   },
   {
    "duration": 187,
    "start_time": "2022-01-08T15:09:36.824Z"
   },
   {
    "duration": 186,
    "start_time": "2022-01-08T15:09:36.827Z"
   },
   {
    "duration": 185,
    "start_time": "2022-01-08T15:09:36.829Z"
   },
   {
    "duration": 185,
    "start_time": "2022-01-08T15:09:36.831Z"
   },
   {
    "duration": 183,
    "start_time": "2022-01-08T15:09:36.834Z"
   },
   {
    "duration": 183,
    "start_time": "2022-01-08T15:09:36.836Z"
   },
   {
    "duration": 182,
    "start_time": "2022-01-08T15:09:36.839Z"
   },
   {
    "duration": 175,
    "start_time": "2022-01-08T15:09:36.847Z"
   },
   {
    "duration": 175,
    "start_time": "2022-01-08T15:09:36.849Z"
   },
   {
    "duration": 174,
    "start_time": "2022-01-08T15:09:36.852Z"
   },
   {
    "duration": 12,
    "start_time": "2022-01-08T15:10:41.672Z"
   },
   {
    "duration": 7,
    "start_time": "2022-01-08T15:10:49.870Z"
   },
   {
    "duration": 6,
    "start_time": "2022-01-08T15:11:03.796Z"
   },
   {
    "duration": 7,
    "start_time": "2022-01-08T15:11:11.256Z"
   },
   {
    "duration": 7,
    "start_time": "2022-01-08T15:11:50.750Z"
   },
   {
    "duration": 34,
    "start_time": "2022-01-08T15:11:54.469Z"
   },
   {
    "duration": 32,
    "start_time": "2022-01-08T15:12:14.951Z"
   },
   {
    "duration": 36,
    "start_time": "2022-01-08T15:12:17.741Z"
   },
   {
    "duration": 5403,
    "start_time": "2022-01-08T15:33:17.541Z"
   },
   {
    "duration": 6290,
    "start_time": "2022-01-08T15:33:29.098Z"
   },
   {
    "duration": 507,
    "start_time": "2022-01-09T06:22:24.844Z"
   },
   {
    "duration": 67,
    "start_time": "2022-01-09T06:22:25.353Z"
   },
   {
    "duration": 10,
    "start_time": "2022-01-09T06:22:25.422Z"
   },
   {
    "duration": 16,
    "start_time": "2022-01-09T06:22:25.434Z"
   },
   {
    "duration": 9,
    "start_time": "2022-01-09T06:22:25.452Z"
   },
   {
    "duration": 32,
    "start_time": "2022-01-09T06:22:25.462Z"
   },
   {
    "duration": 3,
    "start_time": "2022-01-09T06:22:25.496Z"
   },
   {
    "duration": 11,
    "start_time": "2022-01-09T06:22:25.501Z"
   },
   {
    "duration": 6,
    "start_time": "2022-01-09T06:22:25.514Z"
   },
   {
    "duration": 15,
    "start_time": "2022-01-09T06:22:25.522Z"
   },
   {
    "duration": 153,
    "start_time": "2022-01-09T06:22:25.539Z"
   },
   {
    "duration": 1181,
    "start_time": "2022-01-09T06:22:25.694Z"
   },
   {
    "duration": 22,
    "start_time": "2022-01-09T06:22:26.876Z"
   },
   {
    "duration": 7,
    "start_time": "2022-01-09T06:22:26.900Z"
   },
   {
    "duration": 8,
    "start_time": "2022-01-09T06:22:26.908Z"
   },
   {
    "duration": 7,
    "start_time": "2022-01-09T06:22:26.918Z"
   },
   {
    "duration": 8,
    "start_time": "2022-01-09T06:22:26.927Z"
   },
   {
    "duration": 8,
    "start_time": "2022-01-09T06:22:26.936Z"
   },
   {
    "duration": 5,
    "start_time": "2022-01-09T06:22:26.946Z"
   },
   {
    "duration": 3,
    "start_time": "2022-01-09T06:22:26.952Z"
   },
   {
    "duration": 5,
    "start_time": "2022-01-09T06:22:26.992Z"
   },
   {
    "duration": 6,
    "start_time": "2022-01-09T06:22:26.998Z"
   },
   {
    "duration": 16,
    "start_time": "2022-01-09T06:22:27.007Z"
   },
   {
    "duration": 16,
    "start_time": "2022-01-09T06:22:27.025Z"
   },
   {
    "duration": 14,
    "start_time": "2022-01-09T06:22:27.043Z"
   },
   {
    "duration": 3762,
    "start_time": "2022-01-09T06:22:27.058Z"
   },
   {
    "duration": 4024,
    "start_time": "2022-01-09T06:22:30.822Z"
   },
   {
    "duration": 2696,
    "start_time": "2022-01-09T06:22:34.847Z"
   },
   {
    "duration": 25,
    "start_time": "2022-01-09T06:22:37.544Z"
   },
   {
    "duration": 34,
    "start_time": "2022-01-09T06:22:37.571Z"
   },
   {
    "duration": 412,
    "start_time": "2022-01-09T06:22:37.607Z"
   },
   {
    "duration": 20,
    "start_time": "2022-01-09T06:22:38.021Z"
   },
   {
    "duration": 55,
    "start_time": "2022-01-09T06:22:38.043Z"
   },
   {
    "duration": 18,
    "start_time": "2022-01-09T06:22:38.100Z"
   },
   {
    "duration": 7,
    "start_time": "2022-01-09T06:22:38.120Z"
   },
   {
    "duration": 26,
    "start_time": "2022-01-09T06:22:38.129Z"
   },
   {
    "duration": 8,
    "start_time": "2022-01-09T06:34:58.591Z"
   },
   {
    "duration": 23,
    "start_time": "2022-01-09T06:43:34.846Z"
   },
   {
    "duration": 44,
    "start_time": "2022-01-09T06:44:18.360Z"
   },
   {
    "duration": 25,
    "start_time": "2022-01-09T06:44:31.682Z"
   },
   {
    "duration": 28,
    "start_time": "2022-01-09T06:48:26.031Z"
   },
   {
    "duration": 4,
    "start_time": "2022-01-09T06:53:24.053Z"
   },
   {
    "duration": 29,
    "start_time": "2022-01-09T06:53:31.331Z"
   },
   {
    "duration": 10,
    "start_time": "2022-01-09T07:04:34.528Z"
   },
   {
    "duration": 538,
    "start_time": "2022-01-09T07:07:12.117Z"
   },
   {
    "duration": 76,
    "start_time": "2022-01-09T07:07:12.657Z"
   },
   {
    "duration": 12,
    "start_time": "2022-01-09T07:07:12.735Z"
   },
   {
    "duration": 16,
    "start_time": "2022-01-09T07:07:12.749Z"
   },
   {
    "duration": 28,
    "start_time": "2022-01-09T07:07:12.767Z"
   },
   {
    "duration": 13,
    "start_time": "2022-01-09T07:07:12.796Z"
   },
   {
    "duration": 11,
    "start_time": "2022-01-09T07:07:12.810Z"
   },
   {
    "duration": 13,
    "start_time": "2022-01-09T07:07:12.824Z"
   },
   {
    "duration": 6,
    "start_time": "2022-01-09T07:07:12.839Z"
   },
   {
    "duration": 16,
    "start_time": "2022-01-09T07:07:12.846Z"
   },
   {
    "duration": 143,
    "start_time": "2022-01-09T07:07:12.864Z"
   },
   {
    "duration": 1210,
    "start_time": "2022-01-09T07:07:13.008Z"
   },
   {
    "duration": 14,
    "start_time": "2022-01-09T07:07:14.219Z"
   },
   {
    "duration": 8,
    "start_time": "2022-01-09T07:07:14.235Z"
   },
   {
    "duration": 14,
    "start_time": "2022-01-09T07:07:14.244Z"
   },
   {
    "duration": 32,
    "start_time": "2022-01-09T07:07:14.260Z"
   },
   {
    "duration": 8,
    "start_time": "2022-01-09T07:07:14.294Z"
   },
   {
    "duration": 8,
    "start_time": "2022-01-09T07:07:14.304Z"
   },
   {
    "duration": 11,
    "start_time": "2022-01-09T07:07:14.313Z"
   },
   {
    "duration": 5,
    "start_time": "2022-01-09T07:07:14.325Z"
   },
   {
    "duration": 8,
    "start_time": "2022-01-09T07:07:14.332Z"
   },
   {
    "duration": 7,
    "start_time": "2022-01-09T07:07:14.342Z"
   },
   {
    "duration": 44,
    "start_time": "2022-01-09T07:07:14.353Z"
   },
   {
    "duration": 18,
    "start_time": "2022-01-09T07:07:14.399Z"
   },
   {
    "duration": 14,
    "start_time": "2022-01-09T07:07:14.419Z"
   },
   {
    "duration": 3737,
    "start_time": "2022-01-09T07:07:14.435Z"
   },
   {
    "duration": 3994,
    "start_time": "2022-01-09T07:07:18.174Z"
   },
   {
    "duration": 7191,
    "start_time": "2022-01-09T07:07:22.169Z"
   },
   {
    "duration": 769,
    "start_time": "2022-01-09T07:07:28.593Z"
   },
   {
    "duration": 767,
    "start_time": "2022-01-09T07:07:28.596Z"
   },
   {
    "duration": 764,
    "start_time": "2022-01-09T07:07:28.600Z"
   },
   {
    "duration": 762,
    "start_time": "2022-01-09T07:07:28.603Z"
   },
   {
    "duration": 760,
    "start_time": "2022-01-09T07:07:28.606Z"
   },
   {
    "duration": 758,
    "start_time": "2022-01-09T07:07:28.609Z"
   },
   {
    "duration": 754,
    "start_time": "2022-01-09T07:07:28.614Z"
   },
   {
    "duration": 751,
    "start_time": "2022-01-09T07:07:28.618Z"
   },
   {
    "duration": 742,
    "start_time": "2022-01-09T07:07:28.627Z"
   },
   {
    "duration": 740,
    "start_time": "2022-01-09T07:07:28.630Z"
   },
   {
    "duration": 737,
    "start_time": "2022-01-09T07:07:28.634Z"
   },
   {
    "duration": 4,
    "start_time": "2022-01-09T07:10:07.518Z"
   },
   {
    "duration": 67,
    "start_time": "2022-01-09T07:10:07.524Z"
   },
   {
    "duration": 11,
    "start_time": "2022-01-09T07:10:07.593Z"
   },
   {
    "duration": 18,
    "start_time": "2022-01-09T07:10:07.606Z"
   },
   {
    "duration": 9,
    "start_time": "2022-01-09T07:10:07.626Z"
   },
   {
    "duration": 5,
    "start_time": "2022-01-09T07:10:07.636Z"
   },
   {
    "duration": 5,
    "start_time": "2022-01-09T07:10:07.642Z"
   },
   {
    "duration": 11,
    "start_time": "2022-01-09T07:10:07.649Z"
   },
   {
    "duration": 7,
    "start_time": "2022-01-09T07:10:07.693Z"
   },
   {
    "duration": 15,
    "start_time": "2022-01-09T07:10:07.702Z"
   },
   {
    "duration": 131,
    "start_time": "2022-01-09T07:10:07.719Z"
   },
   {
    "duration": 1269,
    "start_time": "2022-01-09T07:10:07.852Z"
   },
   {
    "duration": 15,
    "start_time": "2022-01-09T07:10:09.122Z"
   },
   {
    "duration": 7,
    "start_time": "2022-01-09T07:10:09.139Z"
   },
   {
    "duration": 9,
    "start_time": "2022-01-09T07:10:09.148Z"
   },
   {
    "duration": 34,
    "start_time": "2022-01-09T07:10:09.158Z"
   },
   {
    "duration": 8,
    "start_time": "2022-01-09T07:10:09.194Z"
   },
   {
    "duration": 8,
    "start_time": "2022-01-09T07:10:09.204Z"
   },
   {
    "duration": 6,
    "start_time": "2022-01-09T07:10:09.214Z"
   },
   {
    "duration": 4,
    "start_time": "2022-01-09T07:10:09.222Z"
   },
   {
    "duration": 10,
    "start_time": "2022-01-09T07:10:09.227Z"
   },
   {
    "duration": 9,
    "start_time": "2022-01-09T07:10:09.239Z"
   },
   {
    "duration": 41,
    "start_time": "2022-01-09T07:10:09.250Z"
   },
   {
    "duration": 20,
    "start_time": "2022-01-09T07:10:09.293Z"
   },
   {
    "duration": 16,
    "start_time": "2022-01-09T07:10:09.315Z"
   },
   {
    "duration": 3961,
    "start_time": "2022-01-09T07:10:09.333Z"
   },
   {
    "duration": 3953,
    "start_time": "2022-01-09T07:10:13.298Z"
   },
   {
    "duration": 6392,
    "start_time": "2022-01-09T07:10:17.253Z"
   },
   {
    "duration": 753,
    "start_time": "2022-01-09T07:10:22.894Z"
   },
   {
    "duration": 751,
    "start_time": "2022-01-09T07:10:22.897Z"
   },
   {
    "duration": 750,
    "start_time": "2022-01-09T07:10:22.899Z"
   },
   {
    "duration": 747,
    "start_time": "2022-01-09T07:10:22.902Z"
   },
   {
    "duration": 745,
    "start_time": "2022-01-09T07:10:22.905Z"
   },
   {
    "duration": 743,
    "start_time": "2022-01-09T07:10:22.908Z"
   },
   {
    "duration": 742,
    "start_time": "2022-01-09T07:10:22.910Z"
   },
   {
    "duration": 740,
    "start_time": "2022-01-09T07:10:22.913Z"
   },
   {
    "duration": 739,
    "start_time": "2022-01-09T07:10:22.915Z"
   },
   {
    "duration": 737,
    "start_time": "2022-01-09T07:10:22.918Z"
   },
   {
    "duration": 735,
    "start_time": "2022-01-09T07:10:22.921Z"
   },
   {
    "duration": 753,
    "start_time": "2022-01-09T15:20:38.566Z"
   },
   {
    "duration": 92,
    "start_time": "2022-01-09T15:20:39.321Z"
   },
   {
    "duration": 15,
    "start_time": "2022-01-09T15:20:39.416Z"
   },
   {
    "duration": 46,
    "start_time": "2022-01-09T15:20:39.433Z"
   },
   {
    "duration": 13,
    "start_time": "2022-01-09T15:20:39.481Z"
   },
   {
    "duration": 7,
    "start_time": "2022-01-09T15:20:39.496Z"
   },
   {
    "duration": 4,
    "start_time": "2022-01-09T15:20:39.506Z"
   },
   {
    "duration": 55,
    "start_time": "2022-01-09T15:20:39.514Z"
   },
   {
    "duration": 9,
    "start_time": "2022-01-09T15:20:39.572Z"
   },
   {
    "duration": 29,
    "start_time": "2022-01-09T15:20:39.583Z"
   },
   {
    "duration": 205,
    "start_time": "2022-01-09T15:20:39.614Z"
   },
   {
    "duration": 2122,
    "start_time": "2022-01-09T15:20:39.821Z"
   },
   {
    "duration": 31,
    "start_time": "2022-01-09T15:20:41.945Z"
   },
   {
    "duration": 9,
    "start_time": "2022-01-09T15:20:41.979Z"
   },
   {
    "duration": 10,
    "start_time": "2022-01-09T15:20:41.991Z"
   },
   {
    "duration": 17,
    "start_time": "2022-01-09T15:20:42.003Z"
   },
   {
    "duration": 11,
    "start_time": "2022-01-09T15:20:42.022Z"
   },
   {
    "duration": 9,
    "start_time": "2022-01-09T15:20:42.063Z"
   },
   {
    "duration": 9,
    "start_time": "2022-01-09T15:20:42.074Z"
   },
   {
    "duration": 5,
    "start_time": "2022-01-09T15:20:42.086Z"
   },
   {
    "duration": 7,
    "start_time": "2022-01-09T15:20:42.094Z"
   },
   {
    "duration": 6,
    "start_time": "2022-01-09T15:20:42.103Z"
   },
   {
    "duration": 68,
    "start_time": "2022-01-09T15:20:42.114Z"
   },
   {
    "duration": 24,
    "start_time": "2022-01-09T15:20:42.185Z"
   },
   {
    "duration": 23,
    "start_time": "2022-01-09T15:20:42.211Z"
   },
   {
    "duration": 5207,
    "start_time": "2022-01-09T15:20:42.263Z"
   },
   {
    "duration": 6505,
    "start_time": "2022-01-09T15:20:47.473Z"
   },
   {
    "duration": 10878,
    "start_time": "2022-01-09T15:20:53.981Z"
   },
   {
    "duration": 522,
    "start_time": "2022-01-09T15:21:04.340Z"
   },
   {
    "duration": 520,
    "start_time": "2022-01-09T15:21:04.343Z"
   },
   {
    "duration": 519,
    "start_time": "2022-01-09T15:21:04.346Z"
   },
   {
    "duration": 517,
    "start_time": "2022-01-09T15:21:04.349Z"
   },
   {
    "duration": 516,
    "start_time": "2022-01-09T15:21:04.352Z"
   },
   {
    "duration": 508,
    "start_time": "2022-01-09T15:21:04.361Z"
   },
   {
    "duration": 506,
    "start_time": "2022-01-09T15:21:04.365Z"
   },
   {
    "duration": 504,
    "start_time": "2022-01-09T15:21:04.368Z"
   },
   {
    "duration": 503,
    "start_time": "2022-01-09T15:21:04.371Z"
   },
   {
    "duration": 502,
    "start_time": "2022-01-09T15:21:04.374Z"
   },
   {
    "duration": 501,
    "start_time": "2022-01-09T15:21:04.376Z"
   },
   {
    "duration": 736,
    "start_time": "2022-01-09T15:35:30.491Z"
   },
   {
    "duration": 96,
    "start_time": "2022-01-09T15:35:31.230Z"
   },
   {
    "duration": 31,
    "start_time": "2022-01-09T15:35:31.333Z"
   },
   {
    "duration": 23,
    "start_time": "2022-01-09T15:35:31.367Z"
   },
   {
    "duration": 14,
    "start_time": "2022-01-09T15:35:31.393Z"
   },
   {
    "duration": 7,
    "start_time": "2022-01-09T15:35:31.410Z"
   },
   {
    "duration": 47,
    "start_time": "2022-01-09T15:35:31.421Z"
   },
   {
    "duration": 24,
    "start_time": "2022-01-09T15:35:31.471Z"
   },
   {
    "duration": 28,
    "start_time": "2022-01-09T15:35:31.498Z"
   },
   {
    "duration": 39,
    "start_time": "2022-01-09T15:35:31.528Z"
   },
   {
    "duration": 207,
    "start_time": "2022-01-09T15:35:31.573Z"
   },
   {
    "duration": 2069,
    "start_time": "2022-01-09T15:35:31.783Z"
   },
   {
    "duration": 21,
    "start_time": "2022-01-09T15:35:33.862Z"
   },
   {
    "duration": 12,
    "start_time": "2022-01-09T15:35:33.886Z"
   },
   {
    "duration": 10,
    "start_time": "2022-01-09T15:35:33.901Z"
   },
   {
    "duration": 52,
    "start_time": "2022-01-09T15:35:33.914Z"
   },
   {
    "duration": 11,
    "start_time": "2022-01-09T15:35:33.969Z"
   },
   {
    "duration": 12,
    "start_time": "2022-01-09T15:35:33.983Z"
   },
   {
    "duration": 9,
    "start_time": "2022-01-09T15:35:33.998Z"
   },
   {
    "duration": 7,
    "start_time": "2022-01-09T15:35:34.010Z"
   },
   {
    "duration": 9,
    "start_time": "2022-01-09T15:35:34.064Z"
   },
   {
    "duration": 6,
    "start_time": "2022-01-09T15:35:34.080Z"
   },
   {
    "duration": 23,
    "start_time": "2022-01-09T15:35:34.089Z"
   },
   {
    "duration": 70,
    "start_time": "2022-01-09T15:35:34.115Z"
   },
   {
    "duration": 22,
    "start_time": "2022-01-09T15:35:34.188Z"
   },
   {
    "duration": 6053,
    "start_time": "2022-01-09T15:35:34.212Z"
   },
   {
    "duration": 6859,
    "start_time": "2022-01-09T15:35:40.268Z"
   },
   {
    "duration": 4001,
    "start_time": "2022-01-09T15:35:47.129Z"
   },
   {
    "duration": 13,
    "start_time": "2022-01-09T15:35:51.132Z"
   },
   {
    "duration": 45,
    "start_time": "2022-01-09T15:35:51.162Z"
   },
   {
    "duration": 6,
    "start_time": "2022-01-09T15:35:51.210Z"
   },
   {
    "duration": 76,
    "start_time": "2022-01-09T15:35:51.218Z"
   },
   {
    "duration": 790,
    "start_time": "2022-01-09T15:35:51.297Z"
   },
   {
    "duration": 137,
    "start_time": "2022-01-09T15:35:52.090Z"
   },
   {
    "duration": 544,
    "start_time": "2022-01-09T15:35:51.686Z"
   },
   {
    "duration": 542,
    "start_time": "2022-01-09T15:35:51.689Z"
   },
   {
    "duration": 537,
    "start_time": "2022-01-09T15:35:51.696Z"
   },
   {
    "duration": 536,
    "start_time": "2022-01-09T15:35:51.699Z"
   },
   {
    "duration": 535,
    "start_time": "2022-01-09T15:35:51.702Z"
   },
   {
    "duration": 859,
    "start_time": "2022-01-09T15:38:35.835Z"
   },
   {
    "duration": 107,
    "start_time": "2022-01-09T15:38:36.698Z"
   },
   {
    "duration": 17,
    "start_time": "2022-01-09T15:38:36.809Z"
   },
   {
    "duration": 52,
    "start_time": "2022-01-09T15:38:36.830Z"
   },
   {
    "duration": 17,
    "start_time": "2022-01-09T15:38:36.885Z"
   },
   {
    "duration": 11,
    "start_time": "2022-01-09T15:38:36.905Z"
   },
   {
    "duration": 6,
    "start_time": "2022-01-09T15:38:36.919Z"
   },
   {
    "duration": 20,
    "start_time": "2022-01-09T15:38:36.967Z"
   },
   {
    "duration": 12,
    "start_time": "2022-01-09T15:38:36.991Z"
   },
   {
    "duration": 63,
    "start_time": "2022-01-09T15:38:37.007Z"
   },
   {
    "duration": 262,
    "start_time": "2022-01-09T15:38:37.074Z"
   },
   {
    "duration": 3077,
    "start_time": "2022-01-09T15:38:37.339Z"
   },
   {
    "duration": 23,
    "start_time": "2022-01-09T15:38:40.420Z"
   },
   {
    "duration": 12,
    "start_time": "2022-01-09T15:38:40.462Z"
   },
   {
    "duration": 9,
    "start_time": "2022-01-09T15:38:40.478Z"
   },
   {
    "duration": 11,
    "start_time": "2022-01-09T15:38:40.491Z"
   },
   {
    "duration": 10,
    "start_time": "2022-01-09T15:38:40.505Z"
   },
   {
    "duration": 54,
    "start_time": "2022-01-09T15:38:40.518Z"
   },
   {
    "duration": 8,
    "start_time": "2022-01-09T15:38:40.574Z"
   },
   {
    "duration": 6,
    "start_time": "2022-01-09T15:38:40.585Z"
   },
   {
    "duration": 7,
    "start_time": "2022-01-09T15:38:40.594Z"
   },
   {
    "duration": 65,
    "start_time": "2022-01-09T15:38:40.604Z"
   },
   {
    "duration": 31,
    "start_time": "2022-01-09T15:38:40.676Z"
   },
   {
    "duration": 65,
    "start_time": "2022-01-09T15:38:40.711Z"
   },
   {
    "duration": 28,
    "start_time": "2022-01-09T15:38:40.779Z"
   },
   {
    "duration": 7428,
    "start_time": "2022-01-09T15:38:40.810Z"
   },
   {
    "duration": 8622,
    "start_time": "2022-01-09T15:38:48.241Z"
   },
   {
    "duration": 5227,
    "start_time": "2022-01-09T15:38:56.866Z"
   },
   {
    "duration": 13,
    "start_time": "2022-01-09T15:39:02.096Z"
   },
   {
    "duration": 79,
    "start_time": "2022-01-09T15:39:02.111Z"
   },
   {
    "duration": 6,
    "start_time": "2022-01-09T15:39:02.193Z"
   },
   {
    "duration": 71,
    "start_time": "2022-01-09T15:39:02.203Z"
   },
   {
    "duration": 770,
    "start_time": "2022-01-09T15:39:02.278Z"
   },
   {
    "duration": 20,
    "start_time": "2022-01-09T15:39:03.051Z"
   },
   {
    "duration": 29,
    "start_time": "2022-01-09T15:39:03.074Z"
   },
   {
    "duration": 87,
    "start_time": "2022-01-09T15:39:03.106Z"
   },
   {
    "duration": 35,
    "start_time": "2022-01-09T15:39:03.195Z"
   },
   {
    "duration": 72,
    "start_time": "2022-01-09T15:39:03.233Z"
   },
   {
    "duration": 919,
    "start_time": "2022-01-09T15:54:04.215Z"
   },
   {
    "duration": 136,
    "start_time": "2022-01-09T15:54:05.137Z"
   },
   {
    "duration": 23,
    "start_time": "2022-01-09T15:54:05.278Z"
   },
   {
    "duration": 60,
    "start_time": "2022-01-09T15:54:05.304Z"
   },
   {
    "duration": 20,
    "start_time": "2022-01-09T15:54:05.367Z"
   },
   {
    "duration": 8,
    "start_time": "2022-01-09T15:54:05.390Z"
   },
   {
    "duration": 5,
    "start_time": "2022-01-09T15:54:05.402Z"
   },
   {
    "duration": 55,
    "start_time": "2022-01-09T15:54:05.410Z"
   },
   {
    "duration": 9,
    "start_time": "2022-01-09T15:54:05.468Z"
   },
   {
    "duration": 26,
    "start_time": "2022-01-09T15:54:05.480Z"
   },
   {
    "duration": 261,
    "start_time": "2022-01-09T15:54:05.508Z"
   },
   {
    "duration": 2499,
    "start_time": "2022-01-09T15:54:05.772Z"
   },
   {
    "duration": 22,
    "start_time": "2022-01-09T15:54:08.273Z"
   },
   {
    "duration": 10,
    "start_time": "2022-01-09T15:54:08.298Z"
   },
   {
    "duration": 11,
    "start_time": "2022-01-09T15:54:08.311Z"
   },
   {
    "duration": 9,
    "start_time": "2022-01-09T15:54:08.364Z"
   },
   {
    "duration": 9,
    "start_time": "2022-01-09T15:54:08.376Z"
   },
   {
    "duration": 14,
    "start_time": "2022-01-09T15:54:08.388Z"
   },
   {
    "duration": 8,
    "start_time": "2022-01-09T15:54:08.406Z"
   },
   {
    "duration": 8,
    "start_time": "2022-01-09T15:54:08.464Z"
   },
   {
    "duration": 7,
    "start_time": "2022-01-09T15:54:08.475Z"
   },
   {
    "duration": 6,
    "start_time": "2022-01-09T15:54:08.485Z"
   },
   {
    "duration": 70,
    "start_time": "2022-01-09T15:54:08.498Z"
   },
   {
    "duration": 30,
    "start_time": "2022-01-09T15:54:08.572Z"
   },
   {
    "duration": 23,
    "start_time": "2022-01-09T15:54:08.605Z"
   },
   {
    "duration": 7799,
    "start_time": "2022-01-09T15:54:08.630Z"
   },
   {
    "duration": 8195,
    "start_time": "2022-01-09T15:54:16.433Z"
   },
   {
    "duration": 4619,
    "start_time": "2022-01-09T15:54:24.630Z"
   },
   {
    "duration": 22,
    "start_time": "2022-01-09T15:54:29.252Z"
   },
   {
    "duration": 86,
    "start_time": "2022-01-09T15:54:29.277Z"
   },
   {
    "duration": 6,
    "start_time": "2022-01-09T15:54:29.366Z"
   },
   {
    "duration": 31,
    "start_time": "2022-01-09T15:54:29.374Z"
   },
   {
    "duration": 748,
    "start_time": "2022-01-09T15:54:29.409Z"
   },
   {
    "duration": 12,
    "start_time": "2022-01-09T15:54:30.162Z"
   },
   {
    "duration": 24,
    "start_time": "2022-01-09T15:54:30.176Z"
   },
   {
    "duration": 83,
    "start_time": "2022-01-09T15:54:30.203Z"
   },
   {
    "duration": 32,
    "start_time": "2022-01-09T15:54:30.289Z"
   },
   {
    "duration": 67,
    "start_time": "2022-01-09T15:54:30.324Z"
   }
  ],
  "kernelspec": {
   "display_name": "Python 3",
   "language": "python",
   "name": "python3"
  },
  "language_info": {
   "codemirror_mode": {
    "name": "ipython",
    "version": 3
   },
   "file_extension": ".py",
   "mimetype": "text/x-python",
   "name": "python",
   "nbconvert_exporter": "python",
   "pygments_lexer": "ipython3",
   "version": "3.8.8"
  },
  "toc": {
   "base_numbering": 1,
   "nav_menu": {},
   "number_sections": true,
   "sideBar": true,
   "skip_h1_title": true,
   "title_cell": "Table of Contents",
   "title_sidebar": "Contents",
   "toc_cell": false,
   "toc_position": {},
   "toc_section_display": true,
   "toc_window_display": false
  }
 },
 "nbformat": 4,
 "nbformat_minor": 2
}
