{
 "cells": [
  {
   "cell_type": "markdown",
   "metadata": {},
   "source": [
    "# Определение наиболее выгодного региона нефтедобычи."
   ]
  },
  {
   "cell_type": "markdown",
   "metadata": {},
   "source": [
    "## Описание проекта\n",
    "\n",
    "Вам предоставлены пробы нефти в трёх регионах. Характеристики для каждой скважины в регионе уже известны. Постройте модель для определения региона, где добыча принесёт наибольшую прибыль.\n",
    "\n",
    "**Цель исследования:** \n",
    "На основе данных геологи разведки выбрать район добычи нефти.\n"
   ]
  },
  {
   "cell_type": "markdown",
   "metadata": {},
   "source": [
    "## Загрузка и подготовка данных"
   ]
  },
  {
   "cell_type": "markdown",
   "metadata": {},
   "source": [
    "### Импортируем библиотеки, которые будем использовать в дальнейшем."
   ]
  },
  {
   "cell_type": "code",
   "execution_count": 1,
   "metadata": {},
   "outputs": [],
   "source": [
    "import pandas as pd\n",
    "from sklearn.model_selection import train_test_split\n",
    "from sklearn.linear_model import LinearRegression\n",
    "from sklearn.metrics import mean_squared_error\n",
    "from scipy import stats as st\n",
    "import numpy as np"
   ]
  },
  {
   "cell_type": "markdown",
   "metadata": {},
   "source": [
    "### Загружаем данные"
   ]
  },
  {
   "cell_type": "code",
   "execution_count": 2,
   "metadata": {},
   "outputs": [],
   "source": [
    "df_0 = pd.read_csv('/datasets/geo_data_0.csv')\n",
    "df_1 = pd.read_csv('/datasets/geo_data_1.csv')\n",
    "df_2 = pd.read_csv('/datasets/geo_data_2.csv')\n",
    "\n",
    "df_list = [df_0, df_1, df_2]"
   ]
  },
  {
   "cell_type": "markdown",
   "metadata": {},
   "source": [
    "### id надо исключать так как при обучении, он никакой значимости не несет для прогноза. "
   ]
  },
  {
   "cell_type": "code",
   "execution_count": 3,
   "metadata": {},
   "outputs": [],
   "source": [
    "for i in range(len(df_list)):\n",
    "    df_list[i] = df_list[i].drop(['id'], axis=1)"
   ]
  },
  {
   "cell_type": "markdown",
   "metadata": {},
   "source": [
    "### Смотрим что получилось.\n"
   ]
  },
  {
   "cell_type": "code",
   "execution_count": 4,
   "metadata": {},
   "outputs": [
    {
     "data": {
      "text/html": [
       "<div>\n",
       "<style scoped>\n",
       "    .dataframe tbody tr th:only-of-type {\n",
       "        vertical-align: middle;\n",
       "    }\n",
       "\n",
       "    .dataframe tbody tr th {\n",
       "        vertical-align: top;\n",
       "    }\n",
       "\n",
       "    .dataframe thead th {\n",
       "        text-align: right;\n",
       "    }\n",
       "</style>\n",
       "<table border=\"1\" class=\"dataframe\">\n",
       "  <thead>\n",
       "    <tr style=\"text-align: right;\">\n",
       "      <th></th>\n",
       "      <th>f0</th>\n",
       "      <th>f1</th>\n",
       "      <th>f2</th>\n",
       "      <th>product</th>\n",
       "    </tr>\n",
       "  </thead>\n",
       "  <tbody>\n",
       "    <tr>\n",
       "      <th>0</th>\n",
       "      <td>-1.146987</td>\n",
       "      <td>0.963328</td>\n",
       "      <td>-0.828965</td>\n",
       "      <td>27.758673</td>\n",
       "    </tr>\n",
       "    <tr>\n",
       "      <th>1</th>\n",
       "      <td>0.262778</td>\n",
       "      <td>0.269839</td>\n",
       "      <td>-2.530187</td>\n",
       "      <td>56.069697</td>\n",
       "    </tr>\n",
       "    <tr>\n",
       "      <th>2</th>\n",
       "      <td>0.194587</td>\n",
       "      <td>0.289035</td>\n",
       "      <td>-5.586433</td>\n",
       "      <td>62.871910</td>\n",
       "    </tr>\n",
       "    <tr>\n",
       "      <th>3</th>\n",
       "      <td>2.236060</td>\n",
       "      <td>-0.553760</td>\n",
       "      <td>0.930038</td>\n",
       "      <td>114.572842</td>\n",
       "    </tr>\n",
       "    <tr>\n",
       "      <th>4</th>\n",
       "      <td>-0.515993</td>\n",
       "      <td>1.716266</td>\n",
       "      <td>5.899011</td>\n",
       "      <td>149.600746</td>\n",
       "    </tr>\n",
       "    <tr>\n",
       "      <th>...</th>\n",
       "      <td>...</td>\n",
       "      <td>...</td>\n",
       "      <td>...</td>\n",
       "      <td>...</td>\n",
       "    </tr>\n",
       "    <tr>\n",
       "      <th>99995</th>\n",
       "      <td>-1.777037</td>\n",
       "      <td>1.125220</td>\n",
       "      <td>6.263374</td>\n",
       "      <td>172.327046</td>\n",
       "    </tr>\n",
       "    <tr>\n",
       "      <th>99996</th>\n",
       "      <td>-1.261523</td>\n",
       "      <td>-0.894828</td>\n",
       "      <td>2.524545</td>\n",
       "      <td>138.748846</td>\n",
       "    </tr>\n",
       "    <tr>\n",
       "      <th>99997</th>\n",
       "      <td>-1.199934</td>\n",
       "      <td>-2.957637</td>\n",
       "      <td>5.219411</td>\n",
       "      <td>157.080080</td>\n",
       "    </tr>\n",
       "    <tr>\n",
       "      <th>99998</th>\n",
       "      <td>-2.419896</td>\n",
       "      <td>2.417221</td>\n",
       "      <td>-5.548444</td>\n",
       "      <td>51.795253</td>\n",
       "    </tr>\n",
       "    <tr>\n",
       "      <th>99999</th>\n",
       "      <td>-2.551421</td>\n",
       "      <td>-2.025625</td>\n",
       "      <td>6.090891</td>\n",
       "      <td>102.775767</td>\n",
       "    </tr>\n",
       "  </tbody>\n",
       "</table>\n",
       "<p>100000 rows × 4 columns</p>\n",
       "</div>"
      ],
      "text/plain": [
       "             f0        f1        f2     product\n",
       "0     -1.146987  0.963328 -0.828965   27.758673\n",
       "1      0.262778  0.269839 -2.530187   56.069697\n",
       "2      0.194587  0.289035 -5.586433   62.871910\n",
       "3      2.236060 -0.553760  0.930038  114.572842\n",
       "4     -0.515993  1.716266  5.899011  149.600746\n",
       "...         ...       ...       ...         ...\n",
       "99995 -1.777037  1.125220  6.263374  172.327046\n",
       "99996 -1.261523 -0.894828  2.524545  138.748846\n",
       "99997 -1.199934 -2.957637  5.219411  157.080080\n",
       "99998 -2.419896  2.417221 -5.548444   51.795253\n",
       "99999 -2.551421 -2.025625  6.090891  102.775767\n",
       "\n",
       "[100000 rows x 4 columns]"
      ]
     },
     "metadata": {},
     "output_type": "display_data"
    }
   ],
   "source": [
    "display(df_list[i])"
   ]
  },
  {
   "cell_type": "markdown",
   "metadata": {},
   "source": [
    "## Обучение и проверка модели"
   ]
  },
  {
   "cell_type": "markdown",
   "metadata": {},
   "source": [
    "### Готовим функцию для разделения базы на выборки.\n"
   ]
  },
  {
   "cell_type": "code",
   "execution_count": 5,
   "metadata": {},
   "outputs": [],
   "source": [
    "def create_objects(df):\n",
    "\n",
    "    df_train, df_valid = train_test_split(df, test_size=0.25, random_state=12345)\n",
    "\n",
    "    features_train = df_train.drop(['product'], axis=1)\n",
    "    target_train = df_train['product']\n",
    "    features_valid = df_valid.drop(['product'], axis=1)\n",
    "    target_valid = df_valid['product']\n",
    "    return (features_train, target_train, features_valid, target_valid)"
   ]
  },
  {
   "cell_type": "markdown",
   "metadata": {},
   "source": [
    "### Делим базу\n"
   ]
  },
  {
   "cell_type": "code",
   "execution_count": 6,
   "metadata": {},
   "outputs": [],
   "source": [
    "features_train_list = []\n",
    "target_train_list = []\n",
    "features_valid_list = []\n",
    "target_valid_list = []\n",
    "\n",
    "for i in range(len(df_list)):\n",
    "    features_train, target_train, features_valid, target_valid = create_objects(df_list[i])\n",
    "    features_train_list.append(features_train)\n",
    "    target_train_list.append(target_train)\n",
    "    features_valid_list.append(features_valid)\n",
    "    target_valid_list.append(target_valid)"
   ]
  },
  {
   "cell_type": "markdown",
   "metadata": {},
   "source": [
    "### Проверяем результат\n"
   ]
  },
  {
   "cell_type": "code",
   "execution_count": 7,
   "metadata": {},
   "outputs": [
    {
     "name": "stdout",
     "output_type": "stream",
     "text": [
      "Регион № 0\n",
      "features_train имеет размерность: (75000, 3)\n",
      "target_train имеет размерность: (75000,)\n",
      "features_valid имеет размерность: (25000, 3)\n",
      "target_valid имеет размерность: (25000,)\n",
      "\n",
      "Регион № 1\n",
      "features_train имеет размерность: (75000, 3)\n",
      "target_train имеет размерность: (75000,)\n",
      "features_valid имеет размерность: (25000, 3)\n",
      "target_valid имеет размерность: (25000,)\n",
      "\n",
      "Регион № 2\n",
      "features_train имеет размерность: (75000, 3)\n",
      "target_train имеет размерность: (75000,)\n",
      "features_valid имеет размерность: (25000, 3)\n",
      "target_valid имеет размерность: (25000,)\n",
      "\n"
     ]
    }
   ],
   "source": [
    "for i in range(len(df_list)):\n",
    "    print ('Регион №', i)\n",
    "    print ('features_train имеет размерность:', features_train_list[i].shape)\n",
    "    print ('target_train имеет размерность:', target_train_list[i].shape)\n",
    "    print ('features_valid имеет размерность:', features_valid_list[i].shape)\n",
    "    print ('target_valid имеет размерность:', target_valid_list[i].shape)\n",
    "    print ()"
   ]
  },
  {
   "cell_type": "markdown",
   "metadata": {},
   "source": [
    "### Учим модель\n"
   ]
  },
  {
   "cell_type": "code",
   "execution_count": 8,
   "metadata": {},
   "outputs": [
    {
     "name": "stdout",
     "output_type": "stream",
     "text": [
      "Регион № 0\n",
      "RMSE = 37.5794217150813\n",
      "Средний запас предсказанного сырья 92.59256778438035\n",
      "\n",
      "Регион № 1\n",
      "RMSE = 0.893099286775617\n",
      "Средний запас предсказанного сырья 68.728546895446\n",
      "\n",
      "Регион № 2\n",
      "RMSE = 40.02970873393434\n",
      "Средний запас предсказанного сырья 94.96504596800489\n",
      "\n"
     ]
    }
   ],
   "source": [
    "predictions_valid_list = []\n",
    "for i in range(len(df_list)):\n",
    "    model = LinearRegression()\n",
    "    model.fit(features_train_list[i], target_train_list[i])\n",
    "    predictions_valid = model.predict(features_valid_list[i])\n",
    "    predictions_valid_list.append(predictions_valid)\n",
    "    mse = mean_squared_error(target_valid_list[i], predictions_valid)\n",
    "\n",
    "    print ('Регион №', i)\n",
    "    print(\"RMSE =\", mse ** 0.5)\n",
    "    print(\"Средний запас предсказанного сырья\", predictions_valid.mean())\n",
    "    print ()"
   ]
  },
  {
   "cell_type": "markdown",
   "metadata": {},
   "source": [
    "### Вывод.\n",
    "Модель региона №1 более точная, но нефти больше в регионе №2\n"
   ]
  },
  {
   "cell_type": "markdown",
   "metadata": {},
   "source": [
    "## Подготовка к расчёту прибыли"
   ]
  },
  {
   "cell_type": "markdown",
   "metadata": {},
   "source": [
    "### Задаем переменные. Считаем объём сырья для безубыточной разработки.\n"
   ]
  },
  {
   "cell_type": "code",
   "execution_count": 9,
   "metadata": {},
   "outputs": [
    {
     "name": "stdout",
     "output_type": "stream",
     "text": [
      "Объём сырья для безубыточной разработки новой скважины составляет: 111 тыс. баррелей\n"
     ]
    }
   ],
   "source": [
    "NUMBER_OF_WELLS = 200\n",
    "PRICE = 450000\n",
    "BUDGET = 10000000000\n",
    "BREAK_EVEN_POINT = (BUDGET/NUMBER_OF_WELLS)/PRICE\n",
    "\n",
    "print(\"Объём сырья для безубыточной разработки новой скважины составляет:\",  round(BREAK_EVEN_POINT), 'тыс. баррелей')\n"
   ]
  },
  {
   "cell_type": "markdown",
   "metadata": {},
   "source": [
    "#### Вывод.\n",
    "Средний запас сырья полученный на предыдущем шаге меньше точки безубыточности. Все скважины разрабатывать не стоит. Нужно выбрать лучшие."
   ]
  },
  {
   "cell_type": "markdown",
   "metadata": {},
   "source": [
    "### Готовим функцию для расчета прибыли\n"
   ]
  },
  {
   "cell_type": "code",
   "execution_count": 10,
   "metadata": {},
   "outputs": [],
   "source": [
    "def profit_calculation(predictions_valid, target_valid, count, PRICE):\n",
    "    predictions_valid = pd.Series(predictions_valid)\n",
    "    target_valid.reset_index(drop=True, inplace=True)\n",
    "    predictions_valid_sort = predictions_valid.sort_values(axis=0, ascending=False)\n",
    "    volume = (target_valid[predictions_valid_sort.index][:count].sum())*PRICE\n",
    "    return (volume)\n",
    "    "
   ]
  },
  {
   "cell_type": "markdown",
   "metadata": {},
   "source": [
    "### Считаем прибыль\n"
   ]
  },
  {
   "cell_type": "code",
   "execution_count": 11,
   "metadata": {},
   "outputs": [
    {
     "name": "stdout",
     "output_type": "stream",
     "text": [
      "Регион № 0\n",
      "Прибыль для 200 лучших по прогнозу скважин составит: 13321 млн. руб.\n",
      "\n",
      "Регион № 1\n",
      "Прибыль для 200 лучших по прогнозу скважин составит: 12415 млн. руб.\n",
      "\n",
      "Регион № 2\n",
      "Прибыль для 200 лучших по прогнозу скважин составит: 12710 млн. руб.\n",
      "\n"
     ]
    }
   ],
   "source": [
    "for i in range(len(df_list)):\n",
    "    temp = profit_calculation(predictions_valid_list[i], target_valid_list[i], NUMBER_OF_WELLS, PRICE)\n",
    "    print ('Регион №', i)\n",
    "    print(\"Прибыль для 200 лучших по прогнозу скважин составит:\", round(temp/1000000), 'млн. руб.')\n",
    "    print ()"
   ]
  },
  {
   "cell_type": "markdown",
   "metadata": {},
   "source": [
    "### Вывод:\n",
    "По данному сравнению самым прибыльным оказался регион №0\n"
   ]
  },
  {
   "cell_type": "markdown",
   "metadata": {},
   "source": [
    "## Расчёт прибыли и рисков "
   ]
  },
  {
   "cell_type": "markdown",
   "metadata": {},
   "source": [
    "### Корректируем функцию для расчета прибыли для корректной работы в процедуре Bootstrap.\n"
   ]
  },
  {
   "cell_type": "code",
   "execution_count": 12,
   "metadata": {},
   "outputs": [],
   "source": [
    "def profit_calculation_BUDGET (predictions_valid, target_valid, count, PRICE):\n",
    "    #predictions_valid = pd.Series(predictions_valid)\n",
    "    #target_valid.reset_index(drop=True, inplace=True)\n",
    "    predictions_valid_sort = predictions_valid.sort_values(axis=0, ascending=False)\n",
    "    volume = ((target_valid[predictions_valid_sort.index][:count].sum())*PRICE) - BUDGET\n",
    "    return (volume)"
   ]
  },
  {
   "cell_type": "markdown",
   "metadata": {},
   "source": [
    "### Функция для процедуры Bootstrap.\n"
   ]
  },
  {
   "cell_type": "code",
   "execution_count": 13,
   "metadata": {},
   "outputs": [],
   "source": [
    "def bootstrap_test (predictions_valid, target_valid, count, PRICE):\n",
    "    state = np.random.RandomState(12345)\n",
    "    predictions_valid = pd.Series(predictions_valid)\n",
    "    target_valid.reset_index(drop=True, inplace=True)\n",
    "    values = []\n",
    "    for i in range(1000):\n",
    "        predictions_valid_subsample = predictions_valid.sample(n = 500, replace=True, random_state=state)\n",
    "        target_valid_subsample = target_valid[predictions_valid_subsample.index]\n",
    "        predictions_subsample_sort = predictions_valid_subsample.sort_values(axis=0, ascending=False)\n",
    "        balans = ((target_valid_subsample[predictions_subsample_sort.index][:count].sum())*PRICE) - BUDGET\n",
    "        values.append(balans)\n",
    "    values = pd.Series(values)\n",
    "    risk_of_losses = ((values < 0).mean())*100\n",
    "    average_profit = values.mean()\n",
    "    lower = values.quantile(0.025)\n",
    "    upper = values.quantile(0.975)\n",
    "    return (average_profit, lower, upper, risk_of_losses)\n"
   ]
  },
  {
   "cell_type": "markdown",
   "metadata": {},
   "source": [
    "### Анализируем в цикле все регионы.\n"
   ]
  },
  {
   "cell_type": "code",
   "execution_count": 14,
   "metadata": {},
   "outputs": [
    {
     "name": "stdout",
     "output_type": "stream",
     "text": [
      "Регион № 0\n",
      "Средняя прибыль составляет: 426 млн. руб.\n",
      "С вероятностью 95% прибыль будет находится в интервале от -102 до 948 млн. руб.\n",
      "Риск убытков составляет: 6.0 %\n",
      "\n",
      "Регион № 1\n",
      "Средняя прибыль составляет: 515 млн. руб.\n",
      "С вероятностью 95% прибыль будет находится в интервале от 69 до 932 млн. руб.\n",
      "Риск убытков составляет: 1.0 %\n",
      "\n",
      "Регион № 2\n",
      "Средняя прибыль составляет: 435 млн. руб.\n",
      "С вероятностью 95% прибыль будет находится в интервале от -129 до 970 млн. руб.\n",
      "Риск убытков составляет: 6.4 %\n",
      "\n"
     ]
    }
   ],
   "source": [
    "for i in range(len(df_list)):\n",
    "\n",
    "    average_profit, lower, upper, risk_of_losses = bootstrap_test(predictions_valid_list[i], \n",
    "                                                                  target_valid_list[i], NUMBER_OF_WELLS, PRICE)\n",
    "\n",
    "    print ('Регион №', i)\n",
    "    print('Средняя прибыль составляет:', round(average_profit/1000000), 'млн. руб.')\n",
    "    print ('С вероятностью 95% прибыль будет находится в интервале от', round(lower/1000000), \n",
    "           'до', round(upper/1000000), 'млн. руб.')\n",
    "    print('Риск убытков составляет:', risk_of_losses, '%')\n",
    "    print ()\n"
   ]
  },
  {
   "cell_type": "markdown",
   "metadata": {},
   "source": [
    "### Вывод:\n",
    "Только регион №1 советует требованию что вероятность убытков должна быть меньше 2.5%.\n"
   ]
  },
  {
   "cell_type": "markdown",
   "metadata": {},
   "source": [
    "## Общий вывод:\n",
    "Предлагаем рассмотреть к разработке регион №1 так как он удовлетворяет заданному условию, а именно: вероятность убытков составляет 1.0%, что меньше порогового значения в 2.5%.\n"
   ]
  }
 ],
 "metadata": {
  "ExecuteTimeLog": [
   {
    "duration": 522,
    "start_time": "2022-03-27T10:32:49.532Z"
   },
   {
    "duration": 393,
    "start_time": "2022-03-27T10:32:52.226Z"
   },
   {
    "duration": 26,
    "start_time": "2022-03-27T10:32:55.268Z"
   },
   {
    "duration": 18,
    "start_time": "2022-03-27T10:32:57.911Z"
   },
   {
    "duration": 18,
    "start_time": "2022-03-27T10:33:00.618Z"
   },
   {
    "duration": 416,
    "start_time": "2022-03-27T10:33:47.420Z"
   },
   {
    "duration": 20,
    "start_time": "2022-03-27T10:33:51.094Z"
   },
   {
    "duration": 17,
    "start_time": "2022-03-27T10:33:53.573Z"
   },
   {
    "duration": 17,
    "start_time": "2022-03-27T10:33:56.463Z"
   },
   {
    "duration": 29,
    "start_time": "2022-03-27T10:35:23.852Z"
   },
   {
    "duration": 20,
    "start_time": "2022-03-27T10:35:27.064Z"
   },
   {
    "duration": 19,
    "start_time": "2022-03-27T10:35:30.302Z"
   },
   {
    "duration": 22,
    "start_time": "2022-03-27T10:38:02.679Z"
   },
   {
    "duration": 17,
    "start_time": "2022-03-27T10:38:09.776Z"
   },
   {
    "duration": 18,
    "start_time": "2022-03-27T10:38:23.973Z"
   },
   {
    "duration": 508,
    "start_time": "2022-03-27T10:41:59.452Z"
   },
   {
    "duration": 452,
    "start_time": "2022-03-27T10:41:59.963Z"
   },
   {
    "duration": 27,
    "start_time": "2022-03-27T10:42:00.417Z"
   },
   {
    "duration": 376,
    "start_time": "2022-03-27T10:45:11.729Z"
   },
   {
    "duration": 21,
    "start_time": "2022-03-27T10:45:31.699Z"
   },
   {
    "duration": 81,
    "start_time": "2022-03-27T10:46:26.859Z"
   },
   {
    "duration": 137,
    "start_time": "2022-03-27T10:48:04.449Z"
   },
   {
    "duration": 94,
    "start_time": "2022-03-27T10:48:12.458Z"
   },
   {
    "duration": 6,
    "start_time": "2022-03-27T10:48:22.886Z"
   },
   {
    "duration": 12,
    "start_time": "2022-03-27T10:48:31.499Z"
   },
   {
    "duration": 14,
    "start_time": "2022-03-27T10:48:38.074Z"
   },
   {
    "duration": 546,
    "start_time": "2022-03-30T03:52:09.456Z"
   },
   {
    "duration": 503,
    "start_time": "2022-03-30T03:52:10.005Z"
   },
   {
    "duration": 28,
    "start_time": "2022-03-30T03:52:10.510Z"
   },
   {
    "duration": 110,
    "start_time": "2022-03-30T03:52:10.540Z"
   },
   {
    "duration": 87,
    "start_time": "2022-03-30T03:52:16.835Z"
   },
   {
    "duration": 92,
    "start_time": "2022-03-30T03:52:40.275Z"
   },
   {
    "duration": 99,
    "start_time": "2022-03-30T03:52:57.055Z"
   },
   {
    "duration": 79,
    "start_time": "2022-03-30T03:55:34.855Z"
   },
   {
    "duration": 84,
    "start_time": "2022-03-30T03:55:53.985Z"
   },
   {
    "duration": 539,
    "start_time": "2022-03-30T04:18:58.363Z"
   },
   {
    "duration": 469,
    "start_time": "2022-03-30T04:18:58.904Z"
   },
   {
    "duration": 23,
    "start_time": "2022-03-30T04:18:59.375Z"
   },
   {
    "duration": 111,
    "start_time": "2022-03-30T04:18:59.401Z"
   },
   {
    "duration": 26,
    "start_time": "2022-03-30T04:19:39.840Z"
   },
   {
    "duration": 39,
    "start_time": "2022-03-30T04:19:59.590Z"
   },
   {
    "duration": 1566,
    "start_time": "2022-03-30T04:30:03.671Z"
   },
   {
    "duration": 443,
    "start_time": "2022-03-30T04:30:05.240Z"
   },
   {
    "duration": 23,
    "start_time": "2022-03-30T04:30:05.686Z"
   },
   {
    "duration": 66,
    "start_time": "2022-03-30T04:30:05.712Z"
   },
   {
    "duration": 168,
    "start_time": "2022-03-30T04:30:05.785Z"
   },
   {
    "duration": 0,
    "start_time": "2022-03-30T04:30:05.956Z"
   },
   {
    "duration": 0,
    "start_time": "2022-03-30T04:30:05.957Z"
   },
   {
    "duration": 0,
    "start_time": "2022-03-30T04:30:05.959Z"
   },
   {
    "duration": 5,
    "start_time": "2022-03-30T04:30:30.410Z"
   },
   {
    "duration": 19,
    "start_time": "2022-03-30T04:30:32.738Z"
   },
   {
    "duration": 15,
    "start_time": "2022-03-30T04:30:34.828Z"
   },
   {
    "duration": 9,
    "start_time": "2022-03-30T04:30:39.271Z"
   },
   {
    "duration": 5,
    "start_time": "2022-03-30T04:31:06.000Z"
   },
   {
    "duration": 167,
    "start_time": "2022-03-31T04:51:15.989Z"
   },
   {
    "duration": 1614,
    "start_time": "2022-03-31T16:59:59.219Z"
   },
   {
    "duration": 299,
    "start_time": "2022-03-31T17:00:01.027Z"
   },
   {
    "duration": 151,
    "start_time": "2022-03-31T17:00:22.439Z"
   },
   {
    "duration": 408,
    "start_time": "2022-03-31T17:03:06.075Z"
   },
   {
    "duration": 433,
    "start_time": "2022-03-31T17:03:22.004Z"
   },
   {
    "duration": 199,
    "start_time": "2022-03-31T17:04:31.672Z"
   },
   {
    "duration": 29,
    "start_time": "2022-03-31T17:04:47.193Z"
   },
   {
    "duration": 9,
    "start_time": "2022-03-31T17:05:21.914Z"
   },
   {
    "duration": 39,
    "start_time": "2022-03-31T17:05:30.926Z"
   },
   {
    "duration": 25,
    "start_time": "2022-03-31T17:05:51.882Z"
   },
   {
    "duration": 1479,
    "start_time": "2022-03-31T17:06:26.649Z"
   },
   {
    "duration": 452,
    "start_time": "2022-03-31T17:06:28.131Z"
   },
   {
    "duration": 12,
    "start_time": "2022-03-31T17:06:28.585Z"
   },
   {
    "duration": 65,
    "start_time": "2022-03-31T17:06:28.600Z"
   },
   {
    "duration": 5,
    "start_time": "2022-03-31T17:06:28.667Z"
   },
   {
    "duration": 30,
    "start_time": "2022-03-31T17:06:28.674Z"
   },
   {
    "duration": 16,
    "start_time": "2022-03-31T17:06:28.706Z"
   },
   {
    "duration": 5,
    "start_time": "2022-03-31T17:06:28.743Z"
   },
   {
    "duration": 157,
    "start_time": "2022-03-31T17:06:28.750Z"
   },
   {
    "duration": 147,
    "start_time": "2022-03-31T17:07:52.261Z"
   },
   {
    "duration": 20,
    "start_time": "2022-03-31T17:08:35.920Z"
   },
   {
    "duration": 33,
    "start_time": "2022-03-31T17:09:23.223Z"
   },
   {
    "duration": 20,
    "start_time": "2022-03-31T17:11:50.851Z"
   },
   {
    "duration": 12,
    "start_time": "2022-03-31T17:14:24.929Z"
   },
   {
    "duration": 24,
    "start_time": "2022-03-31T17:14:54.963Z"
   },
   {
    "duration": 21,
    "start_time": "2022-03-31T17:15:00.807Z"
   },
   {
    "duration": 21,
    "start_time": "2022-03-31T17:15:32.744Z"
   },
   {
    "duration": 457,
    "start_time": "2022-03-31T17:18:38.112Z"
   },
   {
    "duration": 29,
    "start_time": "2022-03-31T17:18:43.901Z"
   },
   {
    "duration": 18,
    "start_time": "2022-03-31T17:18:56.691Z"
   },
   {
    "duration": 443,
    "start_time": "2022-03-31T17:19:11.171Z"
   },
   {
    "duration": 28,
    "start_time": "2022-03-31T17:19:13.342Z"
   },
   {
    "duration": 24,
    "start_time": "2022-03-31T17:19:20.162Z"
   },
   {
    "duration": 45,
    "start_time": "2022-03-31T17:19:26.301Z"
   },
   {
    "duration": 23,
    "start_time": "2022-03-31T17:19:55.161Z"
   },
   {
    "duration": 42,
    "start_time": "2022-03-31T17:20:09.552Z"
   },
   {
    "duration": 18,
    "start_time": "2022-03-31T17:20:33.181Z"
   },
   {
    "duration": 18,
    "start_time": "2022-03-31T17:22:02.279Z"
   },
   {
    "duration": 404,
    "start_time": "2022-03-31T17:22:09.652Z"
   },
   {
    "duration": 42,
    "start_time": "2022-03-31T17:22:12.671Z"
   },
   {
    "duration": 12,
    "start_time": "2022-03-31T17:41:54.649Z"
   },
   {
    "duration": 202,
    "start_time": "2022-03-31T17:46:59.623Z"
   },
   {
    "duration": 6,
    "start_time": "2022-03-31T17:47:05.519Z"
   },
   {
    "duration": 11,
    "start_time": "2022-03-31T17:47:23.801Z"
   },
   {
    "duration": 11,
    "start_time": "2022-03-31T17:48:00.250Z"
   },
   {
    "duration": 6,
    "start_time": "2022-03-31T17:50:27.278Z"
   },
   {
    "duration": 5,
    "start_time": "2022-03-31T17:51:13.549Z"
   },
   {
    "duration": 13,
    "start_time": "2022-03-31T17:54:06.359Z"
   },
   {
    "duration": 11,
    "start_time": "2022-03-31T17:55:27.701Z"
   },
   {
    "duration": 1528,
    "start_time": "2022-03-31T17:55:50.498Z"
   },
   {
    "duration": 407,
    "start_time": "2022-03-31T17:55:52.028Z"
   },
   {
    "duration": 55,
    "start_time": "2022-03-31T17:55:52.437Z"
   },
   {
    "duration": 5,
    "start_time": "2022-03-31T17:55:52.494Z"
   },
   {
    "duration": 175,
    "start_time": "2022-03-31T17:55:52.501Z"
   },
   {
    "duration": 0,
    "start_time": "2022-03-31T17:55:52.679Z"
   },
   {
    "duration": 0,
    "start_time": "2022-03-31T17:55:52.680Z"
   },
   {
    "duration": 0,
    "start_time": "2022-03-31T17:55:52.682Z"
   },
   {
    "duration": 0,
    "start_time": "2022-03-31T17:55:52.684Z"
   },
   {
    "duration": 0,
    "start_time": "2022-03-31T17:55:52.686Z"
   },
   {
    "duration": 11,
    "start_time": "2022-03-31T17:56:06.592Z"
   },
   {
    "duration": 1456,
    "start_time": "2022-03-31T17:59:12.991Z"
   },
   {
    "duration": 421,
    "start_time": "2022-03-31T17:59:14.450Z"
   },
   {
    "duration": 56,
    "start_time": "2022-03-31T17:59:14.873Z"
   },
   {
    "duration": 147,
    "start_time": "2022-03-31T17:59:14.943Z"
   },
   {
    "duration": 0,
    "start_time": "2022-03-31T17:59:15.093Z"
   },
   {
    "duration": 0,
    "start_time": "2022-03-31T17:59:15.094Z"
   },
   {
    "duration": 0,
    "start_time": "2022-03-31T17:59:15.096Z"
   },
   {
    "duration": 0,
    "start_time": "2022-03-31T17:59:15.097Z"
   },
   {
    "duration": 0,
    "start_time": "2022-03-31T17:59:15.098Z"
   },
   {
    "duration": 0,
    "start_time": "2022-03-31T17:59:15.100Z"
   },
   {
    "duration": 0,
    "start_time": "2022-03-31T17:59:15.101Z"
   },
   {
    "duration": 5,
    "start_time": "2022-03-31T17:59:44.295Z"
   },
   {
    "duration": 28,
    "start_time": "2022-03-31T17:59:51.031Z"
   },
   {
    "duration": 12,
    "start_time": "2022-03-31T18:00:23.982Z"
   },
   {
    "duration": 12,
    "start_time": "2022-03-31T18:02:44.606Z"
   },
   {
    "duration": 10,
    "start_time": "2022-03-31T18:02:52.330Z"
   },
   {
    "duration": 1495,
    "start_time": "2022-03-31T18:03:44.666Z"
   },
   {
    "duration": 433,
    "start_time": "2022-03-31T18:03:46.164Z"
   },
   {
    "duration": 66,
    "start_time": "2022-03-31T18:03:46.599Z"
   },
   {
    "duration": 5,
    "start_time": "2022-03-31T18:03:46.668Z"
   },
   {
    "duration": 26,
    "start_time": "2022-03-31T18:03:46.678Z"
   },
   {
    "duration": 176,
    "start_time": "2022-03-31T18:03:46.706Z"
   },
   {
    "duration": 0,
    "start_time": "2022-03-31T18:03:46.885Z"
   },
   {
    "duration": 0,
    "start_time": "2022-03-31T18:03:46.886Z"
   },
   {
    "duration": 0,
    "start_time": "2022-03-31T18:03:46.887Z"
   },
   {
    "duration": 0,
    "start_time": "2022-03-31T18:03:46.889Z"
   },
   {
    "duration": 0,
    "start_time": "2022-03-31T18:03:46.890Z"
   },
   {
    "duration": 0,
    "start_time": "2022-03-31T18:03:46.891Z"
   },
   {
    "duration": 0,
    "start_time": "2022-03-31T18:03:46.892Z"
   },
   {
    "duration": 12,
    "start_time": "2022-03-31T18:08:50.657Z"
   },
   {
    "duration": 9,
    "start_time": "2022-04-01T04:40:09.304Z"
   },
   {
    "duration": 42,
    "start_time": "2022-04-01T04:40:33.568Z"
   },
   {
    "duration": 1170,
    "start_time": "2022-04-01T04:48:38.691Z"
   },
   {
    "duration": 857,
    "start_time": "2022-04-01T04:48:39.862Z"
   },
   {
    "duration": 49,
    "start_time": "2022-04-01T04:48:40.720Z"
   },
   {
    "duration": 3,
    "start_time": "2022-04-01T04:48:40.772Z"
   },
   {
    "duration": 31,
    "start_time": "2022-04-01T04:48:40.777Z"
   },
   {
    "duration": 108,
    "start_time": "2022-04-01T04:48:40.810Z"
   },
   {
    "duration": 0,
    "start_time": "2022-04-01T04:48:40.921Z"
   },
   {
    "duration": 0,
    "start_time": "2022-04-01T04:48:40.922Z"
   },
   {
    "duration": 1,
    "start_time": "2022-04-01T04:48:40.923Z"
   },
   {
    "duration": 0,
    "start_time": "2022-04-01T04:48:40.925Z"
   },
   {
    "duration": 0,
    "start_time": "2022-04-01T04:48:40.927Z"
   },
   {
    "duration": 0,
    "start_time": "2022-04-01T04:48:40.928Z"
   },
   {
    "duration": 0,
    "start_time": "2022-04-01T04:48:40.929Z"
   },
   {
    "duration": 3,
    "start_time": "2022-04-01T04:48:57.660Z"
   },
   {
    "duration": 13,
    "start_time": "2022-04-01T04:48:59.941Z"
   },
   {
    "duration": 38,
    "start_time": "2022-04-01T04:49:16.951Z"
   },
   {
    "duration": 1841,
    "start_time": "2022-04-01T04:49:35.270Z"
   },
   {
    "duration": 9,
    "start_time": "2022-04-01T04:50:03.111Z"
   },
   {
    "duration": 1075,
    "start_time": "2022-04-01T04:51:47.363Z"
   },
   {
    "duration": 328,
    "start_time": "2022-04-01T04:51:48.440Z"
   },
   {
    "duration": 37,
    "start_time": "2022-04-01T04:51:48.770Z"
   },
   {
    "duration": 4,
    "start_time": "2022-04-01T04:51:48.808Z"
   },
   {
    "duration": 52,
    "start_time": "2022-04-01T04:51:48.814Z"
   },
   {
    "duration": 1717,
    "start_time": "2022-04-01T04:51:48.867Z"
   },
   {
    "duration": 10,
    "start_time": "2022-04-01T04:52:09.214Z"
   },
   {
    "duration": 118,
    "start_time": "2022-04-01T05:09:18.273Z"
   },
   {
    "duration": 7,
    "start_time": "2022-04-01T05:09:41.821Z"
   },
   {
    "duration": 6,
    "start_time": "2022-04-01T05:10:12.772Z"
   },
   {
    "duration": 6,
    "start_time": "2022-04-01T05:10:19.579Z"
   },
   {
    "duration": 1587,
    "start_time": "2022-04-02T07:50:27.838Z"
   },
   {
    "duration": 436,
    "start_time": "2022-04-02T07:50:29.427Z"
   },
   {
    "duration": 63,
    "start_time": "2022-04-02T07:50:29.865Z"
   },
   {
    "duration": 5,
    "start_time": "2022-04-02T07:50:29.930Z"
   },
   {
    "duration": 76,
    "start_time": "2022-04-02T07:50:29.938Z"
   },
   {
    "duration": 10,
    "start_time": "2022-04-02T07:50:30.016Z"
   },
   {
    "duration": 8,
    "start_time": "2022-04-02T07:50:30.028Z"
   },
   {
    "duration": 165,
    "start_time": "2022-04-02T07:50:30.038Z"
   },
   {
    "duration": 109,
    "start_time": "2022-04-02T07:51:01.378Z"
   },
   {
    "duration": 401,
    "start_time": "2022-04-02T07:51:46.385Z"
   },
   {
    "duration": 422,
    "start_time": "2022-04-02T07:52:00.467Z"
   },
   {
    "duration": 6,
    "start_time": "2022-04-02T08:28:41.584Z"
   },
   {
    "duration": 6,
    "start_time": "2022-04-02T08:30:08.184Z"
   },
   {
    "duration": 5,
    "start_time": "2022-04-02T08:32:28.908Z"
   },
   {
    "duration": 5,
    "start_time": "2022-04-02T08:33:06.634Z"
   },
   {
    "duration": 6,
    "start_time": "2022-04-02T08:41:08.254Z"
   },
   {
    "duration": 11,
    "start_time": "2022-04-02T08:42:30.394Z"
   },
   {
    "duration": 15,
    "start_time": "2022-04-02T08:44:55.169Z"
   },
   {
    "duration": 12,
    "start_time": "2022-04-02T08:45:16.029Z"
   },
   {
    "duration": 14,
    "start_time": "2022-04-02T08:45:35.951Z"
   },
   {
    "duration": 14,
    "start_time": "2022-04-02T08:45:49.029Z"
   },
   {
    "duration": 11,
    "start_time": "2022-04-02T08:46:17.449Z"
   },
   {
    "duration": 12,
    "start_time": "2022-04-02T08:47:06.078Z"
   },
   {
    "duration": 10,
    "start_time": "2022-04-02T08:47:20.108Z"
   },
   {
    "duration": 29,
    "start_time": "2022-04-02T09:00:03.190Z"
   },
   {
    "duration": 28,
    "start_time": "2022-04-02T09:00:27.829Z"
   },
   {
    "duration": 28,
    "start_time": "2022-04-02T09:00:50.270Z"
   },
   {
    "duration": 12,
    "start_time": "2022-04-02T09:08:27.219Z"
   },
   {
    "duration": 12,
    "start_time": "2022-04-02T09:08:40.810Z"
   },
   {
    "duration": 23,
    "start_time": "2022-04-02T09:09:11.029Z"
   },
   {
    "duration": 24,
    "start_time": "2022-04-02T09:11:57.840Z"
   },
   {
    "duration": 26,
    "start_time": "2022-04-02T09:12:30.897Z"
   },
   {
    "duration": 26,
    "start_time": "2022-04-02T09:12:37.869Z"
   },
   {
    "duration": 13,
    "start_time": "2022-04-02T09:12:55.788Z"
   },
   {
    "duration": 14,
    "start_time": "2022-04-02T09:13:17.819Z"
   },
   {
    "duration": 15,
    "start_time": "2022-04-02T09:13:35.178Z"
   },
   {
    "duration": 9,
    "start_time": "2022-04-02T09:14:34.069Z"
   },
   {
    "duration": 9,
    "start_time": "2022-04-02T09:17:18.958Z"
   },
   {
    "duration": 13,
    "start_time": "2022-04-02T09:17:47.649Z"
   },
   {
    "duration": 14,
    "start_time": "2022-04-02T09:17:54.808Z"
   },
   {
    "duration": 15,
    "start_time": "2022-04-02T09:18:08.468Z"
   },
   {
    "duration": 15,
    "start_time": "2022-04-02T09:19:23.109Z"
   },
   {
    "duration": 14,
    "start_time": "2022-04-02T09:20:20.109Z"
   },
   {
    "duration": 16,
    "start_time": "2022-04-02T09:20:35.291Z"
   },
   {
    "duration": 15,
    "start_time": "2022-04-02T09:20:57.959Z"
   },
   {
    "duration": 15,
    "start_time": "2022-04-02T09:21:17.328Z"
   },
   {
    "duration": 15,
    "start_time": "2022-04-02T09:21:24.799Z"
   },
   {
    "duration": 14,
    "start_time": "2022-04-02T09:22:34.530Z"
   },
   {
    "duration": 14,
    "start_time": "2022-04-02T09:23:52.769Z"
   },
   {
    "duration": 5,
    "start_time": "2022-04-02T09:27:12.929Z"
   },
   {
    "duration": 12,
    "start_time": "2022-04-02T09:27:15.590Z"
   },
   {
    "duration": 5,
    "start_time": "2022-04-02T09:27:32.579Z"
   },
   {
    "duration": 10,
    "start_time": "2022-04-02T09:27:35.269Z"
   },
   {
    "duration": 5,
    "start_time": "2022-04-02T09:27:56.289Z"
   },
   {
    "duration": 11,
    "start_time": "2022-04-02T09:27:58.839Z"
   },
   {
    "duration": 5,
    "start_time": "2022-04-02T09:28:52.349Z"
   },
   {
    "duration": 13,
    "start_time": "2022-04-02T09:28:58.469Z"
   },
   {
    "duration": 5,
    "start_time": "2022-04-02T09:32:25.387Z"
   },
   {
    "duration": 26,
    "start_time": "2022-04-02T09:32:27.668Z"
   },
   {
    "duration": 1588,
    "start_time": "2022-04-02T11:27:56.152Z"
   },
   {
    "duration": 450,
    "start_time": "2022-04-02T11:27:57.742Z"
   },
   {
    "duration": 60,
    "start_time": "2022-04-02T11:27:58.194Z"
   },
   {
    "duration": 28,
    "start_time": "2022-04-02T11:27:58.257Z"
   },
   {
    "duration": 48,
    "start_time": "2022-04-02T11:27:58.287Z"
   },
   {
    "duration": 9,
    "start_time": "2022-04-02T11:27:58.338Z"
   },
   {
    "duration": 11,
    "start_time": "2022-04-02T11:27:58.350Z"
   },
   {
    "duration": 329,
    "start_time": "2022-04-02T11:27:58.363Z"
   },
   {
    "duration": 92,
    "start_time": "2022-04-02T11:27:58.695Z"
   },
   {
    "duration": 100,
    "start_time": "2022-04-02T11:27:58.792Z"
   },
   {
    "duration": 31,
    "start_time": "2022-04-02T11:27:58.894Z"
   },
   {
    "duration": 4,
    "start_time": "2022-04-02T11:37:12.154Z"
   },
   {
    "duration": 24,
    "start_time": "2022-04-02T11:37:13.792Z"
   },
   {
    "duration": 6,
    "start_time": "2022-04-02T11:50:36.786Z"
   },
   {
    "duration": 150,
    "start_time": "2022-04-02T11:51:30.323Z"
   },
   {
    "duration": 4,
    "start_time": "2022-04-02T11:52:06.237Z"
   },
   {
    "duration": 20,
    "start_time": "2022-04-02T11:52:15.603Z"
   },
   {
    "duration": 18,
    "start_time": "2022-04-02T11:52:57.884Z"
   },
   {
    "duration": 6,
    "start_time": "2022-04-02T11:53:04.012Z"
   },
   {
    "duration": 34,
    "start_time": "2022-04-02T11:53:06.253Z"
   },
   {
    "duration": 4,
    "start_time": "2022-04-02T11:53:45.923Z"
   },
   {
    "duration": 17,
    "start_time": "2022-04-02T11:53:53.693Z"
   },
   {
    "duration": 6,
    "start_time": "2022-04-02T11:53:57.883Z"
   },
   {
    "duration": 6,
    "start_time": "2022-04-02T11:54:50.239Z"
   },
   {
    "duration": 559,
    "start_time": "2022-04-02T11:54:56.682Z"
   },
   {
    "duration": 5,
    "start_time": "2022-04-02T11:55:21.043Z"
   },
   {
    "duration": 546,
    "start_time": "2022-04-02T11:55:23.352Z"
   },
   {
    "duration": 5,
    "start_time": "2022-04-02T11:55:44.864Z"
   },
   {
    "duration": 555,
    "start_time": "2022-04-02T11:55:48.222Z"
   },
   {
    "duration": 6,
    "start_time": "2022-04-02T11:58:59.803Z"
   },
   {
    "duration": 908,
    "start_time": "2022-04-02T11:59:03.122Z"
   },
   {
    "duration": 6,
    "start_time": "2022-04-02T12:01:10.884Z"
   },
   {
    "duration": 1687,
    "start_time": "2022-04-02T12:01:14.266Z"
   },
   {
    "duration": 6,
    "start_time": "2022-04-02T12:01:51.531Z"
   },
   {
    "duration": 1635,
    "start_time": "2022-04-02T12:01:53.883Z"
   },
   {
    "duration": 6,
    "start_time": "2022-04-02T12:07:41.065Z"
   },
   {
    "duration": 2573,
    "start_time": "2022-04-02T12:07:41.074Z"
   },
   {
    "duration": 6,
    "start_time": "2022-04-02T12:12:36.891Z"
   },
   {
    "duration": 2367,
    "start_time": "2022-04-02T12:12:39.322Z"
   },
   {
    "duration": 7,
    "start_time": "2022-04-02T12:17:05.703Z"
   },
   {
    "duration": 1830,
    "start_time": "2022-04-02T12:17:17.792Z"
   },
   {
    "duration": 7,
    "start_time": "2022-04-02T12:17:32.164Z"
   },
   {
    "duration": 1835,
    "start_time": "2022-04-02T12:17:36.963Z"
   },
   {
    "duration": 6,
    "start_time": "2022-04-02T12:18:06.472Z"
   },
   {
    "duration": 1833,
    "start_time": "2022-04-02T12:18:09.480Z"
   },
   {
    "duration": 7,
    "start_time": "2022-04-02T12:18:58.312Z"
   },
   {
    "duration": 2535,
    "start_time": "2022-04-02T12:19:00.633Z"
   },
   {
    "duration": 8,
    "start_time": "2022-04-02T12:19:17.589Z"
   },
   {
    "duration": 1837,
    "start_time": "2022-04-02T12:19:23.683Z"
   },
   {
    "duration": 7,
    "start_time": "2022-04-02T12:25:52.514Z"
   },
   {
    "duration": 1887,
    "start_time": "2022-04-02T12:25:54.442Z"
   },
   {
    "duration": 8,
    "start_time": "2022-04-02T12:28:49.003Z"
   },
   {
    "duration": 1846,
    "start_time": "2022-04-02T12:28:51.604Z"
   },
   {
    "duration": 7,
    "start_time": "2022-04-02T12:33:54.823Z"
   },
   {
    "duration": 2775,
    "start_time": "2022-04-02T12:33:59.636Z"
   },
   {
    "duration": 8,
    "start_time": "2022-04-02T12:39:51.602Z"
   },
   {
    "duration": 136,
    "start_time": "2022-04-02T12:39:53.683Z"
   },
   {
    "duration": 153,
    "start_time": "2022-04-02T12:40:13.194Z"
   },
   {
    "duration": 2022,
    "start_time": "2022-04-02T12:40:29.064Z"
   },
   {
    "duration": 1950,
    "start_time": "2022-04-02T12:41:57.459Z"
   },
   {
    "duration": 1873,
    "start_time": "2022-04-02T13:22:53.337Z"
   },
   {
    "duration": 1870,
    "start_time": "2022-04-02T13:25:01.554Z"
   },
   {
    "duration": 5931,
    "start_time": "2022-04-02T13:26:37.065Z"
   },
   {
    "duration": 5627,
    "start_time": "2022-04-02T13:26:59.365Z"
   },
   {
    "duration": 1509,
    "start_time": "2022-04-02T13:32:55.511Z"
   },
   {
    "duration": 450,
    "start_time": "2022-04-02T13:32:57.023Z"
   },
   {
    "duration": 61,
    "start_time": "2022-04-02T13:32:57.475Z"
   },
   {
    "duration": 5,
    "start_time": "2022-04-02T13:32:57.539Z"
   },
   {
    "duration": 74,
    "start_time": "2022-04-02T13:32:57.547Z"
   },
   {
    "duration": 12,
    "start_time": "2022-04-02T13:32:57.623Z"
   },
   {
    "duration": 4,
    "start_time": "2022-04-02T13:32:57.638Z"
   },
   {
    "duration": 349,
    "start_time": "2022-04-02T13:32:57.644Z"
   },
   {
    "duration": 10,
    "start_time": "2022-04-02T13:32:58.085Z"
   },
   {
    "duration": 22,
    "start_time": "2022-04-02T13:32:58.186Z"
   },
   {
    "duration": 44,
    "start_time": "2022-04-02T13:32:58.210Z"
   },
   {
    "duration": 4,
    "start_time": "2022-04-02T13:32:58.256Z"
   },
   {
    "duration": 14,
    "start_time": "2022-04-02T13:32:58.263Z"
   },
   {
    "duration": 5890,
    "start_time": "2022-04-02T13:32:58.280Z"
   },
   {
    "duration": 1155,
    "start_time": "2022-04-03T05:23:30.256Z"
   },
   {
    "duration": 363,
    "start_time": "2022-04-03T05:23:31.413Z"
   },
   {
    "duration": 13,
    "start_time": "2022-04-03T05:23:31.778Z"
   },
   {
    "duration": 24,
    "start_time": "2022-04-03T05:23:31.793Z"
   },
   {
    "duration": 13,
    "start_time": "2022-04-03T05:23:31.818Z"
   },
   {
    "duration": 42,
    "start_time": "2022-04-03T05:23:31.833Z"
   },
   {
    "duration": 7,
    "start_time": "2022-04-03T05:23:31.877Z"
   },
   {
    "duration": 256,
    "start_time": "2022-04-03T05:23:31.885Z"
   },
   {
    "duration": 96,
    "start_time": "2022-04-03T05:23:32.143Z"
   },
   {
    "duration": 4,
    "start_time": "2022-04-03T05:23:32.333Z"
   },
   {
    "duration": 26,
    "start_time": "2022-04-03T05:23:32.338Z"
   },
   {
    "duration": 3,
    "start_time": "2022-04-03T05:23:32.366Z"
   },
   {
    "duration": 9,
    "start_time": "2022-04-03T05:23:32.371Z"
   },
   {
    "duration": 3948,
    "start_time": "2022-04-03T05:23:32.381Z"
   },
   {
    "duration": 19,
    "start_time": "2022-04-03T05:31:10.716Z"
   },
   {
    "duration": 1157,
    "start_time": "2022-04-03T05:41:45.535Z"
   },
   {
    "duration": 374,
    "start_time": "2022-04-03T05:41:46.695Z"
   },
   {
    "duration": 12,
    "start_time": "2022-04-03T05:41:47.071Z"
   },
   {
    "duration": 21,
    "start_time": "2022-04-03T05:41:47.085Z"
   },
   {
    "duration": 5,
    "start_time": "2022-04-03T05:41:47.109Z"
   },
   {
    "duration": 47,
    "start_time": "2022-04-03T05:41:47.116Z"
   },
   {
    "duration": 8,
    "start_time": "2022-04-03T05:41:47.164Z"
   },
   {
    "duration": 268,
    "start_time": "2022-04-03T05:41:47.174Z"
   },
   {
    "duration": 6,
    "start_time": "2022-04-03T05:41:47.531Z"
   },
   {
    "duration": 100,
    "start_time": "2022-04-03T05:41:47.539Z"
   },
   {
    "duration": 23,
    "start_time": "2022-04-03T05:41:47.641Z"
   },
   {
    "duration": 4,
    "start_time": "2022-04-03T05:41:47.666Z"
   },
   {
    "duration": 11,
    "start_time": "2022-04-03T05:41:47.671Z"
   },
   {
    "duration": 4058,
    "start_time": "2022-04-03T05:41:47.685Z"
   },
   {
    "duration": 11,
    "start_time": "2022-04-03T13:19:36.483Z"
   },
   {
    "duration": 47,
    "start_time": "2022-04-03T13:19:41.413Z"
   },
   {
    "duration": 1170,
    "start_time": "2022-04-03T13:19:55.537Z"
   },
   {
    "duration": 352,
    "start_time": "2022-04-03T13:19:56.709Z"
   },
   {
    "duration": 13,
    "start_time": "2022-04-03T13:19:57.063Z"
   },
   {
    "duration": 24,
    "start_time": "2022-04-03T13:19:57.078Z"
   },
   {
    "duration": 4,
    "start_time": "2022-04-03T13:19:57.105Z"
   },
   {
    "duration": 41,
    "start_time": "2022-04-03T13:19:57.111Z"
   },
   {
    "duration": 8,
    "start_time": "2022-04-03T13:19:57.154Z"
   },
   {
    "duration": 337,
    "start_time": "2022-04-03T13:19:57.164Z"
   },
   {
    "duration": 6,
    "start_time": "2022-04-03T13:19:57.505Z"
   },
   {
    "duration": 15,
    "start_time": "2022-04-03T13:19:57.601Z"
   },
   {
    "duration": 29,
    "start_time": "2022-04-03T13:19:57.617Z"
   },
   {
    "duration": 10,
    "start_time": "2022-04-03T13:19:57.647Z"
   },
   {
    "duration": 14,
    "start_time": "2022-04-03T13:19:57.659Z"
   },
   {
    "duration": 3621,
    "start_time": "2022-04-03T13:19:57.676Z"
   },
   {
    "duration": 5,
    "start_time": "2022-04-03T13:20:45.999Z"
   },
   {
    "duration": 3542,
    "start_time": "2022-04-03T13:20:51.329Z"
   },
   {
    "duration": 6,
    "start_time": "2022-04-03T13:21:33.689Z"
   },
   {
    "duration": 3628,
    "start_time": "2022-04-03T13:22:01.139Z"
   },
   {
    "duration": 1222,
    "start_time": "2022-04-03T13:24:09.889Z"
   },
   {
    "duration": 368,
    "start_time": "2022-04-03T13:24:11.113Z"
   },
   {
    "duration": 13,
    "start_time": "2022-04-03T13:24:11.482Z"
   },
   {
    "duration": 24,
    "start_time": "2022-04-03T13:24:11.501Z"
   },
   {
    "duration": 4,
    "start_time": "2022-04-03T13:24:11.527Z"
   },
   {
    "duration": 42,
    "start_time": "2022-04-03T13:24:11.533Z"
   },
   {
    "duration": 26,
    "start_time": "2022-04-03T13:24:11.577Z"
   },
   {
    "duration": 298,
    "start_time": "2022-04-03T13:24:11.604Z"
   },
   {
    "duration": 6,
    "start_time": "2022-04-03T13:24:11.906Z"
   },
   {
    "duration": 11,
    "start_time": "2022-04-03T13:24:12.002Z"
   },
   {
    "duration": 32,
    "start_time": "2022-04-03T13:24:12.016Z"
   },
   {
    "duration": 5,
    "start_time": "2022-04-03T13:24:12.050Z"
   },
   {
    "duration": 10,
    "start_time": "2022-04-03T13:24:12.057Z"
   },
   {
    "duration": 3663,
    "start_time": "2022-04-03T13:24:12.070Z"
   },
   {
    "duration": 5,
    "start_time": "2022-04-03T13:25:22.268Z"
   },
   {
    "duration": 1260,
    "start_time": "2022-04-03T13:25:31.759Z"
   },
   {
    "duration": 374,
    "start_time": "2022-04-03T13:25:33.022Z"
   },
   {
    "duration": 14,
    "start_time": "2022-04-03T13:25:33.401Z"
   },
   {
    "duration": 25,
    "start_time": "2022-04-03T13:25:33.417Z"
   },
   {
    "duration": 6,
    "start_time": "2022-04-03T13:25:33.445Z"
   },
   {
    "duration": 64,
    "start_time": "2022-04-03T13:25:33.452Z"
   },
   {
    "duration": 8,
    "start_time": "2022-04-03T13:25:33.518Z"
   },
   {
    "duration": 277,
    "start_time": "2022-04-03T13:25:33.529Z"
   },
   {
    "duration": 93,
    "start_time": "2022-04-03T13:25:33.809Z"
   },
   {
    "duration": 17,
    "start_time": "2022-04-03T13:25:33.904Z"
   },
   {
    "duration": 30,
    "start_time": "2022-04-03T13:25:33.923Z"
   },
   {
    "duration": 4,
    "start_time": "2022-04-03T13:25:33.955Z"
   },
   {
    "duration": 42,
    "start_time": "2022-04-03T13:25:33.961Z"
   },
   {
    "duration": 3715,
    "start_time": "2022-04-03T13:25:34.006Z"
   }
  ],
  "kernelspec": {
   "display_name": "Python 3",
   "language": "python",
   "name": "python3"
  },
  "language_info": {
   "codemirror_mode": {
    "name": "ipython",
    "version": 3
   },
   "file_extension": ".py",
   "mimetype": "text/x-python",
   "name": "python",
   "nbconvert_exporter": "python",
   "pygments_lexer": "ipython3",
   "version": "3.8.8"
  },
  "toc": {
   "base_numbering": 1,
   "nav_menu": {},
   "number_sections": true,
   "sideBar": true,
   "skip_h1_title": true,
   "title_cell": "Table of Contents",
   "title_sidebar": "Contents",
   "toc_cell": false,
   "toc_position": {},
   "toc_section_display": true,
   "toc_window_display": false
  }
 },
 "nbformat": 4,
 "nbformat_minor": 2
}
