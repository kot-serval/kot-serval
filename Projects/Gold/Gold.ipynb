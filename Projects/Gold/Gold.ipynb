{
 "cells": [
  {
   "cell_type": "markdown",
   "metadata": {},
   "source": [
    "# Исследование технологического процесса очистки золота."
   ]
  },
  {
   "cell_type": "markdown",
   "metadata": {},
   "source": [
    "\n",
    "## Описание проекта\n",
    "\n",
    "\n",
    "Строится модель машинного обучения для промышленной компании, разрабатывающая решения для эффективной работы промышленных предприятий. Модель должна предсказать коэффициент восстановления золота из золотосодержащей руды на основе данных с параметрами добычи и очистки. Модель поможет оптимизировать производство, чтобы не запускать предприятие с убыточными характеристиками.\n",
    "\n",
    "**Цель исследования:** \n",
    "\n",
    "Спрогнозировать концентрацию золота при проведении процесса очистки золота.\n"
   ]
  },
  {
   "cell_type": "markdown",
   "metadata": {},
   "source": [
    "## Подготовка данных"
   ]
  },
  {
   "cell_type": "markdown",
   "metadata": {},
   "source": [
    "### Импортируем библиотеки, которые будем использовать в дальнейшем."
   ]
  },
  {
   "cell_type": "code",
   "execution_count": 1,
   "metadata": {},
   "outputs": [],
   "source": [
    "import pandas as pd\n",
    "import matplotlib.pyplot as plt\n",
    "import numpy as np\n",
    "import pylab as pl\n",
    "from sklearn.metrics import mean_absolute_error, mean_squared_error, make_scorer\n",
    "from sklearn.model_selection import train_test_split, GridSearchCV, cross_val_score\n",
    "from sklearn.linear_model import LinearRegression\n",
    "from sklearn.tree import DecisionTreeRegressor\n",
    "from sklearn.ensemble import RandomForestRegressor\n",
    "from sklearn.dummy import DummyRegressor"
   ]
  },
  {
   "cell_type": "markdown",
   "metadata": {},
   "source": [
    "### Загружаем данные"
   ]
  },
  {
   "cell_type": "code",
   "execution_count": 2,
   "metadata": {},
   "outputs": [],
   "source": [
    "df_train = pd.read_csv('/datasets/gold_recovery_train_new.csv')\n",
    "df_test = pd.read_csv('/datasets/gold_recovery_test_new.csv')\n",
    "df_full = pd.read_csv('/datasets/gold_recovery_full_new.csv')"
   ]
  },
  {
   "cell_type": "markdown",
   "metadata": {},
   "source": [
    "### Задаем функции для повторяющихся действий."
   ]
  },
  {
   "cell_type": "code",
   "execution_count": 3,
   "metadata": {},
   "outputs": [],
   "source": [
    "def df_info(df: pd.DataFrame):\n",
    "    display(df.info())\n",
    "    display(df.describe().T)\n",
    "    display(df.sample(10))\n",
    "    print(f\"Количество дубликатов: {df.duplicated().sum()}\")\n",
    "\n",
    "def custom_hist(x: pd.Series, x_label: str, title: str):\n",
    "    plt.figure(figsize=(10,7))\n",
    "    plt.hist(x, edgecolor=\"black\", bins = 10)\n",
    "    plt.grid()\n",
    "    pl.xlabel(x_label)\n",
    "    pl.ylabel(\"Количество\")\n",
    "    pl.title(title)\n",
    "    plt.show()"
   ]
  },
  {
   "cell_type": "markdown",
   "metadata": {},
   "source": [
    "### Приводим названия столбцов к общепринятому виду."
   ]
  },
  {
   "cell_type": "code",
   "execution_count": 4,
   "metadata": {},
   "outputs": [],
   "source": [
    "df_train = df_train.rename(\n",
    "    columns=lambda col: col.replace(\".\", \"_\"))\n",
    "df_test = df_test.rename(\n",
    "    columns=lambda col: col.replace(\".\", \"_\"))\n",
    "df_full = df_full.rename(\n",
    "    columns=lambda col: col.replace(\".\", \"_\"))\n"
   ]
  },
  {
   "cell_type": "markdown",
   "metadata": {},
   "source": [
    "### Создаем функцию для расчета эффективности, где:\n",
    "\n",
    "\n",
    "\n",
    "- C — доля золота в концентрате после флотации\n",
    "- F — доля золота в сырье до флотации\n",
    "- T — доля золота в отвальных хвостах после флотации"
   ]
  },
  {
   "cell_type": "code",
   "execution_count": 5,
   "metadata": {},
   "outputs": [],
   "source": [
    "def recovery (c, f, t):\n",
    "    result = (c*(f-t))/(f*(c-t))\n",
    "    return result*100"
   ]
  },
  {
   "cell_type": "markdown",
   "metadata": {},
   "source": [
    "### Вычисляем recovery и MAE"
   ]
  },
  {
   "cell_type": "code",
   "execution_count": 6,
   "metadata": {},
   "outputs": [
    {
     "name": "stdout",
     "output_type": "stream",
     "text": [
      "MAE = 9.73512347450521e-15\n"
     ]
    }
   ],
   "source": [
    "df_train['recovery_new'] = recovery(df_train['rougher_output_concentrate_au'],\n",
    "                                              df_train['rougher_input_feed_au'],\n",
    "                                              df_train['rougher_output_tail_au'])\n",
    "\n",
    "print('MAE =', mean_absolute_error(df_train['rougher_output_recovery'], df_train['recovery_new']))"
   ]
  },
  {
   "cell_type": "code",
   "execution_count": 7,
   "metadata": {},
   "outputs": [
    {
     "data": {
      "image/png": "[encoded data removed]",
      "text/plain": [
       "<Figure size 720x504 with 1 Axes>"
      ]
     },
     "metadata": {
      "needs_background": "light"
     },
     "output_type": "display_data"
    }
   ],
   "source": [
    "custom_hist(\n",
    "    (df_train['recovery_new'] - df_train['rougher_output_recovery']),\n",
    "    'Расхождения между имеющимися и вычисленными значениями «rougher_output_recovery»',\n",
    "    'Анализируем столбец rougher_output_recovery')"
   ]
  },
  {
   "cell_type": "markdown",
   "metadata": {},
   "source": [
    "Принимаем решение использовать вычисленный признак «rougher_output_recovery» чтобы минимизировать погрешность."
   ]
  },
  {
   "cell_type": "markdown",
   "metadata": {},
   "source": [
    "### Смотрим каких столбцов нет в тестовой выборке"
   ]
  },
  {
   "cell_type": "code",
   "execution_count": 8,
   "metadata": {},
   "outputs": [
    {
     "data": {
      "text/plain": [
       "{'final_output_concentrate_ag',\n",
       " 'final_output_concentrate_au',\n",
       " 'final_output_concentrate_pb',\n",
       " 'final_output_concentrate_sol',\n",
       " 'final_output_recovery',\n",
       " 'final_output_tail_ag',\n",
       " 'final_output_tail_au',\n",
       " 'final_output_tail_pb',\n",
       " 'final_output_tail_sol',\n",
       " 'primary_cleaner_output_concentrate_ag',\n",
       " 'primary_cleaner_output_concentrate_au',\n",
       " 'primary_cleaner_output_concentrate_pb',\n",
       " 'primary_cleaner_output_concentrate_sol',\n",
       " 'primary_cleaner_output_tail_ag',\n",
       " 'primary_cleaner_output_tail_au',\n",
       " 'primary_cleaner_output_tail_pb',\n",
       " 'primary_cleaner_output_tail_sol',\n",
       " 'rougher_calculation_au_pb_ratio',\n",
       " 'rougher_calculation_floatbank10_sulfate_to_au_feed',\n",
       " 'rougher_calculation_floatbank11_sulfate_to_au_feed',\n",
       " 'rougher_calculation_sulfate_to_au_concentrate',\n",
       " 'rougher_output_concentrate_ag',\n",
       " 'rougher_output_concentrate_au',\n",
       " 'rougher_output_concentrate_pb',\n",
       " 'rougher_output_concentrate_sol',\n",
       " 'rougher_output_recovery',\n",
       " 'rougher_output_tail_ag',\n",
       " 'rougher_output_tail_au',\n",
       " 'rougher_output_tail_pb',\n",
       " 'rougher_output_tail_sol',\n",
       " 'secondary_cleaner_output_tail_ag',\n",
       " 'secondary_cleaner_output_tail_au',\n",
       " 'secondary_cleaner_output_tail_pb',\n",
       " 'secondary_cleaner_output_tail_sol'}"
      ]
     },
     "execution_count": 8,
     "metadata": {},
     "output_type": "execute_result"
    }
   ],
   "source": [
    "set(df_full.columns) - set(df_test.columns)"
   ]
  },
  {
   "cell_type": "markdown",
   "metadata": {},
   "source": [
    "#### Вывод.\n",
    "\n",
    "Нет выходных и расчетных параметров. "
   ]
  },
  {
   "cell_type": "markdown",
   "metadata": {},
   "source": [
    "### Дополним тестовую выборку целевыми признаками."
   ]
  },
  {
   "cell_type": "code",
   "execution_count": 9,
   "metadata": {},
   "outputs": [],
   "source": [
    "df_full['recovery_new'] = recovery(df_full['rougher_output_concentrate_au'],\n",
    "                                              df_full['rougher_input_feed_au'],\n",
    "                                              df_full['rougher_output_tail_au'])\n",
    "\n",
    "df_test[['recovery_new', 'final_output_recovery']] = df_full[\n",
    "    ['recovery_new', 'final_output_recovery']].loc[df_test.index]"
   ]
  },
  {
   "cell_type": "markdown",
   "metadata": {},
   "source": [
    "### Убираем из обучающей выборки данные которых нет в тестовой."
   ]
  },
  {
   "cell_type": "code",
   "execution_count": 10,
   "metadata": {},
   "outputs": [],
   "source": [
    "df_train = df_train.drop((set(df_train) - set(df_test.columns)), axis=1)"
   ]
  },
  {
   "cell_type": "markdown",
   "metadata": {},
   "source": [
    "### Смотрим что получилось."
   ]
  },
  {
   "cell_type": "code",
   "execution_count": 11,
   "metadata": {},
   "outputs": [
    {
     "name": "stdout",
     "output_type": "stream",
     "text": [
      "<class 'pandas.core.frame.DataFrame'>\n",
      "RangeIndex: 14149 entries, 0 to 14148\n",
      "Data columns (total 55 columns):\n",
      " #   Column                                      Non-Null Count  Dtype  \n",
      "---  ------                                      --------------  -----  \n",
      " 0   date                                        14149 non-null  object \n",
      " 1   final_output_recovery                       14149 non-null  float64\n",
      " 2   primary_cleaner_input_sulfate               14129 non-null  float64\n",
      " 3   primary_cleaner_input_depressant            14117 non-null  float64\n",
      " 4   primary_cleaner_input_feed_size             14149 non-null  float64\n",
      " 5   primary_cleaner_input_xanthate              14049 non-null  float64\n",
      " 6   primary_cleaner_state_floatbank8_a_air      14145 non-null  float64\n",
      " 7   primary_cleaner_state_floatbank8_a_level    14148 non-null  float64\n",
      " 8   primary_cleaner_state_floatbank8_b_air      14145 non-null  float64\n",
      " 9   primary_cleaner_state_floatbank8_b_level    14148 non-null  float64\n",
      " 10  primary_cleaner_state_floatbank8_c_air      14147 non-null  float64\n",
      " 11  primary_cleaner_state_floatbank8_c_level    14148 non-null  float64\n",
      " 12  primary_cleaner_state_floatbank8_d_air      14146 non-null  float64\n",
      " 13  primary_cleaner_state_floatbank8_d_level    14148 non-null  float64\n",
      " 14  rougher_input_feed_ag                       14149 non-null  float64\n",
      " 15  rougher_input_feed_pb                       14049 non-null  float64\n",
      " 16  rougher_input_feed_rate                     14141 non-null  float64\n",
      " 17  rougher_input_feed_size                     14005 non-null  float64\n",
      " 18  rougher_input_feed_sol                      14071 non-null  float64\n",
      " 19  rougher_input_feed_au                       14149 non-null  float64\n",
      " 20  rougher_input_floatbank10_sulfate           14120 non-null  float64\n",
      " 21  rougher_input_floatbank10_xanthate          14141 non-null  float64\n",
      " 22  rougher_input_floatbank11_sulfate           14113 non-null  float64\n",
      " 23  rougher_input_floatbank11_xanthate          13721 non-null  float64\n",
      " 24  rougher_state_floatbank10_a_air             14148 non-null  float64\n",
      " 25  rougher_state_floatbank10_a_level           14148 non-null  float64\n",
      " 26  rougher_state_floatbank10_b_air             14148 non-null  float64\n",
      " 27  rougher_state_floatbank10_b_level           14148 non-null  float64\n",
      " 28  rougher_state_floatbank10_c_air             14148 non-null  float64\n",
      " 29  rougher_state_floatbank10_c_level           14148 non-null  float64\n",
      " 30  rougher_state_floatbank10_d_air             14149 non-null  float64\n",
      " 31  rougher_state_floatbank10_d_level           14149 non-null  float64\n",
      " 32  rougher_state_floatbank10_e_air             13713 non-null  float64\n",
      " 33  rougher_state_floatbank10_e_level           14149 non-null  float64\n",
      " 34  rougher_state_floatbank10_f_air             14149 non-null  float64\n",
      " 35  rougher_state_floatbank10_f_level           14149 non-null  float64\n",
      " 36  secondary_cleaner_state_floatbank2_a_air    13932 non-null  float64\n",
      " 37  secondary_cleaner_state_floatbank2_a_level  14148 non-null  float64\n",
      " 38  secondary_cleaner_state_floatbank2_b_air    14128 non-null  float64\n",
      " 39  secondary_cleaner_state_floatbank2_b_level  14148 non-null  float64\n",
      " 40  secondary_cleaner_state_floatbank3_a_air    14145 non-null  float64\n",
      " 41  secondary_cleaner_state_floatbank3_a_level  14148 non-null  float64\n",
      " 42  secondary_cleaner_state_floatbank3_b_air    14148 non-null  float64\n",
      " 43  secondary_cleaner_state_floatbank3_b_level  14148 non-null  float64\n",
      " 44  secondary_cleaner_state_floatbank4_a_air    14143 non-null  float64\n",
      " 45  secondary_cleaner_state_floatbank4_a_level  14148 non-null  float64\n",
      " 46  secondary_cleaner_state_floatbank4_b_air    14148 non-null  float64\n",
      " 47  secondary_cleaner_state_floatbank4_b_level  14148 non-null  float64\n",
      " 48  secondary_cleaner_state_floatbank5_a_air    14148 non-null  float64\n",
      " 49  secondary_cleaner_state_floatbank5_a_level  14148 non-null  float64\n",
      " 50  secondary_cleaner_state_floatbank5_b_air    14148 non-null  float64\n",
      " 51  secondary_cleaner_state_floatbank5_b_level  14148 non-null  float64\n",
      " 52  secondary_cleaner_state_floatbank6_a_air    14147 non-null  float64\n",
      " 53  secondary_cleaner_state_floatbank6_a_level  14148 non-null  float64\n",
      " 54  recovery_new                                14149 non-null  float64\n",
      "dtypes: float64(54), object(1)\n",
      "memory usage: 5.9+ MB\n"
     ]
    },
    {
     "data": {
      "text/plain": [
       "None"
      ]
     },
     "metadata": {},
     "output_type": "display_data"
    },
    {
     "data": {
      "text/html": [
       "<div>\n",
       "<style scoped>\n",
       "    .dataframe tbody tr th:only-of-type {\n",
       "        vertical-align: middle;\n",
       "    }\n",
       "\n",
       "    .dataframe tbody tr th {\n",
       "        vertical-align: top;\n",
       "    }\n",
       "\n",
       "    .dataframe thead th {\n",
       "        text-align: right;\n",
       "    }\n",
       "</style>\n",
       "<table border=\"1\" class=\"dataframe\">\n",
       "  <thead>\n",
       "    <tr style=\"text-align: right;\">\n",
       "      <th></th>\n",
       "      <th>count</th>\n",
       "      <th>mean</th>\n",
       "      <th>std</th>\n",
       "      <th>min</th>\n",
       "      <th>25%</th>\n",
       "      <th>50%</th>\n",
       "      <th>75%</th>\n",
       "      <th>max</th>\n",
       "    </tr>\n",
       "  </thead>\n",
       "  <tbody>\n",
       "    <tr>\n",
       "      <th>final_output_recovery</th>\n",
       "      <td>14149.0</td>\n",
       "      <td>66.518832</td>\n",
       "      <td>10.295402</td>\n",
       "      <td>0.000000</td>\n",
       "      <td>62.545817</td>\n",
       "      <td>67.432775</td>\n",
       "      <td>72.346428</td>\n",
       "      <td>100.000000</td>\n",
       "    </tr>\n",
       "    <tr>\n",
       "      <th>primary_cleaner_input_sulfate</th>\n",
       "      <td>14129.0</td>\n",
       "      <td>133.320659</td>\n",
       "      <td>39.431659</td>\n",
       "      <td>0.003112</td>\n",
       "      <td>107.006651</td>\n",
       "      <td>133.018328</td>\n",
       "      <td>159.825396</td>\n",
       "      <td>250.127834</td>\n",
       "    </tr>\n",
       "    <tr>\n",
       "      <th>primary_cleaner_input_depressant</th>\n",
       "      <td>14117.0</td>\n",
       "      <td>8.866996</td>\n",
       "      <td>3.361589</td>\n",
       "      <td>0.000000</td>\n",
       "      <td>6.040604</td>\n",
       "      <td>8.035811</td>\n",
       "      <td>11.522173</td>\n",
       "      <td>20.052255</td>\n",
       "    </tr>\n",
       "    <tr>\n",
       "      <th>primary_cleaner_input_feed_size</th>\n",
       "      <td>14149.0</td>\n",
       "      <td>7.322310</td>\n",
       "      <td>0.614062</td>\n",
       "      <td>1.080000</td>\n",
       "      <td>6.960000</td>\n",
       "      <td>7.290000</td>\n",
       "      <td>7.700000</td>\n",
       "      <td>10.470000</td>\n",
       "    </tr>\n",
       "    <tr>\n",
       "      <th>primary_cleaner_input_xanthate</th>\n",
       "      <td>14049.0</td>\n",
       "      <td>0.885588</td>\n",
       "      <td>0.372714</td>\n",
       "      <td>0.000005</td>\n",
       "      <td>0.607021</td>\n",
       "      <td>0.888749</td>\n",
       "      <td>1.100933</td>\n",
       "      <td>2.512968</td>\n",
       "    </tr>\n",
       "    <tr>\n",
       "      <th>primary_cleaner_state_floatbank8_a_air</th>\n",
       "      <td>14145.0</td>\n",
       "      <td>1608.000064</td>\n",
       "      <td>128.394355</td>\n",
       "      <td>0.006352</td>\n",
       "      <td>1595.695815</td>\n",
       "      <td>1601.824410</td>\n",
       "      <td>1699.716408</td>\n",
       "      <td>2079.531340</td>\n",
       "    </tr>\n",
       "    <tr>\n",
       "      <th>primary_cleaner_state_floatbank8_a_level</th>\n",
       "      <td>14148.0</td>\n",
       "      <td>-488.775525</td>\n",
       "      <td>35.704184</td>\n",
       "      <td>-798.641662</td>\n",
       "      <td>-500.287952</td>\n",
       "      <td>-499.909375</td>\n",
       "      <td>-499.378551</td>\n",
       "      <td>-330.134203</td>\n",
       "    </tr>\n",
       "    <tr>\n",
       "      <th>primary_cleaner_state_floatbank8_b_air</th>\n",
       "      <td>14145.0</td>\n",
       "      <td>1608.610983</td>\n",
       "      <td>131.112729</td>\n",
       "      <td>0.008700</td>\n",
       "      <td>1558.959943</td>\n",
       "      <td>1601.818514</td>\n",
       "      <td>1700.215351</td>\n",
       "      <td>2114.906758</td>\n",
       "    </tr>\n",
       "    <tr>\n",
       "      <th>primary_cleaner_state_floatbank8_b_level</th>\n",
       "      <td>14148.0</td>\n",
       "      <td>-489.171786</td>\n",
       "      <td>33.604449</td>\n",
       "      <td>-740.122129</td>\n",
       "      <td>-500.375645</td>\n",
       "      <td>-499.938003</td>\n",
       "      <td>-499.389658</td>\n",
       "      <td>-347.354380</td>\n",
       "    </tr>\n",
       "    <tr>\n",
       "      <th>primary_cleaner_state_floatbank8_c_air</th>\n",
       "      <td>14147.0</td>\n",
       "      <td>1608.879407</td>\n",
       "      <td>134.266898</td>\n",
       "      <td>0.015159</td>\n",
       "      <td>1549.871886</td>\n",
       "      <td>1601.574628</td>\n",
       "      <td>1700.464037</td>\n",
       "      <td>2013.156457</td>\n",
       "    </tr>\n",
       "    <tr>\n",
       "      <th>primary_cleaner_state_floatbank8_c_level</th>\n",
       "      <td>14148.0</td>\n",
       "      <td>-489.605549</td>\n",
       "      <td>35.624002</td>\n",
       "      <td>-799.803073</td>\n",
       "      <td>-500.601718</td>\n",
       "      <td>-499.871346</td>\n",
       "      <td>-498.801774</td>\n",
       "      <td>-346.653450</td>\n",
       "    </tr>\n",
       "    <tr>\n",
       "      <th>primary_cleaner_state_floatbank8_d_air</th>\n",
       "      <td>14146.0</td>\n",
       "      <td>1542.189963</td>\n",
       "      <td>278.316132</td>\n",
       "      <td>0.008655</td>\n",
       "      <td>1452.678767</td>\n",
       "      <td>1600.168346</td>\n",
       "      <td>1699.358771</td>\n",
       "      <td>2398.903635</td>\n",
       "    </tr>\n",
       "    <tr>\n",
       "      <th>primary_cleaner_state_floatbank8_d_level</th>\n",
       "      <td>14148.0</td>\n",
       "      <td>-483.462423</td>\n",
       "      <td>47.100934</td>\n",
       "      <td>-799.788598</td>\n",
       "      <td>-500.459917</td>\n",
       "      <td>-499.831833</td>\n",
       "      <td>-498.480341</td>\n",
       "      <td>-30.601828</td>\n",
       "    </tr>\n",
       "    <tr>\n",
       "      <th>rougher_input_feed_ag</th>\n",
       "      <td>14149.0</td>\n",
       "      <td>8.579195</td>\n",
       "      <td>1.896284</td>\n",
       "      <td>0.010000</td>\n",
       "      <td>7.132802</td>\n",
       "      <td>8.156092</td>\n",
       "      <td>9.918304</td>\n",
       "      <td>14.596026</td>\n",
       "    </tr>\n",
       "    <tr>\n",
       "      <th>rougher_input_feed_pb</th>\n",
       "      <td>14049.0</td>\n",
       "      <td>3.522778</td>\n",
       "      <td>1.073394</td>\n",
       "      <td>0.010000</td>\n",
       "      <td>2.780010</td>\n",
       "      <td>3.422677</td>\n",
       "      <td>4.226107</td>\n",
       "      <td>7.142594</td>\n",
       "    </tr>\n",
       "    <tr>\n",
       "      <th>rougher_input_feed_rate</th>\n",
       "      <td>14141.0</td>\n",
       "      <td>474.027714</td>\n",
       "      <td>104.039838</td>\n",
       "      <td>0.012786</td>\n",
       "      <td>420.781913</td>\n",
       "      <td>499.454777</td>\n",
       "      <td>547.334973</td>\n",
       "      <td>717.508837</td>\n",
       "    </tr>\n",
       "    <tr>\n",
       "      <th>rougher_input_feed_size</th>\n",
       "      <td>14005.0</td>\n",
       "      <td>60.110518</td>\n",
       "      <td>22.418485</td>\n",
       "      <td>9.659576</td>\n",
       "      <td>48.973027</td>\n",
       "      <td>55.373885</td>\n",
       "      <td>66.080172</td>\n",
       "      <td>484.967466</td>\n",
       "    </tr>\n",
       "    <tr>\n",
       "      <th>rougher_input_feed_sol</th>\n",
       "      <td>14071.0</td>\n",
       "      <td>36.312593</td>\n",
       "      <td>4.956057</td>\n",
       "      <td>0.010000</td>\n",
       "      <td>34.117635</td>\n",
       "      <td>37.020345</td>\n",
       "      <td>39.423265</td>\n",
       "      <td>48.363177</td>\n",
       "    </tr>\n",
       "    <tr>\n",
       "      <th>rougher_input_feed_au</th>\n",
       "      <td>14149.0</td>\n",
       "      <td>7.866577</td>\n",
       "      <td>1.919506</td>\n",
       "      <td>0.010000</td>\n",
       "      <td>6.596217</td>\n",
       "      <td>7.649138</td>\n",
       "      <td>9.066976</td>\n",
       "      <td>13.126043</td>\n",
       "    </tr>\n",
       "    <tr>\n",
       "      <th>rougher_input_floatbank10_sulfate</th>\n",
       "      <td>14120.0</td>\n",
       "      <td>11.764931</td>\n",
       "      <td>3.278813</td>\n",
       "      <td>0.001083</td>\n",
       "      <td>9.861100</td>\n",
       "      <td>11.688702</td>\n",
       "      <td>13.607115</td>\n",
       "      <td>36.118275</td>\n",
       "    </tr>\n",
       "    <tr>\n",
       "      <th>rougher_input_floatbank10_xanthate</th>\n",
       "      <td>14141.0</td>\n",
       "      <td>5.854529</td>\n",
       "      <td>1.104263</td>\n",
       "      <td>0.001428</td>\n",
       "      <td>5.117359</td>\n",
       "      <td>5.951071</td>\n",
       "      <td>6.602533</td>\n",
       "      <td>9.703448</td>\n",
       "    </tr>\n",
       "    <tr>\n",
       "      <th>rougher_input_floatbank11_sulfate</th>\n",
       "      <td>14113.0</td>\n",
       "      <td>11.368685</td>\n",
       "      <td>3.743672</td>\n",
       "      <td>0.000098</td>\n",
       "      <td>9.505507</td>\n",
       "      <td>11.384283</td>\n",
       "      <td>13.497134</td>\n",
       "      <td>37.980648</td>\n",
       "    </tr>\n",
       "    <tr>\n",
       "      <th>rougher_input_floatbank11_xanthate</th>\n",
       "      <td>13721.0</td>\n",
       "      <td>5.894176</td>\n",
       "      <td>1.124233</td>\n",
       "      <td>0.000290</td>\n",
       "      <td>5.199168</td>\n",
       "      <td>5.998460</td>\n",
       "      <td>6.699006</td>\n",
       "      <td>9.698407</td>\n",
       "    </tr>\n",
       "    <tr>\n",
       "      <th>rougher_state_floatbank10_a_air</th>\n",
       "      <td>14148.0</td>\n",
       "      <td>1124.726280</td>\n",
       "      <td>169.310825</td>\n",
       "      <td>-0.041078</td>\n",
       "      <td>999.799166</td>\n",
       "      <td>1001.685708</td>\n",
       "      <td>1299.505513</td>\n",
       "      <td>1521.980372</td>\n",
       "    </tr>\n",
       "    <tr>\n",
       "      <th>rougher_state_floatbank10_a_level</th>\n",
       "      <td>14148.0</td>\n",
       "      <td>-369.460950</td>\n",
       "      <td>93.952787</td>\n",
       "      <td>-650.202881</td>\n",
       "      <td>-499.787867</td>\n",
       "      <td>-300.175125</td>\n",
       "      <td>-299.963153</td>\n",
       "      <td>-281.039299</td>\n",
       "    </tr>\n",
       "    <tr>\n",
       "      <th>rougher_state_floatbank10_b_air</th>\n",
       "      <td>14148.0</td>\n",
       "      <td>1320.705069</td>\n",
       "      <td>183.155975</td>\n",
       "      <td>-0.653384</td>\n",
       "      <td>1199.366448</td>\n",
       "      <td>1301.365123</td>\n",
       "      <td>1449.553689</td>\n",
       "      <td>1809.194008</td>\n",
       "    </tr>\n",
       "    <tr>\n",
       "      <th>rougher_state_floatbank10_b_level</th>\n",
       "      <td>14148.0</td>\n",
       "      <td>-464.258983</td>\n",
       "      <td>57.401954</td>\n",
       "      <td>-650.260008</td>\n",
       "      <td>-500.183028</td>\n",
       "      <td>-499.764620</td>\n",
       "      <td>-400.425493</td>\n",
       "      <td>-296.383080</td>\n",
       "    </tr>\n",
       "    <tr>\n",
       "      <th>rougher_state_floatbank10_c_air</th>\n",
       "      <td>14148.0</td>\n",
       "      <td>1299.360578</td>\n",
       "      <td>213.404094</td>\n",
       "      <td>-0.035112</td>\n",
       "      <td>1103.095071</td>\n",
       "      <td>1300.213385</td>\n",
       "      <td>1450.350668</td>\n",
       "      <td>2499.129174</td>\n",
       "    </tr>\n",
       "    <tr>\n",
       "      <th>rougher_state_floatbank10_c_level</th>\n",
       "      <td>14148.0</td>\n",
       "      <td>-465.054849</td>\n",
       "      <td>55.904716</td>\n",
       "      <td>-640.995627</td>\n",
       "      <td>-500.211863</td>\n",
       "      <td>-499.682528</td>\n",
       "      <td>-400.664736</td>\n",
       "      <td>-292.155509</td>\n",
       "    </tr>\n",
       "    <tr>\n",
       "      <th>rougher_state_floatbank10_d_air</th>\n",
       "      <td>14149.0</td>\n",
       "      <td>1210.335236</td>\n",
       "      <td>210.431555</td>\n",
       "      <td>-0.554299</td>\n",
       "      <td>1059.708509</td>\n",
       "      <td>1200.744308</td>\n",
       "      <td>1344.378462</td>\n",
       "      <td>1817.199290</td>\n",
       "    </tr>\n",
       "    <tr>\n",
       "      <th>rougher_state_floatbank10_d_level</th>\n",
       "      <td>14149.0</td>\n",
       "      <td>-465.457377</td>\n",
       "      <td>55.771393</td>\n",
       "      <td>-640.519003</td>\n",
       "      <td>-500.359197</td>\n",
       "      <td>-499.465285</td>\n",
       "      <td>-401.052891</td>\n",
       "      <td>-208.330673</td>\n",
       "    </tr>\n",
       "    <tr>\n",
       "      <th>rougher_state_floatbank10_e_air</th>\n",
       "      <td>13713.0</td>\n",
       "      <td>1090.213187</td>\n",
       "      <td>184.610118</td>\n",
       "      <td>-1.970275</td>\n",
       "      <td>997.183864</td>\n",
       "      <td>1050.496363</td>\n",
       "      <td>1200.047746</td>\n",
       "      <td>1922.636637</td>\n",
       "    </tr>\n",
       "    <tr>\n",
       "      <th>rougher_state_floatbank10_e_level</th>\n",
       "      <td>14149.0</td>\n",
       "      <td>-464.919119</td>\n",
       "      <td>56.602962</td>\n",
       "      <td>-649.443911</td>\n",
       "      <td>-500.250033</td>\n",
       "      <td>-499.611447</td>\n",
       "      <td>-400.596104</td>\n",
       "      <td>-272.199598</td>\n",
       "    </tr>\n",
       "    <tr>\n",
       "      <th>rougher_state_floatbank10_f_air</th>\n",
       "      <td>14149.0</td>\n",
       "      <td>1035.490299</td>\n",
       "      <td>175.052279</td>\n",
       "      <td>-2.430587</td>\n",
       "      <td>900.966986</td>\n",
       "      <td>1000.053757</td>\n",
       "      <td>1100.165435</td>\n",
       "      <td>1706.307502</td>\n",
       "    </tr>\n",
       "    <tr>\n",
       "      <th>rougher_state_floatbank10_f_level</th>\n",
       "      <td>14149.0</td>\n",
       "      <td>-464.688631</td>\n",
       "      <td>56.645965</td>\n",
       "      <td>-649.880981</td>\n",
       "      <td>-500.476526</td>\n",
       "      <td>-499.364335</td>\n",
       "      <td>-401.014951</td>\n",
       "      <td>-191.718480</td>\n",
       "    </tr>\n",
       "    <tr>\n",
       "      <th>secondary_cleaner_state_floatbank2_a_air</th>\n",
       "      <td>13932.0</td>\n",
       "      <td>29.613649</td>\n",
       "      <td>5.800494</td>\n",
       "      <td>0.077503</td>\n",
       "      <td>25.099584</td>\n",
       "      <td>30.027721</td>\n",
       "      <td>34.893057</td>\n",
       "      <td>52.651399</td>\n",
       "    </tr>\n",
       "    <tr>\n",
       "      <th>secondary_cleaner_state_floatbank2_a_level</th>\n",
       "      <td>14148.0</td>\n",
       "      <td>-502.223914</td>\n",
       "      <td>60.281705</td>\n",
       "      <td>-799.606441</td>\n",
       "      <td>-500.248814</td>\n",
       "      <td>-499.959206</td>\n",
       "      <td>-499.593198</td>\n",
       "      <td>-127.875565</td>\n",
       "    </tr>\n",
       "    <tr>\n",
       "      <th>secondary_cleaner_state_floatbank2_b_air</th>\n",
       "      <td>14128.0</td>\n",
       "      <td>24.914403</td>\n",
       "      <td>5.994959</td>\n",
       "      <td>0.000000</td>\n",
       "      <td>22.048294</td>\n",
       "      <td>27.022783</td>\n",
       "      <td>28.939454</td>\n",
       "      <td>35.152122</td>\n",
       "    </tr>\n",
       "    <tr>\n",
       "      <th>secondary_cleaner_state_floatbank2_b_level</th>\n",
       "      <td>14148.0</td>\n",
       "      <td>-503.695706</td>\n",
       "      <td>62.837357</td>\n",
       "      <td>-799.873878</td>\n",
       "      <td>-500.270997</td>\n",
       "      <td>-500.014092</td>\n",
       "      <td>-499.764112</td>\n",
       "      <td>-212.064665</td>\n",
       "    </tr>\n",
       "    <tr>\n",
       "      <th>secondary_cleaner_state_floatbank3_a_air</th>\n",
       "      <td>14145.0</td>\n",
       "      <td>29.243372</td>\n",
       "      <td>5.637309</td>\n",
       "      <td>0.000000</td>\n",
       "      <td>24.991662</td>\n",
       "      <td>28.016530</td>\n",
       "      <td>34.990095</td>\n",
       "      <td>44.260464</td>\n",
       "    </tr>\n",
       "    <tr>\n",
       "      <th>secondary_cleaner_state_floatbank3_a_level</th>\n",
       "      <td>14148.0</td>\n",
       "      <td>-478.244059</td>\n",
       "      <td>54.655143</td>\n",
       "      <td>-799.613013</td>\n",
       "      <td>-500.175065</td>\n",
       "      <td>-499.877837</td>\n",
       "      <td>-436.923166</td>\n",
       "      <td>-191.678810</td>\n",
       "    </tr>\n",
       "    <tr>\n",
       "      <th>secondary_cleaner_state_floatbank3_b_air</th>\n",
       "      <td>14148.0</td>\n",
       "      <td>22.656261</td>\n",
       "      <td>4.996017</td>\n",
       "      <td>0.000000</td>\n",
       "      <td>19.948436</td>\n",
       "      <td>22.037270</td>\n",
       "      <td>25.970365</td>\n",
       "      <td>35.072841</td>\n",
       "    </tr>\n",
       "    <tr>\n",
       "      <th>secondary_cleaner_state_floatbank3_b_level</th>\n",
       "      <td>14148.0</td>\n",
       "      <td>-488.924046</td>\n",
       "      <td>41.928112</td>\n",
       "      <td>-759.177381</td>\n",
       "      <td>-500.110581</td>\n",
       "      <td>-499.966809</td>\n",
       "      <td>-499.757501</td>\n",
       "      <td>-159.742331</td>\n",
       "    </tr>\n",
       "    <tr>\n",
       "      <th>secondary_cleaner_state_floatbank4_a_air</th>\n",
       "      <td>14143.0</td>\n",
       "      <td>19.985454</td>\n",
       "      <td>5.657723</td>\n",
       "      <td>0.000000</td>\n",
       "      <td>14.990775</td>\n",
       "      <td>20.001789</td>\n",
       "      <td>24.990826</td>\n",
       "      <td>30.115735</td>\n",
       "    </tr>\n",
       "    <tr>\n",
       "      <th>secondary_cleaner_state_floatbank4_a_level</th>\n",
       "      <td>14148.0</td>\n",
       "      <td>-478.696836</td>\n",
       "      <td>50.736021</td>\n",
       "      <td>-799.709069</td>\n",
       "      <td>-500.628656</td>\n",
       "      <td>-499.681450</td>\n",
       "      <td>-477.472413</td>\n",
       "      <td>-245.239184</td>\n",
       "    </tr>\n",
       "    <tr>\n",
       "      <th>secondary_cleaner_state_floatbank4_b_air</th>\n",
       "      <td>14148.0</td>\n",
       "      <td>15.487065</td>\n",
       "      <td>5.255655</td>\n",
       "      <td>0.000000</td>\n",
       "      <td>11.894558</td>\n",
       "      <td>14.975536</td>\n",
       "      <td>20.059375</td>\n",
       "      <td>24.007913</td>\n",
       "    </tr>\n",
       "    <tr>\n",
       "      <th>secondary_cleaner_state_floatbank4_b_level</th>\n",
       "      <td>14148.0</td>\n",
       "      <td>-460.229416</td>\n",
       "      <td>58.843586</td>\n",
       "      <td>-799.889113</td>\n",
       "      <td>-500.149000</td>\n",
       "      <td>-499.388738</td>\n",
       "      <td>-400.039008</td>\n",
       "      <td>-145.071088</td>\n",
       "    </tr>\n",
       "    <tr>\n",
       "      <th>secondary_cleaner_state_floatbank5_a_air</th>\n",
       "      <td>14148.0</td>\n",
       "      <td>16.775136</td>\n",
       "      <td>5.831906</td>\n",
       "      <td>-0.372054</td>\n",
       "      <td>11.083980</td>\n",
       "      <td>17.932223</td>\n",
       "      <td>21.346550</td>\n",
       "      <td>43.709931</td>\n",
       "    </tr>\n",
       "    <tr>\n",
       "      <th>secondary_cleaner_state_floatbank5_a_level</th>\n",
       "      <td>14148.0</td>\n",
       "      <td>-483.956022</td>\n",
       "      <td>37.892788</td>\n",
       "      <td>-797.142475</td>\n",
       "      <td>-500.363177</td>\n",
       "      <td>-499.702452</td>\n",
       "      <td>-487.712108</td>\n",
       "      <td>-275.073125</td>\n",
       "    </tr>\n",
       "    <tr>\n",
       "      <th>secondary_cleaner_state_floatbank5_b_air</th>\n",
       "      <td>14148.0</td>\n",
       "      <td>13.064590</td>\n",
       "      <td>5.765617</td>\n",
       "      <td>0.646208</td>\n",
       "      <td>8.994405</td>\n",
       "      <td>11.997547</td>\n",
       "      <td>17.982903</td>\n",
       "      <td>27.926001</td>\n",
       "    </tr>\n",
       "    <tr>\n",
       "      <th>secondary_cleaner_state_floatbank5_b_level</th>\n",
       "      <td>14148.0</td>\n",
       "      <td>-483.966564</td>\n",
       "      <td>39.207913</td>\n",
       "      <td>-800.006180</td>\n",
       "      <td>-500.105994</td>\n",
       "      <td>-499.914556</td>\n",
       "      <td>-453.186936</td>\n",
       "      <td>-157.396071</td>\n",
       "    </tr>\n",
       "    <tr>\n",
       "      <th>secondary_cleaner_state_floatbank6_a_air</th>\n",
       "      <td>14147.0</td>\n",
       "      <td>19.577539</td>\n",
       "      <td>5.764417</td>\n",
       "      <td>0.195324</td>\n",
       "      <td>14.989304</td>\n",
       "      <td>19.984175</td>\n",
       "      <td>24.991623</td>\n",
       "      <td>32.188906</td>\n",
       "    </tr>\n",
       "    <tr>\n",
       "      <th>secondary_cleaner_state_floatbank6_a_level</th>\n",
       "      <td>14148.0</td>\n",
       "      <td>-506.798480</td>\n",
       "      <td>37.079249</td>\n",
       "      <td>-809.398668</td>\n",
       "      <td>-500.745104</td>\n",
       "      <td>-500.061431</td>\n",
       "      <td>-499.536466</td>\n",
       "      <td>-104.427459</td>\n",
       "    </tr>\n",
       "    <tr>\n",
       "      <th>recovery_new</th>\n",
       "      <td>14149.0</td>\n",
       "      <td>82.704502</td>\n",
       "      <td>14.479156</td>\n",
       "      <td>-0.000000</td>\n",
       "      <td>79.993067</td>\n",
       "      <td>85.299462</td>\n",
       "      <td>90.165021</td>\n",
       "      <td>100.000000</td>\n",
       "    </tr>\n",
       "  </tbody>\n",
       "</table>\n",
       "</div>"
      ],
      "text/plain": [
       "                                              count         mean         std  \\\n",
       "final_output_recovery                       14149.0    66.518832   10.295402   \n",
       "primary_cleaner_input_sulfate               14129.0   133.320659   39.431659   \n",
       "primary_cleaner_input_depressant            14117.0     8.866996    3.361589   \n",
       "primary_cleaner_input_feed_size             14149.0     7.322310    0.614062   \n",
       "primary_cleaner_input_xanthate              14049.0     0.885588    0.372714   \n",
       "primary_cleaner_state_floatbank8_a_air      14145.0  1608.000064  128.394355   \n",
       "primary_cleaner_state_floatbank8_a_level    14148.0  -488.775525   35.704184   \n",
       "primary_cleaner_state_floatbank8_b_air      14145.0  1608.610983  131.112729   \n",
       "primary_cleaner_state_floatbank8_b_level    14148.0  -489.171786   33.604449   \n",
       "primary_cleaner_state_floatbank8_c_air      14147.0  1608.879407  134.266898   \n",
       "primary_cleaner_state_floatbank8_c_level    14148.0  -489.605549   35.624002   \n",
       "primary_cleaner_state_floatbank8_d_air      14146.0  1542.189963  278.316132   \n",
       "primary_cleaner_state_floatbank8_d_level    14148.0  -483.462423   47.100934   \n",
       "rougher_input_feed_ag                       14149.0     8.579195    1.896284   \n",
       "rougher_input_feed_pb                       14049.0     3.522778    1.073394   \n",
       "rougher_input_feed_rate                     14141.0   474.027714  104.039838   \n",
       "rougher_input_feed_size                     14005.0    60.110518   22.418485   \n",
       "rougher_input_feed_sol                      14071.0    36.312593    4.956057   \n",
       "rougher_input_feed_au                       14149.0     7.866577    1.919506   \n",
       "rougher_input_floatbank10_sulfate           14120.0    11.764931    3.278813   \n",
       "rougher_input_floatbank10_xanthate          14141.0     5.854529    1.104263   \n",
       "rougher_input_floatbank11_sulfate           14113.0    11.368685    3.743672   \n",
       "rougher_input_floatbank11_xanthate          13721.0     5.894176    1.124233   \n",
       "rougher_state_floatbank10_a_air             14148.0  1124.726280  169.310825   \n",
       "rougher_state_floatbank10_a_level           14148.0  -369.460950   93.952787   \n",
       "rougher_state_floatbank10_b_air             14148.0  1320.705069  183.155975   \n",
       "rougher_state_floatbank10_b_level           14148.0  -464.258983   57.401954   \n",
       "rougher_state_floatbank10_c_air             14148.0  1299.360578  213.404094   \n",
       "rougher_state_floatbank10_c_level           14148.0  -465.054849   55.904716   \n",
       "rougher_state_floatbank10_d_air             14149.0  1210.335236  210.431555   \n",
       "rougher_state_floatbank10_d_level           14149.0  -465.457377   55.771393   \n",
       "rougher_state_floatbank10_e_air             13713.0  1090.213187  184.610118   \n",
       "rougher_state_floatbank10_e_level           14149.0  -464.919119   56.602962   \n",
       "rougher_state_floatbank10_f_air             14149.0  1035.490299  175.052279   \n",
       "rougher_state_floatbank10_f_level           14149.0  -464.688631   56.645965   \n",
       "secondary_cleaner_state_floatbank2_a_air    13932.0    29.613649    5.800494   \n",
       "secondary_cleaner_state_floatbank2_a_level  14148.0  -502.223914   60.281705   \n",
       "secondary_cleaner_state_floatbank2_b_air    14128.0    24.914403    5.994959   \n",
       "secondary_cleaner_state_floatbank2_b_level  14148.0  -503.695706   62.837357   \n",
       "secondary_cleaner_state_floatbank3_a_air    14145.0    29.243372    5.637309   \n",
       "secondary_cleaner_state_floatbank3_a_level  14148.0  -478.244059   54.655143   \n",
       "secondary_cleaner_state_floatbank3_b_air    14148.0    22.656261    4.996017   \n",
       "secondary_cleaner_state_floatbank3_b_level  14148.0  -488.924046   41.928112   \n",
       "secondary_cleaner_state_floatbank4_a_air    14143.0    19.985454    5.657723   \n",
       "secondary_cleaner_state_floatbank4_a_level  14148.0  -478.696836   50.736021   \n",
       "secondary_cleaner_state_floatbank4_b_air    14148.0    15.487065    5.255655   \n",
       "secondary_cleaner_state_floatbank4_b_level  14148.0  -460.229416   58.843586   \n",
       "secondary_cleaner_state_floatbank5_a_air    14148.0    16.775136    5.831906   \n",
       "secondary_cleaner_state_floatbank5_a_level  14148.0  -483.956022   37.892788   \n",
       "secondary_cleaner_state_floatbank5_b_air    14148.0    13.064590    5.765617   \n",
       "secondary_cleaner_state_floatbank5_b_level  14148.0  -483.966564   39.207913   \n",
       "secondary_cleaner_state_floatbank6_a_air    14147.0    19.577539    5.764417   \n",
       "secondary_cleaner_state_floatbank6_a_level  14148.0  -506.798480   37.079249   \n",
       "recovery_new                                14149.0    82.704502   14.479156   \n",
       "\n",
       "                                                   min          25%  \\\n",
       "final_output_recovery                         0.000000    62.545817   \n",
       "primary_cleaner_input_sulfate                 0.003112   107.006651   \n",
       "primary_cleaner_input_depressant              0.000000     6.040604   \n",
       "primary_cleaner_input_feed_size               1.080000     6.960000   \n",
       "primary_cleaner_input_xanthate                0.000005     0.607021   \n",
       "primary_cleaner_state_floatbank8_a_air        0.006352  1595.695815   \n",
       "primary_cleaner_state_floatbank8_a_level   -798.641662  -500.287952   \n",
       "primary_cleaner_state_floatbank8_b_air        0.008700  1558.959943   \n",
       "primary_cleaner_state_floatbank8_b_level   -740.122129  -500.375645   \n",
       "primary_cleaner_state_floatbank8_c_air        0.015159  1549.871886   \n",
       "primary_cleaner_state_floatbank8_c_level   -799.803073  -500.601718   \n",
       "primary_cleaner_state_floatbank8_d_air        0.008655  1452.678767   \n",
       "primary_cleaner_state_floatbank8_d_level   -799.788598  -500.459917   \n",
       "rougher_input_feed_ag                         0.010000     7.132802   \n",
       "rougher_input_feed_pb                         0.010000     2.780010   \n",
       "rougher_input_feed_rate                       0.012786   420.781913   \n",
       "rougher_input_feed_size                       9.659576    48.973027   \n",
       "rougher_input_feed_sol                        0.010000    34.117635   \n",
       "rougher_input_feed_au                         0.010000     6.596217   \n",
       "rougher_input_floatbank10_sulfate             0.001083     9.861100   \n",
       "rougher_input_floatbank10_xanthate            0.001428     5.117359   \n",
       "rougher_input_floatbank11_sulfate             0.000098     9.505507   \n",
       "rougher_input_floatbank11_xanthate            0.000290     5.199168   \n",
       "rougher_state_floatbank10_a_air              -0.041078   999.799166   \n",
       "rougher_state_floatbank10_a_level          -650.202881  -499.787867   \n",
       "rougher_state_floatbank10_b_air              -0.653384  1199.366448   \n",
       "rougher_state_floatbank10_b_level          -650.260008  -500.183028   \n",
       "rougher_state_floatbank10_c_air              -0.035112  1103.095071   \n",
       "rougher_state_floatbank10_c_level          -640.995627  -500.211863   \n",
       "rougher_state_floatbank10_d_air              -0.554299  1059.708509   \n",
       "rougher_state_floatbank10_d_level          -640.519003  -500.359197   \n",
       "rougher_state_floatbank10_e_air              -1.970275   997.183864   \n",
       "rougher_state_floatbank10_e_level          -649.443911  -500.250033   \n",
       "rougher_state_floatbank10_f_air              -2.430587   900.966986   \n",
       "rougher_state_floatbank10_f_level          -649.880981  -500.476526   \n",
       "secondary_cleaner_state_floatbank2_a_air      0.077503    25.099584   \n",
       "secondary_cleaner_state_floatbank2_a_level -799.606441  -500.248814   \n",
       "secondary_cleaner_state_floatbank2_b_air      0.000000    22.048294   \n",
       "secondary_cleaner_state_floatbank2_b_level -799.873878  -500.270997   \n",
       "secondary_cleaner_state_floatbank3_a_air      0.000000    24.991662   \n",
       "secondary_cleaner_state_floatbank3_a_level -799.613013  -500.175065   \n",
       "secondary_cleaner_state_floatbank3_b_air      0.000000    19.948436   \n",
       "secondary_cleaner_state_floatbank3_b_level -759.177381  -500.110581   \n",
       "secondary_cleaner_state_floatbank4_a_air      0.000000    14.990775   \n",
       "secondary_cleaner_state_floatbank4_a_level -799.709069  -500.628656   \n",
       "secondary_cleaner_state_floatbank4_b_air      0.000000    11.894558   \n",
       "secondary_cleaner_state_floatbank4_b_level -799.889113  -500.149000   \n",
       "secondary_cleaner_state_floatbank5_a_air     -0.372054    11.083980   \n",
       "secondary_cleaner_state_floatbank5_a_level -797.142475  -500.363177   \n",
       "secondary_cleaner_state_floatbank5_b_air      0.646208     8.994405   \n",
       "secondary_cleaner_state_floatbank5_b_level -800.006180  -500.105994   \n",
       "secondary_cleaner_state_floatbank6_a_air      0.195324    14.989304   \n",
       "secondary_cleaner_state_floatbank6_a_level -809.398668  -500.745104   \n",
       "recovery_new                                 -0.000000    79.993067   \n",
       "\n",
       "                                                    50%          75%  \\\n",
       "final_output_recovery                         67.432775    72.346428   \n",
       "primary_cleaner_input_sulfate                133.018328   159.825396   \n",
       "primary_cleaner_input_depressant               8.035811    11.522173   \n",
       "primary_cleaner_input_feed_size                7.290000     7.700000   \n",
       "primary_cleaner_input_xanthate                 0.888749     1.100933   \n",
       "primary_cleaner_state_floatbank8_a_air      1601.824410  1699.716408   \n",
       "primary_cleaner_state_floatbank8_a_level    -499.909375  -499.378551   \n",
       "primary_cleaner_state_floatbank8_b_air      1601.818514  1700.215351   \n",
       "primary_cleaner_state_floatbank8_b_level    -499.938003  -499.389658   \n",
       "primary_cleaner_state_floatbank8_c_air      1601.574628  1700.464037   \n",
       "primary_cleaner_state_floatbank8_c_level    -499.871346  -498.801774   \n",
       "primary_cleaner_state_floatbank8_d_air      1600.168346  1699.358771   \n",
       "primary_cleaner_state_floatbank8_d_level    -499.831833  -498.480341   \n",
       "rougher_input_feed_ag                          8.156092     9.918304   \n",
       "rougher_input_feed_pb                          3.422677     4.226107   \n",
       "rougher_input_feed_rate                      499.454777   547.334973   \n",
       "rougher_input_feed_size                       55.373885    66.080172   \n",
       "rougher_input_feed_sol                        37.020345    39.423265   \n",
       "rougher_input_feed_au                          7.649138     9.066976   \n",
       "rougher_input_floatbank10_sulfate             11.688702    13.607115   \n",
       "rougher_input_floatbank10_xanthate             5.951071     6.602533   \n",
       "rougher_input_floatbank11_sulfate             11.384283    13.497134   \n",
       "rougher_input_floatbank11_xanthate             5.998460     6.699006   \n",
       "rougher_state_floatbank10_a_air             1001.685708  1299.505513   \n",
       "rougher_state_floatbank10_a_level           -300.175125  -299.963153   \n",
       "rougher_state_floatbank10_b_air             1301.365123  1449.553689   \n",
       "rougher_state_floatbank10_b_level           -499.764620  -400.425493   \n",
       "rougher_state_floatbank10_c_air             1300.213385  1450.350668   \n",
       "rougher_state_floatbank10_c_level           -499.682528  -400.664736   \n",
       "rougher_state_floatbank10_d_air             1200.744308  1344.378462   \n",
       "rougher_state_floatbank10_d_level           -499.465285  -401.052891   \n",
       "rougher_state_floatbank10_e_air             1050.496363  1200.047746   \n",
       "rougher_state_floatbank10_e_level           -499.611447  -400.596104   \n",
       "rougher_state_floatbank10_f_air             1000.053757  1100.165435   \n",
       "rougher_state_floatbank10_f_level           -499.364335  -401.014951   \n",
       "secondary_cleaner_state_floatbank2_a_air      30.027721    34.893057   \n",
       "secondary_cleaner_state_floatbank2_a_level  -499.959206  -499.593198   \n",
       "secondary_cleaner_state_floatbank2_b_air      27.022783    28.939454   \n",
       "secondary_cleaner_state_floatbank2_b_level  -500.014092  -499.764112   \n",
       "secondary_cleaner_state_floatbank3_a_air      28.016530    34.990095   \n",
       "secondary_cleaner_state_floatbank3_a_level  -499.877837  -436.923166   \n",
       "secondary_cleaner_state_floatbank3_b_air      22.037270    25.970365   \n",
       "secondary_cleaner_state_floatbank3_b_level  -499.966809  -499.757501   \n",
       "secondary_cleaner_state_floatbank4_a_air      20.001789    24.990826   \n",
       "secondary_cleaner_state_floatbank4_a_level  -499.681450  -477.472413   \n",
       "secondary_cleaner_state_floatbank4_b_air      14.975536    20.059375   \n",
       "secondary_cleaner_state_floatbank4_b_level  -499.388738  -400.039008   \n",
       "secondary_cleaner_state_floatbank5_a_air      17.932223    21.346550   \n",
       "secondary_cleaner_state_floatbank5_a_level  -499.702452  -487.712108   \n",
       "secondary_cleaner_state_floatbank5_b_air      11.997547    17.982903   \n",
       "secondary_cleaner_state_floatbank5_b_level  -499.914556  -453.186936   \n",
       "secondary_cleaner_state_floatbank6_a_air      19.984175    24.991623   \n",
       "secondary_cleaner_state_floatbank6_a_level  -500.061431  -499.536466   \n",
       "recovery_new                                  85.299462    90.165021   \n",
       "\n",
       "                                                    max  \n",
       "final_output_recovery                        100.000000  \n",
       "primary_cleaner_input_sulfate                250.127834  \n",
       "primary_cleaner_input_depressant              20.052255  \n",
       "primary_cleaner_input_feed_size               10.470000  \n",
       "primary_cleaner_input_xanthate                 2.512968  \n",
       "primary_cleaner_state_floatbank8_a_air      2079.531340  \n",
       "primary_cleaner_state_floatbank8_a_level    -330.134203  \n",
       "primary_cleaner_state_floatbank8_b_air      2114.906758  \n",
       "primary_cleaner_state_floatbank8_b_level    -347.354380  \n",
       "primary_cleaner_state_floatbank8_c_air      2013.156457  \n",
       "primary_cleaner_state_floatbank8_c_level    -346.653450  \n",
       "primary_cleaner_state_floatbank8_d_air      2398.903635  \n",
       "primary_cleaner_state_floatbank8_d_level     -30.601828  \n",
       "rougher_input_feed_ag                         14.596026  \n",
       "rougher_input_feed_pb                          7.142594  \n",
       "rougher_input_feed_rate                      717.508837  \n",
       "rougher_input_feed_size                      484.967466  \n",
       "rougher_input_feed_sol                        48.363177  \n",
       "rougher_input_feed_au                         13.126043  \n",
       "rougher_input_floatbank10_sulfate             36.118275  \n",
       "rougher_input_floatbank10_xanthate             9.703448  \n",
       "rougher_input_floatbank11_sulfate             37.980648  \n",
       "rougher_input_floatbank11_xanthate             9.698407  \n",
       "rougher_state_floatbank10_a_air             1521.980372  \n",
       "rougher_state_floatbank10_a_level           -281.039299  \n",
       "rougher_state_floatbank10_b_air             1809.194008  \n",
       "rougher_state_floatbank10_b_level           -296.383080  \n",
       "rougher_state_floatbank10_c_air             2499.129174  \n",
       "rougher_state_floatbank10_c_level           -292.155509  \n",
       "rougher_state_floatbank10_d_air             1817.199290  \n",
       "rougher_state_floatbank10_d_level           -208.330673  \n",
       "rougher_state_floatbank10_e_air             1922.636637  \n",
       "rougher_state_floatbank10_e_level           -272.199598  \n",
       "rougher_state_floatbank10_f_air             1706.307502  \n",
       "rougher_state_floatbank10_f_level           -191.718480  \n",
       "secondary_cleaner_state_floatbank2_a_air      52.651399  \n",
       "secondary_cleaner_state_floatbank2_a_level  -127.875565  \n",
       "secondary_cleaner_state_floatbank2_b_air      35.152122  \n",
       "secondary_cleaner_state_floatbank2_b_level  -212.064665  \n",
       "secondary_cleaner_state_floatbank3_a_air      44.260464  \n",
       "secondary_cleaner_state_floatbank3_a_level  -191.678810  \n",
       "secondary_cleaner_state_floatbank3_b_air      35.072841  \n",
       "secondary_cleaner_state_floatbank3_b_level  -159.742331  \n",
       "secondary_cleaner_state_floatbank4_a_air      30.115735  \n",
       "secondary_cleaner_state_floatbank4_a_level  -245.239184  \n",
       "secondary_cleaner_state_floatbank4_b_air      24.007913  \n",
       "secondary_cleaner_state_floatbank4_b_level  -145.071088  \n",
       "secondary_cleaner_state_floatbank5_a_air      43.709931  \n",
       "secondary_cleaner_state_floatbank5_a_level  -275.073125  \n",
       "secondary_cleaner_state_floatbank5_b_air      27.926001  \n",
       "secondary_cleaner_state_floatbank5_b_level  -157.396071  \n",
       "secondary_cleaner_state_floatbank6_a_air      32.188906  \n",
       "secondary_cleaner_state_floatbank6_a_level  -104.427459  \n",
       "recovery_new                                 100.000000  "
      ]
     },
     "metadata": {},
     "output_type": "display_data"
    },
    {
     "data": {
      "text/html": [
       "<div>\n",
       "<style scoped>\n",
       "    .dataframe tbody tr th:only-of-type {\n",
       "        vertical-align: middle;\n",
       "    }\n",
       "\n",
       "    .dataframe tbody tr th {\n",
       "        vertical-align: top;\n",
       "    }\n",
       "\n",
       "    .dataframe thead th {\n",
       "        text-align: right;\n",
       "    }\n",
       "</style>\n",
       "<table border=\"1\" class=\"dataframe\">\n",
       "  <thead>\n",
       "    <tr style=\"text-align: right;\">\n",
       "      <th></th>\n",
       "      <th>date</th>\n",
       "      <th>final_output_recovery</th>\n",
       "      <th>primary_cleaner_input_sulfate</th>\n",
       "      <th>primary_cleaner_input_depressant</th>\n",
       "      <th>primary_cleaner_input_feed_size</th>\n",
       "      <th>primary_cleaner_input_xanthate</th>\n",
       "      <th>primary_cleaner_state_floatbank8_a_air</th>\n",
       "      <th>primary_cleaner_state_floatbank8_a_level</th>\n",
       "      <th>primary_cleaner_state_floatbank8_b_air</th>\n",
       "      <th>primary_cleaner_state_floatbank8_b_level</th>\n",
       "      <th>...</th>\n",
       "      <th>secondary_cleaner_state_floatbank4_a_level</th>\n",
       "      <th>secondary_cleaner_state_floatbank4_b_air</th>\n",
       "      <th>secondary_cleaner_state_floatbank4_b_level</th>\n",
       "      <th>secondary_cleaner_state_floatbank5_a_air</th>\n",
       "      <th>secondary_cleaner_state_floatbank5_a_level</th>\n",
       "      <th>secondary_cleaner_state_floatbank5_b_air</th>\n",
       "      <th>secondary_cleaner_state_floatbank5_b_level</th>\n",
       "      <th>secondary_cleaner_state_floatbank6_a_air</th>\n",
       "      <th>secondary_cleaner_state_floatbank6_a_level</th>\n",
       "      <th>recovery_new</th>\n",
       "    </tr>\n",
       "  </thead>\n",
       "  <tbody>\n",
       "    <tr>\n",
       "      <th>7707</th>\n",
       "      <td>2017-06-02 03:59:59</td>\n",
       "      <td>57.896660</td>\n",
       "      <td>115.129206</td>\n",
       "      <td>13.296829</td>\n",
       "      <td>6.660000</td>\n",
       "      <td>0.989606</td>\n",
       "      <td>1501.839181</td>\n",
       "      <td>-499.354948</td>\n",
       "      <td>1500.006831</td>\n",
       "      <td>-499.223490</td>\n",
       "      <td>...</td>\n",
       "      <td>-501.802723</td>\n",
       "      <td>22.986703</td>\n",
       "      <td>-380.388348</td>\n",
       "      <td>20.086566</td>\n",
       "      <td>-500.379100</td>\n",
       "      <td>20.082106</td>\n",
       "      <td>-500.093883</td>\n",
       "      <td>14.992580</td>\n",
       "      <td>-502.326021</td>\n",
       "      <td>79.634424</td>\n",
       "    </tr>\n",
       "    <tr>\n",
       "      <th>13114</th>\n",
       "      <td>2018-06-23 02:59:59</td>\n",
       "      <td>63.518701</td>\n",
       "      <td>164.309088</td>\n",
       "      <td>4.001220</td>\n",
       "      <td>7.360000</td>\n",
       "      <td>1.889420</td>\n",
       "      <td>1801.197492</td>\n",
       "      <td>-501.532006</td>\n",
       "      <td>1799.308278</td>\n",
       "      <td>-497.856930</td>\n",
       "      <td>...</td>\n",
       "      <td>-508.239615</td>\n",
       "      <td>22.916517</td>\n",
       "      <td>-460.489092</td>\n",
       "      <td>20.002705</td>\n",
       "      <td>-503.726568</td>\n",
       "      <td>15.980652</td>\n",
       "      <td>-500.233939</td>\n",
       "      <td>15.989075</td>\n",
       "      <td>-501.521502</td>\n",
       "      <td>92.284274</td>\n",
       "    </tr>\n",
       "    <tr>\n",
       "      <th>1738</th>\n",
       "      <td>2016-04-12 04:00:00</td>\n",
       "      <td>66.813867</td>\n",
       "      <td>84.980333</td>\n",
       "      <td>12.052316</td>\n",
       "      <td>6.880000</td>\n",
       "      <td>0.903001</td>\n",
       "      <td>1800.678021</td>\n",
       "      <td>-501.545693</td>\n",
       "      <td>1801.508020</td>\n",
       "      <td>-500.148499</td>\n",
       "      <td>...</td>\n",
       "      <td>-495.077804</td>\n",
       "      <td>12.021601</td>\n",
       "      <td>-481.665319</td>\n",
       "      <td>18.983148</td>\n",
       "      <td>-500.104626</td>\n",
       "      <td>18.936860</td>\n",
       "      <td>-500.057740</td>\n",
       "      <td>30.034110</td>\n",
       "      <td>-501.640671</td>\n",
       "      <td>79.503570</td>\n",
       "    </tr>\n",
       "    <tr>\n",
       "      <th>5461</th>\n",
       "      <td>2017-02-09 07:59:59</td>\n",
       "      <td>69.409672</td>\n",
       "      <td>139.125203</td>\n",
       "      <td>5.539374</td>\n",
       "      <td>6.640000</td>\n",
       "      <td>0.746212</td>\n",
       "      <td>1798.235656</td>\n",
       "      <td>-399.925424</td>\n",
       "      <td>1799.046865</td>\n",
       "      <td>-399.636855</td>\n",
       "      <td>...</td>\n",
       "      <td>-401.939850</td>\n",
       "      <td>22.998921</td>\n",
       "      <td>-400.988274</td>\n",
       "      <td>22.980003</td>\n",
       "      <td>-450.455499</td>\n",
       "      <td>19.998136</td>\n",
       "      <td>-449.778252</td>\n",
       "      <td>24.998932</td>\n",
       "      <td>-600.197467</td>\n",
       "      <td>87.369112</td>\n",
       "    </tr>\n",
       "    <tr>\n",
       "      <th>11088</th>\n",
       "      <td>2018-03-19 04:59:59</td>\n",
       "      <td>69.700395</td>\n",
       "      <td>99.524038</td>\n",
       "      <td>6.033375</td>\n",
       "      <td>6.410000</td>\n",
       "      <td>1.391478</td>\n",
       "      <td>1697.596748</td>\n",
       "      <td>-500.656502</td>\n",
       "      <td>1698.425433</td>\n",
       "      <td>-499.721207</td>\n",
       "      <td>...</td>\n",
       "      <td>-500.239339</td>\n",
       "      <td>15.107120</td>\n",
       "      <td>-500.324632</td>\n",
       "      <td>18.017864</td>\n",
       "      <td>-500.017934</td>\n",
       "      <td>11.999781</td>\n",
       "      <td>-500.273527</td>\n",
       "      <td>12.006548</td>\n",
       "      <td>-500.428593</td>\n",
       "      <td>91.492254</td>\n",
       "    </tr>\n",
       "    <tr>\n",
       "      <th>1298</th>\n",
       "      <td>2016-03-15 19:00:00</td>\n",
       "      <td>60.283545</td>\n",
       "      <td>114.631089</td>\n",
       "      <td>12.015547</td>\n",
       "      <td>7.946667</td>\n",
       "      <td>0.700680</td>\n",
       "      <td>1599.138132</td>\n",
       "      <td>-398.643222</td>\n",
       "      <td>1600.707619</td>\n",
       "      <td>-400.915796</td>\n",
       "      <td>...</td>\n",
       "      <td>-499.531376</td>\n",
       "      <td>11.900889</td>\n",
       "      <td>-500.135734</td>\n",
       "      <td>12.010415</td>\n",
       "      <td>-500.599127</td>\n",
       "      <td>9.987535</td>\n",
       "      <td>-500.054159</td>\n",
       "      <td>20.033350</td>\n",
       "      <td>-500.653751</td>\n",
       "      <td>77.495756</td>\n",
       "    </tr>\n",
       "    <tr>\n",
       "      <th>11109</th>\n",
       "      <td>2018-03-20 08:59:59</td>\n",
       "      <td>66.769927</td>\n",
       "      <td>131.144259</td>\n",
       "      <td>8.989394</td>\n",
       "      <td>6.410000</td>\n",
       "      <td>1.386138</td>\n",
       "      <td>1665.199674</td>\n",
       "      <td>-498.724647</td>\n",
       "      <td>1700.438227</td>\n",
       "      <td>-498.583942</td>\n",
       "      <td>...</td>\n",
       "      <td>-500.649431</td>\n",
       "      <td>14.933124</td>\n",
       "      <td>-500.203210</td>\n",
       "      <td>30.003613</td>\n",
       "      <td>-500.282485</td>\n",
       "      <td>15.008345</td>\n",
       "      <td>-500.079843</td>\n",
       "      <td>13.000873</td>\n",
       "      <td>-500.069609</td>\n",
       "      <td>87.415229</td>\n",
       "    </tr>\n",
       "    <tr>\n",
       "      <th>13160</th>\n",
       "      <td>2018-06-25 00:59:59</td>\n",
       "      <td>73.350834</td>\n",
       "      <td>167.814205</td>\n",
       "      <td>7.999007</td>\n",
       "      <td>7.420000</td>\n",
       "      <td>0.604407</td>\n",
       "      <td>1699.832212</td>\n",
       "      <td>-499.710536</td>\n",
       "      <td>1697.219887</td>\n",
       "      <td>-500.555267</td>\n",
       "      <td>...</td>\n",
       "      <td>-500.505555</td>\n",
       "      <td>22.980588</td>\n",
       "      <td>-500.760432</td>\n",
       "      <td>19.944714</td>\n",
       "      <td>-499.579841</td>\n",
       "      <td>14.986236</td>\n",
       "      <td>-500.064950</td>\n",
       "      <td>16.000621</td>\n",
       "      <td>-499.545400</td>\n",
       "      <td>92.841646</td>\n",
       "    </tr>\n",
       "    <tr>\n",
       "      <th>1732</th>\n",
       "      <td>2016-04-11 22:00:00</td>\n",
       "      <td>60.890062</td>\n",
       "      <td>77.093475</td>\n",
       "      <td>11.932652</td>\n",
       "      <td>7.500000</td>\n",
       "      <td>0.988157</td>\n",
       "      <td>1799.240525</td>\n",
       "      <td>-500.323189</td>\n",
       "      <td>1799.832691</td>\n",
       "      <td>-500.927026</td>\n",
       "      <td>...</td>\n",
       "      <td>-501.203267</td>\n",
       "      <td>11.984346</td>\n",
       "      <td>-487.685273</td>\n",
       "      <td>18.988944</td>\n",
       "      <td>-499.277279</td>\n",
       "      <td>18.998123</td>\n",
       "      <td>-500.564757</td>\n",
       "      <td>30.027752</td>\n",
       "      <td>-501.375687</td>\n",
       "      <td>79.217892</td>\n",
       "    </tr>\n",
       "    <tr>\n",
       "      <th>11766</th>\n",
       "      <td>2018-04-22 10:59:59</td>\n",
       "      <td>72.139039</td>\n",
       "      <td>140.687508</td>\n",
       "      <td>7.982810</td>\n",
       "      <td>8.230000</td>\n",
       "      <td>1.310504</td>\n",
       "      <td>1700.558012</td>\n",
       "      <td>-497.121949</td>\n",
       "      <td>1700.736844</td>\n",
       "      <td>-502.725800</td>\n",
       "      <td>...</td>\n",
       "      <td>-500.107198</td>\n",
       "      <td>20.015956</td>\n",
       "      <td>-499.880800</td>\n",
       "      <td>19.977434</td>\n",
       "      <td>-497.967648</td>\n",
       "      <td>15.002446</td>\n",
       "      <td>-499.226262</td>\n",
       "      <td>17.990864</td>\n",
       "      <td>-499.350372</td>\n",
       "      <td>94.358889</td>\n",
       "    </tr>\n",
       "  </tbody>\n",
       "</table>\n",
       "<p>10 rows × 55 columns</p>\n",
       "</div>"
      ],
      "text/plain": [
       "                      date  final_output_recovery  \\\n",
       "7707   2017-06-02 03:59:59              57.896660   \n",
       "13114  2018-06-23 02:59:59              63.518701   \n",
       "1738   2016-04-12 04:00:00              66.813867   \n",
       "5461   2017-02-09 07:59:59              69.409672   \n",
       "11088  2018-03-19 04:59:59              69.700395   \n",
       "1298   2016-03-15 19:00:00              60.283545   \n",
       "11109  2018-03-20 08:59:59              66.769927   \n",
       "13160  2018-06-25 00:59:59              73.350834   \n",
       "1732   2016-04-11 22:00:00              60.890062   \n",
       "11766  2018-04-22 10:59:59              72.139039   \n",
       "\n",
       "       primary_cleaner_input_sulfate  primary_cleaner_input_depressant  \\\n",
       "7707                      115.129206                         13.296829   \n",
       "13114                     164.309088                          4.001220   \n",
       "1738                       84.980333                         12.052316   \n",
       "5461                      139.125203                          5.539374   \n",
       "11088                      99.524038                          6.033375   \n",
       "1298                      114.631089                         12.015547   \n",
       "11109                     131.144259                          8.989394   \n",
       "13160                     167.814205                          7.999007   \n",
       "1732                       77.093475                         11.932652   \n",
       "11766                     140.687508                          7.982810   \n",
       "\n",
       "       primary_cleaner_input_feed_size  primary_cleaner_input_xanthate  \\\n",
       "7707                          6.660000                        0.989606   \n",
       "13114                         7.360000                        1.889420   \n",
       "1738                          6.880000                        0.903001   \n",
       "5461                          6.640000                        0.746212   \n",
       "11088                         6.410000                        1.391478   \n",
       "1298                          7.946667                        0.700680   \n",
       "11109                         6.410000                        1.386138   \n",
       "13160                         7.420000                        0.604407   \n",
       "1732                          7.500000                        0.988157   \n",
       "11766                         8.230000                        1.310504   \n",
       "\n",
       "       primary_cleaner_state_floatbank8_a_air  \\\n",
       "7707                              1501.839181   \n",
       "13114                             1801.197492   \n",
       "1738                              1800.678021   \n",
       "5461                              1798.235656   \n",
       "11088                             1697.596748   \n",
       "1298                              1599.138132   \n",
       "11109                             1665.199674   \n",
       "13160                             1699.832212   \n",
       "1732                              1799.240525   \n",
       "11766                             1700.558012   \n",
       "\n",
       "       primary_cleaner_state_floatbank8_a_level  \\\n",
       "7707                                -499.354948   \n",
       "13114                               -501.532006   \n",
       "1738                                -501.545693   \n",
       "5461                                -399.925424   \n",
       "11088                               -500.656502   \n",
       "1298                                -398.643222   \n",
       "11109                               -498.724647   \n",
       "13160                               -499.710536   \n",
       "1732                                -500.323189   \n",
       "11766                               -497.121949   \n",
       "\n",
       "       primary_cleaner_state_floatbank8_b_air  \\\n",
       "7707                              1500.006831   \n",
       "13114                             1799.308278   \n",
       "1738                              1801.508020   \n",
       "5461                              1799.046865   \n",
       "11088                             1698.425433   \n",
       "1298                              1600.707619   \n",
       "11109                             1700.438227   \n",
       "13160                             1697.219887   \n",
       "1732                              1799.832691   \n",
       "11766                             1700.736844   \n",
       "\n",
       "       primary_cleaner_state_floatbank8_b_level  ...  \\\n",
       "7707                                -499.223490  ...   \n",
       "13114                               -497.856930  ...   \n",
       "1738                                -500.148499  ...   \n",
       "5461                                -399.636855  ...   \n",
       "11088                               -499.721207  ...   \n",
       "1298                                -400.915796  ...   \n",
       "11109                               -498.583942  ...   \n",
       "13160                               -500.555267  ...   \n",
       "1732                                -500.927026  ...   \n",
       "11766                               -502.725800  ...   \n",
       "\n",
       "       secondary_cleaner_state_floatbank4_a_level  \\\n",
       "7707                                  -501.802723   \n",
       "13114                                 -508.239615   \n",
       "1738                                  -495.077804   \n",
       "5461                                  -401.939850   \n",
       "11088                                 -500.239339   \n",
       "1298                                  -499.531376   \n",
       "11109                                 -500.649431   \n",
       "13160                                 -500.505555   \n",
       "1732                                  -501.203267   \n",
       "11766                                 -500.107198   \n",
       "\n",
       "       secondary_cleaner_state_floatbank4_b_air  \\\n",
       "7707                                  22.986703   \n",
       "13114                                 22.916517   \n",
       "1738                                  12.021601   \n",
       "5461                                  22.998921   \n",
       "11088                                 15.107120   \n",
       "1298                                  11.900889   \n",
       "11109                                 14.933124   \n",
       "13160                                 22.980588   \n",
       "1732                                  11.984346   \n",
       "11766                                 20.015956   \n",
       "\n",
       "       secondary_cleaner_state_floatbank4_b_level  \\\n",
       "7707                                  -380.388348   \n",
       "13114                                 -460.489092   \n",
       "1738                                  -481.665319   \n",
       "5461                                  -400.988274   \n",
       "11088                                 -500.324632   \n",
       "1298                                  -500.135734   \n",
       "11109                                 -500.203210   \n",
       "13160                                 -500.760432   \n",
       "1732                                  -487.685273   \n",
       "11766                                 -499.880800   \n",
       "\n",
       "       secondary_cleaner_state_floatbank5_a_air  \\\n",
       "7707                                  20.086566   \n",
       "13114                                 20.002705   \n",
       "1738                                  18.983148   \n",
       "5461                                  22.980003   \n",
       "11088                                 18.017864   \n",
       "1298                                  12.010415   \n",
       "11109                                 30.003613   \n",
       "13160                                 19.944714   \n",
       "1732                                  18.988944   \n",
       "11766                                 19.977434   \n",
       "\n",
       "       secondary_cleaner_state_floatbank5_a_level  \\\n",
       "7707                                  -500.379100   \n",
       "13114                                 -503.726568   \n",
       "1738                                  -500.104626   \n",
       "5461                                  -450.455499   \n",
       "11088                                 -500.017934   \n",
       "1298                                  -500.599127   \n",
       "11109                                 -500.282485   \n",
       "13160                                 -499.579841   \n",
       "1732                                  -499.277279   \n",
       "11766                                 -497.967648   \n",
       "\n",
       "       secondary_cleaner_state_floatbank5_b_air  \\\n",
       "7707                                  20.082106   \n",
       "13114                                 15.980652   \n",
       "1738                                  18.936860   \n",
       "5461                                  19.998136   \n",
       "11088                                 11.999781   \n",
       "1298                                   9.987535   \n",
       "11109                                 15.008345   \n",
       "13160                                 14.986236   \n",
       "1732                                  18.998123   \n",
       "11766                                 15.002446   \n",
       "\n",
       "       secondary_cleaner_state_floatbank5_b_level  \\\n",
       "7707                                  -500.093883   \n",
       "13114                                 -500.233939   \n",
       "1738                                  -500.057740   \n",
       "5461                                  -449.778252   \n",
       "11088                                 -500.273527   \n",
       "1298                                  -500.054159   \n",
       "11109                                 -500.079843   \n",
       "13160                                 -500.064950   \n",
       "1732                                  -500.564757   \n",
       "11766                                 -499.226262   \n",
       "\n",
       "       secondary_cleaner_state_floatbank6_a_air  \\\n",
       "7707                                  14.992580   \n",
       "13114                                 15.989075   \n",
       "1738                                  30.034110   \n",
       "5461                                  24.998932   \n",
       "11088                                 12.006548   \n",
       "1298                                  20.033350   \n",
       "11109                                 13.000873   \n",
       "13160                                 16.000621   \n",
       "1732                                  30.027752   \n",
       "11766                                 17.990864   \n",
       "\n",
       "       secondary_cleaner_state_floatbank6_a_level  recovery_new  \n",
       "7707                                  -502.326021     79.634424  \n",
       "13114                                 -501.521502     92.284274  \n",
       "1738                                  -501.640671     79.503570  \n",
       "5461                                  -600.197467     87.369112  \n",
       "11088                                 -500.428593     91.492254  \n",
       "1298                                  -500.653751     77.495756  \n",
       "11109                                 -500.069609     87.415229  \n",
       "13160                                 -499.545400     92.841646  \n",
       "1732                                  -501.375687     79.217892  \n",
       "11766                                 -499.350372     94.358889  \n",
       "\n",
       "[10 rows x 55 columns]"
      ]
     },
     "metadata": {},
     "output_type": "display_data"
    },
    {
     "name": "stdout",
     "output_type": "stream",
     "text": [
      "Количество дубликатов: 0\n"
     ]
    }
   ],
   "source": [
    "df_info(df_train)"
   ]
  },
  {
   "cell_type": "code",
   "execution_count": 12,
   "metadata": {},
   "outputs": [
    {
     "name": "stdout",
     "output_type": "stream",
     "text": [
      "<class 'pandas.core.frame.DataFrame'>\n",
      "RangeIndex: 5290 entries, 0 to 5289\n",
      "Data columns (total 55 columns):\n",
      " #   Column                                      Non-Null Count  Dtype  \n",
      "---  ------                                      --------------  -----  \n",
      " 0   date                                        5290 non-null   object \n",
      " 1   primary_cleaner_input_sulfate               5286 non-null   float64\n",
      " 2   primary_cleaner_input_depressant            5285 non-null   float64\n",
      " 3   primary_cleaner_input_feed_size             5290 non-null   float64\n",
      " 4   primary_cleaner_input_xanthate              5286 non-null   float64\n",
      " 5   primary_cleaner_state_floatbank8_a_air      5290 non-null   float64\n",
      " 6   primary_cleaner_state_floatbank8_a_level    5290 non-null   float64\n",
      " 7   primary_cleaner_state_floatbank8_b_air      5290 non-null   float64\n",
      " 8   primary_cleaner_state_floatbank8_b_level    5290 non-null   float64\n",
      " 9   primary_cleaner_state_floatbank8_c_air      5290 non-null   float64\n",
      " 10  primary_cleaner_state_floatbank8_c_level    5290 non-null   float64\n",
      " 11  primary_cleaner_state_floatbank8_d_air      5290 non-null   float64\n",
      " 12  primary_cleaner_state_floatbank8_d_level    5290 non-null   float64\n",
      " 13  rougher_input_feed_ag                       5290 non-null   float64\n",
      " 14  rougher_input_feed_pb                       5290 non-null   float64\n",
      " 15  rougher_input_feed_rate                     5287 non-null   float64\n",
      " 16  rougher_input_feed_size                     5289 non-null   float64\n",
      " 17  rougher_input_feed_sol                      5269 non-null   float64\n",
      " 18  rougher_input_feed_au                       5290 non-null   float64\n",
      " 19  rougher_input_floatbank10_sulfate           5285 non-null   float64\n",
      " 20  rougher_input_floatbank10_xanthate          5290 non-null   float64\n",
      " 21  rougher_input_floatbank11_sulfate           5282 non-null   float64\n",
      " 22  rougher_input_floatbank11_xanthate          5265 non-null   float64\n",
      " 23  rougher_state_floatbank10_a_air             5290 non-null   float64\n",
      " 24  rougher_state_floatbank10_a_level           5290 non-null   float64\n",
      " 25  rougher_state_floatbank10_b_air             5290 non-null   float64\n",
      " 26  rougher_state_floatbank10_b_level           5290 non-null   float64\n",
      " 27  rougher_state_floatbank10_c_air             5290 non-null   float64\n",
      " 28  rougher_state_floatbank10_c_level           5290 non-null   float64\n",
      " 29  rougher_state_floatbank10_d_air             5290 non-null   float64\n",
      " 30  rougher_state_floatbank10_d_level           5290 non-null   float64\n",
      " 31  rougher_state_floatbank10_e_air             5290 non-null   float64\n",
      " 32  rougher_state_floatbank10_e_level           5290 non-null   float64\n",
      " 33  rougher_state_floatbank10_f_air             5290 non-null   float64\n",
      " 34  rougher_state_floatbank10_f_level           5290 non-null   float64\n",
      " 35  secondary_cleaner_state_floatbank2_a_air    5287 non-null   float64\n",
      " 36  secondary_cleaner_state_floatbank2_a_level  5290 non-null   float64\n",
      " 37  secondary_cleaner_state_floatbank2_b_air    5288 non-null   float64\n",
      " 38  secondary_cleaner_state_floatbank2_b_level  5290 non-null   float64\n",
      " 39  secondary_cleaner_state_floatbank3_a_air    5281 non-null   float64\n",
      " 40  secondary_cleaner_state_floatbank3_a_level  5290 non-null   float64\n",
      " 41  secondary_cleaner_state_floatbank3_b_air    5290 non-null   float64\n",
      " 42  secondary_cleaner_state_floatbank3_b_level  5290 non-null   float64\n",
      " 43  secondary_cleaner_state_floatbank4_a_air    5290 non-null   float64\n",
      " 44  secondary_cleaner_state_floatbank4_a_level  5290 non-null   float64\n",
      " 45  secondary_cleaner_state_floatbank4_b_air    5290 non-null   float64\n",
      " 46  secondary_cleaner_state_floatbank4_b_level  5290 non-null   float64\n",
      " 47  secondary_cleaner_state_floatbank5_a_air    5290 non-null   float64\n",
      " 48  secondary_cleaner_state_floatbank5_a_level  5290 non-null   float64\n",
      " 49  secondary_cleaner_state_floatbank5_b_air    5290 non-null   float64\n",
      " 50  secondary_cleaner_state_floatbank5_b_level  5290 non-null   float64\n",
      " 51  secondary_cleaner_state_floatbank6_a_air    5290 non-null   float64\n",
      " 52  secondary_cleaner_state_floatbank6_a_level  5290 non-null   float64\n",
      " 53  recovery_new                                5290 non-null   float64\n",
      " 54  final_output_recovery                       5290 non-null   float64\n",
      "dtypes: float64(54), object(1)\n",
      "memory usage: 2.2+ MB\n"
     ]
    },
    {
     "data": {
      "text/plain": [
       "None"
      ]
     },
     "metadata": {},
     "output_type": "display_data"
    },
    {
     "data": {
      "text/html": [
       "<div>\n",
       "<style scoped>\n",
       "    .dataframe tbody tr th:only-of-type {\n",
       "        vertical-align: middle;\n",
       "    }\n",
       "\n",
       "    .dataframe tbody tr th {\n",
       "        vertical-align: top;\n",
       "    }\n",
       "\n",
       "    .dataframe thead th {\n",
       "        text-align: right;\n",
       "    }\n",
       "</style>\n",
       "<table border=\"1\" class=\"dataframe\">\n",
       "  <thead>\n",
       "    <tr style=\"text-align: right;\">\n",
       "      <th></th>\n",
       "      <th>count</th>\n",
       "      <th>mean</th>\n",
       "      <th>std</th>\n",
       "      <th>min</th>\n",
       "      <th>25%</th>\n",
       "      <th>50%</th>\n",
       "      <th>75%</th>\n",
       "      <th>max</th>\n",
       "    </tr>\n",
       "  </thead>\n",
       "  <tbody>\n",
       "    <tr>\n",
       "      <th>primary_cleaner_input_sulfate</th>\n",
       "      <td>5286.0</td>\n",
       "      <td>174.839652</td>\n",
       "      <td>43.027080</td>\n",
       "      <td>2.566156e+00</td>\n",
       "      <td>147.121401</td>\n",
       "      <td>177.828489</td>\n",
       "      <td>208.125438</td>\n",
       "      <td>265.983123</td>\n",
       "    </tr>\n",
       "    <tr>\n",
       "      <th>primary_cleaner_input_depressant</th>\n",
       "      <td>5285.0</td>\n",
       "      <td>8.683596</td>\n",
       "      <td>3.072050</td>\n",
       "      <td>3.839482e-03</td>\n",
       "      <td>6.489555</td>\n",
       "      <td>8.052207</td>\n",
       "      <td>10.027764</td>\n",
       "      <td>40.000000</td>\n",
       "    </tr>\n",
       "    <tr>\n",
       "      <th>primary_cleaner_input_feed_size</th>\n",
       "      <td>5290.0</td>\n",
       "      <td>7.266339</td>\n",
       "      <td>0.610219</td>\n",
       "      <td>5.650000e+00</td>\n",
       "      <td>6.890000</td>\n",
       "      <td>7.250000</td>\n",
       "      <td>7.600000</td>\n",
       "      <td>15.500000</td>\n",
       "    </tr>\n",
       "    <tr>\n",
       "      <th>primary_cleaner_input_xanthate</th>\n",
       "      <td>5286.0</td>\n",
       "      <td>1.383803</td>\n",
       "      <td>0.643474</td>\n",
       "      <td>4.983673e-03</td>\n",
       "      <td>0.907623</td>\n",
       "      <td>1.197610</td>\n",
       "      <td>1.797819</td>\n",
       "      <td>4.102454</td>\n",
       "    </tr>\n",
       "    <tr>\n",
       "      <th>primary_cleaner_state_floatbank8_a_air</th>\n",
       "      <td>5290.0</td>\n",
       "      <td>1539.494325</td>\n",
       "      <td>116.797884</td>\n",
       "      <td>5.445860e-32</td>\n",
       "      <td>1498.935802</td>\n",
       "      <td>1585.129123</td>\n",
       "      <td>1602.076529</td>\n",
       "      <td>2103.103580</td>\n",
       "    </tr>\n",
       "    <tr>\n",
       "      <th>primary_cleaner_state_floatbank8_a_level</th>\n",
       "      <td>5290.0</td>\n",
       "      <td>-497.665883</td>\n",
       "      <td>19.952431</td>\n",
       "      <td>-7.953163e+02</td>\n",
       "      <td>-500.357298</td>\n",
       "      <td>-499.969164</td>\n",
       "      <td>-499.568951</td>\n",
       "      <td>-57.195404</td>\n",
       "    </tr>\n",
       "    <tr>\n",
       "      <th>primary_cleaner_state_floatbank8_b_air</th>\n",
       "      <td>5290.0</td>\n",
       "      <td>1545.174232</td>\n",
       "      <td>122.224588</td>\n",
       "      <td>6.647490e-32</td>\n",
       "      <td>1498.970993</td>\n",
       "      <td>1595.621798</td>\n",
       "      <td>1602.323545</td>\n",
       "      <td>1813.083671</td>\n",
       "    </tr>\n",
       "    <tr>\n",
       "      <th>primary_cleaner_state_floatbank8_b_level</th>\n",
       "      <td>5290.0</td>\n",
       "      <td>-500.273098</td>\n",
       "      <td>32.968307</td>\n",
       "      <td>-7.999970e+02</td>\n",
       "      <td>-500.703002</td>\n",
       "      <td>-500.028514</td>\n",
       "      <td>-499.293257</td>\n",
       "      <td>-142.527229</td>\n",
       "    </tr>\n",
       "    <tr>\n",
       "      <th>primary_cleaner_state_floatbank8_c_air</th>\n",
       "      <td>5290.0</td>\n",
       "      <td>1527.272362</td>\n",
       "      <td>122.538034</td>\n",
       "      <td>4.033736e-32</td>\n",
       "      <td>1473.229862</td>\n",
       "      <td>1549.594682</td>\n",
       "      <td>1601.143775</td>\n",
       "      <td>1715.053773</td>\n",
       "    </tr>\n",
       "    <tr>\n",
       "      <th>primary_cleaner_state_floatbank8_c_level</th>\n",
       "      <td>5290.0</td>\n",
       "      <td>-498.330680</td>\n",
       "      <td>21.964876</td>\n",
       "      <td>-7.999606e+02</td>\n",
       "      <td>-501.018117</td>\n",
       "      <td>-500.017711</td>\n",
       "      <td>-498.994130</td>\n",
       "      <td>-150.937035</td>\n",
       "    </tr>\n",
       "    <tr>\n",
       "      <th>primary_cleaner_state_floatbank8_d_air</th>\n",
       "      <td>5290.0</td>\n",
       "      <td>1544.844335</td>\n",
       "      <td>124.773081</td>\n",
       "      <td>4.039220e-32</td>\n",
       "      <td>1499.481404</td>\n",
       "      <td>1594.579112</td>\n",
       "      <td>1600.964772</td>\n",
       "      <td>1913.256561</td>\n",
       "    </tr>\n",
       "    <tr>\n",
       "      <th>primary_cleaner_state_floatbank8_d_level</th>\n",
       "      <td>5290.0</td>\n",
       "      <td>-500.199527</td>\n",
       "      <td>31.045257</td>\n",
       "      <td>-7.997943e+02</td>\n",
       "      <td>-500.452469</td>\n",
       "      <td>-500.023307</td>\n",
       "      <td>-499.607040</td>\n",
       "      <td>-158.950573</td>\n",
       "    </tr>\n",
       "    <tr>\n",
       "      <th>rougher_input_feed_ag</th>\n",
       "      <td>5290.0</td>\n",
       "      <td>9.371940</td>\n",
       "      <td>1.926264</td>\n",
       "      <td>5.684412e-01</td>\n",
       "      <td>8.112434</td>\n",
       "      <td>9.762654</td>\n",
       "      <td>10.652297</td>\n",
       "      <td>14.406130</td>\n",
       "    </tr>\n",
       "    <tr>\n",
       "      <th>rougher_input_feed_pb</th>\n",
       "      <td>5290.0</td>\n",
       "      <td>3.798082</td>\n",
       "      <td>0.954859</td>\n",
       "      <td>2.736769e-01</td>\n",
       "      <td>3.240251</td>\n",
       "      <td>3.740716</td>\n",
       "      <td>4.282634</td>\n",
       "      <td>6.905684</td>\n",
       "    </tr>\n",
       "    <tr>\n",
       "      <th>rougher_input_feed_rate</th>\n",
       "      <td>5287.0</td>\n",
       "      <td>489.800620</td>\n",
       "      <td>108.036326</td>\n",
       "      <td>2.985849e-03</td>\n",
       "      <td>407.020883</td>\n",
       "      <td>499.051440</td>\n",
       "      <td>575.307213</td>\n",
       "      <td>707.364020</td>\n",
       "    </tr>\n",
       "    <tr>\n",
       "      <th>rougher_input_feed_size</th>\n",
       "      <td>5289.0</td>\n",
       "      <td>55.951097</td>\n",
       "      <td>19.081758</td>\n",
       "      <td>4.636880e-02</td>\n",
       "      <td>43.906347</td>\n",
       "      <td>50.841029</td>\n",
       "      <td>62.431047</td>\n",
       "      <td>392.494040</td>\n",
       "    </tr>\n",
       "    <tr>\n",
       "      <th>rougher_input_feed_sol</th>\n",
       "      <td>5269.0</td>\n",
       "      <td>37.716648</td>\n",
       "      <td>5.491415</td>\n",
       "      <td>1.393488e+00</td>\n",
       "      <td>34.505576</td>\n",
       "      <td>37.980276</td>\n",
       "      <td>41.635385</td>\n",
       "      <td>53.477742</td>\n",
       "    </tr>\n",
       "    <tr>\n",
       "      <th>rougher_input_feed_au</th>\n",
       "      <td>5290.0</td>\n",
       "      <td>9.334682</td>\n",
       "      <td>1.619521</td>\n",
       "      <td>5.686322e-01</td>\n",
       "      <td>8.207814</td>\n",
       "      <td>9.593766</td>\n",
       "      <td>10.463538</td>\n",
       "      <td>13.731330</td>\n",
       "    </tr>\n",
       "    <tr>\n",
       "      <th>rougher_input_floatbank10_sulfate</th>\n",
       "      <td>5285.0</td>\n",
       "      <td>13.855759</td>\n",
       "      <td>3.350852</td>\n",
       "      <td>1.147460e-03</td>\n",
       "      <td>11.995006</td>\n",
       "      <td>14.003126</td>\n",
       "      <td>16.974284</td>\n",
       "      <td>24.280636</td>\n",
       "    </tr>\n",
       "    <tr>\n",
       "      <th>rougher_input_floatbank10_xanthate</th>\n",
       "      <td>5290.0</td>\n",
       "      <td>6.467745</td>\n",
       "      <td>1.065114</td>\n",
       "      <td>5.682328e-04</td>\n",
       "      <td>5.998779</td>\n",
       "      <td>6.498181</td>\n",
       "      <td>7.085457</td>\n",
       "      <td>8.910468</td>\n",
       "    </tr>\n",
       "    <tr>\n",
       "      <th>rougher_input_floatbank11_sulfate</th>\n",
       "      <td>5282.0</td>\n",
       "      <td>13.922328</td>\n",
       "      <td>3.223769</td>\n",
       "      <td>7.673764e-05</td>\n",
       "      <td>11.997200</td>\n",
       "      <td>14.004371</td>\n",
       "      <td>16.959671</td>\n",
       "      <td>24.280966</td>\n",
       "    </tr>\n",
       "    <tr>\n",
       "      <th>rougher_input_floatbank11_xanthate</th>\n",
       "      <td>5265.0</td>\n",
       "      <td>6.512103</td>\n",
       "      <td>0.886989</td>\n",
       "      <td>6.985269e-03</td>\n",
       "      <td>5.999157</td>\n",
       "      <td>6.498744</td>\n",
       "      <td>7.091808</td>\n",
       "      <td>8.621338</td>\n",
       "    </tr>\n",
       "    <tr>\n",
       "      <th>rougher_state_floatbank10_a_air</th>\n",
       "      <td>5290.0</td>\n",
       "      <td>1053.400166</td>\n",
       "      <td>121.139309</td>\n",
       "      <td>-4.206929e-02</td>\n",
       "      <td>999.205344</td>\n",
       "      <td>1000.472055</td>\n",
       "      <td>1006.254299</td>\n",
       "      <td>1423.274687</td>\n",
       "    </tr>\n",
       "    <tr>\n",
       "      <th>rougher_state_floatbank10_a_level</th>\n",
       "      <td>5290.0</td>\n",
       "      <td>-395.732530</td>\n",
       "      <td>91.085505</td>\n",
       "      <td>-6.579498e+02</td>\n",
       "      <td>-499.920565</td>\n",
       "      <td>-399.693363</td>\n",
       "      <td>-300.060056</td>\n",
       "      <td>-273.776101</td>\n",
       "    </tr>\n",
       "    <tr>\n",
       "      <th>rougher_state_floatbank10_b_air</th>\n",
       "      <td>5290.0</td>\n",
       "      <td>1318.926879</td>\n",
       "      <td>156.450366</td>\n",
       "      <td>-7.218064e-01</td>\n",
       "      <td>1200.871883</td>\n",
       "      <td>1302.254995</td>\n",
       "      <td>1433.955649</td>\n",
       "      <td>1706.640419</td>\n",
       "    </tr>\n",
       "    <tr>\n",
       "      <th>rougher_state_floatbank10_b_level</th>\n",
       "      <td>5290.0</td>\n",
       "      <td>-475.241428</td>\n",
       "      <td>45.649466</td>\n",
       "      <td>-6.502453e+02</td>\n",
       "      <td>-500.256114</td>\n",
       "      <td>-499.837803</td>\n",
       "      <td>-450.749619</td>\n",
       "      <td>-298.200051</td>\n",
       "    </tr>\n",
       "    <tr>\n",
       "      <th>rougher_state_floatbank10_c_air</th>\n",
       "      <td>5290.0</td>\n",
       "      <td>1301.595477</td>\n",
       "      <td>171.269667</td>\n",
       "      <td>-5.663551e-02</td>\n",
       "      <td>1199.651371</td>\n",
       "      <td>1300.202274</td>\n",
       "      <td>1406.594956</td>\n",
       "      <td>1731.017788</td>\n",
       "    </tr>\n",
       "    <tr>\n",
       "      <th>rougher_state_floatbank10_c_level</th>\n",
       "      <td>5290.0</td>\n",
       "      <td>-474.836671</td>\n",
       "      <td>45.859866</td>\n",
       "      <td>-6.475444e+02</td>\n",
       "      <td>-500.233831</td>\n",
       "      <td>-499.777222</td>\n",
       "      <td>-451.153188</td>\n",
       "      <td>-298.036852</td>\n",
       "    </tr>\n",
       "    <tr>\n",
       "      <th>rougher_state_floatbank10_d_air</th>\n",
       "      <td>5290.0</td>\n",
       "      <td>1214.847960</td>\n",
       "      <td>185.763319</td>\n",
       "      <td>-9.922190e-01</td>\n",
       "      <td>1093.368068</td>\n",
       "      <td>1207.014092</td>\n",
       "      <td>1391.497269</td>\n",
       "      <td>1775.218584</td>\n",
       "    </tr>\n",
       "    <tr>\n",
       "      <th>rougher_state_floatbank10_d_level</th>\n",
       "      <td>5290.0</td>\n",
       "      <td>-475.682272</td>\n",
       "      <td>47.844967</td>\n",
       "      <td>-6.483907e+02</td>\n",
       "      <td>-500.440610</td>\n",
       "      <td>-499.691917</td>\n",
       "      <td>-452.483463</td>\n",
       "      <td>-76.397327</td>\n",
       "    </tr>\n",
       "    <tr>\n",
       "      <th>rougher_state_floatbank10_e_air</th>\n",
       "      <td>5290.0</td>\n",
       "      <td>1056.648995</td>\n",
       "      <td>131.542839</td>\n",
       "      <td>-1.982295e+00</td>\n",
       "      <td>999.361403</td>\n",
       "      <td>1047.495449</td>\n",
       "      <td>1101.365315</td>\n",
       "      <td>1467.184843</td>\n",
       "    </tr>\n",
       "    <tr>\n",
       "      <th>rougher_state_floatbank10_e_level</th>\n",
       "      <td>5290.0</td>\n",
       "      <td>-469.029688</td>\n",
       "      <td>59.325990</td>\n",
       "      <td>-6.492675e+02</td>\n",
       "      <td>-500.190639</td>\n",
       "      <td>-499.765796</td>\n",
       "      <td>-450.957513</td>\n",
       "      <td>-139.753025</td>\n",
       "    </tr>\n",
       "    <tr>\n",
       "      <th>rougher_state_floatbank10_f_air</th>\n",
       "      <td>5290.0</td>\n",
       "      <td>997.949719</td>\n",
       "      <td>128.218869</td>\n",
       "      <td>-2.593390e+00</td>\n",
       "      <td>901.024994</td>\n",
       "      <td>999.441879</td>\n",
       "      <td>1050.433005</td>\n",
       "      <td>1476.588107</td>\n",
       "    </tr>\n",
       "    <tr>\n",
       "      <th>rougher_state_floatbank10_f_level</th>\n",
       "      <td>5290.0</td>\n",
       "      <td>-470.482465</td>\n",
       "      <td>60.759318</td>\n",
       "      <td>-6.499493e+02</td>\n",
       "      <td>-500.624783</td>\n",
       "      <td>-499.680986</td>\n",
       "      <td>-451.986460</td>\n",
       "      <td>-249.801043</td>\n",
       "    </tr>\n",
       "    <tr>\n",
       "      <th>secondary_cleaner_state_floatbank2_a_air</th>\n",
       "      <td>5287.0</td>\n",
       "      <td>26.312630</td>\n",
       "      <td>3.429852</td>\n",
       "      <td>2.053286e-01</td>\n",
       "      <td>24.942328</td>\n",
       "      <td>26.910569</td>\n",
       "      <td>28.091885</td>\n",
       "      <td>32.138727</td>\n",
       "    </tr>\n",
       "    <tr>\n",
       "      <th>secondary_cleaner_state_floatbank2_a_level</th>\n",
       "      <td>5290.0</td>\n",
       "      <td>-502.750897</td>\n",
       "      <td>28.756505</td>\n",
       "      <td>-7.840911e+02</td>\n",
       "      <td>-500.206517</td>\n",
       "      <td>-500.003902</td>\n",
       "      <td>-499.791639</td>\n",
       "      <td>-300.343670</td>\n",
       "    </tr>\n",
       "    <tr>\n",
       "      <th>secondary_cleaner_state_floatbank2_b_air</th>\n",
       "      <td>5288.0</td>\n",
       "      <td>21.949119</td>\n",
       "      <td>4.354961</td>\n",
       "      <td>6.063908e-03</td>\n",
       "      <td>20.002315</td>\n",
       "      <td>22.942603</td>\n",
       "      <td>24.985013</td>\n",
       "      <td>28.165864</td>\n",
       "    </tr>\n",
       "    <tr>\n",
       "      <th>secondary_cleaner_state_floatbank2_b_level</th>\n",
       "      <td>5290.0</td>\n",
       "      <td>-501.987097</td>\n",
       "      <td>34.582722</td>\n",
       "      <td>-7.977840e+02</td>\n",
       "      <td>-500.218030</td>\n",
       "      <td>-500.019058</td>\n",
       "      <td>-499.831532</td>\n",
       "      <td>-211.999273</td>\n",
       "    </tr>\n",
       "    <tr>\n",
       "      <th>secondary_cleaner_state_floatbank3_a_air</th>\n",
       "      <td>5281.0</td>\n",
       "      <td>25.402926</td>\n",
       "      <td>6.526457</td>\n",
       "      <td>0.000000e+00</td>\n",
       "      <td>22.982288</td>\n",
       "      <td>25.010105</td>\n",
       "      <td>30.002063</td>\n",
       "      <td>40.041997</td>\n",
       "    </tr>\n",
       "    <tr>\n",
       "      <th>secondary_cleaner_state_floatbank3_a_level</th>\n",
       "      <td>5290.0</td>\n",
       "      <td>-507.490314</td>\n",
       "      <td>47.620908</td>\n",
       "      <td>-7.997558e+02</td>\n",
       "      <td>-500.297951</td>\n",
       "      <td>-500.034578</td>\n",
       "      <td>-499.780163</td>\n",
       "      <td>-313.866425</td>\n",
       "    </tr>\n",
       "    <tr>\n",
       "      <th>secondary_cleaner_state_floatbank3_b_air</th>\n",
       "      <td>5290.0</td>\n",
       "      <td>20.982108</td>\n",
       "      <td>6.736179</td>\n",
       "      <td>1.521587e-17</td>\n",
       "      <td>17.967855</td>\n",
       "      <td>21.003164</td>\n",
       "      <td>26.976977</td>\n",
       "      <td>32.039365</td>\n",
       "    </tr>\n",
       "    <tr>\n",
       "      <th>secondary_cleaner_state_floatbank3_b_level</th>\n",
       "      <td>5290.0</td>\n",
       "      <td>-506.627916</td>\n",
       "      <td>44.528673</td>\n",
       "      <td>-8.093330e+02</td>\n",
       "      <td>-500.145128</td>\n",
       "      <td>-500.013819</td>\n",
       "      <td>-499.890608</td>\n",
       "      <td>-202.277366</td>\n",
       "    </tr>\n",
       "    <tr>\n",
       "      <th>secondary_cleaner_state_floatbank4_a_air</th>\n",
       "      <td>5290.0</td>\n",
       "      <td>16.320074</td>\n",
       "      <td>3.493583</td>\n",
       "      <td>1.079872e-16</td>\n",
       "      <td>14.036177</td>\n",
       "      <td>17.008468</td>\n",
       "      <td>18.038619</td>\n",
       "      <td>30.051797</td>\n",
       "    </tr>\n",
       "    <tr>\n",
       "      <th>secondary_cleaner_state_floatbank4_a_level</th>\n",
       "      <td>5290.0</td>\n",
       "      <td>-505.144570</td>\n",
       "      <td>31.427337</td>\n",
       "      <td>-7.997985e+02</td>\n",
       "      <td>-500.868258</td>\n",
       "      <td>-500.115727</td>\n",
       "      <td>-499.404224</td>\n",
       "      <td>-401.565212</td>\n",
       "    </tr>\n",
       "    <tr>\n",
       "      <th>secondary_cleaner_state_floatbank4_b_air</th>\n",
       "      <td>5290.0</td>\n",
       "      <td>13.735444</td>\n",
       "      <td>3.430484</td>\n",
       "      <td>2.489718e-17</td>\n",
       "      <td>12.028625</td>\n",
       "      <td>14.964860</td>\n",
       "      <td>15.962125</td>\n",
       "      <td>31.269706</td>\n",
       "    </tr>\n",
       "    <tr>\n",
       "      <th>secondary_cleaner_state_floatbank4_b_level</th>\n",
       "      <td>5290.0</td>\n",
       "      <td>-463.349858</td>\n",
       "      <td>86.189107</td>\n",
       "      <td>-8.008369e+02</td>\n",
       "      <td>-500.323028</td>\n",
       "      <td>-499.576513</td>\n",
       "      <td>-400.933805</td>\n",
       "      <td>-6.506986</td>\n",
       "    </tr>\n",
       "    <tr>\n",
       "      <th>secondary_cleaner_state_floatbank5_a_air</th>\n",
       "      <td>5290.0</td>\n",
       "      <td>12.804186</td>\n",
       "      <td>3.026591</td>\n",
       "      <td>6.922662e-02</td>\n",
       "      <td>10.914838</td>\n",
       "      <td>12.954182</td>\n",
       "      <td>15.097528</td>\n",
       "      <td>25.258848</td>\n",
       "    </tr>\n",
       "    <tr>\n",
       "      <th>secondary_cleaner_state_floatbank5_a_level</th>\n",
       "      <td>5290.0</td>\n",
       "      <td>-501.329122</td>\n",
       "      <td>17.951495</td>\n",
       "      <td>-7.973240e+02</td>\n",
       "      <td>-500.726841</td>\n",
       "      <td>-499.990332</td>\n",
       "      <td>-499.283191</td>\n",
       "      <td>-244.483566</td>\n",
       "    </tr>\n",
       "    <tr>\n",
       "      <th>secondary_cleaner_state_floatbank5_b_air</th>\n",
       "      <td>5290.0</td>\n",
       "      <td>9.881145</td>\n",
       "      <td>2.868205</td>\n",
       "      <td>5.280828e-01</td>\n",
       "      <td>8.036719</td>\n",
       "      <td>10.004301</td>\n",
       "      <td>11.997467</td>\n",
       "      <td>14.086866</td>\n",
       "    </tr>\n",
       "    <tr>\n",
       "      <th>secondary_cleaner_state_floatbank5_b_level</th>\n",
       "      <td>5290.0</td>\n",
       "      <td>-495.663398</td>\n",
       "      <td>34.535007</td>\n",
       "      <td>-8.002203e+02</td>\n",
       "      <td>-500.194668</td>\n",
       "      <td>-499.990535</td>\n",
       "      <td>-499.719913</td>\n",
       "      <td>-137.740004</td>\n",
       "    </tr>\n",
       "    <tr>\n",
       "      <th>secondary_cleaner_state_floatbank6_a_air</th>\n",
       "      <td>5290.0</td>\n",
       "      <td>17.304935</td>\n",
       "      <td>4.536544</td>\n",
       "      <td>-7.942623e-02</td>\n",
       "      <td>13.997317</td>\n",
       "      <td>16.014935</td>\n",
       "      <td>21.020013</td>\n",
       "      <td>26.705889</td>\n",
       "    </tr>\n",
       "    <tr>\n",
       "      <th>secondary_cleaner_state_floatbank6_a_level</th>\n",
       "      <td>5290.0</td>\n",
       "      <td>-501.793193</td>\n",
       "      <td>39.044215</td>\n",
       "      <td>-8.097415e+02</td>\n",
       "      <td>-500.690984</td>\n",
       "      <td>-500.007126</td>\n",
       "      <td>-499.373018</td>\n",
       "      <td>-123.307487</td>\n",
       "    </tr>\n",
       "    <tr>\n",
       "      <th>recovery_new</th>\n",
       "      <td>5290.0</td>\n",
       "      <td>78.182999</td>\n",
       "      <td>13.411333</td>\n",
       "      <td>-0.000000e+00</td>\n",
       "      <td>75.149789</td>\n",
       "      <td>80.469203</td>\n",
       "      <td>85.136600</td>\n",
       "      <td>99.132729</td>\n",
       "    </tr>\n",
       "    <tr>\n",
       "      <th>final_output_recovery</th>\n",
       "      <td>5290.0</td>\n",
       "      <td>64.373494</td>\n",
       "      <td>9.585030</td>\n",
       "      <td>0.000000e+00</td>\n",
       "      <td>60.733493</td>\n",
       "      <td>65.646770</td>\n",
       "      <td>69.817169</td>\n",
       "      <td>100.000000</td>\n",
       "    </tr>\n",
       "  </tbody>\n",
       "</table>\n",
       "</div>"
      ],
      "text/plain": [
       "                                             count         mean         std  \\\n",
       "primary_cleaner_input_sulfate               5286.0   174.839652   43.027080   \n",
       "primary_cleaner_input_depressant            5285.0     8.683596    3.072050   \n",
       "primary_cleaner_input_feed_size             5290.0     7.266339    0.610219   \n",
       "primary_cleaner_input_xanthate              5286.0     1.383803    0.643474   \n",
       "primary_cleaner_state_floatbank8_a_air      5290.0  1539.494325  116.797884   \n",
       "primary_cleaner_state_floatbank8_a_level    5290.0  -497.665883   19.952431   \n",
       "primary_cleaner_state_floatbank8_b_air      5290.0  1545.174232  122.224588   \n",
       "primary_cleaner_state_floatbank8_b_level    5290.0  -500.273098   32.968307   \n",
       "primary_cleaner_state_floatbank8_c_air      5290.0  1527.272362  122.538034   \n",
       "primary_cleaner_state_floatbank8_c_level    5290.0  -498.330680   21.964876   \n",
       "primary_cleaner_state_floatbank8_d_air      5290.0  1544.844335  124.773081   \n",
       "primary_cleaner_state_floatbank8_d_level    5290.0  -500.199527   31.045257   \n",
       "rougher_input_feed_ag                       5290.0     9.371940    1.926264   \n",
       "rougher_input_feed_pb                       5290.0     3.798082    0.954859   \n",
       "rougher_input_feed_rate                     5287.0   489.800620  108.036326   \n",
       "rougher_input_feed_size                     5289.0    55.951097   19.081758   \n",
       "rougher_input_feed_sol                      5269.0    37.716648    5.491415   \n",
       "rougher_input_feed_au                       5290.0     9.334682    1.619521   \n",
       "rougher_input_floatbank10_sulfate           5285.0    13.855759    3.350852   \n",
       "rougher_input_floatbank10_xanthate          5290.0     6.467745    1.065114   \n",
       "rougher_input_floatbank11_sulfate           5282.0    13.922328    3.223769   \n",
       "rougher_input_floatbank11_xanthate          5265.0     6.512103    0.886989   \n",
       "rougher_state_floatbank10_a_air             5290.0  1053.400166  121.139309   \n",
       "rougher_state_floatbank10_a_level           5290.0  -395.732530   91.085505   \n",
       "rougher_state_floatbank10_b_air             5290.0  1318.926879  156.450366   \n",
       "rougher_state_floatbank10_b_level           5290.0  -475.241428   45.649466   \n",
       "rougher_state_floatbank10_c_air             5290.0  1301.595477  171.269667   \n",
       "rougher_state_floatbank10_c_level           5290.0  -474.836671   45.859866   \n",
       "rougher_state_floatbank10_d_air             5290.0  1214.847960  185.763319   \n",
       "rougher_state_floatbank10_d_level           5290.0  -475.682272   47.844967   \n",
       "rougher_state_floatbank10_e_air             5290.0  1056.648995  131.542839   \n",
       "rougher_state_floatbank10_e_level           5290.0  -469.029688   59.325990   \n",
       "rougher_state_floatbank10_f_air             5290.0   997.949719  128.218869   \n",
       "rougher_state_floatbank10_f_level           5290.0  -470.482465   60.759318   \n",
       "secondary_cleaner_state_floatbank2_a_air    5287.0    26.312630    3.429852   \n",
       "secondary_cleaner_state_floatbank2_a_level  5290.0  -502.750897   28.756505   \n",
       "secondary_cleaner_state_floatbank2_b_air    5288.0    21.949119    4.354961   \n",
       "secondary_cleaner_state_floatbank2_b_level  5290.0  -501.987097   34.582722   \n",
       "secondary_cleaner_state_floatbank3_a_air    5281.0    25.402926    6.526457   \n",
       "secondary_cleaner_state_floatbank3_a_level  5290.0  -507.490314   47.620908   \n",
       "secondary_cleaner_state_floatbank3_b_air    5290.0    20.982108    6.736179   \n",
       "secondary_cleaner_state_floatbank3_b_level  5290.0  -506.627916   44.528673   \n",
       "secondary_cleaner_state_floatbank4_a_air    5290.0    16.320074    3.493583   \n",
       "secondary_cleaner_state_floatbank4_a_level  5290.0  -505.144570   31.427337   \n",
       "secondary_cleaner_state_floatbank4_b_air    5290.0    13.735444    3.430484   \n",
       "secondary_cleaner_state_floatbank4_b_level  5290.0  -463.349858   86.189107   \n",
       "secondary_cleaner_state_floatbank5_a_air    5290.0    12.804186    3.026591   \n",
       "secondary_cleaner_state_floatbank5_a_level  5290.0  -501.329122   17.951495   \n",
       "secondary_cleaner_state_floatbank5_b_air    5290.0     9.881145    2.868205   \n",
       "secondary_cleaner_state_floatbank5_b_level  5290.0  -495.663398   34.535007   \n",
       "secondary_cleaner_state_floatbank6_a_air    5290.0    17.304935    4.536544   \n",
       "secondary_cleaner_state_floatbank6_a_level  5290.0  -501.793193   39.044215   \n",
       "recovery_new                                5290.0    78.182999   13.411333   \n",
       "final_output_recovery                       5290.0    64.373494    9.585030   \n",
       "\n",
       "                                                     min          25%  \\\n",
       "primary_cleaner_input_sulfate               2.566156e+00   147.121401   \n",
       "primary_cleaner_input_depressant            3.839482e-03     6.489555   \n",
       "primary_cleaner_input_feed_size             5.650000e+00     6.890000   \n",
       "primary_cleaner_input_xanthate              4.983673e-03     0.907623   \n",
       "primary_cleaner_state_floatbank8_a_air      5.445860e-32  1498.935802   \n",
       "primary_cleaner_state_floatbank8_a_level   -7.953163e+02  -500.357298   \n",
       "primary_cleaner_state_floatbank8_b_air      6.647490e-32  1498.970993   \n",
       "primary_cleaner_state_floatbank8_b_level   -7.999970e+02  -500.703002   \n",
       "primary_cleaner_state_floatbank8_c_air      4.033736e-32  1473.229862   \n",
       "primary_cleaner_state_floatbank8_c_level   -7.999606e+02  -501.018117   \n",
       "primary_cleaner_state_floatbank8_d_air      4.039220e-32  1499.481404   \n",
       "primary_cleaner_state_floatbank8_d_level   -7.997943e+02  -500.452469   \n",
       "rougher_input_feed_ag                       5.684412e-01     8.112434   \n",
       "rougher_input_feed_pb                       2.736769e-01     3.240251   \n",
       "rougher_input_feed_rate                     2.985849e-03   407.020883   \n",
       "rougher_input_feed_size                     4.636880e-02    43.906347   \n",
       "rougher_input_feed_sol                      1.393488e+00    34.505576   \n",
       "rougher_input_feed_au                       5.686322e-01     8.207814   \n",
       "rougher_input_floatbank10_sulfate           1.147460e-03    11.995006   \n",
       "rougher_input_floatbank10_xanthate          5.682328e-04     5.998779   \n",
       "rougher_input_floatbank11_sulfate           7.673764e-05    11.997200   \n",
       "rougher_input_floatbank11_xanthate          6.985269e-03     5.999157   \n",
       "rougher_state_floatbank10_a_air            -4.206929e-02   999.205344   \n",
       "rougher_state_floatbank10_a_level          -6.579498e+02  -499.920565   \n",
       "rougher_state_floatbank10_b_air            -7.218064e-01  1200.871883   \n",
       "rougher_state_floatbank10_b_level          -6.502453e+02  -500.256114   \n",
       "rougher_state_floatbank10_c_air            -5.663551e-02  1199.651371   \n",
       "rougher_state_floatbank10_c_level          -6.475444e+02  -500.233831   \n",
       "rougher_state_floatbank10_d_air            -9.922190e-01  1093.368068   \n",
       "rougher_state_floatbank10_d_level          -6.483907e+02  -500.440610   \n",
       "rougher_state_floatbank10_e_air            -1.982295e+00   999.361403   \n",
       "rougher_state_floatbank10_e_level          -6.492675e+02  -500.190639   \n",
       "rougher_state_floatbank10_f_air            -2.593390e+00   901.024994   \n",
       "rougher_state_floatbank10_f_level          -6.499493e+02  -500.624783   \n",
       "secondary_cleaner_state_floatbank2_a_air    2.053286e-01    24.942328   \n",
       "secondary_cleaner_state_floatbank2_a_level -7.840911e+02  -500.206517   \n",
       "secondary_cleaner_state_floatbank2_b_air    6.063908e-03    20.002315   \n",
       "secondary_cleaner_state_floatbank2_b_level -7.977840e+02  -500.218030   \n",
       "secondary_cleaner_state_floatbank3_a_air    0.000000e+00    22.982288   \n",
       "secondary_cleaner_state_floatbank3_a_level -7.997558e+02  -500.297951   \n",
       "secondary_cleaner_state_floatbank3_b_air    1.521587e-17    17.967855   \n",
       "secondary_cleaner_state_floatbank3_b_level -8.093330e+02  -500.145128   \n",
       "secondary_cleaner_state_floatbank4_a_air    1.079872e-16    14.036177   \n",
       "secondary_cleaner_state_floatbank4_a_level -7.997985e+02  -500.868258   \n",
       "secondary_cleaner_state_floatbank4_b_air    2.489718e-17    12.028625   \n",
       "secondary_cleaner_state_floatbank4_b_level -8.008369e+02  -500.323028   \n",
       "secondary_cleaner_state_floatbank5_a_air    6.922662e-02    10.914838   \n",
       "secondary_cleaner_state_floatbank5_a_level -7.973240e+02  -500.726841   \n",
       "secondary_cleaner_state_floatbank5_b_air    5.280828e-01     8.036719   \n",
       "secondary_cleaner_state_floatbank5_b_level -8.002203e+02  -500.194668   \n",
       "secondary_cleaner_state_floatbank6_a_air   -7.942623e-02    13.997317   \n",
       "secondary_cleaner_state_floatbank6_a_level -8.097415e+02  -500.690984   \n",
       "recovery_new                               -0.000000e+00    75.149789   \n",
       "final_output_recovery                       0.000000e+00    60.733493   \n",
       "\n",
       "                                                    50%          75%  \\\n",
       "primary_cleaner_input_sulfate                177.828489   208.125438   \n",
       "primary_cleaner_input_depressant               8.052207    10.027764   \n",
       "primary_cleaner_input_feed_size                7.250000     7.600000   \n",
       "primary_cleaner_input_xanthate                 1.197610     1.797819   \n",
       "primary_cleaner_state_floatbank8_a_air      1585.129123  1602.076529   \n",
       "primary_cleaner_state_floatbank8_a_level    -499.969164  -499.568951   \n",
       "primary_cleaner_state_floatbank8_b_air      1595.621798  1602.323545   \n",
       "primary_cleaner_state_floatbank8_b_level    -500.028514  -499.293257   \n",
       "primary_cleaner_state_floatbank8_c_air      1549.594682  1601.143775   \n",
       "primary_cleaner_state_floatbank8_c_level    -500.017711  -498.994130   \n",
       "primary_cleaner_state_floatbank8_d_air      1594.579112  1600.964772   \n",
       "primary_cleaner_state_floatbank8_d_level    -500.023307  -499.607040   \n",
       "rougher_input_feed_ag                          9.762654    10.652297   \n",
       "rougher_input_feed_pb                          3.740716     4.282634   \n",
       "rougher_input_feed_rate                      499.051440   575.307213   \n",
       "rougher_input_feed_size                       50.841029    62.431047   \n",
       "rougher_input_feed_sol                        37.980276    41.635385   \n",
       "rougher_input_feed_au                          9.593766    10.463538   \n",
       "rougher_input_floatbank10_sulfate             14.003126    16.974284   \n",
       "rougher_input_floatbank10_xanthate             6.498181     7.085457   \n",
       "rougher_input_floatbank11_sulfate             14.004371    16.959671   \n",
       "rougher_input_floatbank11_xanthate             6.498744     7.091808   \n",
       "rougher_state_floatbank10_a_air             1000.472055  1006.254299   \n",
       "rougher_state_floatbank10_a_level           -399.693363  -300.060056   \n",
       "rougher_state_floatbank10_b_air             1302.254995  1433.955649   \n",
       "rougher_state_floatbank10_b_level           -499.837803  -450.749619   \n",
       "rougher_state_floatbank10_c_air             1300.202274  1406.594956   \n",
       "rougher_state_floatbank10_c_level           -499.777222  -451.153188   \n",
       "rougher_state_floatbank10_d_air             1207.014092  1391.497269   \n",
       "rougher_state_floatbank10_d_level           -499.691917  -452.483463   \n",
       "rougher_state_floatbank10_e_air             1047.495449  1101.365315   \n",
       "rougher_state_floatbank10_e_level           -499.765796  -450.957513   \n",
       "rougher_state_floatbank10_f_air              999.441879  1050.433005   \n",
       "rougher_state_floatbank10_f_level           -499.680986  -451.986460   \n",
       "secondary_cleaner_state_floatbank2_a_air      26.910569    28.091885   \n",
       "secondary_cleaner_state_floatbank2_a_level  -500.003902  -499.791639   \n",
       "secondary_cleaner_state_floatbank2_b_air      22.942603    24.985013   \n",
       "secondary_cleaner_state_floatbank2_b_level  -500.019058  -499.831532   \n",
       "secondary_cleaner_state_floatbank3_a_air      25.010105    30.002063   \n",
       "secondary_cleaner_state_floatbank3_a_level  -500.034578  -499.780163   \n",
       "secondary_cleaner_state_floatbank3_b_air      21.003164    26.976977   \n",
       "secondary_cleaner_state_floatbank3_b_level  -500.013819  -499.890608   \n",
       "secondary_cleaner_state_floatbank4_a_air      17.008468    18.038619   \n",
       "secondary_cleaner_state_floatbank4_a_level  -500.115727  -499.404224   \n",
       "secondary_cleaner_state_floatbank4_b_air      14.964860    15.962125   \n",
       "secondary_cleaner_state_floatbank4_b_level  -499.576513  -400.933805   \n",
       "secondary_cleaner_state_floatbank5_a_air      12.954182    15.097528   \n",
       "secondary_cleaner_state_floatbank5_a_level  -499.990332  -499.283191   \n",
       "secondary_cleaner_state_floatbank5_b_air      10.004301    11.997467   \n",
       "secondary_cleaner_state_floatbank5_b_level  -499.990535  -499.719913   \n",
       "secondary_cleaner_state_floatbank6_a_air      16.014935    21.020013   \n",
       "secondary_cleaner_state_floatbank6_a_level  -500.007126  -499.373018   \n",
       "recovery_new                                  80.469203    85.136600   \n",
       "final_output_recovery                         65.646770    69.817169   \n",
       "\n",
       "                                                    max  \n",
       "primary_cleaner_input_sulfate                265.983123  \n",
       "primary_cleaner_input_depressant              40.000000  \n",
       "primary_cleaner_input_feed_size               15.500000  \n",
       "primary_cleaner_input_xanthate                 4.102454  \n",
       "primary_cleaner_state_floatbank8_a_air      2103.103580  \n",
       "primary_cleaner_state_floatbank8_a_level     -57.195404  \n",
       "primary_cleaner_state_floatbank8_b_air      1813.083671  \n",
       "primary_cleaner_state_floatbank8_b_level    -142.527229  \n",
       "primary_cleaner_state_floatbank8_c_air      1715.053773  \n",
       "primary_cleaner_state_floatbank8_c_level    -150.937035  \n",
       "primary_cleaner_state_floatbank8_d_air      1913.256561  \n",
       "primary_cleaner_state_floatbank8_d_level    -158.950573  \n",
       "rougher_input_feed_ag                         14.406130  \n",
       "rougher_input_feed_pb                          6.905684  \n",
       "rougher_input_feed_rate                      707.364020  \n",
       "rougher_input_feed_size                      392.494040  \n",
       "rougher_input_feed_sol                        53.477742  \n",
       "rougher_input_feed_au                         13.731330  \n",
       "rougher_input_floatbank10_sulfate             24.280636  \n",
       "rougher_input_floatbank10_xanthate             8.910468  \n",
       "rougher_input_floatbank11_sulfate             24.280966  \n",
       "rougher_input_floatbank11_xanthate             8.621338  \n",
       "rougher_state_floatbank10_a_air             1423.274687  \n",
       "rougher_state_floatbank10_a_level           -273.776101  \n",
       "rougher_state_floatbank10_b_air             1706.640419  \n",
       "rougher_state_floatbank10_b_level           -298.200051  \n",
       "rougher_state_floatbank10_c_air             1731.017788  \n",
       "rougher_state_floatbank10_c_level           -298.036852  \n",
       "rougher_state_floatbank10_d_air             1775.218584  \n",
       "rougher_state_floatbank10_d_level            -76.397327  \n",
       "rougher_state_floatbank10_e_air             1467.184843  \n",
       "rougher_state_floatbank10_e_level           -139.753025  \n",
       "rougher_state_floatbank10_f_air             1476.588107  \n",
       "rougher_state_floatbank10_f_level           -249.801043  \n",
       "secondary_cleaner_state_floatbank2_a_air      32.138727  \n",
       "secondary_cleaner_state_floatbank2_a_level  -300.343670  \n",
       "secondary_cleaner_state_floatbank2_b_air      28.165864  \n",
       "secondary_cleaner_state_floatbank2_b_level  -211.999273  \n",
       "secondary_cleaner_state_floatbank3_a_air      40.041997  \n",
       "secondary_cleaner_state_floatbank3_a_level  -313.866425  \n",
       "secondary_cleaner_state_floatbank3_b_air      32.039365  \n",
       "secondary_cleaner_state_floatbank3_b_level  -202.277366  \n",
       "secondary_cleaner_state_floatbank4_a_air      30.051797  \n",
       "secondary_cleaner_state_floatbank4_a_level  -401.565212  \n",
       "secondary_cleaner_state_floatbank4_b_air      31.269706  \n",
       "secondary_cleaner_state_floatbank4_b_level    -6.506986  \n",
       "secondary_cleaner_state_floatbank5_a_air      25.258848  \n",
       "secondary_cleaner_state_floatbank5_a_level  -244.483566  \n",
       "secondary_cleaner_state_floatbank5_b_air      14.086866  \n",
       "secondary_cleaner_state_floatbank5_b_level  -137.740004  \n",
       "secondary_cleaner_state_floatbank6_a_air      26.705889  \n",
       "secondary_cleaner_state_floatbank6_a_level  -123.307487  \n",
       "recovery_new                                  99.132729  \n",
       "final_output_recovery                        100.000000  "
      ]
     },
     "metadata": {},
     "output_type": "display_data"
    },
    {
     "data": {
      "text/html": [
       "<div>\n",
       "<style scoped>\n",
       "    .dataframe tbody tr th:only-of-type {\n",
       "        vertical-align: middle;\n",
       "    }\n",
       "\n",
       "    .dataframe tbody tr th {\n",
       "        vertical-align: top;\n",
       "    }\n",
       "\n",
       "    .dataframe thead th {\n",
       "        text-align: right;\n",
       "    }\n",
       "</style>\n",
       "<table border=\"1\" class=\"dataframe\">\n",
       "  <thead>\n",
       "    <tr style=\"text-align: right;\">\n",
       "      <th></th>\n",
       "      <th>date</th>\n",
       "      <th>primary_cleaner_input_sulfate</th>\n",
       "      <th>primary_cleaner_input_depressant</th>\n",
       "      <th>primary_cleaner_input_feed_size</th>\n",
       "      <th>primary_cleaner_input_xanthate</th>\n",
       "      <th>primary_cleaner_state_floatbank8_a_air</th>\n",
       "      <th>primary_cleaner_state_floatbank8_a_level</th>\n",
       "      <th>primary_cleaner_state_floatbank8_b_air</th>\n",
       "      <th>primary_cleaner_state_floatbank8_b_level</th>\n",
       "      <th>primary_cleaner_state_floatbank8_c_air</th>\n",
       "      <th>...</th>\n",
       "      <th>secondary_cleaner_state_floatbank4_b_air</th>\n",
       "      <th>secondary_cleaner_state_floatbank4_b_level</th>\n",
       "      <th>secondary_cleaner_state_floatbank5_a_air</th>\n",
       "      <th>secondary_cleaner_state_floatbank5_a_level</th>\n",
       "      <th>secondary_cleaner_state_floatbank5_b_air</th>\n",
       "      <th>secondary_cleaner_state_floatbank5_b_level</th>\n",
       "      <th>secondary_cleaner_state_floatbank6_a_air</th>\n",
       "      <th>secondary_cleaner_state_floatbank6_a_level</th>\n",
       "      <th>recovery_new</th>\n",
       "      <th>final_output_recovery</th>\n",
       "    </tr>\n",
       "  </thead>\n",
       "  <tbody>\n",
       "    <tr>\n",
       "      <th>755</th>\n",
       "      <td>2016-10-12 12:59:59</td>\n",
       "      <td>207.369320</td>\n",
       "      <td>8.038816</td>\n",
       "      <td>8.14</td>\n",
       "      <td>0.715277</td>\n",
       "      <td>1501.734730</td>\n",
       "      <td>-500.535537</td>\n",
       "      <td>1496.709750</td>\n",
       "      <td>-500.113864</td>\n",
       "      <td>1500.357389</td>\n",
       "      <td>...</td>\n",
       "      <td>11.946159</td>\n",
       "      <td>-500.363220</td>\n",
       "      <td>9.432121</td>\n",
       "      <td>-499.965957</td>\n",
       "      <td>8.013406</td>\n",
       "      <td>-499.748750</td>\n",
       "      <td>16.912200</td>\n",
       "      <td>-500.953884</td>\n",
       "      <td>93.970408</td>\n",
       "      <td>73.829220</td>\n",
       "    </tr>\n",
       "    <tr>\n",
       "      <th>2445</th>\n",
       "      <td>2016-12-24 03:59:59</td>\n",
       "      <td>141.484318</td>\n",
       "      <td>11.502951</td>\n",
       "      <td>6.98</td>\n",
       "      <td>1.454377</td>\n",
       "      <td>1547.370858</td>\n",
       "      <td>-499.951815</td>\n",
       "      <td>1550.611780</td>\n",
       "      <td>-500.011545</td>\n",
       "      <td>1554.643496</td>\n",
       "      <td>...</td>\n",
       "      <td>15.004438</td>\n",
       "      <td>-499.517461</td>\n",
       "      <td>13.631698</td>\n",
       "      <td>-499.533772</td>\n",
       "      <td>12.050663</td>\n",
       "      <td>-499.374077</td>\n",
       "      <td>21.007546</td>\n",
       "      <td>-499.964429</td>\n",
       "      <td>88.635574</td>\n",
       "      <td>67.968977</td>\n",
       "    </tr>\n",
       "    <tr>\n",
       "      <th>2503</th>\n",
       "      <td>2016-12-27 03:59:59</td>\n",
       "      <td>201.760833</td>\n",
       "      <td>13.504123</td>\n",
       "      <td>7.45</td>\n",
       "      <td>1.101832</td>\n",
       "      <td>1666.513442</td>\n",
       "      <td>-500.070624</td>\n",
       "      <td>1683.090078</td>\n",
       "      <td>-500.214950</td>\n",
       "      <td>1681.721644</td>\n",
       "      <td>...</td>\n",
       "      <td>14.936387</td>\n",
       "      <td>-500.102521</td>\n",
       "      <td>12.648630</td>\n",
       "      <td>-499.850516</td>\n",
       "      <td>11.994132</td>\n",
       "      <td>-500.216112</td>\n",
       "      <td>20.989717</td>\n",
       "      <td>-499.834846</td>\n",
       "      <td>77.579527</td>\n",
       "      <td>68.581945</td>\n",
       "    </tr>\n",
       "    <tr>\n",
       "      <th>5164</th>\n",
       "      <td>2017-12-25 15:59:59</td>\n",
       "      <td>209.093593</td>\n",
       "      <td>14.977983</td>\n",
       "      <td>7.90</td>\n",
       "      <td>0.778355</td>\n",
       "      <td>1603.908992</td>\n",
       "      <td>-398.999165</td>\n",
       "      <td>1599.643633</td>\n",
       "      <td>-394.301622</td>\n",
       "      <td>1274.102266</td>\n",
       "      <td>...</td>\n",
       "      <td>15.033307</td>\n",
       "      <td>-500.683163</td>\n",
       "      <td>10.992322</td>\n",
       "      <td>-500.879779</td>\n",
       "      <td>9.032122</td>\n",
       "      <td>-500.048517</td>\n",
       "      <td>12.016577</td>\n",
       "      <td>-502.755409</td>\n",
       "      <td>85.453378</td>\n",
       "      <td>66.283864</td>\n",
       "    </tr>\n",
       "    <tr>\n",
       "      <th>2209</th>\n",
       "      <td>2016-12-14 02:59:59</td>\n",
       "      <td>170.032088</td>\n",
       "      <td>9.496288</td>\n",
       "      <td>7.70</td>\n",
       "      <td>1.499836</td>\n",
       "      <td>1596.907329</td>\n",
       "      <td>-499.846126</td>\n",
       "      <td>1557.791754</td>\n",
       "      <td>-499.067050</td>\n",
       "      <td>1602.446261</td>\n",
       "      <td>...</td>\n",
       "      <td>14.999941</td>\n",
       "      <td>-502.128669</td>\n",
       "      <td>18.561743</td>\n",
       "      <td>-500.184437</td>\n",
       "      <td>12.007037</td>\n",
       "      <td>-499.992647</td>\n",
       "      <td>20.980893</td>\n",
       "      <td>-499.840756</td>\n",
       "      <td>75.217812</td>\n",
       "      <td>50.802992</td>\n",
       "    </tr>\n",
       "    <tr>\n",
       "      <th>4480</th>\n",
       "      <td>2017-11-25 10:59:59</td>\n",
       "      <td>208.661530</td>\n",
       "      <td>8.480312</td>\n",
       "      <td>7.08</td>\n",
       "      <td>2.498088</td>\n",
       "      <td>1638.721902</td>\n",
       "      <td>-500.393323</td>\n",
       "      <td>1638.698451</td>\n",
       "      <td>-499.004403</td>\n",
       "      <td>1610.426862</td>\n",
       "      <td>...</td>\n",
       "      <td>14.921303</td>\n",
       "      <td>-497.450298</td>\n",
       "      <td>10.949830</td>\n",
       "      <td>-498.466498</td>\n",
       "      <td>9.035722</td>\n",
       "      <td>-499.727891</td>\n",
       "      <td>16.002827</td>\n",
       "      <td>-498.332984</td>\n",
       "      <td>88.747090</td>\n",
       "      <td>72.873538</td>\n",
       "    </tr>\n",
       "    <tr>\n",
       "      <th>1434</th>\n",
       "      <td>2016-11-10 11:59:59</td>\n",
       "      <td>109.744794</td>\n",
       "      <td>4.975846</td>\n",
       "      <td>7.02</td>\n",
       "      <td>0.892982</td>\n",
       "      <td>1602.508768</td>\n",
       "      <td>-499.894465</td>\n",
       "      <td>1602.676449</td>\n",
       "      <td>-499.802835</td>\n",
       "      <td>1599.105334</td>\n",
       "      <td>...</td>\n",
       "      <td>13.926332</td>\n",
       "      <td>-528.256813</td>\n",
       "      <td>13.124144</td>\n",
       "      <td>-321.047753</td>\n",
       "      <td>13.954169</td>\n",
       "      <td>-219.293044</td>\n",
       "      <td>21.977466</td>\n",
       "      <td>-209.198714</td>\n",
       "      <td>83.104540</td>\n",
       "      <td>68.807010</td>\n",
       "    </tr>\n",
       "    <tr>\n",
       "      <th>4609</th>\n",
       "      <td>2017-11-30 21:59:59</td>\n",
       "      <td>223.897773</td>\n",
       "      <td>9.000606</td>\n",
       "      <td>8.56</td>\n",
       "      <td>2.596607</td>\n",
       "      <td>1547.703456</td>\n",
       "      <td>-501.026923</td>\n",
       "      <td>1550.081765</td>\n",
       "      <td>-498.237241</td>\n",
       "      <td>1547.779243</td>\n",
       "      <td>...</td>\n",
       "      <td>15.035992</td>\n",
       "      <td>-270.899273</td>\n",
       "      <td>10.032621</td>\n",
       "      <td>-474.289732</td>\n",
       "      <td>8.020686</td>\n",
       "      <td>-444.778920</td>\n",
       "      <td>15.992564</td>\n",
       "      <td>-496.225985</td>\n",
       "      <td>82.959648</td>\n",
       "      <td>66.876404</td>\n",
       "    </tr>\n",
       "    <tr>\n",
       "      <th>1333</th>\n",
       "      <td>2016-11-06 03:59:59</td>\n",
       "      <td>146.315569</td>\n",
       "      <td>7.002108</td>\n",
       "      <td>7.22</td>\n",
       "      <td>0.902543</td>\n",
       "      <td>1603.771627</td>\n",
       "      <td>-499.338390</td>\n",
       "      <td>1601.934800</td>\n",
       "      <td>-500.299595</td>\n",
       "      <td>1602.170505</td>\n",
       "      <td>...</td>\n",
       "      <td>12.987817</td>\n",
       "      <td>-500.011371</td>\n",
       "      <td>17.757932</td>\n",
       "      <td>-499.452311</td>\n",
       "      <td>13.983635</td>\n",
       "      <td>-499.916123</td>\n",
       "      <td>23.975486</td>\n",
       "      <td>-498.904137</td>\n",
       "      <td>80.379402</td>\n",
       "      <td>64.023029</td>\n",
       "    </tr>\n",
       "    <tr>\n",
       "      <th>3239</th>\n",
       "      <td>2017-10-01 09:59:59</td>\n",
       "      <td>151.506440</td>\n",
       "      <td>6.568344</td>\n",
       "      <td>6.52</td>\n",
       "      <td>1.990833</td>\n",
       "      <td>1592.084588</td>\n",
       "      <td>-498.388438</td>\n",
       "      <td>1601.929367</td>\n",
       "      <td>-501.131478</td>\n",
       "      <td>1599.514086</td>\n",
       "      <td>...</td>\n",
       "      <td>15.024838</td>\n",
       "      <td>-400.119252</td>\n",
       "      <td>13.042754</td>\n",
       "      <td>-499.894834</td>\n",
       "      <td>10.933839</td>\n",
       "      <td>-499.905063</td>\n",
       "      <td>15.025518</td>\n",
       "      <td>-499.989124</td>\n",
       "      <td>70.729473</td>\n",
       "      <td>62.076133</td>\n",
       "    </tr>\n",
       "  </tbody>\n",
       "</table>\n",
       "<p>10 rows × 55 columns</p>\n",
       "</div>"
      ],
      "text/plain": [
       "                     date  primary_cleaner_input_sulfate  \\\n",
       "755   2016-10-12 12:59:59                     207.369320   \n",
       "2445  2016-12-24 03:59:59                     141.484318   \n",
       "2503  2016-12-27 03:59:59                     201.760833   \n",
       "5164  2017-12-25 15:59:59                     209.093593   \n",
       "2209  2016-12-14 02:59:59                     170.032088   \n",
       "4480  2017-11-25 10:59:59                     208.661530   \n",
       "1434  2016-11-10 11:59:59                     109.744794   \n",
       "4609  2017-11-30 21:59:59                     223.897773   \n",
       "1333  2016-11-06 03:59:59                     146.315569   \n",
       "3239  2017-10-01 09:59:59                     151.506440   \n",
       "\n",
       "      primary_cleaner_input_depressant  primary_cleaner_input_feed_size  \\\n",
       "755                           8.038816                             8.14   \n",
       "2445                         11.502951                             6.98   \n",
       "2503                         13.504123                             7.45   \n",
       "5164                         14.977983                             7.90   \n",
       "2209                          9.496288                             7.70   \n",
       "4480                          8.480312                             7.08   \n",
       "1434                          4.975846                             7.02   \n",
       "4609                          9.000606                             8.56   \n",
       "1333                          7.002108                             7.22   \n",
       "3239                          6.568344                             6.52   \n",
       "\n",
       "      primary_cleaner_input_xanthate  primary_cleaner_state_floatbank8_a_air  \\\n",
       "755                         0.715277                             1501.734730   \n",
       "2445                        1.454377                             1547.370858   \n",
       "2503                        1.101832                             1666.513442   \n",
       "5164                        0.778355                             1603.908992   \n",
       "2209                        1.499836                             1596.907329   \n",
       "4480                        2.498088                             1638.721902   \n",
       "1434                        0.892982                             1602.508768   \n",
       "4609                        2.596607                             1547.703456   \n",
       "1333                        0.902543                             1603.771627   \n",
       "3239                        1.990833                             1592.084588   \n",
       "\n",
       "      primary_cleaner_state_floatbank8_a_level  \\\n",
       "755                                -500.535537   \n",
       "2445                               -499.951815   \n",
       "2503                               -500.070624   \n",
       "5164                               -398.999165   \n",
       "2209                               -499.846126   \n",
       "4480                               -500.393323   \n",
       "1434                               -499.894465   \n",
       "4609                               -501.026923   \n",
       "1333                               -499.338390   \n",
       "3239                               -498.388438   \n",
       "\n",
       "      primary_cleaner_state_floatbank8_b_air  \\\n",
       "755                              1496.709750   \n",
       "2445                             1550.611780   \n",
       "2503                             1683.090078   \n",
       "5164                             1599.643633   \n",
       "2209                             1557.791754   \n",
       "4480                             1638.698451   \n",
       "1434                             1602.676449   \n",
       "4609                             1550.081765   \n",
       "1333                             1601.934800   \n",
       "3239                             1601.929367   \n",
       "\n",
       "      primary_cleaner_state_floatbank8_b_level  \\\n",
       "755                                -500.113864   \n",
       "2445                               -500.011545   \n",
       "2503                               -500.214950   \n",
       "5164                               -394.301622   \n",
       "2209                               -499.067050   \n",
       "4480                               -499.004403   \n",
       "1434                               -499.802835   \n",
       "4609                               -498.237241   \n",
       "1333                               -500.299595   \n",
       "3239                               -501.131478   \n",
       "\n",
       "      primary_cleaner_state_floatbank8_c_air  ...  \\\n",
       "755                              1500.357389  ...   \n",
       "2445                             1554.643496  ...   \n",
       "2503                             1681.721644  ...   \n",
       "5164                             1274.102266  ...   \n",
       "2209                             1602.446261  ...   \n",
       "4480                             1610.426862  ...   \n",
       "1434                             1599.105334  ...   \n",
       "4609                             1547.779243  ...   \n",
       "1333                             1602.170505  ...   \n",
       "3239                             1599.514086  ...   \n",
       "\n",
       "      secondary_cleaner_state_floatbank4_b_air  \\\n",
       "755                                  11.946159   \n",
       "2445                                 15.004438   \n",
       "2503                                 14.936387   \n",
       "5164                                 15.033307   \n",
       "2209                                 14.999941   \n",
       "4480                                 14.921303   \n",
       "1434                                 13.926332   \n",
       "4609                                 15.035992   \n",
       "1333                                 12.987817   \n",
       "3239                                 15.024838   \n",
       "\n",
       "      secondary_cleaner_state_floatbank4_b_level  \\\n",
       "755                                  -500.363220   \n",
       "2445                                 -499.517461   \n",
       "2503                                 -500.102521   \n",
       "5164                                 -500.683163   \n",
       "2209                                 -502.128669   \n",
       "4480                                 -497.450298   \n",
       "1434                                 -528.256813   \n",
       "4609                                 -270.899273   \n",
       "1333                                 -500.011371   \n",
       "3239                                 -400.119252   \n",
       "\n",
       "      secondary_cleaner_state_floatbank5_a_air  \\\n",
       "755                                   9.432121   \n",
       "2445                                 13.631698   \n",
       "2503                                 12.648630   \n",
       "5164                                 10.992322   \n",
       "2209                                 18.561743   \n",
       "4480                                 10.949830   \n",
       "1434                                 13.124144   \n",
       "4609                                 10.032621   \n",
       "1333                                 17.757932   \n",
       "3239                                 13.042754   \n",
       "\n",
       "      secondary_cleaner_state_floatbank5_a_level  \\\n",
       "755                                  -499.965957   \n",
       "2445                                 -499.533772   \n",
       "2503                                 -499.850516   \n",
       "5164                                 -500.879779   \n",
       "2209                                 -500.184437   \n",
       "4480                                 -498.466498   \n",
       "1434                                 -321.047753   \n",
       "4609                                 -474.289732   \n",
       "1333                                 -499.452311   \n",
       "3239                                 -499.894834   \n",
       "\n",
       "      secondary_cleaner_state_floatbank5_b_air  \\\n",
       "755                                   8.013406   \n",
       "2445                                 12.050663   \n",
       "2503                                 11.994132   \n",
       "5164                                  9.032122   \n",
       "2209                                 12.007037   \n",
       "4480                                  9.035722   \n",
       "1434                                 13.954169   \n",
       "4609                                  8.020686   \n",
       "1333                                 13.983635   \n",
       "3239                                 10.933839   \n",
       "\n",
       "      secondary_cleaner_state_floatbank5_b_level  \\\n",
       "755                                  -499.748750   \n",
       "2445                                 -499.374077   \n",
       "2503                                 -500.216112   \n",
       "5164                                 -500.048517   \n",
       "2209                                 -499.992647   \n",
       "4480                                 -499.727891   \n",
       "1434                                 -219.293044   \n",
       "4609                                 -444.778920   \n",
       "1333                                 -499.916123   \n",
       "3239                                 -499.905063   \n",
       "\n",
       "      secondary_cleaner_state_floatbank6_a_air  \\\n",
       "755                                  16.912200   \n",
       "2445                                 21.007546   \n",
       "2503                                 20.989717   \n",
       "5164                                 12.016577   \n",
       "2209                                 20.980893   \n",
       "4480                                 16.002827   \n",
       "1434                                 21.977466   \n",
       "4609                                 15.992564   \n",
       "1333                                 23.975486   \n",
       "3239                                 15.025518   \n",
       "\n",
       "      secondary_cleaner_state_floatbank6_a_level  recovery_new  \\\n",
       "755                                  -500.953884     93.970408   \n",
       "2445                                 -499.964429     88.635574   \n",
       "2503                                 -499.834846     77.579527   \n",
       "5164                                 -502.755409     85.453378   \n",
       "2209                                 -499.840756     75.217812   \n",
       "4480                                 -498.332984     88.747090   \n",
       "1434                                 -209.198714     83.104540   \n",
       "4609                                 -496.225985     82.959648   \n",
       "1333                                 -498.904137     80.379402   \n",
       "3239                                 -499.989124     70.729473   \n",
       "\n",
       "      final_output_recovery  \n",
       "755               73.829220  \n",
       "2445              67.968977  \n",
       "2503              68.581945  \n",
       "5164              66.283864  \n",
       "2209              50.802992  \n",
       "4480              72.873538  \n",
       "1434              68.807010  \n",
       "4609              66.876404  \n",
       "1333              64.023029  \n",
       "3239              62.076133  \n",
       "\n",
       "[10 rows x 55 columns]"
      ]
     },
     "metadata": {},
     "output_type": "display_data"
    },
    {
     "name": "stdout",
     "output_type": "stream",
     "text": [
      "Количество дубликатов: 0\n"
     ]
    }
   ],
   "source": [
    "df_info(df_test)"
   ]
  },
  {
   "cell_type": "code",
   "execution_count": 13,
   "metadata": {},
   "outputs": [
    {
     "name": "stdout",
     "output_type": "stream",
     "text": [
      "<class 'pandas.core.frame.DataFrame'>\n",
      "RangeIndex: 19439 entries, 0 to 19438\n",
      "Data columns (total 88 columns):\n",
      " #   Column                                              Non-Null Count  Dtype  \n",
      "---  ------                                              --------------  -----  \n",
      " 0   date                                                19439 non-null  object \n",
      " 1   final_output_concentrate_ag                         19438 non-null  float64\n",
      " 2   final_output_concentrate_pb                         19438 non-null  float64\n",
      " 3   final_output_concentrate_sol                        19228 non-null  float64\n",
      " 4   final_output_concentrate_au                         19439 non-null  float64\n",
      " 5   final_output_recovery                               19439 non-null  float64\n",
      " 6   final_output_tail_ag                                19438 non-null  float64\n",
      " 7   final_output_tail_pb                                19338 non-null  float64\n",
      " 8   final_output_tail_sol                               19433 non-null  float64\n",
      " 9   final_output_tail_au                                19439 non-null  float64\n",
      " 10  primary_cleaner_input_sulfate                       19415 non-null  float64\n",
      " 11  primary_cleaner_input_depressant                    19402 non-null  float64\n",
      " 12  primary_cleaner_input_feed_size                     19439 non-null  float64\n",
      " 13  primary_cleaner_input_xanthate                      19335 non-null  float64\n",
      " 14  primary_cleaner_output_concentrate_ag               19439 non-null  float64\n",
      " 15  primary_cleaner_output_concentrate_pb               19323 non-null  float64\n",
      " 16  primary_cleaner_output_concentrate_sol              19069 non-null  float64\n",
      " 17  primary_cleaner_output_concentrate_au               19439 non-null  float64\n",
      " 18  primary_cleaner_output_tail_ag                      19435 non-null  float64\n",
      " 19  primary_cleaner_output_tail_pb                      19418 non-null  float64\n",
      " 20  primary_cleaner_output_tail_sol                     19377 non-null  float64\n",
      " 21  primary_cleaner_output_tail_au                      19439 non-null  float64\n",
      " 22  primary_cleaner_state_floatbank8_a_air              19435 non-null  float64\n",
      " 23  primary_cleaner_state_floatbank8_a_level            19438 non-null  float64\n",
      " 24  primary_cleaner_state_floatbank8_b_air              19435 non-null  float64\n",
      " 25  primary_cleaner_state_floatbank8_b_level            19438 non-null  float64\n",
      " 26  primary_cleaner_state_floatbank8_c_air              19437 non-null  float64\n",
      " 27  primary_cleaner_state_floatbank8_c_level            19438 non-null  float64\n",
      " 28  primary_cleaner_state_floatbank8_d_air              19436 non-null  float64\n",
      " 29  primary_cleaner_state_floatbank8_d_level            19438 non-null  float64\n",
      " 30  rougher_calculation_sulfate_to_au_concentrate       19437 non-null  float64\n",
      " 31  rougher_calculation_floatbank10_sulfate_to_au_feed  19437 non-null  float64\n",
      " 32  rougher_calculation_floatbank11_sulfate_to_au_feed  19437 non-null  float64\n",
      " 33  rougher_calculation_au_pb_ratio                     19439 non-null  float64\n",
      " 34  rougher_input_feed_ag                               19439 non-null  float64\n",
      " 35  rougher_input_feed_pb                               19339 non-null  float64\n",
      " 36  rougher_input_feed_rate                             19428 non-null  float64\n",
      " 37  rougher_input_feed_size                             19294 non-null  float64\n",
      " 38  rougher_input_feed_sol                              19340 non-null  float64\n",
      " 39  rougher_input_feed_au                               19439 non-null  float64\n",
      " 40  rougher_input_floatbank10_sulfate                   19405 non-null  float64\n",
      " 41  rougher_input_floatbank10_xanthate                  19431 non-null  float64\n",
      " 42  rougher_input_floatbank11_sulfate                   19395 non-null  float64\n",
      " 43  rougher_input_floatbank11_xanthate                  18986 non-null  float64\n",
      " 44  rougher_output_concentrate_ag                       19439 non-null  float64\n",
      " 45  rougher_output_concentrate_pb                       19439 non-null  float64\n",
      " 46  rougher_output_concentrate_sol                      19416 non-null  float64\n",
      " 47  rougher_output_concentrate_au                       19439 non-null  float64\n",
      " 48  rougher_output_recovery                             19439 non-null  float64\n",
      " 49  rougher_output_tail_ag                              19438 non-null  float64\n",
      " 50  rougher_output_tail_pb                              19439 non-null  float64\n",
      " 51  rougher_output_tail_sol                             19439 non-null  float64\n",
      " 52  rougher_output_tail_au                              19439 non-null  float64\n",
      " 53  rougher_state_floatbank10_a_air                     19438 non-null  float64\n",
      " 54  rougher_state_floatbank10_a_level                   19438 non-null  float64\n",
      " 55  rougher_state_floatbank10_b_air                     19438 non-null  float64\n",
      " 56  rougher_state_floatbank10_b_level                   19438 non-null  float64\n",
      " 57  rougher_state_floatbank10_c_air                     19438 non-null  float64\n",
      " 58  rougher_state_floatbank10_c_level                   19438 non-null  float64\n",
      " 59  rougher_state_floatbank10_d_air                     19439 non-null  float64\n",
      " 60  rougher_state_floatbank10_d_level                   19439 non-null  float64\n",
      " 61  rougher_state_floatbank10_e_air                     19003 non-null  float64\n",
      " 62  rougher_state_floatbank10_e_level                   19439 non-null  float64\n",
      " 63  rougher_state_floatbank10_f_air                     19439 non-null  float64\n",
      " 64  rougher_state_floatbank10_f_level                   19439 non-null  float64\n",
      " 65  secondary_cleaner_output_tail_ag                    19437 non-null  float64\n",
      " 66  secondary_cleaner_output_tail_pb                    19427 non-null  float64\n",
      " 67  secondary_cleaner_output_tail_sol                   17691 non-null  float64\n",
      " 68  secondary_cleaner_output_tail_au                    19439 non-null  float64\n",
      " 69  secondary_cleaner_state_floatbank2_a_air            19219 non-null  float64\n",
      " 70  secondary_cleaner_state_floatbank2_a_level          19438 non-null  float64\n",
      " 71  secondary_cleaner_state_floatbank2_b_air            19416 non-null  float64\n",
      " 72  secondary_cleaner_state_floatbank2_b_level          19438 non-null  float64\n",
      " 73  secondary_cleaner_state_floatbank3_a_air            19426 non-null  float64\n",
      " 74  secondary_cleaner_state_floatbank3_a_level          19438 non-null  float64\n",
      " 75  secondary_cleaner_state_floatbank3_b_air            19438 non-null  float64\n",
      " 76  secondary_cleaner_state_floatbank3_b_level          19438 non-null  float64\n",
      " 77  secondary_cleaner_state_floatbank4_a_air            19433 non-null  float64\n",
      " 78  secondary_cleaner_state_floatbank4_a_level          19438 non-null  float64\n",
      " 79  secondary_cleaner_state_floatbank4_b_air            19438 non-null  float64\n",
      " 80  secondary_cleaner_state_floatbank4_b_level          19438 non-null  float64\n",
      " 81  secondary_cleaner_state_floatbank5_a_air            19438 non-null  float64\n",
      " 82  secondary_cleaner_state_floatbank5_a_level          19438 non-null  float64\n",
      " 83  secondary_cleaner_state_floatbank5_b_air            19438 non-null  float64\n",
      " 84  secondary_cleaner_state_floatbank5_b_level          19438 non-null  float64\n",
      " 85  secondary_cleaner_state_floatbank6_a_air            19437 non-null  float64\n",
      " 86  secondary_cleaner_state_floatbank6_a_level          19438 non-null  float64\n",
      " 87  recovery_new                                        19439 non-null  float64\n",
      "dtypes: float64(87), object(1)\n",
      "memory usage: 13.1+ MB\n"
     ]
    },
    {
     "data": {
      "text/plain": [
       "None"
      ]
     },
     "metadata": {},
     "output_type": "display_data"
    },
    {
     "data": {
      "text/html": [
       "<div>\n",
       "<style scoped>\n",
       "    .dataframe tbody tr th:only-of-type {\n",
       "        vertical-align: middle;\n",
       "    }\n",
       "\n",
       "    .dataframe tbody tr th {\n",
       "        vertical-align: top;\n",
       "    }\n",
       "\n",
       "    .dataframe thead th {\n",
       "        text-align: right;\n",
       "    }\n",
       "</style>\n",
       "<table border=\"1\" class=\"dataframe\">\n",
       "  <thead>\n",
       "    <tr style=\"text-align: right;\">\n",
       "      <th></th>\n",
       "      <th>count</th>\n",
       "      <th>mean</th>\n",
       "      <th>std</th>\n",
       "      <th>min</th>\n",
       "      <th>25%</th>\n",
       "      <th>50%</th>\n",
       "      <th>75%</th>\n",
       "      <th>max</th>\n",
       "    </tr>\n",
       "  </thead>\n",
       "  <tbody>\n",
       "    <tr>\n",
       "      <th>final_output_concentrate_ag</th>\n",
       "      <td>19438.0</td>\n",
       "      <td>5.168470</td>\n",
       "      <td>1.372348</td>\n",
       "      <td>0.000000</td>\n",
       "      <td>4.251240</td>\n",
       "      <td>5.066094</td>\n",
       "      <td>5.895527</td>\n",
       "      <td>16.001945</td>\n",
       "    </tr>\n",
       "    <tr>\n",
       "      <th>final_output_concentrate_pb</th>\n",
       "      <td>19438.0</td>\n",
       "      <td>9.978895</td>\n",
       "      <td>1.669240</td>\n",
       "      <td>0.000000</td>\n",
       "      <td>9.137262</td>\n",
       "      <td>10.102433</td>\n",
       "      <td>11.035769</td>\n",
       "      <td>17.031899</td>\n",
       "    </tr>\n",
       "    <tr>\n",
       "      <th>final_output_concentrate_sol</th>\n",
       "      <td>19228.0</td>\n",
       "      <td>9.501224</td>\n",
       "      <td>2.787537</td>\n",
       "      <td>0.000000</td>\n",
       "      <td>7.722820</td>\n",
       "      <td>9.218961</td>\n",
       "      <td>10.947813</td>\n",
       "      <td>19.615720</td>\n",
       "    </tr>\n",
       "    <tr>\n",
       "      <th>final_output_concentrate_au</th>\n",
       "      <td>19439.0</td>\n",
       "      <td>44.076513</td>\n",
       "      <td>5.129784</td>\n",
       "      <td>0.000000</td>\n",
       "      <td>43.402215</td>\n",
       "      <td>45.011244</td>\n",
       "      <td>46.275313</td>\n",
       "      <td>52.756638</td>\n",
       "    </tr>\n",
       "    <tr>\n",
       "      <th>final_output_recovery</th>\n",
       "      <td>19439.0</td>\n",
       "      <td>67.050208</td>\n",
       "      <td>10.125840</td>\n",
       "      <td>0.000000</td>\n",
       "      <td>63.299712</td>\n",
       "      <td>68.172738</td>\n",
       "      <td>72.686642</td>\n",
       "      <td>100.000000</td>\n",
       "    </tr>\n",
       "    <tr>\n",
       "      <th>...</th>\n",
       "      <td>...</td>\n",
       "      <td>...</td>\n",
       "      <td>...</td>\n",
       "      <td>...</td>\n",
       "      <td>...</td>\n",
       "      <td>...</td>\n",
       "      <td>...</td>\n",
       "      <td>...</td>\n",
       "    </tr>\n",
       "    <tr>\n",
       "      <th>secondary_cleaner_state_floatbank5_b_air</th>\n",
       "      <td>19438.0</td>\n",
       "      <td>12.198224</td>\n",
       "      <td>5.333024</td>\n",
       "      <td>0.528083</td>\n",
       "      <td>8.971105</td>\n",
       "      <td>11.019433</td>\n",
       "      <td>14.019088</td>\n",
       "      <td>27.926001</td>\n",
       "    </tr>\n",
       "    <tr>\n",
       "      <th>secondary_cleaner_state_floatbank5_b_level</th>\n",
       "      <td>19438.0</td>\n",
       "      <td>-487.149827</td>\n",
       "      <td>38.347312</td>\n",
       "      <td>-800.220337</td>\n",
       "      <td>-500.129462</td>\n",
       "      <td>-499.935317</td>\n",
       "      <td>-499.436708</td>\n",
       "      <td>-137.740004</td>\n",
       "    </tr>\n",
       "    <tr>\n",
       "      <th>secondary_cleaner_state_floatbank6_a_air</th>\n",
       "      <td>19437.0</td>\n",
       "      <td>18.959024</td>\n",
       "      <td>5.550498</td>\n",
       "      <td>-0.079426</td>\n",
       "      <td>14.983037</td>\n",
       "      <td>19.960541</td>\n",
       "      <td>24.003170</td>\n",
       "      <td>32.188906</td>\n",
       "    </tr>\n",
       "    <tr>\n",
       "      <th>secondary_cleaner_state_floatbank6_a_level</th>\n",
       "      <td>19438.0</td>\n",
       "      <td>-505.436305</td>\n",
       "      <td>37.689057</td>\n",
       "      <td>-809.741464</td>\n",
       "      <td>-500.728067</td>\n",
       "      <td>-500.048400</td>\n",
       "      <td>-499.495378</td>\n",
       "      <td>-104.427459</td>\n",
       "    </tr>\n",
       "    <tr>\n",
       "      <th>recovery_new</th>\n",
       "      <td>19439.0</td>\n",
       "      <td>83.328587</td>\n",
       "      <td>14.148086</td>\n",
       "      <td>-0.000000</td>\n",
       "      <td>81.037957</td>\n",
       "      <td>86.188892</td>\n",
       "      <td>90.010670</td>\n",
       "      <td>100.000000</td>\n",
       "    </tr>\n",
       "  </tbody>\n",
       "</table>\n",
       "<p>87 rows × 8 columns</p>\n",
       "</div>"
      ],
      "text/plain": [
       "                                              count        mean        std  \\\n",
       "final_output_concentrate_ag                 19438.0    5.168470   1.372348   \n",
       "final_output_concentrate_pb                 19438.0    9.978895   1.669240   \n",
       "final_output_concentrate_sol                19228.0    9.501224   2.787537   \n",
       "final_output_concentrate_au                 19439.0   44.076513   5.129784   \n",
       "final_output_recovery                       19439.0   67.050208  10.125840   \n",
       "...                                             ...         ...        ...   \n",
       "secondary_cleaner_state_floatbank5_b_air    19438.0   12.198224   5.333024   \n",
       "secondary_cleaner_state_floatbank5_b_level  19438.0 -487.149827  38.347312   \n",
       "secondary_cleaner_state_floatbank6_a_air    19437.0   18.959024   5.550498   \n",
       "secondary_cleaner_state_floatbank6_a_level  19438.0 -505.436305  37.689057   \n",
       "recovery_new                                19439.0   83.328587  14.148086   \n",
       "\n",
       "                                                   min         25%  \\\n",
       "final_output_concentrate_ag                   0.000000    4.251240   \n",
       "final_output_concentrate_pb                   0.000000    9.137262   \n",
       "final_output_concentrate_sol                  0.000000    7.722820   \n",
       "final_output_concentrate_au                   0.000000   43.402215   \n",
       "final_output_recovery                         0.000000   63.299712   \n",
       "...                                                ...         ...   \n",
       "secondary_cleaner_state_floatbank5_b_air      0.528083    8.971105   \n",
       "secondary_cleaner_state_floatbank5_b_level -800.220337 -500.129462   \n",
       "secondary_cleaner_state_floatbank6_a_air     -0.079426   14.983037   \n",
       "secondary_cleaner_state_floatbank6_a_level -809.741464 -500.728067   \n",
       "recovery_new                                 -0.000000   81.037957   \n",
       "\n",
       "                                                   50%         75%         max  \n",
       "final_output_concentrate_ag                   5.066094    5.895527   16.001945  \n",
       "final_output_concentrate_pb                  10.102433   11.035769   17.031899  \n",
       "final_output_concentrate_sol                  9.218961   10.947813   19.615720  \n",
       "final_output_concentrate_au                  45.011244   46.275313   52.756638  \n",
       "final_output_recovery                        68.172738   72.686642  100.000000  \n",
       "...                                                ...         ...         ...  \n",
       "secondary_cleaner_state_floatbank5_b_air     11.019433   14.019088   27.926001  \n",
       "secondary_cleaner_state_floatbank5_b_level -499.935317 -499.436708 -137.740004  \n",
       "secondary_cleaner_state_floatbank6_a_air     19.960541   24.003170   32.188906  \n",
       "secondary_cleaner_state_floatbank6_a_level -500.048400 -499.495378 -104.427459  \n",
       "recovery_new                                 86.188892   90.010670  100.000000  \n",
       "\n",
       "[87 rows x 8 columns]"
      ]
     },
     "metadata": {},
     "output_type": "display_data"
    },
    {
     "data": {
      "text/html": [
       "<div>\n",
       "<style scoped>\n",
       "    .dataframe tbody tr th:only-of-type {\n",
       "        vertical-align: middle;\n",
       "    }\n",
       "\n",
       "    .dataframe tbody tr th {\n",
       "        vertical-align: top;\n",
       "    }\n",
       "\n",
       "    .dataframe thead th {\n",
       "        text-align: right;\n",
       "    }\n",
       "</style>\n",
       "<table border=\"1\" class=\"dataframe\">\n",
       "  <thead>\n",
       "    <tr style=\"text-align: right;\">\n",
       "      <th></th>\n",
       "      <th>date</th>\n",
       "      <th>final_output_concentrate_ag</th>\n",
       "      <th>final_output_concentrate_pb</th>\n",
       "      <th>final_output_concentrate_sol</th>\n",
       "      <th>final_output_concentrate_au</th>\n",
       "      <th>final_output_recovery</th>\n",
       "      <th>final_output_tail_ag</th>\n",
       "      <th>final_output_tail_pb</th>\n",
       "      <th>final_output_tail_sol</th>\n",
       "      <th>final_output_tail_au</th>\n",
       "      <th>...</th>\n",
       "      <th>secondary_cleaner_state_floatbank4_a_level</th>\n",
       "      <th>secondary_cleaner_state_floatbank4_b_air</th>\n",
       "      <th>secondary_cleaner_state_floatbank4_b_level</th>\n",
       "      <th>secondary_cleaner_state_floatbank5_a_air</th>\n",
       "      <th>secondary_cleaner_state_floatbank5_a_level</th>\n",
       "      <th>secondary_cleaner_state_floatbank5_b_air</th>\n",
       "      <th>secondary_cleaner_state_floatbank5_b_level</th>\n",
       "      <th>secondary_cleaner_state_floatbank6_a_air</th>\n",
       "      <th>secondary_cleaner_state_floatbank6_a_level</th>\n",
       "      <th>recovery_new</th>\n",
       "    </tr>\n",
       "  </thead>\n",
       "  <tbody>\n",
       "    <tr>\n",
       "      <th>3636</th>\n",
       "      <td>2016-07-16 20:59:59</td>\n",
       "      <td>5.065144</td>\n",
       "      <td>8.300636</td>\n",
       "      <td>14.734506</td>\n",
       "      <td>46.259048</td>\n",
       "      <td>68.889096</td>\n",
       "      <td>10.585763</td>\n",
       "      <td>2.355901</td>\n",
       "      <td>12.134493</td>\n",
       "      <td>3.477837</td>\n",
       "      <td>...</td>\n",
       "      <td>-400.796513</td>\n",
       "      <td>4.985762</td>\n",
       "      <td>-400.622204</td>\n",
       "      <td>9.861943</td>\n",
       "      <td>-396.653068</td>\n",
       "      <td>5.101773</td>\n",
       "      <td>-400.418988</td>\n",
       "      <td>23.051710</td>\n",
       "      <td>-500.980715</td>\n",
       "      <td>93.142989</td>\n",
       "    </tr>\n",
       "    <tr>\n",
       "      <th>4677</th>\n",
       "      <td>2016-08-31 19:59:59</td>\n",
       "      <td>6.327654</td>\n",
       "      <td>9.847026</td>\n",
       "      <td>12.291815</td>\n",
       "      <td>43.333129</td>\n",
       "      <td>72.557659</td>\n",
       "      <td>11.598803</td>\n",
       "      <td>3.472705</td>\n",
       "      <td>10.880407</td>\n",
       "      <td>4.093319</td>\n",
       "      <td>...</td>\n",
       "      <td>-502.626483</td>\n",
       "      <td>7.999807</td>\n",
       "      <td>-499.547863</td>\n",
       "      <td>8.076736</td>\n",
       "      <td>-491.414653</td>\n",
       "      <td>4.999006</td>\n",
       "      <td>-500.143968</td>\n",
       "      <td>30.034398</td>\n",
       "      <td>-500.324958</td>\n",
       "      <td>92.686185</td>\n",
       "    </tr>\n",
       "    <tr>\n",
       "      <th>17935</th>\n",
       "      <td>2018-06-02 16:59:59</td>\n",
       "      <td>4.195586</td>\n",
       "      <td>11.570498</td>\n",
       "      <td>6.464259</td>\n",
       "      <td>45.372823</td>\n",
       "      <td>72.100412</td>\n",
       "      <td>7.992144</td>\n",
       "      <td>2.069247</td>\n",
       "      <td>10.703744</td>\n",
       "      <td>1.572270</td>\n",
       "      <td>...</td>\n",
       "      <td>-498.606228</td>\n",
       "      <td>22.002983</td>\n",
       "      <td>-499.346823</td>\n",
       "      <td>25.003055</td>\n",
       "      <td>-499.700324</td>\n",
       "      <td>19.580075</td>\n",
       "      <td>-499.909463</td>\n",
       "      <td>24.994295</td>\n",
       "      <td>-501.037433</td>\n",
       "      <td>88.095594</td>\n",
       "    </tr>\n",
       "    <tr>\n",
       "      <th>10520</th>\n",
       "      <td>2017-06-10 16:59:59</td>\n",
       "      <td>4.608998</td>\n",
       "      <td>10.626317</td>\n",
       "      <td>9.892358</td>\n",
       "      <td>45.185064</td>\n",
       "      <td>68.584817</td>\n",
       "      <td>9.494693</td>\n",
       "      <td>3.748708</td>\n",
       "      <td>10.281277</td>\n",
       "      <td>3.602019</td>\n",
       "      <td>...</td>\n",
       "      <td>-501.730008</td>\n",
       "      <td>12.860888</td>\n",
       "      <td>-380.157240</td>\n",
       "      <td>18.004124</td>\n",
       "      <td>-500.739373</td>\n",
       "      <td>12.996301</td>\n",
       "      <td>-499.997204</td>\n",
       "      <td>20.004962</td>\n",
       "      <td>-500.653720</td>\n",
       "      <td>84.014758</td>\n",
       "    </tr>\n",
       "    <tr>\n",
       "      <th>2196</th>\n",
       "      <td>2016-05-09 08:59:59</td>\n",
       "      <td>3.738254</td>\n",
       "      <td>8.686003</td>\n",
       "      <td>9.297509</td>\n",
       "      <td>47.874467</td>\n",
       "      <td>64.543899</td>\n",
       "      <td>7.218922</td>\n",
       "      <td>2.099803</td>\n",
       "      <td>12.941781</td>\n",
       "      <td>2.569020</td>\n",
       "      <td>...</td>\n",
       "      <td>-500.031785</td>\n",
       "      <td>14.029463</td>\n",
       "      <td>-499.698105</td>\n",
       "      <td>11.048090</td>\n",
       "      <td>-500.433167</td>\n",
       "      <td>5.947503</td>\n",
       "      <td>-500.072728</td>\n",
       "      <td>20.046364</td>\n",
       "      <td>-499.585083</td>\n",
       "      <td>72.805732</td>\n",
       "    </tr>\n",
       "    <tr>\n",
       "      <th>18195</th>\n",
       "      <td>2018-06-14 01:59:59</td>\n",
       "      <td>4.122269</td>\n",
       "      <td>10.890907</td>\n",
       "      <td>6.599878</td>\n",
       "      <td>45.976042</td>\n",
       "      <td>69.400186</td>\n",
       "      <td>8.466186</td>\n",
       "      <td>1.410241</td>\n",
       "      <td>8.631175</td>\n",
       "      <td>1.537789</td>\n",
       "      <td>...</td>\n",
       "      <td>-500.135009</td>\n",
       "      <td>21.983182</td>\n",
       "      <td>-499.989274</td>\n",
       "      <td>25.016015</td>\n",
       "      <td>-500.049732</td>\n",
       "      <td>23.020386</td>\n",
       "      <td>-500.132942</td>\n",
       "      <td>25.006552</td>\n",
       "      <td>-499.601770</td>\n",
       "      <td>86.235428</td>\n",
       "    </tr>\n",
       "    <tr>\n",
       "      <th>2242</th>\n",
       "      <td>2016-05-11 07:59:59</td>\n",
       "      <td>5.851419</td>\n",
       "      <td>8.990601</td>\n",
       "      <td>8.880893</td>\n",
       "      <td>43.140620</td>\n",
       "      <td>66.259592</td>\n",
       "      <td>9.748954</td>\n",
       "      <td>2.489516</td>\n",
       "      <td>11.669946</td>\n",
       "      <td>3.390983</td>\n",
       "      <td>...</td>\n",
       "      <td>-498.441091</td>\n",
       "      <td>12.006943</td>\n",
       "      <td>-459.410812</td>\n",
       "      <td>11.153447</td>\n",
       "      <td>-498.348159</td>\n",
       "      <td>6.060736</td>\n",
       "      <td>-500.273276</td>\n",
       "      <td>20.001241</td>\n",
       "      <td>-496.197320</td>\n",
       "      <td>78.941005</td>\n",
       "    </tr>\n",
       "    <tr>\n",
       "      <th>4692</th>\n",
       "      <td>2016-09-01 10:59:59</td>\n",
       "      <td>4.427522</td>\n",
       "      <td>10.804269</td>\n",
       "      <td>9.167671</td>\n",
       "      <td>46.373533</td>\n",
       "      <td>50.285972</td>\n",
       "      <td>8.506360</td>\n",
       "      <td>3.222048</td>\n",
       "      <td>11.231142</td>\n",
       "      <td>4.243642</td>\n",
       "      <td>...</td>\n",
       "      <td>-500.597945</td>\n",
       "      <td>8.109317</td>\n",
       "      <td>-500.815511</td>\n",
       "      <td>7.963967</td>\n",
       "      <td>-523.193535</td>\n",
       "      <td>5.069972</td>\n",
       "      <td>-499.786750</td>\n",
       "      <td>25.003677</td>\n",
       "      <td>-500.043103</td>\n",
       "      <td>75.811940</td>\n",
       "    </tr>\n",
       "    <tr>\n",
       "      <th>6671</th>\n",
       "      <td>2016-12-04 16:59:59</td>\n",
       "      <td>6.138435</td>\n",
       "      <td>9.878720</td>\n",
       "      <td>12.112798</td>\n",
       "      <td>43.662691</td>\n",
       "      <td>74.350728</td>\n",
       "      <td>11.947374</td>\n",
       "      <td>3.492195</td>\n",
       "      <td>6.651508</td>\n",
       "      <td>3.305557</td>\n",
       "      <td>...</td>\n",
       "      <td>-500.877232</td>\n",
       "      <td>16.018747</td>\n",
       "      <td>-499.809519</td>\n",
       "      <td>16.959695</td>\n",
       "      <td>-501.451302</td>\n",
       "      <td>11.970043</td>\n",
       "      <td>-500.600231</td>\n",
       "      <td>21.987304</td>\n",
       "      <td>-502.440139</td>\n",
       "      <td>88.495549</td>\n",
       "    </tr>\n",
       "    <tr>\n",
       "      <th>8184</th>\n",
       "      <td>2017-02-14 10:59:59</td>\n",
       "      <td>7.773121</td>\n",
       "      <td>8.586045</td>\n",
       "      <td>15.525232</td>\n",
       "      <td>43.117968</td>\n",
       "      <td>74.052267</td>\n",
       "      <td>13.768095</td>\n",
       "      <td>3.219781</td>\n",
       "      <td>13.555201</td>\n",
       "      <td>3.675259</td>\n",
       "      <td>...</td>\n",
       "      <td>-401.795503</td>\n",
       "      <td>23.021494</td>\n",
       "      <td>-400.372153</td>\n",
       "      <td>22.974710</td>\n",
       "      <td>-451.632330</td>\n",
       "      <td>19.999093</td>\n",
       "      <td>-450.256191</td>\n",
       "      <td>25.003960</td>\n",
       "      <td>-503.089031</td>\n",
       "      <td>90.459927</td>\n",
       "    </tr>\n",
       "  </tbody>\n",
       "</table>\n",
       "<p>10 rows × 88 columns</p>\n",
       "</div>"
      ],
      "text/plain": [
       "                      date  final_output_concentrate_ag  \\\n",
       "3636   2016-07-16 20:59:59                     5.065144   \n",
       "4677   2016-08-31 19:59:59                     6.327654   \n",
       "17935  2018-06-02 16:59:59                     4.195586   \n",
       "10520  2017-06-10 16:59:59                     4.608998   \n",
       "2196   2016-05-09 08:59:59                     3.738254   \n",
       "18195  2018-06-14 01:59:59                     4.122269   \n",
       "2242   2016-05-11 07:59:59                     5.851419   \n",
       "4692   2016-09-01 10:59:59                     4.427522   \n",
       "6671   2016-12-04 16:59:59                     6.138435   \n",
       "8184   2017-02-14 10:59:59                     7.773121   \n",
       "\n",
       "       final_output_concentrate_pb  final_output_concentrate_sol  \\\n",
       "3636                      8.300636                     14.734506   \n",
       "4677                      9.847026                     12.291815   \n",
       "17935                    11.570498                      6.464259   \n",
       "10520                    10.626317                      9.892358   \n",
       "2196                      8.686003                      9.297509   \n",
       "18195                    10.890907                      6.599878   \n",
       "2242                      8.990601                      8.880893   \n",
       "4692                     10.804269                      9.167671   \n",
       "6671                      9.878720                     12.112798   \n",
       "8184                      8.586045                     15.525232   \n",
       "\n",
       "       final_output_concentrate_au  final_output_recovery  \\\n",
       "3636                     46.259048              68.889096   \n",
       "4677                     43.333129              72.557659   \n",
       "17935                    45.372823              72.100412   \n",
       "10520                    45.185064              68.584817   \n",
       "2196                     47.874467              64.543899   \n",
       "18195                    45.976042              69.400186   \n",
       "2242                     43.140620              66.259592   \n",
       "4692                     46.373533              50.285972   \n",
       "6671                     43.662691              74.350728   \n",
       "8184                     43.117968              74.052267   \n",
       "\n",
       "       final_output_tail_ag  final_output_tail_pb  final_output_tail_sol  \\\n",
       "3636              10.585763              2.355901              12.134493   \n",
       "4677              11.598803              3.472705              10.880407   \n",
       "17935              7.992144              2.069247              10.703744   \n",
       "10520              9.494693              3.748708              10.281277   \n",
       "2196               7.218922              2.099803              12.941781   \n",
       "18195              8.466186              1.410241               8.631175   \n",
       "2242               9.748954              2.489516              11.669946   \n",
       "4692               8.506360              3.222048              11.231142   \n",
       "6671              11.947374              3.492195               6.651508   \n",
       "8184              13.768095              3.219781              13.555201   \n",
       "\n",
       "       final_output_tail_au  ...  secondary_cleaner_state_floatbank4_a_level  \\\n",
       "3636               3.477837  ...                                 -400.796513   \n",
       "4677               4.093319  ...                                 -502.626483   \n",
       "17935              1.572270  ...                                 -498.606228   \n",
       "10520              3.602019  ...                                 -501.730008   \n",
       "2196               2.569020  ...                                 -500.031785   \n",
       "18195              1.537789  ...                                 -500.135009   \n",
       "2242               3.390983  ...                                 -498.441091   \n",
       "4692               4.243642  ...                                 -500.597945   \n",
       "6671               3.305557  ...                                 -500.877232   \n",
       "8184               3.675259  ...                                 -401.795503   \n",
       "\n",
       "       secondary_cleaner_state_floatbank4_b_air  \\\n",
       "3636                                   4.985762   \n",
       "4677                                   7.999807   \n",
       "17935                                 22.002983   \n",
       "10520                                 12.860888   \n",
       "2196                                  14.029463   \n",
       "18195                                 21.983182   \n",
       "2242                                  12.006943   \n",
       "4692                                   8.109317   \n",
       "6671                                  16.018747   \n",
       "8184                                  23.021494   \n",
       "\n",
       "       secondary_cleaner_state_floatbank4_b_level  \\\n",
       "3636                                  -400.622204   \n",
       "4677                                  -499.547863   \n",
       "17935                                 -499.346823   \n",
       "10520                                 -380.157240   \n",
       "2196                                  -499.698105   \n",
       "18195                                 -499.989274   \n",
       "2242                                  -459.410812   \n",
       "4692                                  -500.815511   \n",
       "6671                                  -499.809519   \n",
       "8184                                  -400.372153   \n",
       "\n",
       "       secondary_cleaner_state_floatbank5_a_air  \\\n",
       "3636                                   9.861943   \n",
       "4677                                   8.076736   \n",
       "17935                                 25.003055   \n",
       "10520                                 18.004124   \n",
       "2196                                  11.048090   \n",
       "18195                                 25.016015   \n",
       "2242                                  11.153447   \n",
       "4692                                   7.963967   \n",
       "6671                                  16.959695   \n",
       "8184                                  22.974710   \n",
       "\n",
       "       secondary_cleaner_state_floatbank5_a_level  \\\n",
       "3636                                  -396.653068   \n",
       "4677                                  -491.414653   \n",
       "17935                                 -499.700324   \n",
       "10520                                 -500.739373   \n",
       "2196                                  -500.433167   \n",
       "18195                                 -500.049732   \n",
       "2242                                  -498.348159   \n",
       "4692                                  -523.193535   \n",
       "6671                                  -501.451302   \n",
       "8184                                  -451.632330   \n",
       "\n",
       "       secondary_cleaner_state_floatbank5_b_air  \\\n",
       "3636                                   5.101773   \n",
       "4677                                   4.999006   \n",
       "17935                                 19.580075   \n",
       "10520                                 12.996301   \n",
       "2196                                   5.947503   \n",
       "18195                                 23.020386   \n",
       "2242                                   6.060736   \n",
       "4692                                   5.069972   \n",
       "6671                                  11.970043   \n",
       "8184                                  19.999093   \n",
       "\n",
       "       secondary_cleaner_state_floatbank5_b_level  \\\n",
       "3636                                  -400.418988   \n",
       "4677                                  -500.143968   \n",
       "17935                                 -499.909463   \n",
       "10520                                 -499.997204   \n",
       "2196                                  -500.072728   \n",
       "18195                                 -500.132942   \n",
       "2242                                  -500.273276   \n",
       "4692                                  -499.786750   \n",
       "6671                                  -500.600231   \n",
       "8184                                  -450.256191   \n",
       "\n",
       "       secondary_cleaner_state_floatbank6_a_air  \\\n",
       "3636                                  23.051710   \n",
       "4677                                  30.034398   \n",
       "17935                                 24.994295   \n",
       "10520                                 20.004962   \n",
       "2196                                  20.046364   \n",
       "18195                                 25.006552   \n",
       "2242                                  20.001241   \n",
       "4692                                  25.003677   \n",
       "6671                                  21.987304   \n",
       "8184                                  25.003960   \n",
       "\n",
       "       secondary_cleaner_state_floatbank6_a_level  recovery_new  \n",
       "3636                                  -500.980715     93.142989  \n",
       "4677                                  -500.324958     92.686185  \n",
       "17935                                 -501.037433     88.095594  \n",
       "10520                                 -500.653720     84.014758  \n",
       "2196                                  -499.585083     72.805732  \n",
       "18195                                 -499.601770     86.235428  \n",
       "2242                                  -496.197320     78.941005  \n",
       "4692                                  -500.043103     75.811940  \n",
       "6671                                  -502.440139     88.495549  \n",
       "8184                                  -503.089031     90.459927  \n",
       "\n",
       "[10 rows x 88 columns]"
      ]
     },
     "metadata": {},
     "output_type": "display_data"
    },
    {
     "name": "stdout",
     "output_type": "stream",
     "text": [
      "Количество дубликатов: 0\n"
     ]
    }
   ],
   "source": [
    "df_info(df_full)"
   ]
  },
  {
   "cell_type": "markdown",
   "metadata": {},
   "source": [
    "### Вывод.\n",
    "Данные предобработаны и готовы к дальнейшей работе.\n"
   ]
  },
  {
   "cell_type": "markdown",
   "metadata": {},
   "source": [
    "## Анализ данных"
   ]
  },
  {
   "cell_type": "markdown",
   "metadata": {},
   "source": [
    "### Задаём функцию для графических построений."
   ]
  },
  {
   "cell_type": "code",
   "execution_count": 14,
   "metadata": {},
   "outputs": [],
   "source": [
    "\n",
    "def hist_metall(final, primary, rougher, raw, name):\n",
    "    plt.figure(figsize=(14,7))\n",
    "    plt.hist(final, bins=70, alpha=0.5, label='Final output concentrate')\n",
    "    plt.hist(primary, bins=70, alpha=0.5, label='Primary cleaner output concentrate')\n",
    "    plt.hist(rougher, bins=70, alpha=0.5, label='Rougher output concentrate')\n",
    "    plt.hist(raw, bins=70, alpha=0.5, label='Rougher input feed')\n",
    "    pl.xlabel(\"Концентрация металла\")\n",
    "    pl.ylabel(\"Количество измерений\")\n",
    "    name = 'Изменение концентрации металла (' + name + ') на различных этапах очистки.'\n",
    "    plt.title(name)\n",
    "    plt.legend()\n",
    "    plt.show()\n",
    "\n"
   ]
  },
  {
   "cell_type": "markdown",
   "metadata": {},
   "source": [
    "### Смотрим динамику по золоту."
   ]
  },
  {
   "cell_type": "code",
   "execution_count": 15,
   "metadata": {},
   "outputs": [
    {
     "data": {
      "image/png": "[encoded data removed]",
      "text/plain": [
       "<Figure size 1008x504 with 1 Axes>"
      ]
     },
     "metadata": {
      "needs_background": "light"
     },
     "output_type": "display_data"
    }
   ],
   "source": [
    "hist_metall(df_full['final_output_concentrate_au'], \n",
    "            df_full['primary_cleaner_output_concentrate_au'], \n",
    "            df_full['rougher_output_concentrate_au'], \n",
    "            df_full['rougher_input_feed_au'], \n",
    "            'Au')"
   ]
  },
  {
   "cell_type": "markdown",
   "metadata": {},
   "source": [
    "### Смотрим динамику по серебру."
   ]
  },
  {
   "cell_type": "code",
   "execution_count": 16,
   "metadata": {},
   "outputs": [
    {
     "data": {
      "image/png": "[encoded data removed]",
      "text/plain": [
       "<Figure size 1008x504 with 1 Axes>"
      ]
     },
     "metadata": {
      "needs_background": "light"
     },
     "output_type": "display_data"
    }
   ],
   "source": [
    "hist_metall(df_full['final_output_concentrate_ag'], \n",
    "            df_full['primary_cleaner_output_concentrate_ag'], \n",
    "            df_full['rougher_output_concentrate_ag'], \n",
    "            df_full['rougher_input_feed_ag'], \n",
    "            'Ag')"
   ]
  },
  {
   "cell_type": "markdown",
   "metadata": {},
   "source": [
    "### Смотрим динамику по свинцу."
   ]
  },
  {
   "cell_type": "code",
   "execution_count": 17,
   "metadata": {},
   "outputs": [
    {
     "data": {
      "image/png": "[encoded data removed]",
      "text/plain": [
       "<Figure size 1008x504 with 1 Axes>"
      ]
     },
     "metadata": {
      "needs_background": "light"
     },
     "output_type": "display_data"
    }
   ],
   "source": [
    "hist_metall(df_full['final_output_concentrate_pb'], \n",
    "            df_full['primary_cleaner_output_concentrate_pb'], \n",
    "            df_full['rougher_output_concentrate_pb'], \n",
    "            df_full['rougher_input_feed_pb'], \n",
    "            'Pb')"
   ]
  },
  {
   "cell_type": "markdown",
   "metadata": {},
   "source": [
    "### Вывод.\n",
    "Концентрация золота явно растет, концентрация остальных металлов имеет разнонаправленную динамику. Предполагаем, что обо связанно с особенностями технического процесса.\n",
    "\n",
    "\n",
    "Также явно прослеживается небольшой пик на нулевых значениях. Логично предположить что это просто попадается пустая порода. Так как нам нужно обучать модель на настоящем сырье, а не пытаться оптимизировать процесс на пустой породе, смело отбрасываем эту часть данных в выборке.\n"
   ]
  },
  {
   "cell_type": "markdown",
   "metadata": {},
   "source": [
    "### Сравнение распределения размеров гранул сырья на обучающей и тестовой выборках."
   ]
  },
  {
   "cell_type": "code",
   "execution_count": 18,
   "metadata": {},
   "outputs": [
    {
     "data": {
      "image/png": "[encoded data removed]",
      "text/plain": [
       "<Figure size 1008x504 with 1 Axes>"
      ]
     },
     "metadata": {
      "needs_background": "light"
     },
     "output_type": "display_data"
    }
   ],
   "source": [
    "    plt.figure(figsize=(14,7))\n",
    "    plt.hist(df_test['rougher_input_feed_size'], bins=70, alpha=0.5, label='Значения тестовой выборки')\n",
    "    plt.hist(df_train['rougher_input_feed_size'], bins=70, alpha=0.5, label='Значения обучающей выборки')\n",
    "    pl.xlabel(\"Размер гранул сырья\")\n",
    "    pl.ylabel(\"Количество измерений\")\n",
    "    plt.title('Сравнение распределения размеров гранул сырья на обучающей и тестовой выборках.')\n",
    "    plt.legend()\n",
    "    plt.show()"
   ]
  },
  {
   "cell_type": "markdown",
   "metadata": {},
   "source": [
    "### Вывод.\n",
    "Размеры гранул сырья на обучающей и тестовой выборках сопоставимы. Распределения не сильно отличаются друг от друга, так что оценка модели будет корректной.\n"
   ]
  },
  {
   "cell_type": "markdown",
   "metadata": {},
   "source": [
    "### Изменение суммарных концентраций веществ."
   ]
  },
  {
   "cell_type": "markdown",
   "metadata": {},
   "source": [
    "### Задаём функцию для графических построений."
   ]
  },
  {
   "cell_type": "code",
   "execution_count": 19,
   "metadata": {},
   "outputs": [],
   "source": [
    "def total_concentration (rougher_input, rougher_output, final_output):\n",
    "    plt.figure(figsize=(14,7))\n",
    "    plt.hist(rougher_input, bins=70, alpha=0.5, label='Rougher input')\n",
    "    plt.hist(rougher_output, bins=70, alpha=0.5, label='Rougher output')\n",
    "    plt.hist(final_output, bins=70, alpha=0.5, label='Final output')\n",
    "    pl.xlabel(\"Концентрация веществ\")\n",
    "    pl.ylabel(\"Количество измерений\")\n",
    "    name = 'Изменение суммарных концентраций всех веществ на различных этапах очистки.'\n",
    "    plt.title(name)\n",
    "    plt.legend()\n",
    "    plt.show()"
   ]
  },
  {
   "cell_type": "markdown",
   "metadata": {},
   "source": [
    "### Анализируем изменение суммарных концентраций веществ."
   ]
  },
  {
   "cell_type": "code",
   "execution_count": 20,
   "metadata": {},
   "outputs": [
    {
     "data": {
      "image/png": "[encoded data removed]",
      "text/plain": [
       "<Figure size 1008x504 with 1 Axes>"
      ]
     },
     "metadata": {
      "needs_background": "light"
     },
     "output_type": "display_data"
    }
   ],
   "source": [
    "rougher_input = (df_full['rougher_input_feed_au'] \n",
    "             + df_full['rougher_input_feed_ag']\n",
    "             + df_full['rougher_input_feed_pb']\n",
    "             + df_full['rougher_input_feed_sol'])\n",
    "\n",
    "rougher_output = (df_full['rougher_output_concentrate_au'] \n",
    "             + df_full['rougher_output_concentrate_ag']\n",
    "             + df_full['rougher_output_concentrate_pb']\n",
    "             + df_full['rougher_output_concentrate_sol'])\n",
    "\n",
    "final_output = (df_full['final_output_concentrate_au'] \n",
    "             + df_full['final_output_concentrate_ag']\n",
    "             + df_full['final_output_concentrate_pb']\n",
    "             + df_full['final_output_concentrate_pb'])\n",
    "\n",
    "total_concentration(rougher_input, rougher_output, final_output)"
   ]
  },
  {
   "cell_type": "markdown",
   "metadata": {},
   "source": [
    "### Удаляем данные с нулевым суммарным количеством веществ."
   ]
  },
  {
   "cell_type": "code",
   "execution_count": 21,
   "metadata": {},
   "outputs": [],
   "source": [
    "temp = rougher_input*rougher_output*final_output\n",
    "df_full['temp'] = temp\n",
    "\n",
    "df_temp_3 = df_full.loc[df_test.index]\n",
    "df_temp_3 = df_temp_3.drop((set(df_temp_3.columns) - set(df_test.columns)) - set(['temp']) , axis=1)\n",
    "df_test = df_temp_3[df_temp_3['temp'] != 0]\n",
    "df_test = df_test.drop('temp' , axis=1)\n",
    "\n",
    "df_temp_4 = df_full.loc[df_train.index]\n",
    "df_temp_4 = df_temp_4.drop((set(df_temp_4.columns) - set(df_train.columns)) - set(['temp']) , axis=1)\n",
    "df_train = df_temp_4[df_temp_4['temp'] != 0]\n",
    "df_train = df_train.drop('temp' , axis=1)"
   ]
  },
  {
   "cell_type": "markdown",
   "metadata": {},
   "source": [
    "### Удаляем оставшиеся пропуски в данных"
   ]
  },
  {
   "cell_type": "code",
   "execution_count": 22,
   "metadata": {},
   "outputs": [],
   "source": [
    "df_test = df_test.dropna() \n",
    "df_train = df_train.dropna() \n",
    "\n",
    "df_train = df_train.drop(['date'], axis=1)\n",
    "df_test = df_test.drop(['date'], axis=1)"
   ]
  },
  {
   "cell_type": "markdown",
   "metadata": {},
   "source": [
    "### Вывод.\n",
    "В результате анализа данных были удалены данные характерные для пустой породы. \n"
   ]
  },
  {
   "cell_type": "markdown",
   "metadata": {},
   "source": [
    "## Модель"
   ]
  },
  {
   "cell_type": "markdown",
   "metadata": {},
   "source": [
    "### Функция для вычисления sMAPE\n"
   ]
  },
  {
   "cell_type": "code",
   "execution_count": 23,
   "metadata": {},
   "outputs": [],
   "source": [
    "def final_smape(y, y_hat):\n",
    "    y_rougher = y.iloc[:, 0]\n",
    "    y_hat_rougher = y_hat[:, 0]\n",
    " \n",
    "    rougher_num = np.abs(y_rougher - y_hat_rougher)\n",
    "    rougher_den = (np.abs(y_rougher) + np.abs(y_hat_rougher)) / 2\n",
    "    smape_rougher = np.mean(rougher_num / rougher_den) * 100\n",
    " \n",
    "    y_final = y.iloc[:, 1]\n",
    "    y_hat_final = y_hat[:, 1]\n",
    " \n",
    "    final_num = np.abs(y_final - y_hat_final)\n",
    "    final_den = (np.abs(y_final) + np.abs(y_hat_final)) / 2\n",
    "    smape_final = np.mean(final_num / final_den) * 100\n",
    " \n",
    "    final_smape = smape_rougher * 0.25 + smape_final * 0.75\n",
    "    return np.abs(final_smape)"
   ]
  },
  {
   "cell_type": "markdown",
   "metadata": {},
   "source": [
    "### Готовим выборки"
   ]
  },
  {
   "cell_type": "code",
   "execution_count": 24,
   "metadata": {},
   "outputs": [
    {
     "name": "stdout",
     "output_type": "stream",
     "text": [
      "features_train имеет размерность: (13046, 52)\n",
      "target_train имеет размерность: (13046, 2)\n",
      "features_test имеет размерность: (4977, 52)\n",
      "target_test имеет размерность: (4977, 2)\n"
     ]
    }
   ],
   "source": [
    "features_train = df_train.drop(['recovery_new', 'final_output_recovery'], axis=1)\n",
    "target_train = df_train[['recovery_new', 'final_output_recovery']]\n",
    "\n",
    "features_test = df_test.drop(['recovery_new', 'final_output_recovery'], axis=1)\n",
    "target_test = df_test[['recovery_new', 'final_output_recovery']]\n",
    "\n",
    "print ('features_train имеет размерность:', features_train.shape)\n",
    "print ('target_train имеет размерность:', target_train.shape)\n",
    "\n",
    "print ('features_test имеет размерность:', features_test.shape)\n",
    "print ('target_test имеет размерность:', target_test.shape)"
   ]
  },
  {
   "cell_type": "code",
   "execution_count": 25,
   "metadata": {},
   "outputs": [],
   "source": [
    "smape_score = make_scorer(final_smape, greater_is_better=False)"
   ]
  },
  {
   "cell_type": "markdown",
   "metadata": {},
   "source": [
    "### Модель «Дерево решений»"
   ]
  },
  {
   "cell_type": "code",
   "execution_count": 26,
   "metadata": {},
   "outputs": [
    {
     "data": {
      "text/plain": [
       "{'max_depth': 1}"
      ]
     },
     "execution_count": 26,
     "metadata": {},
     "output_type": "execute_result"
    }
   ],
   "source": [
    "model = DecisionTreeRegressor(random_state=1234)\n",
    "parametrs = { 'max_depth': range (1,21, 5) }\n",
    "grid = GridSearchCV(model, parametrs, cv=5, scoring=smape_score)\n",
    "grid.fit(features_train,target_train)\n",
    "grid.best_params_"
   ]
  },
  {
   "cell_type": "code",
   "execution_count": 27,
   "metadata": {},
   "outputs": [
    {
     "name": "stdout",
     "output_type": "stream",
     "text": [
      "sMAPE = 8.25491322891372\n"
     ]
    }
   ],
   "source": [
    "model = DecisionTreeRegressor(random_state=1234, \n",
    "                              max_depth=grid.best_params_['max_depth'])\n",
    "model.fit(features_train, target_train)\n",
    "predictions = model.predict(features_test)\n",
    "final_smape(target_test, predictions)\n",
    "print ('sMAPE =', final_smape(target_test, predictions))\n",
    "\n",
    "df_smape = pd.DataFrame({'name': ['Модель «Дерево решений»'],\n",
    "                         'sMAPE': [final_smape(target_test, predictions)]})"
   ]
  },
  {
   "cell_type": "markdown",
   "metadata": {},
   "source": [
    "### Модель «Случайный лес»"
   ]
  },
  {
   "cell_type": "code",
   "execution_count": 28,
   "metadata": {},
   "outputs": [
    {
     "data": {
      "text/plain": [
       "{'max_depth': 3, 'n_estimators': 10}"
      ]
     },
     "execution_count": 28,
     "metadata": {},
     "output_type": "execute_result"
    }
   ],
   "source": [
    "model = RandomForestRegressor(random_state=1234)\n",
    "parametrs = { 'n_estimators': range (10, 31, 10), 'max_depth': range (1,5, 2) }\n",
    "grid = GridSearchCV(model, parametrs, cv=5, scoring=smape_score)\n",
    "grid.fit(features_train,target_train)\n",
    "grid.best_params_"
   ]
  },
  {
   "cell_type": "code",
   "execution_count": 29,
   "metadata": {},
   "outputs": [
    {
     "name": "stdout",
     "output_type": "stream",
     "text": [
      "sMAPE = 7.584903582766598\n"
     ]
    }
   ],
   "source": [
    "model = RandomForestRegressor(random_state=1234, \n",
    "                              max_depth=grid.best_params_['max_depth'], \n",
    "                              n_estimators=grid.best_params_['n_estimators'])\n",
    "model.fit(features_train, target_train)\n",
    "predictions = model.predict(features_test)\n",
    "print ('sMAPE =', final_smape(target_test, predictions))\n",
    "\n",
    "df_smape.loc[len(df_smape.index)] = ['Модель «Случайный лес»', \n",
    "                                     final_smape(target_test, predictions)]"
   ]
  },
  {
   "cell_type": "markdown",
   "metadata": {},
   "source": [
    "### Модель «Линейная регрессия»"
   ]
  },
  {
   "cell_type": "code",
   "execution_count": 30,
   "metadata": {},
   "outputs": [
    {
     "data": {
      "text/plain": [
       "-8.860418688612466"
      ]
     },
     "execution_count": 30,
     "metadata": {},
     "output_type": "execute_result"
    }
   ],
   "source": [
    "model = LinearRegression()\n",
    "parametrs = { }\n",
    "grid = GridSearchCV(model, parametrs, cv=5, scoring=smape_score)\n",
    "grid.fit(features_train,target_train)\n",
    "grid.best_score_"
   ]
  },
  {
   "cell_type": "code",
   "execution_count": 31,
   "metadata": {},
   "outputs": [
    {
     "name": "stdout",
     "output_type": "stream",
     "text": [
      "sMAPE = 6.690154371687154\n"
     ]
    }
   ],
   "source": [
    "model = LinearRegression()\n",
    "model.fit(features_train, target_train)\n",
    "predictions = model.predict(features_test)\n",
    "print ('sMAPE =', final_smape(target_test, predictions))\n",
    "\n",
    "df_smape.loc[len(df_smape.index)] = ['Модель «Линейная регрессия»', \n",
    "                                     final_smape(target_test, predictions)]"
   ]
  },
  {
   "cell_type": "code",
   "execution_count": 32,
   "metadata": {},
   "outputs": [
    {
     "name": "stdout",
     "output_type": "stream",
     "text": [
      "sMAPE = 9.116078363570995\n"
     ]
    }
   ],
   "source": [
    "model = DummyRegressor(strategy='mean')\n",
    "model.fit(features_train, target_train)\n",
    "predictions = model.predict(features_test)\n",
    "print ('sMAPE =', final_smape(target_test, predictions))\n",
    "\n",
    "df_smape.loc[len(df_smape.index)] = ['Константная медианная модель', \n",
    "                                     final_smape(target_test, predictions)]"
   ]
  },
  {
   "cell_type": "code",
   "execution_count": 33,
   "metadata": {},
   "outputs": [
    {
     "data": {
      "text/html": [
       "<div>\n",
       "<style scoped>\n",
       "    .dataframe tbody tr th:only-of-type {\n",
       "        vertical-align: middle;\n",
       "    }\n",
       "\n",
       "    .dataframe tbody tr th {\n",
       "        vertical-align: top;\n",
       "    }\n",
       "\n",
       "    .dataframe thead th {\n",
       "        text-align: right;\n",
       "    }\n",
       "</style>\n",
       "<table border=\"1\" class=\"dataframe\">\n",
       "  <thead>\n",
       "    <tr style=\"text-align: right;\">\n",
       "      <th></th>\n",
       "      <th>name</th>\n",
       "      <th>sMAPE</th>\n",
       "    </tr>\n",
       "  </thead>\n",
       "  <tbody>\n",
       "    <tr>\n",
       "      <th>0</th>\n",
       "      <td>Модель «Дерево решений»</td>\n",
       "      <td>8.254913</td>\n",
       "    </tr>\n",
       "    <tr>\n",
       "      <th>1</th>\n",
       "      <td>Модель «Случайный лес»</td>\n",
       "      <td>7.584904</td>\n",
       "    </tr>\n",
       "    <tr>\n",
       "      <th>2</th>\n",
       "      <td>Модель «Линейная регрессия»</td>\n",
       "      <td>6.690154</td>\n",
       "    </tr>\n",
       "    <tr>\n",
       "      <th>3</th>\n",
       "      <td>Константная медианная модель</td>\n",
       "      <td>9.116078</td>\n",
       "    </tr>\n",
       "  </tbody>\n",
       "</table>\n",
       "</div>"
      ],
      "text/plain": [
       "                           name     sMAPE\n",
       "0       Модель «Дерево решений»  8.254913\n",
       "1        Модель «Случайный лес»  7.584904\n",
       "2   Модель «Линейная регрессия»  6.690154\n",
       "3  Константная медианная модель  9.116078"
      ]
     },
     "execution_count": 33,
     "metadata": {},
     "output_type": "execute_result"
    }
   ],
   "source": [
    "df_smape"
   ]
  },
  {
   "cell_type": "markdown",
   "metadata": {},
   "source": [
    "## Вывод:\n",
    "Наилучший результат был достигнут моделью «Линейная регрессия» со значением sMAPE = 6.69"
   ]
  }
 ],
 "metadata": {
  "ExecuteTimeLog": [
   {
    "duration": 496,
    "start_time": "2022-04-04T07:44:22.595Z"
   },
   {
    "duration": 166,
    "start_time": "2022-04-04T07:44:23.093Z"
   },
   {
    "duration": 0,
    "start_time": "2022-04-04T07:44:23.261Z"
   },
   {
    "duration": 0,
    "start_time": "2022-04-04T07:44:23.269Z"
   },
   {
    "duration": 0,
    "start_time": "2022-04-04T07:44:23.271Z"
   },
   {
    "duration": 0,
    "start_time": "2022-04-04T07:44:23.274Z"
   },
   {
    "duration": 830,
    "start_time": "2022-04-04T07:45:18.334Z"
   },
   {
    "duration": 5,
    "start_time": "2022-04-04T07:45:22.753Z"
   },
   {
    "duration": 594,
    "start_time": "2022-04-04T07:45:25.801Z"
   },
   {
    "duration": 293,
    "start_time": "2022-04-04T07:45:29.482Z"
   },
   {
    "duration": 646,
    "start_time": "2022-04-04T07:45:33.168Z"
   },
   {
    "duration": 2554,
    "start_time": "2022-04-04T08:28:02.778Z"
   },
   {
    "duration": 2301,
    "start_time": "2022-04-04T08:30:52.976Z"
   },
   {
    "duration": 2364,
    "start_time": "2022-04-04T08:31:05.495Z"
   },
   {
    "duration": 8,
    "start_time": "2022-04-04T08:31:55.849Z"
   },
   {
    "duration": 9,
    "start_time": "2022-04-04T08:35:46.357Z"
   },
   {
    "duration": 939,
    "start_time": "2022-04-04T08:35:54.876Z"
   },
   {
    "duration": 10,
    "start_time": "2022-04-04T08:35:59.139Z"
   },
   {
    "duration": 2291,
    "start_time": "2022-04-04T08:43:20.887Z"
   },
   {
    "duration": 2480,
    "start_time": "2022-04-04T08:43:43.467Z"
   },
   {
    "duration": 2795,
    "start_time": "2022-04-04T08:44:07.392Z"
   },
   {
    "duration": 43,
    "start_time": "2022-04-04T08:44:55.382Z"
   },
   {
    "duration": 8,
    "start_time": "2022-04-04T08:45:37.587Z"
   },
   {
    "duration": 39,
    "start_time": "2022-04-04T08:47:26.787Z"
   },
   {
    "duration": 30,
    "start_time": "2022-04-04T08:48:04.427Z"
   },
   {
    "duration": 2479,
    "start_time": "2022-04-04T08:58:14.229Z"
   },
   {
    "duration": 7,
    "start_time": "2022-04-04T08:58:22.225Z"
   },
   {
    "duration": 2528,
    "start_time": "2022-04-04T08:59:25.135Z"
   },
   {
    "duration": 9,
    "start_time": "2022-04-04T08:59:44.589Z"
   },
   {
    "duration": 2203,
    "start_time": "2022-04-04T08:59:56.618Z"
   },
   {
    "duration": 8,
    "start_time": "2022-04-04T09:00:49.153Z"
   },
   {
    "duration": 20,
    "start_time": "2022-04-04T09:12:29.180Z"
   },
   {
    "duration": 790,
    "start_time": "2022-04-04T09:26:44.020Z"
   },
   {
    "duration": 19,
    "start_time": "2022-04-04T09:26:52.497Z"
   },
   {
    "duration": 400,
    "start_time": "2022-04-04T14:32:01.919Z"
   },
   {
    "duration": 640,
    "start_time": "2022-04-04T14:32:02.321Z"
   },
   {
    "duration": 3,
    "start_time": "2022-04-04T14:32:02.963Z"
   },
   {
    "duration": 14,
    "start_time": "2022-04-04T14:32:02.968Z"
   },
   {
    "duration": 29,
    "start_time": "2022-04-04T14:32:02.984Z"
   },
   {
    "duration": 5,
    "start_time": "2022-04-04T14:32:03.015Z"
   },
   {
    "duration": 23,
    "start_time": "2022-04-04T14:32:03.021Z"
   },
   {
    "duration": 6,
    "start_time": "2022-04-04T14:40:18.427Z"
   },
   {
    "duration": 5,
    "start_time": "2022-04-04T14:41:02.846Z"
   },
   {
    "duration": 465,
    "start_time": "2022-04-05T04:10:30.578Z"
   },
   {
    "duration": 832,
    "start_time": "2022-04-05T04:10:31.045Z"
   },
   {
    "duration": 4,
    "start_time": "2022-04-05T04:10:31.879Z"
   },
   {
    "duration": 20,
    "start_time": "2022-04-05T04:10:31.885Z"
   },
   {
    "duration": 44,
    "start_time": "2022-04-05T04:10:31.908Z"
   },
   {
    "duration": 7,
    "start_time": "2022-04-05T04:10:31.954Z"
   },
   {
    "duration": 35,
    "start_time": "2022-04-05T04:10:31.963Z"
   },
   {
    "duration": 9,
    "start_time": "2022-04-05T04:14:04.836Z"
   },
   {
    "duration": 2977,
    "start_time": "2022-04-05T04:14:43.210Z"
   },
   {
    "duration": 830,
    "start_time": "2022-04-05T04:16:02.292Z"
   },
   {
    "duration": 6,
    "start_time": "2022-04-05T04:16:21.608Z"
   },
   {
    "duration": 8,
    "start_time": "2022-04-05T04:17:02.406Z"
   },
   {
    "duration": 18,
    "start_time": "2022-04-05T04:18:29.810Z"
   },
   {
    "duration": 904,
    "start_time": "2022-04-05T04:19:18.374Z"
   },
   {
    "duration": 24,
    "start_time": "2022-04-05T04:19:28.846Z"
   },
   {
    "duration": 493,
    "start_time": "2022-04-05T04:49:46.830Z"
   },
   {
    "duration": 818,
    "start_time": "2022-04-05T04:49:47.325Z"
   },
   {
    "duration": 4,
    "start_time": "2022-04-05T04:49:48.145Z"
   },
   {
    "duration": 32,
    "start_time": "2022-04-05T04:49:48.152Z"
   },
   {
    "duration": 21,
    "start_time": "2022-04-05T04:49:48.187Z"
   },
   {
    "duration": 56,
    "start_time": "2022-04-05T04:49:48.210Z"
   },
   {
    "duration": 13,
    "start_time": "2022-04-05T04:49:48.268Z"
   },
   {
    "duration": 12,
    "start_time": "2022-04-05T04:49:48.283Z"
   },
   {
    "duration": 60,
    "start_time": "2022-04-05T04:49:48.297Z"
   },
   {
    "duration": 21,
    "start_time": "2022-04-05T04:49:48.359Z"
   },
   {
    "duration": 2884,
    "start_time": "2022-04-05T04:49:48.382Z"
   },
   {
    "duration": 0,
    "start_time": "2022-04-05T04:49:51.268Z"
   },
   {
    "duration": 12,
    "start_time": "2022-04-05T04:52:03.302Z"
   },
   {
    "duration": 27,
    "start_time": "2022-04-05T04:53:30.595Z"
   },
   {
    "duration": 13,
    "start_time": "2022-04-05T05:00:55.018Z"
   },
   {
    "duration": 11,
    "start_time": "2022-04-05T05:06:06.756Z"
   },
   {
    "duration": 7,
    "start_time": "2022-04-05T05:06:13.726Z"
   },
   {
    "duration": 516,
    "start_time": "2022-04-05T08:42:30.105Z"
   },
   {
    "duration": 939,
    "start_time": "2022-04-05T08:42:30.623Z"
   },
   {
    "duration": 5,
    "start_time": "2022-04-05T08:42:31.564Z"
   },
   {
    "duration": 3549,
    "start_time": "2022-04-05T08:42:31.574Z"
   },
   {
    "duration": 0,
    "start_time": "2022-04-05T08:42:35.126Z"
   },
   {
    "duration": 0,
    "start_time": "2022-04-05T08:42:35.128Z"
   },
   {
    "duration": 0,
    "start_time": "2022-04-05T08:42:35.129Z"
   },
   {
    "duration": 0,
    "start_time": "2022-04-05T08:42:35.131Z"
   },
   {
    "duration": 0,
    "start_time": "2022-04-05T08:42:35.132Z"
   },
   {
    "duration": 0,
    "start_time": "2022-04-05T08:42:35.133Z"
   },
   {
    "duration": 0,
    "start_time": "2022-04-05T08:42:35.135Z"
   },
   {
    "duration": 1,
    "start_time": "2022-04-05T08:42:35.136Z"
   },
   {
    "duration": 0,
    "start_time": "2022-04-05T08:42:35.138Z"
   },
   {
    "duration": 0,
    "start_time": "2022-04-05T08:42:35.140Z"
   },
   {
    "duration": 0,
    "start_time": "2022-04-05T08:42:35.141Z"
   },
   {
    "duration": 511,
    "start_time": "2022-04-05T08:43:24.103Z"
   },
   {
    "duration": 905,
    "start_time": "2022-04-05T08:43:24.617Z"
   },
   {
    "duration": 4,
    "start_time": "2022-04-05T08:43:25.524Z"
   },
   {
    "duration": 22,
    "start_time": "2022-04-05T08:43:25.530Z"
   },
   {
    "duration": 25,
    "start_time": "2022-04-05T08:43:25.555Z"
   },
   {
    "duration": 22,
    "start_time": "2022-04-05T08:43:25.583Z"
   },
   {
    "duration": 13,
    "start_time": "2022-04-05T08:43:25.607Z"
   },
   {
    "duration": 73,
    "start_time": "2022-04-05T08:43:25.622Z"
   },
   {
    "duration": 20,
    "start_time": "2022-04-05T08:43:25.697Z"
   },
   {
    "duration": 27,
    "start_time": "2022-04-05T08:43:25.720Z"
   },
   {
    "duration": 8,
    "start_time": "2022-04-05T08:43:25.774Z"
   },
   {
    "duration": 19,
    "start_time": "2022-04-05T08:43:25.784Z"
   },
   {
    "duration": 22,
    "start_time": "2022-04-05T08:43:25.806Z"
   },
   {
    "duration": 58,
    "start_time": "2022-04-05T08:43:25.832Z"
   },
   {
    "duration": 9,
    "start_time": "2022-04-05T08:43:25.893Z"
   },
   {
    "duration": 84,
    "start_time": "2022-04-05T08:43:25.905Z"
   },
   {
    "duration": 5,
    "start_time": "2022-04-05T09:00:26.702Z"
   },
   {
    "duration": 8,
    "start_time": "2022-04-05T09:00:30.772Z"
   },
   {
    "duration": 6,
    "start_time": "2022-04-05T09:02:20.636Z"
   },
   {
    "duration": 8,
    "start_time": "2022-04-05T09:02:22.573Z"
   },
   {
    "duration": 6,
    "start_time": "2022-04-05T09:04:56.602Z"
   },
   {
    "duration": 8,
    "start_time": "2022-04-05T09:04:59.485Z"
   },
   {
    "duration": 7,
    "start_time": "2022-04-05T09:06:10.612Z"
   },
   {
    "duration": 6,
    "start_time": "2022-04-05T09:06:47.975Z"
   },
   {
    "duration": 8,
    "start_time": "2022-04-05T09:06:49.703Z"
   },
   {
    "duration": 6,
    "start_time": "2022-04-05T09:07:01.100Z"
   },
   {
    "duration": 10,
    "start_time": "2022-04-05T09:07:03.127Z"
   },
   {
    "duration": 8,
    "start_time": "2022-04-05T09:07:37.423Z"
   },
   {
    "duration": 9,
    "start_time": "2022-04-05T09:07:39.857Z"
   },
   {
    "duration": 156,
    "start_time": "2022-04-05T09:07:47.063Z"
   },
   {
    "duration": 5,
    "start_time": "2022-04-05T09:07:54.801Z"
   },
   {
    "duration": 8,
    "start_time": "2022-04-05T09:07:57.527Z"
   },
   {
    "duration": 6,
    "start_time": "2022-04-05T09:08:13.451Z"
   },
   {
    "duration": 8,
    "start_time": "2022-04-05T09:08:15.861Z"
   },
   {
    "duration": 5,
    "start_time": "2022-04-05T09:08:56.207Z"
   },
   {
    "duration": 9,
    "start_time": "2022-04-05T09:08:58.183Z"
   },
   {
    "duration": 168,
    "start_time": "2022-04-05T09:09:24.689Z"
   },
   {
    "duration": 143,
    "start_time": "2022-04-05T09:09:37.572Z"
   },
   {
    "duration": 201,
    "start_time": "2022-04-05T09:09:51.927Z"
   },
   {
    "duration": 6,
    "start_time": "2022-04-05T09:10:05.367Z"
   },
   {
    "duration": 9,
    "start_time": "2022-04-05T09:10:07.682Z"
   },
   {
    "duration": 174,
    "start_time": "2022-04-05T09:10:20.498Z"
   },
   {
    "duration": 7,
    "start_time": "2022-04-05T09:10:30.887Z"
   },
   {
    "duration": 8,
    "start_time": "2022-04-05T09:10:33.162Z"
   },
   {
    "duration": 8,
    "start_time": "2022-04-05T09:10:42.472Z"
   },
   {
    "duration": 9,
    "start_time": "2022-04-05T09:10:44.888Z"
   },
   {
    "duration": 7,
    "start_time": "2022-04-05T09:11:01.422Z"
   },
   {
    "duration": 7,
    "start_time": "2022-04-05T09:11:04.026Z"
   },
   {
    "duration": 131,
    "start_time": "2022-04-05T09:11:28.617Z"
   },
   {
    "duration": 7,
    "start_time": "2022-04-05T09:11:49.231Z"
   },
   {
    "duration": 8,
    "start_time": "2022-04-05T09:11:51.143Z"
   },
   {
    "duration": 7,
    "start_time": "2022-04-05T09:13:09.737Z"
   },
   {
    "duration": 7,
    "start_time": "2022-04-05T09:13:11.954Z"
   },
   {
    "duration": 7,
    "start_time": "2022-04-05T09:14:02.689Z"
   },
   {
    "duration": 8,
    "start_time": "2022-04-05T09:14:04.970Z"
   },
   {
    "duration": 7,
    "start_time": "2022-04-05T09:14:12.832Z"
   },
   {
    "duration": 7,
    "start_time": "2022-04-05T09:14:14.653Z"
   },
   {
    "duration": 12,
    "start_time": "2022-04-05T09:14:57.069Z"
   },
   {
    "duration": 4,
    "start_time": "2022-04-05T09:15:38.061Z"
   },
   {
    "duration": 8,
    "start_time": "2022-04-05T09:15:43.721Z"
   },
   {
    "duration": 6,
    "start_time": "2022-04-05T09:18:40.990Z"
   },
   {
    "duration": 108,
    "start_time": "2022-04-05T09:20:20.568Z"
   },
   {
    "duration": 707,
    "start_time": "2022-04-05T09:21:01.233Z"
   },
   {
    "duration": 334,
    "start_time": "2022-04-05T09:21:05.269Z"
   },
   {
    "duration": 312,
    "start_time": "2022-04-05T09:22:09.089Z"
   },
   {
    "duration": 8,
    "start_time": "2022-04-05T09:22:41.480Z"
   },
   {
    "duration": 296,
    "start_time": "2022-04-05T09:22:55.128Z"
   },
   {
    "duration": 35,
    "start_time": "2022-04-05T09:24:44.779Z"
   },
   {
    "duration": 14,
    "start_time": "2022-04-05T09:24:59.142Z"
   },
   {
    "duration": 8,
    "start_time": "2022-04-05T09:25:39.292Z"
   },
   {
    "duration": 8,
    "start_time": "2022-04-05T09:25:42.055Z"
   },
   {
    "duration": 371,
    "start_time": "2022-04-05T09:25:53.689Z"
   },
   {
    "duration": 6,
    "start_time": "2022-04-05T09:26:27.096Z"
   },
   {
    "duration": 364,
    "start_time": "2022-04-05T09:26:33.087Z"
   },
   {
    "duration": 6,
    "start_time": "2022-04-05T09:37:07.418Z"
   },
   {
    "duration": 435,
    "start_time": "2022-04-05T09:37:11.339Z"
   },
   {
    "duration": 8,
    "start_time": "2022-04-05T09:37:21.694Z"
   },
   {
    "duration": 364,
    "start_time": "2022-04-05T09:37:24.831Z"
   },
   {
    "duration": 29,
    "start_time": "2022-04-05T09:39:48.687Z"
   },
   {
    "duration": 8,
    "start_time": "2022-04-05T09:49:23.192Z"
   },
   {
    "duration": 9,
    "start_time": "2022-04-05T09:57:46.112Z"
   },
   {
    "duration": 7,
    "start_time": "2022-04-05T09:58:03.925Z"
   },
   {
    "duration": 5,
    "start_time": "2022-04-05T09:59:17.028Z"
   },
   {
    "duration": 8,
    "start_time": "2022-04-05T09:59:24.085Z"
   },
   {
    "duration": 9,
    "start_time": "2022-04-05T10:02:28.607Z"
   },
   {
    "duration": 11,
    "start_time": "2022-04-05T10:02:31.483Z"
   },
   {
    "duration": 5,
    "start_time": "2022-04-05T10:02:38.941Z"
   },
   {
    "duration": 9,
    "start_time": "2022-04-05T10:02:41.784Z"
   },
   {
    "duration": 9,
    "start_time": "2022-04-05T10:03:12.326Z"
   },
   {
    "duration": 8,
    "start_time": "2022-04-05T10:03:15.432Z"
   },
   {
    "duration": 12,
    "start_time": "2022-04-05T10:03:19.875Z"
   },
   {
    "duration": 10,
    "start_time": "2022-04-05T10:03:23.331Z"
   },
   {
    "duration": 10,
    "start_time": "2022-04-05T10:03:35.498Z"
   },
   {
    "duration": 8,
    "start_time": "2022-04-05T10:03:38.126Z"
   },
   {
    "duration": 8,
    "start_time": "2022-04-05T10:03:54.689Z"
   },
   {
    "duration": 9,
    "start_time": "2022-04-05T10:13:17.373Z"
   },
   {
    "duration": 8,
    "start_time": "2022-04-05T10:13:19.989Z"
   },
   {
    "duration": 393,
    "start_time": "2022-04-05T10:13:30.264Z"
   },
   {
    "duration": 293,
    "start_time": "2022-04-05T10:14:14.898Z"
   },
   {
    "duration": 4,
    "start_time": "2022-04-05T10:14:22.757Z"
   },
   {
    "duration": 373,
    "start_time": "2022-04-05T10:14:37.073Z"
   },
   {
    "duration": 289,
    "start_time": "2022-04-05T10:14:57.932Z"
   },
   {
    "duration": 264,
    "start_time": "2022-04-05T10:15:19.212Z"
   },
   {
    "duration": 270,
    "start_time": "2022-04-05T10:15:36.143Z"
   },
   {
    "duration": 292,
    "start_time": "2022-04-05T10:15:50.308Z"
   },
   {
    "duration": 9,
    "start_time": "2022-04-05T10:16:45.512Z"
   },
   {
    "duration": 428,
    "start_time": "2022-04-05T10:16:51.393Z"
   },
   {
    "duration": 800,
    "start_time": "2022-04-06T07:18:07.859Z"
   },
   {
    "duration": 1917,
    "start_time": "2022-04-06T07:18:08.662Z"
   },
   {
    "duration": 4,
    "start_time": "2022-04-06T07:18:10.580Z"
   },
   {
    "duration": 20,
    "start_time": "2022-04-06T07:18:10.586Z"
   },
   {
    "duration": 19,
    "start_time": "2022-04-06T07:18:10.608Z"
   },
   {
    "duration": 25,
    "start_time": "2022-04-06T07:18:10.629Z"
   },
   {
    "duration": 24,
    "start_time": "2022-04-06T07:18:10.655Z"
   },
   {
    "duration": 163,
    "start_time": "2022-04-06T07:18:10.680Z"
   },
   {
    "duration": 4,
    "start_time": "2022-04-06T07:18:10.845Z"
   },
   {
    "duration": 0,
    "start_time": "2022-04-06T07:18:10.851Z"
   },
   {
    "duration": 0,
    "start_time": "2022-04-06T07:18:10.852Z"
   },
   {
    "duration": 0,
    "start_time": "2022-04-06T07:18:10.852Z"
   },
   {
    "duration": 0,
    "start_time": "2022-04-06T07:18:10.854Z"
   },
   {
    "duration": 0,
    "start_time": "2022-04-06T07:18:10.862Z"
   },
   {
    "duration": 0,
    "start_time": "2022-04-06T07:18:10.863Z"
   },
   {
    "duration": 0,
    "start_time": "2022-04-06T07:18:10.864Z"
   },
   {
    "duration": 0,
    "start_time": "2022-04-06T07:18:10.865Z"
   },
   {
    "duration": 0,
    "start_time": "2022-04-06T07:18:10.866Z"
   },
   {
    "duration": 0,
    "start_time": "2022-04-06T07:18:10.867Z"
   },
   {
    "duration": 0,
    "start_time": "2022-04-06T07:18:10.868Z"
   },
   {
    "duration": 0,
    "start_time": "2022-04-06T07:18:10.869Z"
   },
   {
    "duration": 0,
    "start_time": "2022-04-06T07:18:10.870Z"
   },
   {
    "duration": 0,
    "start_time": "2022-04-06T07:18:10.871Z"
   },
   {
    "duration": 0,
    "start_time": "2022-04-06T07:18:10.872Z"
   },
   {
    "duration": 0,
    "start_time": "2022-04-06T07:18:10.873Z"
   },
   {
    "duration": 0,
    "start_time": "2022-04-06T07:18:10.874Z"
   },
   {
    "duration": 19,
    "start_time": "2022-04-06T07:31:55.353Z"
   },
   {
    "duration": 13,
    "start_time": "2022-04-06T07:57:48.163Z"
   },
   {
    "duration": 85,
    "start_time": "2022-04-06T08:00:21.328Z"
   },
   {
    "duration": 20,
    "start_time": "2022-04-06T08:00:58.663Z"
   },
   {
    "duration": 12,
    "start_time": "2022-04-06T08:01:19.003Z"
   },
   {
    "duration": 597,
    "start_time": "2022-04-06T08:05:53.089Z"
   },
   {
    "duration": 612,
    "start_time": "2022-04-06T08:05:53.688Z"
   },
   {
    "duration": 4,
    "start_time": "2022-04-06T08:05:54.302Z"
   },
   {
    "duration": 6,
    "start_time": "2022-04-06T08:05:54.307Z"
   },
   {
    "duration": 1698,
    "start_time": "2022-04-06T08:05:54.314Z"
   },
   {
    "duration": 0,
    "start_time": "2022-04-06T08:05:56.014Z"
   },
   {
    "duration": 0,
    "start_time": "2022-04-06T08:05:56.015Z"
   },
   {
    "duration": 0,
    "start_time": "2022-04-06T08:05:56.016Z"
   },
   {
    "duration": 0,
    "start_time": "2022-04-06T08:05:56.017Z"
   },
   {
    "duration": 0,
    "start_time": "2022-04-06T08:05:56.018Z"
   },
   {
    "duration": 0,
    "start_time": "2022-04-06T08:05:56.020Z"
   },
   {
    "duration": 0,
    "start_time": "2022-04-06T08:05:56.021Z"
   },
   {
    "duration": 0,
    "start_time": "2022-04-06T08:05:56.022Z"
   },
   {
    "duration": 0,
    "start_time": "2022-04-06T08:05:56.022Z"
   },
   {
    "duration": 0,
    "start_time": "2022-04-06T08:05:56.023Z"
   },
   {
    "duration": 0,
    "start_time": "2022-04-06T08:05:56.024Z"
   },
   {
    "duration": 0,
    "start_time": "2022-04-06T08:05:56.025Z"
   },
   {
    "duration": 0,
    "start_time": "2022-04-06T08:05:56.026Z"
   },
   {
    "duration": 0,
    "start_time": "2022-04-06T08:05:56.027Z"
   },
   {
    "duration": 0,
    "start_time": "2022-04-06T08:05:56.028Z"
   },
   {
    "duration": 0,
    "start_time": "2022-04-06T08:05:56.029Z"
   },
   {
    "duration": 0,
    "start_time": "2022-04-06T08:05:56.030Z"
   },
   {
    "duration": 0,
    "start_time": "2022-04-06T08:05:56.031Z"
   },
   {
    "duration": 0,
    "start_time": "2022-04-06T08:05:56.032Z"
   },
   {
    "duration": 0,
    "start_time": "2022-04-06T08:05:56.033Z"
   },
   {
    "duration": 0,
    "start_time": "2022-04-06T08:05:56.034Z"
   },
   {
    "duration": 601,
    "start_time": "2022-04-06T08:07:12.217Z"
   },
   {
    "duration": 608,
    "start_time": "2022-04-06T08:07:12.819Z"
   },
   {
    "duration": 4,
    "start_time": "2022-04-06T08:07:13.428Z"
   },
   {
    "duration": 30,
    "start_time": "2022-04-06T08:07:13.434Z"
   },
   {
    "duration": 8,
    "start_time": "2022-04-06T08:07:13.466Z"
   },
   {
    "duration": 15,
    "start_time": "2022-04-06T08:07:13.476Z"
   },
   {
    "duration": 8,
    "start_time": "2022-04-06T08:07:13.492Z"
   },
   {
    "duration": 152,
    "start_time": "2022-04-06T08:07:13.501Z"
   },
   {
    "duration": 12,
    "start_time": "2022-04-06T08:07:13.654Z"
   },
   {
    "duration": 90,
    "start_time": "2022-04-06T08:07:13.668Z"
   },
   {
    "duration": 0,
    "start_time": "2022-04-06T08:07:13.759Z"
   },
   {
    "duration": 0,
    "start_time": "2022-04-06T08:07:13.760Z"
   },
   {
    "duration": 0,
    "start_time": "2022-04-06T08:07:13.761Z"
   },
   {
    "duration": 0,
    "start_time": "2022-04-06T08:07:13.762Z"
   },
   {
    "duration": 0,
    "start_time": "2022-04-06T08:07:13.763Z"
   },
   {
    "duration": 0,
    "start_time": "2022-04-06T08:07:13.765Z"
   },
   {
    "duration": 0,
    "start_time": "2022-04-06T08:07:13.765Z"
   },
   {
    "duration": 0,
    "start_time": "2022-04-06T08:07:13.766Z"
   },
   {
    "duration": 0,
    "start_time": "2022-04-06T08:07:13.767Z"
   },
   {
    "duration": 0,
    "start_time": "2022-04-06T08:07:13.768Z"
   },
   {
    "duration": 0,
    "start_time": "2022-04-06T08:07:13.769Z"
   },
   {
    "duration": 0,
    "start_time": "2022-04-06T08:07:13.770Z"
   },
   {
    "duration": 0,
    "start_time": "2022-04-06T08:07:13.770Z"
   },
   {
    "duration": 0,
    "start_time": "2022-04-06T08:07:13.771Z"
   },
   {
    "duration": 0,
    "start_time": "2022-04-06T08:07:13.772Z"
   },
   {
    "duration": 0,
    "start_time": "2022-04-06T08:07:13.773Z"
   },
   {
    "duration": 578,
    "start_time": "2022-04-06T08:07:34.208Z"
   },
   {
    "duration": 608,
    "start_time": "2022-04-06T08:07:34.788Z"
   },
   {
    "duration": 4,
    "start_time": "2022-04-06T08:07:35.397Z"
   },
   {
    "duration": 24,
    "start_time": "2022-04-06T08:07:35.402Z"
   },
   {
    "duration": 9,
    "start_time": "2022-04-06T08:07:35.427Z"
   },
   {
    "duration": 7,
    "start_time": "2022-04-06T08:07:35.437Z"
   },
   {
    "duration": 19,
    "start_time": "2022-04-06T08:07:35.445Z"
   },
   {
    "duration": 147,
    "start_time": "2022-04-06T08:07:35.466Z"
   },
   {
    "duration": 6,
    "start_time": "2022-04-06T08:07:35.614Z"
   },
   {
    "duration": 4,
    "start_time": "2022-04-06T08:07:35.621Z"
   },
   {
    "duration": 18,
    "start_time": "2022-04-06T08:07:35.626Z"
   },
   {
    "duration": 145,
    "start_time": "2022-04-06T08:07:35.646Z"
   },
   {
    "duration": 4,
    "start_time": "2022-04-06T08:07:35.792Z"
   },
   {
    "duration": 6,
    "start_time": "2022-04-06T08:07:35.800Z"
   },
   {
    "duration": 7,
    "start_time": "2022-04-06T08:07:35.807Z"
   },
   {
    "duration": 248,
    "start_time": "2022-04-06T08:07:35.816Z"
   },
   {
    "duration": 7,
    "start_time": "2022-04-06T08:07:36.066Z"
   },
   {
    "duration": 45,
    "start_time": "2022-04-06T08:07:36.075Z"
   },
   {
    "duration": 14,
    "start_time": "2022-04-06T08:07:36.122Z"
   },
   {
    "duration": 25,
    "start_time": "2022-04-06T08:07:36.138Z"
   },
   {
    "duration": 6,
    "start_time": "2022-04-06T08:07:36.164Z"
   },
   {
    "duration": 7,
    "start_time": "2022-04-06T08:07:36.171Z"
   },
   {
    "duration": 19,
    "start_time": "2022-04-06T08:07:36.180Z"
   },
   {
    "duration": 14,
    "start_time": "2022-04-06T08:07:36.201Z"
   },
   {
    "duration": 5,
    "start_time": "2022-04-06T08:07:36.217Z"
   },
   {
    "duration": 20,
    "start_time": "2022-04-06T08:07:36.264Z"
   },
   {
    "duration": 3,
    "start_time": "2022-04-06T08:14:27.136Z"
   },
   {
    "duration": 1785,
    "start_time": "2022-04-06T08:14:31.137Z"
   },
   {
    "duration": 10,
    "start_time": "2022-04-06T08:25:07.124Z"
   },
   {
    "duration": 5,
    "start_time": "2022-04-06T08:25:31.479Z"
   },
   {
    "duration": 14,
    "start_time": "2022-04-06T08:25:53.839Z"
   },
   {
    "duration": 7,
    "start_time": "2022-04-06T08:26:20.437Z"
   },
   {
    "duration": 5,
    "start_time": "2022-04-06T08:33:11.916Z"
   },
   {
    "duration": 4,
    "start_time": "2022-04-06T08:34:44.956Z"
   },
   {
    "duration": 10,
    "start_time": "2022-04-06T08:47:55.876Z"
   },
   {
    "duration": 8,
    "start_time": "2022-04-06T08:52:00.723Z"
   },
   {
    "duration": 3,
    "start_time": "2022-04-06T08:52:29.175Z"
   },
   {
    "duration": 7,
    "start_time": "2022-04-06T08:52:31.285Z"
   },
   {
    "duration": 3,
    "start_time": "2022-04-06T08:52:41.256Z"
   },
   {
    "duration": 7,
    "start_time": "2022-04-06T08:52:43.564Z"
   },
   {
    "duration": 1782,
    "start_time": "2022-04-06T08:59:40.574Z"
   },
   {
    "duration": 2013,
    "start_time": "2022-04-06T09:00:07.050Z"
   },
   {
    "duration": 160,
    "start_time": "2022-04-06T09:03:18.971Z"
   },
   {
    "duration": 200,
    "start_time": "2022-04-06T09:05:10.020Z"
   },
   {
    "duration": 735,
    "start_time": "2022-04-06T09:08:02.476Z"
   },
   {
    "duration": 7,
    "start_time": "2022-04-06T09:08:12.820Z"
   },
   {
    "duration": 6,
    "start_time": "2022-04-06T09:13:59.284Z"
   },
   {
    "duration": 5,
    "start_time": "2022-04-06T09:18:17.917Z"
   },
   {
    "duration": 43,
    "start_time": "2022-04-06T09:23:26.563Z"
   },
   {
    "duration": 1445,
    "start_time": "2022-04-07T06:32:07.047Z"
   },
   {
    "duration": 620,
    "start_time": "2022-04-07T06:32:08.494Z"
   },
   {
    "duration": 4,
    "start_time": "2022-04-07T06:32:09.116Z"
   },
   {
    "duration": 28,
    "start_time": "2022-04-07T06:32:09.121Z"
   },
   {
    "duration": 2,
    "start_time": "2022-04-07T06:32:09.151Z"
   },
   {
    "duration": 13,
    "start_time": "2022-04-07T06:32:09.155Z"
   },
   {
    "duration": 189,
    "start_time": "2022-04-07T06:32:09.170Z"
   },
   {
    "duration": 5,
    "start_time": "2022-04-07T06:32:09.360Z"
   },
   {
    "duration": 28,
    "start_time": "2022-04-07T06:32:09.366Z"
   },
   {
    "duration": 384,
    "start_time": "2022-04-07T06:32:09.395Z"
   },
   {
    "duration": 181,
    "start_time": "2022-04-07T06:32:09.781Z"
   },
   {
    "duration": 351,
    "start_time": "2022-04-07T06:32:09.964Z"
   },
   {
    "duration": 5,
    "start_time": "2022-04-07T06:34:25.585Z"
   },
   {
    "duration": 8,
    "start_time": "2022-04-07T06:35:20.717Z"
   },
   {
    "duration": 4,
    "start_time": "2022-04-07T06:35:23.826Z"
   },
   {
    "duration": 1304,
    "start_time": "2022-04-07T06:35:37.775Z"
   },
   {
    "duration": 2310,
    "start_time": "2022-04-07T06:35:39.081Z"
   },
   {
    "duration": 4,
    "start_time": "2022-04-07T06:35:41.393Z"
   },
   {
    "duration": 20,
    "start_time": "2022-04-07T06:35:41.399Z"
   },
   {
    "duration": 17,
    "start_time": "2022-04-07T06:35:41.421Z"
   },
   {
    "duration": 12,
    "start_time": "2022-04-07T06:35:41.440Z"
   },
   {
    "duration": 198,
    "start_time": "2022-04-07T06:35:41.454Z"
   },
   {
    "duration": 5,
    "start_time": "2022-04-07T06:35:41.655Z"
   },
   {
    "duration": 26,
    "start_time": "2022-04-07T06:35:41.662Z"
   },
   {
    "duration": 5,
    "start_time": "2022-04-07T06:35:41.690Z"
   },
   {
    "duration": 418,
    "start_time": "2022-04-07T06:35:41.697Z"
   },
   {
    "duration": 189,
    "start_time": "2022-04-07T06:35:42.118Z"
   },
   {
    "duration": 375,
    "start_time": "2022-04-07T06:35:42.309Z"
   },
   {
    "duration": 730,
    "start_time": "2022-04-07T06:37:12.789Z"
   },
   {
    "duration": 6,
    "start_time": "2022-04-07T06:37:32.290Z"
   },
   {
    "duration": 4,
    "start_time": "2022-04-07T06:37:37.529Z"
   },
   {
    "duration": 237,
    "start_time": "2022-04-07T06:37:57.053Z"
   },
   {
    "duration": 5,
    "start_time": "2022-04-07T06:40:05.109Z"
   },
   {
    "duration": 1407,
    "start_time": "2022-04-07T06:40:45.149Z"
   },
   {
    "duration": 642,
    "start_time": "2022-04-07T06:40:46.559Z"
   },
   {
    "duration": 5,
    "start_time": "2022-04-07T06:40:47.203Z"
   },
   {
    "duration": 32,
    "start_time": "2022-04-07T06:40:47.209Z"
   },
   {
    "duration": 3,
    "start_time": "2022-04-07T06:40:47.244Z"
   },
   {
    "duration": 12,
    "start_time": "2022-04-07T06:40:47.248Z"
   },
   {
    "duration": 200,
    "start_time": "2022-04-07T06:40:47.261Z"
   },
   {
    "duration": 5,
    "start_time": "2022-04-07T06:40:47.463Z"
   },
   {
    "duration": 27,
    "start_time": "2022-04-07T06:40:47.469Z"
   },
   {
    "duration": 15,
    "start_time": "2022-04-07T06:40:47.497Z"
   },
   {
    "duration": 261,
    "start_time": "2022-04-07T06:40:47.537Z"
   },
   {
    "duration": 183,
    "start_time": "2022-04-07T06:40:47.800Z"
   },
   {
    "duration": 373,
    "start_time": "2022-04-07T06:40:47.985Z"
   },
   {
    "duration": 167,
    "start_time": "2022-04-07T06:49:29.339Z"
   },
   {
    "duration": 303,
    "start_time": "2022-04-07T06:50:07.722Z"
   },
   {
    "duration": 78,
    "start_time": "2022-04-07T06:52:53.948Z"
   },
   {
    "duration": 4,
    "start_time": "2022-04-07T06:54:05.173Z"
   },
   {
    "duration": 651,
    "start_time": "2022-04-07T06:56:09.528Z"
   },
   {
    "duration": 520,
    "start_time": "2022-04-07T06:57:08.558Z"
   },
   {
    "duration": 4,
    "start_time": "2022-04-07T06:57:25.049Z"
   },
   {
    "duration": 634,
    "start_time": "2022-04-07T06:57:27.440Z"
   },
   {
    "duration": 5,
    "start_time": "2022-04-07T07:00:24.068Z"
   },
   {
    "duration": 509,
    "start_time": "2022-04-07T07:00:26.469Z"
   },
   {
    "duration": 4,
    "start_time": "2022-04-07T07:00:39.549Z"
   },
   {
    "duration": 516,
    "start_time": "2022-04-07T07:00:42.208Z"
   },
   {
    "duration": 5,
    "start_time": "2022-04-07T07:00:50.286Z"
   },
   {
    "duration": 655,
    "start_time": "2022-04-07T07:00:53.048Z"
   },
   {
    "duration": 4,
    "start_time": "2022-04-07T07:02:19.054Z"
   },
   {
    "duration": 532,
    "start_time": "2022-04-07T07:02:21.118Z"
   },
   {
    "duration": 5,
    "start_time": "2022-04-07T07:07:32.045Z"
   },
   {
    "duration": 678,
    "start_time": "2022-04-07T07:07:36.149Z"
   },
   {
    "duration": 5,
    "start_time": "2022-04-07T07:10:11.345Z"
   },
   {
    "duration": 557,
    "start_time": "2022-04-07T07:10:13.530Z"
   },
   {
    "duration": 6,
    "start_time": "2022-04-07T07:11:36.834Z"
   },
   {
    "duration": 533,
    "start_time": "2022-04-07T07:11:39.006Z"
   },
   {
    "duration": 5,
    "start_time": "2022-04-07T07:12:05.289Z"
   },
   {
    "duration": 672,
    "start_time": "2022-04-07T07:12:07.190Z"
   },
   {
    "duration": 535,
    "start_time": "2022-04-07T07:12:38.450Z"
   },
   {
    "duration": 694,
    "start_time": "2022-04-07T07:13:17.436Z"
   },
   {
    "duration": 4,
    "start_time": "2022-04-07T07:19:51.148Z"
   },
   {
    "duration": 534,
    "start_time": "2022-04-07T07:19:53.551Z"
   },
   {
    "duration": 5,
    "start_time": "2022-04-07T07:29:48.031Z"
   },
   {
    "duration": 704,
    "start_time": "2022-04-07T07:29:50.672Z"
   },
   {
    "duration": 530,
    "start_time": "2022-04-07T07:31:44.266Z"
   },
   {
    "duration": 539,
    "start_time": "2022-04-07T07:32:28.536Z"
   },
   {
    "duration": 695,
    "start_time": "2022-04-07T07:33:22.580Z"
   },
   {
    "duration": 293,
    "start_time": "2022-04-07T07:57:43.863Z"
   },
   {
    "duration": 351,
    "start_time": "2022-04-07T07:58:02.083Z"
   },
   {
    "duration": 12,
    "start_time": "2022-04-07T08:00:17.150Z"
   },
   {
    "duration": 3,
    "start_time": "2022-04-07T08:00:48.882Z"
   },
   {
    "duration": 455,
    "start_time": "2022-04-07T08:00:55.214Z"
   },
   {
    "duration": 243,
    "start_time": "2022-04-07T08:02:43.136Z"
   },
   {
    "duration": 6,
    "start_time": "2022-04-07T08:03:28.197Z"
   },
   {
    "duration": 4,
    "start_time": "2022-04-07T08:03:48.566Z"
   },
   {
    "duration": 341,
    "start_time": "2022-04-07T08:04:30.629Z"
   },
   {
    "duration": 359,
    "start_time": "2022-04-07T08:12:05.007Z"
   },
   {
    "duration": 3,
    "start_time": "2022-04-07T08:12:26.140Z"
   },
   {
    "duration": 251,
    "start_time": "2022-04-07T08:32:31.215Z"
   },
   {
    "duration": 4,
    "start_time": "2022-04-07T08:36:07.923Z"
   },
   {
    "duration": 250,
    "start_time": "2022-04-07T08:36:10.961Z"
   },
   {
    "duration": 253,
    "start_time": "2022-04-07T08:36:44.613Z"
   },
   {
    "duration": 4,
    "start_time": "2022-04-07T08:37:11.278Z"
   },
   {
    "duration": 252,
    "start_time": "2022-04-07T08:37:13.340Z"
   },
   {
    "duration": 247,
    "start_time": "2022-04-07T08:47:05.955Z"
   },
   {
    "duration": 240,
    "start_time": "2022-04-07T08:48:30.737Z"
   },
   {
    "duration": 3,
    "start_time": "2022-04-07T08:48:46.557Z"
   },
   {
    "duration": 369,
    "start_time": "2022-04-07T08:48:50.250Z"
   },
   {
    "duration": 17,
    "start_time": "2022-04-07T08:53:24.437Z"
   },
   {
    "duration": 18,
    "start_time": "2022-04-07T08:53:36.949Z"
   },
   {
    "duration": 13,
    "start_time": "2022-04-07T08:56:53.813Z"
   },
   {
    "duration": 1453,
    "start_time": "2022-04-07T16:46:40.631Z"
   },
   {
    "duration": 611,
    "start_time": "2022-04-07T16:46:42.086Z"
   },
   {
    "duration": 5,
    "start_time": "2022-04-07T16:46:42.699Z"
   },
   {
    "duration": 17,
    "start_time": "2022-04-07T16:46:42.706Z"
   },
   {
    "duration": 3,
    "start_time": "2022-04-07T16:46:42.725Z"
   },
   {
    "duration": 11,
    "start_time": "2022-04-07T16:46:42.730Z"
   },
   {
    "duration": 197,
    "start_time": "2022-04-07T16:46:42.743Z"
   },
   {
    "duration": 4,
    "start_time": "2022-04-07T16:46:42.942Z"
   },
   {
    "duration": 19,
    "start_time": "2022-04-07T16:46:42.947Z"
   },
   {
    "duration": 33,
    "start_time": "2022-04-07T16:46:42.969Z"
   },
   {
    "duration": 260,
    "start_time": "2022-04-07T16:46:43.004Z"
   },
   {
    "duration": 176,
    "start_time": "2022-04-07T16:46:43.266Z"
   },
   {
    "duration": 340,
    "start_time": "2022-04-07T16:46:43.443Z"
   },
   {
    "duration": 5,
    "start_time": "2022-04-07T16:46:43.785Z"
   },
   {
    "duration": 545,
    "start_time": "2022-04-07T16:46:43.800Z"
   },
   {
    "duration": 643,
    "start_time": "2022-04-07T16:46:44.347Z"
   },
   {
    "duration": 552,
    "start_time": "2022-04-07T16:46:44.992Z"
   },
   {
    "duration": 424,
    "start_time": "2022-04-07T16:46:45.545Z"
   },
   {
    "duration": 4,
    "start_time": "2022-04-07T16:46:45.971Z"
   },
   {
    "duration": 127,
    "start_time": "2022-04-07T16:46:45.977Z"
   },
   {
    "duration": 0,
    "start_time": "2022-04-07T16:46:46.105Z"
   },
   {
    "duration": 0,
    "start_time": "2022-04-07T16:46:46.106Z"
   },
   {
    "duration": 9,
    "start_time": "2022-04-07T16:47:02.622Z"
   },
   {
    "duration": 7,
    "start_time": "2022-04-07T16:47:28.407Z"
   },
   {
    "duration": 14,
    "start_time": "2022-04-07T16:47:33.685Z"
   },
   {
    "duration": 4,
    "start_time": "2022-04-07T16:48:22.806Z"
   },
   {
    "duration": 456,
    "start_time": "2022-04-07T16:48:24.822Z"
   },
   {
    "duration": 4,
    "start_time": "2022-04-07T16:55:05.211Z"
   },
   {
    "duration": 446,
    "start_time": "2022-04-07T16:55:09.113Z"
   },
   {
    "duration": 4,
    "start_time": "2022-04-07T17:00:38.077Z"
   },
   {
    "duration": 528,
    "start_time": "2022-04-07T17:00:39.837Z"
   },
   {
    "duration": 4,
    "start_time": "2022-04-07T17:01:01.312Z"
   },
   {
    "duration": 445,
    "start_time": "2022-04-07T17:01:03.234Z"
   },
   {
    "duration": 49,
    "start_time": "2022-04-08T04:05:35.169Z"
   },
   {
    "duration": 1574,
    "start_time": "2022-04-08T04:05:44.658Z"
   },
   {
    "duration": 642,
    "start_time": "2022-04-08T04:05:46.234Z"
   },
   {
    "duration": 4,
    "start_time": "2022-04-08T04:05:46.878Z"
   },
   {
    "duration": 27,
    "start_time": "2022-04-08T04:05:46.884Z"
   },
   {
    "duration": 3,
    "start_time": "2022-04-08T04:05:46.913Z"
   },
   {
    "duration": 10,
    "start_time": "2022-04-08T04:05:46.918Z"
   },
   {
    "duration": 208,
    "start_time": "2022-04-08T04:05:46.930Z"
   },
   {
    "duration": 4,
    "start_time": "2022-04-08T04:05:47.140Z"
   },
   {
    "duration": 23,
    "start_time": "2022-04-08T04:05:47.146Z"
   },
   {
    "duration": 12,
    "start_time": "2022-04-08T04:05:47.171Z"
   },
   {
    "duration": 292,
    "start_time": "2022-04-08T04:05:47.185Z"
   },
   {
    "duration": 195,
    "start_time": "2022-04-08T04:05:47.479Z"
   },
   {
    "duration": 383,
    "start_time": "2022-04-08T04:05:47.676Z"
   },
   {
    "duration": 5,
    "start_time": "2022-04-08T04:05:48.061Z"
   },
   {
    "duration": 638,
    "start_time": "2022-04-08T04:05:48.068Z"
   },
   {
    "duration": 689,
    "start_time": "2022-04-08T04:05:48.708Z"
   },
   {
    "duration": 632,
    "start_time": "2022-04-08T04:05:49.398Z"
   },
   {
    "duration": 474,
    "start_time": "2022-04-08T04:05:50.032Z"
   },
   {
    "duration": 4,
    "start_time": "2022-04-08T04:05:50.509Z"
   },
   {
    "duration": 505,
    "start_time": "2022-04-08T04:05:50.514Z"
   },
   {
    "duration": 1538,
    "start_time": "2022-04-08T04:05:51.020Z"
   },
   {
    "duration": 0,
    "start_time": "2022-04-08T04:05:52.560Z"
   },
   {
    "duration": 523,
    "start_time": "2022-04-08T04:20:19.467Z"
   },
   {
    "duration": 491,
    "start_time": "2022-04-08T04:23:45.772Z"
   },
   {
    "duration": 1347,
    "start_time": "2022-04-08T06:14:56.407Z"
   },
   {
    "duration": 642,
    "start_time": "2022-04-08T06:14:57.756Z"
   },
   {
    "duration": 4,
    "start_time": "2022-04-08T06:14:58.400Z"
   },
   {
    "duration": 17,
    "start_time": "2022-04-08T06:14:58.408Z"
   },
   {
    "duration": 2,
    "start_time": "2022-04-08T06:14:58.427Z"
   },
   {
    "duration": 9,
    "start_time": "2022-04-08T06:14:58.431Z"
   },
   {
    "duration": 200,
    "start_time": "2022-04-08T06:14:58.442Z"
   },
   {
    "duration": 4,
    "start_time": "2022-04-08T06:14:58.643Z"
   },
   {
    "duration": 24,
    "start_time": "2022-04-08T06:14:58.649Z"
   },
   {
    "duration": 43,
    "start_time": "2022-04-08T06:14:58.675Z"
   },
   {
    "duration": 266,
    "start_time": "2022-04-08T06:14:58.719Z"
   },
   {
    "duration": 209,
    "start_time": "2022-04-08T06:14:58.987Z"
   },
   {
    "duration": 385,
    "start_time": "2022-04-08T06:14:59.197Z"
   },
   {
    "duration": 4,
    "start_time": "2022-04-08T06:14:59.585Z"
   },
   {
    "duration": 637,
    "start_time": "2022-04-08T06:14:59.591Z"
   },
   {
    "duration": 708,
    "start_time": "2022-04-08T06:15:00.229Z"
   },
   {
    "duration": 622,
    "start_time": "2022-04-08T06:15:00.938Z"
   },
   {
    "duration": 488,
    "start_time": "2022-04-08T06:15:01.562Z"
   },
   {
    "duration": 4,
    "start_time": "2022-04-08T06:15:02.052Z"
   },
   {
    "duration": 511,
    "start_time": "2022-04-08T06:15:02.058Z"
   },
   {
    "duration": 504,
    "start_time": "2022-04-08T06:15:02.571Z"
   },
   {
    "duration": 112,
    "start_time": "2022-04-08T06:15:03.077Z"
   },
   {
    "duration": 6,
    "start_time": "2022-04-08T06:17:01.296Z"
   },
   {
    "duration": 8,
    "start_time": "2022-04-08T06:17:42.216Z"
   },
   {
    "duration": 6,
    "start_time": "2022-04-08T06:18:00.126Z"
   },
   {
    "duration": 5,
    "start_time": "2022-04-08T06:18:27.896Z"
   },
   {
    "duration": 6,
    "start_time": "2022-04-08T06:20:47.491Z"
   },
   {
    "duration": 6,
    "start_time": "2022-04-08T06:20:57.656Z"
   },
   {
    "duration": 8,
    "start_time": "2022-04-08T06:21:07.751Z"
   },
   {
    "duration": 32,
    "start_time": "2022-04-08T06:41:28.937Z"
   },
   {
    "duration": 17,
    "start_time": "2022-04-08T06:42:33.607Z"
   },
   {
    "duration": 14,
    "start_time": "2022-04-08T06:42:40.717Z"
   },
   {
    "duration": 8,
    "start_time": "2022-04-08T06:44:54.644Z"
   },
   {
    "duration": 30,
    "start_time": "2022-04-08T06:45:04.257Z"
   },
   {
    "duration": 30,
    "start_time": "2022-04-08T06:45:16.437Z"
   },
   {
    "duration": 36,
    "start_time": "2022-04-08T06:46:20.139Z"
   },
   {
    "duration": 22,
    "start_time": "2022-04-08T06:47:50.058Z"
   },
   {
    "duration": 6719,
    "start_time": "2022-04-08T06:48:24.216Z"
   },
   {
    "duration": 8,
    "start_time": "2022-04-08T06:50:06.324Z"
   },
   {
    "duration": 36,
    "start_time": "2022-04-08T06:50:16.938Z"
   },
   {
    "duration": 20,
    "start_time": "2022-04-08T06:50:35.822Z"
   },
   {
    "duration": 54,
    "start_time": "2022-04-08T06:58:54.165Z"
   },
   {
    "duration": 17,
    "start_time": "2022-04-08T06:59:58.174Z"
   },
   {
    "duration": 8,
    "start_time": "2022-04-08T07:11:34.205Z"
   },
   {
    "duration": 32,
    "start_time": "2022-04-08T07:11:36.790Z"
   },
   {
    "duration": 8,
    "start_time": "2022-04-08T07:13:25.090Z"
   },
   {
    "duration": 34,
    "start_time": "2022-04-08T07:13:33.700Z"
   },
   {
    "duration": 9,
    "start_time": "2022-04-08T07:30:49.163Z"
   },
   {
    "duration": 12,
    "start_time": "2022-04-08T07:30:58.909Z"
   },
   {
    "duration": 8,
    "start_time": "2022-04-08T07:31:07.185Z"
   },
   {
    "duration": 16,
    "start_time": "2022-04-08T07:32:26.925Z"
   },
   {
    "duration": 13,
    "start_time": "2022-04-08T07:32:29.920Z"
   },
   {
    "duration": 8,
    "start_time": "2022-04-08T07:36:48.580Z"
   },
   {
    "duration": 1454,
    "start_time": "2022-04-08T07:37:22.875Z"
   },
   {
    "duration": 1461,
    "start_time": "2022-04-08T07:38:08.146Z"
   },
   {
    "duration": 36,
    "start_time": "2022-04-08T07:38:30.270Z"
   },
   {
    "duration": 13,
    "start_time": "2022-04-08T07:39:21.489Z"
   },
   {
    "duration": 48,
    "start_time": "2022-04-08T07:40:19.271Z"
   },
   {
    "duration": 6,
    "start_time": "2022-04-08T07:43:02.095Z"
   },
   {
    "duration": 42,
    "start_time": "2022-04-08T07:43:12.139Z"
   },
   {
    "duration": 13,
    "start_time": "2022-04-08T07:49:16.530Z"
   },
   {
    "duration": 35,
    "start_time": "2022-04-08T07:50:33.106Z"
   },
   {
    "duration": 31,
    "start_time": "2022-04-08T07:51:30.946Z"
   },
   {
    "duration": 28,
    "start_time": "2022-04-08T07:51:54.144Z"
   },
   {
    "duration": 5,
    "start_time": "2022-04-08T07:52:37.149Z"
   },
   {
    "duration": 9,
    "start_time": "2022-04-08T07:53:24.090Z"
   },
   {
    "duration": 8,
    "start_time": "2022-04-08T07:53:41.485Z"
   },
   {
    "duration": 5,
    "start_time": "2022-04-08T07:53:58.715Z"
   },
   {
    "duration": 4,
    "start_time": "2022-04-08T07:55:00.887Z"
   },
   {
    "duration": 5,
    "start_time": "2022-04-08T07:55:26.416Z"
   },
   {
    "duration": 9,
    "start_time": "2022-04-08T07:55:37.875Z"
   },
   {
    "duration": 4,
    "start_time": "2022-04-08T07:55:43.916Z"
   },
   {
    "duration": 4,
    "start_time": "2022-04-08T07:55:53.455Z"
   },
   {
    "duration": 5,
    "start_time": "2022-04-08T07:56:01.275Z"
   },
   {
    "duration": 31,
    "start_time": "2022-04-08T07:56:27.175Z"
   },
   {
    "duration": 42,
    "start_time": "2022-04-08T07:58:58.270Z"
   },
   {
    "duration": 1392,
    "start_time": "2022-04-08T07:59:10.874Z"
   },
   {
    "duration": 37,
    "start_time": "2022-04-08T08:01:03.077Z"
   },
   {
    "duration": 18,
    "start_time": "2022-04-08T08:01:36.306Z"
   },
   {
    "duration": 24,
    "start_time": "2022-04-08T08:02:02.465Z"
   },
   {
    "duration": 60,
    "start_time": "2022-04-08T08:05:27.133Z"
   },
   {
    "duration": 15,
    "start_time": "2022-04-08T08:10:23.856Z"
   },
   {
    "duration": 30,
    "start_time": "2022-04-08T08:11:29.210Z"
   },
   {
    "duration": 25,
    "start_time": "2022-04-08T08:12:48.621Z"
   },
   {
    "duration": 23,
    "start_time": "2022-04-08T08:13:03.217Z"
   },
   {
    "duration": 21,
    "start_time": "2022-04-08T08:14:01.744Z"
   },
   {
    "duration": 50,
    "start_time": "2022-04-08T08:14:56.265Z"
   },
   {
    "duration": 33,
    "start_time": "2022-04-08T08:15:57.163Z"
   },
   {
    "duration": 37,
    "start_time": "2022-04-08T08:18:08.979Z"
   },
   {
    "duration": 52,
    "start_time": "2022-04-08T08:18:32.097Z"
   },
   {
    "duration": 80,
    "start_time": "2022-04-08T08:22:49.298Z"
   },
   {
    "duration": 1402,
    "start_time": "2022-04-08T08:30:56.293Z"
   },
   {
    "duration": 690,
    "start_time": "2022-04-08T08:30:57.698Z"
   },
   {
    "duration": 5,
    "start_time": "2022-04-08T08:30:58.389Z"
   },
   {
    "duration": 24,
    "start_time": "2022-04-08T08:30:58.396Z"
   },
   {
    "duration": 3,
    "start_time": "2022-04-08T08:30:58.422Z"
   },
   {
    "duration": 12,
    "start_time": "2022-04-08T08:30:58.427Z"
   },
   {
    "duration": 226,
    "start_time": "2022-04-08T08:30:58.440Z"
   },
   {
    "duration": 4,
    "start_time": "2022-04-08T08:30:58.668Z"
   },
   {
    "duration": 41,
    "start_time": "2022-04-08T08:30:58.674Z"
   },
   {
    "duration": 14,
    "start_time": "2022-04-08T08:30:58.718Z"
   },
   {
    "duration": 311,
    "start_time": "2022-04-08T08:30:58.734Z"
   },
   {
    "duration": 221,
    "start_time": "2022-04-08T08:30:59.046Z"
   },
   {
    "duration": 419,
    "start_time": "2022-04-08T08:30:59.269Z"
   },
   {
    "duration": 5,
    "start_time": "2022-04-08T08:30:59.690Z"
   },
   {
    "duration": 678,
    "start_time": "2022-04-08T08:30:59.709Z"
   },
   {
    "duration": 751,
    "start_time": "2022-04-08T08:31:00.389Z"
   },
   {
    "duration": 678,
    "start_time": "2022-04-08T08:31:01.142Z"
   },
   {
    "duration": 538,
    "start_time": "2022-04-08T08:31:01.822Z"
   },
   {
    "duration": 5,
    "start_time": "2022-04-08T08:31:02.362Z"
   },
   {
    "duration": 566,
    "start_time": "2022-04-08T08:31:02.369Z"
   },
   {
    "duration": 548,
    "start_time": "2022-04-08T08:31:02.937Z"
   },
   {
    "duration": 7,
    "start_time": "2022-04-08T08:31:03.487Z"
   },
   {
    "duration": 107,
    "start_time": "2022-04-08T08:31:03.508Z"
   },
   {
    "duration": 114,
    "start_time": "2022-04-08T08:48:07.898Z"
   },
   {
    "duration": 35,
    "start_time": "2022-04-08T08:48:29.244Z"
   },
   {
    "duration": 15,
    "start_time": "2022-04-08T08:48:48.902Z"
   },
   {
    "duration": 17,
    "start_time": "2022-04-08T09:03:17.306Z"
   },
   {
    "duration": 16,
    "start_time": "2022-04-08T09:18:38.956Z"
   },
   {
    "duration": 18,
    "start_time": "2022-04-08T09:21:20.816Z"
   },
   {
    "duration": 27,
    "start_time": "2022-04-08T09:21:28.908Z"
   },
   {
    "duration": 17,
    "start_time": "2022-04-08T09:21:34.427Z"
   },
   {
    "duration": 24,
    "start_time": "2022-04-08T09:21:56.115Z"
   },
   {
    "duration": 18,
    "start_time": "2022-04-08T09:22:08.312Z"
   },
   {
    "duration": 17,
    "start_time": "2022-04-08T09:22:14.856Z"
   },
   {
    "duration": 25,
    "start_time": "2022-04-08T09:24:31.070Z"
   },
   {
    "duration": 16,
    "start_time": "2022-04-08T09:24:52.130Z"
   },
   {
    "duration": 16,
    "start_time": "2022-04-08T09:25:29.191Z"
   },
   {
    "duration": 25,
    "start_time": "2022-04-08T09:25:33.793Z"
   },
   {
    "duration": 21,
    "start_time": "2022-04-08T09:29:05.612Z"
   },
   {
    "duration": 18,
    "start_time": "2022-04-08T09:29:28.915Z"
   },
   {
    "duration": 36,
    "start_time": "2022-04-08T09:30:26.269Z"
   },
   {
    "duration": 15,
    "start_time": "2022-04-08T09:30:33.423Z"
   },
   {
    "duration": 17,
    "start_time": "2022-04-08T09:30:55.757Z"
   },
   {
    "duration": 500,
    "start_time": "2022-04-08T09:32:59.869Z"
   },
   {
    "duration": 1380,
    "start_time": "2022-04-08T09:35:46.992Z"
   },
   {
    "duration": 662,
    "start_time": "2022-04-08T09:35:48.374Z"
   },
   {
    "duration": 4,
    "start_time": "2022-04-08T09:35:49.038Z"
   },
   {
    "duration": 30,
    "start_time": "2022-04-08T09:35:49.043Z"
   },
   {
    "duration": 4,
    "start_time": "2022-04-08T09:35:49.075Z"
   },
   {
    "duration": 29,
    "start_time": "2022-04-08T09:35:49.080Z"
   },
   {
    "duration": 192,
    "start_time": "2022-04-08T09:35:49.111Z"
   },
   {
    "duration": 6,
    "start_time": "2022-04-08T09:35:49.308Z"
   },
   {
    "duration": 32,
    "start_time": "2022-04-08T09:35:49.316Z"
   },
   {
    "duration": 18,
    "start_time": "2022-04-08T09:35:49.349Z"
   },
   {
    "duration": 318,
    "start_time": "2022-04-08T09:35:49.368Z"
   },
   {
    "duration": 221,
    "start_time": "2022-04-08T09:35:49.688Z"
   },
   {
    "duration": 402,
    "start_time": "2022-04-08T09:35:49.911Z"
   },
   {
    "duration": 5,
    "start_time": "2022-04-08T09:35:50.317Z"
   },
   {
    "duration": 648,
    "start_time": "2022-04-08T09:35:50.324Z"
   },
   {
    "duration": 722,
    "start_time": "2022-04-08T09:35:50.975Z"
   },
   {
    "duration": 648,
    "start_time": "2022-04-08T09:35:51.699Z"
   },
   {
    "duration": 503,
    "start_time": "2022-04-08T09:35:52.350Z"
   },
   {
    "duration": 5,
    "start_time": "2022-04-08T09:35:52.855Z"
   },
   {
    "duration": 548,
    "start_time": "2022-04-08T09:35:52.862Z"
   },
   {
    "duration": 100,
    "start_time": "2022-04-08T09:35:53.412Z"
   },
   {
    "duration": 1373,
    "start_time": "2022-04-08T09:39:58.587Z"
   },
   {
    "duration": 684,
    "start_time": "2022-04-08T09:39:59.962Z"
   },
   {
    "duration": 4,
    "start_time": "2022-04-08T09:40:00.648Z"
   },
   {
    "duration": 39,
    "start_time": "2022-04-08T09:40:00.654Z"
   },
   {
    "duration": 3,
    "start_time": "2022-04-08T09:40:00.695Z"
   },
   {
    "duration": 16,
    "start_time": "2022-04-08T09:40:00.700Z"
   },
   {
    "duration": 213,
    "start_time": "2022-04-08T09:40:00.718Z"
   },
   {
    "duration": 5,
    "start_time": "2022-04-08T09:40:00.933Z"
   },
   {
    "duration": 26,
    "start_time": "2022-04-08T09:40:00.940Z"
   },
   {
    "duration": 15,
    "start_time": "2022-04-08T09:40:00.969Z"
   },
   {
    "duration": 311,
    "start_time": "2022-04-08T09:40:00.986Z"
   },
   {
    "duration": 219,
    "start_time": "2022-04-08T09:40:01.298Z"
   },
   {
    "duration": 384,
    "start_time": "2022-04-08T09:40:01.518Z"
   },
   {
    "duration": 5,
    "start_time": "2022-04-08T09:40:01.909Z"
   },
   {
    "duration": 653,
    "start_time": "2022-04-08T09:40:01.916Z"
   },
   {
    "duration": 718,
    "start_time": "2022-04-08T09:40:02.571Z"
   },
   {
    "duration": 657,
    "start_time": "2022-04-08T09:40:03.291Z"
   },
   {
    "duration": 513,
    "start_time": "2022-04-08T09:40:03.950Z"
   },
   {
    "duration": 6,
    "start_time": "2022-04-08T09:40:04.466Z"
   },
   {
    "duration": 538,
    "start_time": "2022-04-08T09:40:04.474Z"
   },
   {
    "duration": 34,
    "start_time": "2022-04-08T09:40:05.015Z"
   },
   {
    "duration": 106,
    "start_time": "2022-04-08T10:16:35.500Z"
   },
   {
    "duration": 3,
    "start_time": "2022-04-08T10:16:41.107Z"
   },
   {
    "duration": 10,
    "start_time": "2022-04-08T10:16:43.399Z"
   },
   {
    "duration": 9,
    "start_time": "2022-04-08T10:22:39.400Z"
   },
   {
    "duration": 3,
    "start_time": "2022-04-08T10:26:17.807Z"
   },
   {
    "duration": 1424,
    "start_time": "2022-04-08T11:05:18.045Z"
   },
   {
    "duration": 713,
    "start_time": "2022-04-08T11:05:19.471Z"
   },
   {
    "duration": 4,
    "start_time": "2022-04-08T11:05:20.186Z"
   },
   {
    "duration": 30,
    "start_time": "2022-04-08T11:05:20.192Z"
   },
   {
    "duration": 3,
    "start_time": "2022-04-08T11:05:20.224Z"
   },
   {
    "duration": 17,
    "start_time": "2022-04-08T11:05:20.229Z"
   },
   {
    "duration": 208,
    "start_time": "2022-04-08T11:05:20.248Z"
   },
   {
    "duration": 5,
    "start_time": "2022-04-08T11:05:20.458Z"
   },
   {
    "duration": 21,
    "start_time": "2022-04-08T11:05:20.465Z"
   },
   {
    "duration": 33,
    "start_time": "2022-04-08T11:05:20.488Z"
   },
   {
    "duration": 318,
    "start_time": "2022-04-08T11:05:20.523Z"
   },
   {
    "duration": 216,
    "start_time": "2022-04-08T11:05:20.843Z"
   },
   {
    "duration": 397,
    "start_time": "2022-04-08T11:05:21.061Z"
   },
   {
    "duration": 6,
    "start_time": "2022-04-08T11:05:21.461Z"
   },
   {
    "duration": 631,
    "start_time": "2022-04-08T11:05:21.469Z"
   },
   {
    "duration": 693,
    "start_time": "2022-04-08T11:05:22.102Z"
   },
   {
    "duration": 612,
    "start_time": "2022-04-08T11:05:22.797Z"
   },
   {
    "duration": 491,
    "start_time": "2022-04-08T11:05:23.411Z"
   },
   {
    "duration": 10,
    "start_time": "2022-04-08T11:05:23.903Z"
   },
   {
    "duration": 524,
    "start_time": "2022-04-08T11:05:23.914Z"
   },
   {
    "duration": 32,
    "start_time": "2022-04-08T11:05:24.440Z"
   },
   {
    "duration": 123,
    "start_time": "2022-04-08T11:05:24.474Z"
   },
   {
    "duration": 0,
    "start_time": "2022-04-08T11:05:24.598Z"
   },
   {
    "duration": 0,
    "start_time": "2022-04-08T11:05:24.599Z"
   },
   {
    "duration": 1401,
    "start_time": "2022-04-08T11:07:05.664Z"
   },
   {
    "duration": 8,
    "start_time": "2022-04-08T11:07:41.004Z"
   },
   {
    "duration": 1490,
    "start_time": "2022-04-08T11:08:10.944Z"
   },
   {
    "duration": 7,
    "start_time": "2022-04-08T11:08:19.323Z"
   },
   {
    "duration": 9,
    "start_time": "2022-04-08T11:08:35.124Z"
   },
   {
    "duration": 1358,
    "start_time": "2022-04-08T11:31:19.824Z"
   },
   {
    "duration": 702,
    "start_time": "2022-04-08T11:31:21.184Z"
   },
   {
    "duration": 4,
    "start_time": "2022-04-08T11:31:21.888Z"
   },
   {
    "duration": 23,
    "start_time": "2022-04-08T11:31:21.894Z"
   },
   {
    "duration": 5,
    "start_time": "2022-04-08T11:31:21.919Z"
   },
   {
    "duration": 33,
    "start_time": "2022-04-08T11:31:21.925Z"
   },
   {
    "duration": 207,
    "start_time": "2022-04-08T11:31:21.960Z"
   },
   {
    "duration": 5,
    "start_time": "2022-04-08T11:31:22.169Z"
   },
   {
    "duration": 49,
    "start_time": "2022-04-08T11:31:22.175Z"
   },
   {
    "duration": 14,
    "start_time": "2022-04-08T11:31:22.227Z"
   },
   {
    "duration": 280,
    "start_time": "2022-04-08T11:31:22.243Z"
   },
   {
    "duration": 190,
    "start_time": "2022-04-08T11:31:22.525Z"
   },
   {
    "duration": 371,
    "start_time": "2022-04-08T11:31:22.717Z"
   },
   {
    "duration": 5,
    "start_time": "2022-04-08T11:31:23.090Z"
   },
   {
    "duration": 618,
    "start_time": "2022-04-08T11:31:23.109Z"
   },
   {
    "duration": 687,
    "start_time": "2022-04-08T11:31:23.728Z"
   },
   {
    "duration": 620,
    "start_time": "2022-04-08T11:31:24.416Z"
   },
   {
    "duration": 479,
    "start_time": "2022-04-08T11:31:25.038Z"
   },
   {
    "duration": 4,
    "start_time": "2022-04-08T11:31:25.519Z"
   },
   {
    "duration": 501,
    "start_time": "2022-04-08T11:31:25.524Z"
   },
   {
    "duration": 33,
    "start_time": "2022-04-08T11:31:26.026Z"
   },
   {
    "duration": 16,
    "start_time": "2022-04-08T11:31:26.061Z"
   },
   {
    "duration": 120,
    "start_time": "2022-04-08T11:31:26.079Z"
   },
   {
    "duration": 0,
    "start_time": "2022-04-08T11:31:26.201Z"
   },
   {
    "duration": 0,
    "start_time": "2022-04-08T11:31:26.202Z"
   },
   {
    "duration": 6,
    "start_time": "2022-04-08T11:31:49.908Z"
   },
   {
    "duration": 10,
    "start_time": "2022-04-08T11:40:47.483Z"
   },
   {
    "duration": 23,
    "start_time": "2022-04-08T11:41:17.098Z"
   },
   {
    "duration": 53,
    "start_time": "2022-04-08T11:41:23.883Z"
   },
   {
    "duration": 10,
    "start_time": "2022-04-08T11:43:31.603Z"
   },
   {
    "duration": 8,
    "start_time": "2022-04-08T11:44:20.833Z"
   },
   {
    "duration": 14,
    "start_time": "2022-04-08T11:44:43.688Z"
   },
   {
    "duration": 16,
    "start_time": "2022-04-08T11:45:25.963Z"
   },
   {
    "duration": 4,
    "start_time": "2022-04-08T11:45:29.340Z"
   },
   {
    "duration": 17,
    "start_time": "2022-04-08T11:45:35.672Z"
   },
   {
    "duration": 257,
    "start_time": "2022-04-08T11:47:06.010Z"
   },
   {
    "duration": 1335,
    "start_time": "2022-04-08T12:15:40.038Z"
   },
   {
    "duration": 663,
    "start_time": "2022-04-08T12:15:41.375Z"
   },
   {
    "duration": 5,
    "start_time": "2022-04-08T12:15:42.039Z"
   },
   {
    "duration": 21,
    "start_time": "2022-04-08T12:15:42.045Z"
   },
   {
    "duration": 3,
    "start_time": "2022-04-08T12:15:42.067Z"
   },
   {
    "duration": 11,
    "start_time": "2022-04-08T12:15:42.071Z"
   },
   {
    "duration": 194,
    "start_time": "2022-04-08T12:15:42.084Z"
   },
   {
    "duration": 4,
    "start_time": "2022-04-08T12:15:42.280Z"
   },
   {
    "duration": 32,
    "start_time": "2022-04-08T12:15:42.285Z"
   },
   {
    "duration": 13,
    "start_time": "2022-04-08T12:15:42.320Z"
   },
   {
    "duration": 268,
    "start_time": "2022-04-08T12:15:42.334Z"
   },
   {
    "duration": 188,
    "start_time": "2022-04-08T12:15:42.608Z"
   },
   {
    "duration": 364,
    "start_time": "2022-04-08T12:15:42.797Z"
   },
   {
    "duration": 5,
    "start_time": "2022-04-08T12:15:43.162Z"
   },
   {
    "duration": 674,
    "start_time": "2022-04-08T12:15:43.169Z"
   },
   {
    "duration": 603,
    "start_time": "2022-04-08T12:15:43.844Z"
   },
   {
    "duration": 603,
    "start_time": "2022-04-08T12:15:44.449Z"
   },
   {
    "duration": 490,
    "start_time": "2022-04-08T12:15:45.054Z"
   },
   {
    "duration": 5,
    "start_time": "2022-04-08T12:15:45.546Z"
   },
   {
    "duration": 493,
    "start_time": "2022-04-08T12:15:45.553Z"
   },
   {
    "duration": 32,
    "start_time": "2022-04-08T12:15:46.048Z"
   },
   {
    "duration": 30,
    "start_time": "2022-04-08T12:15:46.082Z"
   },
   {
    "duration": 251,
    "start_time": "2022-04-08T12:15:46.114Z"
   },
   {
    "duration": 15,
    "start_time": "2022-04-08T12:15:46.366Z"
   },
   {
    "duration": 35,
    "start_time": "2022-04-08T12:15:46.382Z"
   },
   {
    "duration": 462,
    "start_time": "2022-04-08T12:15:46.419Z"
   },
   {
    "duration": 0,
    "start_time": "2022-04-08T12:15:46.883Z"
   },
   {
    "duration": 0,
    "start_time": "2022-04-08T12:15:46.883Z"
   },
   {
    "duration": 3,
    "start_time": "2022-04-08T12:16:52.395Z"
   },
   {
    "duration": 197,
    "start_time": "2022-04-08T12:17:01.117Z"
   },
   {
    "duration": 1431,
    "start_time": "2022-04-09T05:38:44.571Z"
   },
   {
    "duration": 667,
    "start_time": "2022-04-09T05:38:46.004Z"
   },
   {
    "duration": 5,
    "start_time": "2022-04-09T05:38:46.672Z"
   },
   {
    "duration": 23,
    "start_time": "2022-04-09T05:38:46.678Z"
   },
   {
    "duration": 3,
    "start_time": "2022-04-09T05:38:46.703Z"
   },
   {
    "duration": 11,
    "start_time": "2022-04-09T05:38:46.707Z"
   },
   {
    "duration": 189,
    "start_time": "2022-04-09T05:38:46.719Z"
   },
   {
    "duration": 4,
    "start_time": "2022-04-09T05:38:46.910Z"
   },
   {
    "duration": 35,
    "start_time": "2022-04-09T05:38:46.916Z"
   },
   {
    "duration": 14,
    "start_time": "2022-04-09T05:38:46.952Z"
   },
   {
    "duration": 256,
    "start_time": "2022-04-09T05:38:46.967Z"
   },
   {
    "duration": 186,
    "start_time": "2022-04-09T05:38:47.224Z"
   },
   {
    "duration": 349,
    "start_time": "2022-04-09T05:38:47.411Z"
   },
   {
    "duration": 4,
    "start_time": "2022-04-09T05:38:47.763Z"
   },
   {
    "duration": 624,
    "start_time": "2022-04-09T05:38:47.768Z"
   },
   {
    "duration": 547,
    "start_time": "2022-04-09T05:38:48.394Z"
   },
   {
    "duration": 539,
    "start_time": "2022-04-09T05:38:48.947Z"
   },
   {
    "duration": 461,
    "start_time": "2022-04-09T05:38:49.488Z"
   },
   {
    "duration": 4,
    "start_time": "2022-04-09T05:38:49.951Z"
   },
   {
    "duration": 438,
    "start_time": "2022-04-09T05:38:49.956Z"
   },
   {
    "duration": 34,
    "start_time": "2022-04-09T05:38:50.395Z"
   },
   {
    "duration": 26,
    "start_time": "2022-04-09T05:38:50.430Z"
   },
   {
    "duration": 232,
    "start_time": "2022-04-09T05:38:50.457Z"
   },
   {
    "duration": 17,
    "start_time": "2022-04-09T05:38:50.690Z"
   },
   {
    "duration": 4,
    "start_time": "2022-04-09T05:38:50.709Z"
   },
   {
    "duration": 235,
    "start_time": "2022-04-09T05:38:50.715Z"
   },
   {
    "duration": 4,
    "start_time": "2022-04-09T05:38:50.953Z"
   },
   {
    "duration": 191,
    "start_time": "2022-04-09T05:38:50.959Z"
   },
   {
    "duration": 17,
    "start_time": "2022-04-09T05:40:33.959Z"
   },
   {
    "duration": 1363,
    "start_time": "2022-04-09T05:40:44.531Z"
   },
   {
    "duration": 680,
    "start_time": "2022-04-09T05:40:45.896Z"
   },
   {
    "duration": 4,
    "start_time": "2022-04-09T05:40:46.578Z"
   },
   {
    "duration": 22,
    "start_time": "2022-04-09T05:40:46.584Z"
   },
   {
    "duration": 3,
    "start_time": "2022-04-09T05:40:46.609Z"
   },
   {
    "duration": 8,
    "start_time": "2022-04-09T05:40:46.614Z"
   },
   {
    "duration": 200,
    "start_time": "2022-04-09T05:40:46.624Z"
   },
   {
    "duration": 5,
    "start_time": "2022-04-09T05:40:46.826Z"
   },
   {
    "duration": 35,
    "start_time": "2022-04-09T05:40:46.833Z"
   },
   {
    "duration": 15,
    "start_time": "2022-04-09T05:40:46.870Z"
   },
   {
    "duration": 284,
    "start_time": "2022-04-09T05:40:46.887Z"
   },
   {
    "duration": 190,
    "start_time": "2022-04-09T05:40:47.173Z"
   },
   {
    "duration": 352,
    "start_time": "2022-04-09T05:40:47.365Z"
   },
   {
    "duration": 5,
    "start_time": "2022-04-09T05:40:47.720Z"
   },
   {
    "duration": 653,
    "start_time": "2022-04-09T05:40:47.727Z"
   },
   {
    "duration": 567,
    "start_time": "2022-04-09T05:40:48.382Z"
   },
   {
    "duration": 555,
    "start_time": "2022-04-09T05:40:48.951Z"
   },
   {
    "duration": 499,
    "start_time": "2022-04-09T05:40:49.508Z"
   },
   {
    "duration": 4,
    "start_time": "2022-04-09T05:40:50.010Z"
   },
   {
    "duration": 464,
    "start_time": "2022-04-09T05:40:50.016Z"
   },
   {
    "duration": 37,
    "start_time": "2022-04-09T05:40:50.482Z"
   },
   {
    "duration": 31,
    "start_time": "2022-04-09T05:40:50.520Z"
   },
   {
    "duration": 250,
    "start_time": "2022-04-09T05:40:50.553Z"
   },
   {
    "duration": 113,
    "start_time": "2022-04-09T05:40:50.805Z"
   },
   {
    "duration": 0,
    "start_time": "2022-04-09T05:40:50.920Z"
   },
   {
    "duration": 0,
    "start_time": "2022-04-09T05:40:50.922Z"
   },
   {
    "duration": 0,
    "start_time": "2022-04-09T05:40:50.923Z"
   },
   {
    "duration": 0,
    "start_time": "2022-04-09T05:40:50.925Z"
   },
   {
    "duration": 20,
    "start_time": "2022-04-09T05:41:31.738Z"
   },
   {
    "duration": 1378,
    "start_time": "2022-04-09T05:42:17.422Z"
   },
   {
    "duration": 658,
    "start_time": "2022-04-09T05:42:18.802Z"
   },
   {
    "duration": 4,
    "start_time": "2022-04-09T05:42:19.462Z"
   },
   {
    "duration": 21,
    "start_time": "2022-04-09T05:42:19.467Z"
   },
   {
    "duration": 3,
    "start_time": "2022-04-09T05:42:19.490Z"
   },
   {
    "duration": 11,
    "start_time": "2022-04-09T05:42:19.494Z"
   },
   {
    "duration": 216,
    "start_time": "2022-04-09T05:42:19.507Z"
   },
   {
    "duration": 5,
    "start_time": "2022-04-09T05:42:19.725Z"
   },
   {
    "duration": 35,
    "start_time": "2022-04-09T05:42:19.731Z"
   },
   {
    "duration": 14,
    "start_time": "2022-04-09T05:42:19.768Z"
   },
   {
    "duration": 277,
    "start_time": "2022-04-09T05:42:19.784Z"
   },
   {
    "duration": 189,
    "start_time": "2022-04-09T05:42:20.063Z"
   },
   {
    "duration": 359,
    "start_time": "2022-04-09T05:42:20.254Z"
   },
   {
    "duration": 4,
    "start_time": "2022-04-09T05:42:20.616Z"
   },
   {
    "duration": 677,
    "start_time": "2022-04-09T05:42:20.622Z"
   },
   {
    "duration": 604,
    "start_time": "2022-04-09T05:42:21.301Z"
   },
   {
    "duration": 584,
    "start_time": "2022-04-09T05:42:21.907Z"
   },
   {
    "duration": 502,
    "start_time": "2022-04-09T05:42:22.492Z"
   },
   {
    "duration": 4,
    "start_time": "2022-04-09T05:42:22.996Z"
   },
   {
    "duration": 463,
    "start_time": "2022-04-09T05:42:23.002Z"
   },
   {
    "duration": 33,
    "start_time": "2022-04-09T05:42:23.467Z"
   },
   {
    "duration": 16,
    "start_time": "2022-04-09T05:42:23.502Z"
   },
   {
    "duration": 250,
    "start_time": "2022-04-09T05:42:23.519Z"
   },
   {
    "duration": 8,
    "start_time": "2022-04-09T05:42:23.771Z"
   },
   {
    "duration": 11,
    "start_time": "2022-04-09T05:42:23.780Z"
   },
   {
    "duration": 339,
    "start_time": "2022-04-09T05:42:23.793Z"
   },
   {
    "duration": 0,
    "start_time": "2022-04-09T05:42:24.134Z"
   },
   {
    "duration": 0,
    "start_time": "2022-04-09T05:42:24.148Z"
   },
   {
    "duration": 75,
    "start_time": "2022-04-09T05:43:59.780Z"
   },
   {
    "duration": 133,
    "start_time": "2022-04-09T05:44:26.816Z"
   },
   {
    "duration": 73,
    "start_time": "2022-04-09T05:44:52.183Z"
   },
   {
    "duration": 149,
    "start_time": "2022-04-09T05:44:59.700Z"
   },
   {
    "duration": 1360,
    "start_time": "2022-04-09T06:08:21.248Z"
   },
   {
    "duration": 667,
    "start_time": "2022-04-09T06:08:22.610Z"
   },
   {
    "duration": 4,
    "start_time": "2022-04-09T06:08:23.279Z"
   },
   {
    "duration": 20,
    "start_time": "2022-04-09T06:08:23.285Z"
   },
   {
    "duration": 3,
    "start_time": "2022-04-09T06:08:23.307Z"
   },
   {
    "duration": 11,
    "start_time": "2022-04-09T06:08:23.312Z"
   },
   {
    "duration": 194,
    "start_time": "2022-04-09T06:08:23.325Z"
   },
   {
    "duration": 5,
    "start_time": "2022-04-09T06:08:23.521Z"
   },
   {
    "duration": 36,
    "start_time": "2022-04-09T06:08:23.527Z"
   },
   {
    "duration": 14,
    "start_time": "2022-04-09T06:08:23.565Z"
   },
   {
    "duration": 269,
    "start_time": "2022-04-09T06:08:23.581Z"
   },
   {
    "duration": 202,
    "start_time": "2022-04-09T06:08:23.852Z"
   },
   {
    "duration": 355,
    "start_time": "2022-04-09T06:08:24.056Z"
   },
   {
    "duration": 5,
    "start_time": "2022-04-09T06:08:24.414Z"
   },
   {
    "duration": 662,
    "start_time": "2022-04-09T06:08:24.421Z"
   },
   {
    "duration": 580,
    "start_time": "2022-04-09T06:08:25.085Z"
   },
   {
    "duration": 589,
    "start_time": "2022-04-09T06:08:25.667Z"
   },
   {
    "duration": 500,
    "start_time": "2022-04-09T06:08:26.258Z"
   },
   {
    "duration": 4,
    "start_time": "2022-04-09T06:08:26.760Z"
   },
   {
    "duration": 465,
    "start_time": "2022-04-09T06:08:26.765Z"
   },
   {
    "duration": 40,
    "start_time": "2022-04-09T06:08:27.232Z"
   },
   {
    "duration": 17,
    "start_time": "2022-04-09T06:08:27.273Z"
   },
   {
    "duration": 247,
    "start_time": "2022-04-09T06:08:27.292Z"
   },
   {
    "duration": 137,
    "start_time": "2022-04-09T06:08:27.548Z"
   },
   {
    "duration": 0,
    "start_time": "2022-04-09T06:08:27.687Z"
   },
   {
    "duration": 0,
    "start_time": "2022-04-09T06:08:27.688Z"
   },
   {
    "duration": 0,
    "start_time": "2022-04-09T06:08:27.689Z"
   },
   {
    "duration": 0,
    "start_time": "2022-04-09T06:08:27.691Z"
   },
   {
    "duration": 133,
    "start_time": "2022-04-09T06:08:49.316Z"
   },
   {
    "duration": 8,
    "start_time": "2022-04-09T06:09:02.795Z"
   },
   {
    "duration": 6,
    "start_time": "2022-04-09T06:09:07.197Z"
   },
   {
    "duration": 360,
    "start_time": "2022-04-09T06:09:28.065Z"
   },
   {
    "duration": 392,
    "start_time": "2022-04-09T06:09:38.958Z"
   },
   {
    "duration": 4,
    "start_time": "2022-04-09T06:49:25.749Z"
   },
   {
    "duration": 660,
    "start_time": "2022-04-09T06:52:09.395Z"
   },
   {
    "duration": 618,
    "start_time": "2022-04-09T06:56:50.528Z"
   },
   {
    "duration": 607,
    "start_time": "2022-04-09T06:57:24.842Z"
   },
   {
    "duration": 4,
    "start_time": "2022-04-09T08:08:21.468Z"
   },
   {
    "duration": 4,
    "start_time": "2022-04-09T08:09:57.069Z"
   },
   {
    "duration": 972,
    "start_time": "2022-04-09T09:51:20.094Z"
   },
   {
    "duration": 832,
    "start_time": "2022-04-09T10:08:20.217Z"
   },
   {
    "duration": 4,
    "start_time": "2022-04-09T11:04:02.345Z"
   },
   {
    "duration": 3,
    "start_time": "2022-04-09T11:04:04.030Z"
   },
   {
    "duration": 9,
    "start_time": "2022-04-09T11:05:54.971Z"
   },
   {
    "duration": 30,
    "start_time": "2022-04-09T11:07:29.471Z"
   },
   {
    "duration": 1845,
    "start_time": "2022-04-09T11:16:05.093Z"
   },
   {
    "duration": 3,
    "start_time": "2022-04-09T11:16:18.236Z"
   },
   {
    "duration": 1842,
    "start_time": "2022-04-09T11:16:22.779Z"
   },
   {
    "duration": 2558,
    "start_time": "2022-04-09T11:16:52.113Z"
   },
   {
    "duration": 1824,
    "start_time": "2022-04-09T11:17:29.724Z"
   },
   {
    "duration": 42,
    "start_time": "2022-04-09T11:18:03.618Z"
   },
   {
    "duration": 976,
    "start_time": "2022-04-09T11:21:10.875Z"
   },
   {
    "duration": 903,
    "start_time": "2022-04-09T11:21:26.551Z"
   },
   {
    "duration": 977,
    "start_time": "2022-04-09T11:23:35.271Z"
   },
   {
    "duration": 11,
    "start_time": "2022-04-09T11:31:24.570Z"
   },
   {
    "duration": 3785,
    "start_time": "2022-04-09T11:31:36.561Z"
   },
   {
    "duration": 649,
    "start_time": "2022-04-09T11:31:40.348Z"
   },
   {
    "duration": 4,
    "start_time": "2022-04-09T11:31:40.999Z"
   },
   {
    "duration": 23,
    "start_time": "2022-04-09T11:31:41.005Z"
   },
   {
    "duration": 3,
    "start_time": "2022-04-09T11:31:41.029Z"
   },
   {
    "duration": 22,
    "start_time": "2022-04-09T11:31:41.033Z"
   },
   {
    "duration": 190,
    "start_time": "2022-04-09T11:31:41.057Z"
   },
   {
    "duration": 4,
    "start_time": "2022-04-09T11:31:41.249Z"
   },
   {
    "duration": 25,
    "start_time": "2022-04-09T11:31:41.255Z"
   },
   {
    "duration": 15,
    "start_time": "2022-04-09T11:31:41.283Z"
   },
   {
    "duration": 294,
    "start_time": "2022-04-09T11:31:41.300Z"
   },
   {
    "duration": 182,
    "start_time": "2022-04-09T11:31:41.595Z"
   },
   {
    "duration": 352,
    "start_time": "2022-04-09T11:31:41.779Z"
   },
   {
    "duration": 4,
    "start_time": "2022-04-09T11:31:42.133Z"
   },
   {
    "duration": 646,
    "start_time": "2022-04-09T11:31:42.139Z"
   },
   {
    "duration": 553,
    "start_time": "2022-04-09T11:31:42.787Z"
   },
   {
    "duration": 554,
    "start_time": "2022-04-09T11:31:43.342Z"
   },
   {
    "duration": 485,
    "start_time": "2022-04-09T11:31:43.898Z"
   },
   {
    "duration": 5,
    "start_time": "2022-04-09T11:31:44.385Z"
   },
   {
    "duration": 467,
    "start_time": "2022-04-09T11:31:44.393Z"
   },
   {
    "duration": 34,
    "start_time": "2022-04-09T11:31:44.862Z"
   },
   {
    "duration": 16,
    "start_time": "2022-04-09T11:31:44.898Z"
   },
   {
    "duration": 4,
    "start_time": "2022-04-09T11:31:44.915Z"
   },
   {
    "duration": 29,
    "start_time": "2022-04-09T11:31:44.921Z"
   },
   {
    "duration": 9,
    "start_time": "2022-04-09T11:31:44.952Z"
   },
   {
    "duration": 111,
    "start_time": "2022-04-09T11:31:44.963Z"
   },
   {
    "duration": 0,
    "start_time": "2022-04-09T11:31:45.077Z"
   },
   {
    "duration": 0,
    "start_time": "2022-04-09T11:31:45.078Z"
   },
   {
    "duration": 0,
    "start_time": "2022-04-09T11:31:45.080Z"
   },
   {
    "duration": 0,
    "start_time": "2022-04-09T11:31:45.081Z"
   },
   {
    "duration": 0,
    "start_time": "2022-04-09T11:31:45.082Z"
   },
   {
    "duration": 0,
    "start_time": "2022-04-09T11:31:45.084Z"
   },
   {
    "duration": 0,
    "start_time": "2022-04-09T11:31:45.085Z"
   },
   {
    "duration": 0,
    "start_time": "2022-04-09T11:31:45.087Z"
   },
   {
    "duration": 0,
    "start_time": "2022-04-09T11:31:45.088Z"
   },
   {
    "duration": 0,
    "start_time": "2022-04-09T11:31:45.090Z"
   },
   {
    "duration": 0,
    "start_time": "2022-04-09T11:31:45.091Z"
   },
   {
    "duration": 0,
    "start_time": "2022-04-09T11:31:45.093Z"
   },
   {
    "duration": 0,
    "start_time": "2022-04-09T11:31:45.094Z"
   },
   {
    "duration": 8,
    "start_time": "2022-04-09T11:32:10.659Z"
   },
   {
    "duration": 46,
    "start_time": "2022-04-09T11:33:25.576Z"
   },
   {
    "duration": 4,
    "start_time": "2022-04-09T11:34:40.144Z"
   },
   {
    "duration": 6,
    "start_time": "2022-04-09T11:34:50.956Z"
   },
   {
    "duration": 2082,
    "start_time": "2022-04-09T11:35:07.863Z"
   },
   {
    "duration": 630,
    "start_time": "2022-04-09T11:35:09.947Z"
   },
   {
    "duration": 4,
    "start_time": "2022-04-09T11:35:10.579Z"
   },
   {
    "duration": 19,
    "start_time": "2022-04-09T11:35:10.585Z"
   },
   {
    "duration": 3,
    "start_time": "2022-04-09T11:35:10.606Z"
   },
   {
    "duration": 15,
    "start_time": "2022-04-09T11:35:10.610Z"
   },
   {
    "duration": 184,
    "start_time": "2022-04-09T11:35:10.626Z"
   },
   {
    "duration": 5,
    "start_time": "2022-04-09T11:35:10.812Z"
   },
   {
    "duration": 36,
    "start_time": "2022-04-09T11:35:10.819Z"
   },
   {
    "duration": 14,
    "start_time": "2022-04-09T11:35:10.857Z"
   },
   {
    "duration": 275,
    "start_time": "2022-04-09T11:35:10.873Z"
   },
   {
    "duration": 180,
    "start_time": "2022-04-09T11:35:11.150Z"
   },
   {
    "duration": 354,
    "start_time": "2022-04-09T11:35:11.332Z"
   },
   {
    "duration": 5,
    "start_time": "2022-04-09T11:35:11.688Z"
   },
   {
    "duration": 662,
    "start_time": "2022-04-09T11:35:11.694Z"
   },
   {
    "duration": 564,
    "start_time": "2022-04-09T11:35:12.358Z"
   },
   {
    "duration": 567,
    "start_time": "2022-04-09T11:35:12.923Z"
   },
   {
    "duration": 501,
    "start_time": "2022-04-09T11:35:13.491Z"
   },
   {
    "duration": 4,
    "start_time": "2022-04-09T11:35:13.994Z"
   },
   {
    "duration": 466,
    "start_time": "2022-04-09T11:35:14.000Z"
   },
   {
    "duration": 35,
    "start_time": "2022-04-09T11:35:14.467Z"
   },
   {
    "duration": 17,
    "start_time": "2022-04-09T11:35:14.504Z"
   },
   {
    "duration": 24,
    "start_time": "2022-04-09T11:35:14.523Z"
   },
   {
    "duration": 3,
    "start_time": "2022-04-09T11:35:14.550Z"
   },
   {
    "duration": 6,
    "start_time": "2022-04-09T11:35:14.555Z"
   },
   {
    "duration": 11,
    "start_time": "2022-04-09T11:35:14.562Z"
   },
   {
    "duration": 1820,
    "start_time": "2022-04-09T11:35:14.575Z"
   },
   {
    "duration": 1051,
    "start_time": "2022-04-09T11:35:16.398Z"
   },
   {
    "duration": 159,
    "start_time": "2022-04-09T11:35:17.451Z"
   },
   {
    "duration": 0,
    "start_time": "2022-04-09T11:35:17.611Z"
   },
   {
    "duration": 0,
    "start_time": "2022-04-09T11:35:17.613Z"
   },
   {
    "duration": 0,
    "start_time": "2022-04-09T11:35:17.613Z"
   },
   {
    "duration": 0,
    "start_time": "2022-04-09T11:35:17.614Z"
   },
   {
    "duration": 0,
    "start_time": "2022-04-09T11:35:17.615Z"
   },
   {
    "duration": 0,
    "start_time": "2022-04-09T11:35:17.616Z"
   },
   {
    "duration": 0,
    "start_time": "2022-04-09T11:35:17.617Z"
   },
   {
    "duration": 0,
    "start_time": "2022-04-09T11:35:17.618Z"
   },
   {
    "duration": 0,
    "start_time": "2022-04-09T11:35:17.619Z"
   },
   {
    "duration": 3,
    "start_time": "2022-04-09T11:36:33.782Z"
   },
   {
    "duration": 3,
    "start_time": "2022-04-09T11:36:38.378Z"
   },
   {
    "duration": 901,
    "start_time": "2022-04-09T11:36:43.747Z"
   },
   {
    "duration": 3,
    "start_time": "2022-04-09T11:37:07.007Z"
   },
   {
    "duration": 866,
    "start_time": "2022-04-09T11:37:12.782Z"
   },
   {
    "duration": 4,
    "start_time": "2022-04-09T11:37:19.142Z"
   },
   {
    "duration": 3,
    "start_time": "2022-04-09T11:37:20.594Z"
   },
   {
    "duration": 985,
    "start_time": "2022-04-09T11:37:24.065Z"
   },
   {
    "duration": 12,
    "start_time": "2022-04-09T13:24:34.188Z"
   },
   {
    "duration": 1812,
    "start_time": "2022-04-09T13:25:34.573Z"
   },
   {
    "duration": 15,
    "start_time": "2022-04-09T13:36:49.947Z"
   },
   {
    "duration": 220828,
    "start_time": "2022-04-09T13:37:26.453Z"
   },
   {
    "duration": 4,
    "start_time": "2022-04-09T13:42:08.864Z"
   },
   {
    "duration": 7994,
    "start_time": "2022-04-09T13:43:50.086Z"
   },
   {
    "duration": 10,
    "start_time": "2022-04-09T13:48:28.444Z"
   },
   {
    "duration": 4,
    "start_time": "2022-04-09T13:48:36.673Z"
   },
   {
    "duration": 103509,
    "start_time": "2022-04-09T13:48:51.319Z"
   },
   {
    "duration": 8319,
    "start_time": "2022-04-09T13:53:28.211Z"
   },
   {
    "duration": 37758,
    "start_time": "2022-04-09T13:55:12.483Z"
   },
   {
    "duration": 4,
    "start_time": "2022-04-09T13:56:34.001Z"
   },
   {
    "duration": 112,
    "start_time": "2022-04-09T13:58:22.548Z"
   },
   {
    "duration": 76,
    "start_time": "2022-04-09T13:58:45.888Z"
   },
   {
    "duration": 10,
    "start_time": "2022-04-09T14:01:00.393Z"
   },
   {
    "duration": 9,
    "start_time": "2022-04-09T14:02:36.649Z"
   },
   {
    "duration": 10,
    "start_time": "2022-04-09T14:04:22.944Z"
   },
   {
    "duration": 10,
    "start_time": "2022-04-09T14:04:47.198Z"
   },
   {
    "duration": 4,
    "start_time": "2022-04-09T14:05:05.964Z"
   },
   {
    "duration": 9,
    "start_time": "2022-04-09T14:05:18.202Z"
   },
   {
    "duration": 4,
    "start_time": "2022-04-09T14:06:08.580Z"
   },
   {
    "duration": 8,
    "start_time": "2022-04-09T14:06:22.682Z"
   },
   {
    "duration": 74,
    "start_time": "2022-04-09T14:06:50.676Z"
   },
   {
    "duration": 76,
    "start_time": "2022-04-09T14:06:55.627Z"
   },
   {
    "duration": 82,
    "start_time": "2022-04-09T14:06:59.185Z"
   },
   {
    "duration": 10,
    "start_time": "2022-04-09T14:08:05.644Z"
   },
   {
    "duration": 5,
    "start_time": "2022-04-09T14:08:16.743Z"
   },
   {
    "duration": 4,
    "start_time": "2022-04-09T14:08:33.644Z"
   },
   {
    "duration": 1158,
    "start_time": "2022-04-09T14:10:06.381Z"
   },
   {
    "duration": 8194,
    "start_time": "2022-04-09T14:19:05.903Z"
   },
   {
    "duration": 321,
    "start_time": "2022-04-09T14:19:18.720Z"
   },
   {
    "duration": 309,
    "start_time": "2022-04-09T14:20:07.461Z"
   },
   {
    "duration": 8169,
    "start_time": "2022-04-09T14:23:03.043Z"
   },
   {
    "duration": 75,
    "start_time": "2022-04-09T14:23:34.113Z"
   },
   {
    "duration": 20385,
    "start_time": "2022-04-09T14:24:11.318Z"
   },
   {
    "duration": 1499,
    "start_time": "2022-04-10T05:51:35.473Z"
   },
   {
    "duration": 663,
    "start_time": "2022-04-10T05:51:36.975Z"
   },
   {
    "duration": 5,
    "start_time": "2022-04-10T05:51:37.639Z"
   },
   {
    "duration": 33,
    "start_time": "2022-04-10T05:51:37.646Z"
   },
   {
    "duration": 4,
    "start_time": "2022-04-10T05:51:37.681Z"
   },
   {
    "duration": 9,
    "start_time": "2022-04-10T05:51:37.687Z"
   },
   {
    "duration": 185,
    "start_time": "2022-04-10T05:51:37.698Z"
   },
   {
    "duration": 4,
    "start_time": "2022-04-10T05:51:37.885Z"
   },
   {
    "duration": 23,
    "start_time": "2022-04-10T05:51:37.891Z"
   },
   {
    "duration": 14,
    "start_time": "2022-04-10T05:51:37.916Z"
   },
   {
    "duration": 280,
    "start_time": "2022-04-10T05:51:37.932Z"
   },
   {
    "duration": 179,
    "start_time": "2022-04-10T05:51:38.214Z"
   },
   {
    "duration": 340,
    "start_time": "2022-04-10T05:51:38.394Z"
   },
   {
    "duration": 5,
    "start_time": "2022-04-10T05:51:38.737Z"
   },
   {
    "duration": 608,
    "start_time": "2022-04-10T05:51:38.744Z"
   },
   {
    "duration": 539,
    "start_time": "2022-04-10T05:51:39.354Z"
   },
   {
    "duration": 537,
    "start_time": "2022-04-10T05:51:39.895Z"
   },
   {
    "duration": 452,
    "start_time": "2022-04-10T05:51:40.435Z"
   },
   {
    "duration": 4,
    "start_time": "2022-04-10T05:51:40.889Z"
   },
   {
    "duration": 441,
    "start_time": "2022-04-10T05:51:40.895Z"
   },
   {
    "duration": 47,
    "start_time": "2022-04-10T05:51:41.337Z"
   },
   {
    "duration": 17,
    "start_time": "2022-04-10T05:51:41.386Z"
   },
   {
    "duration": 3,
    "start_time": "2022-04-10T05:51:41.405Z"
   },
   {
    "duration": 4,
    "start_time": "2022-04-10T05:51:41.410Z"
   },
   {
    "duration": 9,
    "start_time": "2022-04-10T05:51:41.416Z"
   },
   {
    "duration": 1859,
    "start_time": "2022-04-10T05:51:41.426Z"
   },
   {
    "duration": 8255,
    "start_time": "2022-04-10T05:51:43.287Z"
   },
   {
    "duration": 313,
    "start_time": "2022-04-10T05:51:51.545Z"
   },
   {
    "duration": 11009,
    "start_time": "2022-04-10T05:51:51.860Z"
   },
   {
    "duration": 82,
    "start_time": "2022-04-10T05:52:02.871Z"
   },
   {
    "duration": 38703,
    "start_time": "2022-04-10T05:52:02.955Z"
   },
   {
    "duration": 1177,
    "start_time": "2022-04-10T05:52:41.660Z"
   },
   {
    "duration": 5,
    "start_time": "2022-04-10T05:52:42.839Z"
   },
   {
    "duration": 6,
    "start_time": "2022-04-10T05:52:42.845Z"
   },
   {
    "duration": 1027,
    "start_time": "2022-04-10T05:52:42.853Z"
   },
   {
    "duration": 178,
    "start_time": "2022-04-10T05:52:43.883Z"
   },
   {
    "duration": 0,
    "start_time": "2022-04-10T05:52:44.063Z"
   },
   {
    "duration": 0,
    "start_time": "2022-04-10T05:52:44.064Z"
   },
   {
    "duration": 0,
    "start_time": "2022-04-10T05:52:44.065Z"
   },
   {
    "duration": 0,
    "start_time": "2022-04-10T05:52:44.066Z"
   },
   {
    "duration": 0,
    "start_time": "2022-04-10T05:52:44.079Z"
   },
   {
    "duration": 0,
    "start_time": "2022-04-10T05:52:44.079Z"
   },
   {
    "duration": 0,
    "start_time": "2022-04-10T05:52:44.081Z"
   },
   {
    "duration": 0,
    "start_time": "2022-04-10T05:52:44.082Z"
   },
   {
    "duration": 0,
    "start_time": "2022-04-10T05:52:44.083Z"
   },
   {
    "duration": 1330,
    "start_time": "2022-04-10T05:54:52.777Z"
   },
   {
    "duration": 9,
    "start_time": "2022-04-10T05:55:06.223Z"
   },
   {
    "duration": 764,
    "start_time": "2022-04-10T05:56:07.922Z"
   },
   {
    "duration": 698,
    "start_time": "2022-04-10T05:57:19.586Z"
   },
   {
    "duration": 174,
    "start_time": "2022-04-10T06:01:36.706Z"
   },
   {
    "duration": 3,
    "start_time": "2022-04-10T06:03:13.425Z"
   },
   {
    "duration": 3,
    "start_time": "2022-04-10T06:03:15.239Z"
   },
   {
    "duration": 11,
    "start_time": "2022-04-10T06:04:05.747Z"
   },
   {
    "duration": 217,
    "start_time": "2022-04-10T06:34:03.179Z"
   },
   {
    "duration": 3,
    "start_time": "2022-04-10T06:34:39.751Z"
   },
   {
    "duration": 2,
    "start_time": "2022-04-10T06:34:42.085Z"
   },
   {
    "duration": 248,
    "start_time": "2022-04-10T06:34:47.446Z"
   },
   {
    "duration": 11,
    "start_time": "2022-04-10T06:36:20.207Z"
   },
   {
    "duration": 3,
    "start_time": "2022-04-10T06:40:12.136Z"
   },
   {
    "duration": 2,
    "start_time": "2022-04-10T06:40:14.597Z"
   },
   {
    "duration": 345,
    "start_time": "2022-04-10T06:40:59.435Z"
   },
   {
    "duration": 10,
    "start_time": "2022-04-10T06:44:43.289Z"
   },
   {
    "duration": 2,
    "start_time": "2022-04-10T06:44:51.363Z"
   },
   {
    "duration": 3,
    "start_time": "2022-04-10T06:44:54.715Z"
   },
   {
    "duration": 1106,
    "start_time": "2022-04-10T06:44:58.579Z"
   },
   {
    "duration": 10,
    "start_time": "2022-04-10T06:46:19.806Z"
   },
   {
    "duration": 3,
    "start_time": "2022-04-10T06:46:23.425Z"
   },
   {
    "duration": 3,
    "start_time": "2022-04-10T06:46:25.806Z"
   },
   {
    "duration": 756,
    "start_time": "2022-04-10T06:46:28.426Z"
   },
   {
    "duration": 3,
    "start_time": "2022-04-10T06:49:55.662Z"
   },
   {
    "duration": 2,
    "start_time": "2022-04-10T06:49:57.740Z"
   },
   {
    "duration": 186,
    "start_time": "2022-04-10T06:49:59.616Z"
   },
   {
    "duration": 606,
    "start_time": "2022-04-10T06:51:00.674Z"
   },
   {
    "duration": 11,
    "start_time": "2022-04-10T06:54:14.427Z"
   },
   {
    "duration": 3,
    "start_time": "2022-04-10T06:54:16.991Z"
   },
   {
    "duration": 3,
    "start_time": "2022-04-10T06:54:20.295Z"
   },
   {
    "duration": 63,
    "start_time": "2022-04-10T06:54:27.619Z"
   },
   {
    "duration": 115,
    "start_time": "2022-04-10T06:55:13.066Z"
   },
   {
    "duration": 60024,
    "start_time": "2022-04-10T06:56:50.335Z"
   },
   {
    "duration": 107,
    "start_time": "2022-04-10T07:01:34.854Z"
   },
   {
    "duration": 817,
    "start_time": "2022-04-10T07:17:20.764Z"
   },
   {
    "duration": 1022,
    "start_time": "2022-04-10T07:17:33.843Z"
   },
   {
    "duration": 1002,
    "start_time": "2022-04-10T08:04:27.104Z"
   },
   {
    "duration": 4,
    "start_time": "2022-04-10T08:05:12.607Z"
   },
   {
    "duration": 649,
    "start_time": "2022-04-10T08:05:41.191Z"
   },
   {
    "duration": 1245,
    "start_time": "2022-04-10T08:05:57.783Z"
   },
   {
    "duration": 5,
    "start_time": "2022-04-10T08:06:19.855Z"
   },
   {
    "duration": 8,
    "start_time": "2022-04-10T08:06:35.981Z"
   },
   {
    "duration": 3,
    "start_time": "2022-04-10T08:08:06.755Z"
   },
   {
    "duration": 3,
    "start_time": "2022-04-10T08:08:12.658Z"
   },
   {
    "duration": 451,
    "start_time": "2022-04-10T08:08:18.635Z"
   },
   {
    "duration": 2,
    "start_time": "2022-04-10T08:08:51.181Z"
   },
   {
    "duration": 3,
    "start_time": "2022-04-10T08:08:53.063Z"
   },
   {
    "duration": 806,
    "start_time": "2022-04-10T08:08:56.473Z"
   },
   {
    "duration": 732,
    "start_time": "2022-04-10T08:11:21.263Z"
   },
   {
    "duration": 4,
    "start_time": "2022-04-10T08:11:35.133Z"
   },
   {
    "duration": 3,
    "start_time": "2022-04-10T08:11:36.953Z"
   },
   {
    "duration": 888,
    "start_time": "2022-04-10T08:11:39.397Z"
   },
   {
    "duration": 761,
    "start_time": "2022-04-10T08:12:36.721Z"
   },
   {
    "duration": 806,
    "start_time": "2022-04-10T08:14:27.472Z"
   },
   {
    "duration": 702,
    "start_time": "2022-04-10T08:14:37.778Z"
   },
   {
    "duration": 4,
    "start_time": "2022-04-10T08:15:13.139Z"
   },
   {
    "duration": 11,
    "start_time": "2022-04-10T08:15:49.322Z"
   },
   {
    "duration": 8628,
    "start_time": "2022-04-10T08:16:48.057Z"
   },
   {
    "duration": 10,
    "start_time": "2022-04-10T08:18:41.901Z"
   },
   {
    "duration": 3,
    "start_time": "2022-04-10T08:18:52.462Z"
   },
   {
    "duration": 3,
    "start_time": "2022-04-10T08:18:55.342Z"
   },
   {
    "duration": 9524,
    "start_time": "2022-04-10T08:19:31.318Z"
   },
   {
    "duration": 3,
    "start_time": "2022-04-10T08:20:45.907Z"
   },
   {
    "duration": 4,
    "start_time": "2022-04-10T08:20:48.328Z"
   },
   {
    "duration": 9579,
    "start_time": "2022-04-10T08:20:50.010Z"
   },
   {
    "duration": 12,
    "start_time": "2022-04-10T08:22:57.417Z"
   },
   {
    "duration": 342,
    "start_time": "2022-04-10T08:24:44.662Z"
   },
   {
    "duration": 26,
    "start_time": "2022-04-10T08:25:08.337Z"
   },
   {
    "duration": 10,
    "start_time": "2022-04-10T08:25:29.111Z"
   },
   {
    "duration": 5,
    "start_time": "2022-04-10T08:36:57.175Z"
   },
   {
    "duration": 4,
    "start_time": "2022-04-10T08:39:03.667Z"
   },
   {
    "duration": 19,
    "start_time": "2022-04-10T08:44:04.049Z"
   },
   {
    "duration": 6,
    "start_time": "2022-04-10T08:44:40.982Z"
   },
   {
    "duration": 8,
    "start_time": "2022-04-10T08:45:01.150Z"
   },
   {
    "duration": 59678,
    "start_time": "2022-04-10T08:47:00.024Z"
   },
   {
    "duration": 102,
    "start_time": "2022-04-10T08:48:12.954Z"
   },
   {
    "duration": 4,
    "start_time": "2022-04-10T08:48:39.236Z"
   },
   {
    "duration": 7,
    "start_time": "2022-04-10T08:49:12.046Z"
   },
   {
    "duration": 4,
    "start_time": "2022-04-10T08:52:27.852Z"
   },
   {
    "duration": 12,
    "start_time": "2022-04-10T08:52:31.123Z"
   },
   {
    "duration": 3,
    "start_time": "2022-04-10T08:53:18.225Z"
   },
   {
    "duration": 8271,
    "start_time": "2022-04-10T08:55:27.383Z"
   },
   {
    "duration": 3,
    "start_time": "2022-04-10T08:57:48.212Z"
   },
   {
    "duration": 3,
    "start_time": "2022-04-10T08:57:52.705Z"
   },
   {
    "duration": 3,
    "start_time": "2022-04-10T08:57:56.850Z"
   },
   {
    "duration": 8230,
    "start_time": "2022-04-10T08:57:59.587Z"
   },
   {
    "duration": 3,
    "start_time": "2022-04-10T08:59:03.369Z"
   },
   {
    "duration": 3,
    "start_time": "2022-04-10T08:59:06.313Z"
   },
   {
    "duration": 9375,
    "start_time": "2022-04-10T08:59:09.805Z"
   },
   {
    "duration": 11,
    "start_time": "2022-04-10T09:00:41.341Z"
   },
   {
    "duration": 3,
    "start_time": "2022-04-10T09:00:46.521Z"
   },
   {
    "duration": 3,
    "start_time": "2022-04-10T09:00:48.788Z"
   },
   {
    "duration": 9398,
    "start_time": "2022-04-10T09:00:50.626Z"
   },
   {
    "duration": 8240,
    "start_time": "2022-04-10T09:01:19.060Z"
   },
   {
    "duration": 9433,
    "start_time": "2022-04-10T09:02:22.686Z"
   },
   {
    "duration": 4,
    "start_time": "2022-04-10T09:02:50.453Z"
   },
   {
    "duration": 3,
    "start_time": "2022-04-10T09:02:55.565Z"
   },
   {
    "duration": 9302,
    "start_time": "2022-04-10T09:03:01.671Z"
   },
   {
    "duration": 88,
    "start_time": "2022-04-10T09:03:19.944Z"
   },
   {
    "duration": 97,
    "start_time": "2022-04-10T09:03:28.512Z"
   },
   {
    "duration": 9,
    "start_time": "2022-04-10T09:03:51.467Z"
   },
   {
    "duration": 4,
    "start_time": "2022-04-10T09:03:56.594Z"
   },
   {
    "duration": 3,
    "start_time": "2022-04-10T09:04:29.226Z"
   },
   {
    "duration": 9911,
    "start_time": "2022-04-10T09:04:31.972Z"
   },
   {
    "duration": 556,
    "start_time": "2022-04-10T09:05:30.505Z"
   },
   {
    "duration": 25384,
    "start_time": "2022-04-10T09:07:12.454Z"
   },
   {
    "duration": 3,
    "start_time": "2022-04-10T09:07:52.348Z"
   },
   {
    "duration": 23792,
    "start_time": "2022-04-10T09:07:55.107Z"
   },
   {
    "duration": 84,
    "start_time": "2022-04-10T09:08:36.081Z"
   },
   {
    "duration": 3,
    "start_time": "2022-04-10T09:11:34.494Z"
   },
   {
    "duration": 62348,
    "start_time": "2022-04-10T09:11:36.977Z"
   },
   {
    "duration": 24524,
    "start_time": "2022-04-10T09:16:05.026Z"
   },
   {
    "duration": 3,
    "start_time": "2022-04-10T09:16:55.673Z"
   },
   {
    "duration": 4,
    "start_time": "2022-04-10T09:33:13.535Z"
   },
   {
    "duration": 2,
    "start_time": "2022-04-10T09:33:17.797Z"
   },
   {
    "duration": 43742,
    "start_time": "2022-04-10T09:33:48.277Z"
   },
   {
    "duration": 1285,
    "start_time": "2022-04-10T09:34:54.394Z"
   },
   {
    "duration": 5,
    "start_time": "2022-04-10T10:43:42.529Z"
   },
   {
    "duration": 3,
    "start_time": "2022-04-10T10:43:48.637Z"
   },
   {
    "duration": 7914,
    "start_time": "2022-04-10T10:43:58.951Z"
   },
   {
    "duration": 85,
    "start_time": "2022-04-10T10:44:13.073Z"
   },
   {
    "duration": 934,
    "start_time": "2022-04-10T10:44:24.589Z"
   },
   {
    "duration": 10,
    "start_time": "2022-04-10T10:45:27.662Z"
   },
   {
    "duration": 5,
    "start_time": "2022-04-10T10:45:31.433Z"
   },
   {
    "duration": 5,
    "start_time": "2022-04-10T10:50:14.267Z"
   },
   {
    "duration": 84,
    "start_time": "2022-04-10T10:50:19.069Z"
   },
   {
    "duration": 88,
    "start_time": "2022-04-10T10:52:59.121Z"
   },
   {
    "duration": 89,
    "start_time": "2022-04-10T10:53:11.721Z"
   },
   {
    "duration": 923,
    "start_time": "2022-04-10T10:53:17.850Z"
   },
   {
    "duration": 952,
    "start_time": "2022-04-10T10:53:30.568Z"
   },
   {
    "duration": 1008,
    "start_time": "2022-04-10T10:53:42.344Z"
   },
   {
    "duration": 9,
    "start_time": "2022-04-10T10:53:49.768Z"
   },
   {
    "duration": 4,
    "start_time": "2022-04-10T10:53:53.929Z"
   },
   {
    "duration": 1010,
    "start_time": "2022-04-10T10:54:34.946Z"
   },
   {
    "duration": 1007,
    "start_time": "2022-04-10T10:54:41.397Z"
   },
   {
    "duration": 997,
    "start_time": "2022-04-10T10:54:53.914Z"
   },
   {
    "duration": 1022,
    "start_time": "2022-04-10T10:54:59.622Z"
   },
   {
    "duration": 1002,
    "start_time": "2022-04-10T10:55:06.332Z"
   },
   {
    "duration": 19629,
    "start_time": "2022-04-10T10:55:32.390Z"
   },
   {
    "duration": 4,
    "start_time": "2022-04-10T10:55:59.786Z"
   },
   {
    "duration": 2,
    "start_time": "2022-04-10T10:56:16.349Z"
   },
   {
    "duration": 20727,
    "start_time": "2022-04-10T10:56:21.361Z"
   },
   {
    "duration": 937,
    "start_time": "2022-04-10T10:57:06.012Z"
   },
   {
    "duration": 3,
    "start_time": "2022-04-10T10:57:46.455Z"
   },
   {
    "duration": 1323,
    "start_time": "2022-04-10T10:58:09.540Z"
   },
   {
    "duration": 654,
    "start_time": "2022-04-10T10:58:10.865Z"
   },
   {
    "duration": 5,
    "start_time": "2022-04-10T10:58:11.520Z"
   },
   {
    "duration": 24,
    "start_time": "2022-04-10T10:58:11.527Z"
   },
   {
    "duration": 3,
    "start_time": "2022-04-10T10:58:11.553Z"
   },
   {
    "duration": 26,
    "start_time": "2022-04-10T10:58:11.558Z"
   },
   {
    "duration": 182,
    "start_time": "2022-04-10T10:58:11.585Z"
   },
   {
    "duration": 10,
    "start_time": "2022-04-10T10:58:11.769Z"
   },
   {
    "duration": 48,
    "start_time": "2022-04-10T10:58:11.780Z"
   },
   {
    "duration": 14,
    "start_time": "2022-04-10T10:58:11.831Z"
   },
   {
    "duration": 244,
    "start_time": "2022-04-10T10:58:11.846Z"
   },
   {
    "duration": 177,
    "start_time": "2022-04-10T10:58:12.091Z"
   },
   {
    "duration": 373,
    "start_time": "2022-04-10T10:58:12.278Z"
   },
   {
    "duration": 5,
    "start_time": "2022-04-10T10:58:12.653Z"
   },
   {
    "duration": 630,
    "start_time": "2022-04-10T10:58:12.660Z"
   },
   {
    "duration": 534,
    "start_time": "2022-04-10T10:58:13.292Z"
   },
   {
    "duration": 550,
    "start_time": "2022-04-10T10:58:13.828Z"
   },
   {
    "duration": 487,
    "start_time": "2022-04-10T10:58:14.380Z"
   },
   {
    "duration": 10,
    "start_time": "2022-04-10T10:58:14.869Z"
   },
   {
    "duration": 461,
    "start_time": "2022-04-10T10:58:14.881Z"
   },
   {
    "duration": 48,
    "start_time": "2022-04-10T10:58:15.344Z"
   },
   {
    "duration": 15,
    "start_time": "2022-04-10T10:58:15.394Z"
   },
   {
    "duration": 4,
    "start_time": "2022-04-10T10:58:15.411Z"
   },
   {
    "duration": 15,
    "start_time": "2022-04-10T10:58:15.417Z"
   },
   {
    "duration": 3,
    "start_time": "2022-04-10T10:58:15.434Z"
   },
   {
    "duration": 19601,
    "start_time": "2022-04-10T10:58:15.438Z"
   },
   {
    "duration": 101,
    "start_time": "2022-04-10T10:58:35.041Z"
   },
   {
    "duration": 9,
    "start_time": "2022-04-10T10:58:35.146Z"
   },
   {
    "duration": 12,
    "start_time": "2022-04-10T10:58:35.157Z"
   },
   {
    "duration": 42780,
    "start_time": "2022-04-10T10:58:35.179Z"
   },
   {
    "duration": 1307,
    "start_time": "2022-04-10T10:59:17.960Z"
   },
   {
    "duration": 4,
    "start_time": "2022-04-10T10:59:19.268Z"
   },
   {
    "duration": 3,
    "start_time": "2022-04-10T10:59:19.278Z"
   },
   {
    "duration": 12,
    "start_time": "2022-04-10T10:59:19.282Z"
   },
   {
    "duration": 1898,
    "start_time": "2022-04-10T10:59:19.295Z"
   },
   {
    "duration": 8515,
    "start_time": "2022-04-10T10:59:21.194Z"
   },
   {
    "duration": 336,
    "start_time": "2022-04-10T10:59:29.710Z"
   },
   {
    "duration": 11271,
    "start_time": "2022-04-10T10:59:30.049Z"
   },
   {
    "duration": 86,
    "start_time": "2022-04-10T10:59:41.322Z"
   },
   {
    "duration": 39146,
    "start_time": "2022-04-10T10:59:41.410Z"
   },
   {
    "duration": 1166,
    "start_time": "2022-04-10T11:00:20.557Z"
   },
   {
    "duration": 4,
    "start_time": "2022-04-10T11:00:21.724Z"
   },
   {
    "duration": 6,
    "start_time": "2022-04-10T11:00:21.730Z"
   },
   {
    "duration": 1142,
    "start_time": "2022-04-10T11:00:21.738Z"
   },
   {
    "duration": 156,
    "start_time": "2022-04-10T11:00:22.882Z"
   },
   {
    "duration": 0,
    "start_time": "2022-04-10T11:00:23.040Z"
   },
   {
    "duration": 0,
    "start_time": "2022-04-10T11:00:23.041Z"
   },
   {
    "duration": 0,
    "start_time": "2022-04-10T11:00:23.042Z"
   },
   {
    "duration": 0,
    "start_time": "2022-04-10T11:00:23.043Z"
   },
   {
    "duration": 0,
    "start_time": "2022-04-10T11:00:23.044Z"
   },
   {
    "duration": 0,
    "start_time": "2022-04-10T11:00:23.045Z"
   },
   {
    "duration": 0,
    "start_time": "2022-04-10T11:00:23.045Z"
   },
   {
    "duration": 0,
    "start_time": "2022-04-10T11:00:23.047Z"
   },
   {
    "duration": 0,
    "start_time": "2022-04-10T11:00:23.047Z"
   },
   {
    "duration": 0,
    "start_time": "2022-04-10T11:00:23.048Z"
   },
   {
    "duration": 0,
    "start_time": "2022-04-10T11:00:23.050Z"
   },
   {
    "duration": 0,
    "start_time": "2022-04-10T11:00:23.051Z"
   },
   {
    "duration": 1,
    "start_time": "2022-04-10T11:00:23.051Z"
   },
   {
    "duration": 0,
    "start_time": "2022-04-10T11:00:23.053Z"
   },
   {
    "duration": 0,
    "start_time": "2022-04-10T11:00:23.079Z"
   },
   {
    "duration": 0,
    "start_time": "2022-04-10T11:00:23.080Z"
   },
   {
    "duration": 0,
    "start_time": "2022-04-10T11:00:23.080Z"
   },
   {
    "duration": 0,
    "start_time": "2022-04-10T11:00:23.082Z"
   },
   {
    "duration": 0,
    "start_time": "2022-04-10T11:00:23.083Z"
   },
   {
    "duration": 0,
    "start_time": "2022-04-10T11:00:23.084Z"
   },
   {
    "duration": 0,
    "start_time": "2022-04-10T11:00:23.085Z"
   },
   {
    "duration": 0,
    "start_time": "2022-04-10T11:00:23.086Z"
   },
   {
    "duration": 1117,
    "start_time": "2022-04-10T11:04:47.171Z"
   },
   {
    "duration": 703,
    "start_time": "2022-04-10T11:05:04.182Z"
   },
   {
    "duration": 253,
    "start_time": "2022-04-10T11:05:27.038Z"
   },
   {
    "duration": 12,
    "start_time": "2022-04-10T11:09:06.623Z"
   },
   {
    "duration": 171,
    "start_time": "2022-04-10T11:09:22.009Z"
   },
   {
    "duration": 160,
    "start_time": "2022-04-10T11:09:54.827Z"
   },
   {
    "duration": 122,
    "start_time": "2022-04-10T11:10:17.262Z"
   },
   {
    "duration": 89,
    "start_time": "2022-04-10T11:13:06.594Z"
   },
   {
    "duration": 89,
    "start_time": "2022-04-10T11:13:28.528Z"
   },
   {
    "duration": 1356,
    "start_time": "2022-04-10T11:13:52.305Z"
   },
   {
    "duration": 662,
    "start_time": "2022-04-10T11:13:53.663Z"
   },
   {
    "duration": 4,
    "start_time": "2022-04-10T11:13:54.327Z"
   },
   {
    "duration": 20,
    "start_time": "2022-04-10T11:13:54.333Z"
   },
   {
    "duration": 3,
    "start_time": "2022-04-10T11:13:54.355Z"
   },
   {
    "duration": 9,
    "start_time": "2022-04-10T11:13:54.378Z"
   },
   {
    "duration": 181,
    "start_time": "2022-04-10T11:13:54.388Z"
   },
   {
    "duration": 10,
    "start_time": "2022-04-10T11:13:54.570Z"
   },
   {
    "duration": 48,
    "start_time": "2022-04-10T11:13:54.581Z"
   },
   {
    "duration": 13,
    "start_time": "2022-04-10T11:13:54.632Z"
   },
   {
    "duration": 245,
    "start_time": "2022-04-10T11:13:54.647Z"
   },
   {
    "duration": 185,
    "start_time": "2022-04-10T11:13:54.893Z"
   },
   {
    "duration": 341,
    "start_time": "2022-04-10T11:13:55.080Z"
   },
   {
    "duration": 4,
    "start_time": "2022-04-10T11:13:55.423Z"
   },
   {
    "duration": 619,
    "start_time": "2022-04-10T11:13:55.429Z"
   },
   {
    "duration": 536,
    "start_time": "2022-04-10T11:13:56.049Z"
   },
   {
    "duration": 540,
    "start_time": "2022-04-10T11:13:56.587Z"
   },
   {
    "duration": 476,
    "start_time": "2022-04-10T11:13:57.129Z"
   },
   {
    "duration": 4,
    "start_time": "2022-04-10T11:13:57.607Z"
   },
   {
    "duration": 459,
    "start_time": "2022-04-10T11:13:57.613Z"
   },
   {
    "duration": 33,
    "start_time": "2022-04-10T11:13:58.073Z"
   },
   {
    "duration": 14,
    "start_time": "2022-04-10T11:13:58.108Z"
   },
   {
    "duration": 4,
    "start_time": "2022-04-10T11:13:58.124Z"
   },
   {
    "duration": 13,
    "start_time": "2022-04-10T11:13:58.130Z"
   },
   {
    "duration": 35,
    "start_time": "2022-04-10T11:13:58.145Z"
   },
   {
    "duration": 7915,
    "start_time": "2022-04-10T11:13:58.181Z"
   },
   {
    "duration": 98,
    "start_time": "2022-04-10T11:14:06.097Z"
   },
   {
    "duration": 8,
    "start_time": "2022-04-10T11:14:06.199Z"
   },
   {
    "duration": 6,
    "start_time": "2022-04-10T11:14:06.209Z"
   },
   {
    "duration": 42685,
    "start_time": "2022-04-10T11:14:06.216Z"
   },
   {
    "duration": 1297,
    "start_time": "2022-04-10T11:14:48.902Z"
   },
   {
    "duration": 458,
    "start_time": "2022-04-10T11:14:50.200Z"
   },
   {
    "duration": 0,
    "start_time": "2022-04-10T11:14:50.660Z"
   },
   {
    "duration": 0,
    "start_time": "2022-04-10T11:14:50.678Z"
   },
   {
    "duration": 0,
    "start_time": "2022-04-10T11:14:50.680Z"
   },
   {
    "duration": 0,
    "start_time": "2022-04-10T11:14:50.681Z"
   },
   {
    "duration": 0,
    "start_time": "2022-04-10T11:14:50.682Z"
   },
   {
    "duration": 0,
    "start_time": "2022-04-10T11:14:50.683Z"
   },
   {
    "duration": 0,
    "start_time": "2022-04-10T11:14:50.685Z"
   },
   {
    "duration": 0,
    "start_time": "2022-04-10T11:14:50.686Z"
   },
   {
    "duration": 0,
    "start_time": "2022-04-10T11:14:50.688Z"
   },
   {
    "duration": 0,
    "start_time": "2022-04-10T11:14:50.689Z"
   },
   {
    "duration": 0,
    "start_time": "2022-04-10T11:14:50.690Z"
   },
   {
    "duration": 0,
    "start_time": "2022-04-10T11:14:50.691Z"
   },
   {
    "duration": 0,
    "start_time": "2022-04-10T11:14:50.693Z"
   },
   {
    "duration": 0,
    "start_time": "2022-04-10T11:14:50.694Z"
   },
   {
    "duration": 0,
    "start_time": "2022-04-10T11:14:50.695Z"
   },
   {
    "duration": 0,
    "start_time": "2022-04-10T11:14:50.697Z"
   },
   {
    "duration": 0,
    "start_time": "2022-04-10T11:14:50.698Z"
   },
   {
    "duration": 0,
    "start_time": "2022-04-10T11:14:50.699Z"
   },
   {
    "duration": 0,
    "start_time": "2022-04-10T11:14:50.701Z"
   },
   {
    "duration": 0,
    "start_time": "2022-04-10T11:14:50.702Z"
   },
   {
    "duration": 0,
    "start_time": "2022-04-10T11:14:50.703Z"
   },
   {
    "duration": 0,
    "start_time": "2022-04-10T11:14:50.705Z"
   },
   {
    "duration": 0,
    "start_time": "2022-04-10T11:14:50.706Z"
   },
   {
    "duration": 0,
    "start_time": "2022-04-10T11:14:50.707Z"
   },
   {
    "duration": 0,
    "start_time": "2022-04-10T11:14:50.708Z"
   },
   {
    "duration": 0,
    "start_time": "2022-04-10T11:14:50.709Z"
   },
   {
    "duration": 0,
    "start_time": "2022-04-10T11:14:50.710Z"
   },
   {
    "duration": 0,
    "start_time": "2022-04-10T11:14:50.712Z"
   },
   {
    "duration": 0,
    "start_time": "2022-04-10T11:14:50.713Z"
   },
   {
    "duration": 0,
    "start_time": "2022-04-10T11:14:50.714Z"
   },
   {
    "duration": 0,
    "start_time": "2022-04-10T11:14:50.714Z"
   },
   {
    "duration": 0,
    "start_time": "2022-04-10T11:14:50.715Z"
   },
   {
    "duration": 0,
    "start_time": "2022-04-10T11:14:50.717Z"
   },
   {
    "duration": 0,
    "start_time": "2022-04-10T11:14:50.718Z"
   },
   {
    "duration": 0,
    "start_time": "2022-04-10T11:14:50.718Z"
   },
   {
    "duration": 0,
    "start_time": "2022-04-10T11:14:50.779Z"
   },
   {
    "duration": 8072,
    "start_time": "2022-04-10T11:15:02.710Z"
   },
   {
    "duration": 5,
    "start_time": "2022-04-10T11:16:03.944Z"
   },
   {
    "duration": 3,
    "start_time": "2022-04-10T11:16:07.723Z"
   },
   {
    "duration": 7927,
    "start_time": "2022-04-10T11:16:12.780Z"
   },
   {
    "duration": 91,
    "start_time": "2022-04-10T11:17:44.961Z"
   },
   {
    "duration": 1597,
    "start_time": "2022-04-10T15:31:17.118Z"
   },
   {
    "duration": 803,
    "start_time": "2022-04-10T15:31:18.717Z"
   },
   {
    "duration": 5,
    "start_time": "2022-04-10T15:31:19.522Z"
   },
   {
    "duration": 23,
    "start_time": "2022-04-10T15:31:19.528Z"
   },
   {
    "duration": 3,
    "start_time": "2022-04-10T15:31:19.554Z"
   },
   {
    "duration": 25,
    "start_time": "2022-04-10T15:31:19.559Z"
   },
   {
    "duration": 180,
    "start_time": "2022-04-10T15:31:19.586Z"
   },
   {
    "duration": 13,
    "start_time": "2022-04-10T15:31:19.768Z"
   },
   {
    "duration": 22,
    "start_time": "2022-04-10T15:31:19.782Z"
   },
   {
    "duration": 14,
    "start_time": "2022-04-10T15:31:19.806Z"
   },
   {
    "duration": 286,
    "start_time": "2022-04-10T15:31:19.822Z"
   },
   {
    "duration": 186,
    "start_time": "2022-04-10T15:31:20.109Z"
   },
   {
    "duration": 347,
    "start_time": "2022-04-10T15:31:20.297Z"
   },
   {
    "duration": 4,
    "start_time": "2022-04-10T15:31:20.648Z"
   },
   {
    "duration": 628,
    "start_time": "2022-04-10T15:31:20.654Z"
   },
   {
    "duration": 557,
    "start_time": "2022-04-10T15:31:21.284Z"
   },
   {
    "duration": 561,
    "start_time": "2022-04-10T15:31:21.843Z"
   },
   {
    "duration": 478,
    "start_time": "2022-04-10T15:31:22.406Z"
   },
   {
    "duration": 4,
    "start_time": "2022-04-10T15:31:22.886Z"
   },
   {
    "duration": 447,
    "start_time": "2022-04-10T15:31:22.891Z"
   },
   {
    "duration": 46,
    "start_time": "2022-04-10T15:31:23.339Z"
   },
   {
    "duration": 18,
    "start_time": "2022-04-10T15:31:23.386Z"
   },
   {
    "duration": 5,
    "start_time": "2022-04-10T15:31:23.406Z"
   },
   {
    "duration": 12,
    "start_time": "2022-04-10T15:31:23.413Z"
   },
   {
    "duration": 7,
    "start_time": "2022-04-10T15:31:23.427Z"
   },
   {
    "duration": 7997,
    "start_time": "2022-04-10T15:31:23.436Z"
   },
   {
    "duration": 105,
    "start_time": "2022-04-10T15:31:31.435Z"
   },
   {
    "duration": 99,
    "start_time": "2022-04-10T15:31:31.541Z"
   },
   {
    "duration": 9,
    "start_time": "2022-04-10T15:31:31.642Z"
   },
   {
    "duration": 5,
    "start_time": "2022-04-10T15:31:31.652Z"
   },
   {
    "duration": 43467,
    "start_time": "2022-04-10T15:31:31.679Z"
   },
   {
    "duration": 1339,
    "start_time": "2022-04-10T15:32:15.148Z"
   },
   {
    "duration": 587,
    "start_time": "2022-04-10T15:32:16.488Z"
   },
   {
    "duration": 0,
    "start_time": "2022-04-10T15:32:17.078Z"
   },
   {
    "duration": 0,
    "start_time": "2022-04-10T15:32:17.081Z"
   },
   {
    "duration": 0,
    "start_time": "2022-04-10T15:32:17.082Z"
   },
   {
    "duration": 0,
    "start_time": "2022-04-10T15:32:17.084Z"
   },
   {
    "duration": 0,
    "start_time": "2022-04-10T15:32:17.086Z"
   },
   {
    "duration": 0,
    "start_time": "2022-04-10T15:32:17.088Z"
   },
   {
    "duration": 0,
    "start_time": "2022-04-10T15:32:17.090Z"
   },
   {
    "duration": 0,
    "start_time": "2022-04-10T15:32:17.092Z"
   },
   {
    "duration": 0,
    "start_time": "2022-04-10T15:32:17.094Z"
   },
   {
    "duration": 0,
    "start_time": "2022-04-10T15:32:17.096Z"
   },
   {
    "duration": 0,
    "start_time": "2022-04-10T15:32:17.097Z"
   },
   {
    "duration": 0,
    "start_time": "2022-04-10T15:32:17.099Z"
   },
   {
    "duration": 0,
    "start_time": "2022-04-10T15:32:17.101Z"
   },
   {
    "duration": 0,
    "start_time": "2022-04-10T15:32:17.102Z"
   },
   {
    "duration": 0,
    "start_time": "2022-04-10T15:32:17.104Z"
   },
   {
    "duration": 0,
    "start_time": "2022-04-10T15:32:17.105Z"
   },
   {
    "duration": 0,
    "start_time": "2022-04-10T15:32:17.107Z"
   },
   {
    "duration": 0,
    "start_time": "2022-04-10T15:32:17.109Z"
   },
   {
    "duration": 0,
    "start_time": "2022-04-10T15:32:17.111Z"
   },
   {
    "duration": 0,
    "start_time": "2022-04-10T15:32:17.112Z"
   },
   {
    "duration": 0,
    "start_time": "2022-04-10T15:32:17.114Z"
   },
   {
    "duration": 0,
    "start_time": "2022-04-10T15:32:17.115Z"
   },
   {
    "duration": 0,
    "start_time": "2022-04-10T15:32:17.116Z"
   },
   {
    "duration": 0,
    "start_time": "2022-04-10T15:32:17.180Z"
   },
   {
    "duration": 0,
    "start_time": "2022-04-10T15:32:17.182Z"
   },
   {
    "duration": 0,
    "start_time": "2022-04-10T15:32:17.183Z"
   },
   {
    "duration": 0,
    "start_time": "2022-04-10T15:32:17.185Z"
   },
   {
    "duration": 0,
    "start_time": "2022-04-10T15:32:17.187Z"
   },
   {
    "duration": 0,
    "start_time": "2022-04-10T15:32:17.189Z"
   },
   {
    "duration": 0,
    "start_time": "2022-04-10T15:32:17.191Z"
   },
   {
    "duration": 0,
    "start_time": "2022-04-10T15:32:17.192Z"
   },
   {
    "duration": 0,
    "start_time": "2022-04-10T15:32:17.194Z"
   },
   {
    "duration": 0,
    "start_time": "2022-04-10T15:32:17.195Z"
   },
   {
    "duration": 0,
    "start_time": "2022-04-10T15:32:17.196Z"
   },
   {
    "duration": 0,
    "start_time": "2022-04-10T15:32:17.198Z"
   },
   {
    "duration": 0,
    "start_time": "2022-04-10T15:32:17.199Z"
   },
   {
    "duration": 0,
    "start_time": "2022-04-10T15:32:17.200Z"
   },
   {
    "duration": 15968,
    "start_time": "2022-04-10T15:32:25.338Z"
   },
   {
    "duration": 1016,
    "start_time": "2022-04-10T15:32:51.874Z"
   },
   {
    "duration": 5,
    "start_time": "2022-04-10T15:34:55.626Z"
   },
   {
    "duration": 3,
    "start_time": "2022-04-10T15:34:59.505Z"
   },
   {
    "duration": 8969,
    "start_time": "2022-04-10T15:35:15.791Z"
   },
   {
    "duration": 5,
    "start_time": "2022-04-10T15:36:19.102Z"
   },
   {
    "duration": 3,
    "start_time": "2022-04-10T15:36:22.245Z"
   },
   {
    "duration": 8280,
    "start_time": "2022-04-10T15:36:24.516Z"
   },
   {
    "duration": 86,
    "start_time": "2022-04-10T15:36:40.268Z"
   },
   {
    "duration": 4,
    "start_time": "2022-04-10T15:36:55.353Z"
   },
   {
    "duration": 3,
    "start_time": "2022-04-10T15:36:58.369Z"
   },
   {
    "duration": 9847,
    "start_time": "2022-04-10T15:37:01.257Z"
   },
   {
    "duration": 114,
    "start_time": "2022-04-10T15:39:47.411Z"
   },
   {
    "duration": 9916,
    "start_time": "2022-04-10T15:39:54.499Z"
   },
   {
    "duration": 459,
    "start_time": "2022-04-10T15:40:39.828Z"
   },
   {
    "duration": 6,
    "start_time": "2022-04-10T15:41:14.161Z"
   },
   {
    "duration": 1538,
    "start_time": "2022-04-10T15:42:20.651Z"
   },
   {
    "duration": 1706,
    "start_time": "2022-04-10T15:42:51.773Z"
   },
   {
    "duration": 1493,
    "start_time": "2022-04-10T15:42:58.987Z"
   },
   {
    "duration": 277,
    "start_time": "2022-04-10T15:43:42.611Z"
   },
   {
    "duration": 2,
    "start_time": "2022-04-10T15:47:40.767Z"
   },
   {
    "duration": 2,
    "start_time": "2022-04-10T15:48:25.218Z"
   },
   {
    "duration": 1073,
    "start_time": "2022-04-10T15:52:33.935Z"
   },
   {
    "duration": 1027,
    "start_time": "2022-04-10T15:52:42.802Z"
   },
   {
    "duration": 24405,
    "start_time": "2022-04-10T15:56:04.356Z"
   },
   {
    "duration": 5155,
    "start_time": "2022-04-10T15:56:46.400Z"
   },
   {
    "duration": 5164,
    "start_time": "2022-04-10T15:57:13.626Z"
   },
   {
    "duration": 8025,
    "start_time": "2022-04-10T15:57:39.313Z"
   },
   {
    "duration": 1014,
    "start_time": "2022-04-10T16:00:15.435Z"
   },
   {
    "duration": 1563,
    "start_time": "2022-04-10T16:00:46.347Z"
   },
   {
    "duration": 3395,
    "start_time": "2022-04-10T16:00:47.912Z"
   },
   {
    "duration": 4,
    "start_time": "2022-04-10T16:00:51.309Z"
   },
   {
    "duration": 19,
    "start_time": "2022-04-10T16:00:51.315Z"
   },
   {
    "duration": 3,
    "start_time": "2022-04-10T16:00:51.335Z"
   },
   {
    "duration": 10,
    "start_time": "2022-04-10T16:00:51.340Z"
   },
   {
    "duration": 194,
    "start_time": "2022-04-10T16:00:51.351Z"
   },
   {
    "duration": 4,
    "start_time": "2022-04-10T16:00:51.547Z"
   },
   {
    "duration": 42,
    "start_time": "2022-04-10T16:00:51.553Z"
   },
   {
    "duration": 13,
    "start_time": "2022-04-10T16:00:51.598Z"
   },
   {
    "duration": 251,
    "start_time": "2022-04-10T16:00:51.613Z"
   },
   {
    "duration": 189,
    "start_time": "2022-04-10T16:00:51.866Z"
   },
   {
    "duration": 350,
    "start_time": "2022-04-10T16:00:52.056Z"
   },
   {
    "duration": 5,
    "start_time": "2022-04-10T16:00:52.407Z"
   },
   {
    "duration": 610,
    "start_time": "2022-04-10T16:00:52.413Z"
   },
   {
    "duration": 542,
    "start_time": "2022-04-10T16:00:53.025Z"
   },
   {
    "duration": 555,
    "start_time": "2022-04-10T16:00:53.569Z"
   },
   {
    "duration": 466,
    "start_time": "2022-04-10T16:00:54.126Z"
   },
   {
    "duration": 4,
    "start_time": "2022-04-10T16:00:54.594Z"
   },
   {
    "duration": 440,
    "start_time": "2022-04-10T16:00:54.600Z"
   },
   {
    "duration": 45,
    "start_time": "2022-04-10T16:00:55.042Z"
   },
   {
    "duration": 15,
    "start_time": "2022-04-10T16:00:55.089Z"
   },
   {
    "duration": 4,
    "start_time": "2022-04-10T16:00:55.106Z"
   },
   {
    "duration": 13,
    "start_time": "2022-04-10T16:00:55.112Z"
   },
   {
    "duration": 8,
    "start_time": "2022-04-10T16:00:55.126Z"
   },
   {
    "duration": 7956,
    "start_time": "2022-04-10T16:00:55.136Z"
   },
   {
    "duration": 97,
    "start_time": "2022-04-10T16:01:03.094Z"
   },
   {
    "duration": 42808,
    "start_time": "2022-04-10T16:01:03.194Z"
   },
   {
    "duration": 1326,
    "start_time": "2022-04-10T16:01:46.004Z"
   },
   {
    "duration": 1452,
    "start_time": "2022-04-10T16:01:47.331Z"
   },
   {
    "duration": 294,
    "start_time": "2022-04-10T16:01:48.786Z"
   },
   {
    "duration": 1128,
    "start_time": "2022-04-10T16:01:49.083Z"
   },
   {
    "duration": 2243,
    "start_time": "2022-04-11T03:05:44.224Z"
   },
   {
    "duration": 834,
    "start_time": "2022-04-11T03:05:46.472Z"
   },
   {
    "duration": 6,
    "start_time": "2022-04-11T03:05:47.308Z"
   },
   {
    "duration": 36,
    "start_time": "2022-04-11T03:05:47.316Z"
   },
   {
    "duration": 4,
    "start_time": "2022-04-11T03:05:47.355Z"
   },
   {
    "duration": 17,
    "start_time": "2022-04-11T03:05:47.361Z"
   },
   {
    "duration": 316,
    "start_time": "2022-04-11T03:05:47.380Z"
   },
   {
    "duration": 7,
    "start_time": "2022-04-11T03:05:47.700Z"
   },
   {
    "duration": 51,
    "start_time": "2022-04-11T03:05:47.710Z"
   },
   {
    "duration": 17,
    "start_time": "2022-04-11T03:05:47.763Z"
   },
   {
    "duration": 416,
    "start_time": "2022-04-11T03:05:47.782Z"
   },
   {
    "duration": 290,
    "start_time": "2022-04-11T03:05:48.201Z"
   },
   {
    "duration": 551,
    "start_time": "2022-04-11T03:05:48.494Z"
   },
   {
    "duration": 7,
    "start_time": "2022-04-11T03:05:49.051Z"
   },
   {
    "duration": 1058,
    "start_time": "2022-04-11T03:05:49.061Z"
   },
   {
    "duration": 972,
    "start_time": "2022-04-11T03:05:50.122Z"
   },
   {
    "duration": 988,
    "start_time": "2022-04-11T03:05:51.096Z"
   },
   {
    "duration": 729,
    "start_time": "2022-04-11T03:05:52.086Z"
   },
   {
    "duration": 6,
    "start_time": "2022-04-11T03:05:52.818Z"
   },
   {
    "duration": 792,
    "start_time": "2022-04-11T03:05:52.826Z"
   },
   {
    "duration": 57,
    "start_time": "2022-04-11T03:05:53.620Z"
   },
   {
    "duration": 23,
    "start_time": "2022-04-11T03:05:53.679Z"
   },
   {
    "duration": 6,
    "start_time": "2022-04-11T03:05:53.704Z"
   },
   {
    "duration": 37,
    "start_time": "2022-04-11T03:05:53.713Z"
   },
   {
    "duration": 10,
    "start_time": "2022-04-11T03:05:53.753Z"
   },
   {
    "duration": 10212,
    "start_time": "2022-04-11T03:05:53.766Z"
   },
   {
    "duration": 124,
    "start_time": "2022-04-11T03:06:03.980Z"
   },
   {
    "duration": 54657,
    "start_time": "2022-04-11T03:06:04.106Z"
   },
   {
    "duration": 1652,
    "start_time": "2022-04-11T03:06:58.765Z"
   },
   {
    "duration": 1832,
    "start_time": "2022-04-11T03:07:00.419Z"
   },
   {
    "duration": 410,
    "start_time": "2022-04-11T03:07:02.342Z"
   },
   {
    "duration": 1405,
    "start_time": "2022-04-11T03:07:02.848Z"
   },
   {
    "duration": 935,
    "start_time": "2022-04-11T03:30:26.650Z"
   },
   {
    "duration": 554,
    "start_time": "2022-04-11T03:30:45.433Z"
   },
   {
    "duration": 5965,
    "start_time": "2022-04-11T03:31:20.272Z"
   },
   {
    "duration": 543,
    "start_time": "2022-04-11T03:31:46.347Z"
   },
   {
    "duration": 115,
    "start_time": "2022-04-11T03:32:22.670Z"
   },
   {
    "duration": 1196,
    "start_time": "2022-04-11T03:32:30.980Z"
   },
   {
    "duration": 2274,
    "start_time": "2022-04-11T09:35:32.905Z"
   },
   {
    "duration": 760,
    "start_time": "2022-04-11T09:35:35.183Z"
   },
   {
    "duration": 7,
    "start_time": "2022-04-11T09:35:35.945Z"
   },
   {
    "duration": 30,
    "start_time": "2022-04-11T09:35:35.955Z"
   },
   {
    "duration": 4,
    "start_time": "2022-04-11T09:35:35.987Z"
   },
   {
    "duration": 18,
    "start_time": "2022-04-11T09:35:35.993Z"
   },
   {
    "duration": 315,
    "start_time": "2022-04-11T09:35:36.014Z"
   },
   {
    "duration": 7,
    "start_time": "2022-04-11T09:35:36.331Z"
   },
   {
    "duration": 46,
    "start_time": "2022-04-11T09:35:36.340Z"
   },
   {
    "duration": 16,
    "start_time": "2022-04-11T09:35:36.390Z"
   },
   {
    "duration": 401,
    "start_time": "2022-04-11T09:35:36.408Z"
   },
   {
    "duration": 283,
    "start_time": "2022-04-11T09:35:36.812Z"
   },
   {
    "duration": 523,
    "start_time": "2022-04-11T09:35:37.097Z"
   },
   {
    "duration": 6,
    "start_time": "2022-04-11T09:35:37.622Z"
   },
   {
    "duration": 1057,
    "start_time": "2022-04-11T09:35:37.631Z"
   },
   {
    "duration": 1023,
    "start_time": "2022-04-11T09:35:38.690Z"
   },
   {
    "duration": 1059,
    "start_time": "2022-04-11T09:35:39.715Z"
   },
   {
    "duration": 736,
    "start_time": "2022-04-11T09:35:40.776Z"
   },
   {
    "duration": 6,
    "start_time": "2022-04-11T09:35:41.514Z"
   },
   {
    "duration": 1770,
    "start_time": "2022-04-11T09:35:41.524Z"
   },
   {
    "duration": 76,
    "start_time": "2022-04-11T09:35:43.298Z"
   },
   {
    "duration": 35,
    "start_time": "2022-04-11T09:35:43.378Z"
   },
   {
    "duration": 10,
    "start_time": "2022-04-11T09:35:43.416Z"
   },
   {
    "duration": 45,
    "start_time": "2022-04-11T09:35:43.429Z"
   },
   {
    "duration": 4,
    "start_time": "2022-04-11T09:35:43.477Z"
   },
   {
    "duration": 13608,
    "start_time": "2022-04-11T09:35:43.484Z"
   },
   {
    "duration": 172,
    "start_time": "2022-04-11T09:35:57.096Z"
   },
   {
    "duration": 59345,
    "start_time": "2022-04-11T09:35:57.278Z"
   },
   {
    "duration": 1657,
    "start_time": "2022-04-11T09:36:56.626Z"
   },
   {
    "duration": 2583,
    "start_time": "2022-04-11T09:36:58.286Z"
   },
   {
    "duration": 404,
    "start_time": "2022-04-11T09:37:00.873Z"
   },
   {
    "duration": 1500,
    "start_time": "2022-04-11T09:37:01.279Z"
   },
   {
    "duration": 559,
    "start_time": "2022-04-11T09:37:02.781Z"
   },
   {
    "duration": 6084,
    "start_time": "2022-04-11T09:37:03.342Z"
   },
   {
    "duration": 125,
    "start_time": "2022-04-11T09:37:09.428Z"
   },
   {
    "duration": 1309,
    "start_time": "2022-04-11T09:37:09.556Z"
   },
   {
    "duration": 7,
    "start_time": "2022-04-11T09:41:01.106Z"
   },
   {
    "duration": 1946,
    "start_time": "2022-04-11T09:47:20.522Z"
   },
   {
    "duration": 761,
    "start_time": "2022-04-11T09:47:22.472Z"
   },
   {
    "duration": 7,
    "start_time": "2022-04-11T09:47:23.236Z"
   },
   {
    "duration": 35,
    "start_time": "2022-04-11T09:47:23.245Z"
   },
   {
    "duration": 5,
    "start_time": "2022-04-11T09:47:23.283Z"
   },
   {
    "duration": 16,
    "start_time": "2022-04-11T09:47:23.290Z"
   },
   {
    "duration": 319,
    "start_time": "2022-04-11T09:47:23.308Z"
   },
   {
    "duration": 7,
    "start_time": "2022-04-11T09:47:23.630Z"
   },
   {
    "duration": 48,
    "start_time": "2022-04-11T09:47:23.640Z"
   },
   {
    "duration": 18,
    "start_time": "2022-04-11T09:47:23.691Z"
   },
   {
    "duration": 430,
    "start_time": "2022-04-11T09:47:23.711Z"
   },
   {
    "duration": 293,
    "start_time": "2022-04-11T09:47:24.143Z"
   },
   {
    "duration": 548,
    "start_time": "2022-04-11T09:47:24.438Z"
   },
   {
    "duration": 6,
    "start_time": "2022-04-11T09:47:24.990Z"
   },
   {
    "duration": 1094,
    "start_time": "2022-04-11T09:47:24.998Z"
   },
   {
    "duration": 1122,
    "start_time": "2022-04-11T09:47:26.095Z"
   },
   {
    "duration": 1026,
    "start_time": "2022-04-11T09:47:27.219Z"
   },
   {
    "duration": 758,
    "start_time": "2022-04-11T09:47:28.247Z"
   },
   {
    "duration": 6,
    "start_time": "2022-04-11T09:47:29.007Z"
   },
   {
    "duration": 813,
    "start_time": "2022-04-11T09:47:29.016Z"
   },
   {
    "duration": 55,
    "start_time": "2022-04-11T09:47:29.832Z"
   },
   {
    "duration": 23,
    "start_time": "2022-04-11T09:47:29.889Z"
   },
   {
    "duration": 7,
    "start_time": "2022-04-11T09:47:29.914Z"
   },
   {
    "duration": 44,
    "start_time": "2022-04-11T09:47:29.923Z"
   },
   {
    "duration": 10,
    "start_time": "2022-04-11T09:47:29.971Z"
   },
   {
    "duration": 13730,
    "start_time": "2022-04-11T09:47:29.984Z"
   },
   {
    "duration": 171,
    "start_time": "2022-04-11T09:47:43.718Z"
   },
   {
    "duration": 61909,
    "start_time": "2022-04-11T09:47:43.892Z"
   },
   {
    "duration": 1896,
    "start_time": "2022-04-11T09:48:45.804Z"
   },
   {
    "duration": 3978,
    "start_time": "2022-04-11T09:48:47.702Z"
   },
   {
    "duration": 914,
    "start_time": "2022-04-11T09:48:51.684Z"
   },
   {
    "duration": 2389,
    "start_time": "2022-04-11T19:02:40.828Z"
   },
   {
    "duration": 4,
    "start_time": "2022-04-11T19:03:00.775Z"
   },
   {
    "duration": 1927,
    "start_time": "2022-04-12T11:40:20.730Z"
   },
   {
    "duration": 850,
    "start_time": "2022-04-12T11:40:22.659Z"
   },
   {
    "duration": 6,
    "start_time": "2022-04-12T11:40:23.511Z"
   },
   {
    "duration": 39,
    "start_time": "2022-04-12T11:40:23.519Z"
   },
   {
    "duration": 3,
    "start_time": "2022-04-12T11:40:23.561Z"
   },
   {
    "duration": 19,
    "start_time": "2022-04-12T11:40:23.566Z"
   },
   {
    "duration": 268,
    "start_time": "2022-04-12T11:40:23.587Z"
   },
   {
    "duration": 4,
    "start_time": "2022-04-12T11:40:23.857Z"
   },
   {
    "duration": 33,
    "start_time": "2022-04-12T11:40:23.863Z"
   },
   {
    "duration": 19,
    "start_time": "2022-04-12T11:40:23.897Z"
   },
   {
    "duration": 273,
    "start_time": "2022-04-12T11:40:23.918Z"
   },
   {
    "duration": 255,
    "start_time": "2022-04-12T11:40:24.193Z"
   },
   {
    "duration": 363,
    "start_time": "2022-04-12T11:40:24.449Z"
   },
   {
    "duration": 5,
    "start_time": "2022-04-12T11:40:24.817Z"
   },
   {
    "duration": 645,
    "start_time": "2022-04-12T11:40:24.823Z"
   },
   {
    "duration": 586,
    "start_time": "2022-04-12T11:40:25.470Z"
   },
   {
    "duration": 584,
    "start_time": "2022-04-12T11:40:26.058Z"
   },
   {
    "duration": 471,
    "start_time": "2022-04-12T11:40:26.644Z"
   },
   {
    "duration": 11,
    "start_time": "2022-04-12T11:40:27.117Z"
   },
   {
    "duration": 456,
    "start_time": "2022-04-12T11:40:27.129Z"
   },
   {
    "duration": 44,
    "start_time": "2022-04-12T11:40:27.587Z"
   },
   {
    "duration": 14,
    "start_time": "2022-04-12T11:40:27.636Z"
   },
   {
    "duration": 4,
    "start_time": "2022-04-12T11:40:27.651Z"
   },
   {
    "duration": 13,
    "start_time": "2022-04-12T11:40:27.656Z"
   },
   {
    "duration": 5,
    "start_time": "2022-04-12T11:40:27.670Z"
   },
   {
    "duration": 10270,
    "start_time": "2022-04-12T11:40:27.677Z"
   },
   {
    "duration": 121,
    "start_time": "2022-04-12T11:40:37.949Z"
   },
   {
    "duration": 49980,
    "start_time": "2022-04-12T11:40:38.071Z"
   },
   {
    "duration": 1377,
    "start_time": "2022-04-12T11:41:28.053Z"
   },
   {
    "duration": 3388,
    "start_time": "2022-04-12T11:41:29.432Z"
   },
   {
    "duration": 411,
    "start_time": "2022-04-12T11:41:32.822Z"
   },
   {
    "duration": 91,
    "start_time": "2022-04-13T06:43:06.979Z"
   },
   {
    "duration": 1406,
    "start_time": "2022-04-13T07:06:06.803Z"
   },
   {
    "duration": 642,
    "start_time": "2022-04-13T07:06:08.210Z"
   },
   {
    "duration": 5,
    "start_time": "2022-04-13T07:06:08.854Z"
   },
   {
    "duration": 19,
    "start_time": "2022-04-13T07:06:08.860Z"
   },
   {
    "duration": 2,
    "start_time": "2022-04-13T07:06:08.881Z"
   },
   {
    "duration": 23,
    "start_time": "2022-04-13T07:06:08.885Z"
   },
   {
    "duration": 192,
    "start_time": "2022-04-13T07:06:08.909Z"
   },
   {
    "duration": 5,
    "start_time": "2022-04-13T07:06:09.106Z"
   },
   {
    "duration": 23,
    "start_time": "2022-04-13T07:06:09.113Z"
   },
   {
    "duration": 14,
    "start_time": "2022-04-13T07:06:09.138Z"
   },
   {
    "duration": 292,
    "start_time": "2022-04-13T07:06:09.154Z"
   },
   {
    "duration": 193,
    "start_time": "2022-04-13T07:06:09.448Z"
   },
   {
    "duration": 384,
    "start_time": "2022-04-13T07:06:09.642Z"
   },
   {
    "duration": 5,
    "start_time": "2022-04-13T07:06:10.029Z"
   },
   {
    "duration": 694,
    "start_time": "2022-04-13T07:06:10.035Z"
   },
   {
    "duration": 627,
    "start_time": "2022-04-13T07:06:10.731Z"
   },
   {
    "duration": 642,
    "start_time": "2022-04-13T07:06:11.360Z"
   },
   {
    "duration": 505,
    "start_time": "2022-04-13T07:06:12.003Z"
   },
   {
    "duration": 5,
    "start_time": "2022-04-13T07:06:12.510Z"
   },
   {
    "duration": 517,
    "start_time": "2022-04-13T07:06:12.516Z"
   },
   {
    "duration": 35,
    "start_time": "2022-04-13T07:06:13.035Z"
   },
   {
    "duration": 36,
    "start_time": "2022-04-13T07:06:13.072Z"
   },
   {
    "duration": 5,
    "start_time": "2022-04-13T07:06:13.109Z"
   },
   {
    "duration": 17,
    "start_time": "2022-04-13T07:06:13.116Z"
   },
   {
    "duration": 15,
    "start_time": "2022-04-13T07:06:13.135Z"
   },
   {
    "duration": 8455,
    "start_time": "2022-04-13T07:06:13.152Z"
   },
   {
    "duration": 100,
    "start_time": "2022-04-13T07:06:21.608Z"
   },
   {
    "duration": 45796,
    "start_time": "2022-04-13T07:06:21.710Z"
   },
   {
    "duration": 1393,
    "start_time": "2022-04-13T07:07:07.507Z"
   },
   {
    "duration": 1408,
    "start_time": "2022-04-13T07:07:08.901Z"
   },
   {
    "duration": 303,
    "start_time": "2022-04-13T07:07:10.311Z"
   },
   {
    "duration": 95,
    "start_time": "2022-04-13T07:07:10.617Z"
   },
   {
    "duration": 4,
    "start_time": "2022-04-13T07:31:09.917Z"
   },
   {
    "duration": 107,
    "start_time": "2022-04-13T07:32:00.336Z"
   },
   {
    "duration": 8279,
    "start_time": "2022-04-13T07:32:06.520Z"
   },
   {
    "duration": 92,
    "start_time": "2022-04-13T07:32:16.936Z"
   },
   {
    "duration": 94,
    "start_time": "2022-04-13T07:32:25.846Z"
   },
   {
    "duration": 10,
    "start_time": "2022-04-13T07:32:36.311Z"
   },
   {
    "duration": 44477,
    "start_time": "2022-04-13T07:32:44.502Z"
   },
   {
    "duration": 1367,
    "start_time": "2022-04-13T07:33:32.245Z"
   },
   {
    "duration": 8,
    "start_time": "2022-04-13T07:33:44.422Z"
   },
   {
    "duration": 246,
    "start_time": "2022-04-13T07:34:45.365Z"
   },
   {
    "duration": 13,
    "start_time": "2022-04-13T07:35:07.274Z"
   },
   {
    "duration": 8,
    "start_time": "2022-04-13T07:35:20.005Z"
   },
   {
    "duration": 15,
    "start_time": "2022-04-13T07:36:25.140Z"
   },
   {
    "duration": 6,
    "start_time": "2022-04-13T07:36:27.417Z"
   },
   {
    "duration": 13,
    "start_time": "2022-04-13T07:36:41.454Z"
   },
   {
    "duration": 7,
    "start_time": "2022-04-13T07:36:44.275Z"
   },
   {
    "duration": 8581,
    "start_time": "2022-04-13T07:45:13.157Z"
   },
   {
    "duration": 463,
    "start_time": "2022-04-13T07:45:38.988Z"
   },
   {
    "duration": 5093,
    "start_time": "2022-04-13T07:46:11.518Z"
   },
   {
    "duration": 105,
    "start_time": "2022-04-13T07:46:55.593Z"
   },
   {
    "duration": 441,
    "start_time": "2022-04-13T07:47:20.818Z"
   },
   {
    "duration": 96,
    "start_time": "2022-04-13T07:48:14.321Z"
   },
   {
    "duration": 92,
    "start_time": "2022-04-13T07:48:16.611Z"
   },
   {
    "duration": 985,
    "start_time": "2022-04-13T07:48:22.961Z"
   },
   {
    "duration": 9,
    "start_time": "2022-04-13T07:51:29.945Z"
   },
   {
    "duration": 24,
    "start_time": "2022-04-13T07:51:42.795Z"
   },
   {
    "duration": 1091,
    "start_time": "2022-04-13T07:52:27.060Z"
   },
   {
    "duration": 5,
    "start_time": "2022-04-13T07:59:11.901Z"
   },
   {
    "duration": 1343,
    "start_time": "2022-04-13T08:00:39.668Z"
   },
   {
    "duration": 652,
    "start_time": "2022-04-13T08:00:41.014Z"
   },
   {
    "duration": 4,
    "start_time": "2022-04-13T08:00:41.668Z"
   },
   {
    "duration": 25,
    "start_time": "2022-04-13T08:00:41.674Z"
   },
   {
    "duration": 5,
    "start_time": "2022-04-13T08:00:41.702Z"
   },
   {
    "duration": 8,
    "start_time": "2022-04-13T08:00:41.710Z"
   },
   {
    "duration": 199,
    "start_time": "2022-04-13T08:00:41.719Z"
   },
   {
    "duration": 4,
    "start_time": "2022-04-13T08:00:41.920Z"
   },
   {
    "duration": 24,
    "start_time": "2022-04-13T08:00:41.925Z"
   },
   {
    "duration": 12,
    "start_time": "2022-04-13T08:00:41.951Z"
   },
   {
    "duration": 285,
    "start_time": "2022-04-13T08:00:41.965Z"
   },
   {
    "duration": 191,
    "start_time": "2022-04-13T08:00:42.252Z"
   },
   {
    "duration": 386,
    "start_time": "2022-04-13T08:00:42.445Z"
   },
   {
    "duration": 4,
    "start_time": "2022-04-13T08:00:42.835Z"
   },
   {
    "duration": 691,
    "start_time": "2022-04-13T08:00:42.841Z"
   },
   {
    "duration": 627,
    "start_time": "2022-04-13T08:00:43.534Z"
   },
   {
    "duration": 644,
    "start_time": "2022-04-13T08:00:44.163Z"
   },
   {
    "duration": 498,
    "start_time": "2022-04-13T08:00:44.809Z"
   },
   {
    "duration": 4,
    "start_time": "2022-04-13T08:00:45.309Z"
   },
   {
    "duration": 507,
    "start_time": "2022-04-13T08:00:45.315Z"
   },
   {
    "duration": 31,
    "start_time": "2022-04-13T08:00:45.823Z"
   },
   {
    "duration": 15,
    "start_time": "2022-04-13T08:00:45.856Z"
   },
   {
    "duration": 5,
    "start_time": "2022-04-13T08:00:45.872Z"
   },
   {
    "duration": 32,
    "start_time": "2022-04-13T08:00:45.878Z"
   },
   {
    "duration": 6,
    "start_time": "2022-04-13T08:00:45.911Z"
   },
   {
    "duration": 8418,
    "start_time": "2022-04-13T08:00:45.919Z"
   },
   {
    "duration": 104,
    "start_time": "2022-04-13T08:00:54.339Z"
   },
   {
    "duration": 45149,
    "start_time": "2022-04-13T08:00:54.445Z"
   },
   {
    "duration": 1361,
    "start_time": "2022-04-13T08:01:39.596Z"
   },
   {
    "duration": 1449,
    "start_time": "2022-04-13T08:01:40.959Z"
   },
   {
    "duration": 301,
    "start_time": "2022-04-13T08:01:42.410Z"
   },
   {
    "duration": 104,
    "start_time": "2022-04-13T08:01:42.714Z"
   },
   {
    "duration": 8,
    "start_time": "2022-04-13T08:01:42.820Z"
   },
   {
    "duration": 463,
    "start_time": "2022-04-13T08:01:42.830Z"
   },
   {
    "duration": 4915,
    "start_time": "2022-04-13T08:01:43.295Z"
   },
   {
    "duration": 103,
    "start_time": "2022-04-13T08:01:48.212Z"
   },
   {
    "duration": 1000,
    "start_time": "2022-04-13T08:01:48.317Z"
   },
   {
    "duration": 1092,
    "start_time": "2022-04-13T08:01:49.319Z"
   },
   {
    "duration": 5,
    "start_time": "2022-04-13T08:01:50.413Z"
   },
   {
    "duration": 2213,
    "start_time": "2022-04-14T07:48:42.088Z"
   },
   {
    "duration": 776,
    "start_time": "2022-04-14T07:48:44.304Z"
   },
   {
    "duration": 7,
    "start_time": "2022-04-14T07:48:45.082Z"
   },
   {
    "duration": 23,
    "start_time": "2022-04-14T07:48:45.091Z"
   },
   {
    "duration": 3,
    "start_time": "2022-04-14T07:48:45.117Z"
   },
   {
    "duration": 42,
    "start_time": "2022-04-14T07:48:45.122Z"
   },
   {
    "duration": 311,
    "start_time": "2022-04-14T07:48:45.166Z"
   },
   {
    "duration": 7,
    "start_time": "2022-04-14T07:48:45.479Z"
   },
   {
    "duration": 34,
    "start_time": "2022-04-14T07:48:45.488Z"
   },
   {
    "duration": 37,
    "start_time": "2022-04-14T07:48:45.526Z"
   },
   {
    "duration": 403,
    "start_time": "2022-04-14T07:48:45.565Z"
   },
   {
    "duration": 303,
    "start_time": "2022-04-14T07:48:45.970Z"
   },
   {
    "duration": 584,
    "start_time": "2022-04-14T07:48:46.275Z"
   },
   {
    "duration": 7,
    "start_time": "2022-04-14T07:48:46.862Z"
   },
   {
    "duration": 1077,
    "start_time": "2022-04-14T07:48:46.871Z"
   },
   {
    "duration": 1028,
    "start_time": "2022-04-14T07:48:47.950Z"
   },
   {
    "duration": 1024,
    "start_time": "2022-04-14T07:48:48.980Z"
   },
   {
    "duration": 870,
    "start_time": "2022-04-14T07:48:50.006Z"
   },
   {
    "duration": 7,
    "start_time": "2022-04-14T07:48:50.878Z"
   },
   {
    "duration": 830,
    "start_time": "2022-04-14T07:48:50.887Z"
   },
   {
    "duration": 58,
    "start_time": "2022-04-14T07:48:51.719Z"
   },
   {
    "duration": 21,
    "start_time": "2022-04-14T07:48:51.779Z"
   },
   {
    "duration": 6,
    "start_time": "2022-04-14T07:48:51.802Z"
   },
   {
    "duration": 14,
    "start_time": "2022-04-14T07:48:51.810Z"
   },
   {
    "duration": 32,
    "start_time": "2022-04-14T07:48:51.826Z"
   },
   {
    "duration": 10970,
    "start_time": "2022-04-14T07:48:51.861Z"
   },
   {
    "duration": 151,
    "start_time": "2022-04-14T07:49:02.833Z"
   },
   {
    "duration": 60084,
    "start_time": "2022-04-14T07:49:02.989Z"
   },
   {
    "duration": 1798,
    "start_time": "2022-04-14T07:50:03.075Z"
   },
   {
    "duration": 2879,
    "start_time": "2022-04-14T07:50:04.875Z"
   },
   {
    "duration": 398,
    "start_time": "2022-04-14T07:50:07.757Z"
   },
   {
    "duration": 22,
    "start_time": "2022-04-14T07:50:08.158Z"
   },
   {
    "duration": 10,
    "start_time": "2022-04-14T07:50:08.183Z"
   },
   {
    "duration": 610,
    "start_time": "2022-04-14T07:50:08.195Z"
   },
   {
    "duration": 6589,
    "start_time": "2022-04-14T07:50:08.807Z"
   },
   {
    "duration": 139,
    "start_time": "2022-04-14T07:50:15.399Z"
   },
   {
    "duration": 1324,
    "start_time": "2022-04-14T07:50:15.541Z"
   },
   {
    "duration": 1415,
    "start_time": "2022-04-14T07:50:16.868Z"
   },
   {
    "duration": 8,
    "start_time": "2022-04-14T07:50:18.286Z"
   },
   {
    "duration": 64321,
    "start_time": "2022-04-14T07:51:57.426Z"
   },
   {
    "duration": 277,
    "start_time": "2022-04-14T07:57:47.069Z"
   },
   {
    "duration": 134,
    "start_time": "2022-04-14T07:58:31.208Z"
   },
   {
    "duration": 146,
    "start_time": "2022-04-14T08:00:41.221Z"
   },
   {
    "duration": 4975,
    "start_time": "2022-04-14T08:01:42.527Z"
   },
   {
    "duration": 5048,
    "start_time": "2022-04-14T08:03:06.216Z"
   },
   {
    "duration": 16996,
    "start_time": "2022-04-14T08:03:40.529Z"
   },
   {
    "duration": 4249,
    "start_time": "2022-04-14T08:15:54.069Z"
   },
   {
    "duration": 3108,
    "start_time": "2022-04-14T08:19:36.364Z"
   },
   {
    "duration": 10038,
    "start_time": "2022-04-14T08:20:11.564Z"
   },
   {
    "duration": 4218,
    "start_time": "2022-04-14T08:20:40.110Z"
   },
   {
    "duration": 4187,
    "start_time": "2022-04-14T08:21:29.578Z"
   },
   {
    "duration": 16741,
    "start_time": "2022-04-14T08:21:52.864Z"
   },
   {
    "duration": 13,
    "start_time": "2022-04-14T09:17:03.766Z"
   },
   {
    "duration": 13,
    "start_time": "2022-04-14T09:17:49.931Z"
   },
   {
    "duration": 31,
    "start_time": "2022-04-14T09:19:32.007Z"
   },
   {
    "duration": 61,
    "start_time": "2022-04-14T09:20:59.680Z"
   },
   {
    "duration": 25,
    "start_time": "2022-04-14T09:21:34.327Z"
   },
   {
    "duration": 13,
    "start_time": "2022-04-14T09:22:36.381Z"
   },
   {
    "duration": 23,
    "start_time": "2022-04-14T09:23:04.612Z"
   },
   {
    "duration": 14,
    "start_time": "2022-04-14T09:23:18.822Z"
   },
   {
    "duration": 14,
    "start_time": "2022-04-14T09:23:40.348Z"
   },
   {
    "duration": 22,
    "start_time": "2022-04-14T09:23:58.344Z"
   },
   {
    "duration": 13,
    "start_time": "2022-04-14T09:24:11.926Z"
   },
   {
    "duration": 8,
    "start_time": "2022-04-14T09:24:30.151Z"
   },
   {
    "duration": 9,
    "start_time": "2022-04-14T09:24:47.527Z"
   },
   {
    "duration": 8,
    "start_time": "2022-04-14T09:25:16.253Z"
   },
   {
    "duration": 9,
    "start_time": "2022-04-14T09:25:31.140Z"
   },
   {
    "duration": 9,
    "start_time": "2022-04-14T09:27:14.229Z"
   },
   {
    "duration": 23,
    "start_time": "2022-04-14T09:27:20.378Z"
   },
   {
    "duration": 49,
    "start_time": "2022-04-14T09:28:45.117Z"
   },
   {
    "duration": 15,
    "start_time": "2022-04-14T09:29:08.722Z"
   },
   {
    "duration": 13,
    "start_time": "2022-04-14T09:30:17.640Z"
   },
   {
    "duration": 12,
    "start_time": "2022-04-14T09:31:10.459Z"
   },
   {
    "duration": 24,
    "start_time": "2022-04-14T09:31:19.499Z"
   },
   {
    "duration": 14,
    "start_time": "2022-04-14T09:32:11.774Z"
   },
   {
    "duration": 39,
    "start_time": "2022-04-14T09:32:28.860Z"
   },
   {
    "duration": 40,
    "start_time": "2022-04-14T09:32:42.699Z"
   },
   {
    "duration": 14,
    "start_time": "2022-04-14T09:40:39.666Z"
   },
   {
    "duration": 20,
    "start_time": "2022-04-14T09:41:39.065Z"
   },
   {
    "duration": 11,
    "start_time": "2022-04-14T09:41:59.039Z"
   },
   {
    "duration": 19,
    "start_time": "2022-04-14T09:43:52.123Z"
   },
   {
    "duration": 41,
    "start_time": "2022-04-14T09:44:01.158Z"
   },
   {
    "duration": 52,
    "start_time": "2022-04-14T09:44:09.513Z"
   },
   {
    "duration": 23,
    "start_time": "2022-04-14T09:44:28.397Z"
   },
   {
    "duration": 16280,
    "start_time": "2022-04-14T09:45:01.737Z"
   },
   {
    "duration": 38,
    "start_time": "2022-04-14T09:45:44.097Z"
   },
   {
    "duration": 15,
    "start_time": "2022-04-14T09:46:04.996Z"
   },
   {
    "duration": 15,
    "start_time": "2022-04-14T09:47:09.303Z"
   },
   {
    "duration": 58,
    "start_time": "2022-04-14T09:47:26.157Z"
   },
   {
    "duration": 75,
    "start_time": "2022-04-14T09:47:36.817Z"
   },
   {
    "duration": 66,
    "start_time": "2022-04-14T09:47:55.238Z"
   },
   {
    "duration": 56,
    "start_time": "2022-04-14T09:48:24.396Z"
   },
   {
    "duration": 57,
    "start_time": "2022-04-14T09:48:44.518Z"
   },
   {
    "duration": 82,
    "start_time": "2022-04-14T09:49:31.220Z"
   },
   {
    "duration": 1666,
    "start_time": "2022-04-16T09:41:20.849Z"
   },
   {
    "duration": 671,
    "start_time": "2022-04-16T09:41:22.517Z"
   },
   {
    "duration": 6,
    "start_time": "2022-04-16T09:41:23.189Z"
   },
   {
    "duration": 15,
    "start_time": "2022-04-16T09:41:23.197Z"
   },
   {
    "duration": 4,
    "start_time": "2022-04-16T09:41:23.229Z"
   },
   {
    "duration": 11,
    "start_time": "2022-04-16T09:41:23.234Z"
   },
   {
    "duration": 175,
    "start_time": "2022-04-16T09:41:23.247Z"
   },
   {
    "duration": 7,
    "start_time": "2022-04-16T09:41:23.424Z"
   },
   {
    "duration": 22,
    "start_time": "2022-04-16T09:41:23.433Z"
   },
   {
    "duration": 12,
    "start_time": "2022-04-16T09:41:23.458Z"
   },
   {
    "duration": 288,
    "start_time": "2022-04-16T09:41:23.472Z"
   },
   {
    "duration": 181,
    "start_time": "2022-04-16T09:41:23.762Z"
   },
   {
    "duration": 356,
    "start_time": "2022-04-16T09:41:23.944Z"
   },
   {
    "duration": 5,
    "start_time": "2022-04-16T09:41:24.302Z"
   },
   {
    "duration": 628,
    "start_time": "2022-04-16T09:41:24.309Z"
   },
   {
    "duration": 537,
    "start_time": "2022-04-16T09:41:24.939Z"
   },
   {
    "duration": 557,
    "start_time": "2022-04-16T09:41:25.478Z"
   },
   {
    "duration": 459,
    "start_time": "2022-04-16T09:41:26.037Z"
   },
   {
    "duration": 4,
    "start_time": "2022-04-16T09:41:26.498Z"
   },
   {
    "duration": 462,
    "start_time": "2022-04-16T09:41:26.504Z"
   },
   {
    "duration": 31,
    "start_time": "2022-04-16T09:41:26.967Z"
   },
   {
    "duration": 26,
    "start_time": "2022-04-16T09:41:27.000Z"
   },
   {
    "duration": 6,
    "start_time": "2022-04-16T09:41:27.028Z"
   },
   {
    "duration": 17,
    "start_time": "2022-04-16T09:41:27.035Z"
   },
   {
    "duration": 8,
    "start_time": "2022-04-16T09:41:27.054Z"
   },
   {
    "duration": 8072,
    "start_time": "2022-04-16T09:41:27.063Z"
   },
   {
    "duration": 96,
    "start_time": "2022-04-16T09:41:35.137Z"
   },
   {
    "duration": 44563,
    "start_time": "2022-04-16T09:41:35.237Z"
   },
   {
    "duration": 1468,
    "start_time": "2022-04-16T09:42:19.802Z"
   },
   {
    "duration": 2351,
    "start_time": "2022-04-16T09:42:21.273Z"
   },
   {
    "duration": 499,
    "start_time": "2022-04-16T09:42:23.630Z"
   },
   {
    "duration": 19,
    "start_time": "2022-04-16T09:42:24.135Z"
   },
   {
    "duration": 7,
    "start_time": "2022-04-16T09:42:24.156Z"
   },
   {
    "duration": 83,
    "start_time": "2022-04-16T09:42:24.164Z"
   },
   {
    "duration": 12960,
    "start_time": "2022-04-16T09:42:24.249Z"
   },
   {
    "duration": 12712,
    "start_time": "2022-04-16T09:42:37.211Z"
   },
   {
    "duration": 119,
    "start_time": "2022-04-16T09:42:49.925Z"
   },
   {
    "duration": 0,
    "start_time": "2022-04-16T09:42:50.045Z"
   },
   {
    "duration": 0,
    "start_time": "2022-04-16T09:42:50.046Z"
   },
   {
    "duration": 0,
    "start_time": "2022-04-16T09:42:50.047Z"
   },
   {
    "duration": 0,
    "start_time": "2022-04-16T09:42:50.048Z"
   },
   {
    "duration": 0,
    "start_time": "2022-04-16T09:42:50.049Z"
   },
   {
    "duration": 46,
    "start_time": "2022-04-16T09:44:47.610Z"
   },
   {
    "duration": 28,
    "start_time": "2022-04-16T09:45:46.882Z"
   },
   {
    "duration": 40,
    "start_time": "2022-04-16T09:48:33.410Z"
   },
   {
    "duration": 64,
    "start_time": "2022-04-16T09:48:52.771Z"
   },
   {
    "duration": 49,
    "start_time": "2022-04-16T09:49:03.893Z"
   },
   {
    "duration": 41,
    "start_time": "2022-04-16T09:50:18.179Z"
   },
   {
    "duration": 51,
    "start_time": "2022-04-16T09:52:20.185Z"
   },
   {
    "duration": 48,
    "start_time": "2022-04-16T09:52:26.011Z"
   },
   {
    "duration": 39,
    "start_time": "2022-04-16T09:52:46.155Z"
   },
   {
    "duration": 43,
    "start_time": "2022-04-16T09:52:57.074Z"
   },
   {
    "duration": 1525,
    "start_time": "2022-04-17T05:14:33.333Z"
   },
   {
    "duration": 602,
    "start_time": "2022-04-17T05:14:34.860Z"
   },
   {
    "duration": 5,
    "start_time": "2022-04-17T05:14:35.464Z"
   },
   {
    "duration": 17,
    "start_time": "2022-04-17T05:14:35.471Z"
   },
   {
    "duration": 3,
    "start_time": "2022-04-17T05:14:35.490Z"
   },
   {
    "duration": 12,
    "start_time": "2022-04-17T05:14:35.494Z"
   },
   {
    "duration": 170,
    "start_time": "2022-04-17T05:14:35.507Z"
   },
   {
    "duration": 5,
    "start_time": "2022-04-17T05:14:35.679Z"
   },
   {
    "duration": 24,
    "start_time": "2022-04-17T05:14:35.686Z"
   },
   {
    "duration": 20,
    "start_time": "2022-04-17T05:14:35.713Z"
   },
   {
    "duration": 241,
    "start_time": "2022-04-17T05:14:35.735Z"
   },
   {
    "duration": 165,
    "start_time": "2022-04-17T05:14:35.978Z"
   },
   {
    "duration": 318,
    "start_time": "2022-04-17T05:14:36.145Z"
   },
   {
    "duration": 5,
    "start_time": "2022-04-17T05:14:36.465Z"
   },
   {
    "duration": 577,
    "start_time": "2022-04-17T05:14:36.472Z"
   },
   {
    "duration": 509,
    "start_time": "2022-04-17T05:14:37.051Z"
   },
   {
    "duration": 509,
    "start_time": "2022-04-17T05:14:37.562Z"
   },
   {
    "duration": 432,
    "start_time": "2022-04-17T05:14:38.073Z"
   },
   {
    "duration": 16,
    "start_time": "2022-04-17T05:14:38.507Z"
   },
   {
    "duration": 407,
    "start_time": "2022-04-17T05:14:38.525Z"
   },
   {
    "duration": 32,
    "start_time": "2022-04-17T05:14:38.934Z"
   },
   {
    "duration": 15,
    "start_time": "2022-04-17T05:14:38.967Z"
   },
   {
    "duration": 4,
    "start_time": "2022-04-17T05:14:38.984Z"
   },
   {
    "duration": 36,
    "start_time": "2022-04-17T05:14:38.990Z"
   },
   {
    "duration": 3,
    "start_time": "2022-04-17T05:14:39.028Z"
   },
   {
    "duration": 7080,
    "start_time": "2022-04-17T05:14:39.033Z"
   },
   {
    "duration": 81,
    "start_time": "2022-04-17T05:14:46.114Z"
   },
   {
    "duration": 38666,
    "start_time": "2022-04-17T05:14:46.199Z"
   },
   {
    "duration": 1142,
    "start_time": "2022-04-17T05:15:24.867Z"
   },
   {
    "duration": 1218,
    "start_time": "2022-04-17T05:15:26.011Z"
   },
   {
    "duration": 294,
    "start_time": "2022-04-17T05:15:27.230Z"
   },
   {
    "duration": 12,
    "start_time": "2022-04-17T05:15:27.526Z"
   },
   {
    "duration": 6,
    "start_time": "2022-04-17T05:15:27.540Z"
   },
   {
    "duration": 80,
    "start_time": "2022-04-17T05:15:27.547Z"
   },
   {
    "duration": 10834,
    "start_time": "2022-04-17T05:15:27.628Z"
   },
   {
    "duration": 10970,
    "start_time": "2022-04-17T05:15:38.463Z"
   },
   {
    "duration": 101,
    "start_time": "2022-04-17T05:15:49.435Z"
   },
   {
    "duration": 0,
    "start_time": "2022-04-17T05:15:49.538Z"
   },
   {
    "duration": 0,
    "start_time": "2022-04-17T05:15:49.539Z"
   },
   {
    "duration": 0,
    "start_time": "2022-04-17T05:15:49.540Z"
   },
   {
    "duration": 0,
    "start_time": "2022-04-17T05:15:49.541Z"
   },
   {
    "duration": 0,
    "start_time": "2022-04-17T05:15:49.542Z"
   },
   {
    "duration": 5,
    "start_time": "2022-04-17T09:10:05.008Z"
   },
   {
    "duration": 42,
    "start_time": "2022-04-17T09:10:35.993Z"
   },
   {
    "duration": 33,
    "start_time": "2022-04-17T09:11:29.255Z"
   },
   {
    "duration": 33,
    "start_time": "2022-04-17T09:12:45.044Z"
   },
   {
    "duration": 45,
    "start_time": "2022-04-17T09:13:04.497Z"
   },
   {
    "duration": 39,
    "start_time": "2022-04-17T09:13:49.868Z"
   },
   {
    "duration": 59,
    "start_time": "2022-04-17T09:14:10.805Z"
   },
   {
    "duration": 33,
    "start_time": "2022-04-17T09:14:53.090Z"
   },
   {
    "duration": 32,
    "start_time": "2022-04-17T09:16:13.372Z"
   },
   {
    "duration": 11,
    "start_time": "2022-04-17T09:17:21.499Z"
   },
   {
    "duration": 57,
    "start_time": "2022-04-17T09:17:33.355Z"
   },
   {
    "duration": 45,
    "start_time": "2022-04-17T09:17:43.869Z"
   },
   {
    "duration": 66,
    "start_time": "2022-04-17T09:19:46.652Z"
   },
   {
    "duration": 59,
    "start_time": "2022-04-17T09:21:26.232Z"
   },
   {
    "duration": 46,
    "start_time": "2022-04-17T09:21:37.224Z"
   },
   {
    "duration": 3706,
    "start_time": "2022-04-17T13:14:14.125Z"
   },
   {
    "duration": 3,
    "start_time": "2022-04-17T13:14:34.658Z"
   },
   {
    "duration": 5,
    "start_time": "2022-04-17T13:14:46.681Z"
   },
   {
    "duration": 4067,
    "start_time": "2022-04-17T13:15:52.028Z"
   },
   {
    "duration": 3681,
    "start_time": "2022-04-17T13:16:22.050Z"
   },
   {
    "duration": 24,
    "start_time": "2022-04-17T13:19:58.805Z"
   },
   {
    "duration": 38,
    "start_time": "2022-04-17T13:22:22.380Z"
   },
   {
    "duration": 39,
    "start_time": "2022-04-17T13:45:28.502Z"
   },
   {
    "duration": 765,
    "start_time": "2022-04-17T13:47:51.360Z"
   },
   {
    "duration": 24,
    "start_time": "2022-04-17T13:48:43.841Z"
   },
   {
    "duration": 1238,
    "start_time": "2022-04-17T13:49:17.348Z"
   },
   {
    "duration": 1253,
    "start_time": "2022-04-17T13:49:54.658Z"
   },
   {
    "duration": 1271,
    "start_time": "2022-04-17T14:00:56.676Z"
   },
   {
    "duration": 1363,
    "start_time": "2022-04-17T14:01:34.689Z"
   },
   {
    "duration": 1376,
    "start_time": "2022-04-17T14:01:57.162Z"
   },
   {
    "duration": 1291,
    "start_time": "2022-04-17T14:02:08.477Z"
   },
   {
    "duration": 11399,
    "start_time": "2022-04-17T14:04:13.545Z"
   },
   {
    "duration": 15428,
    "start_time": "2022-04-17T14:06:02.297Z"
   },
   {
    "duration": 2810,
    "start_time": "2022-04-17T14:06:31.602Z"
   }
  ],
  "kernelspec": {
   "display_name": "Python 3",
   "language": "python",
   "name": "python3"
  },
  "language_info": {
   "codemirror_mode": {
    "name": "ipython",
    "version": 3
   },
   "file_extension": ".py",
   "mimetype": "text/x-python",
   "name": "python",
   "nbconvert_exporter": "python",
   "pygments_lexer": "ipython3",
   "version": "3.8.8"
  },
  "toc": {
   "base_numbering": 1,
   "nav_menu": {},
   "number_sections": true,
   "sideBar": true,
   "skip_h1_title": true,
   "title_cell": "Содержание",
   "title_sidebar": "Contents",
   "toc_cell": true,
   "toc_position": {
    "height": "calc(100% - 180px)",
    "left": "10px",
    "top": "150px",
    "width": "414.25px"
   },
   "toc_section_display": true,
   "toc_window_display": false
  }
 },
 "nbformat": 4,
 "nbformat_minor": 2
}
