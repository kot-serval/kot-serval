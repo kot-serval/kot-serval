{
 "cells": [
  {
   "cell_type": "markdown",
   "metadata": {},
   "source": [
    "# Определение выгодного тарифа для телеком компании."
   ]
  },
  {
   "cell_type": "markdown",
   "metadata": {},
   "source": [
    "\n",
    "\n",
    "## Описание проекта\n",
    "\n",
    "\n",
    "Проведен предварительный анализ использования тарифов на выборке клиентов, проанализировано поведение клиентов при использовании услуг оператора и рекомендованы оптимальные наборы услуг для пользователей. Проведена предобработка данных, их анализ. Проверены гипотезы о различии выручки абонентов разных тарифов и различии выручки абонентов из Москвы и других регионов.\n",
    "\n",
    "\n",
    "**Описание тарифов**\n",
    "\n",
    "*Тариф «Смарт»*\n",
    "+\tЕжемесячная плата: 550 рублей\n",
    "+\tВключено 500 минут разговора, 50 сообщений и 15 Гб интернет-трафика\n",
    "+\tСтоимость услуг сверх тарифного пакета: 1. минута разговора: 3 рубля («Мегалайн» всегда округляет вверх значения минут и мегабайтов. Если пользователь проговорил всего 1 секунду, в тарифе засчитывается целая минута); 2. сообщение: 3 рубля; 3. 1 Гб интернет-трафика: 200 рублей.\n",
    "\n",
    "*Тариф «Ультра»*\n",
    "+\tЕжемесячная плата: 1950 рублей\n",
    "+\tВключено 3000 минут разговора, 1000 сообщений и 30 Гб интернет-трафика\n",
    "+\tСтоимость услуг сверх тарифного пакета: 1. минута разговора: 1 рубль; 2. сообщение: 1 рубль; 3. 1 Гб интернет-трафика: 150 рублей.\n",
    "\n",
    "**Цель исследования:** \n",
    "На основе данных клиентов оператора сотовой связи проанализировать поведение клиентов и поиск оптимального тарифа.\n",
    "\n",
    "**Результаты исследования:** Проверить гипотезы\n",
    "\n",
    "•\tсредняя выручка пользователей тарифов «Ультра» и «Смарт» различаются;\n",
    "\n",
    "•\tсредняя выручка пользователей из Москвы отличается от выручки пользователей из других регионов."
   ]
  },
  {
   "cell_type": "markdown",
   "metadata": {},
   "source": [
    "## Подготовка данных"
   ]
  },
  {
   "cell_type": "markdown",
   "metadata": {},
   "source": [
    "### Импортируем библиотеки"
   ]
  },
  {
   "cell_type": "code",
   "execution_count": 1,
   "metadata": {},
   "outputs": [],
   "source": [
    "import pandas as pd\n",
    "import matplotlib.pyplot as plt\n",
    "import pylab as pl\n",
    "import math\n",
    "import numpy as np\n",
    "from scipy import stats as st"
   ]
  },
  {
   "cell_type": "markdown",
   "metadata": {},
   "source": [
    "### Задаем функции для повторяющихся действий."
   ]
  },
  {
   "cell_type": "code",
   "execution_count": 2,
   "metadata": {},
   "outputs": [],
   "source": [
    "def df_info(df: pd.DataFrame):\n",
    "    display(df.info())\n",
    "    display(df.describe().T)\n",
    "    display(df.sample(10))\n",
    "    print(f\"Количество дубликатов: {df.duplicated().sum()}\")\n",
    "\n",
    "\n",
    "def describe_column(df: pd.DataFrame, colname: str):\n",
    "    \n",
    "    print(f\"Количество пропусков: {sum(df[colname].isnull())}\")\n",
    "    print(f\"Тип переменной: {df.dtypes[colname]}\")\n",
    "    print('Максимальное значение', df[colname].max())\n",
    "    print('Минимальное значение', df[colname].min())\n",
    "\n",
    "def custom_hist(x: pd.Series, x_label: str):\n",
    "    plt.figure()\n",
    "    plt.hist(x, edgecolor=\"black\")\n",
    "    plt.grid()\n",
    "    pl.xlabel(x_label)\n",
    "    pl.ylabel(\"Количество\")\n",
    "    plt.show()"
   ]
  },
  {
   "cell_type": "markdown",
   "metadata": {},
   "source": [
    "### Загружаем данные"
   ]
  },
  {
   "cell_type": "code",
   "execution_count": 3,
   "metadata": {},
   "outputs": [],
   "source": [
    "df_calls = pd.read_csv ('/datasets/calls.csv')\n",
    "df_internet = pd.read_csv ('/datasets/internet.csv')\n",
    "df_messages = pd.read_csv ('/datasets/messages.csv')\n",
    "df_tariffs = pd.read_csv ('/datasets/tariffs.csv')\n",
    "df_users = pd.read_csv ('/datasets/users.csv')"
   ]
  },
  {
   "cell_type": "markdown",
   "metadata": {},
   "source": [
    "#### Смотрим содержание файла calls"
   ]
  },
  {
   "cell_type": "code",
   "execution_count": 4,
   "metadata": {},
   "outputs": [
    {
     "name": "stdout",
     "output_type": "stream",
     "text": [
      "<class 'pandas.core.frame.DataFrame'>\n",
      "RangeIndex: 202607 entries, 0 to 202606\n",
      "Data columns (total 4 columns):\n",
      "id           202607 non-null object\n",
      "call_date    202607 non-null object\n",
      "duration     202607 non-null float64\n",
      "user_id      202607 non-null int64\n",
      "dtypes: float64(1), int64(1), object(2)\n",
      "memory usage: 6.2+ MB\n"
     ]
    },
    {
     "data": {
      "text/plain": [
       "None"
      ]
     },
     "metadata": {},
     "output_type": "display_data"
    },
    {
     "data": {
      "text/html": [
       "<div>\n",
       "<style scoped>\n",
       "    .dataframe tbody tr th:only-of-type {\n",
       "        vertical-align: middle;\n",
       "    }\n",
       "\n",
       "    .dataframe tbody tr th {\n",
       "        vertical-align: top;\n",
       "    }\n",
       "\n",
       "    .dataframe thead th {\n",
       "        text-align: right;\n",
       "    }\n",
       "</style>\n",
       "<table border=\"1\" class=\"dataframe\">\n",
       "  <thead>\n",
       "    <tr style=\"text-align: right;\">\n",
       "      <th></th>\n",
       "      <th>count</th>\n",
       "      <th>mean</th>\n",
       "      <th>std</th>\n",
       "      <th>min</th>\n",
       "      <th>25%</th>\n",
       "      <th>50%</th>\n",
       "      <th>75%</th>\n",
       "      <th>max</th>\n",
       "    </tr>\n",
       "  </thead>\n",
       "  <tbody>\n",
       "    <tr>\n",
       "      <td>duration</td>\n",
       "      <td>202607.0</td>\n",
       "      <td>6.755887</td>\n",
       "      <td>5.843365</td>\n",
       "      <td>0.0</td>\n",
       "      <td>1.3</td>\n",
       "      <td>6.0</td>\n",
       "      <td>10.7</td>\n",
       "      <td>38.0</td>\n",
       "    </tr>\n",
       "    <tr>\n",
       "      <td>user_id</td>\n",
       "      <td>202607.0</td>\n",
       "      <td>1253.940619</td>\n",
       "      <td>144.722751</td>\n",
       "      <td>1000.0</td>\n",
       "      <td>1126.0</td>\n",
       "      <td>1260.0</td>\n",
       "      <td>1379.0</td>\n",
       "      <td>1499.0</td>\n",
       "    </tr>\n",
       "  </tbody>\n",
       "</table>\n",
       "</div>"
      ],
      "text/plain": [
       "             count         mean         std     min     25%     50%     75%  \\\n",
       "duration  202607.0     6.755887    5.843365     0.0     1.3     6.0    10.7   \n",
       "user_id   202607.0  1253.940619  144.722751  1000.0  1126.0  1260.0  1379.0   \n",
       "\n",
       "             max  \n",
       "duration    38.0  \n",
       "user_id   1499.0  "
      ]
     },
     "metadata": {},
     "output_type": "display_data"
    },
    {
     "data": {
      "text/html": [
       "<div>\n",
       "<style scoped>\n",
       "    .dataframe tbody tr th:only-of-type {\n",
       "        vertical-align: middle;\n",
       "    }\n",
       "\n",
       "    .dataframe tbody tr th {\n",
       "        vertical-align: top;\n",
       "    }\n",
       "\n",
       "    .dataframe thead th {\n",
       "        text-align: right;\n",
       "    }\n",
       "</style>\n",
       "<table border=\"1\" class=\"dataframe\">\n",
       "  <thead>\n",
       "    <tr style=\"text-align: right;\">\n",
       "      <th></th>\n",
       "      <th>id</th>\n",
       "      <th>call_date</th>\n",
       "      <th>duration</th>\n",
       "      <th>user_id</th>\n",
       "    </tr>\n",
       "  </thead>\n",
       "  <tbody>\n",
       "    <tr>\n",
       "      <td>50186</td>\n",
       "      <td>1124_405</td>\n",
       "      <td>2018-11-24</td>\n",
       "      <td>0.00</td>\n",
       "      <td>1124</td>\n",
       "    </tr>\n",
       "    <tr>\n",
       "      <td>36556</td>\n",
       "      <td>1092_212</td>\n",
       "      <td>2018-09-16</td>\n",
       "      <td>0.00</td>\n",
       "      <td>1092</td>\n",
       "    </tr>\n",
       "    <tr>\n",
       "      <td>47144</td>\n",
       "      <td>1118_433</td>\n",
       "      <td>2018-11-06</td>\n",
       "      <td>0.00</td>\n",
       "      <td>1118</td>\n",
       "    </tr>\n",
       "    <tr>\n",
       "      <td>68536</td>\n",
       "      <td>1173_269</td>\n",
       "      <td>2018-08-20</td>\n",
       "      <td>0.00</td>\n",
       "      <td>1173</td>\n",
       "    </tr>\n",
       "    <tr>\n",
       "      <td>70771</td>\n",
       "      <td>1176_551</td>\n",
       "      <td>2018-09-11</td>\n",
       "      <td>12.82</td>\n",
       "      <td>1176</td>\n",
       "    </tr>\n",
       "    <tr>\n",
       "      <td>41406</td>\n",
       "      <td>1101_449</td>\n",
       "      <td>2018-09-21</td>\n",
       "      <td>4.16</td>\n",
       "      <td>1101</td>\n",
       "    </tr>\n",
       "    <tr>\n",
       "      <td>69412</td>\n",
       "      <td>1174_452</td>\n",
       "      <td>2018-03-24</td>\n",
       "      <td>4.36</td>\n",
       "      <td>1174</td>\n",
       "    </tr>\n",
       "    <tr>\n",
       "      <td>112434</td>\n",
       "      <td>1289_292</td>\n",
       "      <td>2018-12-06</td>\n",
       "      <td>15.32</td>\n",
       "      <td>1289</td>\n",
       "    </tr>\n",
       "    <tr>\n",
       "      <td>48813</td>\n",
       "      <td>1121_470</td>\n",
       "      <td>2018-11-29</td>\n",
       "      <td>13.86</td>\n",
       "      <td>1121</td>\n",
       "    </tr>\n",
       "    <tr>\n",
       "      <td>17027</td>\n",
       "      <td>1047_69</td>\n",
       "      <td>2018-12-03</td>\n",
       "      <td>6.09</td>\n",
       "      <td>1047</td>\n",
       "    </tr>\n",
       "  </tbody>\n",
       "</table>\n",
       "</div>"
      ],
      "text/plain": [
       "              id   call_date  duration  user_id\n",
       "50186   1124_405  2018-11-24      0.00     1124\n",
       "36556   1092_212  2018-09-16      0.00     1092\n",
       "47144   1118_433  2018-11-06      0.00     1118\n",
       "68536   1173_269  2018-08-20      0.00     1173\n",
       "70771   1176_551  2018-09-11     12.82     1176\n",
       "41406   1101_449  2018-09-21      4.16     1101\n",
       "69412   1174_452  2018-03-24      4.36     1174\n",
       "112434  1289_292  2018-12-06     15.32     1289\n",
       "48813   1121_470  2018-11-29     13.86     1121\n",
       "17027    1047_69  2018-12-03      6.09     1047"
      ]
     },
     "metadata": {},
     "output_type": "display_data"
    },
    {
     "name": "stdout",
     "output_type": "stream",
     "text": [
      "Количество дубликатов: 0\n"
     ]
    }
   ],
   "source": [
    "df_info(df_calls)"
   ]
  },
  {
   "cell_type": "markdown",
   "metadata": {},
   "source": [
    "Меняем тип «call_date». Смотрим что получилось."
   ]
  },
  {
   "cell_type": "code",
   "execution_count": 5,
   "metadata": {
    "scrolled": true
   },
   "outputs": [
    {
     "name": "stdout",
     "output_type": "stream",
     "text": [
      "Количество пропусков: 0\n",
      "Тип переменной: datetime64[ns]\n",
      "Максимальное значение 2018-12-31 00:00:00\n",
      "Минимальное значение 2018-01-01 00:00:00\n"
     ]
    },
    {
     "name": "stderr",
     "output_type": "stream",
     "text": [
      "/opt/conda/lib/python3.7/site-packages/pandas/plotting/_matplotlib/converter.py:103: FutureWarning: Using an implicitly registered datetime converter for a matplotlib plotting method. The converter was registered by pandas on import. Future versions of pandas will require you to explicitly register matplotlib converters.\n",
      "\n",
      "To register the converters:\n",
      "\t>>> from pandas.plotting import register_matplotlib_converters\n",
      "\t>>> register_matplotlib_converters()\n",
      "  warnings.warn(msg, FutureWarning)\n"
     ]
    },
    {
     "data": {
      "image/png": "[encoded data removed]",
      "text/plain": [
       "<Figure size 432x288 with 1 Axes>"
      ]
     },
     "metadata": {
      "needs_background": "light"
     },
     "output_type": "display_data"
    }
   ],
   "source": [
    "temp_column = 'call_date'\n",
    "df_calls[temp_column] = pd.to_datetime(df_calls[temp_column], format='%Y-%m-%d')\n",
    "\n",
    "describe_column(df_calls, temp_column)\n",
    "custom_hist(df_calls[temp_column], 'Дата звонка')"
   ]
  },
  {
   "cell_type": "code",
   "execution_count": 6,
   "metadata": {},
   "outputs": [
    {
     "name": "stdout",
     "output_type": "stream",
     "text": [
      "Количество пропусков: 0\n",
      "Тип переменной: float64\n",
      "Максимальное значение 38.0\n",
      "Минимальное значение 0.0\n"
     ]
    },
    {
     "data": {
      "image/png": "[encoded data removed]",
      "text/plain": [
       "<Figure size 432x288 with 1 Axes>"
      ]
     },
     "metadata": {
      "needs_background": "light"
     },
     "output_type": "display_data"
    }
   ],
   "source": [
    "temp_column = 'duration'\n",
    "\n",
    "describe_column(df_calls, temp_column)\n",
    "custom_hist(df_calls[temp_column], 'Длительность звонка в минутах')"
   ]
  },
  {
   "cell_type": "markdown",
   "metadata": {},
   "source": [
    "#### Смотрим содержание файла internet"
   ]
  },
  {
   "cell_type": "code",
   "execution_count": 7,
   "metadata": {},
   "outputs": [
    {
     "name": "stdout",
     "output_type": "stream",
     "text": [
      "<class 'pandas.core.frame.DataFrame'>\n",
      "RangeIndex: 149396 entries, 0 to 149395\n",
      "Data columns (total 5 columns):\n",
      "Unnamed: 0      149396 non-null int64\n",
      "id              149396 non-null object\n",
      "mb_used         149396 non-null float64\n",
      "session_date    149396 non-null object\n",
      "user_id         149396 non-null int64\n",
      "dtypes: float64(1), int64(2), object(2)\n",
      "memory usage: 5.7+ MB\n"
     ]
    },
    {
     "data": {
      "text/plain": [
       "None"
      ]
     },
     "metadata": {},
     "output_type": "display_data"
    },
    {
     "data": {
      "text/html": [
       "<div>\n",
       "<style scoped>\n",
       "    .dataframe tbody tr th:only-of-type {\n",
       "        vertical-align: middle;\n",
       "    }\n",
       "\n",
       "    .dataframe tbody tr th {\n",
       "        vertical-align: top;\n",
       "    }\n",
       "\n",
       "    .dataframe thead th {\n",
       "        text-align: right;\n",
       "    }\n",
       "</style>\n",
       "<table border=\"1\" class=\"dataframe\">\n",
       "  <thead>\n",
       "    <tr style=\"text-align: right;\">\n",
       "      <th></th>\n",
       "      <th>count</th>\n",
       "      <th>mean</th>\n",
       "      <th>std</th>\n",
       "      <th>min</th>\n",
       "      <th>25%</th>\n",
       "      <th>50%</th>\n",
       "      <th>75%</th>\n",
       "      <th>max</th>\n",
       "    </tr>\n",
       "  </thead>\n",
       "  <tbody>\n",
       "    <tr>\n",
       "      <td>Unnamed: 0</td>\n",
       "      <td>149396.0</td>\n",
       "      <td>74697.500000</td>\n",
       "      <td>43127.054745</td>\n",
       "      <td>0.0</td>\n",
       "      <td>37348.7500</td>\n",
       "      <td>74697.500</td>\n",
       "      <td>112046.2500</td>\n",
       "      <td>149395.00</td>\n",
       "    </tr>\n",
       "    <tr>\n",
       "      <td>mb_used</td>\n",
       "      <td>149396.0</td>\n",
       "      <td>370.192426</td>\n",
       "      <td>278.300951</td>\n",
       "      <td>0.0</td>\n",
       "      <td>138.1875</td>\n",
       "      <td>348.015</td>\n",
       "      <td>559.5525</td>\n",
       "      <td>1724.83</td>\n",
       "    </tr>\n",
       "    <tr>\n",
       "      <td>user_id</td>\n",
       "      <td>149396.0</td>\n",
       "      <td>1252.099842</td>\n",
       "      <td>144.050823</td>\n",
       "      <td>1000.0</td>\n",
       "      <td>1130.0000</td>\n",
       "      <td>1251.000</td>\n",
       "      <td>1380.0000</td>\n",
       "      <td>1499.00</td>\n",
       "    </tr>\n",
       "  </tbody>\n",
       "</table>\n",
       "</div>"
      ],
      "text/plain": [
       "               count          mean           std     min         25%  \\\n",
       "Unnamed: 0  149396.0  74697.500000  43127.054745     0.0  37348.7500   \n",
       "mb_used     149396.0    370.192426    278.300951     0.0    138.1875   \n",
       "user_id     149396.0   1252.099842    144.050823  1000.0   1130.0000   \n",
       "\n",
       "                  50%          75%        max  \n",
       "Unnamed: 0  74697.500  112046.2500  149395.00  \n",
       "mb_used       348.015     559.5525    1724.83  \n",
       "user_id      1251.000    1380.0000    1499.00  "
      ]
     },
     "metadata": {},
     "output_type": "display_data"
    },
    {
     "data": {
      "text/html": [
       "<div>\n",
       "<style scoped>\n",
       "    .dataframe tbody tr th:only-of-type {\n",
       "        vertical-align: middle;\n",
       "    }\n",
       "\n",
       "    .dataframe tbody tr th {\n",
       "        vertical-align: top;\n",
       "    }\n",
       "\n",
       "    .dataframe thead th {\n",
       "        text-align: right;\n",
       "    }\n",
       "</style>\n",
       "<table border=\"1\" class=\"dataframe\">\n",
       "  <thead>\n",
       "    <tr style=\"text-align: right;\">\n",
       "      <th></th>\n",
       "      <th>Unnamed: 0</th>\n",
       "      <th>id</th>\n",
       "      <th>mb_used</th>\n",
       "      <th>session_date</th>\n",
       "      <th>user_id</th>\n",
       "    </tr>\n",
       "  </thead>\n",
       "  <tbody>\n",
       "    <tr>\n",
       "      <td>38264</td>\n",
       "      <td>38264</td>\n",
       "      <td>1134_319</td>\n",
       "      <td>335.26</td>\n",
       "      <td>2018-03-20</td>\n",
       "      <td>1134</td>\n",
       "    </tr>\n",
       "    <tr>\n",
       "      <td>71326</td>\n",
       "      <td>71326</td>\n",
       "      <td>1241_230</td>\n",
       "      <td>0.00</td>\n",
       "      <td>2018-05-13</td>\n",
       "      <td>1241</td>\n",
       "    </tr>\n",
       "    <tr>\n",
       "      <td>144085</td>\n",
       "      <td>144085</td>\n",
       "      <td>1481_439</td>\n",
       "      <td>399.68</td>\n",
       "      <td>2018-09-13</td>\n",
       "      <td>1481</td>\n",
       "    </tr>\n",
       "    <tr>\n",
       "      <td>85224</td>\n",
       "      <td>85224</td>\n",
       "      <td>1290_254</td>\n",
       "      <td>664.20</td>\n",
       "      <td>2018-06-10</td>\n",
       "      <td>1290</td>\n",
       "    </tr>\n",
       "    <tr>\n",
       "      <td>105607</td>\n",
       "      <td>105607</td>\n",
       "      <td>1357_34</td>\n",
       "      <td>323.81</td>\n",
       "      <td>2018-09-05</td>\n",
       "      <td>1357</td>\n",
       "    </tr>\n",
       "    <tr>\n",
       "      <td>99943</td>\n",
       "      <td>99943</td>\n",
       "      <td>1336_30</td>\n",
       "      <td>393.65</td>\n",
       "      <td>2018-12-31</td>\n",
       "      <td>1336</td>\n",
       "    </tr>\n",
       "    <tr>\n",
       "      <td>10291</td>\n",
       "      <td>10291</td>\n",
       "      <td>1035_126</td>\n",
       "      <td>399.94</td>\n",
       "      <td>2018-08-01</td>\n",
       "      <td>1035</td>\n",
       "    </tr>\n",
       "    <tr>\n",
       "      <td>84378</td>\n",
       "      <td>84378</td>\n",
       "      <td>1286_60</td>\n",
       "      <td>187.34</td>\n",
       "      <td>2018-12-13</td>\n",
       "      <td>1286</td>\n",
       "    </tr>\n",
       "    <tr>\n",
       "      <td>76221</td>\n",
       "      <td>76221</td>\n",
       "      <td>1255_417</td>\n",
       "      <td>611.90</td>\n",
       "      <td>2018-04-08</td>\n",
       "      <td>1255</td>\n",
       "    </tr>\n",
       "    <tr>\n",
       "      <td>86816</td>\n",
       "      <td>86816</td>\n",
       "      <td>1294_158</td>\n",
       "      <td>484.82</td>\n",
       "      <td>2018-07-27</td>\n",
       "      <td>1294</td>\n",
       "    </tr>\n",
       "  </tbody>\n",
       "</table>\n",
       "</div>"
      ],
      "text/plain": [
       "        Unnamed: 0        id  mb_used session_date  user_id\n",
       "38264        38264  1134_319   335.26   2018-03-20     1134\n",
       "71326        71326  1241_230     0.00   2018-05-13     1241\n",
       "144085      144085  1481_439   399.68   2018-09-13     1481\n",
       "85224        85224  1290_254   664.20   2018-06-10     1290\n",
       "105607      105607   1357_34   323.81   2018-09-05     1357\n",
       "99943        99943   1336_30   393.65   2018-12-31     1336\n",
       "10291        10291  1035_126   399.94   2018-08-01     1035\n",
       "84378        84378   1286_60   187.34   2018-12-13     1286\n",
       "76221        76221  1255_417   611.90   2018-04-08     1255\n",
       "86816        86816  1294_158   484.82   2018-07-27     1294"
      ]
     },
     "metadata": {},
     "output_type": "display_data"
    },
    {
     "name": "stdout",
     "output_type": "stream",
     "text": [
      "Количество дубликатов: 0\n"
     ]
    }
   ],
   "source": [
    "df_info(df_internet)"
   ]
  },
  {
   "cell_type": "markdown",
   "metadata": {},
   "source": [
    "Меняем тип «call_date». Смотрим что получилось."
   ]
  },
  {
   "cell_type": "code",
   "execution_count": 8,
   "metadata": {},
   "outputs": [
    {
     "name": "stdout",
     "output_type": "stream",
     "text": [
      "Количество пропусков: 0\n",
      "Тип переменной: datetime64[ns]\n",
      "Максимальное значение 2018-12-31 00:00:00\n",
      "Минимальное значение 2018-01-01 00:00:00\n"
     ]
    },
    {
     "data": {
      "image/png": "[encoded data removed]",
      "text/plain": [
       "<Figure size 432x288 with 1 Axes>"
      ]
     },
     "metadata": {
      "needs_background": "light"
     },
     "output_type": "display_data"
    }
   ],
   "source": [
    "temp_column = 'session_date'\n",
    "df_internet[temp_column] = pd.to_datetime(df_internet[temp_column], format='%Y-%m-%d')\n",
    "\n",
    "describe_column(df_internet, temp_column)\n",
    "custom_hist(df_internet[temp_column], 'Дата интернет-сессии')"
   ]
  },
  {
   "cell_type": "code",
   "execution_count": 9,
   "metadata": {},
   "outputs": [
    {
     "name": "stdout",
     "output_type": "stream",
     "text": [
      "Количество пропусков: 0\n",
      "Тип переменной: float64\n",
      "Максимальное значение 1724.83\n",
      "Минимальное значение 0.0\n"
     ]
    },
    {
     "data": {
      "image/png": "[encoded data removed]",
      "text/plain": [
       "<Figure size 432x288 with 1 Axes>"
      ]
     },
     "metadata": {
      "needs_background": "light"
     },
     "output_type": "display_data"
    }
   ],
   "source": [
    "temp_column = 'mb_used'\n",
    "\n",
    "describe_column(df_internet, temp_column)\n",
    "custom_hist(df_internet[temp_column], 'Объём потраченного за сессию интернет-трафика (в мегабайтах)')"
   ]
  },
  {
   "cell_type": "code",
   "execution_count": 10,
   "metadata": {},
   "outputs": [
    {
     "name": "stdout",
     "output_type": "stream",
     "text": [
      "Количество пропусков: 0\n",
      "Тип переменной: int64\n",
      "Максимальное значение 149395\n",
      "Минимальное значение 0\n"
     ]
    },
    {
     "data": {
      "image/png": "[encoded data removed]",
      "text/plain": [
       "<Figure size 432x288 with 1 Axes>"
      ]
     },
     "metadata": {
      "needs_background": "light"
     },
     "output_type": "display_data"
    }
   ],
   "source": [
    "temp_column = 'Unnamed: 0'\n",
    "\n",
    "describe_column(df_internet, temp_column)\n",
    "custom_hist(df_internet[temp_column], 'Неизвестный столбец')"
   ]
  },
  {
   "cell_type": "markdown",
   "metadata": {},
   "source": [
    "#### Смотрим содержание файла messages"
   ]
  },
  {
   "cell_type": "code",
   "execution_count": 11,
   "metadata": {},
   "outputs": [
    {
     "name": "stdout",
     "output_type": "stream",
     "text": [
      "<class 'pandas.core.frame.DataFrame'>\n",
      "RangeIndex: 123036 entries, 0 to 123035\n",
      "Data columns (total 3 columns):\n",
      "id              123036 non-null object\n",
      "message_date    123036 non-null object\n",
      "user_id         123036 non-null int64\n",
      "dtypes: int64(1), object(2)\n",
      "memory usage: 2.8+ MB\n"
     ]
    },
    {
     "data": {
      "text/plain": [
       "None"
      ]
     },
     "metadata": {},
     "output_type": "display_data"
    },
    {
     "data": {
      "text/html": [
       "<div>\n",
       "<style scoped>\n",
       "    .dataframe tbody tr th:only-of-type {\n",
       "        vertical-align: middle;\n",
       "    }\n",
       "\n",
       "    .dataframe tbody tr th {\n",
       "        vertical-align: top;\n",
       "    }\n",
       "\n",
       "    .dataframe thead th {\n",
       "        text-align: right;\n",
       "    }\n",
       "</style>\n",
       "<table border=\"1\" class=\"dataframe\">\n",
       "  <thead>\n",
       "    <tr style=\"text-align: right;\">\n",
       "      <th></th>\n",
       "      <th>count</th>\n",
       "      <th>mean</th>\n",
       "      <th>std</th>\n",
       "      <th>min</th>\n",
       "      <th>25%</th>\n",
       "      <th>50%</th>\n",
       "      <th>75%</th>\n",
       "      <th>max</th>\n",
       "    </tr>\n",
       "  </thead>\n",
       "  <tbody>\n",
       "    <tr>\n",
       "      <td>user_id</td>\n",
       "      <td>123036.0</td>\n",
       "      <td>1256.98941</td>\n",
       "      <td>143.523967</td>\n",
       "      <td>1000.0</td>\n",
       "      <td>1134.0</td>\n",
       "      <td>1271.0</td>\n",
       "      <td>1381.0</td>\n",
       "      <td>1499.0</td>\n",
       "    </tr>\n",
       "  </tbody>\n",
       "</table>\n",
       "</div>"
      ],
      "text/plain": [
       "            count        mean         std     min     25%     50%     75%  \\\n",
       "user_id  123036.0  1256.98941  143.523967  1000.0  1134.0  1271.0  1381.0   \n",
       "\n",
       "            max  \n",
       "user_id  1499.0  "
      ]
     },
     "metadata": {},
     "output_type": "display_data"
    },
    {
     "data": {
      "text/html": [
       "<div>\n",
       "<style scoped>\n",
       "    .dataframe tbody tr th:only-of-type {\n",
       "        vertical-align: middle;\n",
       "    }\n",
       "\n",
       "    .dataframe tbody tr th {\n",
       "        vertical-align: top;\n",
       "    }\n",
       "\n",
       "    .dataframe thead th {\n",
       "        text-align: right;\n",
       "    }\n",
       "</style>\n",
       "<table border=\"1\" class=\"dataframe\">\n",
       "  <thead>\n",
       "    <tr style=\"text-align: right;\">\n",
       "      <th></th>\n",
       "      <th>id</th>\n",
       "      <th>message_date</th>\n",
       "      <th>user_id</th>\n",
       "    </tr>\n",
       "  </thead>\n",
       "  <tbody>\n",
       "    <tr>\n",
       "      <td>65938</td>\n",
       "      <td>1282_370</td>\n",
       "      <td>2018-10-10</td>\n",
       "      <td>1282</td>\n",
       "    </tr>\n",
       "    <tr>\n",
       "      <td>4727</td>\n",
       "      <td>1019_31</td>\n",
       "      <td>2018-07-18</td>\n",
       "      <td>1019</td>\n",
       "    </tr>\n",
       "    <tr>\n",
       "      <td>31620</td>\n",
       "      <td>1142_139</td>\n",
       "      <td>2018-12-28</td>\n",
       "      <td>1142</td>\n",
       "    </tr>\n",
       "    <tr>\n",
       "      <td>58374</td>\n",
       "      <td>1257_166</td>\n",
       "      <td>2018-06-20</td>\n",
       "      <td>1257</td>\n",
       "    </tr>\n",
       "    <tr>\n",
       "      <td>33502</td>\n",
       "      <td>1146_300</td>\n",
       "      <td>2018-12-27</td>\n",
       "      <td>1146</td>\n",
       "    </tr>\n",
       "    <tr>\n",
       "      <td>96531</td>\n",
       "      <td>1396_182</td>\n",
       "      <td>2018-09-04</td>\n",
       "      <td>1396</td>\n",
       "    </tr>\n",
       "    <tr>\n",
       "      <td>100752</td>\n",
       "      <td>1412_54</td>\n",
       "      <td>2018-10-09</td>\n",
       "      <td>1412</td>\n",
       "    </tr>\n",
       "    <tr>\n",
       "      <td>3810</td>\n",
       "      <td>1015_75</td>\n",
       "      <td>2018-07-02</td>\n",
       "      <td>1015</td>\n",
       "    </tr>\n",
       "    <tr>\n",
       "      <td>22708</td>\n",
       "      <td>1094_156</td>\n",
       "      <td>2018-05-31</td>\n",
       "      <td>1094</td>\n",
       "    </tr>\n",
       "    <tr>\n",
       "      <td>53412</td>\n",
       "      <td>1237_21</td>\n",
       "      <td>2018-11-07</td>\n",
       "      <td>1237</td>\n",
       "    </tr>\n",
       "  </tbody>\n",
       "</table>\n",
       "</div>"
      ],
      "text/plain": [
       "              id message_date  user_id\n",
       "65938   1282_370   2018-10-10     1282\n",
       "4727     1019_31   2018-07-18     1019\n",
       "31620   1142_139   2018-12-28     1142\n",
       "58374   1257_166   2018-06-20     1257\n",
       "33502   1146_300   2018-12-27     1146\n",
       "96531   1396_182   2018-09-04     1396\n",
       "100752   1412_54   2018-10-09     1412\n",
       "3810     1015_75   2018-07-02     1015\n",
       "22708   1094_156   2018-05-31     1094\n",
       "53412    1237_21   2018-11-07     1237"
      ]
     },
     "metadata": {},
     "output_type": "display_data"
    },
    {
     "name": "stdout",
     "output_type": "stream",
     "text": [
      "Количество дубликатов: 0\n"
     ]
    }
   ],
   "source": [
    "df_info(df_messages)"
   ]
  },
  {
   "cell_type": "markdown",
   "metadata": {},
   "source": [
    "Меняем тип «call_date». Смотрим что получилось."
   ]
  },
  {
   "cell_type": "code",
   "execution_count": 12,
   "metadata": {},
   "outputs": [
    {
     "name": "stdout",
     "output_type": "stream",
     "text": [
      "Количество пропусков: 0\n",
      "Тип переменной: datetime64[ns]\n",
      "Максимальное значение 2018-12-31 00:00:00\n",
      "Минимальное значение 2018-01-02 00:00:00\n"
     ]
    },
    {
     "data": {
      "image/png": "[encoded data removed]",
      "text/plain": [
       "<Figure size 432x288 with 1 Axes>"
      ]
     },
     "metadata": {
      "needs_background": "light"
     },
     "output_type": "display_data"
    }
   ],
   "source": [
    "temp_column = 'message_date'\n",
    "df_messages[temp_column] = pd.to_datetime(df_messages[temp_column], format='%Y-%m-%d')\n",
    "\n",
    "describe_column(df_messages, temp_column)\n",
    "custom_hist(df_messages[temp_column], 'Дата сообщения')"
   ]
  },
  {
   "cell_type": "markdown",
   "metadata": {},
   "source": [
    "#### Смотрим содержание файла tariffs"
   ]
  },
  {
   "cell_type": "code",
   "execution_count": 13,
   "metadata": {},
   "outputs": [
    {
     "name": "stdout",
     "output_type": "stream",
     "text": [
      "<class 'pandas.core.frame.DataFrame'>\n",
      "RangeIndex: 2 entries, 0 to 1\n",
      "Data columns (total 8 columns):\n",
      "messages_included        2 non-null int64\n",
      "mb_per_month_included    2 non-null int64\n",
      "minutes_included         2 non-null int64\n",
      "rub_monthly_fee          2 non-null int64\n",
      "rub_per_gb               2 non-null int64\n",
      "rub_per_message          2 non-null int64\n",
      "rub_per_minute           2 non-null int64\n",
      "tariff_name              2 non-null object\n",
      "dtypes: int64(7), object(1)\n",
      "memory usage: 256.0+ bytes\n"
     ]
    },
    {
     "data": {
      "text/html": [
       "<div>\n",
       "<style scoped>\n",
       "    .dataframe tbody tr th:only-of-type {\n",
       "        vertical-align: middle;\n",
       "    }\n",
       "\n",
       "    .dataframe tbody tr th {\n",
       "        vertical-align: top;\n",
       "    }\n",
       "\n",
       "    .dataframe thead th {\n",
       "        text-align: right;\n",
       "    }\n",
       "</style>\n",
       "<table border=\"1\" class=\"dataframe\">\n",
       "  <thead>\n",
       "    <tr style=\"text-align: right;\">\n",
       "      <th></th>\n",
       "      <th>messages_included</th>\n",
       "      <th>mb_per_month_included</th>\n",
       "      <th>minutes_included</th>\n",
       "      <th>rub_monthly_fee</th>\n",
       "      <th>rub_per_gb</th>\n",
       "      <th>rub_per_message</th>\n",
       "      <th>rub_per_minute</th>\n",
       "      <th>tariff_name</th>\n",
       "    </tr>\n",
       "  </thead>\n",
       "  <tbody>\n",
       "    <tr>\n",
       "      <td>0</td>\n",
       "      <td>50</td>\n",
       "      <td>15360</td>\n",
       "      <td>500</td>\n",
       "      <td>550</td>\n",
       "      <td>200</td>\n",
       "      <td>3</td>\n",
       "      <td>3</td>\n",
       "      <td>smart</td>\n",
       "    </tr>\n",
       "    <tr>\n",
       "      <td>1</td>\n",
       "      <td>1000</td>\n",
       "      <td>30720</td>\n",
       "      <td>3000</td>\n",
       "      <td>1950</td>\n",
       "      <td>150</td>\n",
       "      <td>1</td>\n",
       "      <td>1</td>\n",
       "      <td>ultra</td>\n",
       "    </tr>\n",
       "  </tbody>\n",
       "</table>\n",
       "</div>"
      ],
      "text/plain": [
       "   messages_included  mb_per_month_included  minutes_included  \\\n",
       "0                 50                  15360               500   \n",
       "1               1000                  30720              3000   \n",
       "\n",
       "   rub_monthly_fee  rub_per_gb  rub_per_message  rub_per_minute tariff_name  \n",
       "0              550         200                3               3       smart  \n",
       "1             1950         150                1               1       ultra  "
      ]
     },
     "execution_count": 13,
     "metadata": {},
     "output_type": "execute_result"
    }
   ],
   "source": [
    "df_tariffs.info()\n",
    "df_tariffs"
   ]
  },
  {
   "cell_type": "markdown",
   "metadata": {},
   "source": [
    "#### Смотрим содержание файла users"
   ]
  },
  {
   "cell_type": "code",
   "execution_count": 14,
   "metadata": {},
   "outputs": [
    {
     "name": "stdout",
     "output_type": "stream",
     "text": [
      "<class 'pandas.core.frame.DataFrame'>\n",
      "RangeIndex: 500 entries, 0 to 499\n",
      "Data columns (total 8 columns):\n",
      "user_id       500 non-null int64\n",
      "age           500 non-null int64\n",
      "churn_date    38 non-null object\n",
      "city          500 non-null object\n",
      "first_name    500 non-null object\n",
      "last_name     500 non-null object\n",
      "reg_date      500 non-null object\n",
      "tariff        500 non-null object\n",
      "dtypes: int64(2), object(6)\n",
      "memory usage: 31.4+ KB\n"
     ]
    },
    {
     "data": {
      "text/plain": [
       "None"
      ]
     },
     "metadata": {},
     "output_type": "display_data"
    },
    {
     "data": {
      "text/html": [
       "<div>\n",
       "<style scoped>\n",
       "    .dataframe tbody tr th:only-of-type {\n",
       "        vertical-align: middle;\n",
       "    }\n",
       "\n",
       "    .dataframe tbody tr th {\n",
       "        vertical-align: top;\n",
       "    }\n",
       "\n",
       "    .dataframe thead th {\n",
       "        text-align: right;\n",
       "    }\n",
       "</style>\n",
       "<table border=\"1\" class=\"dataframe\">\n",
       "  <thead>\n",
       "    <tr style=\"text-align: right;\">\n",
       "      <th></th>\n",
       "      <th>count</th>\n",
       "      <th>mean</th>\n",
       "      <th>std</th>\n",
       "      <th>min</th>\n",
       "      <th>25%</th>\n",
       "      <th>50%</th>\n",
       "      <th>75%</th>\n",
       "      <th>max</th>\n",
       "    </tr>\n",
       "  </thead>\n",
       "  <tbody>\n",
       "    <tr>\n",
       "      <td>user_id</td>\n",
       "      <td>500.0</td>\n",
       "      <td>1249.500</td>\n",
       "      <td>144.481833</td>\n",
       "      <td>1000.0</td>\n",
       "      <td>1124.75</td>\n",
       "      <td>1249.5</td>\n",
       "      <td>1374.25</td>\n",
       "      <td>1499.0</td>\n",
       "    </tr>\n",
       "    <tr>\n",
       "      <td>age</td>\n",
       "      <td>500.0</td>\n",
       "      <td>46.588</td>\n",
       "      <td>16.667630</td>\n",
       "      <td>18.0</td>\n",
       "      <td>32.00</td>\n",
       "      <td>46.0</td>\n",
       "      <td>62.00</td>\n",
       "      <td>75.0</td>\n",
       "    </tr>\n",
       "  </tbody>\n",
       "</table>\n",
       "</div>"
      ],
      "text/plain": [
       "         count      mean         std     min      25%     50%      75%     max\n",
       "user_id  500.0  1249.500  144.481833  1000.0  1124.75  1249.5  1374.25  1499.0\n",
       "age      500.0    46.588   16.667630    18.0    32.00    46.0    62.00    75.0"
      ]
     },
     "metadata": {},
     "output_type": "display_data"
    },
    {
     "data": {
      "text/html": [
       "<div>\n",
       "<style scoped>\n",
       "    .dataframe tbody tr th:only-of-type {\n",
       "        vertical-align: middle;\n",
       "    }\n",
       "\n",
       "    .dataframe tbody tr th {\n",
       "        vertical-align: top;\n",
       "    }\n",
       "\n",
       "    .dataframe thead th {\n",
       "        text-align: right;\n",
       "    }\n",
       "</style>\n",
       "<table border=\"1\" class=\"dataframe\">\n",
       "  <thead>\n",
       "    <tr style=\"text-align: right;\">\n",
       "      <th></th>\n",
       "      <th>user_id</th>\n",
       "      <th>age</th>\n",
       "      <th>churn_date</th>\n",
       "      <th>city</th>\n",
       "      <th>first_name</th>\n",
       "      <th>last_name</th>\n",
       "      <th>reg_date</th>\n",
       "      <th>tariff</th>\n",
       "    </tr>\n",
       "  </thead>\n",
       "  <tbody>\n",
       "    <tr>\n",
       "      <td>75</td>\n",
       "      <td>1075</td>\n",
       "      <td>25</td>\n",
       "      <td>NaN</td>\n",
       "      <td>Екатеринбург</td>\n",
       "      <td>Рафаэль</td>\n",
       "      <td>Никулин</td>\n",
       "      <td>2018-11-02</td>\n",
       "      <td>smart</td>\n",
       "    </tr>\n",
       "    <tr>\n",
       "      <td>332</td>\n",
       "      <td>1332</td>\n",
       "      <td>23</td>\n",
       "      <td>NaN</td>\n",
       "      <td>Москва</td>\n",
       "      <td>Джозефина</td>\n",
       "      <td>Тетерина</td>\n",
       "      <td>2018-05-28</td>\n",
       "      <td>smart</td>\n",
       "    </tr>\n",
       "    <tr>\n",
       "      <td>211</td>\n",
       "      <td>1211</td>\n",
       "      <td>62</td>\n",
       "      <td>NaN</td>\n",
       "      <td>Калуга</td>\n",
       "      <td>Арина</td>\n",
       "      <td>Азимова</td>\n",
       "      <td>2018-06-20</td>\n",
       "      <td>smart</td>\n",
       "    </tr>\n",
       "    <tr>\n",
       "      <td>130</td>\n",
       "      <td>1130</td>\n",
       "      <td>58</td>\n",
       "      <td>NaN</td>\n",
       "      <td>Тюмень</td>\n",
       "      <td>Инара</td>\n",
       "      <td>Крюкова</td>\n",
       "      <td>2018-04-01</td>\n",
       "      <td>smart</td>\n",
       "    </tr>\n",
       "    <tr>\n",
       "      <td>236</td>\n",
       "      <td>1236</td>\n",
       "      <td>30</td>\n",
       "      <td>NaN</td>\n",
       "      <td>Москва</td>\n",
       "      <td>Леон</td>\n",
       "      <td>Демидов</td>\n",
       "      <td>2018-12-22</td>\n",
       "      <td>smart</td>\n",
       "    </tr>\n",
       "    <tr>\n",
       "      <td>482</td>\n",
       "      <td>1482</td>\n",
       "      <td>68</td>\n",
       "      <td>NaN</td>\n",
       "      <td>Санкт-Петербург</td>\n",
       "      <td>Алина</td>\n",
       "      <td>Блохина</td>\n",
       "      <td>2018-02-28</td>\n",
       "      <td>smart</td>\n",
       "    </tr>\n",
       "    <tr>\n",
       "      <td>27</td>\n",
       "      <td>1027</td>\n",
       "      <td>62</td>\n",
       "      <td>NaN</td>\n",
       "      <td>Петрозаводск</td>\n",
       "      <td>Владислав</td>\n",
       "      <td>Авдеев</td>\n",
       "      <td>2018-04-10</td>\n",
       "      <td>smart</td>\n",
       "    </tr>\n",
       "    <tr>\n",
       "      <td>277</td>\n",
       "      <td>1277</td>\n",
       "      <td>30</td>\n",
       "      <td>NaN</td>\n",
       "      <td>Новосибирск</td>\n",
       "      <td>Валерия</td>\n",
       "      <td>Андреенко</td>\n",
       "      <td>2018-02-19</td>\n",
       "      <td>ultra</td>\n",
       "    </tr>\n",
       "    <tr>\n",
       "      <td>123</td>\n",
       "      <td>1123</td>\n",
       "      <td>74</td>\n",
       "      <td>NaN</td>\n",
       "      <td>Краснодар</td>\n",
       "      <td>Вениамин</td>\n",
       "      <td>Устинов</td>\n",
       "      <td>2018-03-18</td>\n",
       "      <td>smart</td>\n",
       "    </tr>\n",
       "    <tr>\n",
       "      <td>316</td>\n",
       "      <td>1316</td>\n",
       "      <td>42</td>\n",
       "      <td>NaN</td>\n",
       "      <td>Улан-Удэ</td>\n",
       "      <td>Аурелия</td>\n",
       "      <td>Алымова</td>\n",
       "      <td>2018-11-29</td>\n",
       "      <td>smart</td>\n",
       "    </tr>\n",
       "  </tbody>\n",
       "</table>\n",
       "</div>"
      ],
      "text/plain": [
       "     user_id  age churn_date             city first_name  last_name  \\\n",
       "75      1075   25        NaN     Екатеринбург    Рафаэль    Никулин   \n",
       "332     1332   23        NaN           Москва  Джозефина   Тетерина   \n",
       "211     1211   62        NaN           Калуга      Арина    Азимова   \n",
       "130     1130   58        NaN           Тюмень      Инара    Крюкова   \n",
       "236     1236   30        NaN           Москва       Леон    Демидов   \n",
       "482     1482   68        NaN  Санкт-Петербург      Алина    Блохина   \n",
       "27      1027   62        NaN     Петрозаводск  Владислав     Авдеев   \n",
       "277     1277   30        NaN      Новосибирск    Валерия  Андреенко   \n",
       "123     1123   74        NaN        Краснодар   Вениамин    Устинов   \n",
       "316     1316   42        NaN         Улан-Удэ    Аурелия    Алымова   \n",
       "\n",
       "       reg_date tariff  \n",
       "75   2018-11-02  smart  \n",
       "332  2018-05-28  smart  \n",
       "211  2018-06-20  smart  \n",
       "130  2018-04-01  smart  \n",
       "236  2018-12-22  smart  \n",
       "482  2018-02-28  smart  \n",
       "27   2018-04-10  smart  \n",
       "277  2018-02-19  ultra  \n",
       "123  2018-03-18  smart  \n",
       "316  2018-11-29  smart  "
      ]
     },
     "metadata": {},
     "output_type": "display_data"
    },
    {
     "name": "stdout",
     "output_type": "stream",
     "text": [
      "Количество дубликатов: 0\n"
     ]
    }
   ],
   "source": [
    "df_info(df_users)"
   ]
  },
  {
   "cell_type": "markdown",
   "metadata": {},
   "source": [
    "Меняем тип «reg_date». Смотрим что получилось."
   ]
  },
  {
   "cell_type": "code",
   "execution_count": 15,
   "metadata": {},
   "outputs": [
    {
     "name": "stdout",
     "output_type": "stream",
     "text": [
      "Количество пропусков: 0\n",
      "Тип переменной: datetime64[ns]\n",
      "Максимальное значение 2018-12-31 00:00:00\n",
      "Минимальное значение 2018-01-01 00:00:00\n"
     ]
    },
    {
     "data": {
      "image/png": "[encoded data removed]",
      "text/plain": [
       "<Figure size 432x288 with 1 Axes>"
      ]
     },
     "metadata": {
      "needs_background": "light"
     },
     "output_type": "display_data"
    }
   ],
   "source": [
    "temp_column = 'reg_date'\n",
    "df_users[temp_column] = pd.to_datetime(df_users[temp_column], format='%Y-%m-%d')\n",
    "\n",
    "describe_column(df_users, temp_column)\n",
    "custom_hist(df_users[temp_column], 'Дата подключения тарифа')"
   ]
  },
  {
   "cell_type": "markdown",
   "metadata": {},
   "source": [
    "Меняем тип «churn_date». Смотрим что получилось."
   ]
  },
  {
   "cell_type": "code",
   "execution_count": 16,
   "metadata": {},
   "outputs": [
    {
     "name": "stdout",
     "output_type": "stream",
     "text": [
      "Количество пропусков: 462\n",
      "Тип переменной: datetime64[ns]\n",
      "Максимальное значение 2018-12-30 00:00:00\n",
      "Минимальное значение 2018-08-17 00:00:00\n"
     ]
    },
    {
     "data": {
      "text/html": [
       "<div>\n",
       "<style scoped>\n",
       "    .dataframe tbody tr th:only-of-type {\n",
       "        vertical-align: middle;\n",
       "    }\n",
       "\n",
       "    .dataframe tbody tr th {\n",
       "        vertical-align: top;\n",
       "    }\n",
       "\n",
       "    .dataframe thead th {\n",
       "        text-align: right;\n",
       "    }\n",
       "</style>\n",
       "<table border=\"1\" class=\"dataframe\">\n",
       "  <thead>\n",
       "    <tr style=\"text-align: right;\">\n",
       "      <th></th>\n",
       "      <th>user_id</th>\n",
       "      <th>age</th>\n",
       "      <th>churn_date</th>\n",
       "      <th>city</th>\n",
       "      <th>first_name</th>\n",
       "      <th>last_name</th>\n",
       "      <th>reg_date</th>\n",
       "      <th>tariff</th>\n",
       "    </tr>\n",
       "  </thead>\n",
       "  <tbody>\n",
       "    <tr>\n",
       "      <td>19</td>\n",
       "      <td>1019</td>\n",
       "      <td>63</td>\n",
       "      <td>2018-10-05</td>\n",
       "      <td>Томск</td>\n",
       "      <td>Игнатий</td>\n",
       "      <td>Круглов</td>\n",
       "      <td>2018-05-16</td>\n",
       "      <td>ultra</td>\n",
       "    </tr>\n",
       "    <tr>\n",
       "      <td>20</td>\n",
       "      <td>1020</td>\n",
       "      <td>59</td>\n",
       "      <td>2018-12-18</td>\n",
       "      <td>Чита</td>\n",
       "      <td>Тала</td>\n",
       "      <td>Костина</td>\n",
       "      <td>2018-10-22</td>\n",
       "      <td>smart</td>\n",
       "    </tr>\n",
       "    <tr>\n",
       "      <td>34</td>\n",
       "      <td>1034</td>\n",
       "      <td>66</td>\n",
       "      <td>2018-11-21</td>\n",
       "      <td>Вологда</td>\n",
       "      <td>Святослав</td>\n",
       "      <td>Бондарев</td>\n",
       "      <td>2018-08-26</td>\n",
       "      <td>smart</td>\n",
       "    </tr>\n",
       "    <tr>\n",
       "      <td>50</td>\n",
       "      <td>1050</td>\n",
       "      <td>44</td>\n",
       "      <td>2018-10-03</td>\n",
       "      <td>Тюмень</td>\n",
       "      <td>Рузана</td>\n",
       "      <td>Аничкина</td>\n",
       "      <td>2018-06-16</td>\n",
       "      <td>ultra</td>\n",
       "    </tr>\n",
       "    <tr>\n",
       "      <td>51</td>\n",
       "      <td>1051</td>\n",
       "      <td>37</td>\n",
       "      <td>2018-10-14</td>\n",
       "      <td>Москва</td>\n",
       "      <td>Кристина</td>\n",
       "      <td>Сомова</td>\n",
       "      <td>2018-05-28</td>\n",
       "      <td>smart</td>\n",
       "    </tr>\n",
       "  </tbody>\n",
       "</table>\n",
       "</div>"
      ],
      "text/plain": [
       "    user_id  age churn_date     city first_name last_name   reg_date tariff\n",
       "19     1019   63 2018-10-05    Томск    Игнатий   Круглов 2018-05-16  ultra\n",
       "20     1020   59 2018-12-18     Чита       Тала   Костина 2018-10-22  smart\n",
       "34     1034   66 2018-11-21  Вологда  Святослав  Бондарев 2018-08-26  smart\n",
       "50     1050   44 2018-10-03   Тюмень     Рузана  Аничкина 2018-06-16  ultra\n",
       "51     1051   37 2018-10-14   Москва   Кристина    Сомова 2018-05-28  smart"
      ]
     },
     "execution_count": 16,
     "metadata": {},
     "output_type": "execute_result"
    }
   ],
   "source": [
    "temp_column = 'churn_date'\n",
    "df_users[temp_column] = pd.to_datetime(df_users[temp_column], format='%Y-%m-%d')\n",
    "\n",
    "describe_column(df_users, temp_column)\n",
    "df_users.query('churn_date != \"NaT\"').head(5)"
   ]
  },
  {
   "cell_type": "markdown",
   "metadata": {},
   "source": [
    "Проверяем что в тарифах только 2 тарифа"
   ]
  },
  {
   "cell_type": "code",
   "execution_count": 17,
   "metadata": {},
   "outputs": [
    {
     "data": {
      "text/plain": [
       "array(['ultra', 'smart'], dtype=object)"
      ]
     },
     "execution_count": 17,
     "metadata": {},
     "output_type": "execute_result"
    }
   ],
   "source": [
    "df_users['tariff'].unique()"
   ]
  },
  {
   "cell_type": "markdown",
   "metadata": {},
   "source": [
    "### Вывод.\n",
    "\n",
    "\n",
    "Данные загружены и проверены. Там, где это было необходимо изменен тип данных.\n"
   ]
  },
  {
   "cell_type": "markdown",
   "metadata": {},
   "source": [
    "## Считаем основные показатели по пользователям с детализацией по месяцам"
   ]
  },
  {
   "cell_type": "markdown",
   "metadata": {},
   "source": [
    "### Подготовка данных"
   ]
  },
  {
   "cell_type": "markdown",
   "metadata": {},
   "source": [
    "#### Готовим данные по звонкам"
   ]
  },
  {
   "cell_type": "code",
   "execution_count": 18,
   "metadata": {},
   "outputs": [],
   "source": [
    "df_calls['month'] = pd.DatetimeIndex(df_calls['call_date']).month # Добавляем месяц числом\n",
    "df_calls['duration_ceil'] = np.ceil(df_calls['duration']) # Округляем длительность звонка в большую сторону\n",
    "# Делаем временную сводную таблицу\n",
    "temp_df_calls = df_calls.pivot_table(index=['user_id','month'], values='duration_ceil', aggfunc=['count','sum']).reset_index()\n"
   ]
  },
  {
   "cell_type": "markdown",
   "metadata": {},
   "source": [
    "#### Готовим данные по sms"
   ]
  },
  {
   "cell_type": "code",
   "execution_count": 19,
   "metadata": {},
   "outputs": [],
   "source": [
    "df_messages['month'] = pd.DatetimeIndex(df_messages['message_date']).month # Добавляем месяц числом\n",
    "# Делаем временную сводную таблицу\n",
    "temp_df_messages = df_messages.pivot_table(index=['user_id','month'], values='id', aggfunc=['count']).reset_index()"
   ]
  },
  {
   "cell_type": "markdown",
   "metadata": {},
   "source": [
    "#### Готовим данные по трафику"
   ]
  },
  {
   "cell_type": "code",
   "execution_count": 20,
   "metadata": {},
   "outputs": [],
   "source": [
    "df_internet['month'] = pd.DatetimeIndex(df_internet['session_date']).month # Добавляем месяц числом\n",
    "df_internet['mb_used_ceil'] = np.ceil(df_internet['mb_used']) # Округляем объём потраченного за сессию интернет-трафика\n",
    "# Делаем временную сводную таблицу\n",
    "temp_df_internet = df_internet.pivot_table(index=['user_id','month'], values='mb_used_ceil', aggfunc=['sum']).reset_index()"
   ]
  },
  {
   "cell_type": "markdown",
   "metadata": {},
   "source": [
    "#### Объедениям все в одну таблицу"
   ]
  },
  {
   "cell_type": "code",
   "execution_count": 21,
   "metadata": {},
   "outputs": [
    {
     "name": "stderr",
     "output_type": "stream",
     "text": [
      "/opt/conda/lib/python3.7/site-packages/pandas/core/generic.py:3946: PerformanceWarning: dropping on a non-lexsorted multi-index without a level parameter may impact performance.\n",
      "  new_axis = axis.drop(labels, errors=errors)\n",
      "/opt/conda/lib/python3.7/site-packages/pandas/core/reshape/merge.py:617: UserWarning: merging between different levels can give an unintended result (2 levels on the left, 1 on the right)\n",
      "  warnings.warn(msg, UserWarning)\n"
     ]
    }
   ],
   "source": [
    "temp_df = temp_df_calls.merge(temp_df_messages, on=['user_id','month'], how='outer')\n",
    "temp_df = temp_df.merge(temp_df_internet, on=['user_id','month'], how='outer')\n",
    "temp_df = temp_df.fillna(0) # обнуляем NaN\n",
    "temp_df = temp_df.merge(df_users[['user_id', 'tariff']], on='user_id', how='left')\n",
    "df_tariffs = df_tariffs.rename (columns={'tariff_name': 'tariff'})\n",
    "temp_df = temp_df.merge(df_tariffs, on='tariff', how='left')"
   ]
  },
  {
   "cell_type": "markdown",
   "metadata": {},
   "source": [
    "### Считаем выручку с пользователя"
   ]
  },
  {
   "cell_type": "code",
   "execution_count": 22,
   "metadata": {},
   "outputs": [],
   "source": [
    "temp_df.set_axis(['user_id','user_id_2','month','count_duration_ceil','sum_duration_ceil'\n",
    "                  ,'count_sms','sum_mb_used_ceil','tariff','messages_included','mb_per_month_included'\n",
    "                  ,'minutes_included','rub_monthly_fee','rub_per_gb','rub_per_message'\n",
    "                  ,'rub_per_minute'],axis = 'columns',inplace = True)\n",
    "\n",
    "def monthly_revenue(df: pd.DataFrame):\n",
    "    m_t = 0\n",
    "    m_t += df['rub_monthly_fee'] # Стоимость тарифного плана\n",
    "    # Стоимость минут сверх тарифного плана\n",
    "    m_t += ((abs(df['minutes_included'] - df['sum_duration_ceil']) \n",
    "           - (df['minutes_included'] - df['sum_duration_ceil']))/2) * df[\"rub_per_minute\"]\n",
    "    # Стоимость sms сверх тарифного плана\n",
    "    m_t += ((abs(df['messages_included'] - df['count_sms']) \n",
    "           - (df['messages_included'] - df['count_sms']))/2) * df[\"rub_per_message\"]\n",
    "    # Стоимость трафика сверх тарифного плана\n",
    "    m_t += np.ceil(((abs(df['mb_per_month_included'] - df['sum_mb_used_ceil']) \n",
    "           - (df['mb_per_month_included'] - df['sum_mb_used_ceil']))/2)/1024) * df[\"rub_per_gb\"]\n",
    "    return m_t\n",
    " \n",
    "temp_df['monthly_revenue'] = temp_df.apply(monthly_revenue, axis=1)\n"
   ]
  },
  {
   "cell_type": "markdown",
   "metadata": {},
   "source": [
    "### Выводим результат"
   ]
  },
  {
   "cell_type": "code",
   "execution_count": 23,
   "metadata": {},
   "outputs": [
    {
     "data": {
      "text/html": [
       "<div>\n",
       "<style scoped>\n",
       "    .dataframe tbody tr th:only-of-type {\n",
       "        vertical-align: middle;\n",
       "    }\n",
       "\n",
       "    .dataframe tbody tr th {\n",
       "        vertical-align: top;\n",
       "    }\n",
       "\n",
       "    .dataframe thead th {\n",
       "        text-align: right;\n",
       "    }\n",
       "</style>\n",
       "<table border=\"1\" class=\"dataframe\">\n",
       "  <thead>\n",
       "    <tr style=\"text-align: right;\">\n",
       "      <th></th>\n",
       "      <th>Идентификатор пользователя</th>\n",
       "      <th>Месяц</th>\n",
       "      <th>Количество сделанных звонков (шт.)</th>\n",
       "      <th>Израсходовано минут разговора (мин.)</th>\n",
       "      <th>Количество отправленных сообщений (шт.)</th>\n",
       "      <th>Объем израсходованного трафика (Mb)</th>\n",
       "      <th>Помесячная выручка с пользователя (руб.)</th>\n",
       "    </tr>\n",
       "  </thead>\n",
       "  <tbody>\n",
       "    <tr>\n",
       "      <td>0</td>\n",
       "      <td>1000</td>\n",
       "      <td>5</td>\n",
       "      <td>22.0</td>\n",
       "      <td>159.0</td>\n",
       "      <td>22.0</td>\n",
       "      <td>2256.0</td>\n",
       "      <td>1950.0</td>\n",
       "    </tr>\n",
       "    <tr>\n",
       "      <td>1</td>\n",
       "      <td>1000</td>\n",
       "      <td>6</td>\n",
       "      <td>43.0</td>\n",
       "      <td>172.0</td>\n",
       "      <td>60.0</td>\n",
       "      <td>23257.0</td>\n",
       "      <td>1950.0</td>\n",
       "    </tr>\n",
       "    <tr>\n",
       "      <td>2</td>\n",
       "      <td>1000</td>\n",
       "      <td>7</td>\n",
       "      <td>47.0</td>\n",
       "      <td>340.0</td>\n",
       "      <td>75.0</td>\n",
       "      <td>14016.0</td>\n",
       "      <td>1950.0</td>\n",
       "    </tr>\n",
       "    <tr>\n",
       "      <td>3</td>\n",
       "      <td>1000</td>\n",
       "      <td>8</td>\n",
       "      <td>52.0</td>\n",
       "      <td>408.0</td>\n",
       "      <td>81.0</td>\n",
       "      <td>14070.0</td>\n",
       "      <td>1950.0</td>\n",
       "    </tr>\n",
       "    <tr>\n",
       "      <td>4</td>\n",
       "      <td>1000</td>\n",
       "      <td>9</td>\n",
       "      <td>58.0</td>\n",
       "      <td>466.0</td>\n",
       "      <td>57.0</td>\n",
       "      <td>14581.0</td>\n",
       "      <td>1950.0</td>\n",
       "    </tr>\n",
       "    <tr>\n",
       "      <td>...</td>\n",
       "      <td>...</td>\n",
       "      <td>...</td>\n",
       "      <td>...</td>\n",
       "      <td>...</td>\n",
       "      <td>...</td>\n",
       "      <td>...</td>\n",
       "      <td>...</td>\n",
       "    </tr>\n",
       "    <tr>\n",
       "      <td>3209</td>\n",
       "      <td>1489</td>\n",
       "      <td>9</td>\n",
       "      <td>0.0</td>\n",
       "      <td>0.0</td>\n",
       "      <td>32.0</td>\n",
       "      <td>17232.0</td>\n",
       "      <td>950.0</td>\n",
       "    </tr>\n",
       "    <tr>\n",
       "      <td>3210</td>\n",
       "      <td>1489</td>\n",
       "      <td>10</td>\n",
       "      <td>0.0</td>\n",
       "      <td>0.0</td>\n",
       "      <td>21.0</td>\n",
       "      <td>19588.0</td>\n",
       "      <td>1550.0</td>\n",
       "    </tr>\n",
       "    <tr>\n",
       "      <td>3211</td>\n",
       "      <td>1489</td>\n",
       "      <td>11</td>\n",
       "      <td>0.0</td>\n",
       "      <td>0.0</td>\n",
       "      <td>20.0</td>\n",
       "      <td>17516.0</td>\n",
       "      <td>1150.0</td>\n",
       "    </tr>\n",
       "    <tr>\n",
       "      <td>3212</td>\n",
       "      <td>1489</td>\n",
       "      <td>12</td>\n",
       "      <td>0.0</td>\n",
       "      <td>0.0</td>\n",
       "      <td>35.0</td>\n",
       "      <td>17341.0</td>\n",
       "      <td>950.0</td>\n",
       "    </tr>\n",
       "    <tr>\n",
       "      <td>3213</td>\n",
       "      <td>1476</td>\n",
       "      <td>4</td>\n",
       "      <td>0.0</td>\n",
       "      <td>0.0</td>\n",
       "      <td>0.0</td>\n",
       "      <td>531.0</td>\n",
       "      <td>1950.0</td>\n",
       "    </tr>\n",
       "  </tbody>\n",
       "</table>\n",
       "<p>3214 rows × 7 columns</p>\n",
       "</div>"
      ],
      "text/plain": [
       "      Идентификатор пользователя  Месяц  Количество сделанных звонков (шт.)  \\\n",
       "0                           1000      5                                22.0   \n",
       "1                           1000      6                                43.0   \n",
       "2                           1000      7                                47.0   \n",
       "3                           1000      8                                52.0   \n",
       "4                           1000      9                                58.0   \n",
       "...                          ...    ...                                 ...   \n",
       "3209                        1489      9                                 0.0   \n",
       "3210                        1489     10                                 0.0   \n",
       "3211                        1489     11                                 0.0   \n",
       "3212                        1489     12                                 0.0   \n",
       "3213                        1476      4                                 0.0   \n",
       "\n",
       "      Израсходовано минут разговора (мин.)  \\\n",
       "0                                    159.0   \n",
       "1                                    172.0   \n",
       "2                                    340.0   \n",
       "3                                    408.0   \n",
       "4                                    466.0   \n",
       "...                                    ...   \n",
       "3209                                   0.0   \n",
       "3210                                   0.0   \n",
       "3211                                   0.0   \n",
       "3212                                   0.0   \n",
       "3213                                   0.0   \n",
       "\n",
       "      Количество отправленных сообщений (шт.)  \\\n",
       "0                                        22.0   \n",
       "1                                        60.0   \n",
       "2                                        75.0   \n",
       "3                                        81.0   \n",
       "4                                        57.0   \n",
       "...                                       ...   \n",
       "3209                                     32.0   \n",
       "3210                                     21.0   \n",
       "3211                                     20.0   \n",
       "3212                                     35.0   \n",
       "3213                                      0.0   \n",
       "\n",
       "      Объем израсходованного трафика (Mb)  \\\n",
       "0                                  2256.0   \n",
       "1                                 23257.0   \n",
       "2                                 14016.0   \n",
       "3                                 14070.0   \n",
       "4                                 14581.0   \n",
       "...                                   ...   \n",
       "3209                              17232.0   \n",
       "3210                              19588.0   \n",
       "3211                              17516.0   \n",
       "3212                              17341.0   \n",
       "3213                                531.0   \n",
       "\n",
       "      Помесячная выручка с пользователя (руб.)  \n",
       "0                                       1950.0  \n",
       "1                                       1950.0  \n",
       "2                                       1950.0  \n",
       "3                                       1950.0  \n",
       "4                                       1950.0  \n",
       "...                                        ...  \n",
       "3209                                     950.0  \n",
       "3210                                    1550.0  \n",
       "3211                                    1150.0  \n",
       "3212                                     950.0  \n",
       "3213                                    1950.0  \n",
       "\n",
       "[3214 rows x 7 columns]"
      ]
     },
     "execution_count": 23,
     "metadata": {},
     "output_type": "execute_result"
    }
   ],
   "source": [
    "# Убираем технические столбцы\n",
    "temp_df = temp_df[['user_id','month','count_duration_ceil','sum_duration_ceil','count_sms','sum_mb_used_ceil','monthly_revenue','tariff' ]]\n",
    "# Переименовываем столбцы\n",
    "temp_df.set_axis(['Идентификатор пользователя','Месяц','Количество сделанных звонков (шт.)','Израсходовано минут разговора (мин.)','Количество отправленных сообщений (шт.)'\n",
    "                  ,'Объем израсходованного трафика (Mb)','Помесячная выручка с пользователя (руб.)', 'tariff'],axis = 'columns',inplace = True)\n",
    "# Выводим результат\n",
    "temp_df.loc[:, 'Идентификатор пользователя': 'Помесячная выручка с пользователя (руб.)']"
   ]
  },
  {
   "cell_type": "markdown",
   "metadata": {},
   "source": [
    "### Вывод.\n",
    "\n",
    "Для каждого пользователя были вычислены:\n",
    "\n",
    "\n",
    "•\tколичество сделанных звонков и израсходованных минут разговора по месяцам;\n",
    "\n",
    "•\tколичество отправленных сообщений по месяцам;\n",
    "\n",
    "•\tобъем израсходованного интернет-трафика по месяцам;\n",
    "\n",
    "•\tпомесячная выручка.\n",
    "\n"
   ]
  },
  {
   "cell_type": "markdown",
   "metadata": {},
   "source": [
    "## Анализ данных"
   ]
  },
  {
   "cell_type": "markdown",
   "metadata": {},
   "source": [
    "Задаем функции для гистограмм"
   ]
  },
  {
   "cell_type": "code",
   "execution_count": 24,
   "metadata": {},
   "outputs": [],
   "source": [
    "def custom_hist_2(temp_column: str):    \n",
    "    (temp_df.query('tariff == \"ultra\"')  # Тариф ultra \n",
    "     [temp_column]).hist( bins = 80, label='Тариф ultra', alpha=.7, color='red', figsize=(14,8))\n",
    "    (temp_df.query('tariff == \"smart\"')  # Тариф smart \n",
    "     [temp_column]).hist(bins = 80, label='Тариф smart', alpha=.7, color='yellow', figsize=(14,8)) \n",
    "    pl.title(temp_column)\n",
    "    pl.xlabel(temp_column)\n",
    "    pl.ylabel(\"Количество пользователей\")\n",
    "    pl.title('Данные за период с января по декабрь 2018 г.')\n",
    "    plt.legend()\n",
    "    plt.show()"
   ]
  },
  {
   "cell_type": "markdown",
   "metadata": {},
   "source": [
    "### Анализируем продолжительность разговора."
   ]
  },
  {
   "cell_type": "code",
   "execution_count": 25,
   "metadata": {},
   "outputs": [
    {
     "name": "stdout",
     "output_type": "stream",
     "text": [
      "Среднее количество минут разговора в месяц для тарифного плана «ultra» равно: 526.62\n",
      "Среднее количество минут разговора в месяц для тарифного плана «smart» равно: 417.93\n",
      "Дисперсия параметра «количество минут разговора в месяц» для тарифного плана «ultra» равна: 100771.22\n",
      "Дисперсия параметра «количество минут разговора в месяц» для тарифного плана «smart» равна: 36203.07\n",
      "Стандартное отклонение параметра «количество минут разговора в месяц» для тарифного плана «ultra» равно: 317.44\n",
      "Стандартное отклонение параметра «количество минут разговора в месяц» для тарифного плана «smart» равно: 190.27\n"
     ]
    },
    {
     "data": {
      "image/png": "[encoded data removed]",
      "text/plain": [
       "<Figure size 1008x576 with 1 Axes>"
      ]
     },
     "metadata": {
      "needs_background": "light"
     },
     "output_type": "display_data"
    }
   ],
   "source": [
    "temp_column = 'Израсходовано минут разговора (мин.)'\n",
    "\n",
    "print ('Среднее количество минут разговора в месяц для тарифного плана «ultra» равно:',\n",
    "       (temp_df.query('tariff == \"ultra\"')[temp_column]).mean().round(2))\n",
    "print ('Среднее количество минут разговора в месяц для тарифного плана «smart» равно:',\n",
    "       (temp_df.query('tariff == \"smart\"')[temp_column]).mean().round(2))    \n",
    "    \n",
    "print ('Дисперсия параметра «количество минут разговора в месяц» для тарифного плана «ultra» равна:',\n",
    "       np.var(temp_df.query('tariff == \"ultra\"')[temp_column]).round(2))\n",
    "print ('Дисперсия параметра «количество минут разговора в месяц» для тарифного плана «smart» равна:',\n",
    "       np.var(temp_df.query('tariff == \"smart\"')[temp_column]).round(2))\n",
    "\n",
    "print ('Стандартное отклонение параметра «количество минут разговора в месяц» для тарифного плана «ultra» равно:',\n",
    "       np.std(temp_df.query('tariff == \"ultra\"')[temp_column]).round(2))\n",
    "print ('Стандартное отклонение параметра «количество минут разговора в месяц» для тарифного плана «smart» равно:',\n",
    "       np.std(temp_df.query('tariff == \"smart\"')[temp_column]).round(2))\n",
    "\n",
    "custom_hist_2(temp_column)"
   ]
  },
  {
   "cell_type": "markdown",
   "metadata": {},
   "source": [
    "В среднем пользователи тарифа \"ultra\" разговаривают больше, но и разброс по длительности разговоров у пользователей тарифа \"ultra\" существенно выше."
   ]
  },
  {
   "cell_type": "markdown",
   "metadata": {},
   "source": [
    "### Анализируем количество отправленных сообщений."
   ]
  },
  {
   "cell_type": "code",
   "execution_count": 26,
   "metadata": {},
   "outputs": [
    {
     "name": "stdout",
     "output_type": "stream",
     "text": [
      "Среднее количество отправленных сообщений в месяц для тарифного плана «ultra» равно: 49.36\n",
      "Среднее количество отправленных сообщений в месяц для тарифного плана «smart» равно: 33.38\n",
      "Дисперсия параметра «количество отправленных сообщений в месяц» для тарифного плана «ultra» равна: 2282.95\n",
      "Дисперсия параметра «количество отправленных сообщений в месяц» для тарифного плана «smart» равна: 796.46\n",
      "Стандартное отклонение параметра «количество отправленных сообщений в месяц» для тарифного плана «ultra» равно: 47.78\n",
      "Стандартное отклонение параметра «количество отправленных сообщений в месяц» для тарифного плана «smart» равно: 28.22\n"
     ]
    },
    {
     "data": {
      "image/png": "[encoded data removed]",
      "text/plain": [
       "<Figure size 1008x576 with 1 Axes>"
      ]
     },
     "metadata": {
      "needs_background": "light"
     },
     "output_type": "display_data"
    }
   ],
   "source": [
    "temp_column = 'Количество отправленных сообщений (шт.)'\n",
    "\n",
    "print ('Среднее количество отправленных сообщений в месяц для тарифного плана «ultra» равно:',\n",
    "       (temp_df.query('tariff == \"ultra\"')[temp_column]).mean().round(2))\n",
    "print ('Среднее количество отправленных сообщений в месяц для тарифного плана «smart» равно:',\n",
    "       (temp_df.query('tariff == \"smart\"')[temp_column]).mean().round(2))    \n",
    "    \n",
    "print ('Дисперсия параметра «количество отправленных сообщений в месяц» для тарифного плана «ultra» равна:',\n",
    "       np.var(temp_df.query('tariff == \"ultra\"')[temp_column]).round(2))\n",
    "print ('Дисперсия параметра «количество отправленных сообщений в месяц» для тарифного плана «smart» равна:',\n",
    "       np.var(temp_df.query('tariff == \"smart\"')[temp_column]).round(2))\n",
    "\n",
    "print ('Стандартное отклонение параметра «количество отправленных сообщений в месяц» для тарифного плана «ultra» равно:',\n",
    "       np.std(temp_df.query('tariff == \"ultra\"')[temp_column]).round(2))\n",
    "print ('Стандартное отклонение параметра «количество отправленных сообщений в месяц» для тарифного плана «smart» равно:',\n",
    "       np.std(temp_df.query('tariff == \"smart\"')[temp_column]).round(2))\n",
    "\n",
    "custom_hist_2(temp_column)"
   ]
  },
  {
   "cell_type": "code",
   "execution_count": 41,
   "metadata": {},
   "outputs": [
    {
     "data": {
      "text/html": [
       "<div>\n",
       "<style scoped>\n",
       "    .dataframe tbody tr th:only-of-type {\n",
       "        vertical-align: middle;\n",
       "    }\n",
       "\n",
       "    .dataframe tbody tr th {\n",
       "        vertical-align: top;\n",
       "    }\n",
       "\n",
       "    .dataframe thead tr th {\n",
       "        text-align: left;\n",
       "    }\n",
       "\n",
       "    .dataframe thead tr:last-of-type th {\n",
       "        text-align: right;\n",
       "    }\n",
       "</style>\n",
       "<table border=\"1\" class=\"dataframe\">\n",
       "  <thead>\n",
       "    <tr>\n",
       "      <th></th>\n",
       "      <th colspan=\"3\" halign=\"left\">Количество отправленных сообщений (шт.)</th>\n",
       "    </tr>\n",
       "    <tr>\n",
       "      <th></th>\n",
       "      <th>mean</th>\n",
       "      <th>var</th>\n",
       "      <th>std</th>\n",
       "    </tr>\n",
       "    <tr>\n",
       "      <th>tariff</th>\n",
       "      <th></th>\n",
       "      <th></th>\n",
       "      <th></th>\n",
       "    </tr>\n",
       "  </thead>\n",
       "  <tbody>\n",
       "    <tr>\n",
       "      <td>smart</td>\n",
       "      <td>33.384029</td>\n",
       "      <td>796.812958</td>\n",
       "      <td>28.227876</td>\n",
       "    </tr>\n",
       "    <tr>\n",
       "      <td>ultra</td>\n",
       "      <td>49.363452</td>\n",
       "      <td>2285.266143</td>\n",
       "      <td>47.804457</td>\n",
       "    </tr>\n",
       "  </tbody>\n",
       "</table>\n",
       "</div>"
      ],
      "text/plain": [
       "       Количество отправленных сообщений (шт.)                        \n",
       "                                          mean          var        std\n",
       "tariff                                                                \n",
       "smart                                33.384029   796.812958  28.227876\n",
       "ultra                                49.363452  2285.266143  47.804457"
      ]
     },
     "execution_count": 41,
     "metadata": {},
     "output_type": "execute_result"
    }
   ],
   "source": [
    "temp_df.groupby('tariff').agg({temp_column: ['mean', 'var', 'std']})"
   ]
  },
  {
   "cell_type": "markdown",
   "metadata": {},
   "source": [
    "В среднем пользователи тарифа \"ultra\" отправляют больше сообщений, но многие пользователи обоих тарифов вообще не пользуются sms."
   ]
  },
  {
   "cell_type": "markdown",
   "metadata": {},
   "source": [
    "### Анализируем объем израсходованного трафика."
   ]
  },
  {
   "cell_type": "code",
   "execution_count": null,
   "metadata": {},
   "outputs": [],
   "source": [
    "temp_column = 'Объем израсходованного трафика (Mb)'\n",
    "\n",
    "print ('Средний объем израсходованного трафика в месяц для тарифного плана «ultra» равен:',\n",
    "       (temp_df.query('tariff == \"ultra\"')[temp_column]).mean().round(2))\n",
    "print ('Средний объем израсходованного трафика в месяц для тарифного плана «smart» равен:',\n",
    "       (temp_df.query('tariff == \"smart\"')[temp_column]).mean().round(2))    \n",
    "    \n",
    "print ('Дисперсия параметра «Объем израсходованного трафика» для тарифного плана «ultra» равна:',\n",
    "       np.var(temp_df.query('tariff == \"ultra\"')[temp_column]).round(2))\n",
    "print ('Дисперсия параметра «Объем израсходованного трафика» для тарифного плана «smart» равна:',\n",
    "       np.var(temp_df.query('tariff == \"smart\"')[temp_column]).round(2))\n",
    "\n",
    "print ('Стандартное отклонение параметра «Объем израсходованного трафика» для тарифного плана «ultra» равно:',\n",
    "       np.std(temp_df.query('tariff == \"ultra\"')[temp_column]).round(2))\n",
    "print ('Стандартное отклонение параметра «Объем израсходованного трафика» для тарифного плана «smart» равно:',\n",
    "       np.std(temp_df.query('tariff == \"smart\"')[temp_column]).round(2))\n",
    "\n",
    "custom_hist_2(temp_column)\n"
   ]
  },
  {
   "cell_type": "markdown",
   "metadata": {},
   "source": [
    "В среднем пользователи тарифа \"ultra\" используют больше трафика. У пользователей тарифа \"smart\" виден явный пик на значении 15 Gb, что обусловлено границей тарифного плана."
   ]
  },
  {
   "cell_type": "markdown",
   "metadata": {},
   "source": [
    "### Анализируем выручку с пользователя в месяц."
   ]
  },
  {
   "cell_type": "code",
   "execution_count": null,
   "metadata": {},
   "outputs": [],
   "source": [
    "temp_column = 'Помесячная выручка с пользователя (руб.)'\n",
    "\n",
    "print ('Среднее значение выручки с пользователя в месяц для тарифного плана «ultra» равно:',\n",
    "       (temp_df.query('tariff == \"ultra\"')[temp_column]).mean().round(2))\n",
    "print ('Среднее значение выручки с пользователя в месяц для тарифного плана «smart» равно:',\n",
    "       (temp_df.query('tariff == \"smart\"')[temp_column]).mean().round(2))    \n",
    "    \n",
    "print ('Дисперсия параметра «выручка с пользователя в месяц» для тарифного плана «ultra» равна:',\n",
    "       np.var(temp_df.query('tariff == \"ultra\"')[temp_column]).round(2))\n",
    "print ('Дисперсия параметра «выручка с пользователя в месяц» для тарифного плана «smart» равна:',\n",
    "       np.var(temp_df.query('tariff == \"smart\"')[temp_column]).round(2))\n",
    "\n",
    "print ('Стандартное отклонение параметра «выручка с пользователя в месяц» для тарифного плана «ultra» равно:',\n",
    "       np.std(temp_df.query('tariff == \"ultra\"')[temp_column]).round(2))\n",
    "print ('Стандартное отклонение параметра «выручка с пользователя в месяц» для тарифного плана «smart» равно:',\n",
    "       np.std(temp_df.query('tariff == \"smart\"')[temp_column]).round(2))\n",
    "\n",
    "custom_hist_2(temp_column)"
   ]
  },
  {
   "cell_type": "markdown",
   "metadata": {},
   "source": [
    "В среднем выручка с пользователя тарифа \"ultra\" выше, но практически не выходит за границы ежемесячной абонентской платы. Пользователей тарифа \"smart\" напротив, активно пользуются услугами, выходящими за рамки лимитов тарифного плана."
   ]
  },
  {
   "cell_type": "markdown",
   "metadata": {},
   "source": [
    "### Вывод.\n",
    "\n",
    "Поведение пользователей тарифов \"smart\" и \"ultra\" существенно различается:\n",
    "\n",
    "\n",
    "•\tВ среднем пользователи тарифа \"ultra\" разговаривают больше, но и разброс по длительности разговоров у пользователей тарифа \"ultra\" существенно выше;\n",
    "\n",
    "•\tВ среднем пользователи тарифа \"ultra\" отправляют больше сообщений, но многие пользователи обоих тарифов вообще не пользуются sms;\n",
    "\n",
    "•\tВ среднем пользователи тарифа \"ultra\" используют больше трафика. У пользователей тарифа \"smart\" виден явный пик на значении 15 Gb, что обусловлено границей тарифного плана;\n",
    "\n",
    "•\tВ среднем выручка с пользователя тарифа \"ultra\" выше, но практически не выходит за границы ежемесячной абонентской платы.\n"
   ]
  },
  {
   "cell_type": "markdown",
   "metadata": {},
   "source": [
    "## Проверка гипотез"
   ]
  },
  {
   "cell_type": "markdown",
   "metadata": {},
   "source": [
    "### Формулируем первую гипотезу:\n",
    "\n",
    "H₀: средние выручки пользователей тарифов «Ультра» и «Смарт» равны;\n",
    "\n",
    "H₁: средняя выручка пользователей тарифов «Ультра» и «Смарт» различаются.\n",
    "\n",
    "Были выбраны такие формулировки гипотез так как нулевая гипотеза всегда формулируется исходя из равенства.\n"
   ]
  },
  {
   "cell_type": "code",
   "execution_count": null,
   "metadata": {},
   "outputs": [],
   "source": [
    "temp_column = 'Помесячная выручка с пользователя (руб.)'\n",
    "alpha =0.05\n",
    "alpha_2 =0.0001\n",
    "\n",
    "print ('Среднее значение выручки с пользователя в месяц для тарифного плана «ultra» равно:',\n",
    "       (temp_df.query('tariff == \"ultra\"')[temp_column]).mean().round(2))\n",
    "print ('Среднее значение выручки с пользователя в месяц для тарифного плана «smart» равно:',\n",
    "       (temp_df.query('tariff == \"smart\"')[temp_column]).mean().round(2))  \n",
    "\n",
    "\n",
    "results = st.ttest_ind(\n",
    "    (temp_df.query('tariff == \"ultra\"')[temp_column]), \n",
    "    (temp_df.query('tariff == \"smart\"')[temp_column]))\n",
    "\n",
    "\n",
    "print('p-значение:', results.pvalue)\n",
    "\n",
    "if results.pvalue < alpha:\n",
    "    print(\"Отвергаем нулевую гипотезу при alpha = 5%\")\n",
    "else:\n",
    "    print(\"Не получилось отвергнуть нулевую гипотезу при alpha = 5%\")\n",
    "\n",
    "if results.pvalue < alpha_2:\n",
    "    print(\"Отвергаем нулевую гипотезу при alpha = 0.01%\")\n",
    "else:\n",
    "    print(\"Не получилось отвергнуть нулевую гипотезу при alpha = 0.01%\")"
   ]
  },
  {
   "cell_type": "markdown",
   "metadata": {},
   "source": [
    "Даже при alpha = 0.01% нулевая гипотеза отвергается. То есть средняя выручка пользователей тарифов «Ультра» и «Смарт» различаются."
   ]
  },
  {
   "cell_type": "markdown",
   "metadata": {},
   "source": [
    "### Формулируем вторую гипотезу:\n",
    "\n",
    "H₀: средняя выручка пользователей из Москвы равна выручке пользователей из других регионов;\n",
    "\n",
    "H₁: средняя выручка пользователей из Москвы отличается от выручки пользователей из других регионов.\n",
    "\n",
    "Были выбраны такие формулировки гипотез так как нулевая гипотеза всегда формулируется исходя из равенства.\n"
   ]
  },
  {
   "cell_type": "code",
   "execution_count": null,
   "metadata": {},
   "outputs": [],
   "source": [
    "temp_column = 'Помесячная выручка с пользователя (руб.)'\n",
    "alpha =0.05\n",
    "alpha_2 =0.1\n",
    "\n",
    "# Готовим базу для анализа по городам\n",
    "temp_df = temp_df.rename (columns={'Идентификатор пользователя': 'user_id'})\n",
    "temp_df = temp_df.merge(df_users[['user_id', 'city']], on='user_id', how='left')\n",
    "\n",
    "print ('Среднее значение выручки с пользователя в месяц для Москвы равно:',\n",
    "       (temp_df.query('city == \"Москва\"')[temp_column]).mean().round(2))\n",
    "print ('Среднее значение выручки с пользователя в месяц для других регионов равно:',\n",
    "       (temp_df.query('city != \"Москва\"')[temp_column]).mean().round(2))  \n",
    "\n",
    "\n",
    "results = st.ttest_ind(\n",
    "    (temp_df.query('city == \"Москва\"')[temp_column]), \n",
    "    (temp_df.query('city != \"Москва\"')[temp_column]))\n",
    "\n",
    "\n",
    "print('p-значение:', results.pvalue)\n",
    "\n",
    "if results.pvalue < alpha:\n",
    "    print(\"Отвергаем нулевую гипотезу при alpha = 5%\")\n",
    "else:\n",
    "    print(\"Не получилось отвергнуть нулевую гипотезу при alpha = 5%\")\n",
    "\n",
    "if results.pvalue < alpha_2:\n",
    "    print(\"Отвергаем нулевую гипотезу при alpha = 10%\")\n",
    "else:\n",
    "    print(\"Не получилось отвергнуть нулевую гипотезу при alpha = 10%\")"
   ]
  },
  {
   "cell_type": "markdown",
   "metadata": {},
   "source": [
    "Если p-value больше 10%, то нулевую гипотезу точно не нужно отвергать. Исходя из этого мы не можем отвергнуть гипотезу о том, что средняя выручка пользователей из Москвы равна выручке пользователей из других регионов."
   ]
  },
  {
   "cell_type": "markdown",
   "metadata": {},
   "source": [
    "### Вывод.\n",
    "\n",
    "В результате проверки гипотез были сделаны следующие выводы:\n",
    "\n",
    "\n",
    "•\tсредняя выручка пользователей тарифов «Ультра» и «Смарт» различаются;\n",
    "\n",
    "•\tмы не можем отвергнуть гипотезу о том, что средняя выручка пользователей из Москвы равна выручке пользователей из других регионов.\n"
   ]
  },
  {
   "cell_type": "markdown",
   "metadata": {},
   "source": [
    "## Общий вывод"
   ]
  },
  {
   "cell_type": "markdown",
   "metadata": {},
   "source": [
    "Проведя данное исследование, мы пришли к выводу, что: \n",
    "\n",
    "\n",
    "•\tВ среднем пользователи тарифа \"ultra\" разговаривают больше, но и разброс по длительности разговоров у пользователей тарифа \"ultra\" существенно выше;\n",
    "\n",
    "•\tВ среднем пользователи тарифа \"ultra\" отправляют больше сообщений, но многие пользователи обоих тарифов вообще не пользуются sms;\n",
    "\n",
    "•\tВ среднем пользователи тарифа \"ultra\" используют больше трафика. У пользователей тарифа \"smart\" виден явный пик на значении 15 Gb, что обусловлено границей тарифного плана;\n",
    "\n",
    "•\tВ среднем выручка с пользователя тарифа \"ultra\" выше, но практически не выходит за границы ежемесячной абонентской платы;\n",
    "\n",
    "•\tСредняя выручка пользователей тарифов «Ультра» и «Смарт» различаются;\n",
    "\n",
    "•\tМы не можем отвергнуть гипотезу о том, что средняя выручка пользователей из Москвы равна выручке пользователей из других регионов.\n",
    "\n",
    "\n",
    "Опираясь на вышесказанное можно заключить что пользователи тарифа \"ultra\" приносят больше выручки, и если этот критерий является определяющим, то при выборе какой тариф продвигать \"smart\" или \"ultra\" целесообразно предпочесть последний. Рассматривая вопрос о том какая компания продвижения тарифа более рациональна, региональная или направленная на жителей Москвы нужно руководствоваться в основном тем, сколько стоит привлечение одного клиента в Москве и регионах, и отдать предпочтение наиболее рациональному с точки зрения затрат варианту, так как мы не можем отвергнуть гипотезу о том, что средняя выручка, получаемая от пользователей из Москвы равна выручке пользователей из других регионов.\n"
   ]
  }
 ],
 "metadata": {
  "ExecuteTimeLog": [
   {
    "duration": 779,
    "start_time": "2022-01-31T09:37:56.948Z"
   },
   {
    "duration": 1363,
    "start_time": "2022-01-31T09:38:41.480Z"
   },
   {
    "duration": 198,
    "start_time": "2022-01-31T09:38:58.694Z"
   },
   {
    "duration": 208,
    "start_time": "2022-01-31T09:39:19.172Z"
   },
   {
    "duration": 191,
    "start_time": "2022-01-31T09:39:35.933Z"
   },
   {
    "duration": 219,
    "start_time": "2022-01-31T09:40:41.704Z"
   },
   {
    "duration": 351,
    "start_time": "2022-01-31T09:41:07.161Z"
   },
   {
    "duration": 265,
    "start_time": "2022-01-31T09:41:57.519Z"
   },
   {
    "duration": 246,
    "start_time": "2022-01-31T09:42:36.249Z"
   },
   {
    "duration": 241,
    "start_time": "2022-01-31T09:49:05.600Z"
   },
   {
    "duration": 484,
    "start_time": "2022-01-31T09:50:56.223Z"
   },
   {
    "duration": 4,
    "start_time": "2022-01-31T10:02:49.284Z"
   },
   {
    "duration": 69,
    "start_time": "2022-01-31T10:03:10.362Z"
   },
   {
    "duration": 5,
    "start_time": "2022-01-31T10:05:57.055Z"
   },
   {
    "duration": 80,
    "start_time": "2022-01-31T10:05:59.942Z"
   },
   {
    "duration": 385,
    "start_time": "2022-01-31T10:10:33.746Z"
   },
   {
    "duration": 348,
    "start_time": "2022-01-31T10:10:54.698Z"
   },
   {
    "duration": 7,
    "start_time": "2022-01-31T10:38:01.677Z"
   },
   {
    "duration": 277,
    "start_time": "2022-01-31T10:38:39.094Z"
   },
   {
    "duration": 270,
    "start_time": "2022-01-31T10:38:59.645Z"
   },
   {
    "duration": 404,
    "start_time": "2022-01-31T10:39:50.167Z"
   },
   {
    "duration": 309,
    "start_time": "2022-01-31T10:40:29.845Z"
   },
   {
    "duration": 8,
    "start_time": "2022-01-31T10:41:01.752Z"
   },
   {
    "duration": 40,
    "start_time": "2022-01-31T10:48:47.986Z"
   },
   {
    "duration": 37,
    "start_time": "2022-01-31T10:49:12.832Z"
   },
   {
    "duration": 80,
    "start_time": "2022-01-31T10:49:43.074Z"
   },
   {
    "duration": 759,
    "start_time": "2022-01-31T10:52:43.385Z"
   },
   {
    "duration": 503,
    "start_time": "2022-01-31T10:52:44.147Z"
   },
   {
    "duration": 6,
    "start_time": "2022-01-31T10:52:44.653Z"
   },
   {
    "duration": 133,
    "start_time": "2022-01-31T10:52:44.661Z"
   },
   {
    "duration": -227,
    "start_time": "2022-01-31T10:52:45.024Z"
   },
   {
    "duration": -227,
    "start_time": "2022-01-31T10:52:45.026Z"
   },
   {
    "duration": 789,
    "start_time": "2022-01-31T10:53:08.802Z"
   },
   {
    "duration": 502,
    "start_time": "2022-01-31T10:53:09.594Z"
   },
   {
    "duration": 4,
    "start_time": "2022-01-31T10:53:10.099Z"
   },
   {
    "duration": 97,
    "start_time": "2022-01-31T10:53:10.106Z"
   },
   {
    "duration": 138,
    "start_time": "2022-01-31T10:53:10.206Z"
   },
   {
    "duration": 458,
    "start_time": "2022-01-31T11:08:11.954Z"
   },
   {
    "duration": 308,
    "start_time": "2022-01-31T11:09:01.127Z"
   },
   {
    "duration": 330,
    "start_time": "2022-01-31T11:09:25.347Z"
   },
   {
    "duration": 275,
    "start_time": "2022-01-31T11:09:46.980Z"
   },
   {
    "duration": 6,
    "start_time": "2022-01-31T11:10:04.310Z"
   },
   {
    "duration": 33,
    "start_time": "2022-01-31T11:10:20.497Z"
   },
   {
    "duration": 598,
    "start_time": "2022-01-31T11:10:39.484Z"
   },
   {
    "duration": 7,
    "start_time": "2022-01-31T11:11:15.805Z"
   },
   {
    "duration": 29,
    "start_time": "2022-01-31T11:11:25.359Z"
   },
   {
    "duration": 38,
    "start_time": "2022-01-31T11:17:40.268Z"
   },
   {
    "duration": 7,
    "start_time": "2022-01-31T11:19:08.041Z"
   },
   {
    "duration": 105,
    "start_time": "2022-01-31T11:19:42.413Z"
   },
   {
    "duration": 97,
    "start_time": "2022-01-31T11:19:49.322Z"
   },
   {
    "duration": 541,
    "start_time": "2022-01-31T11:20:47.253Z"
   },
   {
    "duration": 118,
    "start_time": "2022-01-31T11:21:21.077Z"
   },
   {
    "duration": 338,
    "start_time": "2022-01-31T11:21:25.749Z"
   },
   {
    "duration": 7,
    "start_time": "2022-01-31T11:22:29.537Z"
   },
   {
    "duration": 325,
    "start_time": "2022-01-31T11:22:33.135Z"
   },
   {
    "duration": 330,
    "start_time": "2022-01-31T11:23:07.660Z"
   },
   {
    "duration": 7,
    "start_time": "2022-01-31T11:27:18.934Z"
   },
   {
    "duration": 387,
    "start_time": "2022-01-31T11:27:32.469Z"
   },
   {
    "duration": 6,
    "start_time": "2022-01-31T11:27:40.573Z"
   },
   {
    "duration": 379,
    "start_time": "2022-01-31T11:27:44.031Z"
   },
   {
    "duration": 9,
    "start_time": "2022-01-31T11:29:06.115Z"
   },
   {
    "duration": 362,
    "start_time": "2022-01-31T11:29:39.931Z"
   },
   {
    "duration": 366,
    "start_time": "2022-01-31T11:31:02.015Z"
   },
   {
    "duration": 345,
    "start_time": "2022-01-31T11:32:58.344Z"
   },
   {
    "duration": 75,
    "start_time": "2022-01-31T12:01:24.201Z"
   },
   {
    "duration": 349,
    "start_time": "2022-01-31T12:08:46.011Z"
   },
   {
    "duration": 433,
    "start_time": "2022-01-31T12:10:56.689Z"
   },
   {
    "duration": 340,
    "start_time": "2022-01-31T12:11:16.592Z"
   },
   {
    "duration": 337,
    "start_time": "2022-01-31T12:12:29.766Z"
   },
   {
    "duration": 353,
    "start_time": "2022-01-31T12:13:27.138Z"
   },
   {
    "duration": 58,
    "start_time": "2022-01-31T12:16:52.560Z"
   },
   {
    "duration": 352,
    "start_time": "2022-01-31T12:20:09.449Z"
   },
   {
    "duration": 1466,
    "start_time": "2022-01-31T12:21:55.153Z"
   },
   {
    "duration": 973,
    "start_time": "2022-01-31T12:34:54.983Z"
   },
   {
    "duration": 582,
    "start_time": "2022-01-31T12:34:55.959Z"
   },
   {
    "duration": 9,
    "start_time": "2022-01-31T12:34:56.555Z"
   },
   {
    "duration": 264,
    "start_time": "2022-01-31T12:34:56.567Z"
   },
   {
    "duration": 529,
    "start_time": "2022-01-31T12:34:56.834Z"
   },
   {
    "duration": 407,
    "start_time": "2022-01-31T12:34:57.366Z"
   },
   {
    "duration": 219,
    "start_time": "2022-01-31T12:34:57.776Z"
   },
   {
    "duration": 402,
    "start_time": "2022-01-31T12:34:57.998Z"
   },
   {
    "duration": 421,
    "start_time": "2022-01-31T12:34:58.403Z"
   },
   {
    "duration": 386,
    "start_time": "2022-01-31T12:34:58.826Z"
   },
   {
    "duration": 151,
    "start_time": "2022-01-31T12:34:59.215Z"
   },
   {
    "duration": 495,
    "start_time": "2022-01-31T12:34:59.369Z"
   },
   {
    "duration": 1712,
    "start_time": "2022-01-31T12:34:59.868Z"
   },
   {
    "duration": 381,
    "start_time": "2022-01-31T12:36:20.797Z"
   },
   {
    "duration": 12,
    "start_time": "2022-01-31T13:04:14.022Z"
   },
   {
    "duration": 17,
    "start_time": "2022-01-31T13:04:38.962Z"
   },
   {
    "duration": 53,
    "start_time": "2022-01-31T13:06:15.847Z"
   },
   {
    "duration": 326,
    "start_time": "2022-01-31T13:12:07.329Z"
   },
   {
    "duration": 54,
    "start_time": "2022-01-31T13:13:43.915Z"
   },
   {
    "duration": 449,
    "start_time": "2022-01-31T13:14:26.332Z"
   },
   {
    "duration": 67,
    "start_time": "2022-01-31T13:15:03.121Z"
   },
   {
    "duration": 314,
    "start_time": "2022-01-31T13:16:35.567Z"
   },
   {
    "duration": 317,
    "start_time": "2022-01-31T13:17:17.813Z"
   },
   {
    "duration": 369,
    "start_time": "2022-01-31T13:19:28.413Z"
   },
   {
    "duration": 28,
    "start_time": "2022-01-31T13:19:39.964Z"
   },
   {
    "duration": 418,
    "start_time": "2022-01-31T13:21:06.578Z"
   },
   {
    "duration": 11,
    "start_time": "2022-01-31T13:21:15.604Z"
   },
   {
    "duration": 441,
    "start_time": "2022-01-31T13:21:33.696Z"
   },
   {
    "duration": 33,
    "start_time": "2022-01-31T13:27:40.136Z"
   },
   {
    "duration": 383,
    "start_time": "2022-01-31T13:45:32.416Z"
   },
   {
    "duration": 28,
    "start_time": "2022-01-31T13:46:36.679Z"
   },
   {
    "duration": 90,
    "start_time": "2022-01-31T13:47:22.759Z"
   },
   {
    "duration": 601,
    "start_time": "2022-01-31T13:47:30.605Z"
   },
   {
    "duration": 12,
    "start_time": "2022-01-31T13:47:40.040Z"
   },
   {
    "duration": 352,
    "start_time": "2022-01-31T13:48:15.854Z"
   },
   {
    "duration": 601,
    "start_time": "2022-01-31T13:49:10.736Z"
   },
   {
    "duration": 8,
    "start_time": "2022-01-31T13:49:38.327Z"
   },
   {
    "duration": 359,
    "start_time": "2022-01-31T13:49:45.383Z"
   },
   {
    "duration": 902,
    "start_time": "2022-01-31T13:50:48.472Z"
   },
   {
    "duration": 522,
    "start_time": "2022-01-31T13:50:49.377Z"
   },
   {
    "duration": 10,
    "start_time": "2022-01-31T13:50:49.903Z"
   },
   {
    "duration": 257,
    "start_time": "2022-01-31T13:50:49.916Z"
   },
   {
    "duration": 465,
    "start_time": "2022-01-31T13:50:50.176Z"
   },
   {
    "duration": 395,
    "start_time": "2022-01-31T13:50:50.644Z"
   },
   {
    "duration": 210,
    "start_time": "2022-01-31T13:50:51.042Z"
   },
   {
    "duration": 415,
    "start_time": "2022-01-31T13:50:51.255Z"
   },
   {
    "duration": 434,
    "start_time": "2022-01-31T13:50:51.673Z"
   },
   {
    "duration": 389,
    "start_time": "2022-01-31T13:50:52.110Z"
   },
   {
    "duration": 146,
    "start_time": "2022-01-31T13:50:52.501Z"
   },
   {
    "duration": 537,
    "start_time": "2022-01-31T13:50:52.650Z"
   },
   {
    "duration": 24,
    "start_time": "2022-01-31T13:50:53.190Z"
   },
   {
    "duration": 53,
    "start_time": "2022-01-31T13:50:53.233Z"
   },
   {
    "duration": 393,
    "start_time": "2022-01-31T13:50:53.288Z"
   },
   {
    "duration": 99,
    "start_time": "2022-01-31T13:50:53.684Z"
   },
   {
    "duration": -390,
    "start_time": "2022-01-31T13:50:54.176Z"
   },
   {
    "duration": 944,
    "start_time": "2022-01-31T13:51:05.226Z"
   },
   {
    "duration": 663,
    "start_time": "2022-01-31T13:51:06.173Z"
   },
   {
    "duration": 9,
    "start_time": "2022-01-31T13:51:06.840Z"
   },
   {
    "duration": 246,
    "start_time": "2022-01-31T13:51:06.852Z"
   },
   {
    "duration": 444,
    "start_time": "2022-01-31T13:51:07.101Z"
   },
   {
    "duration": 405,
    "start_time": "2022-01-31T13:51:07.548Z"
   },
   {
    "duration": 205,
    "start_time": "2022-01-31T13:51:07.956Z"
   },
   {
    "duration": 389,
    "start_time": "2022-01-31T13:51:08.166Z"
   },
   {
    "duration": 428,
    "start_time": "2022-01-31T13:51:08.557Z"
   },
   {
    "duration": 360,
    "start_time": "2022-01-31T13:51:08.988Z"
   },
   {
    "duration": 134,
    "start_time": "2022-01-31T13:51:09.351Z"
   },
   {
    "duration": 380,
    "start_time": "2022-01-31T13:51:09.488Z"
   },
   {
    "duration": 21,
    "start_time": "2022-01-31T13:51:09.870Z"
   },
   {
    "duration": 78,
    "start_time": "2022-01-31T13:51:09.894Z"
   },
   {
    "duration": 362,
    "start_time": "2022-01-31T13:51:09.975Z"
   },
   {
    "duration": 30,
    "start_time": "2022-01-31T13:51:10.340Z"
   },
   {
    "duration": 7,
    "start_time": "2022-01-31T13:54:29.535Z"
   },
   {
    "duration": 190,
    "start_time": "2022-01-31T14:31:03.395Z"
   },
   {
    "duration": 23,
    "start_time": "2022-01-31T14:33:50.973Z"
   },
   {
    "duration": 32,
    "start_time": "2022-01-31T14:37:56.950Z"
   },
   {
    "duration": 221,
    "start_time": "2022-01-31T14:38:02.002Z"
   },
   {
    "duration": 520,
    "start_time": "2022-01-31T14:38:38.982Z"
   },
   {
    "duration": 96,
    "start_time": "2022-01-31T14:41:12.883Z"
   },
   {
    "duration": 189,
    "start_time": "2022-01-31T14:41:45.358Z"
   },
   {
    "duration": 4,
    "start_time": "2022-01-31T14:47:14.677Z"
   },
   {
    "duration": 112,
    "start_time": "2022-01-31T14:49:27.250Z"
   },
   {
    "duration": 310,
    "start_time": "2022-01-31T14:49:33.949Z"
   },
   {
    "duration": 322,
    "start_time": "2022-01-31T14:49:59.499Z"
   },
   {
    "duration": 867,
    "start_time": "2022-01-31T17:30:35.223Z"
   },
   {
    "duration": 427,
    "start_time": "2022-01-31T17:30:44.747Z"
   },
   {
    "duration": 275,
    "start_time": "2022-01-31T17:30:51.364Z"
   },
   {
    "duration": 258,
    "start_time": "2022-01-31T17:31:12.009Z"
   },
   {
    "duration": 809,
    "start_time": "2022-02-01T07:17:45.570Z"
   },
   {
    "duration": 512,
    "start_time": "2022-02-01T07:17:46.382Z"
   },
   {
    "duration": 7,
    "start_time": "2022-02-01T07:17:46.898Z"
   },
   {
    "duration": 246,
    "start_time": "2022-02-01T07:17:46.908Z"
   },
   {
    "duration": 510,
    "start_time": "2022-02-01T07:17:47.157Z"
   },
   {
    "duration": 379,
    "start_time": "2022-02-01T07:17:47.669Z"
   },
   {
    "duration": 188,
    "start_time": "2022-02-01T07:17:48.051Z"
   },
   {
    "duration": 352,
    "start_time": "2022-02-01T07:17:48.249Z"
   },
   {
    "duration": 472,
    "start_time": "2022-02-01T07:17:48.605Z"
   },
   {
    "duration": 370,
    "start_time": "2022-02-01T07:17:49.081Z"
   },
   {
    "duration": 124,
    "start_time": "2022-02-01T07:17:49.453Z"
   },
   {
    "duration": 347,
    "start_time": "2022-02-01T07:17:49.579Z"
   },
   {
    "duration": 27,
    "start_time": "2022-02-01T07:17:49.928Z"
   },
   {
    "duration": 59,
    "start_time": "2022-02-01T07:17:49.958Z"
   },
   {
    "duration": 344,
    "start_time": "2022-02-01T07:17:50.020Z"
   },
   {
    "duration": 31,
    "start_time": "2022-02-01T07:17:50.367Z"
   },
   {
    "duration": 6,
    "start_time": "2022-02-01T07:17:50.400Z"
   },
   {
    "duration": 233,
    "start_time": "2022-02-01T07:17:50.409Z"
   },
   {
    "duration": 320,
    "start_time": "2022-02-01T07:17:50.648Z"
   },
   {
    "duration": -169,
    "start_time": "2022-02-01T07:17:51.140Z"
   },
   {
    "duration": 8,
    "start_time": "2022-02-01T07:18:06.137Z"
   },
   {
    "duration": 8,
    "start_time": "2022-02-01T07:18:21.818Z"
   },
   {
    "duration": 910,
    "start_time": "2022-02-01T07:19:16.163Z"
   },
   {
    "duration": 532,
    "start_time": "2022-02-01T07:19:17.076Z"
   },
   {
    "duration": 9,
    "start_time": "2022-02-01T07:19:17.612Z"
   },
   {
    "duration": 235,
    "start_time": "2022-02-01T07:19:17.625Z"
   },
   {
    "duration": 452,
    "start_time": "2022-02-01T07:19:17.863Z"
   },
   {
    "duration": 369,
    "start_time": "2022-02-01T07:19:18.318Z"
   },
   {
    "duration": 192,
    "start_time": "2022-02-01T07:19:18.689Z"
   },
   {
    "duration": 380,
    "start_time": "2022-02-01T07:19:18.884Z"
   },
   {
    "duration": 383,
    "start_time": "2022-02-01T07:19:19.268Z"
   },
   {
    "duration": 346,
    "start_time": "2022-02-01T07:19:19.653Z"
   },
   {
    "duration": 120,
    "start_time": "2022-02-01T07:19:20.003Z"
   },
   {
    "duration": 359,
    "start_time": "2022-02-01T07:19:20.125Z"
   },
   {
    "duration": 16,
    "start_time": "2022-02-01T07:19:20.486Z"
   },
   {
    "duration": 77,
    "start_time": "2022-02-01T07:19:20.505Z"
   },
   {
    "duration": 323,
    "start_time": "2022-02-01T07:19:20.584Z"
   },
   {
    "duration": 42,
    "start_time": "2022-02-01T07:19:20.910Z"
   },
   {
    "duration": 7,
    "start_time": "2022-02-01T07:19:20.954Z"
   },
   {
    "duration": 217,
    "start_time": "2022-02-01T07:19:20.963Z"
   },
   {
    "duration": 5967,
    "start_time": "2022-02-01T07:19:21.183Z"
   },
   {
    "duration": -191,
    "start_time": "2022-02-01T07:19:27.345Z"
   },
   {
    "duration": -189,
    "start_time": "2022-02-01T07:19:27.346Z"
   },
   {
    "duration": 836,
    "start_time": "2022-02-01T07:20:53.330Z"
   },
   {
    "duration": 511,
    "start_time": "2022-02-01T07:20:54.169Z"
   },
   {
    "duration": 7,
    "start_time": "2022-02-01T07:20:54.687Z"
   },
   {
    "duration": 209,
    "start_time": "2022-02-01T07:20:54.697Z"
   },
   {
    "duration": 404,
    "start_time": "2022-02-01T07:20:54.908Z"
   },
   {
    "duration": 380,
    "start_time": "2022-02-01T07:20:55.314Z"
   },
   {
    "duration": 203,
    "start_time": "2022-02-01T07:20:55.697Z"
   },
   {
    "duration": 370,
    "start_time": "2022-02-01T07:20:55.904Z"
   },
   {
    "duration": 414,
    "start_time": "2022-02-01T07:20:56.278Z"
   },
   {
    "duration": 369,
    "start_time": "2022-02-01T07:20:56.695Z"
   },
   {
    "duration": 141,
    "start_time": "2022-02-01T07:20:57.067Z"
   },
   {
    "duration": 360,
    "start_time": "2022-02-01T07:20:57.211Z"
   },
   {
    "duration": 17,
    "start_time": "2022-02-01T07:20:57.573Z"
   },
   {
    "duration": 80,
    "start_time": "2022-02-01T07:20:57.592Z"
   },
   {
    "duration": 320,
    "start_time": "2022-02-01T07:20:57.674Z"
   },
   {
    "duration": 35,
    "start_time": "2022-02-01T07:20:57.996Z"
   },
   {
    "duration": 6,
    "start_time": "2022-02-01T07:20:58.049Z"
   },
   {
    "duration": 210,
    "start_time": "2022-02-01T07:20:58.057Z"
   },
   {
    "duration": 6,
    "start_time": "2022-02-01T07:20:58.270Z"
   },
   {
    "duration": 9,
    "start_time": "2022-02-01T07:20:58.278Z"
   },
   {
    "duration": 7,
    "start_time": "2022-02-01T07:20:58.290Z"
   },
   {
    "duration": 368,
    "start_time": "2022-02-01T07:27:06.330Z"
   },
   {
    "duration": 43,
    "start_time": "2022-02-01T08:54:06.903Z"
   },
   {
    "duration": 122,
    "start_time": "2022-02-01T08:54:10.732Z"
   },
   {
    "duration": 867,
    "start_time": "2022-02-01T08:55:26.504Z"
   },
   {
    "duration": 547,
    "start_time": "2022-02-01T08:55:27.374Z"
   },
   {
    "duration": 7,
    "start_time": "2022-02-01T08:55:27.928Z"
   },
   {
    "duration": 247,
    "start_time": "2022-02-01T08:55:27.938Z"
   },
   {
    "duration": 442,
    "start_time": "2022-02-01T08:55:28.188Z"
   },
   {
    "duration": 545,
    "start_time": "2022-02-01T08:55:28.633Z"
   },
   {
    "duration": 268,
    "start_time": "2022-02-01T08:55:29.181Z"
   },
   {
    "duration": 412,
    "start_time": "2022-02-01T08:55:29.454Z"
   },
   {
    "duration": 446,
    "start_time": "2022-02-01T08:55:29.869Z"
   },
   {
    "duration": 385,
    "start_time": "2022-02-01T08:55:30.319Z"
   },
   {
    "duration": 152,
    "start_time": "2022-02-01T08:55:30.707Z"
   },
   {
    "duration": 386,
    "start_time": "2022-02-01T08:55:30.862Z"
   },
   {
    "duration": 18,
    "start_time": "2022-02-01T08:55:31.251Z"
   },
   {
    "duration": 83,
    "start_time": "2022-02-01T08:55:31.272Z"
   },
   {
    "duration": 371,
    "start_time": "2022-02-01T08:55:31.358Z"
   },
   {
    "duration": 46,
    "start_time": "2022-02-01T08:55:31.733Z"
   },
   {
    "duration": 6,
    "start_time": "2022-02-01T08:55:31.782Z"
   },
   {
    "duration": 275,
    "start_time": "2022-02-01T08:55:31.791Z"
   },
   {
    "duration": 37,
    "start_time": "2022-02-01T08:55:32.068Z"
   },
   {
    "duration": 115,
    "start_time": "2022-02-01T08:55:32.108Z"
   },
   {
    "duration": 17,
    "start_time": "2022-02-01T09:07:17.895Z"
   },
   {
    "duration": 44,
    "start_time": "2022-02-01T09:08:22.438Z"
   },
   {
    "duration": 67,
    "start_time": "2022-02-01T09:09:49.814Z"
   },
   {
    "duration": 922,
    "start_time": "2022-02-01T09:10:24.015Z"
   },
   {
    "duration": 86,
    "start_time": "2022-02-01T09:10:35.723Z"
   },
   {
    "duration": 84,
    "start_time": "2022-02-01T09:11:31.416Z"
   },
   {
    "duration": 51,
    "start_time": "2022-02-01T09:11:49.547Z"
   },
   {
    "duration": 43,
    "start_time": "2022-02-01T09:18:42.852Z"
   },
   {
    "duration": 47,
    "start_time": "2022-02-01T09:19:50.216Z"
   },
   {
    "duration": 329,
    "start_time": "2022-02-01T09:24:41.740Z"
   },
   {
    "duration": 1012,
    "start_time": "2022-02-01T09:24:49.302Z"
   },
   {
    "duration": 653,
    "start_time": "2022-02-01T09:24:50.317Z"
   },
   {
    "duration": 8,
    "start_time": "2022-02-01T09:24:50.974Z"
   },
   {
    "duration": 253,
    "start_time": "2022-02-01T09:24:50.986Z"
   },
   {
    "duration": 428,
    "start_time": "2022-02-01T09:24:51.249Z"
   },
   {
    "duration": 377,
    "start_time": "2022-02-01T09:24:51.680Z"
   },
   {
    "duration": 223,
    "start_time": "2022-02-01T09:24:52.059Z"
   },
   {
    "duration": 395,
    "start_time": "2022-02-01T09:24:52.285Z"
   },
   {
    "duration": 552,
    "start_time": "2022-02-01T09:24:52.684Z"
   },
   {
    "duration": 516,
    "start_time": "2022-02-01T09:24:53.240Z"
   },
   {
    "duration": 148,
    "start_time": "2022-02-01T09:24:53.759Z"
   },
   {
    "duration": 503,
    "start_time": "2022-02-01T09:24:53.909Z"
   },
   {
    "duration": 42,
    "start_time": "2022-02-01T09:24:54.414Z"
   },
   {
    "duration": 168,
    "start_time": "2022-02-01T09:24:54.459Z"
   },
   {
    "duration": 489,
    "start_time": "2022-02-01T09:24:54.631Z"
   },
   {
    "duration": 39,
    "start_time": "2022-02-01T09:24:55.123Z"
   },
   {
    "duration": 7,
    "start_time": "2022-02-01T09:24:55.165Z"
   },
   {
    "duration": 247,
    "start_time": "2022-02-01T09:24:55.174Z"
   },
   {
    "duration": 44,
    "start_time": "2022-02-01T09:24:55.424Z"
   },
   {
    "duration": 98,
    "start_time": "2022-02-01T09:24:55.470Z"
   },
   {
    "duration": 34,
    "start_time": "2022-02-01T09:24:55.571Z"
   },
   {
    "duration": 82,
    "start_time": "2022-02-01T09:24:55.608Z"
   },
   {
    "duration": 57,
    "start_time": "2022-02-01T09:24:55.692Z"
   },
   {
    "duration": 20,
    "start_time": "2022-02-01T09:27:47.991Z"
   },
   {
    "duration": 26,
    "start_time": "2022-02-01T09:29:40.548Z"
   },
   {
    "duration": 47,
    "start_time": "2022-02-01T09:31:03.014Z"
   },
   {
    "duration": 63,
    "start_time": "2022-02-01T09:31:27.755Z"
   },
   {
    "duration": 56,
    "start_time": "2022-02-01T09:31:49.230Z"
   },
   {
    "duration": 58,
    "start_time": "2022-02-01T09:33:19.922Z"
   },
   {
    "duration": 43,
    "start_time": "2022-02-01T09:34:19.988Z"
   },
   {
    "duration": 1282,
    "start_time": "2022-02-01T09:41:07.930Z"
   },
   {
    "duration": 767,
    "start_time": "2022-02-01T09:41:09.216Z"
   },
   {
    "duration": 11,
    "start_time": "2022-02-01T09:41:09.988Z"
   },
   {
    "duration": 283,
    "start_time": "2022-02-01T09:41:10.002Z"
   },
   {
    "duration": 586,
    "start_time": "2022-02-01T09:41:10.288Z"
   },
   {
    "duration": 427,
    "start_time": "2022-02-01T09:41:10.877Z"
   },
   {
    "duration": 271,
    "start_time": "2022-02-01T09:41:11.307Z"
   },
   {
    "duration": 413,
    "start_time": "2022-02-01T09:41:11.583Z"
   },
   {
    "duration": 632,
    "start_time": "2022-02-01T09:41:12.000Z"
   },
   {
    "duration": 540,
    "start_time": "2022-02-01T09:41:12.635Z"
   },
   {
    "duration": 181,
    "start_time": "2022-02-01T09:41:13.178Z"
   },
   {
    "duration": 547,
    "start_time": "2022-02-01T09:41:13.362Z"
   },
   {
    "duration": 36,
    "start_time": "2022-02-01T09:41:13.912Z"
   },
   {
    "duration": 56,
    "start_time": "2022-02-01T09:41:13.952Z"
   },
   {
    "duration": 354,
    "start_time": "2022-02-01T09:41:14.047Z"
   },
   {
    "duration": 36,
    "start_time": "2022-02-01T09:41:14.403Z"
   },
   {
    "duration": 7,
    "start_time": "2022-02-01T09:41:14.449Z"
   },
   {
    "duration": 277,
    "start_time": "2022-02-01T09:41:14.460Z"
   },
   {
    "duration": 36,
    "start_time": "2022-02-01T09:41:14.747Z"
   },
   {
    "duration": 102,
    "start_time": "2022-02-01T09:41:14.786Z"
   },
   {
    "duration": 35,
    "start_time": "2022-02-01T09:41:14.890Z"
   },
   {
    "duration": 66,
    "start_time": "2022-02-01T09:41:14.928Z"
   },
   {
    "duration": 84,
    "start_time": "2022-02-01T09:41:15.001Z"
   },
   {
    "duration": 28,
    "start_time": "2022-02-01T09:41:15.087Z"
   },
   {
    "duration": 76,
    "start_time": "2022-02-01T09:41:15.117Z"
   },
   {
    "duration": 59,
    "start_time": "2022-02-01T09:41:15.196Z"
   },
   {
    "duration": 11,
    "start_time": "2022-02-01T09:41:15.258Z"
   },
   {
    "duration": 972,
    "start_time": "2022-02-01T09:44:22.604Z"
   },
   {
    "duration": 602,
    "start_time": "2022-02-01T09:44:23.580Z"
   },
   {
    "duration": 9,
    "start_time": "2022-02-01T09:44:24.186Z"
   },
   {
    "duration": 304,
    "start_time": "2022-02-01T09:44:24.199Z"
   },
   {
    "duration": 686,
    "start_time": "2022-02-01T09:44:24.507Z"
   },
   {
    "duration": 452,
    "start_time": "2022-02-01T09:44:25.196Z"
   },
   {
    "duration": 292,
    "start_time": "2022-02-01T09:44:25.652Z"
   },
   {
    "duration": 472,
    "start_time": "2022-02-01T09:44:25.949Z"
   },
   {
    "duration": 485,
    "start_time": "2022-02-01T09:44:26.426Z"
   },
   {
    "duration": 548,
    "start_time": "2022-02-01T09:44:26.914Z"
   },
   {
    "duration": 187,
    "start_time": "2022-02-01T09:44:27.468Z"
   },
   {
    "duration": 610,
    "start_time": "2022-02-01T09:44:27.659Z"
   },
   {
    "duration": 26,
    "start_time": "2022-02-01T09:44:28.273Z"
   },
   {
    "duration": 99,
    "start_time": "2022-02-01T09:44:28.302Z"
   },
   {
    "duration": 488,
    "start_time": "2022-02-01T09:44:28.404Z"
   },
   {
    "duration": 40,
    "start_time": "2022-02-01T09:44:28.895Z"
   },
   {
    "duration": 13,
    "start_time": "2022-02-01T09:44:28.952Z"
   },
   {
    "duration": 303,
    "start_time": "2022-02-01T09:44:28.968Z"
   },
   {
    "duration": 37,
    "start_time": "2022-02-01T09:44:29.274Z"
   },
   {
    "duration": 124,
    "start_time": "2022-02-01T09:44:29.313Z"
   },
   {
    "duration": 45,
    "start_time": "2022-02-01T09:44:29.440Z"
   },
   {
    "duration": 84,
    "start_time": "2022-02-01T09:44:29.488Z"
   },
   {
    "duration": 58,
    "start_time": "2022-02-01T09:44:29.578Z"
   },
   {
    "duration": 37,
    "start_time": "2022-02-01T09:44:29.650Z"
   },
   {
    "duration": 91,
    "start_time": "2022-02-01T09:44:29.691Z"
   },
   {
    "duration": 90,
    "start_time": "2022-02-01T09:44:29.786Z"
   },
   {
    "duration": 15,
    "start_time": "2022-02-01T09:44:29.878Z"
   },
   {
    "duration": 35,
    "start_time": "2022-02-01T09:46:32.189Z"
   },
   {
    "duration": 7379,
    "start_time": "2022-02-01T09:48:33.256Z"
   },
   {
    "duration": 9,
    "start_time": "2022-02-01T09:48:58.993Z"
   },
   {
    "duration": 14,
    "start_time": "2022-02-01T09:49:58.488Z"
   },
   {
    "duration": 31,
    "start_time": "2022-02-01T09:50:38.536Z"
   },
   {
    "duration": 247,
    "start_time": "2022-02-01T10:43:01.340Z"
   },
   {
    "duration": 367,
    "start_time": "2022-02-01T10:43:28.592Z"
   },
   {
    "duration": 222,
    "start_time": "2022-02-01T10:43:41.429Z"
   },
   {
    "duration": 78,
    "start_time": "2022-02-01T10:58:46.548Z"
   },
   {
    "duration": 84,
    "start_time": "2022-02-01T10:59:01.239Z"
   },
   {
    "duration": 85,
    "start_time": "2022-02-01T10:59:20.345Z"
   },
   {
    "duration": 52,
    "start_time": "2022-02-01T11:00:02.862Z"
   },
   {
    "duration": 40,
    "start_time": "2022-02-01T11:00:08.802Z"
   },
   {
    "duration": 1082,
    "start_time": "2022-02-01T11:03:22.692Z"
   },
   {
    "duration": 39,
    "start_time": "2022-02-01T11:03:53.007Z"
   },
   {
    "duration": 101,
    "start_time": "2022-02-01T11:22:34.962Z"
   },
   {
    "duration": 33,
    "start_time": "2022-02-01T11:22:36.711Z"
   },
   {
    "duration": 37,
    "start_time": "2022-02-01T11:22:59.233Z"
   },
   {
    "duration": 49,
    "start_time": "2022-02-01T11:23:29.181Z"
   },
   {
    "duration": 41,
    "start_time": "2022-02-01T11:23:39.400Z"
   },
   {
    "duration": 38,
    "start_time": "2022-02-01T11:25:05.632Z"
   },
   {
    "duration": 50,
    "start_time": "2022-02-01T11:30:53.707Z"
   },
   {
    "duration": 52,
    "start_time": "2022-02-01T11:32:50.133Z"
   },
   {
    "duration": 48,
    "start_time": "2022-02-01T11:33:00.862Z"
   },
   {
    "duration": 375,
    "start_time": "2022-02-01T11:33:05.094Z"
   },
   {
    "duration": 62,
    "start_time": "2022-02-01T11:33:11.129Z"
   },
   {
    "duration": 59,
    "start_time": "2022-02-01T11:37:53.304Z"
   },
   {
    "duration": 55,
    "start_time": "2022-02-01T11:38:41.320Z"
   },
   {
    "duration": 54,
    "start_time": "2022-02-01T11:39:39.716Z"
   },
   {
    "duration": 60,
    "start_time": "2022-02-01T11:40:02.343Z"
   },
   {
    "duration": 64,
    "start_time": "2022-02-01T11:40:15.991Z"
   },
   {
    "duration": 66,
    "start_time": "2022-02-01T11:40:32.729Z"
   },
   {
    "duration": 54,
    "start_time": "2022-02-01T11:40:48.030Z"
   },
   {
    "duration": 63,
    "start_time": "2022-02-01T12:16:28.850Z"
   },
   {
    "duration": 83,
    "start_time": "2022-02-01T12:21:28.428Z"
   },
   {
    "duration": 83,
    "start_time": "2022-02-01T12:22:27.006Z"
   },
   {
    "duration": 103,
    "start_time": "2022-02-01T12:24:50.149Z"
   },
   {
    "duration": 54,
    "start_time": "2022-02-01T12:24:52.347Z"
   },
   {
    "duration": 70,
    "start_time": "2022-02-01T12:25:22.123Z"
   },
   {
    "duration": 68,
    "start_time": "2022-02-01T12:30:41.576Z"
   },
   {
    "duration": 996,
    "start_time": "2022-02-01T12:40:24.436Z"
   },
   {
    "duration": 561,
    "start_time": "2022-02-01T12:40:25.435Z"
   },
   {
    "duration": 8,
    "start_time": "2022-02-01T12:40:25.999Z"
   },
   {
    "duration": 239,
    "start_time": "2022-02-01T12:40:26.010Z"
   },
   {
    "duration": 434,
    "start_time": "2022-02-01T12:40:26.254Z"
   },
   {
    "duration": 369,
    "start_time": "2022-02-01T12:40:26.690Z"
   },
   {
    "duration": 217,
    "start_time": "2022-02-01T12:40:27.062Z"
   },
   {
    "duration": 390,
    "start_time": "2022-02-01T12:40:27.285Z"
   },
   {
    "duration": 416,
    "start_time": "2022-02-01T12:40:27.679Z"
   },
   {
    "duration": 364,
    "start_time": "2022-02-01T12:40:28.098Z"
   },
   {
    "duration": 125,
    "start_time": "2022-02-01T12:40:28.465Z"
   },
   {
    "duration": 370,
    "start_time": "2022-02-01T12:40:28.593Z"
   },
   {
    "duration": 17,
    "start_time": "2022-02-01T12:40:28.966Z"
   },
   {
    "duration": 86,
    "start_time": "2022-02-01T12:40:28.986Z"
   },
   {
    "duration": 339,
    "start_time": "2022-02-01T12:40:29.075Z"
   },
   {
    "duration": 53,
    "start_time": "2022-02-01T12:40:29.417Z"
   },
   {
    "duration": 6,
    "start_time": "2022-02-01T12:40:29.473Z"
   },
   {
    "duration": 221,
    "start_time": "2022-02-01T12:40:29.481Z"
   },
   {
    "duration": 109,
    "start_time": "2022-02-01T12:40:29.705Z"
   },
   {
    "duration": 67,
    "start_time": "2022-02-01T12:40:29.816Z"
   },
   {
    "duration": 64,
    "start_time": "2022-02-01T12:40:29.886Z"
   },
   {
    "duration": 79,
    "start_time": "2022-02-01T12:40:29.953Z"
   },
   {
    "duration": 480,
    "start_time": "2022-02-01T12:41:01.783Z"
   },
   {
    "duration": 22,
    "start_time": "2022-02-01T12:41:40.662Z"
   },
   {
    "duration": 33,
    "start_time": "2022-02-01T12:42:06.636Z"
   },
   {
    "duration": 49,
    "start_time": "2022-02-01T12:42:33.215Z"
   },
   {
    "duration": 47,
    "start_time": "2022-02-01T12:42:41.661Z"
   },
   {
    "duration": 87,
    "start_time": "2022-02-01T12:43:35.689Z"
   },
   {
    "duration": 137,
    "start_time": "2022-02-01T12:44:23.263Z"
   },
   {
    "duration": 98,
    "start_time": "2022-02-01T12:44:50.195Z"
   },
   {
    "duration": 95,
    "start_time": "2022-02-01T12:45:18.986Z"
   },
   {
    "duration": 82,
    "start_time": "2022-02-01T12:45:32.100Z"
   },
   {
    "duration": 86,
    "start_time": "2022-02-01T12:46:28.734Z"
   },
   {
    "duration": 79,
    "start_time": "2022-02-01T12:46:47.705Z"
   },
   {
    "duration": 77,
    "start_time": "2022-02-01T12:47:50.841Z"
   },
   {
    "duration": 80,
    "start_time": "2022-02-01T12:48:54.232Z"
   },
   {
    "duration": 92,
    "start_time": "2022-02-01T12:49:51.425Z"
   },
   {
    "duration": 92,
    "start_time": "2022-02-01T12:50:54.466Z"
   },
   {
    "duration": 86,
    "start_time": "2022-02-01T12:54:24.888Z"
   },
   {
    "duration": 90,
    "start_time": "2022-02-01T12:56:02.940Z"
   },
   {
    "duration": 112,
    "start_time": "2022-02-01T12:56:11.800Z"
   },
   {
    "duration": 88,
    "start_time": "2022-02-01T12:57:40.450Z"
   },
   {
    "duration": 81,
    "start_time": "2022-02-01T12:59:13.385Z"
   },
   {
    "duration": 90,
    "start_time": "2022-02-01T12:59:27.379Z"
   },
   {
    "duration": 83,
    "start_time": "2022-02-01T13:00:32.698Z"
   },
   {
    "duration": 89,
    "start_time": "2022-02-01T13:01:53.229Z"
   },
   {
    "duration": 94,
    "start_time": "2022-02-01T13:14:21.816Z"
   },
   {
    "duration": 92,
    "start_time": "2022-02-01T13:14:33.718Z"
   },
   {
    "duration": 95,
    "start_time": "2022-02-01T13:14:43.337Z"
   },
   {
    "duration": 12,
    "start_time": "2022-02-01T13:15:21.126Z"
   },
   {
    "duration": 275,
    "start_time": "2022-02-01T13:16:21.752Z"
   },
   {
    "duration": 21,
    "start_time": "2022-02-01T13:19:02.372Z"
   },
   {
    "duration": 96,
    "start_time": "2022-02-01T14:26:53.969Z"
   },
   {
    "duration": 259,
    "start_time": "2022-02-01T14:27:50.232Z"
   },
   {
    "duration": 14,
    "start_time": "2022-02-01T14:28:41.307Z"
   },
   {
    "duration": 13,
    "start_time": "2022-02-01T14:28:49.716Z"
   },
   {
    "duration": 12,
    "start_time": "2022-02-01T14:29:01.871Z"
   },
   {
    "duration": 38,
    "start_time": "2022-02-01T14:29:12.219Z"
   },
   {
    "duration": 876,
    "start_time": "2022-02-02T06:44:35.076Z"
   },
   {
    "duration": 500,
    "start_time": "2022-02-02T06:44:35.955Z"
   },
   {
    "duration": 8,
    "start_time": "2022-02-02T06:44:36.458Z"
   },
   {
    "duration": 222,
    "start_time": "2022-02-02T06:44:36.469Z"
   },
   {
    "duration": 400,
    "start_time": "2022-02-02T06:44:36.694Z"
   },
   {
    "duration": 375,
    "start_time": "2022-02-02T06:44:37.096Z"
   },
   {
    "duration": 193,
    "start_time": "2022-02-02T06:44:37.475Z"
   },
   {
    "duration": 366,
    "start_time": "2022-02-02T06:44:37.672Z"
   },
   {
    "duration": 388,
    "start_time": "2022-02-02T06:44:38.048Z"
   },
   {
    "duration": 345,
    "start_time": "2022-02-02T06:44:38.438Z"
   },
   {
    "duration": 126,
    "start_time": "2022-02-02T06:44:38.786Z"
   },
   {
    "duration": 370,
    "start_time": "2022-02-02T06:44:38.915Z"
   },
   {
    "duration": 16,
    "start_time": "2022-02-02T06:44:39.288Z"
   },
   {
    "duration": 80,
    "start_time": "2022-02-02T06:44:39.307Z"
   },
   {
    "duration": 331,
    "start_time": "2022-02-02T06:44:39.389Z"
   },
   {
    "duration": 39,
    "start_time": "2022-02-02T06:44:39.723Z"
   },
   {
    "duration": 6,
    "start_time": "2022-02-02T06:44:39.765Z"
   },
   {
    "duration": 219,
    "start_time": "2022-02-02T06:44:39.773Z"
   },
   {
    "duration": 107,
    "start_time": "2022-02-02T06:44:39.994Z"
   },
   {
    "duration": 57,
    "start_time": "2022-02-02T06:44:40.104Z"
   },
   {
    "duration": 52,
    "start_time": "2022-02-02T06:44:40.164Z"
   },
   {
    "duration": 108,
    "start_time": "2022-02-02T06:44:40.219Z"
   },
   {
    "duration": 19,
    "start_time": "2022-02-02T06:44:40.333Z"
   },
   {
    "duration": 36,
    "start_time": "2022-02-02T06:44:40.355Z"
   },
   {
    "duration": 84,
    "start_time": "2022-02-02T06:44:40.394Z"
   },
   {
    "duration": 788,
    "start_time": "2022-02-02T06:44:39.693Z"
   },
   {
    "duration": 11364,
    "start_time": "2022-02-02T06:45:02.357Z"
   },
   {
    "duration": 8366,
    "start_time": "2022-02-02T06:45:36.592Z"
   },
   {
    "duration": 6332,
    "start_time": "2022-02-02T06:46:53.607Z"
   },
   {
    "duration": 19,
    "start_time": "2022-02-02T06:47:38.560Z"
   },
   {
    "duration": 8,
    "start_time": "2022-02-02T06:48:16.153Z"
   },
   {
    "duration": 65,
    "start_time": "2022-02-02T06:48:33.016Z"
   },
   {
    "duration": 30,
    "start_time": "2022-02-02T06:48:40.564Z"
   },
   {
    "duration": 13,
    "start_time": "2022-02-02T06:51:56.547Z"
   },
   {
    "duration": 7306,
    "start_time": "2022-02-02T06:52:18.795Z"
   },
   {
    "duration": 6373,
    "start_time": "2022-02-02T06:52:36.762Z"
   },
   {
    "duration": 6509,
    "start_time": "2022-02-02T06:52:48.516Z"
   },
   {
    "duration": 21,
    "start_time": "2022-02-02T06:53:32.312Z"
   },
   {
    "duration": 268,
    "start_time": "2022-02-02T06:58:59.963Z"
   },
   {
    "duration": 240,
    "start_time": "2022-02-02T06:59:39.608Z"
   },
   {
    "duration": 1001,
    "start_time": "2022-02-02T07:03:41.829Z"
   },
   {
    "duration": 15,
    "start_time": "2022-02-02T07:04:24.969Z"
   },
   {
    "duration": 876,
    "start_time": "2022-02-02T07:04:58.416Z"
   },
   {
    "duration": 488,
    "start_time": "2022-02-02T07:04:59.295Z"
   },
   {
    "duration": 7,
    "start_time": "2022-02-02T07:04:59.787Z"
   },
   {
    "duration": 288,
    "start_time": "2022-02-02T07:04:59.797Z"
   },
   {
    "duration": 594,
    "start_time": "2022-02-02T07:05:00.089Z"
   },
   {
    "duration": 509,
    "start_time": "2022-02-02T07:05:00.685Z"
   },
   {
    "duration": 200,
    "start_time": "2022-02-02T07:05:01.198Z"
   },
   {
    "duration": 384,
    "start_time": "2022-02-02T07:05:01.402Z"
   },
   {
    "duration": 422,
    "start_time": "2022-02-02T07:05:01.790Z"
   },
   {
    "duration": 360,
    "start_time": "2022-02-02T07:05:02.216Z"
   },
   {
    "duration": 134,
    "start_time": "2022-02-02T07:05:02.579Z"
   },
   {
    "duration": 363,
    "start_time": "2022-02-02T07:05:02.716Z"
   },
   {
    "duration": 18,
    "start_time": "2022-02-02T07:05:03.082Z"
   },
   {
    "duration": 83,
    "start_time": "2022-02-02T07:05:03.103Z"
   },
   {
    "duration": 378,
    "start_time": "2022-02-02T07:05:03.189Z"
   },
   {
    "duration": 37,
    "start_time": "2022-02-02T07:05:03.570Z"
   },
   {
    "duration": 7,
    "start_time": "2022-02-02T07:05:03.609Z"
   },
   {
    "duration": 247,
    "start_time": "2022-02-02T07:05:03.618Z"
   },
   {
    "duration": 144,
    "start_time": "2022-02-02T07:05:03.869Z"
   },
   {
    "duration": 77,
    "start_time": "2022-02-02T07:05:04.016Z"
   },
   {
    "duration": 76,
    "start_time": "2022-02-02T07:05:04.097Z"
   },
   {
    "duration": 140,
    "start_time": "2022-02-02T07:05:04.176Z"
   },
   {
    "duration": 6,
    "start_time": "2022-02-02T07:05:04.320Z"
   },
   {
    "duration": 66,
    "start_time": "2022-02-02T07:05:04.329Z"
   },
   {
    "duration": 18,
    "start_time": "2022-02-02T07:05:04.398Z"
   },
   {
    "duration": 138,
    "start_time": "2022-02-02T07:05:04.419Z"
   },
   {
    "duration": 44,
    "start_time": "2022-02-02T07:05:04.563Z"
   },
   {
    "duration": 1009,
    "start_time": "2022-02-02T07:15:42.969Z"
   },
   {
    "duration": 14,
    "start_time": "2022-02-02T07:16:46.577Z"
   },
   {
    "duration": 31,
    "start_time": "2022-02-02T07:17:15.272Z"
   },
   {
    "duration": 815,
    "start_time": "2022-02-02T07:18:13.800Z"
   },
   {
    "duration": 511,
    "start_time": "2022-02-02T07:18:14.618Z"
   },
   {
    "duration": 7,
    "start_time": "2022-02-02T07:18:15.135Z"
   },
   {
    "duration": 211,
    "start_time": "2022-02-02T07:18:15.145Z"
   },
   {
    "duration": 427,
    "start_time": "2022-02-02T07:18:15.358Z"
   },
   {
    "duration": 355,
    "start_time": "2022-02-02T07:18:15.788Z"
   },
   {
    "duration": 204,
    "start_time": "2022-02-02T07:18:16.145Z"
   },
   {
    "duration": 352,
    "start_time": "2022-02-02T07:18:16.353Z"
   },
   {
    "duration": 413,
    "start_time": "2022-02-02T07:18:16.709Z"
   },
   {
    "duration": 351,
    "start_time": "2022-02-02T07:18:17.125Z"
   },
   {
    "duration": 123,
    "start_time": "2022-02-02T07:18:17.478Z"
   },
   {
    "duration": 351,
    "start_time": "2022-02-02T07:18:17.604Z"
   },
   {
    "duration": 17,
    "start_time": "2022-02-02T07:18:17.958Z"
   },
   {
    "duration": 78,
    "start_time": "2022-02-02T07:18:17.977Z"
   },
   {
    "duration": 327,
    "start_time": "2022-02-02T07:18:18.058Z"
   },
   {
    "duration": 34,
    "start_time": "2022-02-02T07:18:18.388Z"
   },
   {
    "duration": 28,
    "start_time": "2022-02-02T07:18:18.425Z"
   },
   {
    "duration": 206,
    "start_time": "2022-02-02T07:18:18.455Z"
   },
   {
    "duration": 105,
    "start_time": "2022-02-02T07:18:18.664Z"
   },
   {
    "duration": 51,
    "start_time": "2022-02-02T07:18:18.771Z"
   },
   {
    "duration": 86,
    "start_time": "2022-02-02T07:18:18.825Z"
   },
   {
    "duration": 121,
    "start_time": "2022-02-02T07:18:18.914Z"
   },
   {
    "duration": 5,
    "start_time": "2022-02-02T07:18:19.048Z"
   },
   {
    "duration": 38,
    "start_time": "2022-02-02T07:18:19.056Z"
   },
   {
    "duration": 61,
    "start_time": "2022-02-02T07:18:19.096Z"
   },
   {
    "duration": 75,
    "start_time": "2022-02-02T07:18:19.161Z"
   },
   {
    "duration": 29,
    "start_time": "2022-02-02T07:18:19.249Z"
   },
   {
    "duration": 179,
    "start_time": "2022-02-02T07:30:07.437Z"
   },
   {
    "duration": 33,
    "start_time": "2022-02-02T07:30:10.964Z"
   },
   {
    "duration": 21,
    "start_time": "2022-02-02T07:31:45.761Z"
   },
   {
    "duration": 121,
    "start_time": "2022-02-02T07:32:22.466Z"
   },
   {
    "duration": 34,
    "start_time": "2022-02-02T07:32:28.095Z"
   },
   {
    "duration": 34,
    "start_time": "2022-02-02T07:32:47.816Z"
   },
   {
    "duration": 177,
    "start_time": "2022-02-02T07:34:47.595Z"
   },
   {
    "duration": 33,
    "start_time": "2022-02-02T07:34:49.940Z"
   },
   {
    "duration": 345,
    "start_time": "2022-02-02T07:38:45.583Z"
   },
   {
    "duration": 47,
    "start_time": "2022-02-02T07:38:49.801Z"
   },
   {
    "duration": 534,
    "start_time": "2022-02-02T07:43:34.339Z"
   },
   {
    "duration": 50,
    "start_time": "2022-02-02T07:43:37.285Z"
   },
   {
    "duration": 379,
    "start_time": "2022-02-02T07:44:27.088Z"
   },
   {
    "duration": 35,
    "start_time": "2022-02-02T07:44:29.340Z"
   },
   {
    "duration": 483,
    "start_time": "2022-02-02T07:49:06.533Z"
   },
   {
    "duration": 34,
    "start_time": "2022-02-02T07:49:09.662Z"
   },
   {
    "duration": 480,
    "start_time": "2022-02-02T07:54:42.678Z"
   },
   {
    "duration": 33,
    "start_time": "2022-02-02T07:54:45.159Z"
   },
   {
    "duration": 877,
    "start_time": "2022-02-02T07:59:07.178Z"
   },
   {
    "duration": 539,
    "start_time": "2022-02-02T08:01:36.023Z"
   },
   {
    "duration": 624,
    "start_time": "2022-02-02T08:02:26.985Z"
   },
   {
    "duration": 889,
    "start_time": "2022-02-02T08:03:59.799Z"
   },
   {
    "duration": 890,
    "start_time": "2022-02-02T08:04:13.982Z"
   },
   {
    "duration": 620,
    "start_time": "2022-02-02T08:04:48.439Z"
   },
   {
    "duration": 515,
    "start_time": "2022-02-02T08:32:28.933Z"
   },
   {
    "duration": 17,
    "start_time": "2022-02-02T08:33:37.217Z"
   },
   {
    "duration": 35,
    "start_time": "2022-02-02T08:40:27.013Z"
   },
   {
    "duration": 888,
    "start_time": "2022-02-02T08:45:54.811Z"
   },
   {
    "duration": 505,
    "start_time": "2022-02-02T08:45:55.702Z"
   },
   {
    "duration": 9,
    "start_time": "2022-02-02T08:45:56.210Z"
   },
   {
    "duration": 234,
    "start_time": "2022-02-02T08:45:56.222Z"
   },
   {
    "duration": 408,
    "start_time": "2022-02-02T08:45:56.459Z"
   },
   {
    "duration": 368,
    "start_time": "2022-02-02T08:45:56.870Z"
   },
   {
    "duration": 201,
    "start_time": "2022-02-02T08:45:57.240Z"
   },
   {
    "duration": 355,
    "start_time": "2022-02-02T08:45:57.445Z"
   },
   {
    "duration": 594,
    "start_time": "2022-02-02T08:45:57.803Z"
   },
   {
    "duration": 520,
    "start_time": "2022-02-02T08:45:58.400Z"
   },
   {
    "duration": 158,
    "start_time": "2022-02-02T08:45:58.923Z"
   },
   {
    "duration": 468,
    "start_time": "2022-02-02T08:45:59.083Z"
   },
   {
    "duration": 23,
    "start_time": "2022-02-02T08:45:59.554Z"
   },
   {
    "duration": 94,
    "start_time": "2022-02-02T08:45:59.580Z"
   },
   {
    "duration": 317,
    "start_time": "2022-02-02T08:45:59.677Z"
   },
   {
    "duration": 33,
    "start_time": "2022-02-02T08:45:59.997Z"
   },
   {
    "duration": 20,
    "start_time": "2022-02-02T08:46:00.032Z"
   },
   {
    "duration": 283,
    "start_time": "2022-02-02T08:46:00.055Z"
   },
   {
    "duration": 140,
    "start_time": "2022-02-02T08:46:00.341Z"
   },
   {
    "duration": 78,
    "start_time": "2022-02-02T08:46:00.484Z"
   },
   {
    "duration": 71,
    "start_time": "2022-02-02T08:46:00.566Z"
   },
   {
    "duration": 142,
    "start_time": "2022-02-02T08:46:00.649Z"
   },
   {
    "duration": 7,
    "start_time": "2022-02-02T08:46:00.797Z"
   },
   {
    "duration": 71,
    "start_time": "2022-02-02T08:46:00.807Z"
   },
   {
    "duration": 41,
    "start_time": "2022-02-02T08:46:00.882Z"
   },
   {
    "duration": 891,
    "start_time": "2022-02-02T08:46:00.926Z"
   },
   {
    "duration": 47,
    "start_time": "2022-02-02T08:46:01.820Z"
   },
   {
    "duration": 1003,
    "start_time": "2022-02-02T08:58:31.535Z"
   },
   {
    "duration": 746,
    "start_time": "2022-02-02T08:58:32.541Z"
   },
   {
    "duration": 10,
    "start_time": "2022-02-02T08:58:33.290Z"
   },
   {
    "duration": 244,
    "start_time": "2022-02-02T08:58:33.304Z"
   },
   {
    "duration": 523,
    "start_time": "2022-02-02T08:58:33.551Z"
   },
   {
    "duration": 375,
    "start_time": "2022-02-02T08:58:34.076Z"
   },
   {
    "duration": 222,
    "start_time": "2022-02-02T08:58:34.455Z"
   },
   {
    "duration": 544,
    "start_time": "2022-02-02T08:58:34.680Z"
   },
   {
    "duration": 395,
    "start_time": "2022-02-02T08:58:35.230Z"
   },
   {
    "duration": 342,
    "start_time": "2022-02-02T08:58:35.628Z"
   },
   {
    "duration": 121,
    "start_time": "2022-02-02T08:58:35.973Z"
   },
   {
    "duration": 352,
    "start_time": "2022-02-02T08:58:36.097Z"
   },
   {
    "duration": 19,
    "start_time": "2022-02-02T08:58:36.451Z"
   },
   {
    "duration": 80,
    "start_time": "2022-02-02T08:58:36.472Z"
   },
   {
    "duration": 317,
    "start_time": "2022-02-02T08:58:36.554Z"
   },
   {
    "duration": 34,
    "start_time": "2022-02-02T08:58:36.873Z"
   },
   {
    "duration": 6,
    "start_time": "2022-02-02T08:58:36.909Z"
   },
   {
    "duration": 117,
    "start_time": "2022-02-02T08:58:36.917Z"
   },
   {
    "duration": 55,
    "start_time": "2022-02-02T08:58:37.037Z"
   },
   {
    "duration": 75,
    "start_time": "2022-02-02T08:58:37.094Z"
   },
   {
    "duration": 121,
    "start_time": "2022-02-02T08:58:37.172Z"
   },
   {
    "duration": 57,
    "start_time": "2022-02-02T08:58:37.296Z"
   },
   {
    "duration": 876,
    "start_time": "2022-02-02T08:58:37.355Z"
   },
   {
    "duration": 34,
    "start_time": "2022-02-02T08:58:38.234Z"
   },
   {
    "duration": 850,
    "start_time": "2022-02-02T09:04:31.006Z"
   },
   {
    "duration": 539,
    "start_time": "2022-02-02T09:04:31.859Z"
   },
   {
    "duration": 11,
    "start_time": "2022-02-02T09:04:32.402Z"
   },
   {
    "duration": 240,
    "start_time": "2022-02-02T09:04:32.417Z"
   },
   {
    "duration": 410,
    "start_time": "2022-02-02T09:04:32.660Z"
   },
   {
    "duration": 375,
    "start_time": "2022-02-02T09:04:33.073Z"
   },
   {
    "duration": 381,
    "start_time": "2022-02-02T09:04:33.450Z"
   },
   {
    "duration": 625,
    "start_time": "2022-02-02T09:04:33.834Z"
   },
   {
    "duration": 473,
    "start_time": "2022-02-02T09:04:34.465Z"
   },
   {
    "duration": 357,
    "start_time": "2022-02-02T09:04:34.941Z"
   },
   {
    "duration": 125,
    "start_time": "2022-02-02T09:04:35.301Z"
   },
   {
    "duration": 370,
    "start_time": "2022-02-02T09:04:35.428Z"
   },
   {
    "duration": 24,
    "start_time": "2022-02-02T09:04:35.801Z"
   },
   {
    "duration": 96,
    "start_time": "2022-02-02T09:04:35.828Z"
   },
   {
    "duration": 514,
    "start_time": "2022-02-02T09:04:35.927Z"
   },
   {
    "duration": 39,
    "start_time": "2022-02-02T09:04:36.448Z"
   },
   {
    "duration": 8,
    "start_time": "2022-02-02T09:04:36.491Z"
   },
   {
    "duration": 125,
    "start_time": "2022-02-02T09:04:36.501Z"
   },
   {
    "duration": 63,
    "start_time": "2022-02-02T09:04:36.629Z"
   },
   {
    "duration": 70,
    "start_time": "2022-02-02T09:04:36.695Z"
   },
   {
    "duration": 91,
    "start_time": "2022-02-02T09:04:36.767Z"
   },
   {
    "duration": 563,
    "start_time": "2022-02-02T09:04:36.861Z"
   },
   {
    "duration": 36,
    "start_time": "2022-02-02T09:04:37.427Z"
   },
   {
    "duration": 21,
    "start_time": "2022-02-02T09:07:29.555Z"
   },
   {
    "duration": 91,
    "start_time": "2022-02-02T09:13:45.875Z"
   },
   {
    "duration": 26,
    "start_time": "2022-02-02T09:14:07.173Z"
   },
   {
    "duration": 24,
    "start_time": "2022-02-02T09:14:47.317Z"
   },
   {
    "duration": 836,
    "start_time": "2022-02-02T09:15:25.780Z"
   },
   {
    "duration": 511,
    "start_time": "2022-02-02T09:15:26.618Z"
   },
   {
    "duration": 10,
    "start_time": "2022-02-02T09:15:27.138Z"
   },
   {
    "duration": 246,
    "start_time": "2022-02-02T09:15:27.151Z"
   },
   {
    "duration": 415,
    "start_time": "2022-02-02T09:15:27.400Z"
   },
   {
    "duration": 358,
    "start_time": "2022-02-02T09:15:27.818Z"
   },
   {
    "duration": 190,
    "start_time": "2022-02-02T09:15:28.178Z"
   },
   {
    "duration": 390,
    "start_time": "2022-02-02T09:15:28.372Z"
   },
   {
    "duration": 422,
    "start_time": "2022-02-02T09:15:28.765Z"
   },
   {
    "duration": 404,
    "start_time": "2022-02-02T09:15:29.190Z"
   },
   {
    "duration": 110,
    "start_time": "2022-02-02T09:15:29.597Z"
   },
   {
    "duration": 481,
    "start_time": "2022-02-02T09:15:29.710Z"
   },
   {
    "duration": 18,
    "start_time": "2022-02-02T09:15:30.194Z"
   },
   {
    "duration": 64,
    "start_time": "2022-02-02T09:15:30.215Z"
   },
   {
    "duration": 415,
    "start_time": "2022-02-02T09:15:30.282Z"
   },
   {
    "duration": 70,
    "start_time": "2022-02-02T09:15:30.699Z"
   },
   {
    "duration": 7,
    "start_time": "2022-02-02T09:15:30.773Z"
   },
   {
    "duration": 129,
    "start_time": "2022-02-02T09:15:30.783Z"
   },
   {
    "duration": 66,
    "start_time": "2022-02-02T09:15:30.915Z"
   },
   {
    "duration": 65,
    "start_time": "2022-02-02T09:15:30.983Z"
   },
   {
    "duration": 98,
    "start_time": "2022-02-02T09:15:31.051Z"
   },
   {
    "duration": 555,
    "start_time": "2022-02-02T09:15:31.152Z"
   },
   {
    "duration": 39,
    "start_time": "2022-02-02T09:15:31.709Z"
   },
   {
    "duration": 349,
    "start_time": "2022-02-02T11:19:48.297Z"
   },
   {
    "duration": 150,
    "start_time": "2022-02-02T11:20:11.648Z"
   },
   {
    "duration": 98808,
    "start_time": "2022-02-02T11:20:18.141Z"
   },
   {
    "duration": 314,
    "start_time": "2022-02-02T11:23:52.706Z"
   },
   {
    "duration": 532,
    "start_time": "2022-02-02T11:25:17.858Z"
   },
   {
    "duration": 285,
    "start_time": "2022-02-02T11:25:30.038Z"
   },
   {
    "duration": 824,
    "start_time": "2022-02-02T11:29:54.524Z"
   },
   {
    "duration": 506,
    "start_time": "2022-02-02T11:29:55.350Z"
   },
   {
    "duration": 7,
    "start_time": "2022-02-02T11:29:55.859Z"
   },
   {
    "duration": 232,
    "start_time": "2022-02-02T11:29:55.869Z"
   },
   {
    "duration": 621,
    "start_time": "2022-02-02T11:29:56.104Z"
   },
   {
    "duration": 363,
    "start_time": "2022-02-02T11:29:56.728Z"
   },
   {
    "duration": 210,
    "start_time": "2022-02-02T11:29:57.093Z"
   },
   {
    "duration": 374,
    "start_time": "2022-02-02T11:29:57.307Z"
   },
   {
    "duration": 396,
    "start_time": "2022-02-02T11:29:57.685Z"
   },
   {
    "duration": 341,
    "start_time": "2022-02-02T11:29:58.084Z"
   },
   {
    "duration": 132,
    "start_time": "2022-02-02T11:29:58.428Z"
   },
   {
    "duration": 351,
    "start_time": "2022-02-02T11:29:58.563Z"
   },
   {
    "duration": 17,
    "start_time": "2022-02-02T11:29:58.916Z"
   },
   {
    "duration": 50,
    "start_time": "2022-02-02T11:29:58.949Z"
   },
   {
    "duration": 349,
    "start_time": "2022-02-02T11:29:59.002Z"
   },
   {
    "duration": 33,
    "start_time": "2022-02-02T11:29:59.353Z"
   },
   {
    "duration": 6,
    "start_time": "2022-02-02T11:29:59.389Z"
   },
   {
    "duration": 124,
    "start_time": "2022-02-02T11:29:59.398Z"
   },
   {
    "duration": 58,
    "start_time": "2022-02-02T11:29:59.525Z"
   },
   {
    "duration": 63,
    "start_time": "2022-02-02T11:29:59.586Z"
   },
   {
    "duration": 82,
    "start_time": "2022-02-02T11:29:59.651Z"
   },
   {
    "duration": 612,
    "start_time": "2022-02-02T11:29:59.736Z"
   },
   {
    "duration": 34,
    "start_time": "2022-02-02T11:30:00.354Z"
   },
   {
    "duration": 303,
    "start_time": "2022-02-02T11:30:00.391Z"
   },
   {
    "duration": 568,
    "start_time": "2022-02-02T11:30:00.697Z"
   },
   {
    "duration": 24,
    "start_time": "2022-02-02T11:31:18.774Z"
   },
   {
    "duration": 638,
    "start_time": "2022-02-02T11:34:43.824Z"
   },
   {
    "duration": 660,
    "start_time": "2022-02-02T11:35:54.934Z"
   },
   {
    "duration": 4095,
    "start_time": "2022-02-02T11:36:18.930Z"
   },
   {
    "duration": 1080,
    "start_time": "2022-02-02T11:36:31.272Z"
   },
   {
    "duration": 984,
    "start_time": "2022-02-02T11:39:23.030Z"
   },
   {
    "duration": 1398,
    "start_time": "2022-02-02T11:41:35.808Z"
   },
   {
    "duration": 1257,
    "start_time": "2022-02-02T11:44:27.367Z"
   },
   {
    "duration": 1192,
    "start_time": "2022-02-02T11:44:46.346Z"
   },
   {
    "duration": 1044,
    "start_time": "2022-02-02T11:45:00.779Z"
   },
   {
    "duration": 1011,
    "start_time": "2022-02-02T11:45:20.679Z"
   },
   {
    "duration": 1114,
    "start_time": "2022-02-02T11:45:27.695Z"
   },
   {
    "duration": 1014,
    "start_time": "2022-02-02T11:45:35.732Z"
   },
   {
    "duration": 1021,
    "start_time": "2022-02-02T11:45:44.532Z"
   },
   {
    "duration": 1063,
    "start_time": "2022-02-02T11:45:58.553Z"
   },
   {
    "duration": 1033,
    "start_time": "2022-02-02T11:46:26.143Z"
   },
   {
    "duration": 1093,
    "start_time": "2022-02-02T11:46:40.265Z"
   },
   {
    "duration": 1075,
    "start_time": "2022-02-02T11:46:54.620Z"
   },
   {
    "duration": 1010,
    "start_time": "2022-02-02T11:47:04.652Z"
   },
   {
    "duration": 1027,
    "start_time": "2022-02-02T11:47:16.040Z"
   },
   {
    "duration": 6,
    "start_time": "2022-02-02T11:53:49.023Z"
   },
   {
    "duration": 934,
    "start_time": "2022-02-02T11:54:13.442Z"
   },
   {
    "duration": 1016,
    "start_time": "2022-02-02T12:03:50.864Z"
   },
   {
    "duration": 984,
    "start_time": "2022-02-02T12:05:36.090Z"
   },
   {
    "duration": 1194,
    "start_time": "2022-02-02T12:06:16.219Z"
   },
   {
    "duration": 6,
    "start_time": "2022-02-02T12:08:49.682Z"
   },
   {
    "duration": 1082,
    "start_time": "2022-02-02T12:08:52.966Z"
   },
   {
    "duration": 1347,
    "start_time": "2022-02-02T12:09:01.945Z"
   },
   {
    "duration": 1476,
    "start_time": "2022-02-02T12:09:13.444Z"
   },
   {
    "duration": 1280,
    "start_time": "2022-02-02T12:09:23.950Z"
   },
   {
    "duration": 332,
    "start_time": "2022-02-02T12:40:28.645Z"
   },
   {
    "duration": 12,
    "start_time": "2022-02-02T12:40:46.765Z"
   },
   {
    "duration": 10,
    "start_time": "2022-02-02T12:52:31.262Z"
   },
   {
    "duration": 14,
    "start_time": "2022-02-02T12:52:42.644Z"
   },
   {
    "duration": 10,
    "start_time": "2022-02-02T12:52:55.893Z"
   },
   {
    "duration": 12,
    "start_time": "2022-02-02T12:54:16.739Z"
   },
   {
    "duration": 10,
    "start_time": "2022-02-02T12:54:28.122Z"
   },
   {
    "duration": 13,
    "start_time": "2022-02-02T12:55:24.725Z"
   },
   {
    "duration": 13,
    "start_time": "2022-02-02T13:00:14.906Z"
   },
   {
    "duration": 17,
    "start_time": "2022-02-02T13:04:48.472Z"
   },
   {
    "duration": 1042,
    "start_time": "2022-02-02T13:04:58.814Z"
   },
   {
    "duration": 1050,
    "start_time": "2022-02-02T13:05:39.555Z"
   },
   {
    "duration": 1139,
    "start_time": "2022-02-02T13:11:04.194Z"
   },
   {
    "duration": 1127,
    "start_time": "2022-02-02T14:23:47.166Z"
   },
   {
    "duration": 1022,
    "start_time": "2022-02-02T14:28:43.665Z"
   },
   {
    "duration": 895,
    "start_time": "2022-02-02T14:29:39.550Z"
   },
   {
    "duration": 510,
    "start_time": "2022-02-02T14:29:40.448Z"
   },
   {
    "duration": 7,
    "start_time": "2022-02-02T14:29:40.961Z"
   },
   {
    "duration": 231,
    "start_time": "2022-02-02T14:29:40.971Z"
   },
   {
    "duration": 398,
    "start_time": "2022-02-02T14:29:41.205Z"
   },
   {
    "duration": 343,
    "start_time": "2022-02-02T14:29:41.605Z"
   },
   {
    "duration": 232,
    "start_time": "2022-02-02T14:29:41.951Z"
   },
   {
    "duration": 437,
    "start_time": "2022-02-02T14:29:42.186Z"
   },
   {
    "duration": 409,
    "start_time": "2022-02-02T14:29:42.627Z"
   },
   {
    "duration": 335,
    "start_time": "2022-02-02T14:29:43.039Z"
   },
   {
    "duration": 129,
    "start_time": "2022-02-02T14:29:43.376Z"
   },
   {
    "duration": 364,
    "start_time": "2022-02-02T14:29:43.507Z"
   },
   {
    "duration": 21,
    "start_time": "2022-02-02T14:29:43.874Z"
   },
   {
    "duration": 87,
    "start_time": "2022-02-02T14:29:43.899Z"
   },
   {
    "duration": 334,
    "start_time": "2022-02-02T14:29:43.988Z"
   },
   {
    "duration": 37,
    "start_time": "2022-02-02T14:29:44.325Z"
   },
   {
    "duration": 6,
    "start_time": "2022-02-02T14:29:44.365Z"
   },
   {
    "duration": 124,
    "start_time": "2022-02-02T14:29:44.374Z"
   },
   {
    "duration": 60,
    "start_time": "2022-02-02T14:29:44.501Z"
   },
   {
    "duration": 59,
    "start_time": "2022-02-02T14:29:44.563Z"
   },
   {
    "duration": 97,
    "start_time": "2022-02-02T14:29:44.624Z"
   },
   {
    "duration": 544,
    "start_time": "2022-02-02T14:29:44.723Z"
   },
   {
    "duration": 27,
    "start_time": "2022-02-02T14:29:45.270Z"
   },
   {
    "duration": 7,
    "start_time": "2022-02-02T14:29:45.299Z"
   },
   {
    "duration": 1050,
    "start_time": "2022-02-02T14:29:45.308Z"
   },
   {
    "duration": 997,
    "start_time": "2022-02-02T14:29:46.361Z"
   },
   {
    "duration": 2177,
    "start_time": "2022-02-02T14:29:47.362Z"
   },
   {
    "duration": 1017,
    "start_time": "2022-02-02T14:29:49.542Z"
   },
   {
    "duration": 918,
    "start_time": "2022-02-03T06:29:19.441Z"
   },
   {
    "duration": 522,
    "start_time": "2022-02-03T06:29:20.361Z"
   },
   {
    "duration": 9,
    "start_time": "2022-02-03T06:29:20.886Z"
   },
   {
    "duration": 241,
    "start_time": "2022-02-03T06:29:20.897Z"
   },
   {
    "duration": 436,
    "start_time": "2022-02-03T06:29:21.140Z"
   },
   {
    "duration": 393,
    "start_time": "2022-02-03T06:29:21.579Z"
   },
   {
    "duration": 207,
    "start_time": "2022-02-03T06:29:21.974Z"
   },
   {
    "duration": 385,
    "start_time": "2022-02-03T06:29:22.184Z"
   },
   {
    "duration": 422,
    "start_time": "2022-02-03T06:29:22.573Z"
   },
   {
    "duration": 366,
    "start_time": "2022-02-03T06:29:22.997Z"
   },
   {
    "duration": 135,
    "start_time": "2022-02-03T06:29:23.369Z"
   },
   {
    "duration": 365,
    "start_time": "2022-02-03T06:29:23.506Z"
   },
   {
    "duration": 16,
    "start_time": "2022-02-03T06:29:23.874Z"
   },
   {
    "duration": 81,
    "start_time": "2022-02-03T06:29:23.893Z"
   },
   {
    "duration": 331,
    "start_time": "2022-02-03T06:29:23.976Z"
   },
   {
    "duration": 30,
    "start_time": "2022-02-03T06:29:24.309Z"
   },
   {
    "duration": 6,
    "start_time": "2022-02-03T06:29:24.342Z"
   },
   {
    "duration": 111,
    "start_time": "2022-02-03T06:29:24.371Z"
   },
   {
    "duration": 53,
    "start_time": "2022-02-03T06:29:24.485Z"
   },
   {
    "duration": 75,
    "start_time": "2022-02-03T06:29:24.541Z"
   },
   {
    "duration": 103,
    "start_time": "2022-02-03T06:29:24.618Z"
   },
   {
    "duration": 709,
    "start_time": "2022-02-03T06:29:24.724Z"
   },
   {
    "duration": 37,
    "start_time": "2022-02-03T06:29:25.437Z"
   },
   {
    "duration": 7,
    "start_time": "2022-02-03T06:29:25.477Z"
   },
   {
    "duration": 1158,
    "start_time": "2022-02-03T06:29:25.487Z"
   },
   {
    "duration": 1258,
    "start_time": "2022-02-03T06:29:26.647Z"
   },
   {
    "duration": 2290,
    "start_time": "2022-02-03T06:29:27.908Z"
   },
   {
    "duration": 1085,
    "start_time": "2022-02-03T06:29:30.200Z"
   },
   {
    "duration": 1033,
    "start_time": "2022-02-03T06:57:21.162Z"
   },
   {
    "duration": 388,
    "start_time": "2022-02-03T08:19:26.745Z"
   },
   {
    "duration": 543,
    "start_time": "2022-02-03T08:20:35.937Z"
   },
   {
    "duration": 27,
    "start_time": "2022-02-03T08:21:34.685Z"
   },
   {
    "duration": 94,
    "start_time": "2022-02-03T08:35:28.535Z"
   },
   {
    "duration": 22,
    "start_time": "2022-02-03T08:35:38.557Z"
   },
   {
    "duration": 28,
    "start_time": "2022-02-03T08:36:38.115Z"
   },
   {
    "duration": 21,
    "start_time": "2022-02-03T08:36:53.026Z"
   },
   {
    "duration": 139,
    "start_time": "2022-02-03T09:49:43.540Z"
   },
   {
    "duration": 25,
    "start_time": "2022-02-03T09:49:53.608Z"
   },
   {
    "duration": 15,
    "start_time": "2022-02-03T11:04:17.557Z"
   },
   {
    "duration": 1411,
    "start_time": "2022-02-03T13:04:33.628Z"
   },
   {
    "duration": 574,
    "start_time": "2022-02-03T13:04:35.042Z"
   },
   {
    "duration": 7,
    "start_time": "2022-02-03T13:04:35.623Z"
   },
   {
    "duration": 241,
    "start_time": "2022-02-03T13:04:35.633Z"
   },
   {
    "duration": 453,
    "start_time": "2022-02-03T13:04:35.876Z"
   },
   {
    "duration": 372,
    "start_time": "2022-02-03T13:04:36.331Z"
   },
   {
    "duration": 1400,
    "start_time": "2022-02-03T13:05:22.532Z"
   },
   {
    "duration": 559,
    "start_time": "2022-02-03T13:05:23.935Z"
   },
   {
    "duration": 7,
    "start_time": "2022-02-03T13:05:24.497Z"
   },
   {
    "duration": 235,
    "start_time": "2022-02-03T13:05:24.507Z"
   },
   {
    "duration": 461,
    "start_time": "2022-02-03T13:05:24.744Z"
   },
   {
    "duration": 395,
    "start_time": "2022-02-03T13:05:25.207Z"
   },
   {
    "duration": 204,
    "start_time": "2022-02-03T13:05:25.605Z"
   },
   {
    "duration": 395,
    "start_time": "2022-02-03T13:05:25.811Z"
   },
   {
    "duration": 439,
    "start_time": "2022-02-03T13:05:26.210Z"
   },
   {
    "duration": 465,
    "start_time": "2022-02-03T13:05:26.672Z"
   },
   {
    "duration": 138,
    "start_time": "2022-02-03T13:05:27.140Z"
   },
   {
    "duration": 378,
    "start_time": "2022-02-03T13:05:27.281Z"
   },
   {
    "duration": 17,
    "start_time": "2022-02-03T13:05:27.669Z"
   },
   {
    "duration": 54,
    "start_time": "2022-02-03T13:05:27.688Z"
   },
   {
    "duration": 352,
    "start_time": "2022-02-03T13:05:27.744Z"
   },
   {
    "duration": 32,
    "start_time": "2022-02-03T13:05:28.098Z"
   },
   {
    "duration": 6,
    "start_time": "2022-02-03T13:05:28.132Z"
   },
   {
    "duration": 131,
    "start_time": "2022-02-03T13:05:28.141Z"
   },
   {
    "duration": 53,
    "start_time": "2022-02-03T13:05:28.274Z"
   },
   {
    "duration": 71,
    "start_time": "2022-02-03T13:05:28.330Z"
   },
   {
    "duration": 95,
    "start_time": "2022-02-03T13:05:28.404Z"
   },
   {
    "duration": 560,
    "start_time": "2022-02-03T13:05:28.501Z"
   },
   {
    "duration": 31,
    "start_time": "2022-02-03T13:05:29.063Z"
   },
   {
    "duration": 35,
    "start_time": "2022-02-03T13:05:29.097Z"
   },
   {
    "duration": 1236,
    "start_time": "2022-02-03T13:05:29.134Z"
   },
   {
    "duration": 1186,
    "start_time": "2022-02-03T13:05:30.373Z"
   },
   {
    "duration": 1129,
    "start_time": "2022-02-03T13:05:31.571Z"
   },
   {
    "duration": 1059,
    "start_time": "2022-02-03T13:05:32.703Z"
   },
   {
    "duration": 14,
    "start_time": "2022-02-03T13:05:33.765Z"
   },
   {
    "duration": 25,
    "start_time": "2022-02-03T13:10:08.937Z"
   },
   {
    "duration": 21,
    "start_time": "2022-02-03T13:12:26.913Z"
   },
   {
    "duration": 488,
    "start_time": "2022-02-03T13:12:35.596Z"
   },
   {
    "duration": 34,
    "start_time": "2022-02-03T13:14:50.877Z"
   },
   {
    "duration": 1325,
    "start_time": "2022-02-03T13:21:27.307Z"
   },
   {
    "duration": 569,
    "start_time": "2022-02-03T13:21:28.635Z"
   },
   {
    "duration": 7,
    "start_time": "2022-02-03T13:21:29.207Z"
   },
   {
    "duration": 248,
    "start_time": "2022-02-03T13:21:29.217Z"
   },
   {
    "duration": 474,
    "start_time": "2022-02-03T13:21:29.469Z"
   },
   {
    "duration": 375,
    "start_time": "2022-02-03T13:21:29.946Z"
   },
   {
    "duration": 204,
    "start_time": "2022-02-03T13:21:30.323Z"
   },
   {
    "duration": 386,
    "start_time": "2022-02-03T13:21:30.530Z"
   },
   {
    "duration": 367,
    "start_time": "2022-02-03T13:21:30.921Z"
   },
   {
    "duration": 367,
    "start_time": "2022-02-03T13:21:31.293Z"
   },
   {
    "duration": 145,
    "start_time": "2022-02-03T13:21:31.662Z"
   },
   {
    "duration": 359,
    "start_time": "2022-02-03T13:21:31.810Z"
   },
   {
    "duration": 18,
    "start_time": "2022-02-03T13:21:32.171Z"
   },
   {
    "duration": 79,
    "start_time": "2022-02-03T13:21:32.192Z"
   },
   {
    "duration": 335,
    "start_time": "2022-02-03T13:21:32.274Z"
   },
   {
    "duration": 32,
    "start_time": "2022-02-03T13:21:32.612Z"
   },
   {
    "duration": 26,
    "start_time": "2022-02-03T13:21:32.647Z"
   },
   {
    "duration": 107,
    "start_time": "2022-02-03T13:21:32.675Z"
   },
   {
    "duration": 53,
    "start_time": "2022-02-03T13:21:32.784Z"
   },
   {
    "duration": 71,
    "start_time": "2022-02-03T13:21:32.839Z"
   },
   {
    "duration": 95,
    "start_time": "2022-02-03T13:21:32.912Z"
   },
   {
    "duration": 670,
    "start_time": "2022-02-03T13:21:33.009Z"
   },
   {
    "duration": 27,
    "start_time": "2022-02-03T13:21:33.681Z"
   },
   {
    "duration": 23,
    "start_time": "2022-02-03T13:21:33.710Z"
   },
   {
    "duration": 1143,
    "start_time": "2022-02-03T13:21:33.736Z"
   },
   {
    "duration": 1047,
    "start_time": "2022-02-03T13:21:34.881Z"
   },
   {
    "duration": 1031,
    "start_time": "2022-02-03T13:21:35.932Z"
   },
   {
    "duration": 1058,
    "start_time": "2022-02-03T13:21:36.969Z"
   },
   {
    "duration": 23,
    "start_time": "2022-02-03T13:21:38.030Z"
   },
   {
    "duration": 32,
    "start_time": "2022-02-03T13:21:38.070Z"
   },
   {
    "duration": 32,
    "start_time": "2022-02-03T13:21:38.104Z"
   },
   {
    "duration": 52,
    "start_time": "2022-02-03T13:21:38.138Z"
   },
   {
    "duration": 33,
    "start_time": "2022-02-03T13:23:46.211Z"
   },
   {
    "duration": 469,
    "start_time": "2022-02-03T13:25:29.737Z"
   },
   {
    "duration": 1445,
    "start_time": "2022-02-03T13:26:00.134Z"
   },
   {
    "duration": 555,
    "start_time": "2022-02-03T13:26:01.583Z"
   },
   {
    "duration": 8,
    "start_time": "2022-02-03T13:26:02.142Z"
   },
   {
    "duration": 230,
    "start_time": "2022-02-03T13:26:02.153Z"
   },
   {
    "duration": 438,
    "start_time": "2022-02-03T13:26:02.385Z"
   },
   {
    "duration": 384,
    "start_time": "2022-02-03T13:26:02.826Z"
   },
   {
    "duration": 197,
    "start_time": "2022-02-03T13:26:03.213Z"
   },
   {
    "duration": 388,
    "start_time": "2022-02-03T13:26:03.414Z"
   },
   {
    "duration": 370,
    "start_time": "2022-02-03T13:26:03.805Z"
   },
   {
    "duration": 393,
    "start_time": "2022-02-03T13:26:04.179Z"
   },
   {
    "duration": 128,
    "start_time": "2022-02-03T13:26:04.574Z"
   },
   {
    "duration": 371,
    "start_time": "2022-02-03T13:26:04.704Z"
   },
   {
    "duration": 17,
    "start_time": "2022-02-03T13:26:05.077Z"
   },
   {
    "duration": 79,
    "start_time": "2022-02-03T13:26:05.096Z"
   },
   {
    "duration": 346,
    "start_time": "2022-02-03T13:26:05.178Z"
   },
   {
    "duration": 43,
    "start_time": "2022-02-03T13:26:05.526Z"
   },
   {
    "duration": 6,
    "start_time": "2022-02-03T13:26:05.572Z"
   },
   {
    "duration": 113,
    "start_time": "2022-02-03T13:26:05.580Z"
   },
   {
    "duration": 52,
    "start_time": "2022-02-03T13:26:05.696Z"
   },
   {
    "duration": 62,
    "start_time": "2022-02-03T13:26:05.753Z"
   },
   {
    "duration": 102,
    "start_time": "2022-02-03T13:26:05.818Z"
   },
   {
    "duration": 570,
    "start_time": "2022-02-03T13:26:05.922Z"
   },
   {
    "duration": 36,
    "start_time": "2022-02-03T13:26:06.498Z"
   },
   {
    "duration": 8,
    "start_time": "2022-02-03T13:26:06.537Z"
   },
   {
    "duration": 1172,
    "start_time": "2022-02-03T13:26:06.548Z"
   },
   {
    "duration": 1170,
    "start_time": "2022-02-03T13:26:07.723Z"
   },
   {
    "duration": 1089,
    "start_time": "2022-02-03T13:26:08.895Z"
   },
   {
    "duration": 1095,
    "start_time": "2022-02-03T13:26:09.987Z"
   },
   {
    "duration": 22,
    "start_time": "2022-02-03T13:26:11.085Z"
   },
   {
    "duration": 33,
    "start_time": "2022-02-03T13:26:11.109Z"
   },
   {
    "duration": 34,
    "start_time": "2022-02-03T13:26:11.170Z"
   },
   {
    "duration": 26,
    "start_time": "2022-02-03T13:26:11.206Z"
   },
   {
    "duration": 3,
    "start_time": "2022-02-04T06:10:29.767Z"
   },
   {
    "duration": 2,
    "start_time": "2022-02-04T06:17:17.246Z"
   },
   {
    "duration": 1213,
    "start_time": "2022-02-04T08:54:23.564Z"
   },
   {
    "duration": 5,
    "start_time": "2022-02-04T08:54:24.779Z"
   },
   {
    "duration": 376,
    "start_time": "2022-02-04T08:54:24.786Z"
   },
   {
    "duration": 146,
    "start_time": "2022-02-04T08:54:25.164Z"
   },
   {
    "duration": 233,
    "start_time": "2022-02-04T08:54:25.312Z"
   },
   {
    "duration": 200,
    "start_time": "2022-02-04T08:54:25.547Z"
   },
   {
    "duration": 122,
    "start_time": "2022-02-04T08:54:25.748Z"
   },
   {
    "duration": 205,
    "start_time": "2022-02-04T08:54:25.871Z"
   },
   {
    "duration": 200,
    "start_time": "2022-02-04T08:54:26.078Z"
   },
   {
    "duration": 199,
    "start_time": "2022-02-04T08:54:26.279Z"
   },
   {
    "duration": 82,
    "start_time": "2022-02-04T08:54:26.480Z"
   },
   {
    "duration": 204,
    "start_time": "2022-02-04T08:54:26.563Z"
   },
   {
    "duration": 11,
    "start_time": "2022-02-04T08:54:26.769Z"
   },
   {
    "duration": 49,
    "start_time": "2022-02-04T08:54:26.782Z"
   },
   {
    "duration": 172,
    "start_time": "2022-02-04T08:54:26.833Z"
   },
   {
    "duration": 38,
    "start_time": "2022-02-04T08:54:27.006Z"
   },
   {
    "duration": 4,
    "start_time": "2022-02-04T08:54:27.045Z"
   },
   {
    "duration": 76,
    "start_time": "2022-02-04T08:54:27.051Z"
   },
   {
    "duration": 33,
    "start_time": "2022-02-04T08:54:27.129Z"
   },
   {
    "duration": 35,
    "start_time": "2022-02-04T08:54:27.163Z"
   },
   {
    "duration": 59,
    "start_time": "2022-02-04T08:54:27.200Z"
   },
   {
    "duration": 296,
    "start_time": "2022-02-04T08:54:27.260Z"
   },
   {
    "duration": 15,
    "start_time": "2022-02-04T08:54:27.558Z"
   },
   {
    "duration": 4,
    "start_time": "2022-02-04T08:54:27.575Z"
   },
   {
    "duration": 622,
    "start_time": "2022-02-04T08:54:27.580Z"
   },
   {
    "duration": 644,
    "start_time": "2022-02-04T08:54:28.203Z"
   },
   {
    "duration": 562,
    "start_time": "2022-02-04T08:54:28.849Z"
   },
   {
    "duration": 559,
    "start_time": "2022-02-04T08:54:29.413Z"
   },
   {
    "duration": 15,
    "start_time": "2022-02-04T08:54:29.975Z"
   },
   {
    "duration": 36,
    "start_time": "2022-02-04T08:54:29.992Z"
   },
   {
    "duration": 1185,
    "start_time": "2022-02-12T11:48:08.131Z"
   },
   {
    "duration": 6,
    "start_time": "2022-02-12T11:48:09.318Z"
   },
   {
    "duration": 430,
    "start_time": "2022-02-12T11:48:09.326Z"
   },
   {
    "duration": 189,
    "start_time": "2022-02-12T11:48:09.758Z"
   },
   {
    "duration": 301,
    "start_time": "2022-02-12T11:48:09.949Z"
   },
   {
    "duration": 280,
    "start_time": "2022-02-12T11:48:10.252Z"
   },
   {
    "duration": 173,
    "start_time": "2022-02-12T11:48:10.534Z"
   },
   {
    "duration": 297,
    "start_time": "2022-02-12T11:48:10.710Z"
   },
   {
    "duration": 260,
    "start_time": "2022-02-12T11:48:11.012Z"
   },
   {
    "duration": 248,
    "start_time": "2022-02-12T11:48:11.275Z"
   },
   {
    "duration": 112,
    "start_time": "2022-02-12T11:48:11.525Z"
   },
   {
    "duration": 288,
    "start_time": "2022-02-12T11:48:11.639Z"
   },
   {
    "duration": 15,
    "start_time": "2022-02-12T11:48:11.930Z"
   },
   {
    "duration": 68,
    "start_time": "2022-02-12T11:48:11.947Z"
   },
   {
    "duration": 238,
    "start_time": "2022-02-12T11:48:12.018Z"
   },
   {
    "duration": 24,
    "start_time": "2022-02-12T11:48:12.258Z"
   },
   {
    "duration": 24,
    "start_time": "2022-02-12T11:48:12.284Z"
   },
   {
    "duration": 77,
    "start_time": "2022-02-12T11:48:12.310Z"
   },
   {
    "duration": 55,
    "start_time": "2022-02-12T11:48:12.389Z"
   },
   {
    "duration": 62,
    "start_time": "2022-02-12T11:48:12.446Z"
   },
   {
    "duration": 65,
    "start_time": "2022-02-12T11:48:12.510Z"
   },
   {
    "duration": 362,
    "start_time": "2022-02-12T11:48:12.576Z"
   },
   {
    "duration": 19,
    "start_time": "2022-02-12T11:48:12.940Z"
   },
   {
    "duration": 16,
    "start_time": "2022-02-12T11:48:12.961Z"
   },
   {
    "duration": 781,
    "start_time": "2022-02-12T11:48:12.979Z"
   },
   {
    "duration": 1109,
    "start_time": "2022-02-12T11:48:13.762Z"
   },
   {
    "duration": 1088,
    "start_time": "2022-02-12T11:48:14.877Z"
   },
   {
    "duration": 1109,
    "start_time": "2022-02-12T11:48:15.968Z"
   },
   {
    "duration": 36,
    "start_time": "2022-02-12T11:48:17.080Z"
   },
   {
    "duration": 31,
    "start_time": "2022-02-12T11:48:17.118Z"
   },
   {
    "duration": 267,
    "start_time": "2022-02-13T06:33:14.726Z"
   },
   {
    "duration": 1073,
    "start_time": "2022-02-13T06:33:32.998Z"
   },
   {
    "duration": 5,
    "start_time": "2022-02-13T06:33:34.072Z"
   },
   {
    "duration": 345,
    "start_time": "2022-02-13T06:33:34.080Z"
   },
   {
    "duration": 159,
    "start_time": "2022-02-13T06:33:34.427Z"
   },
   {
    "duration": 270,
    "start_time": "2022-02-13T06:33:34.587Z"
   },
   {
    "duration": 234,
    "start_time": "2022-02-13T06:33:34.858Z"
   },
   {
    "duration": 131,
    "start_time": "2022-02-13T06:33:35.094Z"
   },
   {
    "duration": 246,
    "start_time": "2022-02-13T06:33:35.227Z"
   },
   {
    "duration": 234,
    "start_time": "2022-02-13T06:33:35.476Z"
   },
   {
    "duration": 235,
    "start_time": "2022-02-13T06:33:35.712Z"
   },
   {
    "duration": 95,
    "start_time": "2022-02-13T06:33:35.948Z"
   },
   {
    "duration": 228,
    "start_time": "2022-02-13T06:33:36.044Z"
   },
   {
    "duration": 11,
    "start_time": "2022-02-13T06:33:36.274Z"
   },
   {
    "duration": 48,
    "start_time": "2022-02-13T06:33:36.287Z"
   },
   {
    "duration": 222,
    "start_time": "2022-02-13T06:33:36.337Z"
   },
   {
    "duration": 18,
    "start_time": "2022-02-13T06:33:36.560Z"
   },
   {
    "duration": 4,
    "start_time": "2022-02-13T06:33:36.580Z"
   },
   {
    "duration": 89,
    "start_time": "2022-02-13T06:33:36.585Z"
   },
   {
    "duration": 43,
    "start_time": "2022-02-13T06:33:36.676Z"
   },
   {
    "duration": 37,
    "start_time": "2022-02-13T06:33:36.721Z"
   },
   {
    "duration": 62,
    "start_time": "2022-02-13T06:33:36.760Z"
   },
   {
    "duration": 321,
    "start_time": "2022-02-13T06:33:36.824Z"
   },
   {
    "duration": 16,
    "start_time": "2022-02-13T06:33:37.148Z"
   },
   {
    "duration": 15,
    "start_time": "2022-02-13T06:33:37.166Z"
   },
   {
    "duration": 705,
    "start_time": "2022-02-13T06:33:37.182Z"
   },
   {
    "duration": 633,
    "start_time": "2022-02-13T06:33:37.889Z"
   },
   {
    "duration": 294,
    "start_time": "2022-02-13T06:33:38.523Z"
   },
   {
    "duration": 252,
    "start_time": "2022-02-13T06:33:38.567Z"
   },
   {
    "duration": 247,
    "start_time": "2022-02-13T06:33:38.573Z"
   },
   {
    "duration": 245,
    "start_time": "2022-02-13T06:33:38.576Z"
   },
   {
    "duration": 242,
    "start_time": "2022-02-13T06:33:38.580Z"
   },
   {
    "duration": 7,
    "start_time": "2022-02-13T06:34:09.247Z"
   },
   {
    "duration": 74,
    "start_time": "2022-02-13T06:36:22.155Z"
   },
   {
    "duration": 109,
    "start_time": "2022-02-13T06:36:36.159Z"
   },
   {
    "duration": 86,
    "start_time": "2022-02-13T07:14:03.310Z"
   },
   {
    "duration": 12,
    "start_time": "2022-02-13T07:14:47.719Z"
   },
   {
    "duration": 13,
    "start_time": "2022-02-13T07:15:13.608Z"
   }
  ],
  "kernelspec": {
   "display_name": "Python 3",
   "language": "python",
   "name": "python3"
  },
  "language_info": {
   "codemirror_mode": {
    "name": "ipython",
    "version": 3
   },
   "file_extension": ".py",
   "mimetype": "text/x-python",
   "name": "python",
   "nbconvert_exporter": "python",
   "pygments_lexer": "ipython3",
   "version": "3.8.8"
  },
  "toc": {
   "base_numbering": 1,
   "nav_menu": {},
   "number_sections": true,
   "sideBar": true,
   "skip_h1_title": true,
   "title_cell": "Table of Contents",
   "title_sidebar": "Contents",
   "toc_cell": false,
   "toc_position": {},
   "toc_section_display": true,
   "toc_window_display": false
  }
 },
 "nbformat": 4,
 "nbformat_minor": 2
}
