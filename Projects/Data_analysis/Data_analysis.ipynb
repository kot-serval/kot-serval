{
 "cells": [
  {
   "cell_type": "markdown",
   "metadata": {},
   "source": [
    "# Продажа квартир в Санкт-Петербурге — анализ рынка недвижимости."
   ]
  },
  {
   "cell_type": "markdown",
   "metadata": {},
   "source": [
    "## Описание проекта\n",
    "\n",
    "\n",
    "На основе данных сервиса Яндекс.Недвижимость определена рыночная стоимость объектов недвижимости разного типа, типичные параметры квартир, в зависимости от удаленности от центра. Проведена предобработка данных. Добавлены новые данные. Построены гистограммы, боксплоты, диаграммы рассеивания.\n",
    "\n",
    "\n",
    "\n",
    "**Цель исследования:** \n",
    "\n",
    "\n",
    "Используя данные сервиса Яндекс.Недвижимость, определить рыночную стоимость объектов недвижимости и типичные параметры квартир.\n"
   ]
  },
  {
   "cell_type": "markdown",
   "metadata": {},
   "source": [
    "## Подготовка данных"
   ]
  },
  {
   "cell_type": "markdown",
   "metadata": {},
   "source": [
    "#### Импортируем библиотеки, которые будем использовать в дальнейшем."
   ]
  },
  {
   "cell_type": "code",
   "execution_count": 1,
   "metadata": {},
   "outputs": [],
   "source": [
    "import pandas as pd\n",
    "import matplotlib.pyplot as plt\n",
    "import pylab as pl\n",
    "import math"
   ]
  },
  {
   "cell_type": "markdown",
   "metadata": {},
   "source": [
    "#### Загружаем данные"
   ]
  },
  {
   "cell_type": "code",
   "execution_count": 2,
   "metadata": {},
   "outputs": [
    {
     "name": "stderr",
     "output_type": "stream",
     "text": [
      "/opt/conda/lib/python3.7/site-packages/ipykernel_launcher.py:1: ParserWarning: Falling back to the 'python' engine because the 'c' engine does not support regex separators (separators > 1 char and different from '\\s+' are interpreted as regex); you can avoid this warning by specifying engine='python'.\n",
      "  \"\"\"Entry point for launching an IPython kernel.\n"
     ]
    },
    {
     "data": {
      "text/html": [
       "<div>\n",
       "<style scoped>\n",
       "    .dataframe tbody tr th:only-of-type {\n",
       "        vertical-align: middle;\n",
       "    }\n",
       "\n",
       "    .dataframe tbody tr th {\n",
       "        vertical-align: top;\n",
       "    }\n",
       "\n",
       "    .dataframe thead th {\n",
       "        text-align: right;\n",
       "    }\n",
       "</style>\n",
       "<table border=\"1\" class=\"dataframe\">\n",
       "  <thead>\n",
       "    <tr style=\"text-align: right;\">\n",
       "      <th></th>\n",
       "      <th>total_images</th>\n",
       "      <th>last_price</th>\n",
       "      <th>total_area</th>\n",
       "      <th>first_day_exposition</th>\n",
       "      <th>rooms</th>\n",
       "      <th>ceiling_height</th>\n",
       "      <th>floors_total</th>\n",
       "      <th>living_area</th>\n",
       "      <th>floor</th>\n",
       "      <th>is_apartment</th>\n",
       "      <th>...</th>\n",
       "      <th>kitchen_area</th>\n",
       "      <th>balcony</th>\n",
       "      <th>locality_name</th>\n",
       "      <th>airports_nearest</th>\n",
       "      <th>cityCenters_nearest</th>\n",
       "      <th>parks_around3000</th>\n",
       "      <th>parks_nearest</th>\n",
       "      <th>ponds_around3000</th>\n",
       "      <th>ponds_nearest</th>\n",
       "      <th>days_exposition</th>\n",
       "    </tr>\n",
       "  </thead>\n",
       "  <tbody>\n",
       "    <tr>\n",
       "      <td>0</td>\n",
       "      <td>20</td>\n",
       "      <td>13000000.0</td>\n",
       "      <td>108.0</td>\n",
       "      <td>2019-03-07T00:00:00</td>\n",
       "      <td>3</td>\n",
       "      <td>2.70</td>\n",
       "      <td>16.0</td>\n",
       "      <td>51.0</td>\n",
       "      <td>8</td>\n",
       "      <td>NaN</td>\n",
       "      <td>...</td>\n",
       "      <td>25.0</td>\n",
       "      <td>NaN</td>\n",
       "      <td>Санкт-Петербург</td>\n",
       "      <td>18863.0</td>\n",
       "      <td>16028.0</td>\n",
       "      <td>1.0</td>\n",
       "      <td>482.0</td>\n",
       "      <td>2.0</td>\n",
       "      <td>755.0</td>\n",
       "      <td>NaN</td>\n",
       "    </tr>\n",
       "    <tr>\n",
       "      <td>1</td>\n",
       "      <td>7</td>\n",
       "      <td>3350000.0</td>\n",
       "      <td>40.4</td>\n",
       "      <td>2018-12-04T00:00:00</td>\n",
       "      <td>1</td>\n",
       "      <td>NaN</td>\n",
       "      <td>11.0</td>\n",
       "      <td>18.6</td>\n",
       "      <td>1</td>\n",
       "      <td>NaN</td>\n",
       "      <td>...</td>\n",
       "      <td>11.0</td>\n",
       "      <td>2.0</td>\n",
       "      <td>посёлок Шушары</td>\n",
       "      <td>12817.0</td>\n",
       "      <td>18603.0</td>\n",
       "      <td>0.0</td>\n",
       "      <td>NaN</td>\n",
       "      <td>0.0</td>\n",
       "      <td>NaN</td>\n",
       "      <td>81.0</td>\n",
       "    </tr>\n",
       "    <tr>\n",
       "      <td>2</td>\n",
       "      <td>10</td>\n",
       "      <td>5196000.0</td>\n",
       "      <td>56.0</td>\n",
       "      <td>2015-08-20T00:00:00</td>\n",
       "      <td>2</td>\n",
       "      <td>NaN</td>\n",
       "      <td>5.0</td>\n",
       "      <td>34.3</td>\n",
       "      <td>4</td>\n",
       "      <td>NaN</td>\n",
       "      <td>...</td>\n",
       "      <td>8.3</td>\n",
       "      <td>0.0</td>\n",
       "      <td>Санкт-Петербург</td>\n",
       "      <td>21741.0</td>\n",
       "      <td>13933.0</td>\n",
       "      <td>1.0</td>\n",
       "      <td>90.0</td>\n",
       "      <td>2.0</td>\n",
       "      <td>574.0</td>\n",
       "      <td>558.0</td>\n",
       "    </tr>\n",
       "    <tr>\n",
       "      <td>3</td>\n",
       "      <td>0</td>\n",
       "      <td>64900000.0</td>\n",
       "      <td>159.0</td>\n",
       "      <td>2015-07-24T00:00:00</td>\n",
       "      <td>3</td>\n",
       "      <td>NaN</td>\n",
       "      <td>14.0</td>\n",
       "      <td>NaN</td>\n",
       "      <td>9</td>\n",
       "      <td>NaN</td>\n",
       "      <td>...</td>\n",
       "      <td>NaN</td>\n",
       "      <td>0.0</td>\n",
       "      <td>Санкт-Петербург</td>\n",
       "      <td>28098.0</td>\n",
       "      <td>6800.0</td>\n",
       "      <td>2.0</td>\n",
       "      <td>84.0</td>\n",
       "      <td>3.0</td>\n",
       "      <td>234.0</td>\n",
       "      <td>424.0</td>\n",
       "    </tr>\n",
       "    <tr>\n",
       "      <td>4</td>\n",
       "      <td>2</td>\n",
       "      <td>10000000.0</td>\n",
       "      <td>100.0</td>\n",
       "      <td>2018-06-19T00:00:00</td>\n",
       "      <td>2</td>\n",
       "      <td>3.03</td>\n",
       "      <td>14.0</td>\n",
       "      <td>32.0</td>\n",
       "      <td>13</td>\n",
       "      <td>NaN</td>\n",
       "      <td>...</td>\n",
       "      <td>41.0</td>\n",
       "      <td>NaN</td>\n",
       "      <td>Санкт-Петербург</td>\n",
       "      <td>31856.0</td>\n",
       "      <td>8098.0</td>\n",
       "      <td>2.0</td>\n",
       "      <td>112.0</td>\n",
       "      <td>1.0</td>\n",
       "      <td>48.0</td>\n",
       "      <td>121.0</td>\n",
       "    </tr>\n",
       "  </tbody>\n",
       "</table>\n",
       "<p>5 rows × 22 columns</p>\n",
       "</div>"
      ],
      "text/plain": [
       "   total_images  last_price  total_area first_day_exposition  rooms  \\\n",
       "0            20  13000000.0       108.0  2019-03-07T00:00:00      3   \n",
       "1             7   3350000.0        40.4  2018-12-04T00:00:00      1   \n",
       "2            10   5196000.0        56.0  2015-08-20T00:00:00      2   \n",
       "3             0  64900000.0       159.0  2015-07-24T00:00:00      3   \n",
       "4             2  10000000.0       100.0  2018-06-19T00:00:00      2   \n",
       "\n",
       "   ceiling_height  floors_total  living_area  floor is_apartment  ...  \\\n",
       "0            2.70          16.0         51.0      8          NaN  ...   \n",
       "1             NaN          11.0         18.6      1          NaN  ...   \n",
       "2             NaN           5.0         34.3      4          NaN  ...   \n",
       "3             NaN          14.0          NaN      9          NaN  ...   \n",
       "4            3.03          14.0         32.0     13          NaN  ...   \n",
       "\n",
       "   kitchen_area  balcony    locality_name  airports_nearest  \\\n",
       "0          25.0      NaN  Санкт-Петербург           18863.0   \n",
       "1          11.0      2.0   посёлок Шушары           12817.0   \n",
       "2           8.3      0.0  Санкт-Петербург           21741.0   \n",
       "3           NaN      0.0  Санкт-Петербург           28098.0   \n",
       "4          41.0      NaN  Санкт-Петербург           31856.0   \n",
       "\n",
       "  cityCenters_nearest  parks_around3000  parks_nearest  ponds_around3000  \\\n",
       "0             16028.0               1.0          482.0               2.0   \n",
       "1             18603.0               0.0            NaN               0.0   \n",
       "2             13933.0               1.0           90.0               2.0   \n",
       "3              6800.0               2.0           84.0               3.0   \n",
       "4              8098.0               2.0          112.0               1.0   \n",
       "\n",
       "   ponds_nearest  days_exposition  \n",
       "0          755.0              NaN  \n",
       "1            NaN             81.0  \n",
       "2          574.0            558.0  \n",
       "3          234.0            424.0  \n",
       "4           48.0            121.0  \n",
       "\n",
       "[5 rows x 22 columns]"
      ]
     },
     "execution_count": 2,
     "metadata": {},
     "output_type": "execute_result"
    }
   ],
   "source": [
    "df = pd.read_csv ('/datasets/real_estate_data.csv', sep='\\\\t', decimal='.')\n",
    "df.head()"
   ]
  },
  {
   "cell_type": "markdown",
   "metadata": {},
   "source": [
    "Переименуем столбцы, приведя их к единому стилю."
   ]
  },
  {
   "cell_type": "code",
   "execution_count": 3,
   "metadata": {},
   "outputs": [
    {
     "data": {
      "text/html": [
       "<div>\n",
       "<style scoped>\n",
       "    .dataframe tbody tr th:only-of-type {\n",
       "        vertical-align: middle;\n",
       "    }\n",
       "\n",
       "    .dataframe tbody tr th {\n",
       "        vertical-align: top;\n",
       "    }\n",
       "\n",
       "    .dataframe thead th {\n",
       "        text-align: right;\n",
       "    }\n",
       "</style>\n",
       "<table border=\"1\" class=\"dataframe\">\n",
       "  <thead>\n",
       "    <tr style=\"text-align: right;\">\n",
       "      <th></th>\n",
       "      <th>total_images</th>\n",
       "      <th>last_price</th>\n",
       "      <th>total_area</th>\n",
       "      <th>first_day_exposition</th>\n",
       "      <th>rooms</th>\n",
       "      <th>ceiling_height</th>\n",
       "      <th>floors_total</th>\n",
       "      <th>living_area</th>\n",
       "      <th>floor</th>\n",
       "      <th>is_apartment</th>\n",
       "      <th>...</th>\n",
       "      <th>kitchen_area</th>\n",
       "      <th>balcony</th>\n",
       "      <th>locality_name</th>\n",
       "      <th>airports_nearest</th>\n",
       "      <th>city_centers_nearest</th>\n",
       "      <th>parks_around_3000</th>\n",
       "      <th>parks_nearest</th>\n",
       "      <th>ponds_around_3000</th>\n",
       "      <th>ponds_nearest</th>\n",
       "      <th>days_exposition</th>\n",
       "    </tr>\n",
       "  </thead>\n",
       "  <tbody>\n",
       "    <tr>\n",
       "      <td>0</td>\n",
       "      <td>20</td>\n",
       "      <td>13000000.0</td>\n",
       "      <td>108.0</td>\n",
       "      <td>2019-03-07T00:00:00</td>\n",
       "      <td>3</td>\n",
       "      <td>2.70</td>\n",
       "      <td>16.0</td>\n",
       "      <td>51.0</td>\n",
       "      <td>8</td>\n",
       "      <td>NaN</td>\n",
       "      <td>...</td>\n",
       "      <td>25.0</td>\n",
       "      <td>NaN</td>\n",
       "      <td>Санкт-Петербург</td>\n",
       "      <td>18863.0</td>\n",
       "      <td>16028.0</td>\n",
       "      <td>1.0</td>\n",
       "      <td>482.0</td>\n",
       "      <td>2.0</td>\n",
       "      <td>755.0</td>\n",
       "      <td>NaN</td>\n",
       "    </tr>\n",
       "    <tr>\n",
       "      <td>1</td>\n",
       "      <td>7</td>\n",
       "      <td>3350000.0</td>\n",
       "      <td>40.4</td>\n",
       "      <td>2018-12-04T00:00:00</td>\n",
       "      <td>1</td>\n",
       "      <td>NaN</td>\n",
       "      <td>11.0</td>\n",
       "      <td>18.6</td>\n",
       "      <td>1</td>\n",
       "      <td>NaN</td>\n",
       "      <td>...</td>\n",
       "      <td>11.0</td>\n",
       "      <td>2.0</td>\n",
       "      <td>посёлок Шушары</td>\n",
       "      <td>12817.0</td>\n",
       "      <td>18603.0</td>\n",
       "      <td>0.0</td>\n",
       "      <td>NaN</td>\n",
       "      <td>0.0</td>\n",
       "      <td>NaN</td>\n",
       "      <td>81.0</td>\n",
       "    </tr>\n",
       "    <tr>\n",
       "      <td>2</td>\n",
       "      <td>10</td>\n",
       "      <td>5196000.0</td>\n",
       "      <td>56.0</td>\n",
       "      <td>2015-08-20T00:00:00</td>\n",
       "      <td>2</td>\n",
       "      <td>NaN</td>\n",
       "      <td>5.0</td>\n",
       "      <td>34.3</td>\n",
       "      <td>4</td>\n",
       "      <td>NaN</td>\n",
       "      <td>...</td>\n",
       "      <td>8.3</td>\n",
       "      <td>0.0</td>\n",
       "      <td>Санкт-Петербург</td>\n",
       "      <td>21741.0</td>\n",
       "      <td>13933.0</td>\n",
       "      <td>1.0</td>\n",
       "      <td>90.0</td>\n",
       "      <td>2.0</td>\n",
       "      <td>574.0</td>\n",
       "      <td>558.0</td>\n",
       "    </tr>\n",
       "    <tr>\n",
       "      <td>3</td>\n",
       "      <td>0</td>\n",
       "      <td>64900000.0</td>\n",
       "      <td>159.0</td>\n",
       "      <td>2015-07-24T00:00:00</td>\n",
       "      <td>3</td>\n",
       "      <td>NaN</td>\n",
       "      <td>14.0</td>\n",
       "      <td>NaN</td>\n",
       "      <td>9</td>\n",
       "      <td>NaN</td>\n",
       "      <td>...</td>\n",
       "      <td>NaN</td>\n",
       "      <td>0.0</td>\n",
       "      <td>Санкт-Петербург</td>\n",
       "      <td>28098.0</td>\n",
       "      <td>6800.0</td>\n",
       "      <td>2.0</td>\n",
       "      <td>84.0</td>\n",
       "      <td>3.0</td>\n",
       "      <td>234.0</td>\n",
       "      <td>424.0</td>\n",
       "    </tr>\n",
       "    <tr>\n",
       "      <td>4</td>\n",
       "      <td>2</td>\n",
       "      <td>10000000.0</td>\n",
       "      <td>100.0</td>\n",
       "      <td>2018-06-19T00:00:00</td>\n",
       "      <td>2</td>\n",
       "      <td>3.03</td>\n",
       "      <td>14.0</td>\n",
       "      <td>32.0</td>\n",
       "      <td>13</td>\n",
       "      <td>NaN</td>\n",
       "      <td>...</td>\n",
       "      <td>41.0</td>\n",
       "      <td>NaN</td>\n",
       "      <td>Санкт-Петербург</td>\n",
       "      <td>31856.0</td>\n",
       "      <td>8098.0</td>\n",
       "      <td>2.0</td>\n",
       "      <td>112.0</td>\n",
       "      <td>1.0</td>\n",
       "      <td>48.0</td>\n",
       "      <td>121.0</td>\n",
       "    </tr>\n",
       "  </tbody>\n",
       "</table>\n",
       "<p>5 rows × 22 columns</p>\n",
       "</div>"
      ],
      "text/plain": [
       "   total_images  last_price  total_area first_day_exposition  rooms  \\\n",
       "0            20  13000000.0       108.0  2019-03-07T00:00:00      3   \n",
       "1             7   3350000.0        40.4  2018-12-04T00:00:00      1   \n",
       "2            10   5196000.0        56.0  2015-08-20T00:00:00      2   \n",
       "3             0  64900000.0       159.0  2015-07-24T00:00:00      3   \n",
       "4             2  10000000.0       100.0  2018-06-19T00:00:00      2   \n",
       "\n",
       "   ceiling_height  floors_total  living_area  floor is_apartment  ...  \\\n",
       "0            2.70          16.0         51.0      8          NaN  ...   \n",
       "1             NaN          11.0         18.6      1          NaN  ...   \n",
       "2             NaN           5.0         34.3      4          NaN  ...   \n",
       "3             NaN          14.0          NaN      9          NaN  ...   \n",
       "4            3.03          14.0         32.0     13          NaN  ...   \n",
       "\n",
       "   kitchen_area  balcony    locality_name  airports_nearest  \\\n",
       "0          25.0      NaN  Санкт-Петербург           18863.0   \n",
       "1          11.0      2.0   посёлок Шушары           12817.0   \n",
       "2           8.3      0.0  Санкт-Петербург           21741.0   \n",
       "3           NaN      0.0  Санкт-Петербург           28098.0   \n",
       "4          41.0      NaN  Санкт-Петербург           31856.0   \n",
       "\n",
       "  city_centers_nearest  parks_around_3000  parks_nearest  ponds_around_3000  \\\n",
       "0              16028.0                1.0          482.0                2.0   \n",
       "1              18603.0                0.0            NaN                0.0   \n",
       "2              13933.0                1.0           90.0                2.0   \n",
       "3               6800.0                2.0           84.0                3.0   \n",
       "4               8098.0                2.0          112.0                1.0   \n",
       "\n",
       "   ponds_nearest  days_exposition  \n",
       "0          755.0              NaN  \n",
       "1            NaN             81.0  \n",
       "2          574.0            558.0  \n",
       "3          234.0            424.0  \n",
       "4           48.0            121.0  \n",
       "\n",
       "[5 rows x 22 columns]"
      ]
     },
     "execution_count": 3,
     "metadata": {},
     "output_type": "execute_result"
    }
   ],
   "source": [
    "df = df.rename (columns= {'cityCenters_nearest': 'city_centers_nearest', 'parks_around3000': 'parks_around_3000', 'ponds_around3000': 'ponds_around_3000'})\n",
    "df.head()"
   ]
  },
  {
   "cell_type": "code",
   "execution_count": 4,
   "metadata": {},
   "outputs": [
    {
     "name": "stdout",
     "output_type": "stream",
     "text": [
      "<class 'pandas.core.frame.DataFrame'>\n",
      "RangeIndex: 23699 entries, 0 to 23698\n",
      "Data columns (total 22 columns):\n",
      "total_images            23699 non-null int64\n",
      "last_price              23699 non-null float64\n",
      "total_area              23699 non-null float64\n",
      "first_day_exposition    23699 non-null object\n",
      "rooms                   23699 non-null int64\n",
      "ceiling_height          14504 non-null float64\n",
      "floors_total            23613 non-null float64\n",
      "living_area             21796 non-null float64\n",
      "floor                   23699 non-null int64\n",
      "is_apartment            2775 non-null object\n",
      "studio                  23699 non-null bool\n",
      "open_plan               23699 non-null bool\n",
      "kitchen_area            21421 non-null float64\n",
      "balcony                 12180 non-null float64\n",
      "locality_name           23650 non-null object\n",
      "airports_nearest        18157 non-null float64\n",
      "city_centers_nearest    18180 non-null float64\n",
      "parks_around_3000       18181 non-null float64\n",
      "parks_nearest           8079 non-null float64\n",
      "ponds_around_3000       18181 non-null float64\n",
      "ponds_nearest           9110 non-null float64\n",
      "days_exposition         20518 non-null float64\n",
      "dtypes: bool(2), float64(14), int64(3), object(3)\n",
      "memory usage: 3.7+ MB\n"
     ]
    }
   ],
   "source": [
    "df.info()"
   ]
  },
  {
   "cell_type": "code",
   "execution_count": 5,
   "metadata": {},
   "outputs": [
    {
     "data": {
      "text/html": [
       "<div>\n",
       "<style scoped>\n",
       "    .dataframe tbody tr th:only-of-type {\n",
       "        vertical-align: middle;\n",
       "    }\n",
       "\n",
       "    .dataframe tbody tr th {\n",
       "        vertical-align: top;\n",
       "    }\n",
       "\n",
       "    .dataframe thead th {\n",
       "        text-align: right;\n",
       "    }\n",
       "</style>\n",
       "<table border=\"1\" class=\"dataframe\">\n",
       "  <thead>\n",
       "    <tr style=\"text-align: right;\">\n",
       "      <th></th>\n",
       "      <th>count</th>\n",
       "      <th>mean</th>\n",
       "      <th>std</th>\n",
       "      <th>min</th>\n",
       "      <th>25%</th>\n",
       "      <th>50%</th>\n",
       "      <th>75%</th>\n",
       "      <th>max</th>\n",
       "    </tr>\n",
       "  </thead>\n",
       "  <tbody>\n",
       "    <tr>\n",
       "      <td>total_images</td>\n",
       "      <td>23699.0</td>\n",
       "      <td>9.858475e+00</td>\n",
       "      <td>5.682529e+00</td>\n",
       "      <td>0.0</td>\n",
       "      <td>6.00</td>\n",
       "      <td>9.00</td>\n",
       "      <td>14.0</td>\n",
       "      <td>50.0</td>\n",
       "    </tr>\n",
       "    <tr>\n",
       "      <td>last_price</td>\n",
       "      <td>23699.0</td>\n",
       "      <td>6.541549e+06</td>\n",
       "      <td>1.088701e+07</td>\n",
       "      <td>12190.0</td>\n",
       "      <td>3400000.00</td>\n",
       "      <td>4650000.00</td>\n",
       "      <td>6800000.0</td>\n",
       "      <td>763000000.0</td>\n",
       "    </tr>\n",
       "    <tr>\n",
       "      <td>total_area</td>\n",
       "      <td>23699.0</td>\n",
       "      <td>6.034865e+01</td>\n",
       "      <td>3.565408e+01</td>\n",
       "      <td>12.0</td>\n",
       "      <td>40.00</td>\n",
       "      <td>52.00</td>\n",
       "      <td>69.9</td>\n",
       "      <td>900.0</td>\n",
       "    </tr>\n",
       "    <tr>\n",
       "      <td>rooms</td>\n",
       "      <td>23699.0</td>\n",
       "      <td>2.070636e+00</td>\n",
       "      <td>1.078405e+00</td>\n",
       "      <td>0.0</td>\n",
       "      <td>1.00</td>\n",
       "      <td>2.00</td>\n",
       "      <td>3.0</td>\n",
       "      <td>19.0</td>\n",
       "    </tr>\n",
       "    <tr>\n",
       "      <td>ceiling_height</td>\n",
       "      <td>14504.0</td>\n",
       "      <td>2.771499e+00</td>\n",
       "      <td>1.261056e+00</td>\n",
       "      <td>1.0</td>\n",
       "      <td>2.52</td>\n",
       "      <td>2.65</td>\n",
       "      <td>2.8</td>\n",
       "      <td>100.0</td>\n",
       "    </tr>\n",
       "    <tr>\n",
       "      <td>floors_total</td>\n",
       "      <td>23613.0</td>\n",
       "      <td>1.067382e+01</td>\n",
       "      <td>6.597173e+00</td>\n",
       "      <td>1.0</td>\n",
       "      <td>5.00</td>\n",
       "      <td>9.00</td>\n",
       "      <td>16.0</td>\n",
       "      <td>60.0</td>\n",
       "    </tr>\n",
       "    <tr>\n",
       "      <td>living_area</td>\n",
       "      <td>21796.0</td>\n",
       "      <td>3.445785e+01</td>\n",
       "      <td>2.203045e+01</td>\n",
       "      <td>2.0</td>\n",
       "      <td>18.60</td>\n",
       "      <td>30.00</td>\n",
       "      <td>42.3</td>\n",
       "      <td>409.7</td>\n",
       "    </tr>\n",
       "    <tr>\n",
       "      <td>floor</td>\n",
       "      <td>23699.0</td>\n",
       "      <td>5.892358e+00</td>\n",
       "      <td>4.885249e+00</td>\n",
       "      <td>1.0</td>\n",
       "      <td>2.00</td>\n",
       "      <td>4.00</td>\n",
       "      <td>8.0</td>\n",
       "      <td>33.0</td>\n",
       "    </tr>\n",
       "    <tr>\n",
       "      <td>kitchen_area</td>\n",
       "      <td>21421.0</td>\n",
       "      <td>1.056981e+01</td>\n",
       "      <td>5.905438e+00</td>\n",
       "      <td>1.3</td>\n",
       "      <td>7.00</td>\n",
       "      <td>9.10</td>\n",
       "      <td>12.0</td>\n",
       "      <td>112.0</td>\n",
       "    </tr>\n",
       "    <tr>\n",
       "      <td>balcony</td>\n",
       "      <td>12180.0</td>\n",
       "      <td>1.150082e+00</td>\n",
       "      <td>1.071300e+00</td>\n",
       "      <td>0.0</td>\n",
       "      <td>0.00</td>\n",
       "      <td>1.00</td>\n",
       "      <td>2.0</td>\n",
       "      <td>5.0</td>\n",
       "    </tr>\n",
       "    <tr>\n",
       "      <td>airports_nearest</td>\n",
       "      <td>18157.0</td>\n",
       "      <td>2.879367e+04</td>\n",
       "      <td>1.263088e+04</td>\n",
       "      <td>0.0</td>\n",
       "      <td>18585.00</td>\n",
       "      <td>26726.00</td>\n",
       "      <td>37273.0</td>\n",
       "      <td>84869.0</td>\n",
       "    </tr>\n",
       "    <tr>\n",
       "      <td>city_centers_nearest</td>\n",
       "      <td>18180.0</td>\n",
       "      <td>1.419128e+04</td>\n",
       "      <td>8.608386e+03</td>\n",
       "      <td>181.0</td>\n",
       "      <td>9238.00</td>\n",
       "      <td>13098.50</td>\n",
       "      <td>16293.0</td>\n",
       "      <td>65968.0</td>\n",
       "    </tr>\n",
       "    <tr>\n",
       "      <td>parks_around_3000</td>\n",
       "      <td>18181.0</td>\n",
       "      <td>6.114075e-01</td>\n",
       "      <td>8.020736e-01</td>\n",
       "      <td>0.0</td>\n",
       "      <td>0.00</td>\n",
       "      <td>0.00</td>\n",
       "      <td>1.0</td>\n",
       "      <td>3.0</td>\n",
       "    </tr>\n",
       "    <tr>\n",
       "      <td>parks_nearest</td>\n",
       "      <td>8079.0</td>\n",
       "      <td>4.908046e+02</td>\n",
       "      <td>3.423180e+02</td>\n",
       "      <td>1.0</td>\n",
       "      <td>288.00</td>\n",
       "      <td>455.00</td>\n",
       "      <td>612.0</td>\n",
       "      <td>3190.0</td>\n",
       "    </tr>\n",
       "    <tr>\n",
       "      <td>ponds_around_3000</td>\n",
       "      <td>18181.0</td>\n",
       "      <td>7.702547e-01</td>\n",
       "      <td>9.383456e-01</td>\n",
       "      <td>0.0</td>\n",
       "      <td>0.00</td>\n",
       "      <td>1.00</td>\n",
       "      <td>1.0</td>\n",
       "      <td>3.0</td>\n",
       "    </tr>\n",
       "    <tr>\n",
       "      <td>ponds_nearest</td>\n",
       "      <td>9110.0</td>\n",
       "      <td>5.179809e+02</td>\n",
       "      <td>2.777206e+02</td>\n",
       "      <td>13.0</td>\n",
       "      <td>294.00</td>\n",
       "      <td>502.00</td>\n",
       "      <td>729.0</td>\n",
       "      <td>1344.0</td>\n",
       "    </tr>\n",
       "    <tr>\n",
       "      <td>days_exposition</td>\n",
       "      <td>20518.0</td>\n",
       "      <td>1.808886e+02</td>\n",
       "      <td>2.197280e+02</td>\n",
       "      <td>1.0</td>\n",
       "      <td>45.00</td>\n",
       "      <td>95.00</td>\n",
       "      <td>232.0</td>\n",
       "      <td>1580.0</td>\n",
       "    </tr>\n",
       "  </tbody>\n",
       "</table>\n",
       "</div>"
      ],
      "text/plain": [
       "                        count          mean           std      min  \\\n",
       "total_images          23699.0  9.858475e+00  5.682529e+00      0.0   \n",
       "last_price            23699.0  6.541549e+06  1.088701e+07  12190.0   \n",
       "total_area            23699.0  6.034865e+01  3.565408e+01     12.0   \n",
       "rooms                 23699.0  2.070636e+00  1.078405e+00      0.0   \n",
       "ceiling_height        14504.0  2.771499e+00  1.261056e+00      1.0   \n",
       "floors_total          23613.0  1.067382e+01  6.597173e+00      1.0   \n",
       "living_area           21796.0  3.445785e+01  2.203045e+01      2.0   \n",
       "floor                 23699.0  5.892358e+00  4.885249e+00      1.0   \n",
       "kitchen_area          21421.0  1.056981e+01  5.905438e+00      1.3   \n",
       "balcony               12180.0  1.150082e+00  1.071300e+00      0.0   \n",
       "airports_nearest      18157.0  2.879367e+04  1.263088e+04      0.0   \n",
       "city_centers_nearest  18180.0  1.419128e+04  8.608386e+03    181.0   \n",
       "parks_around_3000     18181.0  6.114075e-01  8.020736e-01      0.0   \n",
       "parks_nearest          8079.0  4.908046e+02  3.423180e+02      1.0   \n",
       "ponds_around_3000     18181.0  7.702547e-01  9.383456e-01      0.0   \n",
       "ponds_nearest          9110.0  5.179809e+02  2.777206e+02     13.0   \n",
       "days_exposition       20518.0  1.808886e+02  2.197280e+02      1.0   \n",
       "\n",
       "                             25%         50%        75%          max  \n",
       "total_images                6.00        9.00       14.0         50.0  \n",
       "last_price            3400000.00  4650000.00  6800000.0  763000000.0  \n",
       "total_area                 40.00       52.00       69.9        900.0  \n",
       "rooms                       1.00        2.00        3.0         19.0  \n",
       "ceiling_height              2.52        2.65        2.8        100.0  \n",
       "floors_total                5.00        9.00       16.0         60.0  \n",
       "living_area                18.60       30.00       42.3        409.7  \n",
       "floor                       2.00        4.00        8.0         33.0  \n",
       "kitchen_area                7.00        9.10       12.0        112.0  \n",
       "balcony                     0.00        1.00        2.0          5.0  \n",
       "airports_nearest        18585.00    26726.00    37273.0      84869.0  \n",
       "city_centers_nearest     9238.00    13098.50    16293.0      65968.0  \n",
       "parks_around_3000           0.00        0.00        1.0          3.0  \n",
       "parks_nearest             288.00      455.00      612.0       3190.0  \n",
       "ponds_around_3000           0.00        1.00        1.0          3.0  \n",
       "ponds_nearest             294.00      502.00      729.0       1344.0  \n",
       "days_exposition            45.00       95.00      232.0       1580.0  "
      ]
     },
     "execution_count": 5,
     "metadata": {},
     "output_type": "execute_result"
    }
   ],
   "source": [
    "df.describe().T"
   ]
  },
  {
   "cell_type": "markdown",
   "metadata": {},
   "source": [
    "### Вывод"
   ]
  },
  {
   "cell_type": "markdown",
   "metadata": {},
   "source": [
    "Загрузка таблицы прошла успешно, но над корректностью данных ещё предстоит поработать, чем и займемся ниже."
   ]
  },
  {
   "cell_type": "markdown",
   "metadata": {},
   "source": [
    "## Предобработка данных"
   ]
  },
  {
   "cell_type": "markdown",
   "metadata": {},
   "source": [
    "Проверяем столбец со следующей информацией:\n",
    "\n",
    "\n",
    "` число фотографий квартиры в объявлении`"
   ]
  },
  {
   "cell_type": "code",
   "execution_count": 6,
   "metadata": {},
   "outputs": [
    {
     "name": "stdout",
     "output_type": "stream",
     "text": [
      "Максимальное значение 50\n",
      "Минимальное значение 0\n",
      "Количество пропущенных значений 0\n"
     ]
    }
   ],
   "source": [
    "temp_column = 'total_images'\n",
    "print('Максимальное значение', df[temp_column].max())\n",
    "print('Минимальное значение', df[temp_column].min())\n",
    "print('Количество пропущенных значений', df[temp_column].isna().sum())"
   ]
  },
  {
   "cell_type": "markdown",
   "metadata": {},
   "source": [
    "С этими данными все в порядке. Отрицательных значений нет. Ничего не меняем. Переходим к следующему столбцу."
   ]
  },
  {
   "cell_type": "markdown",
   "metadata": {},
   "source": [
    "Проверяем столбец со следующей информацией:\n",
    "` цена на момент снятия с публикации`"
   ]
  },
  {
   "cell_type": "code",
   "execution_count": 7,
   "metadata": {},
   "outputs": [
    {
     "name": "stdout",
     "output_type": "stream",
     "text": [
      "Максимальное значение 763000000.0\n",
      "Минимальное значение 12190.0\n",
      "Количество пропущенных значений 0\n"
     ]
    }
   ],
   "source": [
    "temp_column = 'last_price'\n",
    "print('Максимальное значение', df[temp_column].max())\n",
    "print('Минимальное значение', df[temp_column].min())\n",
    "print('Количество пропущенных значений', df[temp_column].isna().sum())"
   ]
  },
  {
   "cell_type": "markdown",
   "metadata": {},
   "source": [
    "Здесь все хорошо."
   ]
  },
  {
   "cell_type": "markdown",
   "metadata": {},
   "source": [
    "Проверяем столбец со следующей информацией:\n",
    "` площадь квартиры в квадратных метрах (м²)`"
   ]
  },
  {
   "cell_type": "code",
   "execution_count": 8,
   "metadata": {
    "scrolled": true
   },
   "outputs": [
    {
     "name": "stdout",
     "output_type": "stream",
     "text": [
      "Максимальное значение 900.0\n",
      "Минимальное значение 12.0\n",
      "Количество пропущенных значений 0\n"
     ]
    }
   ],
   "source": [
    "temp_column = 'total_area'\n",
    "print('Максимальное значение', df[temp_column].max())\n",
    "print('Минимальное значение', df[temp_column].min())\n",
    "print('Количество пропущенных значений', df[temp_column].isna().sum())"
   ]
  },
  {
   "cell_type": "markdown",
   "metadata": {},
   "source": [
    "Здесь все хорошо."
   ]
  },
  {
   "cell_type": "markdown",
   "metadata": {},
   "source": [
    "Проверяем столбец со следующей информацией:\n",
    "`дата публикации`\n",
    "\n",
    "Тип данных «object», нужно перевести в «datetime»."
   ]
  },
  {
   "cell_type": "code",
   "execution_count": 9,
   "metadata": {},
   "outputs": [
    {
     "name": "stdout",
     "output_type": "stream",
     "text": [
      "Максимальное значение 2019-05-03 00:00:00\n",
      "Минимальное значение 2014-11-27 00:00:00\n",
      "Количество пропущенных значений 0\n"
     ]
    }
   ],
   "source": [
    "temp_column = 'first_day_exposition'\n",
    "try:\n",
    "    df[temp_column] = pd.to_datetime(df[temp_column], format='%Y.%m.%dT%H:%M:%S')\n",
    "\n",
    "except: print ('Ошибка при конвертировании данных в столбце:', temp_column)\n",
    "print('Максимальное значение', df[temp_column].max())\n",
    "print('Минимальное значение', df[temp_column].min())\n",
    "print('Количество пропущенных значений', df[temp_column].isna().sum())\n"
   ]
  },
  {
   "cell_type": "markdown",
   "metadata": {},
   "source": [
    "Проверяем, что тип данных изменился:"
   ]
  },
  {
   "cell_type": "code",
   "execution_count": 10,
   "metadata": {},
   "outputs": [
    {
     "name": "stdout",
     "output_type": "stream",
     "text": [
      "<class 'pandas.core.frame.DataFrame'>\n",
      "RangeIndex: 23699 entries, 0 to 23698\n",
      "Data columns (total 22 columns):\n",
      "total_images            23699 non-null int64\n",
      "last_price              23699 non-null float64\n",
      "total_area              23699 non-null float64\n",
      "first_day_exposition    23699 non-null datetime64[ns]\n",
      "rooms                   23699 non-null int64\n",
      "ceiling_height          14504 non-null float64\n",
      "floors_total            23613 non-null float64\n",
      "living_area             21796 non-null float64\n",
      "floor                   23699 non-null int64\n",
      "is_apartment            2775 non-null object\n",
      "studio                  23699 non-null bool\n",
      "open_plan               23699 non-null bool\n",
      "kitchen_area            21421 non-null float64\n",
      "balcony                 12180 non-null float64\n",
      "locality_name           23650 non-null object\n",
      "airports_nearest        18157 non-null float64\n",
      "city_centers_nearest    18180 non-null float64\n",
      "parks_around_3000       18181 non-null float64\n",
      "parks_nearest           8079 non-null float64\n",
      "ponds_around_3000       18181 non-null float64\n",
      "ponds_nearest           9110 non-null float64\n",
      "days_exposition         20518 non-null float64\n",
      "dtypes: bool(2), datetime64[ns](1), float64(14), int64(3), object(2)\n",
      "memory usage: 3.7+ MB\n"
     ]
    }
   ],
   "source": [
    "df.info()"
   ]
  },
  {
   "cell_type": "markdown",
   "metadata": {},
   "source": [
    "Проверяем столбец со следующей информацией:\n",
    "`число комнат`"
   ]
  },
  {
   "cell_type": "code",
   "execution_count": 11,
   "metadata": {},
   "outputs": [
    {
     "name": "stdout",
     "output_type": "stream",
     "text": [
      "Максимальное значение 19\n",
      "Минимальное значение 0\n",
      "Количество пропущенных значений 0\n"
     ]
    }
   ],
   "source": [
    "temp_column = 'rooms'\n",
    "print('Максимальное значение', df[temp_column].max())\n",
    "print('Минимальное значение', df[temp_column].min())\n",
    "print('Количество пропущенных значений', df[temp_column].isna().sum())"
   ]
  },
  {
   "cell_type": "markdown",
   "metadata": {},
   "source": [
    "Здесь все хорошо."
   ]
  },
  {
   "cell_type": "markdown",
   "metadata": {},
   "source": [
    "Проверяем столбец со следующей информацией:\n",
    "`высота потолков (м)`"
   ]
  },
  {
   "cell_type": "code",
   "execution_count": 12,
   "metadata": {},
   "outputs": [
    {
     "name": "stdout",
     "output_type": "stream",
     "text": [
      "Максимальное значение 100.0\n",
      "Минимальное значение 1.0\n",
      "Медианное значение 2.65\n",
      "Среднее значение 2.77149889685604\n",
      "Количество пропущенных значений 9195\n"
     ]
    }
   ],
   "source": [
    "temp_column = 'ceiling_height'\n",
    "print('Максимальное значение', df[temp_column].max())\n",
    "print('Минимальное значение', df[temp_column].min())\n",
    "print('Медианное значение', df[temp_column].median())\n",
    "print('Среднее значение', df[temp_column].mean())\n",
    "print('Количество пропущенных значений', df[temp_column].isna().sum())"
   ]
  },
  {
   "cell_type": "markdown",
   "metadata": {},
   "source": [
    "В данных много пропусков, и есть явные выбросы. Для того чтобы не искажать данные мы не будем заполнять отсутствующие значения усреднёнными. А при дальнейшем анализе с использованием этого столбца, просто будем использовать только строки в которых есть значения."
   ]
  },
  {
   "cell_type": "markdown",
   "metadata": {},
   "source": [
    "Проверяем столбец со следующей информацией:\n",
    "`всего этажей в доме`"
   ]
  },
  {
   "cell_type": "code",
   "execution_count": 13,
   "metadata": {},
   "outputs": [
    {
     "name": "stdout",
     "output_type": "stream",
     "text": [
      "Максимальное значение 60.0\n",
      "Минимальное значение 1.0\n",
      "Медианное значение 9.0\n",
      "Среднее значение 10.67382374115953\n",
      "Количество пропущенных значений 86\n"
     ]
    }
   ],
   "source": [
    "temp_column = 'floors_total'\n",
    "print('Максимальное значение', df[temp_column].max())\n",
    "print('Минимальное значение', df[temp_column].min())\n",
    "print('Медианное значение', df[temp_column].median())\n",
    "print('Среднее значение', df[temp_column].mean())\n",
    "print('Количество пропущенных значений', df[temp_column].isna().sum())"
   ]
  },
  {
   "cell_type": "markdown",
   "metadata": {},
   "source": [
    "Пропусков немного, но они критичны для следующих вычислений. Предполагаем, что пропуски, это одноэтажные дома. Тогда все жильцы в них будут на первом этаже. Если гипотеза подтвердится, меняем пропуски на «1». Если же нет, просто удаляем эти строки (в связи с их небольшим количеством относительно всего объема данных)."
   ]
  },
  {
   "cell_type": "code",
   "execution_count": 14,
   "metadata": {},
   "outputs": [
    {
     "data": {
      "text/plain": [
       "186       4\n",
       "237       1\n",
       "457      12\n",
       "671       8\n",
       "1757      9\n",
       "         ..\n",
       "22542     3\n",
       "22656    20\n",
       "22808     6\n",
       "23590    18\n",
       "23658     8\n",
       "Name: floor, Length: 86, dtype: int64"
      ]
     },
     "execution_count": 14,
     "metadata": {},
     "output_type": "execute_result"
    }
   ],
   "source": [
    "df[df[temp_column].isna()]['floor']"
   ]
  },
  {
   "cell_type": "markdown",
   "metadata": {},
   "source": [
    "Гипотеза не подтвердилась. Удаляем."
   ]
  },
  {
   "cell_type": "code",
   "execution_count": 15,
   "metadata": {},
   "outputs": [
    {
     "name": "stdout",
     "output_type": "stream",
     "text": [
      "Количество пропущенных значений 0\n"
     ]
    }
   ],
   "source": [
    "df.dropna(subset = [temp_column], inplace = True)\n",
    "print('Количество пропущенных значений', df[temp_column].isna().sum())"
   ]
  },
  {
   "cell_type": "markdown",
   "metadata": {},
   "source": [
    "Проверяем столбец со следующей информацией:\n",
    "`жилая площадь в квадратных метрах (м²)`"
   ]
  },
  {
   "cell_type": "code",
   "execution_count": 16,
   "metadata": {},
   "outputs": [
    {
     "name": "stdout",
     "output_type": "stream",
     "text": [
      "Максимальное значение 409.7\n",
      "Минимальное значение 2.0\n",
      "Медианное значение 30.0\n",
      "Среднее значение 34.46278119449938\n",
      "Количество пропущенных значений 1870\n"
     ]
    }
   ],
   "source": [
    "temp_column = 'living_area'\n",
    "print('Максимальное значение', df[temp_column].max())\n",
    "print('Минимальное значение', df[temp_column].min())\n",
    "print('Медианное значение', df[temp_column].median())\n",
    "print('Среднее значение', df[temp_column].mean())\n",
    "print('Количество пропущенных значений', df[temp_column].isna().sum())"
   ]
  },
  {
   "cell_type": "markdown",
   "metadata": {},
   "source": [
    "В данных много пропусков, и есть явные выбросы. Для того чтобы не искажать данные мы не будем заполнять отсутствующие значения усреднёнными. А при дальнейшем анализе с использованием этого столбца, просто будем использовать только строки в которых есть значения."
   ]
  },
  {
   "cell_type": "markdown",
   "metadata": {},
   "source": [
    "Проверяем столбец со следующей информацией:\n",
    "`этаж`"
   ]
  },
  {
   "cell_type": "code",
   "execution_count": 17,
   "metadata": {},
   "outputs": [
    {
     "name": "stdout",
     "output_type": "stream",
     "text": [
      "Максимальное значение 33\n",
      "Минимальное значение 1\n",
      "Медианное значение 4.0\n",
      "Среднее значение 5.877313344344217\n",
      "Количество пропущенных значений 0\n"
     ]
    }
   ],
   "source": [
    "temp_column = 'floor'\n",
    "print('Максимальное значение', df[temp_column].max())\n",
    "print('Минимальное значение', df[temp_column].min())\n",
    "print('Медианное значение', df[temp_column].median())\n",
    "print('Среднее значение', df[temp_column].mean())\n",
    "print('Количество пропущенных значений', df[temp_column].isna().sum())"
   ]
  },
  {
   "cell_type": "markdown",
   "metadata": {},
   "source": [
    "Здесь все хорошо."
   ]
  },
  {
   "cell_type": "markdown",
   "metadata": {},
   "source": [
    "Проверяем столбец со следующей информацией:\n",
    "`апартаменты (булев тип)`"
   ]
  },
  {
   "cell_type": "code",
   "execution_count": 18,
   "metadata": {},
   "outputs": [
    {
     "name": "stdout",
     "output_type": "stream",
     "text": [
      "Количество пропущенных значений 20838\n",
      "Столбец состоит из следующих значений\n"
     ]
    },
    {
     "data": {
      "text/plain": [
       "False    2725\n",
       "True       50\n",
       "Name: is_apartment, dtype: int64"
      ]
     },
     "execution_count": 18,
     "metadata": {},
     "output_type": "execute_result"
    }
   ],
   "source": [
    "temp_column = 'is_apartment'\n",
    "print('Количество пропущенных значений', df[temp_column].isna().sum())\n",
    "print('Столбец состоит из следующих значений')\n",
    "df[temp_column].value_counts()"
   ]
  },
  {
   "cell_type": "markdown",
   "metadata": {},
   "source": [
    "Столбец почти полностью состоит из пропусков. Возможно будем использовать информацию о том, что объект точно является апартаментами."
   ]
  },
  {
   "cell_type": "markdown",
   "metadata": {},
   "source": [
    "Переведем тип из «object» в «bool»"
   ]
  },
  {
   "cell_type": "code",
   "execution_count": 19,
   "metadata": {},
   "outputs": [
    {
     "name": "stdout",
     "output_type": "stream",
     "text": [
      "Проверяем результат\n",
      "<class 'pandas.core.frame.DataFrame'>\n",
      "Int64Index: 23613 entries, 0 to 23698\n",
      "Data columns (total 22 columns):\n",
      "total_images            23613 non-null int64\n",
      "last_price              23613 non-null float64\n",
      "total_area              23613 non-null float64\n",
      "first_day_exposition    23613 non-null datetime64[ns]\n",
      "rooms                   23613 non-null int64\n",
      "ceiling_height          14495 non-null float64\n",
      "floors_total            23613 non-null float64\n",
      "living_area             21743 non-null float64\n",
      "floor                   23613 non-null int64\n",
      "is_apartment            23613 non-null bool\n",
      "studio                  23613 non-null bool\n",
      "open_plan               23613 non-null bool\n",
      "kitchen_area            21382 non-null float64\n",
      "balcony                 12133 non-null float64\n",
      "locality_name           23565 non-null object\n",
      "airports_nearest        18081 non-null float64\n",
      "city_centers_nearest    18104 non-null float64\n",
      "parks_around_3000       18105 non-null float64\n",
      "parks_nearest           8045 non-null float64\n",
      "ponds_around_3000       18105 non-null float64\n",
      "ponds_nearest           9061 non-null float64\n",
      "days_exposition         20441 non-null float64\n",
      "dtypes: bool(3), datetime64[ns](1), float64(14), int64(3), object(1)\n",
      "memory usage: 3.7+ MB\n"
     ]
    }
   ],
   "source": [
    "df[temp_column] = df[temp_column].fillna(False)\n",
    "# Если не добавить эту строчку, то все пустые значения превращаются в «True»\n",
    "\n",
    "\n",
    "df[temp_column] = df[temp_column].astype(bool)\n",
    "print ('Проверяем результат')\n",
    "df.info()"
   ]
  },
  {
   "cell_type": "markdown",
   "metadata": {},
   "source": [
    "Проверяем столбец со следующей информацией:\n",
    "`квартира-студия (булев тип)`"
   ]
  },
  {
   "cell_type": "code",
   "execution_count": 20,
   "metadata": {},
   "outputs": [
    {
     "name": "stdout",
     "output_type": "stream",
     "text": [
      "Количество пропущенных значений 0\n",
      "Столбец состоит из следующих значений\n"
     ]
    },
    {
     "data": {
      "text/plain": [
       "False    23467\n",
       "True       146\n",
       "Name: studio, dtype: int64"
      ]
     },
     "execution_count": 20,
     "metadata": {},
     "output_type": "execute_result"
    }
   ],
   "source": [
    "temp_column = 'studio'\n",
    "print('Количество пропущенных значений', df[temp_column].isna().sum())\n",
    "print('Столбец состоит из следующих значений')\n",
    "df[temp_column].value_counts()"
   ]
  },
  {
   "cell_type": "markdown",
   "metadata": {},
   "source": [
    "Здесь все хорошо"
   ]
  },
  {
   "cell_type": "markdown",
   "metadata": {},
   "source": [
    "Проверяем столбец со следующей информацией:\n",
    "`свободная планировка (булев тип)`"
   ]
  },
  {
   "cell_type": "code",
   "execution_count": 21,
   "metadata": {},
   "outputs": [
    {
     "name": "stdout",
     "output_type": "stream",
     "text": [
      "Количество пропущенных значений 0\n",
      "Столбец состоит из следующих значений\n"
     ]
    },
    {
     "data": {
      "text/plain": [
       "False    23546\n",
       "True        67\n",
       "Name: open_plan, dtype: int64"
      ]
     },
     "execution_count": 21,
     "metadata": {},
     "output_type": "execute_result"
    }
   ],
   "source": [
    "temp_column = 'open_plan'\n",
    "print('Количество пропущенных значений', df[temp_column].isna().sum())\n",
    "print('Столбец состоит из следующих значений')\n",
    "df[temp_column].value_counts()"
   ]
  },
  {
   "cell_type": "markdown",
   "metadata": {},
   "source": [
    "Здесь все хорошо"
   ]
  },
  {
   "cell_type": "markdown",
   "metadata": {},
   "source": [
    "Проверяем столбец со следующей информацией:\n",
    "`площадь кухни в квадратных метрах (м²)`"
   ]
  },
  {
   "cell_type": "code",
   "execution_count": 22,
   "metadata": {},
   "outputs": [
    {
     "name": "stdout",
     "output_type": "stream",
     "text": [
      "Максимальное значение 112.0\n",
      "Минимальное значение 1.3\n",
      "Медианное значение 9.1\n",
      "Среднее значение 10.564127771022354\n",
      "Количество пропущенных значений 2231\n"
     ]
    }
   ],
   "source": [
    "temp_column = 'kitchen_area'\n",
    "print('Максимальное значение', df[temp_column].max())\n",
    "print('Минимальное значение', df[temp_column].min())\n",
    "print('Медианное значение', df[temp_column].median())\n",
    "print('Среднее значение', df[temp_column].mean())\n",
    "print('Количество пропущенных значений', df[temp_column].isna().sum())"
   ]
  },
  {
   "cell_type": "markdown",
   "metadata": {},
   "source": [
    "Похоже на правду. Оставляем как есть."
   ]
  },
  {
   "cell_type": "markdown",
   "metadata": {},
   "source": [
    "Проверяем столбец со следующей информацией:\n",
    "`число балконов`"
   ]
  },
  {
   "cell_type": "code",
   "execution_count": 23,
   "metadata": {},
   "outputs": [
    {
     "name": "stdout",
     "output_type": "stream",
     "text": [
      "Максимальное значение 5.0\n",
      "Минимальное значение 0.0\n",
      "Медианное значение 1.0\n",
      "Среднее значение 1.1542075331739883\n",
      "Количество пропущенных значений 11480\n"
     ]
    }
   ],
   "source": [
    "temp_column = 'balcony'\n",
    "print('Максимальное значение', df[temp_column].max())\n",
    "print('Минимальное значение', df[temp_column].min())\n",
    "print('Медианное значение', df[temp_column].median())\n",
    "print('Среднее значение', df[temp_column].mean())\n",
    "print('Количество пропущенных значений', df[temp_column].isna().sum())"
   ]
  },
  {
   "cell_type": "markdown",
   "metadata": {},
   "source": [
    "С балконами все просто. Нет данных, нет балкона."
   ]
  },
  {
   "cell_type": "markdown",
   "metadata": {},
   "source": [
    "<div class=\"alert alert-block alert-success\">\n",
    "<b>✔️ Success:</b> логично"
   ]
  },
  {
   "cell_type": "code",
   "execution_count": 24,
   "metadata": {},
   "outputs": [],
   "source": [
    "df[temp_column] = df[temp_column].fillna(0)"
   ]
  },
  {
   "cell_type": "markdown",
   "metadata": {},
   "source": [
    "Проверяем столбец со следующей информацией:\n",
    "`название населённого пункта`"
   ]
  },
  {
   "cell_type": "code",
   "execution_count": 25,
   "metadata": {},
   "outputs": [
    {
     "name": "stdout",
     "output_type": "stream",
     "text": [
      "Количество пропущенных значений 48\n",
      "Столбец состоит из следующих значений\n"
     ]
    },
    {
     "data": {
      "text/plain": [
       "Санкт-Петербург                                      15651\n",
       "посёлок Мурино                                         520\n",
       "посёлок Шушары                                         439\n",
       "Всеволожск                                             398\n",
       "Пушкин                                                 369\n",
       "                                                     ...  \n",
       "посёлок при железнодорожной станции Приветнинское        1\n",
       "деревня Пельгора                                         1\n",
       "деревня Чудской Бор                                      1\n",
       "деревня Кривко                                           1\n",
       "деревня Пижма                                            1\n",
       "Name: locality_name, Length: 364, dtype: int64"
      ]
     },
     "execution_count": 25,
     "metadata": {},
     "output_type": "execute_result"
    }
   ],
   "source": [
    "temp_column = 'locality_name'\n",
    "print('Количество пропущенных значений', df[temp_column].isna().sum())\n",
    "print('Столбец состоит из следующих значений')\n",
    "df[temp_column].value_counts()"
   ]
  },
  {
   "cell_type": "markdown",
   "metadata": {},
   "source": [
    "Есть пропуски, но в целом с данными все в порядке."
   ]
  },
  {
   "cell_type": "code",
   "execution_count": 26,
   "metadata": {},
   "outputs": [
    {
     "data": {
      "text/plain": [
       "array(['Санкт-Петербург', 'посёлок Шушары', 'городской посёлок Янино-1',\n",
       "       'посёлок Парголово', 'посёлок Мурино', 'Ломоносов', 'Сертолово',\n",
       "       'Петергоф', 'Пушкин', 'деревня Кудрово', 'Коммунар', 'Колпино',\n",
       "       'поселок городского типа Красный Бор', 'Гатчина', 'поселок Мурино',\n",
       "       'деревня Фёдоровское', 'Выборг', 'Кронштадт', 'Кировск',\n",
       "       'деревня Новое Девяткино', 'посёлок Металлострой',\n",
       "       'посёлок городского типа Лебяжье',\n",
       "       'посёлок городского типа Сиверский', 'поселок Молодцово',\n",
       "       'поселок городского типа Кузьмоловский',\n",
       "       'садовое товарищество Новая Ропша', 'Павловск',\n",
       "       'деревня Пикколово', 'Всеволожск', 'Волхов', 'Кингисепп',\n",
       "       'Приозерск', 'Сестрорецк', 'деревня Куттузи', 'посёлок Аннино',\n",
       "       'поселок городского типа Ефимовский', 'посёлок Плодовое',\n",
       "       'деревня Заклинье', 'поселок Торковичи', 'поселок Первомайское',\n",
       "       'Красное Село', 'посёлок Понтонный', 'Сясьстрой', 'деревня Старая',\n",
       "       'деревня Лесколово', 'посёлок Новый Свет', 'Сланцы',\n",
       "       'село Путилово', 'Ивангород', 'Мурино', 'Шлиссельбург',\n",
       "       'Никольское', 'Зеленогорск', 'Сосновый Бор', 'поселок Новый Свет',\n",
       "       'деревня Оржицы', 'деревня Кальтино', 'Кудрово',\n",
       "       'поселок Романовка', 'посёлок Бугры', 'поселок Бугры',\n",
       "       'поселок городского типа Рощино', 'Кириши', 'Луга', 'Волосово',\n",
       "       'Отрадное', 'село Павлово', 'поселок Оредеж', 'село Копорье',\n",
       "       'посёлок городского типа Красный Бор', 'посёлок Молодёжное',\n",
       "       'Тихвин', 'посёлок Победа', 'деревня Нурма',\n",
       "       'поселок городского типа Синявино', 'Тосно',\n",
       "       'посёлок городского типа Кузьмоловский', 'посёлок Стрельна',\n",
       "       'Бокситогорск', 'посёлок Александровская', 'деревня Лопухинка',\n",
       "       'Пикалёво', 'поселок Терволово',\n",
       "       'поселок городского типа Советский', 'Подпорожье',\n",
       "       'посёлок Петровское', 'посёлок городского типа Токсово',\n",
       "       'поселок Сельцо', 'посёлок городского типа Вырица',\n",
       "       'деревня Кипень', 'деревня Келози', 'деревня Вартемяги',\n",
       "       'посёлок Тельмана', 'поселок Севастьяново',\n",
       "       'городской поселок Большая Ижора', nan,\n",
       "       'городской посёлок Павлово', 'деревня Агалатово',\n",
       "       'посёлок Новогорелово', 'городской посёлок Лесогорский',\n",
       "       'деревня Лаголово', 'поселок Цвелодубово',\n",
       "       'поселок городского типа Рахья', 'поселок городского типа Вырица',\n",
       "       'деревня Белогорка', 'поселок Заводской',\n",
       "       'городской посёлок Новоселье', 'деревня Большие Колпаны',\n",
       "       'деревня Горбунки', 'деревня Батово', 'деревня Заневка',\n",
       "       'деревня Иссад', 'Приморск', 'городской посёлок Фёдоровское',\n",
       "       'деревня Мистолово', 'Новая Ладога', 'поселок Зимитицы',\n",
       "       'поселок Барышево', 'деревня Разметелево',\n",
       "       'поселок городского типа имени Свердлова', 'деревня Пеники',\n",
       "       'поселок Рябово', 'деревня Пудомяги', 'поселок станции Корнево',\n",
       "       'деревня Низино', 'деревня Бегуницы', 'посёлок Поляны',\n",
       "       'городской посёлок Мга', 'поселок Елизаветино',\n",
       "       'посёлок городского типа Кузнечное', 'деревня Колтуши',\n",
       "       'поселок Запорожское', 'посёлок городского типа Рощино',\n",
       "       'деревня Гостилицы', 'деревня Малое Карлино',\n",
       "       'посёлок Мичуринское', 'посёлок городского типа имени Морозова',\n",
       "       'посёлок Песочный', 'посёлок Сосново', 'деревня Аро',\n",
       "       'поселок Ильичёво', 'посёлок городского типа Тайцы',\n",
       "       'деревня Малое Верево', 'деревня Извара', 'поселок станции Вещево',\n",
       "       'село Паша', 'деревня Калитино',\n",
       "       'посёлок городского типа Ульяновка', 'деревня Чудской Бор',\n",
       "       'поселок городского типа Дубровка', 'деревня Мины',\n",
       "       'поселок Войсковицы', 'посёлок городского типа имени Свердлова',\n",
       "       'деревня Коркино', 'посёлок Ропша',\n",
       "       'поселок городского типа Приладожский', 'посёлок Щеглово',\n",
       "       'посёлок Гаврилово', 'Лодейное Поле', 'деревня Рабитицы',\n",
       "       'поселок городского типа Никольский', 'деревня Кузьмолово',\n",
       "       'деревня Малые Колпаны', 'поселок Тельмана',\n",
       "       'посёлок Петро-Славянка', 'городской посёлок Назия',\n",
       "       'посёлок Репино', 'посёлок Ильичёво', 'поселок Углово',\n",
       "       'поселок Старая Малукса', 'садовое товарищество Рахья',\n",
       "       'поселок Аннино', 'поселок Победа', 'деревня Меньково',\n",
       "       'деревня Старые Бегуницы', 'посёлок Сапёрный', 'поселок Семрино',\n",
       "       'поселок Гаврилово', 'поселок Глажево', 'поселок Кобринское',\n",
       "       'деревня Гарболово', 'деревня Юкки',\n",
       "       'поселок станции Приветнинское', 'деревня Мануйлово',\n",
       "       'деревня Пчева', 'поселок Поляны', 'поселок Цвылёво',\n",
       "       'поселок Мельниково', 'посёлок Пудость', 'посёлок Усть-Луга',\n",
       "       'Светогорск', 'Любань', 'поселок Селезнёво',\n",
       "       'поселок городского типа Рябово', 'Каменногорск', 'деревня Кривко',\n",
       "       'поселок Глебычево', 'деревня Парицы', 'поселок Жилпосёлок',\n",
       "       'посёлок городского типа Мга', 'городской поселок Янино-1',\n",
       "       'посёлок Войскорово', 'село Никольское', 'посёлок Терволово',\n",
       "       'поселок Стеклянный', 'посёлок городского типа Важины',\n",
       "       'посёлок Мыза-Ивановка', 'село Русско-Высоцкое',\n",
       "       'поселок городского типа Лебяжье',\n",
       "       'поселок городского типа Форносово', 'село Старая Ладога',\n",
       "       'поселок Житково', 'городской посёлок Виллози', 'деревня Лампово',\n",
       "       'деревня Шпаньково', 'деревня Лаврики', 'посёлок Сумино',\n",
       "       'посёлок Возрождение', 'деревня Старосиверская',\n",
       "       'посёлок Кикерино', 'поселок Возрождение',\n",
       "       'деревня Старое Хинколово', 'посёлок Пригородный',\n",
       "       'посёлок Торфяное', 'городской посёлок Будогощь',\n",
       "       'поселок Суходолье', 'поселок Красная Долина', 'деревня Хапо-Ое',\n",
       "       'поселок городского типа Дружная Горка', 'поселок Лисий Нос',\n",
       "       'деревня Яльгелево', 'посёлок Стеклянный', 'село Рождествено',\n",
       "       'деревня Старополье', 'посёлок Левашово', 'деревня Сяськелево',\n",
       "       'деревня Камышовка',\n",
       "       'садоводческое некоммерческое товарищество Лесная Поляна',\n",
       "       'деревня Хязельки', 'поселок Жилгородок',\n",
       "       'посёлок городского типа Павлово', 'деревня Ялгино',\n",
       "       'поселок Новый Учхоз', 'городской посёлок Рощино',\n",
       "       'поселок Гончарово', 'поселок Почап', 'посёлок Сапёрное',\n",
       "       'посёлок Платформа 69-й километр', 'поселок Каложицы',\n",
       "       'деревня Фалилеево', 'деревня Пельгора',\n",
       "       'поселок городского типа Лесогорский', 'деревня Торошковичи',\n",
       "       'посёлок Белоостров', 'посёлок Алексеевка', 'поселок Серебрянский',\n",
       "       'поселок Лукаши', 'поселок Петровское', 'деревня Щеглово',\n",
       "       'поселок Мичуринское', 'деревня Тарасово', 'поселок Кингисеппский',\n",
       "       'посёлок при железнодорожной станции Вещево', 'поселок Ушаки',\n",
       "       'деревня Котлы', 'деревня Сижно', 'деревня Торосово',\n",
       "       'посёлок Форт Красная Горка', 'деревня Новолисино',\n",
       "       'посёлок станции Громово', 'деревня Глинка', 'посёлок Мельниково',\n",
       "       'поселок городского типа Назия', 'деревня Старая Пустошь',\n",
       "       'поселок Коммунары', 'поселок Починок',\n",
       "       'посёлок городского типа Вознесенье', 'деревня Разбегаево',\n",
       "       'посёлок городского типа Рябово', 'поселок Гладкое',\n",
       "       'посёлок при железнодорожной станции Приветнинское',\n",
       "       'поселок Тёсово-4', 'посёлок Жилгородок', 'деревня Бор',\n",
       "       'посёлок Коробицыно', 'деревня Большая Вруда', 'деревня Курковицы',\n",
       "       'посёлок Лисий Нос', 'городской посёлок Советский',\n",
       "       'посёлок Кобралово', 'деревня Суоранда', 'поселок Кобралово',\n",
       "       'поселок городского типа Кондратьево',\n",
       "       'коттеджный поселок Счастье', 'поселок Любань', 'деревня Реброво',\n",
       "       'деревня Зимитицы', 'деревня Тойворово', 'поселок Семиозерье',\n",
       "       'поселок Лесное', 'поселок Совхозный', 'поселок Усть-Луга',\n",
       "       'посёлок Ленинское', 'посёлок Суйда',\n",
       "       'посёлок городского типа Форносово', 'деревня Нижние Осельки',\n",
       "       'посёлок станции Свирь', 'поселок Перово', 'Высоцк',\n",
       "       'поселок Гарболово', 'село Шум', 'поселок Котельский',\n",
       "       'поселок станции Лужайка', 'деревня Большая Пустомержа',\n",
       "       'поселок Красносельское', 'деревня Вахнова Кара', 'деревня Пижма',\n",
       "       'коттеджный поселок Кивеннапа Север', 'поселок Коробицыно',\n",
       "       'поселок Ромашки', 'посёлок Перово', 'деревня Каськово',\n",
       "       'деревня Куровицы', 'посёлок Плоское', 'поселок Сумино',\n",
       "       'поселок городского типа Большая Ижора', 'поселок Кирпичное',\n",
       "       'деревня Ям-Тесово', 'деревня Раздолье', 'деревня Терпилицы',\n",
       "       'поселок городского типа Токсово', 'посёлок Шугозеро',\n",
       "       'деревня Ваганово', 'поселок Пушное', 'садовое товарищество Садко',\n",
       "       'посёлок Усть-Ижора', 'деревня Выскатка',\n",
       "       'городской посёлок Свирьстрой', 'поселок Громово',\n",
       "       'деревня Кисельня', 'посёлок Старая Малукса',\n",
       "       'деревня Трубников Бор', 'поселок Калитино',\n",
       "       'посёлок Высокоключевой', 'садовое товарищество Приладожский',\n",
       "       'посёлок Пансионат Зелёный Бор', 'деревня Ненимяки',\n",
       "       'поселок Пансионат Зелёный Бор', 'деревня Снегирёвка', None,\n",
       "       'деревня Рапполово', 'деревня Пустынка', 'поселок Рабитицы',\n",
       "       'деревня Большой Сабск', 'деревня Русско', 'деревня Лупполово',\n",
       "       'деревня Большое Рейзино', 'деревня Малая Романовка',\n",
       "       'поселок Дружноселье', 'поселок Пчевжа', 'поселок Володарское',\n",
       "       'деревня Нижняя', 'коттеджный посёлок Лесное', 'деревня Тихковицы',\n",
       "       'деревня Борисова Грива', 'посёлок Дзержинского'], dtype=object)"
      ]
     },
     "execution_count": 26,
     "metadata": {},
     "output_type": "execute_result"
    }
   ],
   "source": [
    "df['locality_name'].unique()"
   ]
  },
  {
   "cell_type": "code",
   "execution_count": 27,
   "metadata": {},
   "outputs": [
    {
     "data": {
      "text/plain": [
       "Санкт-Петербург                                      15651\n",
       "посёлок Мурино                                         520\n",
       "посёлок Шушары                                         439\n",
       "Всеволожск                                             398\n",
       "Пушкин                                                 369\n",
       "                                                     ...  \n",
       "посёлок при железнодорожной станции Приветнинское        1\n",
       "деревня Пельгора                                         1\n",
       "деревня Чудской Бор                                      1\n",
       "деревня Кривко                                           1\n",
       "деревня Пижма                                            1\n",
       "Name: locality_name, Length: 364, dtype: int64"
      ]
     },
     "execution_count": 27,
     "metadata": {},
     "output_type": "execute_result"
    }
   ],
   "source": [
    "df['locality_name'].value_counts()"
   ]
  },
  {
   "cell_type": "code",
   "execution_count": 28,
   "metadata": {},
   "outputs": [
    {
     "data": {
      "text/plain": [
       "Санкт-Петербург    15651\n",
       "Мурино               586\n",
       "Кудрово              470\n",
       "Шушары               439\n",
       "Всеволожск           398\n",
       "                   ...  \n",
       "Лесная Поляна          1\n",
       "Хапо-Ое                1\n",
       "Жилпоселок             1\n",
       "Снегиревка             1\n",
       "Почап                  1\n",
       "Name: locality_name, Length: 305, dtype: int64"
      ]
     },
     "execution_count": 28,
     "metadata": {},
     "output_type": "execute_result"
    }
   ],
   "source": [
    "df['locality_name'] = df['locality_name'].str.replace('ё', 'е')\n",
    "df['locality_name'] = df['locality_name'].str.replace('поселок городского типа ', '')\n",
    "df['locality_name'] = df['locality_name'].str.replace('городской поселок ', '')\n",
    "df['locality_name'] = df['locality_name'].str.replace('поселок ', '')\n",
    "df['locality_name'] = df['locality_name'].str.replace('деревня ', '')\n",
    "df['locality_name'] = df['locality_name'].str.replace('село ', '')\n",
    "df['locality_name'] = df['locality_name'].str.replace('садовое товарищество ', '')\n",
    "df['locality_name'] = df['locality_name'].str.replace('садоводческое некоммерческое товарищество ', '')\n",
    "df['locality_name'] = df['locality_name'].str.replace('при железнодорожной станции ', '')\n",
    "df['locality_name'] = df['locality_name'].str.replace('станции ', '')\n",
    "df['locality_name'] = df['locality_name'].str.replace('коттеджный ', '')\n",
    "\n",
    "df['locality_name'].value_counts()"
   ]
  },
  {
   "cell_type": "code",
   "execution_count": 29,
   "metadata": {},
   "outputs": [
    {
     "data": {
      "text/plain": [
       "array(['Санкт-Петербург', 'Шушары', 'Янино-1', 'Парголово', 'Мурино',\n",
       "       'Ломоносов', 'Сертолово', 'Петергоф', 'Пушкин', 'Кудрово',\n",
       "       'Коммунар', 'Колпино', 'Красный Бор', 'Гатчина', 'Федоровское',\n",
       "       'Выборг', 'Кронштадт', 'Кировск', 'Новое Девяткино',\n",
       "       'Металлострой', 'Лебяжье', 'Сиверский', 'Молодцово',\n",
       "       'Кузьмоловский', 'Новая Ропша', 'Павловск', 'Пикколово',\n",
       "       'Всеволожск', 'Волхов', 'Кингисепп', 'Приозерск', 'Сестрорецк',\n",
       "       'Куттузи', 'Аннино', 'Ефимовский', 'Плодовое', 'Заклинье',\n",
       "       'Торковичи', 'Первомайское', 'Красное Село', 'Понтонный',\n",
       "       'Сясьстрой', 'Старая', 'Лесколово', 'Новый Свет', 'Сланцы',\n",
       "       'Путилово', 'Ивангород', 'Шлиссельбург', 'Никольское',\n",
       "       'Зеленогорск', 'Сосновый Бор', 'Оржицы', 'Кальтино', 'Романовка',\n",
       "       'Бугры', 'Рощино', 'Кириши', 'Луга', 'Волосово', 'Отрадное',\n",
       "       'Павлово', 'Оредеж', 'Копорье', 'Молодежное', 'Тихвин', 'Победа',\n",
       "       'Нурма', 'Синявино', 'Тосно', 'Стрельна', 'Бокситогорск',\n",
       "       'Александровская', 'Лопухинка', 'Пикалево', 'Терволово',\n",
       "       'Советский', 'Подпорожье', 'Петровское', 'Токсово', 'Сельцо',\n",
       "       'Вырица', 'Кипень', 'Келози', 'Вартемяги', 'Тельмана',\n",
       "       'Севастьяново', 'Большая Ижора', nan, 'Агалатово', 'Новогорелово',\n",
       "       'Лесогорский', 'Лаголово', 'Цвелодубово', 'Рахья', 'Белогорка',\n",
       "       'Заводской', 'Новоселье', 'Большие Колпаны', 'Горбунки', 'Батово',\n",
       "       'Заневка', 'Иссад', 'Приморск', 'Мистолово', 'Новая Ладога',\n",
       "       'Зимитицы', 'Барышево', 'Разметелево', 'имени Свердлова', 'Пеники',\n",
       "       'Рябово', 'Пудомяги', 'Корнево', 'Низино', 'Бегуницы', 'Поляны',\n",
       "       'Мга', 'Елизаветино', 'Кузнечное', 'Колтуши', 'Запорожское',\n",
       "       'Гостилицы', 'Малое Карлино', 'Мичуринское', 'имени Морозова',\n",
       "       'Песочный', 'Сосново', 'Аро', 'Ильичево', 'Тайцы', 'Малое Верево',\n",
       "       'Извара', 'Вещево', 'Паша', 'Калитино', 'Ульяновка', 'Чудской Бор',\n",
       "       'Дубровка', 'Мины', 'Войсковицы', 'Коркино', 'Ропша',\n",
       "       'Приладожский', 'Щеглово', 'Гаврилово', 'Лодейное Поле',\n",
       "       'Рабитицы', 'Никольский', 'Кузьмолово', 'Малые Колпаны',\n",
       "       'Петро-Славянка', 'Назия', 'Репино', 'Углово', 'Старая Малукса',\n",
       "       'Меньково', 'Старые Бегуницы', 'Саперный', 'Семрино', 'Глажево',\n",
       "       'Кобринское', 'Гарболово', 'Юкки', 'Приветнинское', 'Мануйлово',\n",
       "       'Пчева', 'Цвылево', 'Мельниково', 'Пудость', 'Усть-Луга',\n",
       "       'Светогорск', 'Любань', 'Селезнево', 'Каменногорск', 'Кривко',\n",
       "       'Глебычево', 'Парицы', 'Жилпоселок', 'Войскорово', 'Стеклянный',\n",
       "       'Важины', 'Мыза-Ивановка', 'Русско-Высоцкое', 'Форносово',\n",
       "       'Старая Ладога', 'Житково', 'Виллози', 'Лампово', 'Шпаньково',\n",
       "       'Лаврики', 'Сумино', 'Возрождение', 'Старосиверская', 'Кикерино',\n",
       "       'Старое Хинколово', 'Пригородный', 'Торфяное', 'Будогощь',\n",
       "       'Суходолье', 'Красная Долина', 'Хапо-Ое', 'Дружная Горка',\n",
       "       'Лисий Нос', 'Яльгелево', 'Рождествено', 'Старополье', 'Левашово',\n",
       "       'Сяськелево', 'Камышовка', 'Лесная Поляна', 'Хязельки',\n",
       "       'Жилгородок', 'Ялгино', 'Новый Учхоз', 'Гончарово', 'Почап',\n",
       "       'Саперное', 'Платформа 69-й километр', 'Каложицы', 'Фалилеево',\n",
       "       'Пельгора', 'Торошковичи', 'Белоостров', 'Алексеевка',\n",
       "       'Серебрянский', 'Лукаши', 'Тарасово', 'Кингисеппский', 'Ушаки',\n",
       "       'Котлы', 'Сижно', 'Торосово', 'Форт Красная Горка', 'Новолисино',\n",
       "       'Громово', 'Глинка', 'Старая Пустошь', 'Коммунары', 'Починок',\n",
       "       'Вознесенье', 'Разбегаево', 'Гладкое', 'Тесово-4', 'Бор',\n",
       "       'Коробицыно', 'Большая Вруда', 'Курковицы', 'Кобралово',\n",
       "       'Суоранда', 'Кондратьево', 'Счастье', 'Реброво', 'Тойворово',\n",
       "       'Семиозерье', 'Лесное', 'Совхозный', 'Ленинское', 'Суйда',\n",
       "       'Нижние Осельки', 'Свирь', 'Перово', 'Высоцк', 'Шум', 'Котельский',\n",
       "       'Лужайка', 'Большая Пустомержа', 'Красносельское', 'Вахнова Кара',\n",
       "       'Пижма', 'Кивеннапа Север', 'Ромашки', 'Каськово', 'Куровицы',\n",
       "       'Плоское', 'Кирпичное', 'Ям-Тесово', 'Раздолье', 'Терпилицы',\n",
       "       'Шугозеро', 'Ваганово', 'Пушное', 'Садко', 'Усть-Ижора',\n",
       "       'Выскатка', 'Свирьстрой', 'Кисельня', 'Трубников Бор',\n",
       "       'Высокоключевой', 'Пансионат Зеленый Бор', 'Ненимяки',\n",
       "       'Снегиревка', None, 'Рапполово', 'Пустынка', 'Большой Сабск',\n",
       "       'Русско', 'Лупполово', 'Большое Рейзино', 'Малая Романовка',\n",
       "       'Дружноселье', 'Пчевжа', 'Володарское', 'Нижняя', 'Тихковицы',\n",
       "       'Борисова Грива', 'Дзержинского'], dtype=object)"
      ]
     },
     "execution_count": 29,
     "metadata": {},
     "output_type": "execute_result"
    }
   ],
   "source": [
    "df['locality_name'].unique()"
   ]
  },
  {
   "cell_type": "markdown",
   "metadata": {},
   "source": [
    "Проверяем столбец со следующей информацией:\n",
    "`расстояние до ближайшего аэропорта в метрах (м)`"
   ]
  },
  {
   "cell_type": "code",
   "execution_count": 30,
   "metadata": {},
   "outputs": [
    {
     "name": "stdout",
     "output_type": "stream",
     "text": [
      "Максимальное значение 84869.0\n",
      "Минимальное значение 0.0\n",
      "Медианное значение 26726.0\n",
      "Среднее значение 28788.008185387975\n",
      "Количество пропущенных значений 5532\n"
     ]
    }
   ],
   "source": [
    "temp_column = 'airports_nearest'\n",
    "print('Максимальное значение', df[temp_column].max())\n",
    "print('Минимальное значение', df[temp_column].min())\n",
    "print('Медианное значение', df[temp_column].median())\n",
    "print('Среднее значение', df[temp_column].mean())\n",
    "print('Количество пропущенных значений', df[temp_column].isna().sum())"
   ]
  },
  {
   "cell_type": "markdown",
   "metadata": {},
   "source": [
    "Есть пропуски, но в целом с данными все в порядке."
   ]
  },
  {
   "cell_type": "markdown",
   "metadata": {},
   "source": [
    "Проверяем столбец со следующей информацией:\n",
    "`расстояние до центра города (м)`"
   ]
  },
  {
   "cell_type": "code",
   "execution_count": 31,
   "metadata": {},
   "outputs": [
    {
     "name": "stdout",
     "output_type": "stream",
     "text": [
      "Максимальное значение 65968.0\n",
      "Минимальное значение 181.0\n",
      "Медианное значение 13093.0\n",
      "Среднее значение 14185.084014582413\n",
      "Количество пропущенных значений 5509\n"
     ]
    }
   ],
   "source": [
    "temp_column = 'city_centers_nearest'\n",
    "print('Максимальное значение', df[temp_column].max())\n",
    "print('Минимальное значение', df[temp_column].min())\n",
    "print('Медианное значение', df[temp_column].median())\n",
    "print('Среднее значение', df[temp_column].mean())\n",
    "print('Количество пропущенных значений', df[temp_column].isna().sum())"
   ]
  },
  {
   "cell_type": "markdown",
   "metadata": {},
   "source": [
    "Есть пропуски, но в целом с данными все в порядке."
   ]
  },
  {
   "cell_type": "markdown",
   "metadata": {},
   "source": [
    "Проверяем столбец со следующей информацией:\n",
    "`число парков в радиусе 3 км`"
   ]
  },
  {
   "cell_type": "code",
   "execution_count": 32,
   "metadata": {},
   "outputs": [
    {
     "name": "stdout",
     "output_type": "stream",
     "text": [
      "Максимальное значение 3.0\n",
      "Минимальное значение 0.0\n",
      "Медианное значение 0.0\n",
      "Среднее значение 0.6114333057166529\n",
      "Количество пропущенных значений 5508\n"
     ]
    }
   ],
   "source": [
    "temp_column = 'parks_around_3000'\n",
    "print('Максимальное значение', df[temp_column].max())\n",
    "print('Минимальное значение', df[temp_column].min())\n",
    "print('Медианное значение', df[temp_column].median())\n",
    "print('Среднее значение', df[temp_column].mean())\n",
    "print('Количество пропущенных значений', df[temp_column].isna().sum())"
   ]
  },
  {
   "cell_type": "markdown",
   "metadata": {},
   "source": [
    "Есть пропуски, но в целом с данными все в порядке."
   ]
  },
  {
   "cell_type": "markdown",
   "metadata": {},
   "source": [
    "Проверяем столбец со следующей информацией:\n",
    "`расстояние до ближайшего парка (м)`"
   ]
  },
  {
   "cell_type": "code",
   "execution_count": 33,
   "metadata": {},
   "outputs": [
    {
     "name": "stdout",
     "output_type": "stream",
     "text": [
      "Максимальное значение 3190.0\n",
      "Минимальное значение 1.0\n",
      "Медианное значение 455.0\n",
      "Среднее значение 490.5546302050963\n",
      "Количество пропущенных значений 15568\n"
     ]
    }
   ],
   "source": [
    "temp_column = 'parks_nearest'\n",
    "print('Максимальное значение', df[temp_column].max())\n",
    "print('Минимальное значение', df[temp_column].min())\n",
    "print('Медианное значение', df[temp_column].median())\n",
    "print('Среднее значение', df[temp_column].mean())\n",
    "print('Количество пропущенных значений', df[temp_column].isna().sum())"
   ]
  },
  {
   "cell_type": "markdown",
   "metadata": {},
   "source": [
    "Есть пропуски, но в целом с данными все в порядке."
   ]
  },
  {
   "cell_type": "markdown",
   "metadata": {},
   "source": [
    "Проверяем столбец со следующей информацией:\n",
    "`число водоёмов в радиусе 3 км`"
   ]
  },
  {
   "cell_type": "code",
   "execution_count": 34,
   "metadata": {},
   "outputs": [
    {
     "name": "stdout",
     "output_type": "stream",
     "text": [
      "Максимальное значение 3.0\n",
      "Минимальное значение 0.0\n",
      "Медианное значение 1.0\n",
      "Среднее значение 0.7701187517260425\n",
      "Количество пропущенных значений 5508\n"
     ]
    }
   ],
   "source": [
    "temp_column = 'ponds_around_3000'\n",
    "print('Максимальное значение', df[temp_column].max())\n",
    "print('Минимальное значение', df[temp_column].min())\n",
    "print('Медианное значение', df[temp_column].median())\n",
    "print('Среднее значение', df[temp_column].mean())\n",
    "print('Количество пропущенных значений', df[temp_column].isna().sum())"
   ]
  },
  {
   "cell_type": "markdown",
   "metadata": {},
   "source": [
    "Есть пропуски, но в целом с данными все в порядке."
   ]
  },
  {
   "cell_type": "markdown",
   "metadata": {},
   "source": [
    "Проверяем столбец со следующей информацией:\n",
    "`расстояние до ближайшего водоёма (м)`"
   ]
  },
  {
   "cell_type": "code",
   "execution_count": 35,
   "metadata": {},
   "outputs": [
    {
     "name": "stdout",
     "output_type": "stream",
     "text": [
      "Максимальное значение 1344.0\n",
      "Минимальное значение 13.0\n",
      "Медианное значение 503.0\n",
      "Среднее значение 518.2094691535151\n",
      "Количество пропущенных значений 14552\n"
     ]
    }
   ],
   "source": [
    "temp_column = 'ponds_nearest'\n",
    "print('Максимальное значение', df[temp_column].max())\n",
    "print('Минимальное значение', df[temp_column].min())\n",
    "print('Медианное значение', df[temp_column].median())\n",
    "print('Среднее значение', df[temp_column].mean())\n",
    "print('Количество пропущенных значений', df[temp_column].isna().sum())"
   ]
  },
  {
   "cell_type": "markdown",
   "metadata": {},
   "source": [
    "Есть пропуски, но в целом с данными все в порядке."
   ]
  },
  {
   "cell_type": "markdown",
   "metadata": {},
   "source": [
    "Проверяем столбец со следующей информацией:\n",
    "`сколько дней было размещено объявление (от публикации до снятия)`"
   ]
  },
  {
   "cell_type": "code",
   "execution_count": 36,
   "metadata": {},
   "outputs": [
    {
     "name": "stdout",
     "output_type": "stream",
     "text": [
      "Максимальное значение 1580.0\n",
      "Минимальное значение 1.0\n",
      "Медианное значение 95.0\n",
      "Среднее значение 180.88483929357665\n",
      "Количество пропущенных значений 3172\n"
     ]
    }
   ],
   "source": [
    "temp_column = 'days_exposition'\n",
    "print('Максимальное значение', df[temp_column].max())\n",
    "print('Минимальное значение', df[temp_column].min())\n",
    "print('Медианное значение', df[temp_column].median())\n",
    "print('Среднее значение', df[temp_column].mean())\n",
    "print('Количество пропущенных значений', df[temp_column].isna().sum())"
   ]
  },
  {
   "cell_type": "markdown",
   "metadata": {},
   "source": [
    "Есть пропуски, но в целом с данными все в порядке."
   ]
  },
  {
   "cell_type": "markdown",
   "metadata": {},
   "source": [
    "Проверка на дубликаты:"
   ]
  },
  {
   "cell_type": "code",
   "execution_count": 37,
   "metadata": {},
   "outputs": [
    {
     "data": {
      "text/plain": [
       "0"
      ]
     },
     "execution_count": 37,
     "metadata": {},
     "output_type": "execute_result"
    }
   ],
   "source": [
    "df.duplicated().sum()"
   ]
  },
  {
   "cell_type": "markdown",
   "metadata": {},
   "source": [
    "# Вывод:\n",
    "    \n",
    "    \n",
    "Поменяли тип данных, в тех столбцах где это было нужно. Заполнили недостающие данные по количеству балконов. Приняли решение не удалять данные с пропусками где это возможно, чтобы сохранить максимум полезной информации, а также не заполнять пропущенные данные усредненными значениями, чтобы не искажать общую картину.\n"
   ]
  },
  {
   "cell_type": "markdown",
   "metadata": {},
   "source": [
    "## Расчёты и добавление результатов в таблицу"
   ]
  },
  {
   "cell_type": "markdown",
   "metadata": {},
   "source": [
    "Вычисляем цену квадратного метра."
   ]
  },
  {
   "cell_type": "code",
   "execution_count": 38,
   "metadata": {},
   "outputs": [],
   "source": [
    "try:\n",
    "    df['price_square_meter'] = df['last_price'] / df['living_area'] \n",
    "\n",
    "except: print ('Ошибка при вычислении цены квадратного метра.')"
   ]
  },
  {
   "cell_type": "markdown",
   "metadata": {},
   "source": [
    "Вычисляем день недели, месяц и год публикации объявления."
   ]
  },
  {
   "cell_type": "code",
   "execution_count": 39,
   "metadata": {},
   "outputs": [],
   "source": [
    "df['year'] = pd.DatetimeIndex(df['first_day_exposition']).year\n",
    "df['month'] = pd.DatetimeIndex(df['first_day_exposition']).month\n",
    "df['weekday'] = pd.DatetimeIndex(df['first_day_exposition']).weekday"
   ]
  },
  {
   "cell_type": "markdown",
   "metadata": {},
   "source": [
    "Добавляем этаж квартиры; варианты — первый, последний, другой."
   ]
  },
  {
   "cell_type": "code",
   "execution_count": 40,
   "metadata": {},
   "outputs": [],
   "source": [
    "def apartment_floor(data):\n",
    "    if data['floor'] == 1:\n",
    "        return 'первый'\n",
    "    if data['floor'] == data['floors_total']:\n",
    "        return 'последний'\n",
    "    return 'другой'\n",
    " \n",
    "df['apartment_floor'] = df.apply(apartment_floor, axis=1)"
   ]
  },
  {
   "cell_type": "markdown",
   "metadata": {},
   "source": [
    "<div class=\"alert alert-block alert-success\">\n",
    "<b>✔️ Success:</b> отличная функция!"
   ]
  },
  {
   "cell_type": "markdown",
   "metadata": {},
   "source": [
    "Добавляем соотношение жилой и общей площади."
   ]
  },
  {
   "cell_type": "code",
   "execution_count": 41,
   "metadata": {},
   "outputs": [],
   "source": [
    "try:\n",
    "    df['living_total_area'] = df['living_area'] / df['total_area'] \n",
    "\n",
    "except: print ('Ошибка при вычислении соотношения жилой и общей площади.')"
   ]
  },
  {
   "cell_type": "markdown",
   "metadata": {},
   "source": [
    "Добавляем отношение площади кухни к общей площади."
   ]
  },
  {
   "cell_type": "code",
   "execution_count": 42,
   "metadata": {},
   "outputs": [],
   "source": [
    "try:\n",
    "    df['kitchen_total_area'] = df['kitchen_area'] / df['total_area'] \n",
    "\n",
    "except: print ('Ошибка при вычислении соотношения площади кухни к общей площади.')"
   ]
  },
  {
   "cell_type": "markdown",
   "metadata": {},
   "source": [
    "# Вывод.\n",
    "В таблицу, путем вычисления, были добавлены следующие данные:\n",
    "\n",
    "\n",
    "•\tцена квадратного метра;\n",
    "\n",
    "•\tдень недели, месяц и год публикации объявления;\n",
    "\n",
    "•\tэтаж квартиры; варианты — первый, последний, другой;\n",
    "\n",
    "•\tсоотношение жилой и общей площади, а также отношение площади кухни к общей.\n"
   ]
  },
  {
   "cell_type": "markdown",
   "metadata": {},
   "source": [
    "## Исследовательский анализ данных"
   ]
  },
  {
   "cell_type": "markdown",
   "metadata": {},
   "source": [
    "Изучаем следующие параметры: площадь, цена, число комнат, высота потолков. Строим гистограммы для каждого параметра."
   ]
  },
  {
   "cell_type": "markdown",
   "metadata": {},
   "source": [
    "Площадь"
   ]
  },
  {
   "cell_type": "code",
   "execution_count": 43,
   "metadata": {},
   "outputs": [
    {
     "data": {
      "image/png": "[encoded data removed]",
      "text/plain": [
       "<Figure size 432x288 with 1 Axes>"
      ]
     },
     "metadata": {
      "needs_background": "light"
     },
     "output_type": "display_data"
    }
   ],
   "source": [
    "df['total_area'].hist(bins = 100, range = (0, 400))\n",
    "\n",
    "pl.title('Данные за период с 2014 по 2019 г.')\n",
    "pl.xlabel(\"Площадь квартиры в квадратных метрах (м²)\")\n",
    "pl.ylabel(\"Количество квартир (шт.)\")\n",
    "plt.show()"
   ]
  },
  {
   "cell_type": "markdown",
   "metadata": {},
   "source": [
    "Внешне диаграмма похожа на распределение Пуассона. Есть незначительные выбросы на площади более 200 м3. Хотя возможно действительно есть такие объекты. В реальной ситуации я бы уточнил этот вопрос у экспертов."
   ]
  },
  {
   "cell_type": "markdown",
   "metadata": {},
   "source": [
    "Цена"
   ]
  },
  {
   "cell_type": "code",
   "execution_count": 44,
   "metadata": {},
   "outputs": [
    {
     "data": {
      "image/png": "[encoded data removed]",
      "text/plain": [
       "<Figure size 432x288 with 1 Axes>"
      ]
     },
     "metadata": {
      "needs_background": "light"
     },
     "output_type": "display_data"
    }
   ],
   "source": [
    "df['last_price'].hist(bins = 100, range = (0, 40000000))\n",
    "\n",
    "pl.title('Данные за период с 2014 по 2019 г.')\n",
    "pl.xlabel(\"Цена на момент снятия с публикации (руб.)\")\n",
    "pl.ylabel(\"Количество квартир (шт.)\")\n",
    "plt.show()"
   ]
  },
  {
   "cell_type": "markdown",
   "metadata": {},
   "source": [
    "Картина аналогична гистограмме площади. Меньше 400 000 и больше 20 000 000 это по всей видимости выбросы."
   ]
  },
  {
   "cell_type": "markdown",
   "metadata": {},
   "source": [
    "Число комнат"
   ]
  },
  {
   "cell_type": "code",
   "execution_count": 45,
   "metadata": {},
   "outputs": [
    {
     "name": "stdout",
     "output_type": "stream",
     "text": [
      "Число объектов с нулевым количеством комнат: 194\n"
     ]
    },
    {
     "data": {
      "image/png": "[encoded data removed]",
      "text/plain": [
       "<Figure size 432x288 with 1 Axes>"
      ]
     },
     "metadata": {
      "needs_background": "light"
     },
     "output_type": "display_data"
    }
   ],
   "source": [
    "print ('Число объектов с нулевым количеством комнат:', len(df[df['rooms'] == 0]))\n",
    "df['rooms'].hist(bins = 11, range = (0, 10))\n",
    "\n",
    "pl.title('Данные за период с 2014 по 2019 г.')\n",
    "pl.xlabel(\"Число комнат (шт.)\")\n",
    "pl.ylabel(\"Количество квартир (шт.)\")\n",
    "plt.show()"
   ]
  },
  {
   "cell_type": "markdown",
   "metadata": {},
   "source": [
    "Внешне диаграмма похожа на распределение Пуассона. \n",
    "Немного смущают объекты с нулевым количеством комнат. Нужно уточнить что это за объекты."
   ]
  },
  {
   "cell_type": "markdown",
   "metadata": {},
   "source": [
    "Высота потолков"
   ]
  },
  {
   "cell_type": "code",
   "execution_count": 46,
   "metadata": {},
   "outputs": [
    {
     "data": {
      "image/png": "[encoded data removed]",
      "text/plain": [
       "<Figure size 432x288 with 1 Axes>"
      ]
     },
     "metadata": {
      "needs_background": "light"
     },
     "output_type": "display_data"
    }
   ],
   "source": [
    "df['ceiling_height'].hist(bins = 20, range = (2, 4.5))\n",
    "\n",
    "pl.title('Данные за период с 2014 по 2019 г.')\n",
    "pl.xlabel(\"Высота потолков (м)\")\n",
    "pl.ylabel(\"Количество квартир (шт.)\")\n",
    "plt.show()"
   ]
  },
  {
   "cell_type": "markdown",
   "metadata": {},
   "source": [
    "Основное часть объектов имеет высоту потолков от 2.5 до 3 метров. Меньше 2 и больше 4.5, по моему мнению, это выбросы."
   ]
  },
  {
   "cell_type": "markdown",
   "metadata": {},
   "source": [
    "Изучаем время продажи квартиры. Строим гистограмму. Считаем среднее и медиану. "
   ]
  },
  {
   "cell_type": "code",
   "execution_count": 47,
   "metadata": {},
   "outputs": [
    {
     "name": "stdout",
     "output_type": "stream",
     "text": [
      "Максимальное значение 1580.0\n",
      "Минимальное значение 1.0\n",
      "Медианное значение 95.0\n",
      "Среднее значение 180.88483929357665\n"
     ]
    }
   ],
   "source": [
    "temp_column = 'days_exposition'\n",
    "print('Максимальное значение', df[temp_column].max())\n",
    "print('Минимальное значение', df[temp_column].min())\n",
    "print('Медианное значение', df[temp_column].median())\n",
    "print('Среднее значение', df[temp_column].mean())"
   ]
  },
  {
   "cell_type": "code",
   "execution_count": 48,
   "metadata": {},
   "outputs": [
    {
     "name": "stdout",
     "output_type": "stream",
     "text": [
      "AxesSubplot(0.125,0.125;0.775x0.755)\n"
     ]
    },
    {
     "data": {
      "image/png": "[encoded data removed]",
      "text/plain": [
       "<Figure size 432x288 with 1 Axes>"
      ]
     },
     "metadata": {
      "needs_background": "light"
     },
     "output_type": "display_data"
    }
   ],
   "source": [
    "print(df['days_exposition'].hist(bins = 100, range = (1, 1580)))\n",
    "\n",
    "pl.title('Данные за период с 2014 по 2019 г.')\n",
    "pl.xlabel(\"Сколько дней было размещено объявление (от публикации до снятия)\")\n",
    "pl.ylabel(\"Количество квартир (шт.)\")\n",
    "plt.show()\n"
   ]
  },
  {
   "cell_type": "code",
   "execution_count": 49,
   "metadata": {},
   "outputs": [
    {
     "name": "stdout",
     "output_type": "stream",
     "text": [
      "AxesSubplot(0.125,0.125;0.775x0.755)\n"
     ]
    },
    {
     "data": {
      "image/png": "[encoded data removed]",
      "text/plain": [
       "<Figure size 432x288 with 1 Axes>"
      ]
     },
     "metadata": {
      "needs_background": "light"
     },
     "output_type": "display_data"
    }
   ],
   "source": [
    "print(df['days_exposition'].hist(bins = 100, range = (1, 100)))\n",
    "\n",
    "pl.title('Данные за период с 2014 по 2019 г.')\n",
    "pl.xlabel(\"Сколько дней было размещено объявление (от публикации до снятия)\")\n",
    "pl.ylabel(\"Количество квартир (шт.)\")\n",
    "plt.show()"
   ]
  },
  {
   "cell_type": "code",
   "execution_count": 50,
   "metadata": {},
   "outputs": [
    {
     "data": {
      "text/plain": [
       "days_exposition\n",
       "40.0     92\n",
       "41.0     76\n",
       "42.0    113\n",
       "43.0    107\n",
       "44.0    138\n",
       "45.0    880\n",
       "46.0     90\n",
       "47.0     77\n",
       "48.0     77\n",
       "49.0     69\n",
       "50.0     61\n",
       "51.0     51\n",
       "52.0     84\n",
       "53.0     81\n",
       "54.0    110\n",
       "55.0     75\n",
       "56.0     86\n",
       "57.0     74\n",
       "58.0     71\n",
       "59.0    106\n",
       "60.0    538\n",
       "Name: days_exposition, dtype: int64"
      ]
     },
     "execution_count": 50,
     "metadata": {},
     "output_type": "execute_result"
    }
   ],
   "source": [
    "df[(df['days_exposition']<=60)&(df['days_exposition']>=40)].groupby('days_exposition')['days_exposition'].count()"
   ]
  },
  {
   "cell_type": "markdown",
   "metadata": {},
   "source": [
    "\n",
    "Два самых явных пика находятся на 45-от и 60-ом днях публикации.\n",
    "Остальные на значениях 90, 30 и 7 дней.\n",
    "По всей видимости это связанно с политикой размещения объявлений.\n",
    "Предполагаем, что данные объявления просто снимали с публикации, а факта продажи не было. Для нас же важен именно сам факт продажи, в связи с этим убираем эти данные, чтобы они не искажали нам картину.\n",
    "\n"
   ]
  },
  {
   "cell_type": "markdown",
   "metadata": {},
   "source": [
    "Внешне диаграмма похожа на распределение Пуассона, смещенное н началу координат и с очень вытянутым хвостом. Взглянем на эти участки внимательнее."
   ]
  },
  {
   "cell_type": "code",
   "execution_count": 51,
   "metadata": {},
   "outputs": [
    {
     "name": "stdout",
     "output_type": "stream",
     "text": [
      "AxesSubplot(0.125,0.125;0.775x0.755)\n"
     ]
    },
    {
     "data": {
      "image/png": "[encoded data removed]",
      "text/plain": [
       "<Figure size 432x288 with 1 Axes>"
      ]
     },
     "metadata": {
      "needs_background": "light"
     },
     "output_type": "display_data"
    }
   ],
   "source": [
    "print(df['days_exposition'].hist(bins = 10, range = (1, 10)))\n",
    "\n",
    "pl.title('Данные за период с 2014 по 2019 г.')\n",
    "pl.xlabel(\"Сколько дней было размещено объявление (от публикации до снятия)\")\n",
    "pl.ylabel(\"Количество квартир (шт.)\")\n",
    "plt.show()"
   ]
  },
  {
   "cell_type": "markdown",
   "metadata": {},
   "source": [
    "Основные продажи квартир начинаются через 3 дня после публикации. Все что до этого, считаем аномально малым временем."
   ]
  },
  {
   "cell_type": "code",
   "execution_count": 52,
   "metadata": {},
   "outputs": [
    {
     "name": "stdout",
     "output_type": "stream",
     "text": [
      "AxesSubplot(0.125,0.125;0.775x0.755)\n"
     ]
    },
    {
     "data": {
      "image/png": "[encoded data removed]",
      "text/plain": [
       "<Figure size 432x288 with 1 Axes>"
      ]
     },
     "metadata": {
      "needs_background": "light"
     },
     "output_type": "display_data"
    }
   ],
   "source": [
    "print(df['days_exposition'].hist(bins = 50, range = (800, 1580)))\n",
    "\n",
    "pl.title('Данные за период с 2014 по 2019 г.')\n",
    "pl.xlabel(\"Сколько дней было размещено объявление (от публикации до снятия)\")\n",
    "pl.ylabel(\"Количество квартир (шт.)\")\n",
    "plt.show()"
   ]
  },
  {
   "cell_type": "markdown",
   "metadata": {},
   "source": [
    "Здесь ситуация интереснее. При длительном времени публикации, падение происходит практически линейно. Исходя из здравого смысла можно предположить, что за несколько лет люди просто снимают объявление с публикации. Мы же помним что у нас в данных есть только время публикации, а факт продажи мы никак не можем проверить по этим данным."
   ]
  },
  {
   "cell_type": "markdown",
   "metadata": {},
   "source": [
    "В среднем продажа занимает 95 дней. Все что быстрее 3 дней, это очень быстро. Все что дольше 3 лет (спад на 1000 дней), очень долго."
   ]
  },
  {
   "cell_type": "markdown",
   "metadata": {},
   "source": [
    "Опираясь на предыдущий анализ уберем из данных следующие аномальные значения:\n",
    "\n",
    "\n",
    "# Время продажи:\n",
    "\n",
    "Меньше 3\n",
    "\n",
    "Равно 7, 30, 45, 60 и 90 дней.\n",
    "\n",
    "Больше 1000\n",
    "\n",
    "\n",
    "# Площадь:\n",
    "\n",
    "Больше 200\n",
    "\n",
    "Минимум не ограничиваем. 21 метров вполне возможно\n",
    "\n",
    "# Цена: \n",
    "\n",
    "Меньше 400 000 \n",
    "\n",
    "Больше 20 000 000 \n",
    "\n",
    "# Высота потолков:\n",
    "\n",
    "Меньше 2\n",
    "\n",
    "Больше 4.5\n",
    "\n",
    "# Число комнат:\n",
    "\n",
    "Меньше 1\n",
    "\n",
    "Больше 8\n"
   ]
  },
  {
   "cell_type": "code",
   "execution_count": 53,
   "metadata": {},
   "outputs": [],
   "source": [
    "df['days_exposition'] = df['days_exposition'].astype(int, errors='ignore')\n",
    "df = df[(df['days_exposition']>=3) & (df['days_exposition']<=1000)] # Время продажи\n",
    "df = df[(df['days_exposition'] != 7)  \n",
    "         & (df['days_exposition'] != 30)  \n",
    "         & (df['days_exposition'] != 45)  \n",
    "         & (df['days_exposition'] != 60)  \n",
    "         & (df['days_exposition'] != 90)] \n",
    "df = df[(df['total_area']<=200)] # Площадь\n",
    "df = df[(df['last_price']>=400000) & (df['last_price']<=20000000)] # Цена\n",
    "df = df[(df['ceiling_height']>=2) & (df['ceiling_height']<=4.5)] # Высота потолков\n",
    "df = df[(df['rooms']>=1) & (df['rooms']<=8)] # Число комнат"
   ]
  },
  {
   "cell_type": "markdown",
   "metadata": {},
   "source": [
    "# Проверяем, зависит ли цена от:"
   ]
  },
  {
   "cell_type": "markdown",
   "metadata": {},
   "source": [
    "# площади"
   ]
  },
  {
   "cell_type": "code",
   "execution_count": 54,
   "metadata": {},
   "outputs": [
    {
     "data": {
      "image/png": "[encoded data removed]",
      "text/plain": [
       "<Figure size 432x288 with 1 Axes>"
      ]
     },
     "metadata": {
      "needs_background": "light"
     },
     "output_type": "display_data"
    }
   ],
   "source": [
    "temp_column = 'total_area'\n",
    "df.plot(x=temp_column, y='last_price', kind='scatter')\n",
    "\n",
    "\n",
    "pl.title('Данные за период с 2014 по 2019 г.')\n",
    "pl.xlabel(\"Жилая площадь в квадратных метрах (м²)\")\n",
    "pl.ylabel(\"Количество квартир (шт.)\")\n",
    "plt.show()"
   ]
  },
  {
   "cell_type": "markdown",
   "metadata": {},
   "source": [
    "Да, существенно зависит."
   ]
  },
  {
   "cell_type": "code",
   "execution_count": 55,
   "metadata": {},
   "outputs": [
    {
     "name": "stdout",
     "output_type": "stream",
     "text": [
      "Корреляция составляет: 77.57%\n"
     ]
    }
   ],
   "source": [
    "print('Корреляция составляет:',\"{:.2%}\".format(df[temp_column].corr(df['last_price'])))"
   ]
  },
  {
   "cell_type": "markdown",
   "metadata": {},
   "source": [
    "# числа комнат"
   ]
  },
  {
   "cell_type": "code",
   "execution_count": 56,
   "metadata": {},
   "outputs": [
    {
     "data": {
      "text/html": [
       "<div>\n",
       "<style scoped>\n",
       "    .dataframe tbody tr th:only-of-type {\n",
       "        vertical-align: middle;\n",
       "    }\n",
       "\n",
       "    .dataframe tbody tr th {\n",
       "        vertical-align: top;\n",
       "    }\n",
       "\n",
       "    .dataframe thead tr th {\n",
       "        text-align: left;\n",
       "    }\n",
       "\n",
       "    .dataframe thead tr:last-of-type th {\n",
       "        text-align: right;\n",
       "    }\n",
       "</style>\n",
       "<table border=\"1\" class=\"dataframe\">\n",
       "  <thead>\n",
       "    <tr>\n",
       "      <th></th>\n",
       "      <th>count</th>\n",
       "      <th>min</th>\n",
       "      <th>mean</th>\n",
       "      <th>median</th>\n",
       "      <th>max</th>\n",
       "    </tr>\n",
       "    <tr>\n",
       "      <th></th>\n",
       "      <th>last_price</th>\n",
       "      <th>last_price</th>\n",
       "      <th>last_price</th>\n",
       "      <th>last_price</th>\n",
       "      <th>last_price</th>\n",
       "    </tr>\n",
       "    <tr>\n",
       "      <th>rooms</th>\n",
       "      <th></th>\n",
       "      <th></th>\n",
       "      <th></th>\n",
       "      <th></th>\n",
       "      <th></th>\n",
       "    </tr>\n",
       "  </thead>\n",
       "  <tbody>\n",
       "    <tr>\n",
       "      <td>1</td>\n",
       "      <td>3824</td>\n",
       "      <td>490000.0</td>\n",
       "      <td>3.793704e+06</td>\n",
       "      <td>3600000.0</td>\n",
       "      <td>19500000.0</td>\n",
       "    </tr>\n",
       "    <tr>\n",
       "      <td>2</td>\n",
       "      <td>3751</td>\n",
       "      <td>450000.0</td>\n",
       "      <td>5.296468e+06</td>\n",
       "      <td>4700000.0</td>\n",
       "      <td>20000000.0</td>\n",
       "    </tr>\n",
       "    <tr>\n",
       "      <td>3</td>\n",
       "      <td>2659</td>\n",
       "      <td>850000.0</td>\n",
       "      <td>7.004498e+06</td>\n",
       "      <td>6000000.0</td>\n",
       "      <td>20000000.0</td>\n",
       "    </tr>\n",
       "    <tr>\n",
       "      <td>4</td>\n",
       "      <td>483</td>\n",
       "      <td>1200000.0</td>\n",
       "      <td>8.575032e+06</td>\n",
       "      <td>7850000.0</td>\n",
       "      <td>19900000.0</td>\n",
       "    </tr>\n",
       "    <tr>\n",
       "      <td>5</td>\n",
       "      <td>102</td>\n",
       "      <td>2850000.0</td>\n",
       "      <td>1.099139e+07</td>\n",
       "      <td>10750000.0</td>\n",
       "      <td>20000000.0</td>\n",
       "    </tr>\n",
       "    <tr>\n",
       "      <td>6</td>\n",
       "      <td>23</td>\n",
       "      <td>4390000.0</td>\n",
       "      <td>1.390859e+07</td>\n",
       "      <td>13450000.0</td>\n",
       "      <td>19500000.0</td>\n",
       "    </tr>\n",
       "    <tr>\n",
       "      <td>7</td>\n",
       "      <td>3</td>\n",
       "      <td>12000000.0</td>\n",
       "      <td>1.289667e+07</td>\n",
       "      <td>12990000.0</td>\n",
       "      <td>13700000.0</td>\n",
       "    </tr>\n",
       "  </tbody>\n",
       "</table>\n",
       "</div>"
      ],
      "text/plain": [
       "           count         min          mean      median         max\n",
       "      last_price  last_price    last_price  last_price  last_price\n",
       "rooms                                                             \n",
       "1           3824    490000.0  3.793704e+06   3600000.0  19500000.0\n",
       "2           3751    450000.0  5.296468e+06   4700000.0  20000000.0\n",
       "3           2659    850000.0  7.004498e+06   6000000.0  20000000.0\n",
       "4            483   1200000.0  8.575032e+06   7850000.0  19900000.0\n",
       "5            102   2850000.0  1.099139e+07  10750000.0  20000000.0\n",
       "6             23   4390000.0  1.390859e+07  13450000.0  19500000.0\n",
       "7              3  12000000.0  1.289667e+07  12990000.0  13700000.0"
      ]
     },
     "metadata": {},
     "output_type": "display_data"
    }
   ],
   "source": [
    "display(df.pivot_table(index='rooms', values='last_price', aggfunc=['count','min','mean','median','max']))"
   ]
  },
  {
   "cell_type": "markdown",
   "metadata": {},
   "source": [
    "Да, есть зависимость. Чем больше комнат, там больше цена. Все логично."
   ]
  },
  {
   "cell_type": "markdown",
   "metadata": {},
   "source": [
    "# удалённости от центра"
   ]
  },
  {
   "cell_type": "code",
   "execution_count": 57,
   "metadata": {},
   "outputs": [
    {
     "name": "stdout",
     "output_type": "stream",
     "text": [
      "Корреляция составляет: -0.3595786314947631\n"
     ]
    },
    {
     "data": {
      "image/png": "[encoded data removed]",
      "text/plain": [
       "<Figure size 432x288 with 1 Axes>"
      ]
     },
     "metadata": {
      "needs_background": "light"
     },
     "output_type": "display_data"
    }
   ],
   "source": [
    "temp_column = 'city_centers_nearest'\n",
    "df.plot(x=temp_column, y='last_price', kind='scatter')\n",
    "print('Корреляция составляет:', df[temp_column].corr(df['last_price']))\n",
    "\n",
    "\n",
    "pl.title('Данные за период с 2014 по 2019 г.')\n",
    "pl.xlabel(\"Удалённости от центра в метрах (м)\")\n",
    "pl.ylabel(\"Количество квартир (шт.)\")\n",
    "plt.show()"
   ]
  },
  {
   "cell_type": "markdown",
   "metadata": {},
   "source": [
    "Есть обратная зависимость, что в общем то логично."
   ]
  },
  {
   "cell_type": "markdown",
   "metadata": {},
   "source": [
    "# от того, на каком этаже расположена квартира: первом, последнем или другом"
   ]
  },
  {
   "cell_type": "code",
   "execution_count": 58,
   "metadata": {},
   "outputs": [
    {
     "data": {
      "text/html": [
       "<div>\n",
       "<style scoped>\n",
       "    .dataframe tbody tr th:only-of-type {\n",
       "        vertical-align: middle;\n",
       "    }\n",
       "\n",
       "    .dataframe tbody tr th {\n",
       "        vertical-align: top;\n",
       "    }\n",
       "\n",
       "    .dataframe thead tr th {\n",
       "        text-align: left;\n",
       "    }\n",
       "\n",
       "    .dataframe thead tr:last-of-type th {\n",
       "        text-align: right;\n",
       "    }\n",
       "</style>\n",
       "<table border=\"1\" class=\"dataframe\">\n",
       "  <thead>\n",
       "    <tr>\n",
       "      <th></th>\n",
       "      <th>count</th>\n",
       "      <th>min</th>\n",
       "      <th>mean</th>\n",
       "      <th>median</th>\n",
       "      <th>max</th>\n",
       "    </tr>\n",
       "    <tr>\n",
       "      <th></th>\n",
       "      <th>last_price</th>\n",
       "      <th>last_price</th>\n",
       "      <th>last_price</th>\n",
       "      <th>last_price</th>\n",
       "      <th>last_price</th>\n",
       "    </tr>\n",
       "    <tr>\n",
       "      <th>apartment_floor</th>\n",
       "      <th></th>\n",
       "      <th></th>\n",
       "      <th></th>\n",
       "      <th></th>\n",
       "      <th></th>\n",
       "    </tr>\n",
       "  </thead>\n",
       "  <tbody>\n",
       "    <tr>\n",
       "      <td>другой</td>\n",
       "      <td>7949</td>\n",
       "      <td>550000.0</td>\n",
       "      <td>5.623469e+06</td>\n",
       "      <td>4750000.0</td>\n",
       "      <td>20000000.0</td>\n",
       "    </tr>\n",
       "    <tr>\n",
       "      <td>первый</td>\n",
       "      <td>1378</td>\n",
       "      <td>450000.0</td>\n",
       "      <td>4.348258e+06</td>\n",
       "      <td>3900000.0</td>\n",
       "      <td>20000000.0</td>\n",
       "    </tr>\n",
       "    <tr>\n",
       "      <td>последний</td>\n",
       "      <td>1518</td>\n",
       "      <td>490000.0</td>\n",
       "      <td>5.222482e+06</td>\n",
       "      <td>4300000.0</td>\n",
       "      <td>19900000.0</td>\n",
       "    </tr>\n",
       "  </tbody>\n",
       "</table>\n",
       "</div>"
      ],
      "text/plain": [
       "                     count        min          mean     median         max\n",
       "                last_price last_price    last_price last_price  last_price\n",
       "apartment_floor                                                           \n",
       "другой                7949   550000.0  5.623469e+06  4750000.0  20000000.0\n",
       "первый                1378   450000.0  4.348258e+06  3900000.0  20000000.0\n",
       "последний             1518   490000.0  5.222482e+06  4300000.0  19900000.0"
      ]
     },
     "metadata": {},
     "output_type": "display_data"
    }
   ],
   "source": [
    "temp_column = 'apartment_floor'\n",
    "display(df.pivot_table(index=temp_column, values='last_price', aggfunc=['count','min','mean','median','max']))"
   ]
  },
  {
   "cell_type": "markdown",
   "metadata": {},
   "source": [
    "Как и ожидалось, самые дорогие средние этажи, а самый дешевый первый."
   ]
  },
  {
   "cell_type": "markdown",
   "metadata": {},
   "source": [
    "# от даты размещения: дня недели"
   ]
  },
  {
   "cell_type": "code",
   "execution_count": 59,
   "metadata": {},
   "outputs": [
    {
     "data": {
      "text/html": [
       "<div>\n",
       "<style scoped>\n",
       "    .dataframe tbody tr th:only-of-type {\n",
       "        vertical-align: middle;\n",
       "    }\n",
       "\n",
       "    .dataframe tbody tr th {\n",
       "        vertical-align: top;\n",
       "    }\n",
       "\n",
       "    .dataframe thead tr th {\n",
       "        text-align: left;\n",
       "    }\n",
       "\n",
       "    .dataframe thead tr:last-of-type th {\n",
       "        text-align: right;\n",
       "    }\n",
       "</style>\n",
       "<table border=\"1\" class=\"dataframe\">\n",
       "  <thead>\n",
       "    <tr>\n",
       "      <th></th>\n",
       "      <th>count</th>\n",
       "      <th>min</th>\n",
       "      <th>mean</th>\n",
       "      <th>median</th>\n",
       "      <th>max</th>\n",
       "    </tr>\n",
       "    <tr>\n",
       "      <th></th>\n",
       "      <th>last_price</th>\n",
       "      <th>last_price</th>\n",
       "      <th>last_price</th>\n",
       "      <th>last_price</th>\n",
       "      <th>last_price</th>\n",
       "    </tr>\n",
       "    <tr>\n",
       "      <th>weekday</th>\n",
       "      <th></th>\n",
       "      <th></th>\n",
       "      <th></th>\n",
       "      <th></th>\n",
       "      <th></th>\n",
       "    </tr>\n",
       "  </thead>\n",
       "  <tbody>\n",
       "    <tr>\n",
       "      <td>0</td>\n",
       "      <td>1725</td>\n",
       "      <td>600000.0</td>\n",
       "      <td>5.323805e+06</td>\n",
       "      <td>4530000.0</td>\n",
       "      <td>20000000.0</td>\n",
       "    </tr>\n",
       "    <tr>\n",
       "      <td>1</td>\n",
       "      <td>1950</td>\n",
       "      <td>560000.0</td>\n",
       "      <td>5.589772e+06</td>\n",
       "      <td>4782500.0</td>\n",
       "      <td>20000000.0</td>\n",
       "    </tr>\n",
       "    <tr>\n",
       "      <td>2</td>\n",
       "      <td>1794</td>\n",
       "      <td>450000.0</td>\n",
       "      <td>5.384939e+06</td>\n",
       "      <td>4550000.0</td>\n",
       "      <td>20000000.0</td>\n",
       "    </tr>\n",
       "    <tr>\n",
       "      <td>3</td>\n",
       "      <td>2018</td>\n",
       "      <td>490000.0</td>\n",
       "      <td>5.536043e+06</td>\n",
       "      <td>4600000.0</td>\n",
       "      <td>20000000.0</td>\n",
       "    </tr>\n",
       "    <tr>\n",
       "      <td>4</td>\n",
       "      <td>1751</td>\n",
       "      <td>600000.0</td>\n",
       "      <td>5.329517e+06</td>\n",
       "      <td>4500000.0</td>\n",
       "      <td>19980000.0</td>\n",
       "    </tr>\n",
       "    <tr>\n",
       "      <td>5</td>\n",
       "      <td>872</td>\n",
       "      <td>560000.0</td>\n",
       "      <td>5.179036e+06</td>\n",
       "      <td>4499000.0</td>\n",
       "      <td>18990000.0</td>\n",
       "    </tr>\n",
       "    <tr>\n",
       "      <td>6</td>\n",
       "      <td>735</td>\n",
       "      <td>650000.0</td>\n",
       "      <td>5.247006e+06</td>\n",
       "      <td>4450000.0</td>\n",
       "      <td>19800000.0</td>\n",
       "    </tr>\n",
       "  </tbody>\n",
       "</table>\n",
       "</div>"
      ],
      "text/plain": [
       "             count        min          mean     median         max\n",
       "        last_price last_price    last_price last_price  last_price\n",
       "weekday                                                           \n",
       "0             1725   600000.0  5.323805e+06  4530000.0  20000000.0\n",
       "1             1950   560000.0  5.589772e+06  4782500.0  20000000.0\n",
       "2             1794   450000.0  5.384939e+06  4550000.0  20000000.0\n",
       "3             2018   490000.0  5.536043e+06  4600000.0  20000000.0\n",
       "4             1751   600000.0  5.329517e+06  4500000.0  19980000.0\n",
       "5              872   560000.0  5.179036e+06  4499000.0  18990000.0\n",
       "6              735   650000.0  5.247006e+06  4450000.0  19800000.0"
      ]
     },
     "metadata": {},
     "output_type": "display_data"
    }
   ],
   "source": [
    "temp_column = 'weekday'\n",
    "display(df.pivot_table(index=temp_column, values='last_price', aggfunc=['count','min','mean','median','max']))"
   ]
  },
  {
   "cell_type": "markdown",
   "metadata": {},
   "source": [
    "Зависимости нет."
   ]
  },
  {
   "cell_type": "markdown",
   "metadata": {},
   "source": [
    "# от даты размещения: месяца"
   ]
  },
  {
   "cell_type": "code",
   "execution_count": 60,
   "metadata": {},
   "outputs": [
    {
     "data": {
      "text/html": [
       "<div>\n",
       "<style scoped>\n",
       "    .dataframe tbody tr th:only-of-type {\n",
       "        vertical-align: middle;\n",
       "    }\n",
       "\n",
       "    .dataframe tbody tr th {\n",
       "        vertical-align: top;\n",
       "    }\n",
       "\n",
       "    .dataframe thead tr th {\n",
       "        text-align: left;\n",
       "    }\n",
       "\n",
       "    .dataframe thead tr:last-of-type th {\n",
       "        text-align: right;\n",
       "    }\n",
       "</style>\n",
       "<table border=\"1\" class=\"dataframe\">\n",
       "  <thead>\n",
       "    <tr>\n",
       "      <th></th>\n",
       "      <th>count</th>\n",
       "      <th>min</th>\n",
       "      <th>mean</th>\n",
       "      <th>median</th>\n",
       "      <th>max</th>\n",
       "    </tr>\n",
       "    <tr>\n",
       "      <th></th>\n",
       "      <th>last_price</th>\n",
       "      <th>last_price</th>\n",
       "      <th>last_price</th>\n",
       "      <th>last_price</th>\n",
       "      <th>last_price</th>\n",
       "    </tr>\n",
       "    <tr>\n",
       "      <th>month</th>\n",
       "      <th></th>\n",
       "      <th></th>\n",
       "      <th></th>\n",
       "      <th></th>\n",
       "      <th></th>\n",
       "    </tr>\n",
       "  </thead>\n",
       "  <tbody>\n",
       "    <tr>\n",
       "      <td>1</td>\n",
       "      <td>686</td>\n",
       "      <td>585000.0</td>\n",
       "      <td>5.384179e+06</td>\n",
       "      <td>4500000.0</td>\n",
       "      <td>19900000.0</td>\n",
       "    </tr>\n",
       "    <tr>\n",
       "      <td>2</td>\n",
       "      <td>1274</td>\n",
       "      <td>550000.0</td>\n",
       "      <td>5.436616e+06</td>\n",
       "      <td>4600000.0</td>\n",
       "      <td>19800000.0</td>\n",
       "    </tr>\n",
       "    <tr>\n",
       "      <td>3</td>\n",
       "      <td>1108</td>\n",
       "      <td>550000.0</td>\n",
       "      <td>5.150116e+06</td>\n",
       "      <td>4375000.0</td>\n",
       "      <td>19354948.0</td>\n",
       "    </tr>\n",
       "    <tr>\n",
       "      <td>4</td>\n",
       "      <td>756</td>\n",
       "      <td>630000.0</td>\n",
       "      <td>5.481167e+06</td>\n",
       "      <td>4600000.0</td>\n",
       "      <td>19950000.0</td>\n",
       "    </tr>\n",
       "    <tr>\n",
       "      <td>5</td>\n",
       "      <td>553</td>\n",
       "      <td>490000.0</td>\n",
       "      <td>5.551647e+06</td>\n",
       "      <td>4646000.0</td>\n",
       "      <td>20000000.0</td>\n",
       "    </tr>\n",
       "    <tr>\n",
       "      <td>6</td>\n",
       "      <td>774</td>\n",
       "      <td>650000.0</td>\n",
       "      <td>5.274690e+06</td>\n",
       "      <td>4399500.0</td>\n",
       "      <td>19500000.0</td>\n",
       "    </tr>\n",
       "    <tr>\n",
       "      <td>7</td>\n",
       "      <td>856</td>\n",
       "      <td>450000.0</td>\n",
       "      <td>5.417452e+06</td>\n",
       "      <td>4590000.0</td>\n",
       "      <td>20000000.0</td>\n",
       "    </tr>\n",
       "    <tr>\n",
       "      <td>8</td>\n",
       "      <td>907</td>\n",
       "      <td>500000.0</td>\n",
       "      <td>5.459767e+06</td>\n",
       "      <td>4600000.0</td>\n",
       "      <td>19980000.0</td>\n",
       "    </tr>\n",
       "    <tr>\n",
       "      <td>9</td>\n",
       "      <td>1012</td>\n",
       "      <td>565000.0</td>\n",
       "      <td>5.659504e+06</td>\n",
       "      <td>4700000.0</td>\n",
       "      <td>20000000.0</td>\n",
       "    </tr>\n",
       "    <tr>\n",
       "      <td>10</td>\n",
       "      <td>1081</td>\n",
       "      <td>750000.0</td>\n",
       "      <td>5.360051e+06</td>\n",
       "      <td>4575000.0</td>\n",
       "      <td>20000000.0</td>\n",
       "    </tr>\n",
       "    <tr>\n",
       "      <td>11</td>\n",
       "      <td>1127</td>\n",
       "      <td>560000.0</td>\n",
       "      <td>5.363230e+06</td>\n",
       "      <td>4600000.0</td>\n",
       "      <td>20000000.0</td>\n",
       "    </tr>\n",
       "    <tr>\n",
       "      <td>12</td>\n",
       "      <td>711</td>\n",
       "      <td>850000.0</td>\n",
       "      <td>5.404623e+06</td>\n",
       "      <td>4590000.0</td>\n",
       "      <td>19800000.0</td>\n",
       "    </tr>\n",
       "  </tbody>\n",
       "</table>\n",
       "</div>"
      ],
      "text/plain": [
       "           count        min          mean     median         max\n",
       "      last_price last_price    last_price last_price  last_price\n",
       "month                                                           \n",
       "1            686   585000.0  5.384179e+06  4500000.0  19900000.0\n",
       "2           1274   550000.0  5.436616e+06  4600000.0  19800000.0\n",
       "3           1108   550000.0  5.150116e+06  4375000.0  19354948.0\n",
       "4            756   630000.0  5.481167e+06  4600000.0  19950000.0\n",
       "5            553   490000.0  5.551647e+06  4646000.0  20000000.0\n",
       "6            774   650000.0  5.274690e+06  4399500.0  19500000.0\n",
       "7            856   450000.0  5.417452e+06  4590000.0  20000000.0\n",
       "8            907   500000.0  5.459767e+06  4600000.0  19980000.0\n",
       "9           1012   565000.0  5.659504e+06  4700000.0  20000000.0\n",
       "10          1081   750000.0  5.360051e+06  4575000.0  20000000.0\n",
       "11          1127   560000.0  5.363230e+06  4600000.0  20000000.0\n",
       "12           711   850000.0  5.404623e+06  4590000.0  19800000.0"
      ]
     },
     "metadata": {},
     "output_type": "display_data"
    }
   ],
   "source": [
    "temp_column = 'month'\n",
    "display(df.pivot_table(index=temp_column, values='last_price', aggfunc=['count','min','mean','median','max']))"
   ]
  },
  {
   "cell_type": "markdown",
   "metadata": {},
   "source": [
    "Зависимости нет."
   ]
  },
  {
   "cell_type": "markdown",
   "metadata": {},
   "source": [
    "# от даты размещения: года"
   ]
  },
  {
   "cell_type": "code",
   "execution_count": 61,
   "metadata": {},
   "outputs": [
    {
     "data": {
      "text/html": [
       "<div>\n",
       "<style scoped>\n",
       "    .dataframe tbody tr th:only-of-type {\n",
       "        vertical-align: middle;\n",
       "    }\n",
       "\n",
       "    .dataframe tbody tr th {\n",
       "        vertical-align: top;\n",
       "    }\n",
       "\n",
       "    .dataframe thead tr th {\n",
       "        text-align: left;\n",
       "    }\n",
       "\n",
       "    .dataframe thead tr:last-of-type th {\n",
       "        text-align: right;\n",
       "    }\n",
       "</style>\n",
       "<table border=\"1\" class=\"dataframe\">\n",
       "  <thead>\n",
       "    <tr>\n",
       "      <th></th>\n",
       "      <th>count</th>\n",
       "      <th>min</th>\n",
       "      <th>mean</th>\n",
       "      <th>median</th>\n",
       "      <th>max</th>\n",
       "    </tr>\n",
       "    <tr>\n",
       "      <th></th>\n",
       "      <th>last_price</th>\n",
       "      <th>last_price</th>\n",
       "      <th>last_price</th>\n",
       "      <th>last_price</th>\n",
       "      <th>last_price</th>\n",
       "    </tr>\n",
       "    <tr>\n",
       "      <th>year</th>\n",
       "      <th></th>\n",
       "      <th></th>\n",
       "      <th></th>\n",
       "      <th></th>\n",
       "      <th></th>\n",
       "    </tr>\n",
       "  </thead>\n",
       "  <tbody>\n",
       "    <tr>\n",
       "      <td>2014</td>\n",
       "      <td>37</td>\n",
       "      <td>1700000.0</td>\n",
       "      <td>8.068598e+06</td>\n",
       "      <td>6800000.0</td>\n",
       "      <td>19800000.0</td>\n",
       "    </tr>\n",
       "    <tr>\n",
       "      <td>2015</td>\n",
       "      <td>393</td>\n",
       "      <td>1260000.0</td>\n",
       "      <td>5.856743e+06</td>\n",
       "      <td>5100000.0</td>\n",
       "      <td>18900000.0</td>\n",
       "    </tr>\n",
       "    <tr>\n",
       "      <td>2016</td>\n",
       "      <td>1214</td>\n",
       "      <td>490000.0</td>\n",
       "      <td>5.684535e+06</td>\n",
       "      <td>4750000.0</td>\n",
       "      <td>20000000.0</td>\n",
       "    </tr>\n",
       "    <tr>\n",
       "      <td>2017</td>\n",
       "      <td>3881</td>\n",
       "      <td>560000.0</td>\n",
       "      <td>5.471078e+06</td>\n",
       "      <td>4500000.0</td>\n",
       "      <td>20000000.0</td>\n",
       "    </tr>\n",
       "    <tr>\n",
       "      <td>2018</td>\n",
       "      <td>4604</td>\n",
       "      <td>450000.0</td>\n",
       "      <td>5.225366e+06</td>\n",
       "      <td>4500000.0</td>\n",
       "      <td>20000000.0</td>\n",
       "    </tr>\n",
       "    <tr>\n",
       "      <td>2019</td>\n",
       "      <td>716</td>\n",
       "      <td>550000.0</td>\n",
       "      <td>5.347044e+06</td>\n",
       "      <td>4790000.0</td>\n",
       "      <td>17000000.0</td>\n",
       "    </tr>\n",
       "  </tbody>\n",
       "</table>\n",
       "</div>"
      ],
      "text/plain": [
       "          count        min          mean     median         max\n",
       "     last_price last_price    last_price last_price  last_price\n",
       "year                                                           \n",
       "2014         37  1700000.0  8.068598e+06  6800000.0  19800000.0\n",
       "2015        393  1260000.0  5.856743e+06  5100000.0  18900000.0\n",
       "2016       1214   490000.0  5.684535e+06  4750000.0  20000000.0\n",
       "2017       3881   560000.0  5.471078e+06  4500000.0  20000000.0\n",
       "2018       4604   450000.0  5.225366e+06  4500000.0  20000000.0\n",
       "2019        716   550000.0  5.347044e+06  4790000.0  17000000.0"
      ]
     },
     "metadata": {},
     "output_type": "display_data"
    }
   ],
   "source": [
    "temp_column = 'year'\n",
    "display(df.pivot_table(index=temp_column, values='last_price', aggfunc=['count','min','mean','median','max']))"
   ]
  },
  {
   "cell_type": "markdown",
   "metadata": {},
   "source": [
    "Есть небольшое повышение стоимости в первые два года наблюдений, но скорее всего это обусловлено небольшим количеством данных."
   ]
  },
  {
   "cell_type": "markdown",
   "metadata": {},
   "source": [
    "# Вывод.\n",
    "Больше всего цена ожидаемо зависит от площади объекта. Немного меньше от числа комнат. Чем ближе к центру тем дороже. Этаж понятно лучше не последний. А вот в датах размещения объявлений существенное влияние внес только год публикации объявлений.\n"
   ]
  },
  {
   "cell_type": "markdown",
   "metadata": {},
   "source": [
    "# Анализ 10 населённых пунктов"
   ]
  },
  {
   "cell_type": "markdown",
   "metadata": {},
   "source": [
    "Выбрали 10 населённых пунктов с наибольшим числом объявлений. \n",
    "Посчитали среднюю цену квадратного метра в этих населённых пунктах.\n",
    "В этих населённых пунктах вывели стоимость объектов с самой высокой и низкой стоимостью."
   ]
  },
  {
   "cell_type": "code",
   "execution_count": 62,
   "metadata": {},
   "outputs": [
    {
     "data": {
      "text/html": [
       "<div>\n",
       "<style scoped>\n",
       "    .dataframe tbody tr th:only-of-type {\n",
       "        vertical-align: middle;\n",
       "    }\n",
       "\n",
       "    .dataframe tbody tr th {\n",
       "        vertical-align: top;\n",
       "    }\n",
       "\n",
       "    .dataframe thead th {\n",
       "        text-align: right;\n",
       "    }\n",
       "</style>\n",
       "<table border=\"1\" class=\"dataframe\">\n",
       "  <thead>\n",
       "    <tr style=\"text-align: right;\">\n",
       "      <th></th>\n",
       "      <th>Количество объявлений</th>\n",
       "      <th>Средняя цена за м3</th>\n",
       "      <th>Самая высокая стоимость жилья</th>\n",
       "      <th>Самая низкая стоимость жилья</th>\n",
       "    </tr>\n",
       "    <tr>\n",
       "      <th>locality_name</th>\n",
       "      <th></th>\n",
       "      <th></th>\n",
       "      <th></th>\n",
       "      <th></th>\n",
       "    </tr>\n",
       "  </thead>\n",
       "  <tbody>\n",
       "    <tr>\n",
       "      <td>Санкт-Петербург</td>\n",
       "      <td>7411</td>\n",
       "      <td>198811.79</td>\n",
       "      <td>20000000.0</td>\n",
       "      <td>1200000.0</td>\n",
       "    </tr>\n",
       "    <tr>\n",
       "      <td>Пушкин</td>\n",
       "      <td>171</td>\n",
       "      <td>183537.35</td>\n",
       "      <td>16912000.0</td>\n",
       "      <td>2200000.0</td>\n",
       "    </tr>\n",
       "    <tr>\n",
       "      <td>Петергоф</td>\n",
       "      <td>118</td>\n",
       "      <td>143931.86</td>\n",
       "      <td>13700000.0</td>\n",
       "      <td>2100000.0</td>\n",
       "    </tr>\n",
       "    <tr>\n",
       "      <td>Колпино</td>\n",
       "      <td>170</td>\n",
       "      <td>132844.24</td>\n",
       "      <td>12750000.0</td>\n",
       "      <td>2100000.0</td>\n",
       "    </tr>\n",
       "    <tr>\n",
       "      <td>Шушары</td>\n",
       "      <td>177</td>\n",
       "      <td>154413.40</td>\n",
       "      <td>10100000.0</td>\n",
       "      <td>2000000.0</td>\n",
       "    </tr>\n",
       "    <tr>\n",
       "      <td>Всеволожск</td>\n",
       "      <td>211</td>\n",
       "      <td>128208.35</td>\n",
       "      <td>10000000.0</td>\n",
       "      <td>1350000.0</td>\n",
       "    </tr>\n",
       "    <tr>\n",
       "      <td>Кудрово</td>\n",
       "      <td>158</td>\n",
       "      <td>194141.17</td>\n",
       "      <td>9950000.0</td>\n",
       "      <td>2100000.0</td>\n",
       "    </tr>\n",
       "    <tr>\n",
       "      <td>Парголово</td>\n",
       "      <td>113</td>\n",
       "      <td>199564.53</td>\n",
       "      <td>9140000.0</td>\n",
       "      <td>2500000.0</td>\n",
       "    </tr>\n",
       "    <tr>\n",
       "      <td>Гатчина</td>\n",
       "      <td>117</td>\n",
       "      <td>121095.32</td>\n",
       "      <td>7829000.0</td>\n",
       "      <td>1050000.0</td>\n",
       "    </tr>\n",
       "    <tr>\n",
       "      <td>Мурино</td>\n",
       "      <td>201</td>\n",
       "      <td>181170.64</td>\n",
       "      <td>7500000.0</td>\n",
       "      <td>1730000.0</td>\n",
       "    </tr>\n",
       "  </tbody>\n",
       "</table>\n",
       "</div>"
      ],
      "text/plain": [
       "                 Количество объявлений  Средняя цена за м3  \\\n",
       "locality_name                                                \n",
       "Санкт-Петербург                   7411           198811.79   \n",
       "Пушкин                             171           183537.35   \n",
       "Петергоф                           118           143931.86   \n",
       "Колпино                            170           132844.24   \n",
       "Шушары                             177           154413.40   \n",
       "Всеволожск                         211           128208.35   \n",
       "Кудрово                            158           194141.17   \n",
       "Парголово                          113           199564.53   \n",
       "Гатчина                            117           121095.32   \n",
       "Мурино                             201           181170.64   \n",
       "\n",
       "                 Самая высокая стоимость жилья  Самая низкая стоимость жилья  \n",
       "locality_name                                                                 \n",
       "Санкт-Петербург                     20000000.0                     1200000.0  \n",
       "Пушкин                              16912000.0                     2200000.0  \n",
       "Петергоф                            13700000.0                     2100000.0  \n",
       "Колпино                             12750000.0                     2100000.0  \n",
       "Шушары                              10100000.0                     2000000.0  \n",
       "Всеволожск                          10000000.0                     1350000.0  \n",
       "Кудрово                              9950000.0                     2100000.0  \n",
       "Парголово                            9140000.0                     2500000.0  \n",
       "Гатчина                              7829000.0                     1050000.0  \n",
       "Мурино                               7500000.0                     1730000.0  "
      ]
     },
     "execution_count": 62,
     "metadata": {},
     "output_type": "execute_result"
    }
   ],
   "source": [
    "# Делаем одной строкой, чтобы не создавать отдельные таблицы.\n",
    "\n",
    "(df.pivot_table( values=['price_square_meter','last_price'],\n",
    "               index='locality_name',  \n",
    "               aggfunc=['count','mean','max','min'])\n",
    " # приводим в порядок названия столбцов\n",
    " .set_axis(['Количество объявлений', '2', '3', 'Средняя цена за м3', 'Самая высокая стоимость жилья', '6', 'Самая низкая стоимость жилья', '8'], axis=1, inplace=False)\n",
    " # сортируем по количеству\n",
    " .sort_values(by = 'Количество объявлений', ascending=False)\n",
    " # берем из них Топ 10\n",
    " .head(10)\n",
    " # убираем технические столбцы\n",
    " .loc[:, ['Количество объявлений','Средняя цена за м3', 'Самая высокая стоимость жилья','Самая низкая стоимость жилья']]\n",
    " # сортируем для удобства восприятия информации\n",
    " .sort_values(by = 'Самая высокая стоимость жилья', ascending=False)\n",
    " # округляем, чтобы привести в более читаемый вид\n",
    " .round({'Средняя цена за м3':2}) )"
   ]
  },
  {
   "cell_type": "markdown",
   "metadata": {},
   "source": [
    "Самая дорогая квартира находится в СПБ и стоит 20 000 000.\n",
    "\n",
    "Самая дешёвая квартира находится в Гатчино и стоит 1 050 000."
   ]
  },
  {
   "cell_type": "markdown",
   "metadata": {},
   "source": [
    "# Визуальное представление зависимости цены и расстояния от центра СПБ"
   ]
  },
  {
   "cell_type": "markdown",
   "metadata": {},
   "source": [
    "Изучаем предложения квартир: для каждой квартиры есть информация о расстоянии до центра. Найдем квартиры в Санкт-Петербурге и для них выясним, какая область входит в центр. Создадим столбец с расстоянием до центра в километрах: округлим до целых значений. После этого посчитаем среднюю цену для каждого километра. В итоге построим визуальное представление информации. Она показывает, как цена зависит от удалённости от центра. Определим границу, где зависимость сильно меняется, — это и будет центральная зона."
   ]
  },
  {
   "cell_type": "code",
   "execution_count": 63,
   "metadata": {},
   "outputs": [
    {
     "data": {
      "image/png": "[encoded data removed]",
      "text/plain": [
       "<Figure size 864x360 with 1 Axes>"
      ]
     },
     "metadata": {
      "needs_background": "light"
     },
     "output_type": "display_data"
    }
   ],
   "source": [
    "df['SPB_Km'] = round(df['city_centers_nearest']/1000) # округляем километры \n",
    "Km_test = 27 # отсекам выброс на 28 км.\n",
    "\n",
    "(df.query('(locality_name == \"Санкт-Петербург\")&(SPB_Km < @Km_test)')  # выбираем СПБ \n",
    " .pivot_table( values=['price_square_meter'],  # строим табличку \n",
    "               index='SPB_Km',  \n",
    "               aggfunc='mean')\n",
    " .plot(grid=True,style='o-', figsize=(12, 5))) # выводим графику \n",
    "\n",
    "pl.title('Данные за период с 2014 по 2019 г.')\n",
    "pl.xlabel(\"Удалённости от центра (км)\")\n",
    "pl.ylabel(\"Количество квартир (шт.)\")\n",
    "plt.show()\n"
   ]
  },
  {
   "cell_type": "markdown",
   "metadata": {},
   "source": [
    "Явной границы не видно (хотя возможно речь идет про 9 км). Попробуем проявить немного энтузиазма и решим задание немного отходя от сформулированного алгоритма решения."
   ]
  },
  {
   "cell_type": "code",
   "execution_count": 64,
   "metadata": {},
   "outputs": [
    {
     "data": {
      "image/png": "[encoded data removed]",
      "text/plain": [
       "<Figure size 864x360 with 1 Axes>"
      ]
     },
     "metadata": {
      "needs_background": "light"
     },
     "output_type": "display_data"
    }
   ],
   "source": [
    "Km_test= 30000 # изменяя эту переменную определяем точную границу. \n",
    "(df.query('(locality_name == \"Санкт-Петербург\")&(SPB_Km < @Km_test)')  # выбираем СПБ \n",
    " .pivot_table( values=['last_price'],  # строим табличку \n",
    "               index='city_centers_nearest',  \n",
    "               aggfunc='mean')\n",
    " .plot(grid=True,style='o', figsize=(12, 5))) # выводим графику \n",
    "\n",
    "pl.title('Данные за период с 2014 по 2019 г.')\n",
    "pl.xlabel(\"Удалённости от центра (м)\")\n",
    "pl.ylabel(\"Количество квартир (шт.)\")\n",
    "plt.show()\n"
   ]
  },
  {
   "cell_type": "markdown",
   "metadata": {},
   "source": [
    "Напрашиваются 2 границы, это 20 000 и 24 000 метров от центра. Хм, похоже нашли границы города. Возвращаемся к прошлому решению. Границей центра считаем 9 км."
   ]
  },
  {
   "cell_type": "markdown",
   "metadata": {},
   "source": [
    "Выделим сегмент квартир в центре, и проанализируем эту территорию."
   ]
  },
  {
   "cell_type": "code",
   "execution_count": 65,
   "metadata": {},
   "outputs": [
    {
     "data": {
      "image/png": "[encoded data removed]",
      "text/plain": [
       "<Figure size 432x288 with 1 Axes>"
      ]
     },
     "metadata": {
      "needs_background": "light"
     },
     "output_type": "display_data"
    }
   ],
   "source": [
    "temp_column = 'total_area'\n",
    "(df.query('(locality_name == \"Санкт-Петербург\")&(SPB_Km <= 9)')  # выбираем центр СПБ \n",
    " [temp_column]).hist( bins = 50, label='Выбираем центр СПБ ', alpha=.7, color='red') \n",
    "(df.query('(locality_name == \"Санкт-Петербург\")&(SPB_Km > 9)')  # выбираем не центр СПБ \n",
    " [temp_column]).hist(bins = 50, label='Выбираем не центр СПБ', alpha=.7, color='yellow') \n",
    "pl.title(temp_column)\n",
    "pl.title('Данные за период с 2014 по 2019 г.')\n",
    "pl.xlabel(\"Площадь квартиры в квадратных метрах (м²)\")\n",
    "pl.ylabel(\"Количество квартир\")\n",
    "plt.legend()\n",
    "plt.show()"
   ]
  },
  {
   "cell_type": "markdown",
   "metadata": {},
   "source": [
    "Основная масса небольших квартир (до 75 метров) продаётся не в центе."
   ]
  },
  {
   "cell_type": "code",
   "execution_count": 66,
   "metadata": {},
   "outputs": [
    {
     "data": {
      "image/png": "[encoded data removed]",
      "text/plain": [
       "<Figure size 432x288 with 1 Axes>"
      ]
     },
     "metadata": {
      "needs_background": "light"
     },
     "output_type": "display_data"
    }
   ],
   "source": [
    "temp_column = 'last_price'\n",
    "(df.query('(locality_name == \"Санкт-Петербург\")&(SPB_Km <= 9)')  # выбираем центр СПБ \n",
    " [temp_column]).hist( bins = 50, label='Выбираем центр СПБ ', alpha=.7, color='red') \n",
    "(df.query('(locality_name == \"Санкт-Петербург\")&(SPB_Km > 9)')  # выбираем не центр СПБ \n",
    " [temp_column]).hist(bins = 50, label='Выбираем не центр СПБ', alpha=.7, color='yellow') \n",
    "pl.title(temp_column)\n",
    "pl.xlabel(\"Цена на момент снятия с публикации\")\n",
    "pl.ylabel(\"Количество квартир\")\n",
    "pl.title('Данные за период с 2014 по 2019 г.')\n",
    "plt.legend()\n",
    "plt.show()"
   ]
  },
  {
   "cell_type": "markdown",
   "metadata": {},
   "source": [
    "Ожидаемо в центре квартиры дороже."
   ]
  },
  {
   "cell_type": "code",
   "execution_count": 67,
   "metadata": {},
   "outputs": [
    {
     "data": {
      "image/png": "[encoded data removed]",
      "text/plain": [
       "<Figure size 432x288 with 1 Axes>"
      ]
     },
     "metadata": {
      "needs_background": "light"
     },
     "output_type": "display_data"
    }
   ],
   "source": [
    "temp_column = 'rooms'\n",
    "(df.query('(locality_name == \"Санкт-Петербург\")&(SPB_Km <= 9)')  # выбираем центр СПБ \n",
    " [temp_column]).hist( bins = 50, label='Выбираем центр СПБ ', alpha=.7, color='red') \n",
    "(df.query('(locality_name == \"Санкт-Петербург\")&(SPB_Km > 9)')  # выбираем не центр СПБ \n",
    " [temp_column]).hist(bins = 50, label='Выбираем не центр СПБ', alpha=.7, color='yellow') \n",
    "pl.title(temp_column)\n",
    "pl.xlabel(\"Число комнат\")\n",
    "pl.ylabel(\"Количество квартир\")\n",
    "pl.title('Данные за период с 2014 по 2019 г.')\n",
    "plt.legend()\n",
    "plt.show()"
   ]
  },
  {
   "cell_type": "markdown",
   "metadata": {},
   "source": [
    "Однушку в центре найти будет сложно, а многокомнатную не в центре вообще не реально."
   ]
  },
  {
   "cell_type": "code",
   "execution_count": 68,
   "metadata": {},
   "outputs": [
    {
     "data": {
      "image/png": "[encoded data removed]",
      "text/plain": [
       "<Figure size 432x288 with 1 Axes>"
      ]
     },
     "metadata": {
      "needs_background": "light"
     },
     "output_type": "display_data"
    }
   ],
   "source": [
    "temp_column = 'ceiling_height'\n",
    "(df.query('(locality_name == \"Санкт-Петербург\")&(SPB_Km <= 9)')  # выбираем центр СПБ \n",
    " [temp_column]).hist( bins = 50, label='Выбираем центр СПБ ', alpha=.7, color='red') \n",
    "(df.query('(locality_name == \"Санкт-Петербург\")&(SPB_Km > 9)')  # выбираем не центр СПБ \n",
    " [temp_column]).hist(bins = 50, label='Выбираем не центр СПБ', alpha=.7, color='yellow') \n",
    "pl.title(temp_column)\n",
    "pl.xlabel(\"высота потолков (м)\")\n",
    "pl.ylabel(\"Количество квартир\")\n",
    "pl.title('Данные за период с 2014 по 2019 г.')\n",
    "plt.legend()\n",
    "plt.show()"
   ]
  },
  {
   "cell_type": "markdown",
   "metadata": {},
   "source": [
    "Чем дальше от центра, тем ниже потолок))"
   ]
  },
  {
   "cell_type": "markdown",
   "metadata": {},
   "source": [
    "# Проверим, какие факторы влияют на стоимость квартиры в разрезе центр/не центр СПБ:"
   ]
  },
  {
   "cell_type": "markdown",
   "metadata": {},
   "source": [
    "# число комнат"
   ]
  },
  {
   "cell_type": "code",
   "execution_count": 69,
   "metadata": {},
   "outputs": [
    {
     "name": "stdout",
     "output_type": "stream",
     "text": [
      "Корреляция для центра СПБ составляет: 0.5020158646812204\n"
     ]
    },
    {
     "data": {
      "text/html": [
       "<div>\n",
       "<style scoped>\n",
       "    .dataframe tbody tr th:only-of-type {\n",
       "        vertical-align: middle;\n",
       "    }\n",
       "\n",
       "    .dataframe tbody tr th {\n",
       "        vertical-align: top;\n",
       "    }\n",
       "\n",
       "    .dataframe thead tr th {\n",
       "        text-align: left;\n",
       "    }\n",
       "\n",
       "    .dataframe thead tr:last-of-type th {\n",
       "        text-align: right;\n",
       "    }\n",
       "</style>\n",
       "<table border=\"1\" class=\"dataframe\">\n",
       "  <thead>\n",
       "    <tr>\n",
       "      <th></th>\n",
       "      <th>count</th>\n",
       "      <th>min</th>\n",
       "      <th>mean</th>\n",
       "      <th>median</th>\n",
       "      <th>max</th>\n",
       "    </tr>\n",
       "    <tr>\n",
       "      <th></th>\n",
       "      <th>last_price</th>\n",
       "      <th>last_price</th>\n",
       "      <th>last_price</th>\n",
       "      <th>last_price</th>\n",
       "      <th>last_price</th>\n",
       "    </tr>\n",
       "    <tr>\n",
       "      <th>rooms</th>\n",
       "      <th></th>\n",
       "      <th></th>\n",
       "      <th></th>\n",
       "      <th></th>\n",
       "      <th></th>\n",
       "    </tr>\n",
       "  </thead>\n",
       "  <tbody>\n",
       "    <tr>\n",
       "      <td>1</td>\n",
       "      <td>382</td>\n",
       "      <td>1850000.0</td>\n",
       "      <td>5.578669e+06</td>\n",
       "      <td>5199999.5</td>\n",
       "      <td>19500000.0</td>\n",
       "    </tr>\n",
       "    <tr>\n",
       "      <td>2</td>\n",
       "      <td>692</td>\n",
       "      <td>2800000.0</td>\n",
       "      <td>7.636584e+06</td>\n",
       "      <td>6799500.0</td>\n",
       "      <td>20000000.0</td>\n",
       "    </tr>\n",
       "    <tr>\n",
       "      <td>3</td>\n",
       "      <td>596</td>\n",
       "      <td>1600000.0</td>\n",
       "      <td>9.710594e+06</td>\n",
       "      <td>8700000.0</td>\n",
       "      <td>20000000.0</td>\n",
       "    </tr>\n",
       "    <tr>\n",
       "      <td>4</td>\n",
       "      <td>202</td>\n",
       "      <td>3690000.0</td>\n",
       "      <td>1.067081e+07</td>\n",
       "      <td>10050000.0</td>\n",
       "      <td>19800000.0</td>\n",
       "    </tr>\n",
       "    <tr>\n",
       "      <td>5</td>\n",
       "      <td>73</td>\n",
       "      <td>7500000.0</td>\n",
       "      <td>1.193627e+07</td>\n",
       "      <td>11999000.0</td>\n",
       "      <td>18500000.0</td>\n",
       "    </tr>\n",
       "    <tr>\n",
       "      <td>6</td>\n",
       "      <td>19</td>\n",
       "      <td>4390000.0</td>\n",
       "      <td>1.406184e+07</td>\n",
       "      <td>13450000.0</td>\n",
       "      <td>19500000.0</td>\n",
       "    </tr>\n",
       "    <tr>\n",
       "      <td>7</td>\n",
       "      <td>3</td>\n",
       "      <td>12000000.0</td>\n",
       "      <td>1.289667e+07</td>\n",
       "      <td>12990000.0</td>\n",
       "      <td>13700000.0</td>\n",
       "    </tr>\n",
       "  </tbody>\n",
       "</table>\n",
       "</div>"
      ],
      "text/plain": [
       "           count         min          mean      median         max\n",
       "      last_price  last_price    last_price  last_price  last_price\n",
       "rooms                                                             \n",
       "1            382   1850000.0  5.578669e+06   5199999.5  19500000.0\n",
       "2            692   2800000.0  7.636584e+06   6799500.0  20000000.0\n",
       "3            596   1600000.0  9.710594e+06   8700000.0  20000000.0\n",
       "4            202   3690000.0  1.067081e+07  10050000.0  19800000.0\n",
       "5             73   7500000.0  1.193627e+07  11999000.0  18500000.0\n",
       "6             19   4390000.0  1.406184e+07  13450000.0  19500000.0\n",
       "7              3  12000000.0  1.289667e+07  12990000.0  13700000.0"
      ]
     },
     "metadata": {},
     "output_type": "display_data"
    },
    {
     "data": {
      "image/png": "[encoded data removed]",
      "text/plain": [
       "<Figure size 432x288 with 1 Axes>"
      ]
     },
     "metadata": {
      "needs_background": "light"
     },
     "output_type": "display_data"
    },
    {
     "name": "stdout",
     "output_type": "stream",
     "text": [
      "Корреляция для не центра СПБ составляет: 0.5150781087481651\n"
     ]
    },
    {
     "data": {
      "text/html": [
       "<div>\n",
       "<style scoped>\n",
       "    .dataframe tbody tr th:only-of-type {\n",
       "        vertical-align: middle;\n",
       "    }\n",
       "\n",
       "    .dataframe tbody tr th {\n",
       "        vertical-align: top;\n",
       "    }\n",
       "\n",
       "    .dataframe thead tr th {\n",
       "        text-align: left;\n",
       "    }\n",
       "\n",
       "    .dataframe thead tr:last-of-type th {\n",
       "        text-align: right;\n",
       "    }\n",
       "</style>\n",
       "<table border=\"1\" class=\"dataframe\">\n",
       "  <thead>\n",
       "    <tr>\n",
       "      <th></th>\n",
       "      <th>count</th>\n",
       "      <th>min</th>\n",
       "      <th>mean</th>\n",
       "      <th>median</th>\n",
       "      <th>max</th>\n",
       "    </tr>\n",
       "    <tr>\n",
       "      <th></th>\n",
       "      <th>last_price</th>\n",
       "      <th>last_price</th>\n",
       "      <th>last_price</th>\n",
       "      <th>last_price</th>\n",
       "      <th>last_price</th>\n",
       "    </tr>\n",
       "    <tr>\n",
       "      <th>rooms</th>\n",
       "      <th></th>\n",
       "      <th></th>\n",
       "      <th></th>\n",
       "      <th></th>\n",
       "      <th></th>\n",
       "    </tr>\n",
       "  </thead>\n",
       "  <tbody>\n",
       "    <tr>\n",
       "      <td>1</td>\n",
       "      <td>2085</td>\n",
       "      <td>1400000.0</td>\n",
       "      <td>4.108697e+06</td>\n",
       "      <td>3900000.0</td>\n",
       "      <td>11500000.0</td>\n",
       "    </tr>\n",
       "    <tr>\n",
       "      <td>2</td>\n",
       "      <td>1806</td>\n",
       "      <td>1900000.0</td>\n",
       "      <td>5.664402e+06</td>\n",
       "      <td>5100000.0</td>\n",
       "      <td>17671500.0</td>\n",
       "    </tr>\n",
       "    <tr>\n",
       "      <td>3</td>\n",
       "      <td>1340</td>\n",
       "      <td>2799000.0</td>\n",
       "      <td>7.143867e+06</td>\n",
       "      <td>6082113.5</td>\n",
       "      <td>20000000.0</td>\n",
       "    </tr>\n",
       "    <tr>\n",
       "      <td>4</td>\n",
       "      <td>185</td>\n",
       "      <td>1200000.0</td>\n",
       "      <td>7.876610e+06</td>\n",
       "      <td>6550000.0</td>\n",
       "      <td>19900000.0</td>\n",
       "    </tr>\n",
       "    <tr>\n",
       "      <td>5</td>\n",
       "      <td>17</td>\n",
       "      <td>4900000.0</td>\n",
       "      <td>9.502059e+06</td>\n",
       "      <td>9000000.0</td>\n",
       "      <td>20000000.0</td>\n",
       "    </tr>\n",
       "    <tr>\n",
       "      <td>6</td>\n",
       "      <td>4</td>\n",
       "      <td>6864000.0</td>\n",
       "      <td>1.318065e+07</td>\n",
       "      <td>14175000.0</td>\n",
       "      <td>17508600.0</td>\n",
       "    </tr>\n",
       "  </tbody>\n",
       "</table>\n",
       "</div>"
      ],
      "text/plain": [
       "           count        min          mean      median         max\n",
       "      last_price last_price    last_price  last_price  last_price\n",
       "rooms                                                            \n",
       "1           2085  1400000.0  4.108697e+06   3900000.0  11500000.0\n",
       "2           1806  1900000.0  5.664402e+06   5100000.0  17671500.0\n",
       "3           1340  2799000.0  7.143867e+06   6082113.5  20000000.0\n",
       "4            185  1200000.0  7.876610e+06   6550000.0  19900000.0\n",
       "5             17  4900000.0  9.502059e+06   9000000.0  20000000.0\n",
       "6              4  6864000.0  1.318065e+07  14175000.0  17508600.0"
      ]
     },
     "metadata": {},
     "output_type": "display_data"
    },
    {
     "data": {
      "image/png": "[encoded data removed]",
      "text/plain": [
       "<Figure size 432x288 with 1 Axes>"
      ]
     },
     "metadata": {
      "needs_background": "light"
     },
     "output_type": "display_data"
    }
   ],
   "source": [
    "temp_column = 'rooms'\n",
    "print('Корреляция для центра СПБ составляет:', df.query('(locality_name == \"Санкт-Петербург\")&(SPB_Km <= 9)')[temp_column].corr(df['last_price']))\n",
    "display(df.query('(locality_name == \"Санкт-Петербург\")&(SPB_Km <= 9)').pivot_table(index=temp_column, values='last_price', aggfunc=['count','min','mean','median','max']))\n",
    "(df.query('(locality_name == \"Санкт-Петербург\")&(SPB_Km <= 9)')  # выбираем центр СПБ \n",
    " ).plot(x=temp_column, y='last_price', kind='scatter')\n",
    "pl.title('Данные за период с 2014 по 2019 г.')\n",
    "pl.xlabel(\"Число комнат (шт)\")\n",
    "pl.ylabel(\"Количество квартир (шт.)\")\n",
    "plt.show()\n",
    "print('Корреляция для не центра СПБ составляет:', df.query('(locality_name == \"Санкт-Петербург\")&(SPB_Km > 9)')[temp_column].corr(df['last_price']))\n",
    "display(df.query('(locality_name == \"Санкт-Петербург\")&(SPB_Km > 9)').pivot_table(index=temp_column, values='last_price', aggfunc=['count','min','mean','median','max']))\n",
    "(df.query('(locality_name == \"Санкт-Петербург\")&(SPB_Km > 9)')  # выбираем не центр СПБ \n",
    " ).plot(x=temp_column, y='last_price', kind='scatter') \n",
    "pl.title('Данные за период с 2014 по 2019 г.')\n",
    "pl.xlabel(\"Число комнат (шт)\")\n",
    "pl.ylabel(\"Количество квартир (шт.)\")\n",
    "plt.show()\n"
   ]
  },
  {
   "cell_type": "markdown",
   "metadata": {},
   "source": [
    "Факт нахождения в квартиры в центре практически не влияет на корреляцию её стоимости и число комнат."
   ]
  },
  {
   "cell_type": "markdown",
   "metadata": {},
   "source": [
    "# этаж"
   ]
  },
  {
   "cell_type": "code",
   "execution_count": 70,
   "metadata": {},
   "outputs": [
    {
     "name": "stdout",
     "output_type": "stream",
     "text": [
      "Для центра СПБ:\n"
     ]
    },
    {
     "data": {
      "text/html": [
       "<div>\n",
       "<style scoped>\n",
       "    .dataframe tbody tr th:only-of-type {\n",
       "        vertical-align: middle;\n",
       "    }\n",
       "\n",
       "    .dataframe tbody tr th {\n",
       "        vertical-align: top;\n",
       "    }\n",
       "\n",
       "    .dataframe thead tr th {\n",
       "        text-align: left;\n",
       "    }\n",
       "\n",
       "    .dataframe thead tr:last-of-type th {\n",
       "        text-align: right;\n",
       "    }\n",
       "</style>\n",
       "<table border=\"1\" class=\"dataframe\">\n",
       "  <thead>\n",
       "    <tr>\n",
       "      <th></th>\n",
       "      <th>count</th>\n",
       "      <th>min</th>\n",
       "      <th>mean</th>\n",
       "      <th>median</th>\n",
       "      <th>max</th>\n",
       "    </tr>\n",
       "    <tr>\n",
       "      <th></th>\n",
       "      <th>last_price</th>\n",
       "      <th>last_price</th>\n",
       "      <th>last_price</th>\n",
       "      <th>last_price</th>\n",
       "      <th>last_price</th>\n",
       "    </tr>\n",
       "    <tr>\n",
       "      <th>apartment_floor</th>\n",
       "      <th></th>\n",
       "      <th></th>\n",
       "      <th></th>\n",
       "      <th></th>\n",
       "      <th></th>\n",
       "    </tr>\n",
       "  </thead>\n",
       "  <tbody>\n",
       "    <tr>\n",
       "      <td>другой</td>\n",
       "      <td>1396</td>\n",
       "      <td>1850000.0</td>\n",
       "      <td>8.657175e+06</td>\n",
       "      <td>7900000.0</td>\n",
       "      <td>20000000.0</td>\n",
       "    </tr>\n",
       "    <tr>\n",
       "      <td>первый</td>\n",
       "      <td>219</td>\n",
       "      <td>1600000.0</td>\n",
       "      <td>6.622068e+06</td>\n",
       "      <td>5900000.0</td>\n",
       "      <td>20000000.0</td>\n",
       "    </tr>\n",
       "    <tr>\n",
       "      <td>последний</td>\n",
       "      <td>352</td>\n",
       "      <td>3100000.0</td>\n",
       "      <td>8.523153e+06</td>\n",
       "      <td>7800000.0</td>\n",
       "      <td>19800000.0</td>\n",
       "    </tr>\n",
       "  </tbody>\n",
       "</table>\n",
       "</div>"
      ],
      "text/plain": [
       "                     count        min          mean     median         max\n",
       "                last_price last_price    last_price last_price  last_price\n",
       "apartment_floor                                                           \n",
       "другой                1396  1850000.0  8.657175e+06  7900000.0  20000000.0\n",
       "первый                 219  1600000.0  6.622068e+06  5900000.0  20000000.0\n",
       "последний              352  3100000.0  8.523153e+06  7800000.0  19800000.0"
      ]
     },
     "metadata": {},
     "output_type": "display_data"
    },
    {
     "name": "stdout",
     "output_type": "stream",
     "text": [
      "Для не центра СПБ:\n"
     ]
    },
    {
     "data": {
      "text/html": [
       "<div>\n",
       "<style scoped>\n",
       "    .dataframe tbody tr th:only-of-type {\n",
       "        vertical-align: middle;\n",
       "    }\n",
       "\n",
       "    .dataframe tbody tr th {\n",
       "        vertical-align: top;\n",
       "    }\n",
       "\n",
       "    .dataframe thead tr th {\n",
       "        text-align: left;\n",
       "    }\n",
       "\n",
       "    .dataframe thead tr:last-of-type th {\n",
       "        text-align: right;\n",
       "    }\n",
       "</style>\n",
       "<table border=\"1\" class=\"dataframe\">\n",
       "  <thead>\n",
       "    <tr>\n",
       "      <th></th>\n",
       "      <th>count</th>\n",
       "      <th>min</th>\n",
       "      <th>mean</th>\n",
       "      <th>median</th>\n",
       "      <th>max</th>\n",
       "    </tr>\n",
       "    <tr>\n",
       "      <th></th>\n",
       "      <th>last_price</th>\n",
       "      <th>last_price</th>\n",
       "      <th>last_price</th>\n",
       "      <th>last_price</th>\n",
       "      <th>last_price</th>\n",
       "    </tr>\n",
       "    <tr>\n",
       "      <th>apartment_floor</th>\n",
       "      <th></th>\n",
       "      <th></th>\n",
       "      <th></th>\n",
       "      <th></th>\n",
       "      <th></th>\n",
       "    </tr>\n",
       "  </thead>\n",
       "  <tbody>\n",
       "    <tr>\n",
       "      <td>другой</td>\n",
       "      <td>4315</td>\n",
       "      <td>2080000.0</td>\n",
       "      <td>5.665892e+06</td>\n",
       "      <td>4900000.0</td>\n",
       "      <td>20000000.0</td>\n",
       "    </tr>\n",
       "    <tr>\n",
       "      <td>первый</td>\n",
       "      <td>581</td>\n",
       "      <td>1200000.0</td>\n",
       "      <td>4.741602e+06</td>\n",
       "      <td>4300000.0</td>\n",
       "      <td>20000000.0</td>\n",
       "    </tr>\n",
       "    <tr>\n",
       "      <td>последний</td>\n",
       "      <td>541</td>\n",
       "      <td>1900000.0</td>\n",
       "      <td>5.245026e+06</td>\n",
       "      <td>4550000.0</td>\n",
       "      <td>19900000.0</td>\n",
       "    </tr>\n",
       "  </tbody>\n",
       "</table>\n",
       "</div>"
      ],
      "text/plain": [
       "                     count        min          mean     median         max\n",
       "                last_price last_price    last_price last_price  last_price\n",
       "apartment_floor                                                           \n",
       "другой                4315  2080000.0  5.665892e+06  4900000.0  20000000.0\n",
       "первый                 581  1200000.0  4.741602e+06  4300000.0  20000000.0\n",
       "последний              541  1900000.0  5.245026e+06  4550000.0  19900000.0"
      ]
     },
     "metadata": {},
     "output_type": "display_data"
    }
   ],
   "source": [
    "temp_column = 'apartment_floor'\n",
    "print('Для центра СПБ:')\n",
    "display(df.query('(locality_name == \"Санкт-Петербург\")&(SPB_Km <= 9)').pivot_table(index='apartment_floor', values='last_price', aggfunc=['count','min','mean','median','max']))\n",
    "\n",
    "print('Для не центра СПБ:')\n",
    "display(df.query('(locality_name == \"Санкт-Петербург\")&(SPB_Km > 9)').pivot_table(index='apartment_floor', values='last_price', aggfunc=['count','min','mean','median','max']))\n"
   ]
  },
  {
   "cell_type": "markdown",
   "metadata": {},
   "source": [
    "В центре чуть больше ценят высокие этажи. Возможно потому что вид лучше))"
   ]
  },
  {
   "cell_type": "markdown",
   "metadata": {},
   "source": [
    "# удалённость от центра"
   ]
  },
  {
   "cell_type": "code",
   "execution_count": 71,
   "metadata": {},
   "outputs": [
    {
     "name": "stdout",
     "output_type": "stream",
     "text": [
      "Корреляция для центра СПБ составляет: -0.2715807641621371\n"
     ]
    },
    {
     "data": {
      "image/png": "[encoded data removed]",
      "text/plain": [
       "<Figure size 432x288 with 1 Axes>"
      ]
     },
     "metadata": {
      "needs_background": "light"
     },
     "output_type": "display_data"
    },
    {
     "name": "stdout",
     "output_type": "stream",
     "text": [
      "Корреляция для не центра СПБ составляет: -0.11984536881354611\n"
     ]
    },
    {
     "data": {
      "image/png": "[encoded data removed]",
      "text/plain": [
       "<Figure size 432x288 with 1 Axes>"
      ]
     },
     "metadata": {
      "needs_background": "light"
     },
     "output_type": "display_data"
    }
   ],
   "source": [
    "temp_column = 'city_centers_nearest'\n",
    "print('Корреляция для центра СПБ составляет:', df.query('(locality_name == \"Санкт-Петербург\")&(SPB_Km <= 9)')[temp_column].corr(df['last_price']))\n",
    "(df.query('(locality_name == \"Санкт-Петербург\")&(SPB_Km <= 9)')  # выбираем центр СПБ \n",
    " ).plot(x=temp_column, y='last_price', kind='scatter')\n",
    "pl.title('Данные за период с 2014 по 2019 г.')\n",
    "pl.xlabel(\"Удалённости от центра (м)\")\n",
    "pl.ylabel(\"Количество квартир (шт.)\")\n",
    "plt.show()\n",
    "print('Корреляция для не центра СПБ составляет:', df.query('(locality_name == \"Санкт-Петербург\")&(SPB_Km > 9)')[temp_column].corr(df['last_price']))\n",
    "(df.query('(locality_name == \"Санкт-Петербург\")&(SPB_Km > 9)')  # выбираем не центр СПБ \n",
    " ).plot(x=temp_column, y='last_price', kind='scatter') \n",
    "pl.title('Данные за период с 2014 по 2019 г.')\n",
    "pl.xlabel(\"Удалённости от центра (м)\")\n",
    "pl.ylabel(\"Количество квартир (шт.)\")\n",
    "plt.show()"
   ]
  },
  {
   "cell_type": "markdown",
   "metadata": {},
   "source": [
    "Чем дальше от центра, тем дешевле недвижимость. Но ближе к центру эта тенденция прослеживается более явно."
   ]
  },
  {
   "cell_type": "markdown",
   "metadata": {},
   "source": [
    "# дата размещения объявления"
   ]
  },
  {
   "cell_type": "markdown",
   "metadata": {},
   "source": [
    "В исследовании выше наибольшую корреляцию показал анализ даты в разрезе года. Поступим здесь аналогично."
   ]
  },
  {
   "cell_type": "code",
   "execution_count": 72,
   "metadata": {},
   "outputs": [
    {
     "name": "stdout",
     "output_type": "stream",
     "text": [
      "Корреляция для центра СПБ составляет: -0.09849506917668353\n"
     ]
    },
    {
     "data": {
      "text/html": [
       "<div>\n",
       "<style scoped>\n",
       "    .dataframe tbody tr th:only-of-type {\n",
       "        vertical-align: middle;\n",
       "    }\n",
       "\n",
       "    .dataframe tbody tr th {\n",
       "        vertical-align: top;\n",
       "    }\n",
       "\n",
       "    .dataframe thead tr th {\n",
       "        text-align: left;\n",
       "    }\n",
       "\n",
       "    .dataframe thead tr:last-of-type th {\n",
       "        text-align: right;\n",
       "    }\n",
       "</style>\n",
       "<table border=\"1\" class=\"dataframe\">\n",
       "  <thead>\n",
       "    <tr>\n",
       "      <th></th>\n",
       "      <th>count</th>\n",
       "      <th>min</th>\n",
       "      <th>mean</th>\n",
       "      <th>median</th>\n",
       "      <th>max</th>\n",
       "    </tr>\n",
       "    <tr>\n",
       "      <th></th>\n",
       "      <th>last_price</th>\n",
       "      <th>last_price</th>\n",
       "      <th>last_price</th>\n",
       "      <th>last_price</th>\n",
       "      <th>last_price</th>\n",
       "    </tr>\n",
       "    <tr>\n",
       "      <th>year</th>\n",
       "      <th></th>\n",
       "      <th></th>\n",
       "      <th></th>\n",
       "      <th></th>\n",
       "      <th></th>\n",
       "    </tr>\n",
       "  </thead>\n",
       "  <tbody>\n",
       "    <tr>\n",
       "      <td>2014</td>\n",
       "      <td>12</td>\n",
       "      <td>5350000.0</td>\n",
       "      <td>1.086980e+07</td>\n",
       "      <td>9050000.0</td>\n",
       "      <td>19800000.0</td>\n",
       "    </tr>\n",
       "    <tr>\n",
       "      <td>2015</td>\n",
       "      <td>110</td>\n",
       "      <td>3400000.0</td>\n",
       "      <td>8.528892e+06</td>\n",
       "      <td>7550000.0</td>\n",
       "      <td>18900000.0</td>\n",
       "    </tr>\n",
       "    <tr>\n",
       "      <td>2016</td>\n",
       "      <td>263</td>\n",
       "      <td>2750000.0</td>\n",
       "      <td>9.019983e+06</td>\n",
       "      <td>8484000.0</td>\n",
       "      <td>20000000.0</td>\n",
       "    </tr>\n",
       "    <tr>\n",
       "      <td>2017</td>\n",
       "      <td>736</td>\n",
       "      <td>2400000.0</td>\n",
       "      <td>8.594859e+06</td>\n",
       "      <td>7625000.0</td>\n",
       "      <td>20000000.0</td>\n",
       "    </tr>\n",
       "    <tr>\n",
       "      <td>2018</td>\n",
       "      <td>722</td>\n",
       "      <td>1600000.0</td>\n",
       "      <td>8.060490e+06</td>\n",
       "      <td>7200000.0</td>\n",
       "      <td>20000000.0</td>\n",
       "    </tr>\n",
       "    <tr>\n",
       "      <td>2019</td>\n",
       "      <td>124</td>\n",
       "      <td>1850000.0</td>\n",
       "      <td>7.656752e+06</td>\n",
       "      <td>7055000.0</td>\n",
       "      <td>16900000.0</td>\n",
       "    </tr>\n",
       "  </tbody>\n",
       "</table>\n",
       "</div>"
      ],
      "text/plain": [
       "          count        min          mean     median         max\n",
       "     last_price last_price    last_price last_price  last_price\n",
       "year                                                           \n",
       "2014         12  5350000.0  1.086980e+07  9050000.0  19800000.0\n",
       "2015        110  3400000.0  8.528892e+06  7550000.0  18900000.0\n",
       "2016        263  2750000.0  9.019983e+06  8484000.0  20000000.0\n",
       "2017        736  2400000.0  8.594859e+06  7625000.0  20000000.0\n",
       "2018        722  1600000.0  8.060490e+06  7200000.0  20000000.0\n",
       "2019        124  1850000.0  7.656752e+06  7055000.0  16900000.0"
      ]
     },
     "metadata": {},
     "output_type": "display_data"
    },
    {
     "data": {
      "image/png": "[encoded data removed]",
      "text/plain": [
       "<Figure size 432x288 with 1 Axes>"
      ]
     },
     "metadata": {
      "needs_background": "light"
     },
     "output_type": "display_data"
    },
    {
     "name": "stdout",
     "output_type": "stream",
     "text": [
      "Корреляция для не центра СПБ составляет: -0.007922747044769226\n"
     ]
    },
    {
     "data": {
      "text/html": [
       "<div>\n",
       "<style scoped>\n",
       "    .dataframe tbody tr th:only-of-type {\n",
       "        vertical-align: middle;\n",
       "    }\n",
       "\n",
       "    .dataframe tbody tr th {\n",
       "        vertical-align: top;\n",
       "    }\n",
       "\n",
       "    .dataframe thead tr th {\n",
       "        text-align: left;\n",
       "    }\n",
       "\n",
       "    .dataframe thead tr:last-of-type th {\n",
       "        text-align: right;\n",
       "    }\n",
       "</style>\n",
       "<table border=\"1\" class=\"dataframe\">\n",
       "  <thead>\n",
       "    <tr>\n",
       "      <th></th>\n",
       "      <th>count</th>\n",
       "      <th>min</th>\n",
       "      <th>mean</th>\n",
       "      <th>median</th>\n",
       "      <th>max</th>\n",
       "    </tr>\n",
       "    <tr>\n",
       "      <th></th>\n",
       "      <th>last_price</th>\n",
       "      <th>last_price</th>\n",
       "      <th>last_price</th>\n",
       "      <th>last_price</th>\n",
       "      <th>last_price</th>\n",
       "    </tr>\n",
       "    <tr>\n",
       "      <th>year</th>\n",
       "      <th></th>\n",
       "      <th></th>\n",
       "      <th></th>\n",
       "      <th></th>\n",
       "      <th></th>\n",
       "    </tr>\n",
       "  </thead>\n",
       "  <tbody>\n",
       "    <tr>\n",
       "      <td>2014</td>\n",
       "      <td>14</td>\n",
       "      <td>3364930.0</td>\n",
       "      <td>7.455392e+06</td>\n",
       "      <td>6500000.0</td>\n",
       "      <td>16137000.0</td>\n",
       "    </tr>\n",
       "    <tr>\n",
       "      <td>2015</td>\n",
       "      <td>154</td>\n",
       "      <td>2900000.0</td>\n",
       "      <td>5.548489e+06</td>\n",
       "      <td>5013359.5</td>\n",
       "      <td>15888600.0</td>\n",
       "    </tr>\n",
       "    <tr>\n",
       "      <td>2016</td>\n",
       "      <td>552</td>\n",
       "      <td>2600000.0</td>\n",
       "      <td>5.493574e+06</td>\n",
       "      <td>4795000.0</td>\n",
       "      <td>17385000.0</td>\n",
       "    </tr>\n",
       "    <tr>\n",
       "      <td>2017</td>\n",
       "      <td>1942</td>\n",
       "      <td>1400000.0</td>\n",
       "      <td>5.519920e+06</td>\n",
       "      <td>4727500.0</td>\n",
       "      <td>20000000.0</td>\n",
       "    </tr>\n",
       "    <tr>\n",
       "      <td>2018</td>\n",
       "      <td>2355</td>\n",
       "      <td>1200000.0</td>\n",
       "      <td>5.534096e+06</td>\n",
       "      <td>4800000.0</td>\n",
       "      <td>19980000.0</td>\n",
       "    </tr>\n",
       "    <tr>\n",
       "      <td>2019</td>\n",
       "      <td>420</td>\n",
       "      <td>2970000.0</td>\n",
       "      <td>5.468993e+06</td>\n",
       "      <td>4950000.0</td>\n",
       "      <td>17000000.0</td>\n",
       "    </tr>\n",
       "  </tbody>\n",
       "</table>\n",
       "</div>"
      ],
      "text/plain": [
       "          count        min          mean     median         max\n",
       "     last_price last_price    last_price last_price  last_price\n",
       "year                                                           \n",
       "2014         14  3364930.0  7.455392e+06  6500000.0  16137000.0\n",
       "2015        154  2900000.0  5.548489e+06  5013359.5  15888600.0\n",
       "2016        552  2600000.0  5.493574e+06  4795000.0  17385000.0\n",
       "2017       1942  1400000.0  5.519920e+06  4727500.0  20000000.0\n",
       "2018       2355  1200000.0  5.534096e+06  4800000.0  19980000.0\n",
       "2019        420  2970000.0  5.468993e+06  4950000.0  17000000.0"
      ]
     },
     "metadata": {},
     "output_type": "display_data"
    },
    {
     "data": {
      "image/png": "[encoded data removed]",
      "text/plain": [
       "<Figure size 432x288 with 1 Axes>"
      ]
     },
     "metadata": {
      "needs_background": "light"
     },
     "output_type": "display_data"
    }
   ],
   "source": [
    "temp_column = 'year'\n",
    "print('Корреляция для центра СПБ составляет:', df.query('(locality_name == \"Санкт-Петербург\")&(SPB_Km <= 9)')[temp_column].corr(df['last_price']))\n",
    "display(df.query('(locality_name == \"Санкт-Петербург\")&(SPB_Km <= 9)').pivot_table(index=temp_column, values='last_price', aggfunc=['count','min','mean','median','max']))\n",
    "(df.query('(locality_name == \"Санкт-Петербург\")&(SPB_Km <= 9)')  # выбираем центр СПБ \n",
    " ).plot(x=temp_column, y='last_price', kind='scatter')\n",
    "pl.title('Данные за период с 2014 по 2019 г.')\n",
    "pl.xlabel(\"Год\")\n",
    "pl.ylabel(\"Количество квартир (шт.)\")\n",
    "plt.show()\n",
    "print('Корреляция для не центра СПБ составляет:', df.query('(locality_name == \"Санкт-Петербург\")&(SPB_Km > 9)')[temp_column].corr(df['last_price']))\n",
    "display(df.query('(locality_name == \"Санкт-Петербург\")&(SPB_Km > 9)').pivot_table(index=temp_column, values='last_price', aggfunc=['count','min','mean','median','max']))\n",
    "(df.query('(locality_name == \"Санкт-Петербург\")&(SPB_Km > 9)')  # выбираем не центр СПБ \n",
    " ).plot(x=temp_column, y='last_price', kind='scatter') \n",
    "pl.title('Данные за период с 2014 по 2019 г.')\n",
    "pl.xlabel(\"Год\")\n",
    "pl.ylabel(\"Количество квартир (шт.)\")\n",
    "plt.show()"
   ]
  },
  {
   "cell_type": "markdown",
   "metadata": {},
   "source": [
    "В центре города продажи квартир более стабильны и меньше зависят от года."
   ]
  },
  {
   "cell_type": "markdown",
   "metadata": {},
   "source": [
    "## Общий вывод"
   ]
  },
  {
   "cell_type": "markdown",
   "metadata": {},
   "source": [
    "В результате данного исследования данные были предобработаны, проверен каждый столбец, при необходимости изменены типы данных, по возможности были заполнены недостающие данные.\n",
    "В таблицу, путем вычисления, были добавлены следующие данные:\n",
    "\n",
    "• цена квадратного метра;\n",
    "\n",
    "• день недели, месяц и год публикации объявления;\n",
    "\n",
    "• этаж квартиры; варианты — первый, последний, другой;\n",
    "\n",
    "• соотношение жилой и общей площади, а также отношение площади кухни к общей.\n",
    "\n",
    "Изучены следующие параметры: площадь, цена, число комнат, высота потолков. Построены гистограммы для каждого их этих параметров.\n",
    "\n",
    "Опираясь на этот анализ из данных были удалены аномальные значения.\n",
    "Были выявлены факторы больше всего влияющие на стоимость квартиры. Это площадь, количество комнат и близость к центру.\n",
    "Выбрали 10 населённых пунктов с наибольшим числом объявлений. Посчитали среднюю цену квадратного метра в этих населённых пунктах. В этих населённых пунктах нашли стоимость объектов с самой высокой и низкой стоимостью.\n",
    "Проанализировав данные нашли границу отделяющую центр от не центра СПБ. Она составила 9 км.\n",
    "\n",
    "\n",
    "Был проведен анализ сегмента квартир в центре СПБ.\n",
    "Основные выводы:\n",
    "\n",
    "• Основная масса небольших квартир (до 75 метров) продаётся не в центе.\n",
    "\n",
    "• В центре квартиры дороже.\n",
    "\n",
    "• Чем дальше от центра, тем дешевле недвижимость. Но ближе к центру эта тенденция прослеживается более явно."
   ]
  }
 ],
 "metadata": {
  "ExecuteTimeLog": [
   {
    "duration": 853,
    "start_time": "2022-01-17T18:08:19.790Z"
   },
   {
    "duration": 147,
    "start_time": "2022-01-17T18:13:53.070Z"
   },
   {
    "duration": 84,
    "start_time": "2022-01-17T18:14:14.950Z"
   },
   {
    "duration": 441,
    "start_time": "2022-01-17T18:14:44.329Z"
   },
   {
    "duration": 504,
    "start_time": "2022-01-17T18:15:41.191Z"
   },
   {
    "duration": 1100,
    "start_time": "2022-01-17T18:36:26.181Z"
   },
   {
    "duration": 918,
    "start_time": "2022-01-17T18:38:53.602Z"
   },
   {
    "duration": 38,
    "start_time": "2022-01-17T18:40:03.970Z"
   },
   {
    "duration": 40,
    "start_time": "2022-01-17T18:42:30.411Z"
   },
   {
    "duration": 42,
    "start_time": "2022-01-17T18:43:33.111Z"
   },
   {
    "duration": 18,
    "start_time": "2022-01-17T18:46:48.349Z"
   },
   {
    "duration": 179,
    "start_time": "2022-01-18T04:26:45.677Z"
   },
   {
    "duration": 548,
    "start_time": "2022-01-18T04:27:13.653Z"
   },
   {
    "duration": 578,
    "start_time": "2022-01-18T04:27:14.203Z"
   },
   {
    "duration": 31,
    "start_time": "2022-01-18T04:27:14.783Z"
   },
   {
    "duration": 10,
    "start_time": "2022-01-18T04:27:14.815Z"
   },
   {
    "duration": 205,
    "start_time": "2022-01-18T04:27:14.827Z"
   },
   {
    "duration": 151,
    "start_time": "2022-01-18T04:27:46.554Z"
   },
   {
    "duration": 142,
    "start_time": "2022-01-18T04:28:04.344Z"
   },
   {
    "duration": 141,
    "start_time": "2022-01-18T04:28:14.577Z"
   },
   {
    "duration": 4,
    "start_time": "2022-01-18T04:28:45.153Z"
   },
   {
    "duration": 6,
    "start_time": "2022-01-18T04:29:06.612Z"
   },
   {
    "duration": 4,
    "start_time": "2022-01-18T04:30:32.154Z"
   },
   {
    "duration": 4,
    "start_time": "2022-01-18T04:31:18.953Z"
   },
   {
    "duration": 5,
    "start_time": "2022-01-18T04:36:33.888Z"
   },
   {
    "duration": 6,
    "start_time": "2022-01-18T04:40:02.855Z"
   },
   {
    "duration": 6,
    "start_time": "2022-01-18T04:43:22.330Z"
   },
   {
    "duration": 7,
    "start_time": "2022-01-18T04:48:25.598Z"
   },
   {
    "duration": 8,
    "start_time": "2022-01-18T04:48:33.285Z"
   },
   {
    "duration": 7,
    "start_time": "2022-01-18T04:48:37.686Z"
   },
   {
    "duration": 2,
    "start_time": "2022-01-18T04:51:57.725Z"
   },
   {
    "duration": 8,
    "start_time": "2022-01-18T04:52:28.504Z"
   },
   {
    "duration": 148,
    "start_time": "2022-01-18T04:54:11.305Z"
   },
   {
    "duration": 147,
    "start_time": "2022-01-18T04:55:03.737Z"
   },
   {
    "duration": 137,
    "start_time": "2022-01-18T04:55:43.695Z"
   },
   {
    "duration": 9,
    "start_time": "2022-01-18T04:55:54.576Z"
   },
   {
    "duration": 8,
    "start_time": "2022-01-18T04:58:07.189Z"
   },
   {
    "duration": 8,
    "start_time": "2022-01-18T04:59:06.346Z"
   },
   {
    "duration": 8,
    "start_time": "2022-01-18T04:59:32.993Z"
   },
   {
    "duration": 9,
    "start_time": "2022-01-18T05:05:13.731Z"
   },
   {
    "duration": 9,
    "start_time": "2022-01-18T05:06:34.411Z"
   },
   {
    "duration": 5,
    "start_time": "2022-01-18T05:14:39.777Z"
   },
   {
    "duration": 5,
    "start_time": "2022-01-18T05:14:53.201Z"
   },
   {
    "duration": 6,
    "start_time": "2022-01-18T05:15:53.061Z"
   },
   {
    "duration": 6,
    "start_time": "2022-01-18T05:15:55.740Z"
   },
   {
    "duration": 834,
    "start_time": "2022-01-20T09:39:54.175Z"
   },
   {
    "duration": 1004,
    "start_time": "2022-01-20T09:39:55.012Z"
   },
   {
    "duration": 63,
    "start_time": "2022-01-20T09:39:56.018Z"
   },
   {
    "duration": 17,
    "start_time": "2022-01-20T09:39:56.084Z"
   },
   {
    "duration": 26,
    "start_time": "2022-01-20T09:39:56.103Z"
   },
   {
    "duration": 33,
    "start_time": "2022-01-20T09:39:56.132Z"
   },
   {
    "duration": 27,
    "start_time": "2022-01-20T09:39:56.168Z"
   },
   {
    "duration": 43,
    "start_time": "2022-01-20T09:39:56.199Z"
   },
   {
    "duration": 23,
    "start_time": "2022-01-20T09:39:56.245Z"
   },
   {
    "duration": 34,
    "start_time": "2022-01-20T09:39:56.272Z"
   },
   {
    "duration": 68,
    "start_time": "2022-01-20T09:45:08.125Z"
   },
   {
    "duration": 11,
    "start_time": "2022-01-20T10:11:12.339Z"
   },
   {
    "duration": 15,
    "start_time": "2022-01-20T10:11:36.193Z"
   },
   {
    "duration": 13,
    "start_time": "2022-01-20T10:11:55.089Z"
   },
   {
    "duration": 14,
    "start_time": "2022-01-20T10:12:01.499Z"
   },
   {
    "duration": 60,
    "start_time": "2022-01-20T10:13:17.568Z"
   },
   {
    "duration": 12,
    "start_time": "2022-01-20T10:13:59.864Z"
   },
   {
    "duration": 358,
    "start_time": "2022-01-20T10:20:42.225Z"
   },
   {
    "duration": 11,
    "start_time": "2022-01-20T10:20:53.547Z"
   },
   {
    "duration": 243,
    "start_time": "2022-01-20T10:23:11.514Z"
   },
   {
    "duration": 314,
    "start_time": "2022-01-20T10:23:16.079Z"
   },
   {
    "duration": 15,
    "start_time": "2022-01-20T10:23:23.395Z"
   },
   {
    "duration": 9,
    "start_time": "2022-01-20T10:25:10.804Z"
   },
   {
    "duration": 9,
    "start_time": "2022-01-20T10:27:00.238Z"
   },
   {
    "duration": 13,
    "start_time": "2022-01-20T10:28:42.502Z"
   },
   {
    "duration": 11,
    "start_time": "2022-01-20T10:32:19.252Z"
   },
   {
    "duration": 12,
    "start_time": "2022-01-20T10:36:44.191Z"
   },
   {
    "duration": 12,
    "start_time": "2022-01-20T10:40:05.700Z"
   },
   {
    "duration": 81,
    "start_time": "2022-01-20T10:45:13.831Z"
   },
   {
    "duration": 11,
    "start_time": "2022-01-20T10:45:22.938Z"
   },
   {
    "duration": 8,
    "start_time": "2022-01-20T10:50:22.979Z"
   },
   {
    "duration": 9,
    "start_time": "2022-01-20T10:51:32.225Z"
   },
   {
    "duration": 11,
    "start_time": "2022-01-20T10:53:47.828Z"
   },
   {
    "duration": 8,
    "start_time": "2022-01-20T10:58:57.054Z"
   },
   {
    "duration": 9,
    "start_time": "2022-01-20T11:03:46.237Z"
   },
   {
    "duration": 11,
    "start_time": "2022-01-20T11:07:12.262Z"
   },
   {
    "duration": 12,
    "start_time": "2022-01-20T11:10:27.537Z"
   },
   {
    "duration": 11,
    "start_time": "2022-01-20T11:17:48.075Z"
   },
   {
    "duration": 12,
    "start_time": "2022-01-20T11:18:12.999Z"
   },
   {
    "duration": 15,
    "start_time": "2022-01-20T11:18:30.631Z"
   },
   {
    "duration": 20,
    "start_time": "2022-01-20T11:24:27.287Z"
   },
   {
    "duration": 13,
    "start_time": "2022-01-20T11:25:39.220Z"
   },
   {
    "duration": 16,
    "start_time": "2022-01-20T11:25:53.069Z"
   },
   {
    "duration": 12,
    "start_time": "2022-01-20T11:26:02.887Z"
   },
   {
    "duration": 17,
    "start_time": "2022-01-20T11:26:20.323Z"
   },
   {
    "duration": 11,
    "start_time": "2022-01-20T11:28:54.821Z"
   },
   {
    "duration": 5,
    "start_time": "2022-01-20T11:29:17.216Z"
   },
   {
    "duration": 13,
    "start_time": "2022-01-20T11:29:21.244Z"
   },
   {
    "duration": 865,
    "start_time": "2022-01-20T11:30:30.383Z"
   },
   {
    "duration": 16,
    "start_time": "2022-01-20T11:30:58.506Z"
   },
   {
    "duration": 19,
    "start_time": "2022-01-20T11:31:30.936Z"
   },
   {
    "duration": 11,
    "start_time": "2022-01-20T11:31:34.115Z"
   },
   {
    "duration": 851,
    "start_time": "2022-01-20T11:31:57.624Z"
   },
   {
    "duration": 17,
    "start_time": "2022-01-20T11:32:25.406Z"
   },
   {
    "duration": 14,
    "start_time": "2022-01-20T11:33:39.672Z"
   },
   {
    "duration": 8,
    "start_time": "2022-01-20T11:33:44.541Z"
   },
   {
    "duration": 11,
    "start_time": "2022-01-20T11:33:50.118Z"
   },
   {
    "duration": 17,
    "start_time": "2022-01-20T11:34:04.443Z"
   },
   {
    "duration": 12,
    "start_time": "2022-01-20T11:34:10.133Z"
   },
   {
    "duration": 21,
    "start_time": "2022-01-20T11:58:25.497Z"
   },
   {
    "duration": 13,
    "start_time": "2022-01-20T12:01:16.589Z"
   },
   {
    "duration": 701,
    "start_time": "2022-01-20T12:02:43.987Z"
   },
   {
    "duration": 849,
    "start_time": "2022-01-20T12:02:44.690Z"
   },
   {
    "duration": 54,
    "start_time": "2022-01-20T12:02:45.542Z"
   },
   {
    "duration": 15,
    "start_time": "2022-01-20T12:02:45.602Z"
   },
   {
    "duration": 47,
    "start_time": "2022-01-20T12:02:45.621Z"
   },
   {
    "duration": 15,
    "start_time": "2022-01-20T12:02:45.671Z"
   },
   {
    "duration": 6,
    "start_time": "2022-01-20T12:02:45.690Z"
   },
   {
    "duration": 21,
    "start_time": "2022-01-20T12:02:45.699Z"
   },
   {
    "duration": 48,
    "start_time": "2022-01-20T12:02:45.723Z"
   },
   {
    "duration": 8,
    "start_time": "2022-01-20T12:02:45.774Z"
   },
   {
    "duration": 103,
    "start_time": "2022-01-20T12:02:45.784Z"
   },
   {
    "duration": 18,
    "start_time": "2022-01-20T12:02:45.890Z"
   },
   {
    "duration": 14,
    "start_time": "2022-01-20T12:02:45.911Z"
   },
   {
    "duration": 42,
    "start_time": "2022-01-20T12:02:45.927Z"
   },
   {
    "duration": 11,
    "start_time": "2022-01-20T12:02:45.972Z"
   },
   {
    "duration": 11,
    "start_time": "2022-01-20T12:02:45.985Z"
   },
   {
    "duration": 67,
    "start_time": "2022-01-20T12:02:45.998Z"
   },
   {
    "duration": 11,
    "start_time": "2022-01-20T12:02:46.068Z"
   },
   {
    "duration": 12,
    "start_time": "2022-01-20T12:02:46.082Z"
   },
   {
    "duration": 20,
    "start_time": "2022-01-20T12:02:46.096Z"
   },
   {
    "duration": 55,
    "start_time": "2022-01-20T12:02:46.119Z"
   },
   {
    "duration": 12,
    "start_time": "2022-01-20T12:02:46.179Z"
   },
   {
    "duration": 82,
    "start_time": "2022-01-20T12:02:46.194Z"
   },
   {
    "duration": -1440,
    "start_time": "2022-01-20T12:02:47.718Z"
   },
   {
    "duration": -1439,
    "start_time": "2022-01-20T12:02:47.719Z"
   },
   {
    "duration": -1439,
    "start_time": "2022-01-20T12:02:47.721Z"
   },
   {
    "duration": -1451,
    "start_time": "2022-01-20T12:02:47.734Z"
   },
   {
    "duration": -1452,
    "start_time": "2022-01-20T12:02:47.737Z"
   },
   {
    "duration": -1462,
    "start_time": "2022-01-20T12:02:47.748Z"
   },
   {
    "duration": -1462,
    "start_time": "2022-01-20T12:02:47.750Z"
   },
   {
    "duration": -1463,
    "start_time": "2022-01-20T12:02:47.752Z"
   },
   {
    "duration": 1018,
    "start_time": "2022-01-20T12:03:09.470Z"
   },
   {
    "duration": 898,
    "start_time": "2022-01-20T12:03:10.492Z"
   },
   {
    "duration": 43,
    "start_time": "2022-01-20T12:03:11.393Z"
   },
   {
    "duration": 41,
    "start_time": "2022-01-20T12:03:11.439Z"
   },
   {
    "duration": 7,
    "start_time": "2022-01-20T12:03:11.483Z"
   },
   {
    "duration": 12,
    "start_time": "2022-01-20T12:03:11.493Z"
   },
   {
    "duration": 62,
    "start_time": "2022-01-20T12:03:11.508Z"
   },
   {
    "duration": 28,
    "start_time": "2022-01-20T12:03:11.577Z"
   },
   {
    "duration": 10,
    "start_time": "2022-01-20T12:03:11.610Z"
   },
   {
    "duration": 10,
    "start_time": "2022-01-20T12:03:11.666Z"
   },
   {
    "duration": 94,
    "start_time": "2022-01-20T12:03:11.678Z"
   },
   {
    "duration": 17,
    "start_time": "2022-01-20T12:03:11.774Z"
   },
   {
    "duration": 15,
    "start_time": "2022-01-20T12:03:11.794Z"
   },
   {
    "duration": 54,
    "start_time": "2022-01-20T12:03:11.812Z"
   },
   {
    "duration": 14,
    "start_time": "2022-01-20T12:03:11.869Z"
   },
   {
    "duration": 14,
    "start_time": "2022-01-20T12:03:11.885Z"
   },
   {
    "duration": 19,
    "start_time": "2022-01-20T12:03:11.902Z"
   },
   {
    "duration": 13,
    "start_time": "2022-01-20T12:03:11.966Z"
   },
   {
    "duration": 13,
    "start_time": "2022-01-20T12:03:11.982Z"
   },
   {
    "duration": 70,
    "start_time": "2022-01-20T12:03:11.998Z"
   },
   {
    "duration": 11,
    "start_time": "2022-01-20T12:03:12.071Z"
   },
   {
    "duration": 19,
    "start_time": "2022-01-20T12:03:12.084Z"
   },
   {
    "duration": 59,
    "start_time": "2022-01-20T12:03:12.110Z"
   },
   {
    "duration": 86,
    "start_time": "2022-01-20T12:03:12.173Z"
   },
   {
    "duration": -1651,
    "start_time": "2022-01-20T12:03:13.912Z"
   },
   {
    "duration": -1649,
    "start_time": "2022-01-20T12:03:13.913Z"
   },
   {
    "duration": -1654,
    "start_time": "2022-01-20T12:03:13.920Z"
   },
   {
    "duration": -1653,
    "start_time": "2022-01-20T12:03:13.922Z"
   },
   {
    "duration": -1652,
    "start_time": "2022-01-20T12:03:13.923Z"
   },
   {
    "duration": -1652,
    "start_time": "2022-01-20T12:03:13.925Z"
   },
   {
    "duration": 700,
    "start_time": "2022-01-20T12:03:32.515Z"
   },
   {
    "duration": 846,
    "start_time": "2022-01-20T12:03:33.218Z"
   },
   {
    "duration": 40,
    "start_time": "2022-01-20T12:03:34.073Z"
   },
   {
    "duration": 56,
    "start_time": "2022-01-20T12:03:34.115Z"
   },
   {
    "duration": 7,
    "start_time": "2022-01-20T12:03:34.174Z"
   },
   {
    "duration": 8,
    "start_time": "2022-01-20T12:03:34.185Z"
   },
   {
    "duration": 8,
    "start_time": "2022-01-20T12:03:34.196Z"
   },
   {
    "duration": 67,
    "start_time": "2022-01-20T12:03:34.206Z"
   },
   {
    "duration": 8,
    "start_time": "2022-01-20T12:03:34.275Z"
   },
   {
    "duration": 11,
    "start_time": "2022-01-20T12:03:34.285Z"
   },
   {
    "duration": 100,
    "start_time": "2022-01-20T12:03:34.298Z"
   },
   {
    "duration": 17,
    "start_time": "2022-01-20T12:03:34.400Z"
   },
   {
    "duration": 46,
    "start_time": "2022-01-20T12:03:34.420Z"
   },
   {
    "duration": 9,
    "start_time": "2022-01-20T12:03:34.470Z"
   },
   {
    "duration": 15,
    "start_time": "2022-01-20T12:03:34.481Z"
   },
   {
    "duration": 9,
    "start_time": "2022-01-20T12:03:34.498Z"
   },
   {
    "duration": 63,
    "start_time": "2022-01-20T12:03:34.510Z"
   },
   {
    "duration": 11,
    "start_time": "2022-01-20T12:03:34.576Z"
   },
   {
    "duration": 19,
    "start_time": "2022-01-20T12:03:34.590Z"
   },
   {
    "duration": 71,
    "start_time": "2022-01-20T12:03:34.613Z"
   },
   {
    "duration": 13,
    "start_time": "2022-01-20T12:03:34.691Z"
   },
   {
    "duration": 63,
    "start_time": "2022-01-20T12:03:34.707Z"
   },
   {
    "duration": 12,
    "start_time": "2022-01-20T12:03:34.773Z"
   },
   {
    "duration": 20,
    "start_time": "2022-01-20T12:03:34.788Z"
   },
   {
    "duration": 4,
    "start_time": "2022-01-20T12:03:34.811Z"
   },
   {
    "duration": 57,
    "start_time": "2022-01-20T12:03:34.818Z"
   },
   {
    "duration": 12,
    "start_time": "2022-01-20T12:03:34.878Z"
   },
   {
    "duration": 128,
    "start_time": "2022-01-20T12:03:34.893Z"
   },
   {
    "duration": -1172,
    "start_time": "2022-01-20T12:03:36.196Z"
   },
   {
    "duration": 804,
    "start_time": "2022-01-20T12:03:52.650Z"
   },
   {
    "duration": 866,
    "start_time": "2022-01-20T12:03:53.457Z"
   },
   {
    "duration": 57,
    "start_time": "2022-01-20T12:03:54.326Z"
   },
   {
    "duration": 16,
    "start_time": "2022-01-20T12:03:54.385Z"
   },
   {
    "duration": 30,
    "start_time": "2022-01-20T12:03:54.403Z"
   },
   {
    "duration": 29,
    "start_time": "2022-01-20T12:03:54.435Z"
   },
   {
    "duration": 29,
    "start_time": "2022-01-20T12:03:54.466Z"
   },
   {
    "duration": 28,
    "start_time": "2022-01-20T12:03:54.498Z"
   },
   {
    "duration": 12,
    "start_time": "2022-01-20T12:03:54.529Z"
   },
   {
    "duration": 24,
    "start_time": "2022-01-20T12:03:54.544Z"
   },
   {
    "duration": 94,
    "start_time": "2022-01-20T12:03:54.571Z"
   },
   {
    "duration": 19,
    "start_time": "2022-01-20T12:03:54.667Z"
   },
   {
    "duration": 27,
    "start_time": "2022-01-20T12:03:54.689Z"
   },
   {
    "duration": 25,
    "start_time": "2022-01-20T12:03:54.721Z"
   },
   {
    "duration": 24,
    "start_time": "2022-01-20T12:03:54.748Z"
   },
   {
    "duration": 21,
    "start_time": "2022-01-20T12:03:54.774Z"
   },
   {
    "duration": 49,
    "start_time": "2022-01-20T12:03:54.798Z"
   },
   {
    "duration": 63,
    "start_time": "2022-01-20T12:03:54.850Z"
   },
   {
    "duration": 34,
    "start_time": "2022-01-20T12:03:54.916Z"
   },
   {
    "duration": 35,
    "start_time": "2022-01-20T12:03:54.953Z"
   },
   {
    "duration": 15,
    "start_time": "2022-01-20T12:03:54.990Z"
   },
   {
    "duration": 30,
    "start_time": "2022-01-20T12:03:55.008Z"
   },
   {
    "duration": 44,
    "start_time": "2022-01-20T12:03:55.045Z"
   },
   {
    "duration": 71,
    "start_time": "2022-01-20T12:03:55.092Z"
   },
   {
    "duration": 26,
    "start_time": "2022-01-20T12:03:55.167Z"
   },
   {
    "duration": 31,
    "start_time": "2022-01-20T12:03:55.196Z"
   },
   {
    "duration": 23,
    "start_time": "2022-01-20T12:03:55.230Z"
   },
   {
    "duration": 22,
    "start_time": "2022-01-20T12:03:55.265Z"
   },
   {
    "duration": 14,
    "start_time": "2022-01-20T12:08:16.203Z"
   },
   {
    "duration": 11,
    "start_time": "2022-01-20T12:11:11.728Z"
   },
   {
    "duration": 11,
    "start_time": "2022-01-20T12:26:41.215Z"
   },
   {
    "duration": 93,
    "start_time": "2022-01-20T12:28:13.675Z"
   },
   {
    "duration": 13,
    "start_time": "2022-01-20T12:28:27.976Z"
   },
   {
    "duration": 13,
    "start_time": "2022-01-20T13:00:46.035Z"
   },
   {
    "duration": 14,
    "start_time": "2022-01-20T13:01:55.078Z"
   },
   {
    "duration": 12,
    "start_time": "2022-01-20T13:04:09.919Z"
   },
   {
    "duration": 16,
    "start_time": "2022-01-20T13:06:49.578Z"
   },
   {
    "duration": 13,
    "start_time": "2022-01-20T13:44:09.525Z"
   },
   {
    "duration": 52,
    "start_time": "2022-01-20T13:44:47.527Z"
   },
   {
    "duration": 59,
    "start_time": "2022-01-20T13:50:58.928Z"
   },
   {
    "duration": 12,
    "start_time": "2022-01-20T13:51:16.322Z"
   },
   {
    "duration": 58,
    "start_time": "2022-01-20T13:51:24.163Z"
   },
   {
    "duration": 18,
    "start_time": "2022-01-20T13:55:00.364Z"
   },
   {
    "duration": 12,
    "start_time": "2022-01-20T13:56:26.560Z"
   },
   {
    "duration": 13,
    "start_time": "2022-01-20T14:01:44.062Z"
   },
   {
    "duration": 10,
    "start_time": "2022-01-20T14:11:13.420Z"
   },
   {
    "duration": 10,
    "start_time": "2022-01-20T14:11:30.870Z"
   },
   {
    "duration": 9,
    "start_time": "2022-01-20T14:11:33.754Z"
   },
   {
    "duration": 6,
    "start_time": "2022-01-20T14:12:06.299Z"
   },
   {
    "duration": 13,
    "start_time": "2022-01-20T14:12:16.971Z"
   },
   {
    "duration": 785,
    "start_time": "2022-01-20T14:13:15.168Z"
   },
   {
    "duration": 865,
    "start_time": "2022-01-20T14:13:15.955Z"
   },
   {
    "duration": 58,
    "start_time": "2022-01-20T14:13:16.823Z"
   },
   {
    "duration": 17,
    "start_time": "2022-01-20T14:13:16.884Z"
   },
   {
    "duration": 8,
    "start_time": "2022-01-20T14:13:16.904Z"
   },
   {
    "duration": 51,
    "start_time": "2022-01-20T14:13:16.915Z"
   },
   {
    "duration": 8,
    "start_time": "2022-01-20T14:13:16.969Z"
   },
   {
    "duration": 18,
    "start_time": "2022-01-20T14:13:16.980Z"
   },
   {
    "duration": 8,
    "start_time": "2022-01-20T14:13:17.001Z"
   },
   {
    "duration": 57,
    "start_time": "2022-01-20T14:13:17.011Z"
   },
   {
    "duration": 60,
    "start_time": "2022-01-20T14:13:17.070Z"
   },
   {
    "duration": 45,
    "start_time": "2022-01-20T14:13:17.133Z"
   },
   {
    "duration": 14,
    "start_time": "2022-01-20T14:13:17.181Z"
   },
   {
    "duration": 6,
    "start_time": "2022-01-20T14:13:17.197Z"
   },
   {
    "duration": 63,
    "start_time": "2022-01-20T14:13:17.206Z"
   },
   {
    "duration": 11,
    "start_time": "2022-01-20T14:13:17.271Z"
   },
   {
    "duration": 10,
    "start_time": "2022-01-20T14:13:17.285Z"
   },
   {
    "duration": 17,
    "start_time": "2022-01-20T14:13:17.298Z"
   },
   {
    "duration": 57,
    "start_time": "2022-01-20T14:13:17.318Z"
   },
   {
    "duration": 9,
    "start_time": "2022-01-20T14:13:17.378Z"
   },
   {
    "duration": 13,
    "start_time": "2022-01-20T14:13:17.390Z"
   },
   {
    "duration": 70,
    "start_time": "2022-01-20T14:13:17.406Z"
   },
   {
    "duration": 12,
    "start_time": "2022-01-20T14:13:17.481Z"
   },
   {
    "duration": 19,
    "start_time": "2022-01-20T14:13:17.496Z"
   },
   {
    "duration": 51,
    "start_time": "2022-01-20T14:13:17.518Z"
   },
   {
    "duration": 12,
    "start_time": "2022-01-20T14:13:17.572Z"
   },
   {
    "duration": 5,
    "start_time": "2022-01-20T14:13:17.586Z"
   },
   {
    "duration": 15,
    "start_time": "2022-01-20T14:13:17.593Z"
   },
   {
    "duration": 14,
    "start_time": "2022-01-20T14:13:17.666Z"
   },
   {
    "duration": 13,
    "start_time": "2022-01-20T14:13:17.683Z"
   },
   {
    "duration": 11,
    "start_time": "2022-01-20T14:13:17.699Z"
   },
   {
    "duration": 86,
    "start_time": "2022-01-20T14:13:17.765Z"
   },
   {
    "duration": -1086,
    "start_time": "2022-01-20T14:13:18.939Z"
   },
   {
    "duration": -1086,
    "start_time": "2022-01-20T14:13:18.941Z"
   },
   {
    "duration": -1087,
    "start_time": "2022-01-20T14:13:18.944Z"
   },
   {
    "duration": -1088,
    "start_time": "2022-01-20T14:13:18.946Z"
   },
   {
    "duration": -1088,
    "start_time": "2022-01-20T14:13:18.948Z"
   },
   {
    "duration": -1093,
    "start_time": "2022-01-20T14:13:18.954Z"
   },
   {
    "duration": -1093,
    "start_time": "2022-01-20T14:13:18.956Z"
   },
   {
    "duration": 773,
    "start_time": "2022-01-20T14:13:54.583Z"
   },
   {
    "duration": 839,
    "start_time": "2022-01-20T14:13:55.359Z"
   },
   {
    "duration": 63,
    "start_time": "2022-01-20T14:13:56.203Z"
   },
   {
    "duration": 19,
    "start_time": "2022-01-20T14:13:56.270Z"
   },
   {
    "duration": 10,
    "start_time": "2022-01-20T14:13:56.293Z"
   },
   {
    "duration": 60,
    "start_time": "2022-01-20T14:13:56.306Z"
   },
   {
    "duration": 9,
    "start_time": "2022-01-20T14:13:56.369Z"
   },
   {
    "duration": 21,
    "start_time": "2022-01-20T14:13:56.384Z"
   },
   {
    "duration": 58,
    "start_time": "2022-01-20T14:13:56.409Z"
   },
   {
    "duration": 9,
    "start_time": "2022-01-20T14:13:56.470Z"
   },
   {
    "duration": 99,
    "start_time": "2022-01-20T14:13:56.482Z"
   },
   {
    "duration": 20,
    "start_time": "2022-01-20T14:13:56.584Z"
   },
   {
    "duration": 22,
    "start_time": "2022-01-20T14:13:56.607Z"
   },
   {
    "duration": 40,
    "start_time": "2022-01-20T14:13:56.633Z"
   },
   {
    "duration": 20,
    "start_time": "2022-01-20T14:13:56.675Z"
   },
   {
    "duration": 11,
    "start_time": "2022-01-20T14:13:56.698Z"
   },
   {
    "duration": 53,
    "start_time": "2022-01-20T14:13:56.711Z"
   },
   {
    "duration": 13,
    "start_time": "2022-01-20T14:13:56.767Z"
   },
   {
    "duration": 12,
    "start_time": "2022-01-20T14:13:56.782Z"
   },
   {
    "duration": 15,
    "start_time": "2022-01-20T14:13:56.796Z"
   },
   {
    "duration": 62,
    "start_time": "2022-01-20T14:13:56.813Z"
   },
   {
    "duration": 20,
    "start_time": "2022-01-20T14:13:56.878Z"
   },
   {
    "duration": 14,
    "start_time": "2022-01-20T14:13:56.903Z"
   },
   {
    "duration": 51,
    "start_time": "2022-01-20T14:13:56.920Z"
   },
   {
    "duration": 12,
    "start_time": "2022-01-20T14:13:56.973Z"
   },
   {
    "duration": 20,
    "start_time": "2022-01-20T14:13:56.987Z"
   },
   {
    "duration": 4,
    "start_time": "2022-01-20T14:13:57.009Z"
   },
   {
    "duration": 59,
    "start_time": "2022-01-20T14:13:57.016Z"
   },
   {
    "duration": 17,
    "start_time": "2022-01-20T14:13:57.077Z"
   },
   {
    "duration": 11,
    "start_time": "2022-01-20T14:13:57.097Z"
   },
   {
    "duration": 59,
    "start_time": "2022-01-20T14:13:57.110Z"
   },
   {
    "duration": 13,
    "start_time": "2022-01-20T14:13:57.172Z"
   },
   {
    "duration": 19,
    "start_time": "2022-01-20T14:13:57.188Z"
   },
   {
    "duration": 58,
    "start_time": "2022-01-20T14:13:57.210Z"
   },
   {
    "duration": 14,
    "start_time": "2022-01-20T14:13:57.271Z"
   },
   {
    "duration": 82,
    "start_time": "2022-01-20T14:13:57.288Z"
   },
   {
    "duration": 13,
    "start_time": "2022-01-20T14:14:43.949Z"
   },
   {
    "duration": 12,
    "start_time": "2022-01-20T15:08:27.388Z"
   },
   {
    "duration": 8,
    "start_time": "2022-01-20T15:08:49.272Z"
   },
   {
    "duration": 14,
    "start_time": "2022-01-20T15:11:19.004Z"
   },
   {
    "duration": 56,
    "start_time": "2022-01-20T16:00:19.436Z"
   },
   {
    "duration": 60,
    "start_time": "2022-01-20T16:02:12.121Z"
   },
   {
    "duration": 15,
    "start_time": "2022-01-20T16:02:52.856Z"
   },
   {
    "duration": 135,
    "start_time": "2022-01-20T16:11:20.563Z"
   },
   {
    "duration": 1172,
    "start_time": "2022-01-20T16:18:38.394Z"
   },
   {
    "duration": 54,
    "start_time": "2022-01-20T16:18:46.922Z"
   },
   {
    "duration": 25,
    "start_time": "2022-01-20T16:20:25.383Z"
   },
   {
    "duration": 1137,
    "start_time": "2022-01-20T16:20:45.986Z"
   },
   {
    "duration": 53,
    "start_time": "2022-01-20T16:20:51.794Z"
   },
   {
    "duration": 955,
    "start_time": "2022-01-20T16:35:57.555Z"
   },
   {
    "duration": 51,
    "start_time": "2022-01-20T16:36:04.947Z"
   },
   {
    "duration": 6,
    "start_time": "2022-01-20T16:45:07.723Z"
   },
   {
    "duration": 86,
    "start_time": "2022-01-20T16:45:18.179Z"
   },
   {
    "duration": 6,
    "start_time": "2022-01-20T16:47:00.437Z"
   },
   {
    "duration": 54,
    "start_time": "2022-01-20T16:47:12.297Z"
   },
   {
    "duration": 6,
    "start_time": "2022-01-20T16:47:36.548Z"
   },
   {
    "duration": 56,
    "start_time": "2022-01-20T16:47:38.599Z"
   },
   {
    "duration": 6,
    "start_time": "2022-01-20T16:47:47.362Z"
   },
   {
    "duration": 90,
    "start_time": "2022-01-20T16:47:50.062Z"
   },
   {
    "duration": 550,
    "start_time": "2022-01-21T03:02:36.253Z"
   },
   {
    "duration": 523,
    "start_time": "2022-01-21T03:02:36.805Z"
   },
   {
    "duration": 27,
    "start_time": "2022-01-21T03:02:37.330Z"
   },
   {
    "duration": 9,
    "start_time": "2022-01-21T03:02:37.359Z"
   },
   {
    "duration": 25,
    "start_time": "2022-01-21T03:02:37.369Z"
   },
   {
    "duration": 19,
    "start_time": "2022-01-21T03:02:37.396Z"
   },
   {
    "duration": 23,
    "start_time": "2022-01-21T03:02:37.416Z"
   },
   {
    "duration": 18,
    "start_time": "2022-01-21T03:02:37.442Z"
   },
   {
    "duration": 9,
    "start_time": "2022-01-21T03:02:37.462Z"
   },
   {
    "duration": 4,
    "start_time": "2022-01-21T03:02:37.472Z"
   },
   {
    "duration": 8,
    "start_time": "2022-01-21T03:02:37.478Z"
   },
   {
    "duration": 6,
    "start_time": "2022-01-21T03:02:37.487Z"
   },
   {
    "duration": 6,
    "start_time": "2022-01-21T03:02:37.494Z"
   },
   {
    "duration": 9,
    "start_time": "2022-01-21T03:02:37.501Z"
   },
   {
    "duration": 30,
    "start_time": "2022-01-21T03:02:37.511Z"
   },
   {
    "duration": 7,
    "start_time": "2022-01-21T03:02:37.542Z"
   },
   {
    "duration": 11,
    "start_time": "2022-01-21T03:02:37.550Z"
   },
   {
    "duration": 20,
    "start_time": "2022-01-21T03:02:37.563Z"
   },
   {
    "duration": 6,
    "start_time": "2022-01-21T03:02:37.584Z"
   },
   {
    "duration": 10,
    "start_time": "2022-01-21T03:02:37.592Z"
   },
   {
    "duration": 9,
    "start_time": "2022-01-21T03:02:37.604Z"
   },
   {
    "duration": 33,
    "start_time": "2022-01-21T03:02:37.614Z"
   },
   {
    "duration": 19,
    "start_time": "2022-01-21T03:02:37.650Z"
   },
   {
    "duration": 26,
    "start_time": "2022-01-21T03:02:37.671Z"
   },
   {
    "duration": 35,
    "start_time": "2022-01-21T03:02:37.698Z"
   },
   {
    "duration": 28,
    "start_time": "2022-01-21T03:02:37.735Z"
   },
   {
    "duration": 32,
    "start_time": "2022-01-21T03:02:37.764Z"
   },
   {
    "duration": 24,
    "start_time": "2022-01-21T03:02:37.797Z"
   },
   {
    "duration": 40,
    "start_time": "2022-01-21T03:02:37.823Z"
   },
   {
    "duration": 42,
    "start_time": "2022-01-21T03:02:37.864Z"
   },
   {
    "duration": 26,
    "start_time": "2022-01-21T03:02:37.907Z"
   },
   {
    "duration": 37,
    "start_time": "2022-01-21T03:02:37.934Z"
   },
   {
    "duration": 15,
    "start_time": "2022-01-21T03:02:37.973Z"
   },
   {
    "duration": 578,
    "start_time": "2022-01-21T03:02:37.990Z"
   },
   {
    "duration": 3,
    "start_time": "2022-01-21T03:02:38.570Z"
   },
   {
    "duration": 113,
    "start_time": "2022-01-21T03:02:38.575Z"
   },
   {
    "duration": 510,
    "start_time": "2022-01-21T03:02:38.180Z"
   },
   {
    "duration": 518,
    "start_time": "2022-01-21T03:03:06.585Z"
   },
   {
    "duration": 537,
    "start_time": "2022-01-21T03:03:07.105Z"
   },
   {
    "duration": 25,
    "start_time": "2022-01-21T03:03:07.645Z"
   },
   {
    "duration": 10,
    "start_time": "2022-01-21T03:03:07.671Z"
   },
   {
    "duration": 4,
    "start_time": "2022-01-21T03:03:07.683Z"
   },
   {
    "duration": 8,
    "start_time": "2022-01-21T03:03:07.689Z"
   },
   {
    "duration": 5,
    "start_time": "2022-01-21T03:03:07.699Z"
   },
   {
    "duration": 43,
    "start_time": "2022-01-21T03:03:07.706Z"
   },
   {
    "duration": 18,
    "start_time": "2022-01-21T03:03:07.751Z"
   },
   {
    "duration": 17,
    "start_time": "2022-01-21T03:03:07.770Z"
   },
   {
    "duration": 27,
    "start_time": "2022-01-21T03:03:07.789Z"
   },
   {
    "duration": 10,
    "start_time": "2022-01-21T03:03:07.818Z"
   },
   {
    "duration": 6,
    "start_time": "2022-01-21T03:03:07.829Z"
   },
   {
    "duration": 27,
    "start_time": "2022-01-21T03:03:07.837Z"
   },
   {
    "duration": 16,
    "start_time": "2022-01-21T03:03:07.865Z"
   },
   {
    "duration": 13,
    "start_time": "2022-01-21T03:03:07.883Z"
   },
   {
    "duration": 35,
    "start_time": "2022-01-21T03:03:07.898Z"
   },
   {
    "duration": 32,
    "start_time": "2022-01-21T03:03:07.935Z"
   },
   {
    "duration": 11,
    "start_time": "2022-01-21T03:03:07.968Z"
   },
   {
    "duration": 26,
    "start_time": "2022-01-21T03:03:07.981Z"
   },
   {
    "duration": 22,
    "start_time": "2022-01-21T03:03:08.008Z"
   },
   {
    "duration": 10,
    "start_time": "2022-01-21T03:03:08.033Z"
   },
   {
    "duration": 38,
    "start_time": "2022-01-21T03:03:08.044Z"
   },
   {
    "duration": 30,
    "start_time": "2022-01-21T03:03:08.084Z"
   },
   {
    "duration": 20,
    "start_time": "2022-01-21T03:03:08.115Z"
   },
   {
    "duration": 27,
    "start_time": "2022-01-21T03:03:08.136Z"
   },
   {
    "duration": 7,
    "start_time": "2022-01-21T03:03:08.164Z"
   },
   {
    "duration": 11,
    "start_time": "2022-01-21T03:03:08.172Z"
   },
   {
    "duration": 14,
    "start_time": "2022-01-21T03:03:08.184Z"
   },
   {
    "duration": 8,
    "start_time": "2022-01-21T03:03:08.200Z"
   },
   {
    "duration": 8,
    "start_time": "2022-01-21T03:03:08.209Z"
   },
   {
    "duration": 9,
    "start_time": "2022-01-21T03:03:08.219Z"
   },
   {
    "duration": 12,
    "start_time": "2022-01-21T03:03:08.229Z"
   },
   {
    "duration": 575,
    "start_time": "2022-01-21T03:03:08.243Z"
   },
   {
    "duration": 4,
    "start_time": "2022-01-21T03:03:08.819Z"
   },
   {
    "duration": 6,
    "start_time": "2022-01-21T03:03:08.824Z"
   },
   {
    "duration": 217,
    "start_time": "2022-01-21T03:12:10.186Z"
   },
   {
    "duration": 298,
    "start_time": "2022-01-21T03:14:01.245Z"
   },
   {
    "duration": 285,
    "start_time": "2022-01-21T03:14:48.083Z"
   },
   {
    "duration": 359,
    "start_time": "2022-01-21T03:15:04.610Z"
   },
   {
    "duration": 293,
    "start_time": "2022-01-21T03:15:16.423Z"
   },
   {
    "duration": 287,
    "start_time": "2022-01-21T03:15:23.755Z"
   },
   {
    "duration": 288,
    "start_time": "2022-01-21T03:15:44.515Z"
   },
   {
    "duration": 429,
    "start_time": "2022-01-21T03:15:54.086Z"
   },
   {
    "duration": 941,
    "start_time": "2022-01-21T03:16:00.804Z"
   },
   {
    "duration": 212,
    "start_time": "2022-01-21T03:16:09.115Z"
   },
   {
    "duration": 213,
    "start_time": "2022-01-21T03:16:20.212Z"
   },
   {
    "duration": 270,
    "start_time": "2022-01-21T03:16:26.134Z"
   },
   {
    "duration": 297,
    "start_time": "2022-01-21T03:16:31.803Z"
   },
   {
    "duration": 450,
    "start_time": "2022-01-21T03:16:37.722Z"
   },
   {
    "duration": 299,
    "start_time": "2022-01-21T03:16:43.647Z"
   },
   {
    "duration": 331,
    "start_time": "2022-01-21T03:17:27.683Z"
   },
   {
    "duration": 280,
    "start_time": "2022-01-21T03:18:38.106Z"
   },
   {
    "duration": 156,
    "start_time": "2022-01-21T03:18:50.205Z"
   },
   {
    "duration": 291,
    "start_time": "2022-01-21T03:20:55.310Z"
   },
   {
    "duration": 424,
    "start_time": "2022-01-21T03:21:32.410Z"
   },
   {
    "duration": 187,
    "start_time": "2022-01-21T03:25:33.220Z"
   },
   {
    "duration": 177,
    "start_time": "2022-01-21T03:25:55.486Z"
   },
   {
    "duration": 298,
    "start_time": "2022-01-21T03:26:03.719Z"
   },
   {
    "duration": 307,
    "start_time": "2022-01-21T03:26:16.151Z"
   },
   {
    "duration": 69,
    "start_time": "2022-01-21T03:26:56.693Z"
   },
   {
    "duration": 205,
    "start_time": "2022-01-21T03:27:10.626Z"
   },
   {
    "duration": 187,
    "start_time": "2022-01-21T03:27:46.867Z"
   },
   {
    "duration": 171,
    "start_time": "2022-01-21T03:27:55.390Z"
   },
   {
    "duration": 298,
    "start_time": "2022-01-21T03:30:23.986Z"
   },
   {
    "duration": 503,
    "start_time": "2022-01-21T03:30:36.642Z"
   },
   {
    "duration": 307,
    "start_time": "2022-01-21T03:30:54.653Z"
   },
   {
    "duration": 300,
    "start_time": "2022-01-21T03:31:53.884Z"
   },
   {
    "duration": 233,
    "start_time": "2022-01-21T03:32:05.824Z"
   },
   {
    "duration": 208,
    "start_time": "2022-01-21T03:32:15.917Z"
   },
   {
    "duration": 183,
    "start_time": "2022-01-21T03:32:21.350Z"
   },
   {
    "duration": 192,
    "start_time": "2022-01-21T03:32:32.774Z"
   },
   {
    "duration": 171,
    "start_time": "2022-01-21T04:13:49.162Z"
   },
   {
    "duration": 178,
    "start_time": "2022-01-21T04:14:53.715Z"
   },
   {
    "duration": 476,
    "start_time": "2022-01-21T04:15:01.289Z"
   },
   {
    "duration": 1829,
    "start_time": "2022-01-21T04:15:22.993Z"
   },
   {
    "duration": 310,
    "start_time": "2022-01-21T04:15:32.970Z"
   },
   {
    "duration": 565,
    "start_time": "2022-01-21T04:17:02.231Z"
   },
   {
    "duration": 299,
    "start_time": "2022-01-21T04:17:51.836Z"
   },
   {
    "duration": 302,
    "start_time": "2022-01-21T04:18:08.896Z"
   },
   {
    "duration": 349,
    "start_time": "2022-01-21T04:19:03.727Z"
   },
   {
    "duration": 502,
    "start_time": "2022-01-21T04:20:04.383Z"
   },
   {
    "duration": 476,
    "start_time": "2022-01-21T04:20:30.381Z"
   },
   {
    "duration": 330,
    "start_time": "2022-01-21T04:23:01.774Z"
   },
   {
    "duration": 287,
    "start_time": "2022-01-21T04:23:08.924Z"
   },
   {
    "duration": 285,
    "start_time": "2022-01-21T04:23:24.572Z"
   },
   {
    "duration": 177,
    "start_time": "2022-01-21T04:23:44.673Z"
   },
   {
    "duration": 152,
    "start_time": "2022-01-21T04:24:18.377Z"
   },
   {
    "duration": 583,
    "start_time": "2022-01-21T04:25:30.828Z"
   },
   {
    "duration": 311,
    "start_time": "2022-01-21T04:26:08.469Z"
   },
   {
    "duration": 949,
    "start_time": "2022-01-21T04:26:26.045Z"
   },
   {
    "duration": 258,
    "start_time": "2022-01-21T04:26:38.364Z"
   },
   {
    "duration": 211,
    "start_time": "2022-01-21T04:27:54.493Z"
   },
   {
    "duration": 221,
    "start_time": "2022-01-21T04:28:07.247Z"
   },
   {
    "duration": 232,
    "start_time": "2022-01-21T04:28:26.202Z"
   },
   {
    "duration": 220,
    "start_time": "2022-01-21T04:29:34.193Z"
   },
   {
    "duration": 225,
    "start_time": "2022-01-21T04:29:51.353Z"
   },
   {
    "duration": 369,
    "start_time": "2022-01-21T06:04:52.590Z"
   },
   {
    "duration": 788,
    "start_time": "2022-01-21T06:08:46.931Z"
   },
   {
    "duration": 901,
    "start_time": "2022-01-21T06:08:47.721Z"
   },
   {
    "duration": 59,
    "start_time": "2022-01-21T06:08:48.625Z"
   },
   {
    "duration": 16,
    "start_time": "2022-01-21T06:08:48.687Z"
   },
   {
    "duration": 8,
    "start_time": "2022-01-21T06:08:48.706Z"
   },
   {
    "duration": 52,
    "start_time": "2022-01-21T06:08:48.716Z"
   },
   {
    "duration": 9,
    "start_time": "2022-01-21T06:08:48.771Z"
   },
   {
    "duration": 16,
    "start_time": "2022-01-21T06:08:48.784Z"
   },
   {
    "duration": 21,
    "start_time": "2022-01-21T06:08:48.803Z"
   },
   {
    "duration": 49,
    "start_time": "2022-01-21T06:08:48.827Z"
   },
   {
    "duration": 13,
    "start_time": "2022-01-21T06:08:48.879Z"
   },
   {
    "duration": 13,
    "start_time": "2022-01-21T06:08:48.894Z"
   },
   {
    "duration": 62,
    "start_time": "2022-01-21T06:08:48.910Z"
   },
   {
    "duration": 14,
    "start_time": "2022-01-21T06:08:48.974Z"
   },
   {
    "duration": 12,
    "start_time": "2022-01-21T06:08:48.990Z"
   },
   {
    "duration": 65,
    "start_time": "2022-01-21T06:08:49.005Z"
   },
   {
    "duration": 14,
    "start_time": "2022-01-21T06:08:49.072Z"
   },
   {
    "duration": 26,
    "start_time": "2022-01-21T06:08:49.089Z"
   },
   {
    "duration": 56,
    "start_time": "2022-01-21T06:08:49.117Z"
   },
   {
    "duration": 11,
    "start_time": "2022-01-21T06:08:49.175Z"
   },
   {
    "duration": 12,
    "start_time": "2022-01-21T06:08:49.188Z"
   },
   {
    "duration": 68,
    "start_time": "2022-01-21T06:08:49.202Z"
   },
   {
    "duration": 5,
    "start_time": "2022-01-21T06:08:49.275Z"
   },
   {
    "duration": 15,
    "start_time": "2022-01-21T06:08:49.283Z"
   },
   {
    "duration": 12,
    "start_time": "2022-01-21T06:08:49.301Z"
   },
   {
    "duration": 56,
    "start_time": "2022-01-21T06:08:49.315Z"
   },
   {
    "duration": 13,
    "start_time": "2022-01-21T06:08:49.374Z"
   },
   {
    "duration": 13,
    "start_time": "2022-01-21T06:08:49.390Z"
   },
   {
    "duration": 69,
    "start_time": "2022-01-21T06:08:49.405Z"
   },
   {
    "duration": 12,
    "start_time": "2022-01-21T06:08:49.477Z"
   },
   {
    "duration": 11,
    "start_time": "2022-01-21T06:08:49.491Z"
   },
   {
    "duration": 11,
    "start_time": "2022-01-21T06:08:49.504Z"
   },
   {
    "duration": 57,
    "start_time": "2022-01-21T06:08:49.517Z"
   },
   {
    "duration": 1002,
    "start_time": "2022-01-21T06:08:49.577Z"
   },
   {
    "duration": 5,
    "start_time": "2022-01-21T06:08:50.582Z"
   },
   {
    "duration": 24,
    "start_time": "2022-01-21T06:08:50.589Z"
   },
   {
    "duration": 684,
    "start_time": "2022-01-21T06:08:50.615Z"
   },
   {
    "duration": 584,
    "start_time": "2022-01-21T06:08:51.302Z"
   },
   {
    "duration": 324,
    "start_time": "2022-01-21T06:08:51.889Z"
   },
   {
    "duration": 105,
    "start_time": "2022-01-21T06:08:52.215Z"
   },
   {
    "duration": 154,
    "start_time": "2022-01-21T06:08:52.168Z"
   },
   {
    "duration": 152,
    "start_time": "2022-01-21T06:08:52.171Z"
   },
   {
    "duration": 152,
    "start_time": "2022-01-21T06:08:52.173Z"
   },
   {
    "duration": 151,
    "start_time": "2022-01-21T06:08:52.175Z"
   },
   {
    "duration": 769,
    "start_time": "2022-01-21T06:09:15.383Z"
   },
   {
    "duration": 870,
    "start_time": "2022-01-21T06:09:16.154Z"
   },
   {
    "duration": 58,
    "start_time": "2022-01-21T06:09:17.026Z"
   },
   {
    "duration": 15,
    "start_time": "2022-01-21T06:09:17.087Z"
   },
   {
    "duration": 7,
    "start_time": "2022-01-21T06:09:17.105Z"
   },
   {
    "duration": 9,
    "start_time": "2022-01-21T06:09:17.114Z"
   },
   {
    "duration": 49,
    "start_time": "2022-01-21T06:09:17.125Z"
   },
   {
    "duration": 17,
    "start_time": "2022-01-21T06:09:17.178Z"
   },
   {
    "duration": 18,
    "start_time": "2022-01-21T06:09:17.198Z"
   },
   {
    "duration": 51,
    "start_time": "2022-01-21T06:09:17.219Z"
   },
   {
    "duration": 14,
    "start_time": "2022-01-21T06:09:17.273Z"
   },
   {
    "duration": 12,
    "start_time": "2022-01-21T06:09:17.290Z"
   },
   {
    "duration": 8,
    "start_time": "2022-01-21T06:09:17.304Z"
   },
   {
    "duration": 13,
    "start_time": "2022-01-21T06:09:17.369Z"
   },
   {
    "duration": 9,
    "start_time": "2022-01-21T06:09:17.385Z"
   },
   {
    "duration": 11,
    "start_time": "2022-01-21T06:09:17.396Z"
   },
   {
    "duration": 62,
    "start_time": "2022-01-21T06:09:17.409Z"
   },
   {
    "duration": 22,
    "start_time": "2022-01-21T06:09:17.474Z"
   },
   {
    "duration": 10,
    "start_time": "2022-01-21T06:09:17.499Z"
   },
   {
    "duration": 61,
    "start_time": "2022-01-21T06:09:17.511Z"
   },
   {
    "duration": 12,
    "start_time": "2022-01-21T06:09:17.574Z"
   },
   {
    "duration": 12,
    "start_time": "2022-01-21T06:09:17.589Z"
   },
   {
    "duration": 4,
    "start_time": "2022-01-21T06:09:17.607Z"
   },
   {
    "duration": 69,
    "start_time": "2022-01-21T06:09:17.614Z"
   },
   {
    "duration": 13,
    "start_time": "2022-01-21T06:09:17.686Z"
   },
   {
    "duration": 12,
    "start_time": "2022-01-21T06:09:17.702Z"
   },
   {
    "duration": 60,
    "start_time": "2022-01-21T06:09:17.717Z"
   },
   {
    "duration": 11,
    "start_time": "2022-01-21T06:09:17.779Z"
   },
   {
    "duration": 10,
    "start_time": "2022-01-21T06:09:17.792Z"
   },
   {
    "duration": 64,
    "start_time": "2022-01-21T06:09:17.805Z"
   },
   {
    "duration": 11,
    "start_time": "2022-01-21T06:09:17.872Z"
   },
   {
    "duration": 13,
    "start_time": "2022-01-21T06:09:17.885Z"
   },
   {
    "duration": 17,
    "start_time": "2022-01-21T06:09:17.900Z"
   },
   {
    "duration": 1056,
    "start_time": "2022-01-21T06:09:17.920Z"
   },
   {
    "duration": 7,
    "start_time": "2022-01-21T06:09:18.979Z"
   },
   {
    "duration": 9,
    "start_time": "2022-01-21T06:09:18.989Z"
   },
   {
    "duration": 682,
    "start_time": "2022-01-21T06:09:19.000Z"
   },
   {
    "duration": 576,
    "start_time": "2022-01-21T06:09:19.685Z"
   },
   {
    "duration": 338,
    "start_time": "2022-01-21T06:09:20.264Z"
   },
   {
    "duration": 359,
    "start_time": "2022-01-21T06:09:20.605Z"
   },
   {
    "duration": 628,
    "start_time": "2022-01-21T06:09:20.970Z"
   },
   {
    "duration": 285,
    "start_time": "2022-01-21T06:09:21.601Z"
   },
   {
    "duration": 437,
    "start_time": "2022-01-21T06:09:21.889Z"
   },
   {
    "duration": 344,
    "start_time": "2022-01-21T06:20:08.539Z"
   },
   {
    "duration": 115,
    "start_time": "2022-01-21T06:22:00.481Z"
   },
   {
    "duration": 317,
    "start_time": "2022-01-21T06:22:09.043Z"
   },
   {
    "duration": 293,
    "start_time": "2022-01-21T06:34:45.039Z"
   },
   {
    "duration": 327,
    "start_time": "2022-01-21T06:34:57.367Z"
   },
   {
    "duration": 270,
    "start_time": "2022-01-21T06:35:07.839Z"
   },
   {
    "duration": 652,
    "start_time": "2022-01-21T06:38:38.386Z"
   },
   {
    "duration": 542,
    "start_time": "2022-01-21T06:39:03.719Z"
   },
   {
    "duration": 577,
    "start_time": "2022-01-21T06:39:32.181Z"
   },
   {
    "duration": 567,
    "start_time": "2022-01-21T07:29:30.579Z"
   },
   {
    "duration": 261,
    "start_time": "2022-01-21T07:42:21.405Z"
   },
   {
    "duration": 7,
    "start_time": "2022-01-21T07:42:26.897Z"
   },
   {
    "duration": 275,
    "start_time": "2022-01-21T07:42:32.226Z"
   },
   {
    "duration": 1595,
    "start_time": "2022-01-21T07:43:02.419Z"
   },
   {
    "duration": 268,
    "start_time": "2022-01-21T07:43:09.054Z"
   },
   {
    "duration": 10,
    "start_time": "2022-01-21T07:44:06.178Z"
   },
   {
    "duration": 567,
    "start_time": "2022-01-21T07:44:14.862Z"
   },
   {
    "duration": 426,
    "start_time": "2022-01-21T07:44:25.247Z"
   },
   {
    "duration": 421,
    "start_time": "2022-01-21T07:44:31.215Z"
   },
   {
    "duration": 962,
    "start_time": "2022-01-21T07:45:57.070Z"
   },
   {
    "duration": 20,
    "start_time": "2022-01-21T07:46:34.218Z"
   },
   {
    "duration": 927,
    "start_time": "2022-01-21T07:46:45.208Z"
   },
   {
    "duration": 1466,
    "start_time": "2022-01-21T07:47:19.057Z"
   },
   {
    "duration": 25,
    "start_time": "2022-01-21T07:47:29.206Z"
   },
   {
    "duration": 617,
    "start_time": "2022-01-21T07:47:37.177Z"
   },
   {
    "duration": 1007,
    "start_time": "2022-01-21T07:49:42.356Z"
   },
   {
    "duration": 662,
    "start_time": "2022-01-21T07:50:02.794Z"
   },
   {
    "duration": 542,
    "start_time": "2022-01-21T07:51:30.909Z"
   },
   {
    "duration": 668,
    "start_time": "2022-01-21T07:53:00.825Z"
   },
   {
    "duration": 23,
    "start_time": "2022-01-21T07:56:29.662Z"
   },
   {
    "duration": 549,
    "start_time": "2022-01-21T07:56:41.492Z"
   },
   {
    "duration": 557,
    "start_time": "2022-01-21T07:56:51.292Z"
   },
   {
    "duration": 23,
    "start_time": "2022-01-21T07:58:15.269Z"
   },
   {
    "duration": 423,
    "start_time": "2022-01-21T07:58:26.382Z"
   },
   {
    "duration": 33,
    "start_time": "2022-01-21T08:02:48.114Z"
   },
   {
    "duration": 498,
    "start_time": "2022-01-21T08:03:06.306Z"
   },
   {
    "duration": 855,
    "start_time": "2022-01-21T08:04:17.363Z"
   },
   {
    "duration": 28,
    "start_time": "2022-01-21T08:04:24.043Z"
   },
   {
    "duration": 301,
    "start_time": "2022-01-21T08:04:32.891Z"
   },
   {
    "duration": 768,
    "start_time": "2022-01-21T08:05:24.874Z"
   },
   {
    "duration": 911,
    "start_time": "2022-01-21T08:05:25.646Z"
   },
   {
    "duration": 49,
    "start_time": "2022-01-21T08:05:26.560Z"
   },
   {
    "duration": 15,
    "start_time": "2022-01-21T08:05:26.612Z"
   },
   {
    "duration": 42,
    "start_time": "2022-01-21T08:05:26.629Z"
   },
   {
    "duration": 8,
    "start_time": "2022-01-21T08:05:26.674Z"
   },
   {
    "duration": 8,
    "start_time": "2022-01-21T08:05:26.686Z"
   },
   {
    "duration": 17,
    "start_time": "2022-01-21T08:05:26.697Z"
   },
   {
    "duration": 68,
    "start_time": "2022-01-21T08:05:26.717Z"
   },
   {
    "duration": 6,
    "start_time": "2022-01-21T08:05:26.788Z"
   },
   {
    "duration": 10,
    "start_time": "2022-01-21T08:05:26.797Z"
   },
   {
    "duration": 59,
    "start_time": "2022-01-21T08:05:26.810Z"
   },
   {
    "duration": 11,
    "start_time": "2022-01-21T08:05:26.872Z"
   },
   {
    "duration": 16,
    "start_time": "2022-01-21T08:05:26.886Z"
   },
   {
    "duration": 65,
    "start_time": "2022-01-21T08:05:26.905Z"
   },
   {
    "duration": 13,
    "start_time": "2022-01-21T08:05:26.973Z"
   },
   {
    "duration": 23,
    "start_time": "2022-01-21T08:05:26.989Z"
   },
   {
    "duration": 65,
    "start_time": "2022-01-21T08:05:27.014Z"
   },
   {
    "duration": 10,
    "start_time": "2022-01-21T08:05:27.082Z"
   },
   {
    "duration": 10,
    "start_time": "2022-01-21T08:05:27.095Z"
   },
   {
    "duration": 12,
    "start_time": "2022-01-21T08:05:27.107Z"
   },
   {
    "duration": 13,
    "start_time": "2022-01-21T08:05:27.173Z"
   },
   {
    "duration": 4,
    "start_time": "2022-01-21T08:05:27.189Z"
   },
   {
    "duration": 15,
    "start_time": "2022-01-21T08:05:27.195Z"
   },
   {
    "duration": 67,
    "start_time": "2022-01-21T08:05:27.212Z"
   },
   {
    "duration": 13,
    "start_time": "2022-01-21T08:05:27.281Z"
   },
   {
    "duration": 13,
    "start_time": "2022-01-21T08:05:27.297Z"
   },
   {
    "duration": 12,
    "start_time": "2022-01-21T08:05:27.368Z"
   },
   {
    "duration": 10,
    "start_time": "2022-01-21T08:05:27.383Z"
   },
   {
    "duration": 11,
    "start_time": "2022-01-21T08:05:27.395Z"
   },
   {
    "duration": 61,
    "start_time": "2022-01-21T08:05:27.408Z"
   },
   {
    "duration": 18,
    "start_time": "2022-01-21T08:05:27.472Z"
   },
   {
    "duration": 17,
    "start_time": "2022-01-21T08:05:27.492Z"
   },
   {
    "duration": 1069,
    "start_time": "2022-01-21T08:05:27.511Z"
   },
   {
    "duration": 5,
    "start_time": "2022-01-21T08:05:28.582Z"
   },
   {
    "duration": 8,
    "start_time": "2022-01-21T08:05:28.589Z"
   },
   {
    "duration": 666,
    "start_time": "2022-01-21T08:05:28.599Z"
   },
   {
    "duration": 599,
    "start_time": "2022-01-21T08:05:29.270Z"
   },
   {
    "duration": 334,
    "start_time": "2022-01-21T08:05:29.871Z"
   },
   {
    "duration": 352,
    "start_time": "2022-01-21T08:05:30.207Z"
   },
   {
    "duration": 664,
    "start_time": "2022-01-21T08:05:30.561Z"
   },
   {
    "duration": 295,
    "start_time": "2022-01-21T08:05:31.228Z"
   },
   {
    "duration": 462,
    "start_time": "2022-01-21T08:05:31.525Z"
   },
   {
    "duration": 29,
    "start_time": "2022-01-21T08:05:31.989Z"
   },
   {
    "duration": 30,
    "start_time": "2022-01-21T08:10:31.676Z"
   },
   {
    "duration": 27,
    "start_time": "2022-01-21T08:11:51.866Z"
   },
   {
    "duration": 658,
    "start_time": "2022-01-21T08:24:19.883Z"
   },
   {
    "duration": 612,
    "start_time": "2022-01-21T08:25:03.117Z"
   },
   {
    "duration": 909,
    "start_time": "2022-01-21T08:27:36.260Z"
   },
   {
    "duration": 598,
    "start_time": "2022-01-21T08:29:14.421Z"
   },
   {
    "duration": 3,
    "start_time": "2022-01-21T08:30:55.273Z"
   },
   {
    "duration": 560,
    "start_time": "2022-01-21T08:31:59.243Z"
   },
   {
    "duration": 3,
    "start_time": "2022-01-21T08:45:51.030Z"
   },
   {
    "duration": 583,
    "start_time": "2022-01-21T08:46:53.593Z"
   },
   {
    "duration": 335,
    "start_time": "2022-01-21T08:49:28.780Z"
   },
   {
    "duration": 447,
    "start_time": "2022-01-21T08:58:56.591Z"
   },
   {
    "duration": 599,
    "start_time": "2022-01-21T08:59:01.921Z"
   },
   {
    "duration": 370,
    "start_time": "2022-01-21T08:59:43.163Z"
   },
   {
    "duration": 701,
    "start_time": "2022-01-21T08:59:46.296Z"
   },
   {
    "duration": 3,
    "start_time": "2022-01-21T09:02:08.662Z"
   },
   {
    "duration": 548,
    "start_time": "2022-01-21T09:03:31.753Z"
   },
   {
    "duration": 548,
    "start_time": "2022-01-21T09:06:14.959Z"
   },
   {
    "duration": 608,
    "start_time": "2022-01-21T09:08:53.778Z"
   },
   {
    "duration": 8,
    "start_time": "2022-01-21T09:20:15.327Z"
   },
   {
    "duration": 322,
    "start_time": "2022-01-21T09:20:47.706Z"
   },
   {
    "duration": 37,
    "start_time": "2022-01-21T09:21:31.418Z"
   },
   {
    "duration": 99,
    "start_time": "2022-01-21T09:22:15.835Z"
   },
   {
    "duration": 16,
    "start_time": "2022-01-21T09:22:23.733Z"
   },
   {
    "duration": 16,
    "start_time": "2022-01-21T09:23:01.754Z"
   },
   {
    "duration": 18,
    "start_time": "2022-01-21T09:23:47.232Z"
   },
   {
    "duration": 17,
    "start_time": "2022-01-21T09:23:59.572Z"
   },
   {
    "duration": 17,
    "start_time": "2022-01-21T09:24:47.494Z"
   },
   {
    "duration": 17,
    "start_time": "2022-01-21T09:26:48.207Z"
   },
   {
    "duration": 321,
    "start_time": "2022-01-21T09:26:56.305Z"
   },
   {
    "duration": 17,
    "start_time": "2022-01-21T09:27:15.596Z"
   },
   {
    "duration": 318,
    "start_time": "2022-01-21T09:27:33.410Z"
   },
   {
    "duration": 351,
    "start_time": "2022-01-21T09:28:04.111Z"
   },
   {
    "duration": 8532,
    "start_time": "2022-01-21T09:28:10.747Z"
   },
   {
    "duration": 10148,
    "start_time": "2022-01-21T09:28:26.451Z"
   },
   {
    "duration": 8874,
    "start_time": "2022-01-21T09:29:15.093Z"
   },
   {
    "duration": 9173,
    "start_time": "2022-01-21T09:29:25.606Z"
   },
   {
    "duration": 15,
    "start_time": "2022-01-21T09:29:49.857Z"
   },
   {
    "duration": 15,
    "start_time": "2022-01-21T09:30:00.585Z"
   },
   {
    "duration": 16,
    "start_time": "2022-01-21T09:30:28.303Z"
   },
   {
    "duration": 9392,
    "start_time": "2022-01-21T09:30:48.207Z"
   },
   {
    "duration": 17,
    "start_time": "2022-01-21T09:31:32.538Z"
   },
   {
    "duration": 23,
    "start_time": "2022-01-21T09:43:04.018Z"
   },
   {
    "duration": 36,
    "start_time": "2022-01-21T09:43:58.922Z"
   },
   {
    "duration": 373,
    "start_time": "2022-01-21T09:45:08.402Z"
   },
   {
    "duration": 101,
    "start_time": "2022-01-21T09:45:24.898Z"
   },
   {
    "duration": 22,
    "start_time": "2022-01-21T09:47:48.730Z"
   },
   {
    "duration": 20,
    "start_time": "2022-01-21T09:51:57.233Z"
   },
   {
    "duration": 339,
    "start_time": "2022-01-21T09:52:26.332Z"
   },
   {
    "duration": 20,
    "start_time": "2022-01-21T09:52:49.516Z"
   },
   {
    "duration": 324,
    "start_time": "2022-01-21T09:53:21.005Z"
   },
   {
    "duration": 24,
    "start_time": "2022-01-21T09:53:29.510Z"
   },
   {
    "duration": 24,
    "start_time": "2022-01-21T09:54:09.885Z"
   },
   {
    "duration": 23,
    "start_time": "2022-01-21T09:58:28.995Z"
   },
   {
    "duration": 22,
    "start_time": "2022-01-21T09:58:48.606Z"
   },
   {
    "duration": 23,
    "start_time": "2022-01-21T09:59:03.887Z"
   },
   {
    "duration": 341,
    "start_time": "2022-01-21T09:59:54.562Z"
   },
   {
    "duration": 357,
    "start_time": "2022-01-21T10:02:13.173Z"
   },
   {
    "duration": 166,
    "start_time": "2022-01-21T10:02:35.269Z"
   },
   {
    "duration": 34,
    "start_time": "2022-01-21T10:03:42.308Z"
   },
   {
    "duration": 43,
    "start_time": "2022-01-21T10:05:26.327Z"
   },
   {
    "duration": 76,
    "start_time": "2022-01-21T10:22:15.510Z"
   },
   {
    "duration": 441,
    "start_time": "2022-01-21T10:22:44.402Z"
   },
   {
    "duration": 65,
    "start_time": "2022-01-21T10:22:54.821Z"
   },
   {
    "duration": 453,
    "start_time": "2022-01-21T10:23:29.747Z"
   },
   {
    "duration": 65,
    "start_time": "2022-01-21T10:24:02.270Z"
   },
   {
    "duration": 769,
    "start_time": "2022-01-21T10:28:25.589Z"
   },
   {
    "duration": 760,
    "start_time": "2022-01-21T10:28:45.494Z"
   },
   {
    "duration": 380,
    "start_time": "2022-01-21T10:29:01.140Z"
   },
   {
    "duration": 381,
    "start_time": "2022-01-21T10:29:16.259Z"
   },
   {
    "duration": 491,
    "start_time": "2022-01-21T10:29:27.029Z"
   },
   {
    "duration": 793,
    "start_time": "2022-01-21T10:29:54.653Z"
   },
   {
    "duration": 62,
    "start_time": "2022-01-21T10:31:28.844Z"
   },
   {
    "duration": 63,
    "start_time": "2022-01-21T10:31:49.697Z"
   },
   {
    "duration": 102,
    "start_time": "2022-01-21T10:32:17.047Z"
   },
   {
    "duration": 61,
    "start_time": "2022-01-21T10:32:33.298Z"
   },
   {
    "duration": 64,
    "start_time": "2022-01-21T10:32:39.941Z"
   },
   {
    "duration": 65,
    "start_time": "2022-01-21T10:32:52.358Z"
   },
   {
    "duration": 120,
    "start_time": "2022-01-21T10:33:01.079Z"
   },
   {
    "duration": 62,
    "start_time": "2022-01-21T10:33:15.711Z"
   },
   {
    "duration": 68,
    "start_time": "2022-01-21T10:33:21.257Z"
   },
   {
    "duration": 1983,
    "start_time": "2022-01-21T10:34:44.489Z"
   },
   {
    "duration": 62,
    "start_time": "2022-01-21T10:34:50.451Z"
   },
   {
    "duration": 1550,
    "start_time": "2022-01-21T10:34:56.837Z"
   },
   {
    "duration": 410,
    "start_time": "2022-01-21T10:35:06.923Z"
   },
   {
    "duration": 61,
    "start_time": "2022-01-21T10:35:13.134Z"
   },
   {
    "duration": 65,
    "start_time": "2022-01-21T10:36:03.590Z"
   },
   {
    "duration": 62,
    "start_time": "2022-01-21T10:39:50.435Z"
   },
   {
    "duration": 55,
    "start_time": "2022-01-21T10:51:51.461Z"
   },
   {
    "duration": 57,
    "start_time": "2022-01-21T10:52:26.665Z"
   },
   {
    "duration": 59,
    "start_time": "2022-01-21T10:57:57.063Z"
   },
   {
    "duration": 63,
    "start_time": "2022-01-21T11:01:56.175Z"
   },
   {
    "duration": 66,
    "start_time": "2022-01-21T11:02:34.873Z"
   },
   {
    "duration": 60,
    "start_time": "2022-01-21T11:03:55.661Z"
   },
   {
    "duration": 103,
    "start_time": "2022-01-21T11:10:34.070Z"
   },
   {
    "duration": 74,
    "start_time": "2022-01-21T11:15:20.903Z"
   },
   {
    "duration": 5,
    "start_time": "2022-01-21T11:27:11.137Z"
   },
   {
    "duration": 332,
    "start_time": "2022-01-21T11:27:37.112Z"
   },
   {
    "duration": 6,
    "start_time": "2022-01-21T11:27:51.182Z"
   },
   {
    "duration": 310,
    "start_time": "2022-01-21T11:33:11.683Z"
   },
   {
    "duration": 5,
    "start_time": "2022-01-21T11:33:42.257Z"
   },
   {
    "duration": 60,
    "start_time": "2022-01-21T11:33:56.946Z"
   },
   {
    "duration": 26,
    "start_time": "2022-01-21T11:37:29.777Z"
   },
   {
    "duration": 339,
    "start_time": "2022-01-21T11:52:43.484Z"
   },
   {
    "duration": -143,
    "start_time": "2022-01-21T11:54:35.593Z"
   },
   {
    "duration": 538,
    "start_time": "2022-01-21T11:57:30.986Z"
   },
   {
    "duration": 113,
    "start_time": "2022-01-21T12:00:28.637Z"
   },
   {
    "duration": 162,
    "start_time": "2022-01-21T12:00:36.933Z"
   },
   {
    "duration": 325,
    "start_time": "2022-01-21T12:00:44.410Z"
   },
   {
    "duration": 116,
    "start_time": "2022-01-21T12:02:02.255Z"
   },
   {
    "duration": 411,
    "start_time": "2022-01-21T12:02:30.345Z"
   },
   {
    "duration": 476,
    "start_time": "2022-01-21T12:04:57.553Z"
   },
   {
    "duration": 435,
    "start_time": "2022-01-21T12:07:19.755Z"
   },
   {
    "duration": 337,
    "start_time": "2022-01-21T12:15:37.851Z"
   },
   {
    "duration": 343,
    "start_time": "2022-01-21T12:16:15.792Z"
   },
   {
    "duration": 437,
    "start_time": "2022-01-21T12:16:50.710Z"
   },
   {
    "duration": 352,
    "start_time": "2022-01-21T12:17:32.271Z"
   },
   {
    "duration": 443,
    "start_time": "2022-01-21T12:17:56.469Z"
   },
   {
    "duration": 343,
    "start_time": "2022-01-21T12:18:21.004Z"
   },
   {
    "duration": 423,
    "start_time": "2022-01-21T12:18:40.276Z"
   },
   {
    "duration": 467,
    "start_time": "2022-01-21T12:19:14.049Z"
   },
   {
    "duration": 458,
    "start_time": "2022-01-21T12:19:33.105Z"
   },
   {
    "duration": 406,
    "start_time": "2022-01-21T12:19:50.008Z"
   },
   {
    "duration": 481,
    "start_time": "2022-01-21T12:20:01.054Z"
   },
   {
    "duration": 418,
    "start_time": "2022-01-21T12:20:10.616Z"
   },
   {
    "duration": 414,
    "start_time": "2022-01-21T12:20:24.371Z"
   },
   {
    "duration": 499,
    "start_time": "2022-01-21T12:20:31.214Z"
   },
   {
    "duration": 470,
    "start_time": "2022-01-21T12:20:37.838Z"
   },
   {
    "duration": 419,
    "start_time": "2022-01-21T12:21:08.627Z"
   },
   {
    "duration": 402,
    "start_time": "2022-01-21T12:23:46.645Z"
   },
   {
    "duration": 405,
    "start_time": "2022-01-21T12:25:29.029Z"
   },
   {
    "duration": 441,
    "start_time": "2022-01-21T12:25:37.421Z"
   },
   {
    "duration": 422,
    "start_time": "2022-01-21T12:25:45.082Z"
   },
   {
    "duration": 383,
    "start_time": "2022-01-21T12:35:23.240Z"
   },
   {
    "duration": 393,
    "start_time": "2022-01-21T12:40:51.611Z"
   },
   {
    "duration": 386,
    "start_time": "2022-01-21T12:41:24.712Z"
   },
   {
    "duration": 429,
    "start_time": "2022-01-21T12:42:38.912Z"
   },
   {
    "duration": 376,
    "start_time": "2022-01-21T12:43:26.278Z"
   },
   {
    "duration": 472,
    "start_time": "2022-01-21T12:43:40.607Z"
   },
   {
    "duration": 355,
    "start_time": "2022-01-21T12:43:47.284Z"
   },
   {
    "duration": 523,
    "start_time": "2022-01-21T12:43:53.693Z"
   },
   {
    "duration": 423,
    "start_time": "2022-01-21T12:46:51.468Z"
   },
   {
    "duration": 411,
    "start_time": "2022-01-21T12:50:19.465Z"
   },
   {
    "duration": 395,
    "start_time": "2022-01-21T12:51:03.315Z"
   },
   {
    "duration": 383,
    "start_time": "2022-01-21T12:51:11.086Z"
   },
   {
    "duration": 425,
    "start_time": "2022-01-21T12:53:59.209Z"
   },
   {
    "duration": 369,
    "start_time": "2022-01-21T12:54:09.036Z"
   },
   {
    "duration": 402,
    "start_time": "2022-01-21T12:54:48.223Z"
   },
   {
    "duration": 420,
    "start_time": "2022-01-21T12:55:48.972Z"
   },
   {
    "duration": 541,
    "start_time": "2022-01-21T12:57:12.401Z"
   },
   {
    "duration": 419,
    "start_time": "2022-01-21T12:57:44.840Z"
   },
   {
    "duration": 522,
    "start_time": "2022-01-21T13:55:10.148Z"
   },
   {
    "duration": 25,
    "start_time": "2022-01-21T13:55:30.180Z"
   },
   {
    "duration": 2862,
    "start_time": "2022-01-21T13:56:04.850Z"
   },
   {
    "duration": 23,
    "start_time": "2022-01-21T13:57:03.978Z"
   },
   {
    "duration": 10,
    "start_time": "2022-01-21T13:57:17.542Z"
   },
   {
    "duration": 2468,
    "start_time": "2022-01-21T13:57:30.644Z"
   },
   {
    "duration": 519,
    "start_time": "2022-01-21T13:59:00.490Z"
   },
   {
    "duration": 2698,
    "start_time": "2022-01-21T14:00:42.609Z"
   },
   {
    "duration": 2570,
    "start_time": "2022-01-21T14:00:49.441Z"
   },
   {
    "duration": 3195,
    "start_time": "2022-01-21T14:01:05.823Z"
   },
   {
    "duration": 3060,
    "start_time": "2022-01-21T14:01:16.602Z"
   },
   {
    "duration": 3036,
    "start_time": "2022-01-21T14:02:14.260Z"
   },
   {
    "duration": 5707,
    "start_time": "2022-01-21T14:02:51.348Z"
   },
   {
    "duration": 26,
    "start_time": "2022-01-21T14:16:14.389Z"
   },
   {
    "duration": 1019,
    "start_time": "2022-01-21T14:20:57.703Z"
   },
   {
    "duration": 524,
    "start_time": "2022-01-21T14:21:11.447Z"
   },
   {
    "duration": 1059,
    "start_time": "2022-01-21T14:21:33.996Z"
   },
   {
    "duration": 985,
    "start_time": "2022-01-21T14:24:56.064Z"
   },
   {
    "duration": 952,
    "start_time": "2022-01-21T14:27:23.890Z"
   },
   {
    "duration": 564,
    "start_time": "2022-01-22T05:36:39.450Z"
   },
   {
    "duration": 582,
    "start_time": "2022-01-22T05:36:40.016Z"
   },
   {
    "duration": 28,
    "start_time": "2022-01-22T05:36:40.600Z"
   },
   {
    "duration": 10,
    "start_time": "2022-01-22T05:36:40.630Z"
   },
   {
    "duration": 11,
    "start_time": "2022-01-22T05:36:40.642Z"
   },
   {
    "duration": 16,
    "start_time": "2022-01-22T05:36:40.655Z"
   },
   {
    "duration": 20,
    "start_time": "2022-01-22T05:36:40.672Z"
   },
   {
    "duration": 15,
    "start_time": "2022-01-22T05:36:40.694Z"
   },
   {
    "duration": 14,
    "start_time": "2022-01-22T05:36:40.710Z"
   },
   {
    "duration": 6,
    "start_time": "2022-01-22T05:36:40.725Z"
   },
   {
    "duration": 9,
    "start_time": "2022-01-22T05:36:40.733Z"
   },
   {
    "duration": 19,
    "start_time": "2022-01-22T05:36:40.744Z"
   },
   {
    "duration": 7,
    "start_time": "2022-01-22T05:36:40.764Z"
   },
   {
    "duration": 32,
    "start_time": "2022-01-22T05:36:40.772Z"
   },
   {
    "duration": 7,
    "start_time": "2022-01-22T05:36:40.806Z"
   },
   {
    "duration": 6,
    "start_time": "2022-01-22T05:36:40.815Z"
   },
   {
    "duration": 20,
    "start_time": "2022-01-22T05:36:40.823Z"
   },
   {
    "duration": 35,
    "start_time": "2022-01-22T05:36:40.845Z"
   },
   {
    "duration": 8,
    "start_time": "2022-01-22T05:36:40.882Z"
   },
   {
    "duration": 17,
    "start_time": "2022-01-22T05:36:40.891Z"
   },
   {
    "duration": 8,
    "start_time": "2022-01-22T05:36:40.909Z"
   },
   {
    "duration": 7,
    "start_time": "2022-01-22T05:36:40.919Z"
   },
   {
    "duration": 12,
    "start_time": "2022-01-22T05:36:40.929Z"
   },
   {
    "duration": 17,
    "start_time": "2022-01-22T05:36:40.943Z"
   },
   {
    "duration": 8,
    "start_time": "2022-01-22T05:36:40.962Z"
   },
   {
    "duration": 30,
    "start_time": "2022-01-22T05:36:40.972Z"
   },
   {
    "duration": 8,
    "start_time": "2022-01-22T05:36:41.004Z"
   },
   {
    "duration": 18,
    "start_time": "2022-01-22T05:36:41.013Z"
   },
   {
    "duration": 8,
    "start_time": "2022-01-22T05:36:41.032Z"
   },
   {
    "duration": 14,
    "start_time": "2022-01-22T05:36:41.041Z"
   },
   {
    "duration": 7,
    "start_time": "2022-01-22T05:36:41.057Z"
   },
   {
    "duration": 52,
    "start_time": "2022-01-22T05:36:41.065Z"
   },
   {
    "duration": 5,
    "start_time": "2022-01-22T05:36:41.118Z"
   },
   {
    "duration": 18,
    "start_time": "2022-01-22T05:36:41.124Z"
   },
   {
    "duration": 608,
    "start_time": "2022-01-22T05:36:41.143Z"
   },
   {
    "duration": 4,
    "start_time": "2022-01-22T05:36:41.752Z"
   },
   {
    "duration": 8,
    "start_time": "2022-01-22T05:36:41.757Z"
   },
   {
    "duration": 420,
    "start_time": "2022-01-22T05:36:41.766Z"
   },
   {
    "duration": 369,
    "start_time": "2022-01-22T05:36:42.188Z"
   },
   {
    "duration": 217,
    "start_time": "2022-01-22T05:36:42.559Z"
   },
   {
    "duration": 218,
    "start_time": "2022-01-22T05:36:42.778Z"
   },
   {
    "duration": 436,
    "start_time": "2022-01-22T05:36:42.998Z"
   },
   {
    "duration": 183,
    "start_time": "2022-01-22T05:36:43.435Z"
   },
   {
    "duration": 295,
    "start_time": "2022-01-22T05:36:43.619Z"
   },
   {
    "duration": 18,
    "start_time": "2022-01-22T05:36:43.915Z"
   },
   {
    "duration": 407,
    "start_time": "2022-01-22T05:36:43.935Z"
   },
   {
    "duration": 432,
    "start_time": "2022-01-22T05:36:44.344Z"
   },
   {
    "duration": 422,
    "start_time": "2022-01-22T05:36:44.778Z"
   },
   {
    "duration": 224,
    "start_time": "2022-01-22T05:36:45.202Z"
   },
   {
    "duration": 401,
    "start_time": "2022-01-22T05:36:45.428Z"
   },
   {
    "duration": 395,
    "start_time": "2022-01-22T05:36:45.831Z"
   },
   {
    "duration": 475,
    "start_time": "2022-01-22T05:36:46.227Z"
   },
   {
    "duration": 400,
    "start_time": "2022-01-22T05:36:46.704Z"
   },
   {
    "duration": 36,
    "start_time": "2022-01-22T05:36:47.106Z"
   },
   {
    "duration": 264,
    "start_time": "2022-01-22T05:36:47.144Z"
   },
   {
    "duration": 279,
    "start_time": "2022-01-22T05:36:47.410Z"
   },
   {
    "duration": 1948,
    "start_time": "2022-01-22T05:36:47.691Z"
   },
   {
    "duration": 369,
    "start_time": "2022-01-22T05:36:49.641Z"
   },
   {
    "duration": 655,
    "start_time": "2022-01-22T05:37:10.633Z"
   },
   {
    "duration": 566,
    "start_time": "2022-01-22T05:37:18.874Z"
   },
   {
    "duration": 545,
    "start_time": "2022-01-22T05:37:26.769Z"
   },
   {
    "duration": 19,
    "start_time": "2022-01-22T05:38:42.477Z"
   },
   {
    "duration": 16,
    "start_time": "2022-01-22T05:39:18.242Z"
   },
   {
    "duration": 235,
    "start_time": "2022-01-22T05:39:37.938Z"
   },
   {
    "duration": 85,
    "start_time": "2022-01-22T06:39:37.353Z"
   },
   {
    "duration": 367,
    "start_time": "2022-01-22T06:39:45.050Z"
   },
   {
    "duration": 214,
    "start_time": "2022-01-22T06:42:32.493Z"
   },
   {
    "duration": 364,
    "start_time": "2022-01-22T06:42:50.356Z"
   },
   {
    "duration": 381,
    "start_time": "2022-01-22T06:43:39.735Z"
   },
   {
    "duration": 498,
    "start_time": "2022-01-22T06:54:01.470Z"
   },
   {
    "duration": 225,
    "start_time": "2022-01-22T06:56:03.634Z"
   },
   {
    "duration": 375,
    "start_time": "2022-01-22T06:56:11.172Z"
   },
   {
    "duration": 208,
    "start_time": "2022-01-22T06:56:36.912Z"
   },
   {
    "duration": 205,
    "start_time": "2022-01-22T06:56:51.498Z"
   },
   {
    "duration": 225,
    "start_time": "2022-01-22T06:57:03.938Z"
   },
   {
    "duration": 428,
    "start_time": "2022-01-22T06:57:17.443Z"
   },
   {
    "duration": 542,
    "start_time": "2022-01-22T06:59:09.603Z"
   },
   {
    "duration": 442,
    "start_time": "2022-01-22T06:59:24.895Z"
   },
   {
    "duration": 440,
    "start_time": "2022-01-22T06:59:47.262Z"
   },
   {
    "duration": 588,
    "start_time": "2022-01-22T07:04:41.901Z"
   },
   {
    "duration": 357,
    "start_time": "2022-01-22T07:04:53.956Z"
   },
   {
    "duration": 437,
    "start_time": "2022-01-22T07:05:02.931Z"
   },
   {
    "duration": 225,
    "start_time": "2022-01-22T07:10:48.454Z"
   },
   {
    "duration": 68,
    "start_time": "2022-01-22T07:13:17.836Z"
   },
   {
    "duration": 579,
    "start_time": "2022-01-22T07:14:35.484Z"
   },
   {
    "duration": 304,
    "start_time": "2022-01-22T07:15:01.281Z"
   },
   {
    "duration": 67,
    "start_time": "2022-01-22T07:15:43.388Z"
   },
   {
    "duration": 3908,
    "start_time": "2022-01-22T07:16:25.988Z"
   },
   {
    "duration": 292,
    "start_time": "2022-01-22T07:17:59.579Z"
   },
   {
    "duration": 287,
    "start_time": "2022-01-22T07:19:09.823Z"
   },
   {
    "duration": 3,
    "start_time": "2022-01-22T07:20:18.712Z"
   },
   {
    "duration": 430,
    "start_time": "2022-01-22T07:22:21.416Z"
   },
   {
    "duration": 293,
    "start_time": "2022-01-22T07:22:42.755Z"
   },
   {
    "duration": 439,
    "start_time": "2022-01-22T07:23:32.361Z"
   },
   {
    "duration": 621,
    "start_time": "2022-01-22T07:23:51.905Z"
   },
   {
    "duration": 471,
    "start_time": "2022-01-22T07:24:37.341Z"
   },
   {
    "duration": 454,
    "start_time": "2022-01-22T07:25:04.975Z"
   },
   {
    "duration": 72,
    "start_time": "2022-01-22T07:26:43.378Z"
   },
   {
    "duration": 67,
    "start_time": "2022-01-22T07:26:57.139Z"
   },
   {
    "duration": 75,
    "start_time": "2022-01-22T07:27:30.080Z"
   },
   {
    "duration": 484,
    "start_time": "2022-01-22T07:27:59.745Z"
   },
   {
    "duration": 439,
    "start_time": "2022-01-22T07:28:47.644Z"
   },
   {
    "duration": 506,
    "start_time": "2022-01-22T07:29:23.870Z"
   },
   {
    "duration": 606,
    "start_time": "2022-01-22T07:29:49.611Z"
   },
   {
    "duration": 482,
    "start_time": "2022-01-22T07:30:09.561Z"
   },
   {
    "duration": 438,
    "start_time": "2022-01-22T07:30:18.169Z"
   },
   {
    "duration": 466,
    "start_time": "2022-01-22T07:43:41.693Z"
   },
   {
    "duration": 444,
    "start_time": "2022-01-22T07:44:24.334Z"
   },
   {
    "duration": 729,
    "start_time": "2022-01-22T07:51:04.076Z"
   },
   {
    "duration": 426,
    "start_time": "2022-01-22T07:54:23.021Z"
   },
   {
    "duration": 416,
    "start_time": "2022-01-22T07:59:36.296Z"
   },
   {
    "duration": 464,
    "start_time": "2022-01-22T08:01:06.554Z"
   },
   {
    "duration": 412,
    "start_time": "2022-01-22T08:06:50.471Z"
   },
   {
    "duration": 218,
    "start_time": "2022-01-22T08:09:08.322Z"
   },
   {
    "duration": 700,
    "start_time": "2022-01-22T08:10:53.062Z"
   },
   {
    "duration": 677,
    "start_time": "2022-01-22T08:11:48.561Z"
   },
   {
    "duration": 809,
    "start_time": "2022-01-22T08:13:33.410Z"
   },
   {
    "duration": 626,
    "start_time": "2022-01-22T08:15:14.838Z"
   },
   {
    "duration": 687,
    "start_time": "2022-01-22T08:16:00.469Z"
   },
   {
    "duration": 678,
    "start_time": "2022-01-22T08:24:28.080Z"
   },
   {
    "duration": 675,
    "start_time": "2022-01-22T08:26:19.641Z"
   },
   {
    "duration": 669,
    "start_time": "2022-01-22T08:30:07.631Z"
   },
   {
    "duration": 230,
    "start_time": "2022-01-22T08:33:46.823Z"
   },
   {
    "duration": 640,
    "start_time": "2022-01-22T08:38:46.127Z"
   },
   {
    "duration": 705,
    "start_time": "2022-01-22T08:48:11.796Z"
   },
   {
    "duration": 686,
    "start_time": "2022-01-22T08:48:12.503Z"
   },
   {
    "duration": 35,
    "start_time": "2022-01-22T08:48:13.192Z"
   },
   {
    "duration": 12,
    "start_time": "2022-01-22T08:48:13.229Z"
   },
   {
    "duration": 5,
    "start_time": "2022-01-22T08:48:13.243Z"
   },
   {
    "duration": 6,
    "start_time": "2022-01-22T08:48:13.250Z"
   },
   {
    "duration": 41,
    "start_time": "2022-01-22T08:48:13.258Z"
   },
   {
    "duration": 13,
    "start_time": "2022-01-22T08:48:13.302Z"
   },
   {
    "duration": 13,
    "start_time": "2022-01-22T08:48:13.317Z"
   },
   {
    "duration": 5,
    "start_time": "2022-01-22T08:48:13.332Z"
   },
   {
    "duration": 10,
    "start_time": "2022-01-22T08:48:13.338Z"
   },
   {
    "duration": 8,
    "start_time": "2022-01-22T08:48:13.349Z"
   },
   {
    "duration": 44,
    "start_time": "2022-01-22T08:48:13.358Z"
   },
   {
    "duration": 9,
    "start_time": "2022-01-22T08:48:13.404Z"
   },
   {
    "duration": 12,
    "start_time": "2022-01-22T08:48:13.415Z"
   },
   {
    "duration": 7,
    "start_time": "2022-01-22T08:48:13.429Z"
   },
   {
    "duration": 9,
    "start_time": "2022-01-22T08:48:13.438Z"
   },
   {
    "duration": 50,
    "start_time": "2022-01-22T08:48:13.449Z"
   },
   {
    "duration": 8,
    "start_time": "2022-01-22T08:48:13.501Z"
   },
   {
    "duration": 7,
    "start_time": "2022-01-22T08:48:13.511Z"
   },
   {
    "duration": 8,
    "start_time": "2022-01-22T08:48:13.520Z"
   },
   {
    "duration": 8,
    "start_time": "2022-01-22T08:48:13.530Z"
   },
   {
    "duration": 3,
    "start_time": "2022-01-22T08:48:13.542Z"
   },
   {
    "duration": 56,
    "start_time": "2022-01-22T08:48:13.548Z"
   },
   {
    "duration": 9,
    "start_time": "2022-01-22T08:48:13.606Z"
   },
   {
    "duration": 9,
    "start_time": "2022-01-22T08:48:13.617Z"
   },
   {
    "duration": 9,
    "start_time": "2022-01-22T08:48:13.627Z"
   },
   {
    "duration": 8,
    "start_time": "2022-01-22T08:48:13.638Z"
   },
   {
    "duration": 56,
    "start_time": "2022-01-22T08:48:13.648Z"
   },
   {
    "duration": 9,
    "start_time": "2022-01-22T08:48:13.705Z"
   },
   {
    "duration": 8,
    "start_time": "2022-01-22T08:48:13.716Z"
   },
   {
    "duration": 29,
    "start_time": "2022-01-22T08:48:13.726Z"
   },
   {
    "duration": 44,
    "start_time": "2022-01-22T08:48:13.757Z"
   },
   {
    "duration": 14,
    "start_time": "2022-01-22T08:48:13.803Z"
   },
   {
    "duration": 639,
    "start_time": "2022-01-22T08:48:13.818Z"
   },
   {
    "duration": 5,
    "start_time": "2022-01-22T08:48:14.459Z"
   },
   {
    "duration": 6,
    "start_time": "2022-01-22T08:48:14.465Z"
   },
   {
    "duration": 407,
    "start_time": "2022-01-22T08:48:14.473Z"
   },
   {
    "duration": 420,
    "start_time": "2022-01-22T08:48:14.882Z"
   },
   {
    "duration": 232,
    "start_time": "2022-01-22T08:48:15.304Z"
   },
   {
    "duration": 250,
    "start_time": "2022-01-22T08:48:15.538Z"
   },
   {
    "duration": 460,
    "start_time": "2022-01-22T08:48:15.798Z"
   },
   {
    "duration": 197,
    "start_time": "2022-01-22T08:48:16.259Z"
   },
   {
    "duration": 309,
    "start_time": "2022-01-22T08:48:16.457Z"
   },
   {
    "duration": 32,
    "start_time": "2022-01-22T08:48:16.767Z"
   },
   {
    "duration": 431,
    "start_time": "2022-01-22T08:48:16.800Z"
   },
   {
    "duration": 433,
    "start_time": "2022-01-22T08:48:17.232Z"
   },
   {
    "duration": 445,
    "start_time": "2022-01-22T08:48:17.667Z"
   },
   {
    "duration": 237,
    "start_time": "2022-01-22T08:48:18.114Z"
   },
   {
    "duration": 478,
    "start_time": "2022-01-22T08:48:18.353Z"
   },
   {
    "duration": 407,
    "start_time": "2022-01-22T08:48:18.833Z"
   },
   {
    "duration": 512,
    "start_time": "2022-01-22T08:48:19.242Z"
   },
   {
    "duration": 481,
    "start_time": "2022-01-22T08:48:19.756Z"
   },
   {
    "duration": 41,
    "start_time": "2022-01-22T08:48:20.239Z"
   },
   {
    "duration": 292,
    "start_time": "2022-01-22T08:48:20.282Z"
   },
   {
    "duration": 331,
    "start_time": "2022-01-22T08:48:20.575Z"
   },
   {
    "duration": 477,
    "start_time": "2022-01-22T08:48:20.908Z"
   },
   {
    "duration": 567,
    "start_time": "2022-01-22T08:48:21.387Z"
   },
   {
    "duration": 524,
    "start_time": "2022-01-22T08:48:21.955Z"
   },
   {
    "duration": 581,
    "start_time": "2022-01-22T08:48:22.480Z"
   },
   {
    "duration": 720,
    "start_time": "2022-01-22T08:48:23.063Z"
   },
   {
    "duration": 729,
    "start_time": "2022-01-22T08:48:23.784Z"
   },
   {
    "duration": 768,
    "start_time": "2022-01-22T08:48:24.515Z"
   },
   {
    "duration": 701,
    "start_time": "2022-01-22T08:48:25.285Z"
   },
   {
    "duration": 173,
    "start_time": "2022-01-27T13:40:40.019Z"
   },
   {
    "duration": 663,
    "start_time": "2022-01-27T13:41:16.768Z"
   },
   {
    "duration": 631,
    "start_time": "2022-01-27T13:41:17.433Z"
   },
   {
    "duration": 39,
    "start_time": "2022-01-27T13:41:18.067Z"
   },
   {
    "duration": 11,
    "start_time": "2022-01-27T13:41:18.107Z"
   },
   {
    "duration": 81,
    "start_time": "2022-01-27T13:41:18.119Z"
   },
   {
    "duration": 5,
    "start_time": "2022-01-27T13:41:18.201Z"
   },
   {
    "duration": 9,
    "start_time": "2022-01-27T13:41:18.207Z"
   },
   {
    "duration": 7,
    "start_time": "2022-01-27T13:41:18.218Z"
   },
   {
    "duration": 15,
    "start_time": "2022-01-27T13:41:18.227Z"
   },
   {
    "duration": 9,
    "start_time": "2022-01-27T13:41:18.243Z"
   },
   {
    "duration": 4,
    "start_time": "2022-01-27T13:41:18.254Z"
   },
   {
    "duration": 38,
    "start_time": "2022-01-27T13:41:18.260Z"
   },
   {
    "duration": 10,
    "start_time": "2022-01-27T13:41:18.300Z"
   },
   {
    "duration": 9,
    "start_time": "2022-01-27T13:41:18.312Z"
   },
   {
    "duration": 12,
    "start_time": "2022-01-27T13:41:18.322Z"
   },
   {
    "duration": 7,
    "start_time": "2022-01-27T13:41:18.336Z"
   },
   {
    "duration": 6,
    "start_time": "2022-01-27T13:41:18.345Z"
   },
   {
    "duration": 44,
    "start_time": "2022-01-27T13:41:18.353Z"
   },
   {
    "duration": 13,
    "start_time": "2022-01-27T13:41:18.399Z"
   },
   {
    "duration": 6,
    "start_time": "2022-01-27T13:41:18.414Z"
   },
   {
    "duration": 11,
    "start_time": "2022-01-27T13:41:18.422Z"
   },
   {
    "duration": 8,
    "start_time": "2022-01-27T13:41:18.435Z"
   },
   {
    "duration": 7,
    "start_time": "2022-01-27T13:41:18.447Z"
   },
   {
    "duration": 44,
    "start_time": "2022-01-27T13:41:18.456Z"
   },
   {
    "duration": 20,
    "start_time": "2022-01-27T13:41:18.502Z"
   },
   {
    "duration": 14,
    "start_time": "2022-01-27T13:41:18.524Z"
   },
   {
    "duration": 24,
    "start_time": "2022-01-27T13:41:18.539Z"
   },
   {
    "duration": 7,
    "start_time": "2022-01-27T13:41:18.565Z"
   },
   {
    "duration": 14,
    "start_time": "2022-01-27T13:41:18.573Z"
   },
   {
    "duration": 8,
    "start_time": "2022-01-27T13:41:18.596Z"
   },
   {
    "duration": 12,
    "start_time": "2022-01-27T13:41:18.605Z"
   },
   {
    "duration": 7,
    "start_time": "2022-01-27T13:41:18.619Z"
   },
   {
    "duration": 26,
    "start_time": "2022-01-27T13:41:18.628Z"
   },
   {
    "duration": 5,
    "start_time": "2022-01-27T13:41:18.656Z"
   },
   {
    "duration": 42,
    "start_time": "2022-01-27T13:41:18.662Z"
   },
   {
    "duration": 575,
    "start_time": "2022-01-27T13:41:18.706Z"
   },
   {
    "duration": 6,
    "start_time": "2022-01-27T13:41:19.282Z"
   },
   {
    "duration": 4,
    "start_time": "2022-01-27T13:41:19.296Z"
   },
   {
    "duration": 346,
    "start_time": "2022-01-27T13:41:19.302Z"
   },
   {
    "duration": 379,
    "start_time": "2022-01-27T13:41:19.650Z"
   },
   {
    "duration": 214,
    "start_time": "2022-01-27T13:41:20.032Z"
   },
   {
    "duration": 222,
    "start_time": "2022-01-27T13:41:20.249Z"
   },
   {
    "duration": 426,
    "start_time": "2022-01-27T13:41:20.473Z"
   },
   {
    "duration": 180,
    "start_time": "2022-01-27T13:41:20.900Z"
   },
   {
    "duration": 275,
    "start_time": "2022-01-27T13:41:21.081Z"
   },
   {
    "duration": 20,
    "start_time": "2022-01-27T13:41:21.357Z"
   },
   {
    "duration": 450,
    "start_time": "2022-01-27T13:41:21.379Z"
   },
   {
    "duration": 391,
    "start_time": "2022-01-27T13:41:21.831Z"
   },
   {
    "duration": 387,
    "start_time": "2022-01-27T13:41:22.224Z"
   },
   {
    "duration": 220,
    "start_time": "2022-01-27T13:41:22.612Z"
   },
   {
    "duration": 409,
    "start_time": "2022-01-27T13:41:22.834Z"
   },
   {
    "duration": 433,
    "start_time": "2022-01-27T13:41:23.245Z"
   },
   {
    "duration": 505,
    "start_time": "2022-01-27T13:41:23.679Z"
   },
   {
    "duration": 411,
    "start_time": "2022-01-27T13:41:24.186Z"
   },
   {
    "duration": 42,
    "start_time": "2022-01-27T13:41:24.599Z"
   },
   {
    "duration": 271,
    "start_time": "2022-01-27T13:41:24.643Z"
   },
   {
    "duration": 273,
    "start_time": "2022-01-27T13:41:24.915Z"
   },
   {
    "duration": 437,
    "start_time": "2022-01-27T13:41:25.197Z"
   },
   {
    "duration": 434,
    "start_time": "2022-01-27T13:41:25.635Z"
   },
   {
    "duration": 428,
    "start_time": "2022-01-27T13:41:26.071Z"
   },
   {
    "duration": 558,
    "start_time": "2022-01-27T13:41:26.500Z"
   },
   {
    "duration": 676,
    "start_time": "2022-01-27T13:41:27.060Z"
   },
   {
    "duration": 718,
    "start_time": "2022-01-27T13:41:27.738Z"
   },
   {
    "duration": 710,
    "start_time": "2022-01-27T13:41:28.458Z"
   },
   {
    "duration": 662,
    "start_time": "2022-01-27T13:41:29.170Z"
   },
   {
    "duration": 3357,
    "start_time": "2022-01-27T13:47:10.804Z"
   },
   {
    "duration": 5,
    "start_time": "2022-01-27T13:47:27.363Z"
   },
   {
    "duration": 136,
    "start_time": "2022-01-27T13:51:42.198Z"
   },
   {
    "duration": 8,
    "start_time": "2022-01-27T13:51:52.230Z"
   },
   {
    "duration": 8,
    "start_time": "2022-01-27T14:08:56.740Z"
   },
   {
    "duration": 8,
    "start_time": "2022-01-27T14:09:13.120Z"
   },
   {
    "duration": 8,
    "start_time": "2022-01-27T14:09:29.131Z"
   },
   {
    "duration": 9,
    "start_time": "2022-01-27T14:12:05.389Z"
   },
   {
    "duration": 8,
    "start_time": "2022-01-27T14:12:08.065Z"
   },
   {
    "duration": 10,
    "start_time": "2022-01-27T14:13:00.257Z"
   },
   {
    "duration": 7,
    "start_time": "2022-01-27T14:13:03.635Z"
   },
   {
    "duration": 10,
    "start_time": "2022-01-27T14:14:15.429Z"
   },
   {
    "duration": 8,
    "start_time": "2022-01-27T14:14:18.014Z"
   },
   {
    "duration": 650,
    "start_time": "2022-01-27T14:19:26.719Z"
   },
   {
    "duration": 641,
    "start_time": "2022-01-27T14:19:27.371Z"
   },
   {
    "duration": 28,
    "start_time": "2022-01-27T14:19:28.014Z"
   },
   {
    "duration": 10,
    "start_time": "2022-01-27T14:19:28.044Z"
   },
   {
    "duration": 89,
    "start_time": "2022-01-27T14:19:28.056Z"
   },
   {
    "duration": 6,
    "start_time": "2022-01-27T14:19:28.148Z"
   },
   {
    "duration": 19,
    "start_time": "2022-01-27T14:19:28.156Z"
   },
   {
    "duration": 20,
    "start_time": "2022-01-27T14:19:28.179Z"
   },
   {
    "duration": 29,
    "start_time": "2022-01-27T14:19:28.201Z"
   },
   {
    "duration": 9,
    "start_time": "2022-01-27T14:19:28.231Z"
   },
   {
    "duration": 7,
    "start_time": "2022-01-27T14:19:28.242Z"
   },
   {
    "duration": 10,
    "start_time": "2022-01-27T14:19:28.250Z"
   },
   {
    "duration": 8,
    "start_time": "2022-01-27T14:19:28.262Z"
   },
   {
    "duration": 27,
    "start_time": "2022-01-27T14:19:28.271Z"
   },
   {
    "duration": 19,
    "start_time": "2022-01-27T14:19:28.299Z"
   },
   {
    "duration": 9,
    "start_time": "2022-01-27T14:19:28.321Z"
   },
   {
    "duration": 17,
    "start_time": "2022-01-27T14:19:28.332Z"
   },
   {
    "duration": 12,
    "start_time": "2022-01-27T14:19:28.350Z"
   },
   {
    "duration": 36,
    "start_time": "2022-01-27T14:19:28.364Z"
   },
   {
    "duration": 8,
    "start_time": "2022-01-27T14:19:28.401Z"
   },
   {
    "duration": 18,
    "start_time": "2022-01-27T14:19:28.411Z"
   },
   {
    "duration": 18,
    "start_time": "2022-01-27T14:19:28.430Z"
   },
   {
    "duration": 9,
    "start_time": "2022-01-27T14:19:28.452Z"
   },
   {
    "duration": 6,
    "start_time": "2022-01-27T14:19:28.464Z"
   },
   {
    "duration": 32,
    "start_time": "2022-01-27T14:19:28.471Z"
   },
   {
    "duration": 12,
    "start_time": "2022-01-27T14:19:28.505Z"
   },
   {
    "duration": 22,
    "start_time": "2022-01-27T14:19:28.519Z"
   },
   {
    "duration": 58,
    "start_time": "2022-01-27T14:19:28.543Z"
   },
   {
    "duration": 8,
    "start_time": "2022-01-27T14:19:28.603Z"
   },
   {
    "duration": 16,
    "start_time": "2022-01-27T14:19:28.613Z"
   },
   {
    "duration": 16,
    "start_time": "2022-01-27T14:19:28.631Z"
   },
   {
    "duration": 25,
    "start_time": "2022-01-27T14:19:28.650Z"
   },
   {
    "duration": 21,
    "start_time": "2022-01-27T14:19:28.676Z"
   },
   {
    "duration": 9,
    "start_time": "2022-01-27T14:19:28.699Z"
   },
   {
    "duration": 9,
    "start_time": "2022-01-27T14:19:28.710Z"
   },
   {
    "duration": 31,
    "start_time": "2022-01-27T14:19:28.721Z"
   },
   {
    "duration": 6,
    "start_time": "2022-01-27T14:19:28.754Z"
   },
   {
    "duration": 47,
    "start_time": "2022-01-27T14:19:28.762Z"
   },
   {
    "duration": 586,
    "start_time": "2022-01-27T14:19:28.811Z"
   },
   {
    "duration": 5,
    "start_time": "2022-01-27T14:19:29.399Z"
   },
   {
    "duration": 7,
    "start_time": "2022-01-27T14:19:29.405Z"
   },
   {
    "duration": 359,
    "start_time": "2022-01-27T14:19:29.414Z"
   },
   {
    "duration": 384,
    "start_time": "2022-01-27T14:19:29.775Z"
   },
   {
    "duration": 227,
    "start_time": "2022-01-27T14:19:30.161Z"
   },
   {
    "duration": 221,
    "start_time": "2022-01-27T14:19:30.390Z"
   },
   {
    "duration": 435,
    "start_time": "2022-01-27T14:19:30.613Z"
   },
   {
    "duration": 199,
    "start_time": "2022-01-27T14:19:31.050Z"
   },
   {
    "duration": 306,
    "start_time": "2022-01-27T14:19:31.251Z"
   },
   {
    "duration": 22,
    "start_time": "2022-01-27T14:19:31.559Z"
   },
   {
    "duration": 445,
    "start_time": "2022-01-27T14:19:31.583Z"
   },
   {
    "duration": 424,
    "start_time": "2022-01-27T14:19:32.030Z"
   },
   {
    "duration": 486,
    "start_time": "2022-01-27T14:19:32.456Z"
   },
   {
    "duration": 238,
    "start_time": "2022-01-27T14:19:32.944Z"
   },
   {
    "duration": 449,
    "start_time": "2022-01-27T14:19:33.184Z"
   },
   {
    "duration": 434,
    "start_time": "2022-01-27T14:19:33.635Z"
   },
   {
    "duration": 528,
    "start_time": "2022-01-27T14:19:34.071Z"
   },
   {
    "duration": 439,
    "start_time": "2022-01-27T14:19:34.601Z"
   },
   {
    "duration": 41,
    "start_time": "2022-01-27T14:19:35.042Z"
   },
   {
    "duration": 279,
    "start_time": "2022-01-27T14:19:35.085Z"
   },
   {
    "duration": 302,
    "start_time": "2022-01-27T14:19:35.366Z"
   },
   {
    "duration": 471,
    "start_time": "2022-01-27T14:19:35.670Z"
   },
   {
    "duration": 461,
    "start_time": "2022-01-27T14:19:36.142Z"
   },
   {
    "duration": 432,
    "start_time": "2022-01-27T14:19:36.605Z"
   },
   {
    "duration": 523,
    "start_time": "2022-01-27T14:19:37.039Z"
   },
   {
    "duration": 771,
    "start_time": "2022-01-27T14:19:37.564Z"
   },
   {
    "duration": 746,
    "start_time": "2022-01-27T14:19:38.337Z"
   },
   {
    "duration": 688,
    "start_time": "2022-01-27T14:19:39.086Z"
   },
   {
    "duration": 684,
    "start_time": "2022-01-27T14:19:39.780Z"
   },
   {
    "duration": 5,
    "start_time": "2022-01-27T14:21:27.430Z"
   },
   {
    "duration": 690,
    "start_time": "2022-01-27T14:27:03.279Z"
   },
   {
    "duration": 686,
    "start_time": "2022-01-27T14:27:03.971Z"
   },
   {
    "duration": 38,
    "start_time": "2022-01-27T14:27:04.659Z"
   },
   {
    "duration": 12,
    "start_time": "2022-01-27T14:27:04.699Z"
   },
   {
    "duration": 87,
    "start_time": "2022-01-27T14:27:04.713Z"
   },
   {
    "duration": 5,
    "start_time": "2022-01-27T14:27:04.802Z"
   },
   {
    "duration": 16,
    "start_time": "2022-01-27T14:27:04.809Z"
   },
   {
    "duration": 10,
    "start_time": "2022-01-27T14:27:04.826Z"
   },
   {
    "duration": 14,
    "start_time": "2022-01-27T14:27:04.840Z"
   },
   {
    "duration": 14,
    "start_time": "2022-01-27T14:27:04.857Z"
   },
   {
    "duration": 27,
    "start_time": "2022-01-27T14:27:04.873Z"
   },
   {
    "duration": 10,
    "start_time": "2022-01-27T14:27:04.902Z"
   },
   {
    "duration": 9,
    "start_time": "2022-01-27T14:27:04.914Z"
   },
   {
    "duration": 8,
    "start_time": "2022-01-27T14:27:04.925Z"
   },
   {
    "duration": 11,
    "start_time": "2022-01-27T14:27:04.935Z"
   },
   {
    "duration": 52,
    "start_time": "2022-01-27T14:27:04.948Z"
   },
   {
    "duration": 9,
    "start_time": "2022-01-27T14:27:05.001Z"
   },
   {
    "duration": 17,
    "start_time": "2022-01-27T14:27:05.012Z"
   },
   {
    "duration": 17,
    "start_time": "2022-01-27T14:27:05.031Z"
   },
   {
    "duration": 8,
    "start_time": "2022-01-27T14:27:05.051Z"
   },
   {
    "duration": 43,
    "start_time": "2022-01-27T14:27:05.060Z"
   },
   {
    "duration": 10,
    "start_time": "2022-01-27T14:27:05.104Z"
   },
   {
    "duration": 8,
    "start_time": "2022-01-27T14:27:05.116Z"
   },
   {
    "duration": 3,
    "start_time": "2022-01-27T14:27:05.126Z"
   },
   {
    "duration": 14,
    "start_time": "2022-01-27T14:27:05.131Z"
   },
   {
    "duration": 6,
    "start_time": "2022-01-27T14:27:05.147Z"
   },
   {
    "duration": 9,
    "start_time": "2022-01-27T14:27:05.200Z"
   },
   {
    "duration": 66,
    "start_time": "2022-01-27T14:27:05.211Z"
   },
   {
    "duration": 6,
    "start_time": "2022-01-27T14:27:05.298Z"
   },
   {
    "duration": 10,
    "start_time": "2022-01-27T14:27:05.306Z"
   },
   {
    "duration": 8,
    "start_time": "2022-01-27T14:27:05.318Z"
   },
   {
    "duration": 7,
    "start_time": "2022-01-27T14:27:05.328Z"
   },
   {
    "duration": 12,
    "start_time": "2022-01-27T14:27:05.337Z"
   },
   {
    "duration": 10,
    "start_time": "2022-01-27T14:27:05.351Z"
   },
   {
    "duration": 8,
    "start_time": "2022-01-27T14:27:05.398Z"
   },
   {
    "duration": 7,
    "start_time": "2022-01-27T14:27:05.408Z"
   },
   {
    "duration": 31,
    "start_time": "2022-01-27T14:27:05.417Z"
   },
   {
    "duration": 11,
    "start_time": "2022-01-27T14:27:05.449Z"
   },
   {
    "duration": 37,
    "start_time": "2022-01-27T14:27:05.462Z"
   },
   {
    "duration": 561,
    "start_time": "2022-01-27T14:27:05.501Z"
   },
   {
    "duration": 4,
    "start_time": "2022-01-27T14:27:06.064Z"
   },
   {
    "duration": 23,
    "start_time": "2022-01-27T14:27:06.070Z"
   },
   {
    "duration": 380,
    "start_time": "2022-01-27T14:27:06.094Z"
   },
   {
    "duration": 387,
    "start_time": "2022-01-27T14:27:06.476Z"
   },
   {
    "duration": 239,
    "start_time": "2022-01-27T14:27:06.865Z"
   },
   {
    "duration": 227,
    "start_time": "2022-01-27T14:27:07.106Z"
   },
   {
    "duration": 455,
    "start_time": "2022-01-27T14:27:07.335Z"
   },
   {
    "duration": 192,
    "start_time": "2022-01-27T14:27:07.792Z"
   },
   {
    "duration": 297,
    "start_time": "2022-01-27T14:27:07.986Z"
   },
   {
    "duration": 30,
    "start_time": "2022-01-27T14:27:08.284Z"
   },
   {
    "duration": 419,
    "start_time": "2022-01-27T14:27:08.316Z"
   },
   {
    "duration": 424,
    "start_time": "2022-01-27T14:27:08.737Z"
   },
   {
    "duration": 437,
    "start_time": "2022-01-27T14:27:09.163Z"
   },
   {
    "duration": 233,
    "start_time": "2022-01-27T14:27:09.602Z"
   },
   {
    "duration": 431,
    "start_time": "2022-01-27T14:27:09.837Z"
   },
   {
    "duration": 431,
    "start_time": "2022-01-27T14:27:10.269Z"
   },
   {
    "duration": 497,
    "start_time": "2022-01-27T14:27:10.702Z"
   },
   {
    "duration": 412,
    "start_time": "2022-01-27T14:27:11.201Z"
   },
   {
    "duration": 42,
    "start_time": "2022-01-27T14:27:11.616Z"
   },
   {
    "duration": 280,
    "start_time": "2022-01-27T14:27:11.660Z"
   },
   {
    "duration": 278,
    "start_time": "2022-01-27T14:27:11.942Z"
   },
   {
    "duration": 442,
    "start_time": "2022-01-27T14:27:12.222Z"
   },
   {
    "duration": 450,
    "start_time": "2022-01-27T14:27:12.666Z"
   },
   {
    "duration": 428,
    "start_time": "2022-01-27T14:27:13.118Z"
   },
   {
    "duration": 534,
    "start_time": "2022-01-27T14:27:13.549Z"
   },
   {
    "duration": 658,
    "start_time": "2022-01-27T14:27:14.086Z"
   },
   {
    "duration": 728,
    "start_time": "2022-01-27T14:27:14.747Z"
   },
   {
    "duration": 702,
    "start_time": "2022-01-27T14:27:15.477Z"
   },
   {
    "duration": 652,
    "start_time": "2022-01-27T14:27:16.181Z"
   },
   {
    "duration": 651,
    "start_time": "2022-01-27T14:35:29.832Z"
   },
   {
    "duration": 708,
    "start_time": "2022-01-27T14:35:30.485Z"
   },
   {
    "duration": 31,
    "start_time": "2022-01-27T14:35:31.197Z"
   },
   {
    "duration": 13,
    "start_time": "2022-01-27T14:35:31.230Z"
   },
   {
    "duration": 101,
    "start_time": "2022-01-27T14:35:31.246Z"
   },
   {
    "duration": 6,
    "start_time": "2022-01-27T14:35:31.349Z"
   },
   {
    "duration": 17,
    "start_time": "2022-01-27T14:35:31.357Z"
   },
   {
    "duration": 10,
    "start_time": "2022-01-27T14:35:31.376Z"
   },
   {
    "duration": 12,
    "start_time": "2022-01-27T14:35:31.396Z"
   },
   {
    "duration": 19,
    "start_time": "2022-01-27T14:35:31.410Z"
   },
   {
    "duration": 11,
    "start_time": "2022-01-27T14:35:31.430Z"
   },
   {
    "duration": 17,
    "start_time": "2022-01-27T14:35:31.442Z"
   },
   {
    "duration": 8,
    "start_time": "2022-01-27T14:35:31.461Z"
   },
   {
    "duration": 30,
    "start_time": "2022-01-27T14:35:31.471Z"
   },
   {
    "duration": 12,
    "start_time": "2022-01-27T14:35:31.503Z"
   },
   {
    "duration": 12,
    "start_time": "2022-01-27T14:35:31.517Z"
   },
   {
    "duration": 9,
    "start_time": "2022-01-27T14:35:31.530Z"
   },
   {
    "duration": 9,
    "start_time": "2022-01-27T14:35:31.541Z"
   },
   {
    "duration": 46,
    "start_time": "2022-01-27T14:35:31.552Z"
   },
   {
    "duration": 8,
    "start_time": "2022-01-27T14:35:31.600Z"
   },
   {
    "duration": 7,
    "start_time": "2022-01-27T14:35:31.610Z"
   },
   {
    "duration": 8,
    "start_time": "2022-01-27T14:35:31.619Z"
   },
   {
    "duration": 15,
    "start_time": "2022-01-27T14:35:31.629Z"
   },
   {
    "duration": 3,
    "start_time": "2022-01-27T14:35:31.645Z"
   },
   {
    "duration": 51,
    "start_time": "2022-01-27T14:35:31.650Z"
   },
   {
    "duration": 7,
    "start_time": "2022-01-27T14:35:31.702Z"
   },
   {
    "duration": 9,
    "start_time": "2022-01-27T14:35:31.712Z"
   },
   {
    "duration": 153,
    "start_time": "2022-01-27T14:35:31.723Z"
   },
   {
    "duration": 5,
    "start_time": "2022-01-27T14:35:31.878Z"
   },
   {
    "duration": 15,
    "start_time": "2022-01-27T14:35:31.885Z"
   },
   {
    "duration": 9,
    "start_time": "2022-01-27T14:35:31.901Z"
   },
   {
    "duration": 11,
    "start_time": "2022-01-27T14:35:31.911Z"
   },
   {
    "duration": 31,
    "start_time": "2022-01-27T14:35:31.924Z"
   },
   {
    "duration": 18,
    "start_time": "2022-01-27T14:35:31.957Z"
   },
   {
    "duration": 13,
    "start_time": "2022-01-27T14:35:31.977Z"
   },
   {
    "duration": 17,
    "start_time": "2022-01-27T14:35:31.992Z"
   },
   {
    "duration": 43,
    "start_time": "2022-01-27T14:35:32.011Z"
   },
   {
    "duration": 7,
    "start_time": "2022-01-27T14:35:32.056Z"
   },
   {
    "duration": 39,
    "start_time": "2022-01-27T14:35:32.065Z"
   },
   {
    "duration": 569,
    "start_time": "2022-01-27T14:35:32.106Z"
   },
   {
    "duration": 5,
    "start_time": "2022-01-27T14:35:32.677Z"
   },
   {
    "duration": 18,
    "start_time": "2022-01-27T14:35:32.683Z"
   },
   {
    "duration": 374,
    "start_time": "2022-01-27T14:35:32.702Z"
   },
   {
    "duration": 398,
    "start_time": "2022-01-27T14:35:33.078Z"
   },
   {
    "duration": 224,
    "start_time": "2022-01-27T14:35:33.479Z"
   },
   {
    "duration": 222,
    "start_time": "2022-01-27T14:35:33.705Z"
   },
   {
    "duration": 431,
    "start_time": "2022-01-27T14:35:33.929Z"
   },
   {
    "duration": 189,
    "start_time": "2022-01-27T14:35:34.362Z"
   },
   {
    "duration": 281,
    "start_time": "2022-01-27T14:35:34.553Z"
   },
   {
    "duration": 22,
    "start_time": "2022-01-27T14:35:34.836Z"
   },
   {
    "duration": 468,
    "start_time": "2022-01-27T14:35:34.859Z"
   },
   {
    "duration": 397,
    "start_time": "2022-01-27T14:35:35.329Z"
   },
   {
    "duration": 404,
    "start_time": "2022-01-27T14:35:35.728Z"
   },
   {
    "duration": 226,
    "start_time": "2022-01-27T14:35:36.134Z"
   },
   {
    "duration": 438,
    "start_time": "2022-01-27T14:35:36.362Z"
   },
   {
    "duration": 408,
    "start_time": "2022-01-27T14:35:36.802Z"
   },
   {
    "duration": 496,
    "start_time": "2022-01-27T14:35:37.213Z"
   },
   {
    "duration": 397,
    "start_time": "2022-01-27T14:35:37.712Z"
   },
   {
    "duration": 42,
    "start_time": "2022-01-27T14:35:38.112Z"
   },
   {
    "duration": 284,
    "start_time": "2022-01-27T14:35:38.156Z"
   },
   {
    "duration": 283,
    "start_time": "2022-01-27T14:35:38.442Z"
   },
   {
    "duration": 453,
    "start_time": "2022-01-27T14:35:38.727Z"
   },
   {
    "duration": 444,
    "start_time": "2022-01-27T14:35:39.182Z"
   },
   {
    "duration": 420,
    "start_time": "2022-01-27T14:35:39.628Z"
   },
   {
    "duration": 521,
    "start_time": "2022-01-27T14:35:40.051Z"
   },
   {
    "duration": 673,
    "start_time": "2022-01-27T14:35:40.574Z"
   },
   {
    "duration": 709,
    "start_time": "2022-01-27T14:35:41.249Z"
   },
   {
    "duration": 709,
    "start_time": "2022-01-27T14:35:41.960Z"
   },
   {
    "duration": 687,
    "start_time": "2022-01-27T14:35:42.670Z"
   },
   {
    "duration": 329,
    "start_time": "2022-01-28T12:30:34.966Z"
   },
   {
    "duration": 706,
    "start_time": "2022-01-28T12:30:49.318Z"
   },
   {
    "duration": 559,
    "start_time": "2022-01-28T12:30:50.026Z"
   },
   {
    "duration": 25,
    "start_time": "2022-01-28T12:30:50.588Z"
   },
   {
    "duration": 19,
    "start_time": "2022-01-28T12:30:50.614Z"
   },
   {
    "duration": 59,
    "start_time": "2022-01-28T12:30:50.635Z"
   },
   {
    "duration": 5,
    "start_time": "2022-01-28T12:30:50.696Z"
   },
   {
    "duration": 6,
    "start_time": "2022-01-28T12:30:50.728Z"
   },
   {
    "duration": 7,
    "start_time": "2022-01-28T12:30:50.737Z"
   },
   {
    "duration": 11,
    "start_time": "2022-01-28T12:30:50.745Z"
   },
   {
    "duration": 8,
    "start_time": "2022-01-28T12:30:50.758Z"
   },
   {
    "duration": 7,
    "start_time": "2022-01-28T12:30:50.767Z"
   },
   {
    "duration": 10,
    "start_time": "2022-01-28T12:30:50.775Z"
   },
   {
    "duration": 44,
    "start_time": "2022-01-28T12:30:50.787Z"
   },
   {
    "duration": 6,
    "start_time": "2022-01-28T12:30:50.832Z"
   },
   {
    "duration": 13,
    "start_time": "2022-01-28T12:30:50.840Z"
   },
   {
    "duration": 9,
    "start_time": "2022-01-28T12:30:50.855Z"
   },
   {
    "duration": 7,
    "start_time": "2022-01-28T12:30:50.865Z"
   },
   {
    "duration": 13,
    "start_time": "2022-01-28T12:30:50.874Z"
   },
   {
    "duration": 40,
    "start_time": "2022-01-28T12:30:50.888Z"
   },
   {
    "duration": 7,
    "start_time": "2022-01-28T12:30:50.929Z"
   },
   {
    "duration": 8,
    "start_time": "2022-01-28T12:30:50.937Z"
   },
   {
    "duration": 6,
    "start_time": "2022-01-28T12:30:50.947Z"
   },
   {
    "duration": 7,
    "start_time": "2022-01-28T12:30:50.957Z"
   },
   {
    "duration": 4,
    "start_time": "2022-01-28T12:30:50.966Z"
   },
   {
    "duration": 10,
    "start_time": "2022-01-28T12:30:50.971Z"
   },
   {
    "duration": 5,
    "start_time": "2022-01-28T12:30:50.983Z"
   },
   {
    "duration": 8,
    "start_time": "2022-01-28T12:30:51.028Z"
   },
   {
    "duration": 125,
    "start_time": "2022-01-28T12:30:51.037Z"
   },
   {
    "duration": 4,
    "start_time": "2022-01-28T12:30:51.164Z"
   },
   {
    "duration": 10,
    "start_time": "2022-01-28T12:30:51.170Z"
   },
   {
    "duration": 7,
    "start_time": "2022-01-28T12:30:51.181Z"
   },
   {
    "duration": 8,
    "start_time": "2022-01-28T12:30:51.189Z"
   },
   {
    "duration": 7,
    "start_time": "2022-01-28T12:30:51.227Z"
   },
   {
    "duration": 8,
    "start_time": "2022-01-28T12:30:51.236Z"
   },
   {
    "duration": 8,
    "start_time": "2022-01-28T12:30:51.245Z"
   },
   {
    "duration": 8,
    "start_time": "2022-01-28T12:30:51.254Z"
   },
   {
    "duration": 24,
    "start_time": "2022-01-28T12:30:51.264Z"
   },
   {
    "duration": 44,
    "start_time": "2022-01-28T12:30:51.289Z"
   },
   {
    "duration": 11,
    "start_time": "2022-01-28T12:30:51.334Z"
   },
   {
    "duration": 540,
    "start_time": "2022-01-28T12:30:51.346Z"
   },
   {
    "duration": 4,
    "start_time": "2022-01-28T12:30:51.888Z"
   },
   {
    "duration": 9,
    "start_time": "2022-01-28T12:30:51.893Z"
   },
   {
    "duration": 288,
    "start_time": "2022-01-28T12:30:51.903Z"
   },
   {
    "duration": 330,
    "start_time": "2022-01-28T12:30:52.192Z"
   },
   {
    "duration": 304,
    "start_time": "2022-01-28T12:30:52.526Z"
   },
   {
    "duration": 253,
    "start_time": "2022-01-28T12:30:52.831Z"
   },
   {
    "duration": 208,
    "start_time": "2022-01-28T12:30:53.086Z"
   },
   {
    "duration": 313,
    "start_time": "2022-01-28T12:30:53.296Z"
   },
   {
    "duration": 162,
    "start_time": "2022-01-28T12:30:53.611Z"
   },
   {
    "duration": 247,
    "start_time": "2022-01-28T12:30:53.774Z"
   },
   {
    "duration": 19,
    "start_time": "2022-01-28T12:30:54.023Z"
   },
   {
    "duration": 369,
    "start_time": "2022-01-28T12:30:54.044Z"
   },
   {
    "duration": 384,
    "start_time": "2022-01-28T12:30:54.415Z"
   },
   {
    "duration": 387,
    "start_time": "2022-01-28T12:30:54.801Z"
   },
   {
    "duration": 286,
    "start_time": "2022-01-28T12:30:55.190Z"
   },
   {
    "duration": 413,
    "start_time": "2022-01-28T12:30:55.478Z"
   },
   {
    "duration": 390,
    "start_time": "2022-01-28T12:30:55.893Z"
   },
   {
    "duration": 399,
    "start_time": "2022-01-28T12:30:56.285Z"
   },
   {
    "duration": 405,
    "start_time": "2022-01-28T12:30:56.686Z"
   },
   {
    "duration": 47,
    "start_time": "2022-01-28T12:30:57.093Z"
   },
   {
    "duration": 231,
    "start_time": "2022-01-28T12:30:57.142Z"
   },
   {
    "duration": 246,
    "start_time": "2022-01-28T12:30:57.374Z"
   },
   {
    "duration": 412,
    "start_time": "2022-01-28T12:30:57.621Z"
   },
   {
    "duration": 395,
    "start_time": "2022-01-28T12:30:58.035Z"
   },
   {
    "duration": 434,
    "start_time": "2022-01-28T12:30:58.432Z"
   },
   {
    "duration": 382,
    "start_time": "2022-01-28T12:30:58.868Z"
   },
   {
    "duration": 565,
    "start_time": "2022-01-28T12:30:59.251Z"
   },
   {
    "duration": 787,
    "start_time": "2022-01-28T12:30:59.821Z"
   },
   {
    "duration": 625,
    "start_time": "2022-01-28T12:31:00.610Z"
   },
   {
    "duration": 821,
    "start_time": "2022-01-28T12:31:01.237Z"
   },
   {
    "duration": 361,
    "start_time": "2022-01-28T12:36:53.468Z"
   },
   {
    "duration": 335,
    "start_time": "2022-01-28T12:37:20.943Z"
   },
   {
    "duration": 382,
    "start_time": "2022-01-28T12:37:37.912Z"
   },
   {
    "duration": 346,
    "start_time": "2022-01-28T12:37:49.797Z"
   },
   {
    "duration": 478,
    "start_time": "2022-01-28T12:39:46.354Z"
   },
   {
    "duration": 309,
    "start_time": "2022-01-28T12:42:23.018Z"
   },
   {
    "duration": 302,
    "start_time": "2022-01-28T12:46:10.344Z"
   },
   {
    "duration": 544,
    "start_time": "2022-01-28T12:48:28.489Z"
   },
   {
    "duration": 302,
    "start_time": "2022-01-28T12:49:30.519Z"
   },
   {
    "duration": 285,
    "start_time": "2022-01-28T12:50:02.949Z"
   },
   {
    "duration": 284,
    "start_time": "2022-01-28T12:50:13.755Z"
   },
   {
    "duration": 302,
    "start_time": "2022-01-28T12:50:56.374Z"
   },
   {
    "duration": 506,
    "start_time": "2022-01-28T12:51:03.762Z"
   },
   {
    "duration": 295,
    "start_time": "2022-01-28T12:53:26.366Z"
   },
   {
    "duration": 307,
    "start_time": "2022-01-28T12:54:11.883Z"
   },
   {
    "duration": 308,
    "start_time": "2022-01-28T12:54:28.559Z"
   },
   {
    "duration": 307,
    "start_time": "2022-01-28T12:56:27.338Z"
   },
   {
    "duration": 170,
    "start_time": "2022-01-28T12:58:05.791Z"
   },
   {
    "duration": 173,
    "start_time": "2022-01-28T12:59:08.909Z"
   },
   {
    "duration": 280,
    "start_time": "2022-01-28T13:32:05.740Z"
   },
   {
    "duration": 6,
    "start_time": "2022-01-28T13:32:41.960Z"
   },
   {
    "duration": 471,
    "start_time": "2022-01-28T13:33:07.256Z"
   },
   {
    "duration": 183,
    "start_time": "2022-01-28T13:39:01.894Z"
   },
   {
    "duration": 176,
    "start_time": "2022-01-28T13:43:50.331Z"
   },
   {
    "duration": 178,
    "start_time": "2022-01-28T13:44:06.196Z"
   },
   {
    "duration": 169,
    "start_time": "2022-01-28T13:44:36.508Z"
   },
   {
    "duration": 288,
    "start_time": "2022-01-28T13:44:51.959Z"
   },
   {
    "duration": 85,
    "start_time": "2022-01-28T13:51:21.419Z"
   },
   {
    "duration": 32,
    "start_time": "2022-01-28T13:52:50.082Z"
   },
   {
    "duration": 7,
    "start_time": "2022-01-28T13:54:22.218Z"
   },
   {
    "duration": 23,
    "start_time": "2022-01-28T13:54:39.312Z"
   },
   {
    "duration": 7405,
    "start_time": "2022-01-28T13:54:50.198Z"
   },
   {
    "duration": 8,
    "start_time": "2022-01-28T13:55:07.100Z"
   },
   {
    "duration": 8,
    "start_time": "2022-01-28T13:55:40.645Z"
   },
   {
    "duration": 8,
    "start_time": "2022-01-28T13:55:49.487Z"
   },
   {
    "duration": 9,
    "start_time": "2022-01-28T13:57:02.507Z"
   },
   {
    "duration": 9,
    "start_time": "2022-01-28T13:57:20.701Z"
   },
   {
    "duration": 7,
    "start_time": "2022-01-28T14:02:04.501Z"
   },
   {
    "duration": 10,
    "start_time": "2022-01-28T14:02:23.612Z"
   },
   {
    "duration": 9,
    "start_time": "2022-01-28T14:02:43.221Z"
   },
   {
    "duration": 8,
    "start_time": "2022-01-28T14:03:13.132Z"
   },
   {
    "duration": 9,
    "start_time": "2022-01-28T14:04:24.953Z"
   },
   {
    "duration": 9,
    "start_time": "2022-01-28T14:04:39.147Z"
   },
   {
    "duration": 11,
    "start_time": "2022-01-28T14:04:43.604Z"
   },
   {
    "duration": 9,
    "start_time": "2022-01-28T14:08:38.621Z"
   },
   {
    "duration": 9,
    "start_time": "2022-01-28T14:08:55.161Z"
   },
   {
    "duration": 9,
    "start_time": "2022-01-28T14:09:03.056Z"
   },
   {
    "duration": 511,
    "start_time": "2022-01-28T14:09:46.301Z"
   },
   {
    "duration": 167,
    "start_time": "2022-01-28T14:10:10.500Z"
   },
   {
    "duration": 229,
    "start_time": "2022-01-28T14:10:18.372Z"
   },
   {
    "duration": 281,
    "start_time": "2022-01-28T14:14:09.631Z"
   },
   {
    "duration": 318,
    "start_time": "2022-01-28T14:14:40.922Z"
   },
   {
    "duration": 280,
    "start_time": "2022-01-28T14:18:31.450Z"
   },
   {
    "duration": 298,
    "start_time": "2022-01-28T14:18:50.767Z"
   },
   {
    "duration": 279,
    "start_time": "2022-01-28T14:18:57.310Z"
   },
   {
    "duration": 279,
    "start_time": "2022-01-28T14:21:36.605Z"
   },
   {
    "duration": 293,
    "start_time": "2022-01-28T14:23:52.570Z"
   },
   {
    "duration": 7,
    "start_time": "2022-01-28T14:25:20.273Z"
   },
   {
    "duration": 5,
    "start_time": "2022-01-28T14:25:43.871Z"
   },
   {
    "duration": 9,
    "start_time": "2022-01-28T14:25:50.120Z"
   },
   {
    "duration": 6,
    "start_time": "2022-01-28T14:26:28.312Z"
   },
   {
    "duration": 9,
    "start_time": "2022-01-28T14:26:38.987Z"
   },
   {
    "duration": 98,
    "start_time": "2022-01-28T14:27:04.178Z"
   },
   {
    "duration": 4,
    "start_time": "2022-01-28T14:27:15.874Z"
   },
   {
    "duration": 7,
    "start_time": "2022-01-28T14:27:22.385Z"
   },
   {
    "duration": 2362,
    "start_time": "2022-01-28T14:28:20.036Z"
   },
   {
    "duration": 10,
    "start_time": "2022-01-28T14:28:46.897Z"
   },
   {
    "duration": 6,
    "start_time": "2022-01-28T14:30:03.053Z"
   },
   {
    "duration": 9,
    "start_time": "2022-01-28T14:30:09.811Z"
   },
   {
    "duration": 922,
    "start_time": "2022-01-28T14:35:10.846Z"
   },
   {
    "duration": 3,
    "start_time": "2022-01-28T14:37:54.939Z"
   },
   {
    "duration": 9,
    "start_time": "2022-01-28T14:38:19.658Z"
   },
   {
    "duration": 10,
    "start_time": "2022-01-28T14:38:39.363Z"
   },
   {
    "duration": 12,
    "start_time": "2022-01-28T14:41:04.851Z"
   },
   {
    "duration": 8,
    "start_time": "2022-01-28T14:41:15.906Z"
   },
   {
    "duration": 38,
    "start_time": "2022-01-28T14:41:29.543Z"
   },
   {
    "duration": 13,
    "start_time": "2022-01-28T14:41:49.320Z"
   },
   {
    "duration": 93,
    "start_time": "2022-01-28T14:42:06.915Z"
   },
   {
    "duration": 13,
    "start_time": "2022-01-28T14:42:11.794Z"
   },
   {
    "duration": 40,
    "start_time": "2022-01-28T14:42:37.885Z"
   },
   {
    "duration": 30,
    "start_time": "2022-01-28T14:42:59.856Z"
   },
   {
    "duration": 13,
    "start_time": "2022-01-28T14:43:19.445Z"
   },
   {
    "duration": 16,
    "start_time": "2022-01-28T14:44:20.829Z"
   },
   {
    "duration": 13,
    "start_time": "2022-01-28T14:44:29.522Z"
   },
   {
    "duration": 269,
    "start_time": "2022-01-28T14:46:21.774Z"
   },
   {
    "duration": 15,
    "start_time": "2022-01-28T14:46:54.967Z"
   },
   {
    "duration": 14,
    "start_time": "2022-01-28T14:47:02.254Z"
   },
   {
    "duration": 21,
    "start_time": "2022-01-28T14:47:19.439Z"
   },
   {
    "duration": 15,
    "start_time": "2022-01-28T14:47:42.599Z"
   },
   {
    "duration": 20,
    "start_time": "2022-01-28T14:47:49.686Z"
   },
   {
    "duration": 20,
    "start_time": "2022-01-28T14:48:04.295Z"
   },
   {
    "duration": 14,
    "start_time": "2022-01-28T14:48:10.353Z"
   },
   {
    "duration": 14,
    "start_time": "2022-01-28T14:48:20.553Z"
   },
   {
    "duration": 14,
    "start_time": "2022-01-28T14:48:30.200Z"
   },
   {
    "duration": 14,
    "start_time": "2022-01-28T14:48:35.951Z"
   },
   {
    "duration": 32,
    "start_time": "2022-01-28T14:48:42.111Z"
   },
   {
    "duration": 32,
    "start_time": "2022-01-28T14:49:37.891Z"
   },
   {
    "duration": 674,
    "start_time": "2022-01-29T06:40:13.834Z"
   },
   {
    "duration": 626,
    "start_time": "2022-01-29T06:40:14.510Z"
   },
   {
    "duration": 35,
    "start_time": "2022-01-29T06:40:15.138Z"
   },
   {
    "duration": 20,
    "start_time": "2022-01-29T06:40:15.175Z"
   },
   {
    "duration": 84,
    "start_time": "2022-01-29T06:40:15.196Z"
   },
   {
    "duration": 5,
    "start_time": "2022-01-29T06:40:15.282Z"
   },
   {
    "duration": 18,
    "start_time": "2022-01-29T06:40:15.288Z"
   },
   {
    "duration": 39,
    "start_time": "2022-01-29T06:40:15.308Z"
   },
   {
    "duration": 36,
    "start_time": "2022-01-29T06:40:15.349Z"
   },
   {
    "duration": 46,
    "start_time": "2022-01-29T06:40:15.387Z"
   },
   {
    "duration": 33,
    "start_time": "2022-01-29T06:40:15.434Z"
   },
   {
    "duration": 31,
    "start_time": "2022-01-29T06:40:15.468Z"
   },
   {
    "duration": 58,
    "start_time": "2022-01-29T06:40:15.501Z"
   },
   {
    "duration": 65,
    "start_time": "2022-01-29T06:40:15.560Z"
   },
   {
    "duration": 79,
    "start_time": "2022-01-29T06:40:15.627Z"
   },
   {
    "duration": 59,
    "start_time": "2022-01-29T06:40:15.708Z"
   },
   {
    "duration": 50,
    "start_time": "2022-01-29T06:40:15.769Z"
   },
   {
    "duration": 25,
    "start_time": "2022-01-29T06:40:15.821Z"
   },
   {
    "duration": 71,
    "start_time": "2022-01-29T06:40:15.847Z"
   },
   {
    "duration": 37,
    "start_time": "2022-01-29T06:40:15.920Z"
   },
   {
    "duration": 31,
    "start_time": "2022-01-29T06:40:15.959Z"
   },
   {
    "duration": 50,
    "start_time": "2022-01-29T06:40:15.992Z"
   },
   {
    "duration": 74,
    "start_time": "2022-01-29T06:40:16.046Z"
   },
   {
    "duration": 19,
    "start_time": "2022-01-29T06:40:16.123Z"
   },
   {
    "duration": 45,
    "start_time": "2022-01-29T06:40:16.144Z"
   },
   {
    "duration": 60,
    "start_time": "2022-01-29T06:40:16.191Z"
   },
   {
    "duration": 43,
    "start_time": "2022-01-29T06:40:16.253Z"
   },
   {
    "duration": 184,
    "start_time": "2022-01-29T06:40:16.298Z"
   },
   {
    "duration": 6,
    "start_time": "2022-01-29T06:40:16.483Z"
   },
   {
    "duration": 44,
    "start_time": "2022-01-29T06:40:16.490Z"
   },
   {
    "duration": 46,
    "start_time": "2022-01-29T06:40:16.536Z"
   },
   {
    "duration": 43,
    "start_time": "2022-01-29T06:40:16.584Z"
   },
   {
    "duration": 27,
    "start_time": "2022-01-29T06:40:16.629Z"
   },
   {
    "duration": 31,
    "start_time": "2022-01-29T06:40:16.657Z"
   },
   {
    "duration": 11,
    "start_time": "2022-01-29T06:40:16.690Z"
   },
   {
    "duration": 41,
    "start_time": "2022-01-29T06:40:16.703Z"
   },
   {
    "duration": 49,
    "start_time": "2022-01-29T06:40:16.746Z"
   },
   {
    "duration": 10,
    "start_time": "2022-01-29T06:40:16.796Z"
   },
   {
    "duration": 29,
    "start_time": "2022-01-29T06:40:16.808Z"
   },
   {
    "duration": 584,
    "start_time": "2022-01-29T06:40:16.839Z"
   },
   {
    "duration": 4,
    "start_time": "2022-01-29T06:40:17.425Z"
   },
   {
    "duration": 36,
    "start_time": "2022-01-29T06:40:17.430Z"
   },
   {
    "duration": 389,
    "start_time": "2022-01-29T06:40:17.467Z"
   },
   {
    "duration": 352,
    "start_time": "2022-01-29T06:40:17.861Z"
   },
   {
    "duration": 198,
    "start_time": "2022-01-29T06:40:18.214Z"
   },
   {
    "duration": 210,
    "start_time": "2022-01-29T06:40:18.413Z"
   },
   {
    "duration": 7,
    "start_time": "2022-01-29T06:40:18.625Z"
   },
   {
    "duration": 420,
    "start_time": "2022-01-29T06:40:18.633Z"
   },
   {
    "duration": 339,
    "start_time": "2022-01-29T06:40:19.055Z"
   },
   {
    "duration": 12,
    "start_time": "2022-01-29T06:40:19.396Z"
   },
   {
    "duration": 195,
    "start_time": "2022-01-29T06:40:19.410Z"
   },
   {
    "duration": 291,
    "start_time": "2022-01-29T06:40:19.607Z"
   },
   {
    "duration": 39,
    "start_time": "2022-01-29T06:40:19.900Z"
   },
   {
    "duration": 373,
    "start_time": "2022-01-29T06:40:19.941Z"
   },
   {
    "duration": 775,
    "start_time": "2022-01-29T06:40:19.541Z"
   },
   {
    "duration": 770,
    "start_time": "2022-01-29T06:40:19.547Z"
   },
   {
    "duration": 764,
    "start_time": "2022-01-29T06:40:19.554Z"
   },
   {
    "duration": 758,
    "start_time": "2022-01-29T06:40:19.561Z"
   },
   {
    "duration": 753,
    "start_time": "2022-01-29T06:40:19.567Z"
   },
   {
    "duration": 747,
    "start_time": "2022-01-29T06:40:19.574Z"
   },
   {
    "duration": 741,
    "start_time": "2022-01-29T06:40:19.580Z"
   },
   {
    "duration": 737,
    "start_time": "2022-01-29T06:40:19.586Z"
   },
   {
    "duration": 732,
    "start_time": "2022-01-29T06:40:19.592Z"
   },
   {
    "duration": 726,
    "start_time": "2022-01-29T06:40:19.599Z"
   },
   {
    "duration": 720,
    "start_time": "2022-01-29T06:40:19.605Z"
   },
   {
    "duration": 714,
    "start_time": "2022-01-29T06:40:19.612Z"
   },
   {
    "duration": 709,
    "start_time": "2022-01-29T06:40:19.618Z"
   },
   {
    "duration": 703,
    "start_time": "2022-01-29T06:40:19.625Z"
   },
   {
    "duration": 698,
    "start_time": "2022-01-29T06:40:19.631Z"
   },
   {
    "duration": 682,
    "start_time": "2022-01-29T06:40:19.648Z"
   },
   {
    "duration": 676,
    "start_time": "2022-01-29T06:40:19.654Z"
   },
   {
    "duration": 669,
    "start_time": "2022-01-29T06:40:19.662Z"
   },
   {
    "duration": 664,
    "start_time": "2022-01-29T06:40:19.668Z"
   },
   {
    "duration": 11,
    "start_time": "2022-01-29T06:43:04.580Z"
   },
   {
    "duration": 36,
    "start_time": "2022-01-29T06:43:54.135Z"
   },
   {
    "duration": 33,
    "start_time": "2022-01-29T06:44:19.652Z"
   },
   {
    "duration": 930,
    "start_time": "2022-01-29T08:52:16.058Z"
   },
   {
    "duration": 648,
    "start_time": "2022-01-29T08:52:16.990Z"
   },
   {
    "duration": 37,
    "start_time": "2022-01-29T08:52:17.640Z"
   },
   {
    "duration": 12,
    "start_time": "2022-01-29T08:52:17.679Z"
   },
   {
    "duration": 84,
    "start_time": "2022-01-29T08:52:17.693Z"
   },
   {
    "duration": 5,
    "start_time": "2022-01-29T08:52:17.778Z"
   },
   {
    "duration": 32,
    "start_time": "2022-01-29T08:52:17.784Z"
   },
   {
    "duration": 37,
    "start_time": "2022-01-29T08:52:17.818Z"
   },
   {
    "duration": 16,
    "start_time": "2022-01-29T08:52:17.858Z"
   },
   {
    "duration": 11,
    "start_time": "2022-01-29T08:52:17.875Z"
   },
   {
    "duration": 6,
    "start_time": "2022-01-29T08:52:17.888Z"
   },
   {
    "duration": 13,
    "start_time": "2022-01-29T08:52:17.896Z"
   },
   {
    "duration": 8,
    "start_time": "2022-01-29T08:52:17.911Z"
   },
   {
    "duration": 7,
    "start_time": "2022-01-29T08:52:17.920Z"
   },
   {
    "duration": 35,
    "start_time": "2022-01-29T08:52:17.929Z"
   },
   {
    "duration": 10,
    "start_time": "2022-01-29T08:52:17.966Z"
   },
   {
    "duration": 9,
    "start_time": "2022-01-29T08:52:17.978Z"
   },
   {
    "duration": 13,
    "start_time": "2022-01-29T08:52:17.988Z"
   },
   {
    "duration": 30,
    "start_time": "2022-01-29T08:52:18.003Z"
   },
   {
    "duration": 29,
    "start_time": "2022-01-29T08:52:18.035Z"
   },
   {
    "duration": 8,
    "start_time": "2022-01-29T08:52:18.065Z"
   },
   {
    "duration": 10,
    "start_time": "2022-01-29T08:52:18.075Z"
   },
   {
    "duration": 14,
    "start_time": "2022-01-29T08:52:18.089Z"
   },
   {
    "duration": 11,
    "start_time": "2022-01-29T08:52:18.107Z"
   },
   {
    "duration": 15,
    "start_time": "2022-01-29T08:52:18.120Z"
   },
   {
    "duration": 8,
    "start_time": "2022-01-29T08:52:18.161Z"
   },
   {
    "duration": 21,
    "start_time": "2022-01-29T08:52:18.171Z"
   },
   {
    "duration": 139,
    "start_time": "2022-01-29T08:52:18.194Z"
   },
   {
    "duration": 7,
    "start_time": "2022-01-29T08:52:18.334Z"
   },
   {
    "duration": 24,
    "start_time": "2022-01-29T08:52:18.343Z"
   },
   {
    "duration": 8,
    "start_time": "2022-01-29T08:52:18.369Z"
   },
   {
    "duration": 9,
    "start_time": "2022-01-29T08:52:18.379Z"
   },
   {
    "duration": 7,
    "start_time": "2022-01-29T08:52:18.389Z"
   },
   {
    "duration": 9,
    "start_time": "2022-01-29T08:52:18.398Z"
   },
   {
    "duration": 8,
    "start_time": "2022-01-29T08:52:18.409Z"
   },
   {
    "duration": 42,
    "start_time": "2022-01-29T08:52:18.419Z"
   },
   {
    "duration": 26,
    "start_time": "2022-01-29T08:52:18.464Z"
   },
   {
    "duration": 8,
    "start_time": "2022-01-29T08:52:18.492Z"
   },
   {
    "duration": 14,
    "start_time": "2022-01-29T08:52:18.502Z"
   },
   {
    "duration": 584,
    "start_time": "2022-01-29T08:52:18.518Z"
   },
   {
    "duration": 4,
    "start_time": "2022-01-29T08:52:19.103Z"
   },
   {
    "duration": 38,
    "start_time": "2022-01-29T08:52:19.110Z"
   },
   {
    "duration": 354,
    "start_time": "2022-01-29T08:52:19.150Z"
   },
   {
    "duration": 346,
    "start_time": "2022-01-29T08:52:19.506Z"
   },
   {
    "duration": 210,
    "start_time": "2022-01-29T08:52:19.855Z"
   },
   {
    "duration": 204,
    "start_time": "2022-01-29T08:52:20.067Z"
   },
   {
    "duration": 8,
    "start_time": "2022-01-29T08:52:20.273Z"
   },
   {
    "duration": 417,
    "start_time": "2022-01-29T08:52:20.283Z"
   },
   {
    "duration": 335,
    "start_time": "2022-01-29T08:52:20.702Z"
   },
   {
    "duration": 288,
    "start_time": "2022-01-29T08:52:21.038Z"
   },
   {
    "duration": -10,
    "start_time": "2022-01-29T08:52:21.339Z"
   },
   {
    "duration": -15,
    "start_time": "2022-01-29T08:52:21.345Z"
   },
   {
    "duration": -18,
    "start_time": "2022-01-29T08:52:21.349Z"
   },
   {
    "duration": -21,
    "start_time": "2022-01-29T08:52:21.354Z"
   },
   {
    "duration": -24,
    "start_time": "2022-01-29T08:52:21.358Z"
   },
   {
    "duration": -28,
    "start_time": "2022-01-29T08:52:21.363Z"
   },
   {
    "duration": -30,
    "start_time": "2022-01-29T08:52:21.367Z"
   },
   {
    "duration": -33,
    "start_time": "2022-01-29T08:52:21.371Z"
   },
   {
    "duration": -37,
    "start_time": "2022-01-29T08:52:21.376Z"
   },
   {
    "duration": -39,
    "start_time": "2022-01-29T08:52:21.380Z"
   },
   {
    "duration": -42,
    "start_time": "2022-01-29T08:52:21.384Z"
   },
   {
    "duration": -45,
    "start_time": "2022-01-29T08:52:21.388Z"
   },
   {
    "duration": -49,
    "start_time": "2022-01-29T08:52:21.393Z"
   },
   {
    "duration": -52,
    "start_time": "2022-01-29T08:52:21.398Z"
   },
   {
    "duration": -54,
    "start_time": "2022-01-29T08:52:21.402Z"
   },
   {
    "duration": -57,
    "start_time": "2022-01-29T08:52:21.406Z"
   },
   {
    "duration": -60,
    "start_time": "2022-01-29T08:52:21.410Z"
   },
   {
    "duration": -71,
    "start_time": "2022-01-29T08:52:21.423Z"
   },
   {
    "duration": -74,
    "start_time": "2022-01-29T08:52:21.427Z"
   },
   {
    "duration": -77,
    "start_time": "2022-01-29T08:52:21.432Z"
   },
   {
    "duration": -79,
    "start_time": "2022-01-29T08:52:21.435Z"
   },
   {
    "duration": -82,
    "start_time": "2022-01-29T08:52:21.440Z"
   },
   {
    "duration": -86,
    "start_time": "2022-01-29T08:52:21.445Z"
   },
   {
    "duration": 223,
    "start_time": "2022-01-29T08:56:07.733Z"
   },
   {
    "duration": 245,
    "start_time": "2022-01-29T08:58:04.686Z"
   },
   {
    "duration": 18,
    "start_time": "2022-01-29T08:58:09.107Z"
   },
   {
    "duration": 11,
    "start_time": "2022-01-29T08:58:46.542Z"
   },
   {
    "duration": 12,
    "start_time": "2022-01-29T09:01:29.494Z"
   },
   {
    "duration": 336,
    "start_time": "2022-01-29T09:02:17.665Z"
   },
   {
    "duration": 220,
    "start_time": "2022-01-29T09:03:28.857Z"
   },
   {
    "duration": 212,
    "start_time": "2022-01-29T09:03:39.209Z"
   },
   {
    "duration": 69,
    "start_time": "2022-01-29T09:05:00.122Z"
   },
   {
    "duration": 21,
    "start_time": "2022-01-29T09:05:16.697Z"
   },
   {
    "duration": 329,
    "start_time": "2022-01-29T09:05:39.274Z"
   },
   {
    "duration": 205,
    "start_time": "2022-01-29T09:09:16.500Z"
   },
   {
    "duration": 246,
    "start_time": "2022-01-29T09:09:37.896Z"
   },
   {
    "duration": 78,
    "start_time": "2022-01-29T09:11:26.909Z"
   },
   {
    "duration": 71,
    "start_time": "2022-01-29T09:11:57.851Z"
   },
   {
    "duration": 21,
    "start_time": "2022-01-29T09:12:25.552Z"
   },
   {
    "duration": 85,
    "start_time": "2022-01-29T09:12:49.384Z"
   },
   {
    "duration": 22,
    "start_time": "2022-01-29T09:12:57.603Z"
   },
   {
    "duration": 38,
    "start_time": "2022-01-29T09:16:00.657Z"
   },
   {
    "duration": 22,
    "start_time": "2022-01-29T09:16:11.553Z"
   },
   {
    "duration": 18,
    "start_time": "2022-01-29T09:16:17.996Z"
   },
   {
    "duration": 709,
    "start_time": "2022-01-29T09:17:19.248Z"
   },
   {
    "duration": 660,
    "start_time": "2022-01-29T09:17:19.959Z"
   },
   {
    "duration": 25,
    "start_time": "2022-01-29T09:17:20.621Z"
   },
   {
    "duration": 20,
    "start_time": "2022-01-29T09:17:20.648Z"
   },
   {
    "duration": 78,
    "start_time": "2022-01-29T09:17:20.669Z"
   },
   {
    "duration": 12,
    "start_time": "2022-01-29T09:17:20.749Z"
   },
   {
    "duration": 19,
    "start_time": "2022-01-29T09:17:20.762Z"
   },
   {
    "duration": 23,
    "start_time": "2022-01-29T09:17:20.783Z"
   },
   {
    "duration": 39,
    "start_time": "2022-01-29T09:17:20.808Z"
   },
   {
    "duration": 18,
    "start_time": "2022-01-29T09:17:20.849Z"
   },
   {
    "duration": 20,
    "start_time": "2022-01-29T09:17:20.869Z"
   },
   {
    "duration": 38,
    "start_time": "2022-01-29T09:17:20.890Z"
   },
   {
    "duration": 21,
    "start_time": "2022-01-29T09:17:20.930Z"
   },
   {
    "duration": 32,
    "start_time": "2022-01-29T09:17:20.953Z"
   },
   {
    "duration": 28,
    "start_time": "2022-01-29T09:17:20.987Z"
   },
   {
    "duration": 17,
    "start_time": "2022-01-29T09:17:21.017Z"
   },
   {
    "duration": 25,
    "start_time": "2022-01-29T09:17:21.036Z"
   },
   {
    "duration": 60,
    "start_time": "2022-01-29T09:17:21.063Z"
   },
   {
    "duration": 22,
    "start_time": "2022-01-29T09:17:21.125Z"
   },
   {
    "duration": 31,
    "start_time": "2022-01-29T09:17:21.149Z"
   },
   {
    "duration": 22,
    "start_time": "2022-01-29T09:17:21.181Z"
   },
   {
    "duration": 20,
    "start_time": "2022-01-29T09:17:21.205Z"
   },
   {
    "duration": 34,
    "start_time": "2022-01-29T09:17:21.229Z"
   },
   {
    "duration": 38,
    "start_time": "2022-01-29T09:17:21.266Z"
   },
   {
    "duration": 23,
    "start_time": "2022-01-29T09:17:21.305Z"
   },
   {
    "duration": 29,
    "start_time": "2022-01-29T09:17:21.330Z"
   },
   {
    "duration": 31,
    "start_time": "2022-01-29T09:17:21.361Z"
   },
   {
    "duration": 135,
    "start_time": "2022-01-29T09:17:21.393Z"
   },
   {
    "duration": 6,
    "start_time": "2022-01-29T09:17:21.529Z"
   },
   {
    "duration": 27,
    "start_time": "2022-01-29T09:17:21.537Z"
   },
   {
    "duration": 58,
    "start_time": "2022-01-29T09:17:21.567Z"
   },
   {
    "duration": 44,
    "start_time": "2022-01-29T09:17:21.628Z"
   },
   {
    "duration": 13,
    "start_time": "2022-01-29T09:17:21.674Z"
   },
   {
    "duration": 44,
    "start_time": "2022-01-29T09:17:21.689Z"
   },
   {
    "duration": 29,
    "start_time": "2022-01-29T09:17:21.736Z"
   },
   {
    "duration": 21,
    "start_time": "2022-01-29T09:17:21.767Z"
   },
   {
    "duration": 71,
    "start_time": "2022-01-29T09:17:21.790Z"
   },
   {
    "duration": 9,
    "start_time": "2022-01-29T09:17:21.863Z"
   },
   {
    "duration": 34,
    "start_time": "2022-01-29T09:17:21.874Z"
   },
   {
    "duration": 569,
    "start_time": "2022-01-29T09:17:21.910Z"
   },
   {
    "duration": 5,
    "start_time": "2022-01-29T09:17:22.481Z"
   },
   {
    "duration": 8,
    "start_time": "2022-01-29T09:17:22.488Z"
   },
   {
    "duration": 347,
    "start_time": "2022-01-29T09:17:22.498Z"
   },
   {
    "duration": 363,
    "start_time": "2022-01-29T09:17:22.847Z"
   },
   {
    "duration": 207,
    "start_time": "2022-01-29T09:17:23.213Z"
   },
   {
    "duration": 220,
    "start_time": "2022-01-29T09:17:23.421Z"
   },
   {
    "duration": 19,
    "start_time": "2022-01-29T09:17:23.643Z"
   },
   {
    "duration": 425,
    "start_time": "2022-01-29T09:17:23.664Z"
   },
   {
    "duration": 328,
    "start_time": "2022-01-29T09:17:24.091Z"
   },
   {
    "duration": 9,
    "start_time": "2022-01-29T09:17:24.421Z"
   },
   {
    "duration": 189,
    "start_time": "2022-01-29T09:17:24.432Z"
   },
   {
    "duration": 278,
    "start_time": "2022-01-29T09:17:24.623Z"
   },
   {
    "duration": 15,
    "start_time": "2022-01-29T09:17:24.903Z"
   },
   {
    "duration": 41,
    "start_time": "2022-01-29T09:17:24.920Z"
   },
   {
    "duration": 395,
    "start_time": "2022-01-29T09:17:24.963Z"
   },
   {
    "duration": 374,
    "start_time": "2022-01-29T09:17:25.361Z"
   },
   {
    "duration": 426,
    "start_time": "2022-01-29T09:17:25.737Z"
   },
   {
    "duration": 276,
    "start_time": "2022-01-29T09:17:26.164Z"
   },
   {
    "duration": 443,
    "start_time": "2022-01-29T09:17:26.442Z"
   },
   {
    "duration": 401,
    "start_time": "2022-01-29T09:17:26.886Z"
   },
   {
    "duration": 397,
    "start_time": "2022-01-29T09:17:27.289Z"
   },
   {
    "duration": 363,
    "start_time": "2022-01-29T09:17:27.688Z"
   },
   {
    "duration": 37,
    "start_time": "2022-01-29T09:17:28.060Z"
   },
   {
    "duration": 247,
    "start_time": "2022-01-29T09:17:28.099Z"
   },
   {
    "duration": 253,
    "start_time": "2022-01-29T09:17:28.348Z"
   },
   {
    "duration": 423,
    "start_time": "2022-01-29T09:17:28.603Z"
   },
   {
    "duration": 415,
    "start_time": "2022-01-29T09:17:29.028Z"
   },
   {
    "duration": 481,
    "start_time": "2022-01-29T09:17:29.449Z"
   },
   {
    "duration": 408,
    "start_time": "2022-01-29T09:17:29.932Z"
   },
   {
    "duration": 628,
    "start_time": "2022-01-29T09:17:30.342Z"
   },
   {
    "duration": 628,
    "start_time": "2022-01-29T09:17:30.972Z"
   },
   {
    "duration": 681,
    "start_time": "2022-01-29T09:17:31.602Z"
   },
   {
    "duration": 601,
    "start_time": "2022-01-29T09:17:32.285Z"
   },
   {
    "duration": 321,
    "start_time": "2022-01-29T09:18:13.681Z"
   },
   {
    "duration": 446,
    "start_time": "2022-01-29T09:18:32.915Z"
   },
   {
    "duration": 10,
    "start_time": "2022-01-29T09:18:38.595Z"
   },
   {
    "duration": 15,
    "start_time": "2022-01-29T09:19:23.686Z"
   },
   {
    "duration": 16,
    "start_time": "2022-01-29T09:19:28.090Z"
   },
   {
    "duration": 9,
    "start_time": "2022-01-29T09:19:47.161Z"
   },
   {
    "duration": 9,
    "start_time": "2022-01-29T09:20:10.252Z"
   },
   {
    "duration": 185,
    "start_time": "2022-01-29T09:20:26.490Z"
   },
   {
    "duration": 266,
    "start_time": "2022-01-29T09:20:33.142Z"
   },
   {
    "duration": 19,
    "start_time": "2022-01-29T09:20:43.447Z"
   },
   {
    "duration": 18,
    "start_time": "2022-01-29T09:20:57.111Z"
   },
   {
    "duration": 34,
    "start_time": "2022-01-29T09:21:41.872Z"
   },
   {
    "duration": 22,
    "start_time": "2022-01-29T09:22:32.646Z"
   },
   {
    "duration": 15,
    "start_time": "2022-01-29T09:22:39.440Z"
   },
   {
    "duration": 9,
    "start_time": "2022-01-29T09:22:51.038Z"
   },
   {
    "duration": 320,
    "start_time": "2022-01-29T09:22:59.433Z"
   },
   {
    "duration": 752,
    "start_time": "2022-01-29T09:23:19.074Z"
   },
   {
    "duration": 670,
    "start_time": "2022-01-29T09:23:19.828Z"
   },
   {
    "duration": 28,
    "start_time": "2022-01-29T09:23:20.500Z"
   },
   {
    "duration": 17,
    "start_time": "2022-01-29T09:23:20.530Z"
   },
   {
    "duration": 104,
    "start_time": "2022-01-29T09:23:20.549Z"
   },
   {
    "duration": 6,
    "start_time": "2022-01-29T09:23:20.655Z"
   },
   {
    "duration": 35,
    "start_time": "2022-01-29T09:23:20.662Z"
   },
   {
    "duration": 31,
    "start_time": "2022-01-29T09:23:20.700Z"
   },
   {
    "duration": 55,
    "start_time": "2022-01-29T09:23:20.733Z"
   },
   {
    "duration": 45,
    "start_time": "2022-01-29T09:23:20.790Z"
   },
   {
    "duration": 24,
    "start_time": "2022-01-29T09:23:20.836Z"
   },
   {
    "duration": 36,
    "start_time": "2022-01-29T09:23:20.861Z"
   },
   {
    "duration": 40,
    "start_time": "2022-01-29T09:23:20.898Z"
   },
   {
    "duration": 32,
    "start_time": "2022-01-29T09:23:20.939Z"
   },
   {
    "duration": 42,
    "start_time": "2022-01-29T09:23:20.973Z"
   },
   {
    "duration": 28,
    "start_time": "2022-01-29T09:23:21.017Z"
   },
   {
    "duration": 66,
    "start_time": "2022-01-29T09:23:21.047Z"
   },
   {
    "duration": 54,
    "start_time": "2022-01-29T09:23:21.115Z"
   },
   {
    "duration": 22,
    "start_time": "2022-01-29T09:23:21.171Z"
   },
   {
    "duration": 42,
    "start_time": "2022-01-29T09:23:21.195Z"
   },
   {
    "duration": 45,
    "start_time": "2022-01-29T09:23:21.239Z"
   },
   {
    "duration": 32,
    "start_time": "2022-01-29T09:23:21.286Z"
   },
   {
    "duration": 40,
    "start_time": "2022-01-29T09:23:21.324Z"
   },
   {
    "duration": 37,
    "start_time": "2022-01-29T09:23:21.367Z"
   },
   {
    "duration": 30,
    "start_time": "2022-01-29T09:23:21.406Z"
   },
   {
    "duration": 31,
    "start_time": "2022-01-29T09:23:21.439Z"
   },
   {
    "duration": 44,
    "start_time": "2022-01-29T09:23:21.472Z"
   },
   {
    "duration": 147,
    "start_time": "2022-01-29T09:23:21.518Z"
   },
   {
    "duration": 6,
    "start_time": "2022-01-29T09:23:21.667Z"
   },
   {
    "duration": 62,
    "start_time": "2022-01-29T09:23:21.675Z"
   },
   {
    "duration": 33,
    "start_time": "2022-01-29T09:23:21.739Z"
   },
   {
    "duration": 45,
    "start_time": "2022-01-29T09:23:21.774Z"
   },
   {
    "duration": 59,
    "start_time": "2022-01-29T09:23:21.821Z"
   },
   {
    "duration": 34,
    "start_time": "2022-01-29T09:23:21.882Z"
   },
   {
    "duration": 34,
    "start_time": "2022-01-29T09:23:21.918Z"
   },
   {
    "duration": 37,
    "start_time": "2022-01-29T09:23:21.953Z"
   },
   {
    "duration": 71,
    "start_time": "2022-01-29T09:23:21.992Z"
   },
   {
    "duration": 23,
    "start_time": "2022-01-29T09:23:22.065Z"
   },
   {
    "duration": 30,
    "start_time": "2022-01-29T09:23:22.090Z"
   },
   {
    "duration": 561,
    "start_time": "2022-01-29T09:23:22.121Z"
   },
   {
    "duration": 5,
    "start_time": "2022-01-29T09:23:22.684Z"
   },
   {
    "duration": 33,
    "start_time": "2022-01-29T09:23:22.691Z"
   },
   {
    "duration": 363,
    "start_time": "2022-01-29T09:23:22.725Z"
   },
   {
    "duration": 345,
    "start_time": "2022-01-29T09:23:23.090Z"
   },
   {
    "duration": 203,
    "start_time": "2022-01-29T09:23:23.437Z"
   },
   {
    "duration": 213,
    "start_time": "2022-01-29T09:23:23.641Z"
   },
   {
    "duration": 8,
    "start_time": "2022-01-29T09:23:23.860Z"
   },
   {
    "duration": 436,
    "start_time": "2022-01-29T09:23:23.870Z"
   },
   {
    "duration": 336,
    "start_time": "2022-01-29T09:23:24.308Z"
   },
   {
    "duration": 18,
    "start_time": "2022-01-29T09:23:24.646Z"
   },
   {
    "duration": 207,
    "start_time": "2022-01-29T09:23:24.666Z"
   },
   {
    "duration": 292,
    "start_time": "2022-01-29T09:23:24.875Z"
   },
   {
    "duration": 32,
    "start_time": "2022-01-29T09:23:25.169Z"
   },
   {
    "duration": 30,
    "start_time": "2022-01-29T09:23:25.203Z"
   },
   {
    "duration": 404,
    "start_time": "2022-01-29T09:23:25.235Z"
   },
   {
    "duration": 390,
    "start_time": "2022-01-29T09:23:25.641Z"
   },
   {
    "duration": 402,
    "start_time": "2022-01-29T09:23:26.033Z"
   },
   {
    "duration": 296,
    "start_time": "2022-01-29T09:23:26.437Z"
   },
   {
    "duration": 404,
    "start_time": "2022-01-29T09:23:26.735Z"
   },
   {
    "duration": 405,
    "start_time": "2022-01-29T09:23:27.141Z"
   },
   {
    "duration": 396,
    "start_time": "2022-01-29T09:23:27.548Z"
   },
   {
    "duration": 392,
    "start_time": "2022-01-29T09:23:27.945Z"
   },
   {
    "duration": 50,
    "start_time": "2022-01-29T09:23:28.339Z"
   },
   {
    "duration": 243,
    "start_time": "2022-01-29T09:23:28.391Z"
   },
   {
    "duration": 265,
    "start_time": "2022-01-29T09:23:28.635Z"
   },
   {
    "duration": 406,
    "start_time": "2022-01-29T09:23:28.901Z"
   },
   {
    "duration": 402,
    "start_time": "2022-01-29T09:23:29.309Z"
   },
   {
    "duration": 490,
    "start_time": "2022-01-29T09:23:29.715Z"
   },
   {
    "duration": 409,
    "start_time": "2022-01-29T09:23:30.207Z"
   },
   {
    "duration": 767,
    "start_time": "2022-01-29T09:23:30.618Z"
   },
   {
    "duration": 718,
    "start_time": "2022-01-29T09:23:31.387Z"
   },
   {
    "duration": 728,
    "start_time": "2022-01-29T09:23:32.107Z"
   },
   {
    "duration": 743,
    "start_time": "2022-01-29T09:23:32.837Z"
   },
   {
    "duration": 10,
    "start_time": "2022-01-29T09:24:06.286Z"
   },
   {
    "duration": 374,
    "start_time": "2022-01-29T09:24:59.912Z"
   },
   {
    "duration": 481,
    "start_time": "2022-01-29T09:33:16.892Z"
   },
   {
    "duration": 5,
    "start_time": "2022-01-29T09:36:36.376Z"
   },
   {
    "duration": 5,
    "start_time": "2022-01-29T09:41:00.993Z"
   },
   {
    "duration": 5,
    "start_time": "2022-01-29T09:41:17.487Z"
   },
   {
    "duration": 241,
    "start_time": "2022-01-30T12:37:31.272Z"
   },
   {
    "duration": 770,
    "start_time": "2022-01-30T12:37:49.684Z"
   },
   {
    "duration": 634,
    "start_time": "2022-01-30T12:37:50.456Z"
   },
   {
    "duration": 26,
    "start_time": "2022-01-30T12:37:51.092Z"
   },
   {
    "duration": 11,
    "start_time": "2022-01-30T12:37:51.120Z"
   },
   {
    "duration": 92,
    "start_time": "2022-01-30T12:37:51.132Z"
   },
   {
    "duration": 5,
    "start_time": "2022-01-30T12:37:51.225Z"
   },
   {
    "duration": 9,
    "start_time": "2022-01-30T12:37:51.232Z"
   },
   {
    "duration": 19,
    "start_time": "2022-01-30T12:37:51.245Z"
   },
   {
    "duration": 13,
    "start_time": "2022-01-30T12:37:51.266Z"
   },
   {
    "duration": 10,
    "start_time": "2022-01-30T12:37:51.280Z"
   },
   {
    "duration": 7,
    "start_time": "2022-01-30T12:37:51.292Z"
   },
   {
    "duration": 11,
    "start_time": "2022-01-30T12:37:51.301Z"
   },
   {
    "duration": 7,
    "start_time": "2022-01-30T12:37:51.313Z"
   },
   {
    "duration": 6,
    "start_time": "2022-01-30T12:37:51.322Z"
   },
   {
    "duration": 10,
    "start_time": "2022-01-30T12:37:51.361Z"
   },
   {
    "duration": 7,
    "start_time": "2022-01-30T12:37:51.373Z"
   },
   {
    "duration": 6,
    "start_time": "2022-01-30T12:37:51.381Z"
   },
   {
    "duration": 13,
    "start_time": "2022-01-30T12:37:51.389Z"
   },
   {
    "duration": 14,
    "start_time": "2022-01-30T12:37:51.404Z"
   },
   {
    "duration": 43,
    "start_time": "2022-01-30T12:37:51.419Z"
   },
   {
    "duration": 7,
    "start_time": "2022-01-30T12:37:51.463Z"
   },
   {
    "duration": 7,
    "start_time": "2022-01-30T12:37:51.472Z"
   },
   {
    "duration": 6,
    "start_time": "2022-01-30T12:37:51.483Z"
   },
   {
    "duration": 4,
    "start_time": "2022-01-30T12:37:51.492Z"
   },
   {
    "duration": 11,
    "start_time": "2022-01-30T12:37:51.498Z"
   },
   {
    "duration": 6,
    "start_time": "2022-01-30T12:37:51.510Z"
   },
   {
    "duration": 11,
    "start_time": "2022-01-30T12:37:51.560Z"
   },
   {
    "duration": 153,
    "start_time": "2022-01-30T12:37:51.572Z"
   },
   {
    "duration": 6,
    "start_time": "2022-01-30T12:37:51.728Z"
   },
   {
    "duration": 13,
    "start_time": "2022-01-30T12:37:51.736Z"
   },
   {
    "duration": 8,
    "start_time": "2022-01-30T12:37:51.761Z"
   },
   {
    "duration": 7,
    "start_time": "2022-01-30T12:37:51.770Z"
   },
   {
    "duration": 7,
    "start_time": "2022-01-30T12:37:51.779Z"
   },
   {
    "duration": 10,
    "start_time": "2022-01-30T12:37:51.787Z"
   },
   {
    "duration": 11,
    "start_time": "2022-01-30T12:37:51.799Z"
   },
   {
    "duration": 11,
    "start_time": "2022-01-30T12:37:51.812Z"
   },
   {
    "duration": 60,
    "start_time": "2022-01-30T12:37:51.825Z"
   },
   {
    "duration": 10,
    "start_time": "2022-01-30T12:37:51.887Z"
   },
   {
    "duration": 13,
    "start_time": "2022-01-30T12:37:51.899Z"
   },
   {
    "duration": 573,
    "start_time": "2022-01-30T12:37:51.914Z"
   },
   {
    "duration": 4,
    "start_time": "2022-01-30T12:37:52.489Z"
   },
   {
    "duration": 15,
    "start_time": "2022-01-30T12:37:52.494Z"
   },
   {
    "duration": 334,
    "start_time": "2022-01-30T12:37:52.511Z"
   },
   {
    "duration": 353,
    "start_time": "2022-01-30T12:37:52.847Z"
   },
   {
    "duration": 193,
    "start_time": "2022-01-30T12:37:53.202Z"
   },
   {
    "duration": 209,
    "start_time": "2022-01-30T12:37:53.397Z"
   },
   {
    "duration": 7,
    "start_time": "2022-01-30T12:37:53.607Z"
   },
   {
    "duration": 421,
    "start_time": "2022-01-30T12:37:53.616Z"
   },
   {
    "duration": 346,
    "start_time": "2022-01-30T12:37:54.039Z"
   },
   {
    "duration": 12,
    "start_time": "2022-01-30T12:37:54.387Z"
   },
   {
    "duration": 201,
    "start_time": "2022-01-30T12:37:54.401Z"
   },
   {
    "duration": 285,
    "start_time": "2022-01-30T12:37:54.603Z"
   },
   {
    "duration": 24,
    "start_time": "2022-01-30T12:37:54.889Z"
   },
   {
    "duration": 458,
    "start_time": "2022-01-30T12:37:54.914Z"
   },
   {
    "duration": 5,
    "start_time": "2022-01-30T12:37:55.374Z"
   },
   {
    "duration": 403,
    "start_time": "2022-01-30T12:37:55.380Z"
   },
   {
    "duration": 375,
    "start_time": "2022-01-30T12:37:55.785Z"
   },
   {
    "duration": 267,
    "start_time": "2022-01-30T12:37:56.162Z"
   },
   {
    "duration": 413,
    "start_time": "2022-01-30T12:37:56.430Z"
   },
   {
    "duration": 400,
    "start_time": "2022-01-30T12:37:56.845Z"
   },
   {
    "duration": 395,
    "start_time": "2022-01-30T12:37:57.247Z"
   },
   {
    "duration": 394,
    "start_time": "2022-01-30T12:37:57.644Z"
   },
   {
    "duration": 46,
    "start_time": "2022-01-30T12:37:58.040Z"
   },
   {
    "duration": 239,
    "start_time": "2022-01-30T12:37:58.087Z"
   },
   {
    "duration": 248,
    "start_time": "2022-01-30T12:37:58.328Z"
   },
   {
    "duration": 407,
    "start_time": "2022-01-30T12:37:58.577Z"
   },
   {
    "duration": 405,
    "start_time": "2022-01-30T12:37:58.986Z"
   },
   {
    "duration": 475,
    "start_time": "2022-01-30T12:37:59.397Z"
   },
   {
    "duration": 418,
    "start_time": "2022-01-30T12:37:59.874Z"
   },
   {
    "duration": 695,
    "start_time": "2022-01-30T12:38:00.294Z"
   },
   {
    "duration": 744,
    "start_time": "2022-01-30T12:38:00.991Z"
   },
   {
    "duration": 785,
    "start_time": "2022-01-30T12:38:01.737Z"
   },
   {
    "duration": 769,
    "start_time": "2022-01-30T12:38:02.523Z"
   },
   {
    "duration": 423,
    "start_time": "2022-01-30T12:58:38.111Z"
   },
   {
    "duration": 417,
    "start_time": "2022-01-30T12:59:08.799Z"
   },
   {
    "duration": 578,
    "start_time": "2022-01-30T13:00:00.655Z"
   },
   {
    "duration": 37,
    "start_time": "2022-01-30T13:01:03.555Z"
   },
   {
    "duration": 42,
    "start_time": "2022-01-30T13:02:40.100Z"
   },
   {
    "duration": 395,
    "start_time": "2022-01-30T13:03:00.158Z"
   },
   {
    "duration": 36,
    "start_time": "2022-01-30T13:04:00.362Z"
   },
   {
    "duration": 417,
    "start_time": "2022-01-30T13:07:05.347Z"
   },
   {
    "duration": 42,
    "start_time": "2022-01-30T13:08:01.573Z"
   },
   {
    "duration": 39,
    "start_time": "2022-01-30T13:08:23.907Z"
   },
   {
    "duration": 36,
    "start_time": "2022-01-30T13:08:53.474Z"
   },
   {
    "duration": 38,
    "start_time": "2022-01-30T13:10:09.340Z"
   },
   {
    "duration": 37,
    "start_time": "2022-01-30T13:10:20.757Z"
   },
   {
    "duration": 76,
    "start_time": "2022-01-30T13:13:55.154Z"
   },
   {
    "duration": 300,
    "start_time": "2022-01-30T13:16:57.636Z"
   },
   {
    "duration": 66,
    "start_time": "2022-01-30T13:17:28.328Z"
   },
   {
    "duration": 40,
    "start_time": "2022-01-30T13:17:33.830Z"
   },
   {
    "duration": 290,
    "start_time": "2022-01-30T13:35:21.520Z"
   },
   {
    "duration": 357,
    "start_time": "2022-01-30T13:36:14.748Z"
   },
   {
    "duration": 343,
    "start_time": "2022-01-30T13:36:38.802Z"
   },
   {
    "duration": 351,
    "start_time": "2022-01-30T13:36:45.068Z"
   },
   {
    "duration": 262,
    "start_time": "2022-01-30T13:37:16.961Z"
   },
   {
    "duration": 265,
    "start_time": "2022-01-30T13:37:52.428Z"
   },
   {
    "duration": 401,
    "start_time": "2022-01-30T13:38:24.301Z"
   },
   {
    "duration": 705,
    "start_time": "2022-01-30T13:38:40.841Z"
   },
   {
    "duration": 735,
    "start_time": "2022-01-30T13:39:07.683Z"
   },
   {
    "duration": 756,
    "start_time": "2022-01-30T13:39:24.661Z"
   },
   {
    "duration": 396,
    "start_time": "2022-01-30T13:39:37.108Z"
   },
   {
    "duration": 515,
    "start_time": "2022-01-30T13:40:06.505Z"
   },
   {
    "duration": 435,
    "start_time": "2022-01-30T13:40:27.448Z"
   },
   {
    "duration": 714,
    "start_time": "2022-01-30T13:41:36.664Z"
   },
   {
    "duration": 693,
    "start_time": "2022-01-30T13:42:02.892Z"
   },
   {
    "duration": 691,
    "start_time": "2022-01-30T13:43:19.791Z"
   },
   {
    "duration": 694,
    "start_time": "2022-01-30T14:05:09.716Z"
   },
   {
    "duration": 888,
    "start_time": "2022-01-30T14:05:48.199Z"
   },
   {
    "duration": 767,
    "start_time": "2022-01-30T14:06:45.336Z"
   },
   {
    "duration": 70,
    "start_time": "2022-01-30T14:10:19.829Z"
   },
   {
    "duration": 74,
    "start_time": "2022-01-30T14:11:04.161Z"
   },
   {
    "duration": 76,
    "start_time": "2022-01-30T14:11:18.991Z"
   },
   {
    "duration": 75,
    "start_time": "2022-01-30T14:11:44.992Z"
   },
   {
    "duration": 715,
    "start_time": "2022-01-30T14:11:50.663Z"
   },
   {
    "duration": 1016,
    "start_time": "2022-01-30T14:28:40.136Z"
   },
   {
    "duration": 751,
    "start_time": "2022-01-30T14:29:52.734Z"
   },
   {
    "duration": 1002,
    "start_time": "2022-01-30T14:30:41.288Z"
   },
   {
    "duration": 793,
    "start_time": "2022-01-30T14:31:25.478Z"
   },
   {
    "duration": 798,
    "start_time": "2022-01-30T14:32:40.898Z"
   },
   {
    "duration": 774,
    "start_time": "2022-01-30T14:34:05.812Z"
   },
   {
    "duration": 781,
    "start_time": "2022-01-30T14:34:51.813Z"
   },
   {
    "duration": 741,
    "start_time": "2022-01-30T14:36:08.370Z"
   },
   {
    "duration": 777,
    "start_time": "2022-01-30T14:36:53.324Z"
   },
   {
    "duration": 677,
    "start_time": "2022-01-30T14:37:13.643Z"
   },
   {
    "duration": 630,
    "start_time": "2022-01-30T14:37:14.322Z"
   },
   {
    "duration": 31,
    "start_time": "2022-01-30T14:37:14.954Z"
   },
   {
    "duration": 10,
    "start_time": "2022-01-30T14:37:14.987Z"
   },
   {
    "duration": 83,
    "start_time": "2022-01-30T14:37:14.999Z"
   },
   {
    "duration": 6,
    "start_time": "2022-01-30T14:37:15.083Z"
   },
   {
    "duration": 14,
    "start_time": "2022-01-30T14:37:15.091Z"
   },
   {
    "duration": 5,
    "start_time": "2022-01-30T14:37:15.108Z"
   },
   {
    "duration": 13,
    "start_time": "2022-01-30T14:37:15.115Z"
   },
   {
    "duration": 31,
    "start_time": "2022-01-30T14:37:15.130Z"
   },
   {
    "duration": 9,
    "start_time": "2022-01-30T14:37:15.164Z"
   },
   {
    "duration": 10,
    "start_time": "2022-01-30T14:37:15.175Z"
   },
   {
    "duration": 9,
    "start_time": "2022-01-30T14:37:15.187Z"
   },
   {
    "duration": 8,
    "start_time": "2022-01-30T14:37:15.198Z"
   },
   {
    "duration": 13,
    "start_time": "2022-01-30T14:37:15.208Z"
   },
   {
    "duration": 45,
    "start_time": "2022-01-30T14:37:15.223Z"
   },
   {
    "duration": 8,
    "start_time": "2022-01-30T14:37:15.270Z"
   },
   {
    "duration": 10,
    "start_time": "2022-01-30T14:37:15.280Z"
   },
   {
    "duration": 15,
    "start_time": "2022-01-30T14:37:15.292Z"
   },
   {
    "duration": 8,
    "start_time": "2022-01-30T14:37:15.309Z"
   },
   {
    "duration": 9,
    "start_time": "2022-01-30T14:37:15.360Z"
   },
   {
    "duration": 9,
    "start_time": "2022-01-30T14:37:15.371Z"
   },
   {
    "duration": 8,
    "start_time": "2022-01-30T14:37:15.384Z"
   },
   {
    "duration": 7,
    "start_time": "2022-01-30T14:37:15.395Z"
   },
   {
    "duration": 12,
    "start_time": "2022-01-30T14:37:15.404Z"
   },
   {
    "duration": 45,
    "start_time": "2022-01-30T14:37:15.417Z"
   },
   {
    "duration": 13,
    "start_time": "2022-01-30T14:37:15.464Z"
   },
   {
    "duration": 136,
    "start_time": "2022-01-30T14:37:15.479Z"
   },
   {
    "duration": 6,
    "start_time": "2022-01-30T14:37:15.617Z"
   },
   {
    "duration": 14,
    "start_time": "2022-01-30T14:37:15.624Z"
   },
   {
    "duration": 23,
    "start_time": "2022-01-30T14:37:15.639Z"
   },
   {
    "duration": 7,
    "start_time": "2022-01-30T14:37:15.664Z"
   },
   {
    "duration": 8,
    "start_time": "2022-01-30T14:37:15.673Z"
   },
   {
    "duration": 7,
    "start_time": "2022-01-30T14:37:15.682Z"
   },
   {
    "duration": 7,
    "start_time": "2022-01-30T14:37:15.691Z"
   },
   {
    "duration": 7,
    "start_time": "2022-01-30T14:37:15.699Z"
   },
   {
    "duration": 67,
    "start_time": "2022-01-30T14:37:15.707Z"
   },
   {
    "duration": 8,
    "start_time": "2022-01-30T14:37:15.776Z"
   },
   {
    "duration": 12,
    "start_time": "2022-01-30T14:37:15.786Z"
   },
   {
    "duration": 595,
    "start_time": "2022-01-30T14:37:15.799Z"
   },
   {
    "duration": 3,
    "start_time": "2022-01-30T14:37:16.396Z"
   },
   {
    "duration": 7,
    "start_time": "2022-01-30T14:37:16.401Z"
   },
   {
    "duration": 338,
    "start_time": "2022-01-30T14:37:16.410Z"
   },
   {
    "duration": 355,
    "start_time": "2022-01-30T14:37:16.750Z"
   },
   {
    "duration": 212,
    "start_time": "2022-01-30T14:37:17.107Z"
   },
   {
    "duration": 205,
    "start_time": "2022-01-30T14:37:17.320Z"
   },
   {
    "duration": 7,
    "start_time": "2022-01-30T14:37:17.527Z"
   },
   {
    "duration": 413,
    "start_time": "2022-01-30T14:37:17.536Z"
   },
   {
    "duration": 367,
    "start_time": "2022-01-30T14:37:17.951Z"
   },
   {
    "duration": 9,
    "start_time": "2022-01-30T14:37:18.320Z"
   },
   {
    "duration": 185,
    "start_time": "2022-01-30T14:37:18.330Z"
   },
   {
    "duration": 275,
    "start_time": "2022-01-30T14:37:18.517Z"
   },
   {
    "duration": 24,
    "start_time": "2022-01-30T14:37:18.794Z"
   },
   {
    "duration": 426,
    "start_time": "2022-01-30T14:37:18.820Z"
   },
   {
    "duration": 4,
    "start_time": "2022-01-30T14:37:19.248Z"
   },
   {
    "duration": 39,
    "start_time": "2022-01-30T14:37:19.253Z"
   },
   {
    "duration": 393,
    "start_time": "2022-01-30T14:37:19.293Z"
   },
   {
    "duration": 36,
    "start_time": "2022-01-30T14:37:19.688Z"
   },
   {
    "duration": 57,
    "start_time": "2022-01-30T14:37:19.726Z"
   },
   {
    "duration": 35,
    "start_time": "2022-01-30T14:37:19.785Z"
   },
   {
    "duration": 46,
    "start_time": "2022-01-30T14:37:19.822Z"
   },
   {
    "duration": 39,
    "start_time": "2022-01-30T14:37:19.870Z"
   },
   {
    "duration": 260,
    "start_time": "2022-01-30T14:37:19.910Z"
   },
   {
    "duration": 275,
    "start_time": "2022-01-30T14:37:20.171Z"
   },
   {
    "duration": 493,
    "start_time": "2022-01-30T14:37:20.448Z"
   },
   {
    "duration": 407,
    "start_time": "2022-01-30T14:37:20.943Z"
   },
   {
    "duration": 414,
    "start_time": "2022-01-30T14:37:21.352Z"
   },
   {
    "duration": 474,
    "start_time": "2022-01-30T14:37:21.773Z"
   },
   {
    "duration": 746,
    "start_time": "2022-01-30T14:37:22.249Z"
   },
   {
    "duration": 5463,
    "start_time": "2022-01-30T14:37:22.997Z"
   },
   {
    "duration": 857,
    "start_time": "2022-01-30T14:37:27.605Z"
   },
   {
    "duration": 853,
    "start_time": "2022-01-30T14:37:27.611Z"
   },
   {
    "duration": 5272,
    "start_time": "2022-01-30T14:39:13.906Z"
   },
   {
    "duration": 5436,
    "start_time": "2022-01-30T14:39:29.484Z"
   },
   {
    "duration": 643,
    "start_time": "2022-01-30T14:41:10.101Z"
   },
   {
    "duration": 73,
    "start_time": "2022-01-30T14:42:06.206Z"
   },
   {
    "duration": 622,
    "start_time": "2022-01-30T14:42:32.603Z"
   },
   {
    "duration": 632,
    "start_time": "2022-01-30T14:42:33.227Z"
   },
   {
    "duration": 26,
    "start_time": "2022-01-30T14:42:33.861Z"
   },
   {
    "duration": 10,
    "start_time": "2022-01-30T14:42:33.889Z"
   },
   {
    "duration": 84,
    "start_time": "2022-01-30T14:42:33.900Z"
   },
   {
    "duration": 5,
    "start_time": "2022-01-30T14:42:33.986Z"
   },
   {
    "duration": 7,
    "start_time": "2022-01-30T14:42:33.993Z"
   },
   {
    "duration": 5,
    "start_time": "2022-01-30T14:42:34.002Z"
   },
   {
    "duration": 12,
    "start_time": "2022-01-30T14:42:34.009Z"
   },
   {
    "duration": 39,
    "start_time": "2022-01-30T14:42:34.022Z"
   },
   {
    "duration": 5,
    "start_time": "2022-01-30T14:42:34.063Z"
   },
   {
    "duration": 8,
    "start_time": "2022-01-30T14:42:34.070Z"
   },
   {
    "duration": 7,
    "start_time": "2022-01-30T14:42:34.080Z"
   },
   {
    "duration": 7,
    "start_time": "2022-01-30T14:42:34.089Z"
   },
   {
    "duration": 10,
    "start_time": "2022-01-30T14:42:34.097Z"
   },
   {
    "duration": 7,
    "start_time": "2022-01-30T14:42:34.109Z"
   },
   {
    "duration": 49,
    "start_time": "2022-01-30T14:42:34.117Z"
   },
   {
    "duration": 9,
    "start_time": "2022-01-30T14:42:34.168Z"
   },
   {
    "duration": 21,
    "start_time": "2022-01-30T14:42:34.178Z"
   },
   {
    "duration": 7,
    "start_time": "2022-01-30T14:42:34.201Z"
   },
   {
    "duration": 7,
    "start_time": "2022-01-30T14:42:34.210Z"
   },
   {
    "duration": 45,
    "start_time": "2022-01-30T14:42:34.219Z"
   },
   {
    "duration": 8,
    "start_time": "2022-01-30T14:42:34.269Z"
   },
   {
    "duration": 3,
    "start_time": "2022-01-30T14:42:34.279Z"
   },
   {
    "duration": 17,
    "start_time": "2022-01-30T14:42:34.284Z"
   },
   {
    "duration": 8,
    "start_time": "2022-01-30T14:42:34.302Z"
   },
   {
    "duration": 9,
    "start_time": "2022-01-30T14:42:34.311Z"
   },
   {
    "duration": 193,
    "start_time": "2022-01-30T14:42:34.321Z"
   },
   {
    "duration": 6,
    "start_time": "2022-01-30T14:42:34.516Z"
   },
   {
    "duration": 12,
    "start_time": "2022-01-30T14:42:34.523Z"
   },
   {
    "duration": 24,
    "start_time": "2022-01-30T14:42:34.537Z"
   },
   {
    "duration": 9,
    "start_time": "2022-01-30T14:42:34.563Z"
   },
   {
    "duration": 9,
    "start_time": "2022-01-30T14:42:34.574Z"
   },
   {
    "duration": 9,
    "start_time": "2022-01-30T14:42:34.585Z"
   },
   {
    "duration": 8,
    "start_time": "2022-01-30T14:42:34.596Z"
   },
   {
    "duration": 9,
    "start_time": "2022-01-30T14:42:34.606Z"
   },
   {
    "duration": 67,
    "start_time": "2022-01-30T14:42:34.617Z"
   },
   {
    "duration": 8,
    "start_time": "2022-01-30T14:42:34.686Z"
   },
   {
    "duration": 13,
    "start_time": "2022-01-30T14:42:34.696Z"
   },
   {
    "duration": 570,
    "start_time": "2022-01-30T14:42:34.711Z"
   },
   {
    "duration": 5,
    "start_time": "2022-01-30T14:42:35.284Z"
   },
   {
    "duration": 8,
    "start_time": "2022-01-30T14:42:35.290Z"
   },
   {
    "duration": 337,
    "start_time": "2022-01-30T14:42:35.299Z"
   },
   {
    "duration": 342,
    "start_time": "2022-01-30T14:42:35.637Z"
   },
   {
    "duration": 203,
    "start_time": "2022-01-30T14:42:35.981Z"
   },
   {
    "duration": 214,
    "start_time": "2022-01-30T14:42:36.186Z"
   },
   {
    "duration": 7,
    "start_time": "2022-01-30T14:42:36.402Z"
   },
   {
    "duration": 467,
    "start_time": "2022-01-30T14:42:36.411Z"
   },
   {
    "duration": 366,
    "start_time": "2022-01-30T14:42:36.880Z"
   },
   {
    "duration": 9,
    "start_time": "2022-01-30T14:42:37.248Z"
   },
   {
    "duration": 176,
    "start_time": "2022-01-30T14:42:37.260Z"
   },
   {
    "duration": 276,
    "start_time": "2022-01-30T14:42:37.437Z"
   },
   {
    "duration": 49,
    "start_time": "2022-01-30T14:42:37.714Z"
   },
   {
    "duration": 502,
    "start_time": "2022-01-30T14:42:37.765Z"
   },
   {
    "duration": 4,
    "start_time": "2022-01-30T14:42:38.269Z"
   },
   {
    "duration": 46,
    "start_time": "2022-01-30T14:42:38.274Z"
   },
   {
    "duration": 407,
    "start_time": "2022-01-30T14:42:38.322Z"
   },
   {
    "duration": 43,
    "start_time": "2022-01-30T14:42:38.731Z"
   },
   {
    "duration": 33,
    "start_time": "2022-01-30T14:42:38.776Z"
   },
   {
    "duration": 32,
    "start_time": "2022-01-30T14:42:38.811Z"
   },
   {
    "duration": 34,
    "start_time": "2022-01-30T14:42:38.861Z"
   },
   {
    "duration": 38,
    "start_time": "2022-01-30T14:42:38.897Z"
   },
   {
    "duration": 267,
    "start_time": "2022-01-30T14:42:38.937Z"
   },
   {
    "duration": 263,
    "start_time": "2022-01-30T14:42:39.206Z"
   },
   {
    "duration": 499,
    "start_time": "2022-01-30T14:42:39.470Z"
   },
   {
    "duration": 408,
    "start_time": "2022-01-30T14:42:39.971Z"
   },
   {
    "duration": 413,
    "start_time": "2022-01-30T14:42:40.381Z"
   },
   {
    "duration": 388,
    "start_time": "2022-01-30T14:42:40.798Z"
   },
   {
    "duration": 872,
    "start_time": "2022-01-30T14:42:41.188Z"
   },
   {
    "duration": 101,
    "start_time": "2022-01-30T14:42:42.062Z"
   },
   {
    "duration": 767,
    "start_time": "2022-01-30T14:42:42.165Z"
   },
   {
    "duration": 790,
    "start_time": "2022-01-30T14:42:42.934Z"
   },
   {
    "duration": 687,
    "start_time": "2022-01-30T14:45:55.528Z"
   },
   {
    "duration": 659,
    "start_time": "2022-01-30T14:45:56.217Z"
   },
   {
    "duration": 28,
    "start_time": "2022-01-30T14:45:56.879Z"
   },
   {
    "duration": 13,
    "start_time": "2022-01-30T14:45:56.910Z"
   },
   {
    "duration": 94,
    "start_time": "2022-01-30T14:45:56.925Z"
   },
   {
    "duration": 6,
    "start_time": "2022-01-30T14:45:57.021Z"
   },
   {
    "duration": 9,
    "start_time": "2022-01-30T14:45:57.028Z"
   },
   {
    "duration": 21,
    "start_time": "2022-01-30T14:45:57.039Z"
   },
   {
    "duration": 12,
    "start_time": "2022-01-30T14:45:57.063Z"
   },
   {
    "duration": 13,
    "start_time": "2022-01-30T14:45:57.077Z"
   },
   {
    "duration": 4,
    "start_time": "2022-01-30T14:45:57.092Z"
   },
   {
    "duration": 14,
    "start_time": "2022-01-30T14:45:57.098Z"
   },
   {
    "duration": 7,
    "start_time": "2022-01-30T14:45:57.114Z"
   },
   {
    "duration": 39,
    "start_time": "2022-01-30T14:45:57.122Z"
   },
   {
    "duration": 9,
    "start_time": "2022-01-30T14:45:57.163Z"
   },
   {
    "duration": 8,
    "start_time": "2022-01-30T14:45:57.174Z"
   },
   {
    "duration": 7,
    "start_time": "2022-01-30T14:45:57.183Z"
   },
   {
    "duration": 9,
    "start_time": "2022-01-30T14:45:57.192Z"
   },
   {
    "duration": 12,
    "start_time": "2022-01-30T14:45:57.203Z"
   },
   {
    "duration": 44,
    "start_time": "2022-01-30T14:45:57.217Z"
   },
   {
    "duration": 11,
    "start_time": "2022-01-30T14:45:57.263Z"
   },
   {
    "duration": 7,
    "start_time": "2022-01-30T14:45:57.275Z"
   },
   {
    "duration": 8,
    "start_time": "2022-01-30T14:45:57.287Z"
   },
   {
    "duration": 3,
    "start_time": "2022-01-30T14:45:57.298Z"
   },
   {
    "duration": 14,
    "start_time": "2022-01-30T14:45:57.302Z"
   },
   {
    "duration": 46,
    "start_time": "2022-01-30T14:45:57.318Z"
   },
   {
    "duration": 8,
    "start_time": "2022-01-30T14:45:57.366Z"
   },
   {
    "duration": 131,
    "start_time": "2022-01-30T14:45:57.375Z"
   },
   {
    "duration": 5,
    "start_time": "2022-01-30T14:45:57.508Z"
   },
   {
    "duration": 9,
    "start_time": "2022-01-30T14:45:57.515Z"
   },
   {
    "duration": 6,
    "start_time": "2022-01-30T14:45:57.526Z"
   },
   {
    "duration": 31,
    "start_time": "2022-01-30T14:45:57.534Z"
   },
   {
    "duration": 7,
    "start_time": "2022-01-30T14:45:57.566Z"
   },
   {
    "duration": 7,
    "start_time": "2022-01-30T14:45:57.575Z"
   },
   {
    "duration": 8,
    "start_time": "2022-01-30T14:45:57.583Z"
   },
   {
    "duration": 7,
    "start_time": "2022-01-30T14:45:57.593Z"
   },
   {
    "duration": 60,
    "start_time": "2022-01-30T14:45:57.602Z"
   },
   {
    "duration": 9,
    "start_time": "2022-01-30T14:45:57.663Z"
   },
   {
    "duration": 13,
    "start_time": "2022-01-30T14:45:57.673Z"
   },
   {
    "duration": 590,
    "start_time": "2022-01-30T14:45:57.687Z"
   },
   {
    "duration": 3,
    "start_time": "2022-01-30T14:45:58.279Z"
   },
   {
    "duration": 8,
    "start_time": "2022-01-30T14:45:58.284Z"
   },
   {
    "duration": 336,
    "start_time": "2022-01-30T14:45:58.293Z"
   },
   {
    "duration": 358,
    "start_time": "2022-01-30T14:45:58.631Z"
   },
   {
    "duration": 201,
    "start_time": "2022-01-30T14:45:58.990Z"
   },
   {
    "duration": 209,
    "start_time": "2022-01-30T14:45:59.192Z"
   },
   {
    "duration": 7,
    "start_time": "2022-01-30T14:45:59.402Z"
   },
   {
    "duration": 433,
    "start_time": "2022-01-30T14:45:59.411Z"
   },
   {
    "duration": 349,
    "start_time": "2022-01-30T14:45:59.846Z"
   },
   {
    "duration": 9,
    "start_time": "2022-01-30T14:46:00.197Z"
   },
   {
    "duration": 229,
    "start_time": "2022-01-30T14:46:00.208Z"
   },
   {
    "duration": 289,
    "start_time": "2022-01-30T14:46:00.439Z"
   },
   {
    "duration": 39,
    "start_time": "2022-01-30T14:46:00.730Z"
   },
   {
    "duration": 397,
    "start_time": "2022-01-30T14:46:00.771Z"
   },
   {
    "duration": 5,
    "start_time": "2022-01-30T14:46:01.169Z"
   },
   {
    "duration": 42,
    "start_time": "2022-01-30T14:46:01.175Z"
   },
   {
    "duration": 438,
    "start_time": "2022-01-30T14:46:01.219Z"
   },
   {
    "duration": 37,
    "start_time": "2022-01-30T14:46:01.660Z"
   },
   {
    "duration": 35,
    "start_time": "2022-01-30T14:46:01.698Z"
   },
   {
    "duration": 54,
    "start_time": "2022-01-30T14:46:01.735Z"
   },
   {
    "duration": 37,
    "start_time": "2022-01-30T14:46:01.791Z"
   },
   {
    "duration": 63,
    "start_time": "2022-01-30T14:46:01.829Z"
   },
   {
    "duration": 279,
    "start_time": "2022-01-30T14:46:01.895Z"
   },
   {
    "duration": 285,
    "start_time": "2022-01-30T14:46:02.176Z"
   },
   {
    "duration": 503,
    "start_time": "2022-01-30T14:46:02.463Z"
   },
   {
    "duration": 414,
    "start_time": "2022-01-30T14:46:02.969Z"
   },
   {
    "duration": 408,
    "start_time": "2022-01-30T14:46:03.385Z"
   },
   {
    "duration": 395,
    "start_time": "2022-01-30T14:46:03.799Z"
   },
   {
    "duration": 813,
    "start_time": "2022-01-30T14:46:04.196Z"
   },
   {
    "duration": 85,
    "start_time": "2022-01-30T14:46:05.010Z"
   },
   {
    "duration": 782,
    "start_time": "2022-01-30T14:46:05.097Z"
   },
   {
    "duration": 783,
    "start_time": "2022-01-30T14:46:05.880Z"
   },
   {
    "duration": 688,
    "start_time": "2022-01-30T14:47:03.333Z"
   },
   {
    "duration": 644,
    "start_time": "2022-01-30T14:47:04.022Z"
   },
   {
    "duration": 31,
    "start_time": "2022-01-30T14:47:04.668Z"
   },
   {
    "duration": 10,
    "start_time": "2022-01-30T14:47:04.701Z"
   },
   {
    "duration": 83,
    "start_time": "2022-01-30T14:47:04.712Z"
   },
   {
    "duration": 5,
    "start_time": "2022-01-30T14:47:04.797Z"
   },
   {
    "duration": 8,
    "start_time": "2022-01-30T14:47:04.804Z"
   },
   {
    "duration": 5,
    "start_time": "2022-01-30T14:47:04.815Z"
   },
   {
    "duration": 15,
    "start_time": "2022-01-30T14:47:04.822Z"
   },
   {
    "duration": 10,
    "start_time": "2022-01-30T14:47:04.861Z"
   },
   {
    "duration": 4,
    "start_time": "2022-01-30T14:47:04.873Z"
   },
   {
    "duration": 8,
    "start_time": "2022-01-30T14:47:04.879Z"
   },
   {
    "duration": 7,
    "start_time": "2022-01-30T14:47:04.889Z"
   },
   {
    "duration": 8,
    "start_time": "2022-01-30T14:47:04.898Z"
   },
   {
    "duration": 10,
    "start_time": "2022-01-30T14:47:04.907Z"
   },
   {
    "duration": 48,
    "start_time": "2022-01-30T14:47:04.918Z"
   },
   {
    "duration": 7,
    "start_time": "2022-01-30T14:47:04.968Z"
   },
   {
    "duration": 12,
    "start_time": "2022-01-30T14:47:04.976Z"
   },
   {
    "duration": 14,
    "start_time": "2022-01-30T14:47:04.990Z"
   },
   {
    "duration": 8,
    "start_time": "2022-01-30T14:47:05.006Z"
   },
   {
    "duration": 12,
    "start_time": "2022-01-30T14:47:05.015Z"
   },
   {
    "duration": 38,
    "start_time": "2022-01-30T14:47:05.028Z"
   },
   {
    "duration": 8,
    "start_time": "2022-01-30T14:47:05.070Z"
   },
   {
    "duration": 4,
    "start_time": "2022-01-30T14:47:05.080Z"
   },
   {
    "duration": 15,
    "start_time": "2022-01-30T14:47:05.085Z"
   },
   {
    "duration": 16,
    "start_time": "2022-01-30T14:47:05.101Z"
   },
   {
    "duration": 12,
    "start_time": "2022-01-30T14:47:05.118Z"
   },
   {
    "duration": 145,
    "start_time": "2022-01-30T14:47:05.131Z"
   },
   {
    "duration": 5,
    "start_time": "2022-01-30T14:47:05.278Z"
   },
   {
    "duration": 10,
    "start_time": "2022-01-30T14:47:05.285Z"
   },
   {
    "duration": 6,
    "start_time": "2022-01-30T14:47:05.297Z"
   },
   {
    "duration": 7,
    "start_time": "2022-01-30T14:47:05.305Z"
   },
   {
    "duration": 10,
    "start_time": "2022-01-30T14:47:05.313Z"
   },
   {
    "duration": 6,
    "start_time": "2022-01-30T14:47:05.325Z"
   },
   {
    "duration": 7,
    "start_time": "2022-01-30T14:47:05.361Z"
   },
   {
    "duration": 9,
    "start_time": "2022-01-30T14:47:05.370Z"
   },
   {
    "duration": 32,
    "start_time": "2022-01-30T14:47:05.380Z"
   },
   {
    "duration": 8,
    "start_time": "2022-01-30T14:47:05.413Z"
   },
   {
    "duration": 12,
    "start_time": "2022-01-30T14:47:05.422Z"
   },
   {
    "duration": 588,
    "start_time": "2022-01-30T14:47:05.435Z"
   },
   {
    "duration": 4,
    "start_time": "2022-01-30T14:47:06.025Z"
   },
   {
    "duration": 20,
    "start_time": "2022-01-30T14:47:06.030Z"
   },
   {
    "duration": 365,
    "start_time": "2022-01-30T14:47:06.051Z"
   },
   {
    "duration": 422,
    "start_time": "2022-01-30T14:47:06.418Z"
   },
   {
    "duration": 276,
    "start_time": "2022-01-30T14:47:06.842Z"
   },
   {
    "duration": 293,
    "start_time": "2022-01-30T14:47:07.120Z"
   },
   {
    "duration": 7,
    "start_time": "2022-01-30T14:47:07.414Z"
   },
   {
    "duration": 408,
    "start_time": "2022-01-30T14:47:07.423Z"
   },
   {
    "duration": 330,
    "start_time": "2022-01-30T14:47:07.833Z"
   },
   {
    "duration": 10,
    "start_time": "2022-01-30T14:47:08.164Z"
   },
   {
    "duration": 200,
    "start_time": "2022-01-30T14:47:08.175Z"
   },
   {
    "duration": 301,
    "start_time": "2022-01-30T14:47:08.377Z"
   },
   {
    "duration": 24,
    "start_time": "2022-01-30T14:47:08.680Z"
   },
   {
    "duration": 441,
    "start_time": "2022-01-30T14:47:08.706Z"
   },
   {
    "duration": 5,
    "start_time": "2022-01-30T14:47:09.148Z"
   },
   {
    "duration": 35,
    "start_time": "2022-01-30T14:47:09.160Z"
   },
   {
    "duration": 386,
    "start_time": "2022-01-30T14:47:09.196Z"
   },
   {
    "duration": 37,
    "start_time": "2022-01-30T14:47:09.584Z"
   },
   {
    "duration": 54,
    "start_time": "2022-01-30T14:47:09.623Z"
   },
   {
    "duration": 36,
    "start_time": "2022-01-30T14:47:09.678Z"
   },
   {
    "duration": 52,
    "start_time": "2022-01-30T14:47:09.716Z"
   },
   {
    "duration": 39,
    "start_time": "2022-01-30T14:47:09.769Z"
   },
   {
    "duration": 366,
    "start_time": "2022-01-30T14:47:09.809Z"
   },
   {
    "duration": 264,
    "start_time": "2022-01-30T14:47:10.177Z"
   },
   {
    "duration": 484,
    "start_time": "2022-01-30T14:47:10.443Z"
   },
   {
    "duration": 405,
    "start_time": "2022-01-30T14:47:10.930Z"
   },
   {
    "duration": 398,
    "start_time": "2022-01-30T14:47:11.337Z"
   },
   {
    "duration": 396,
    "start_time": "2022-01-30T14:47:11.739Z"
   },
   {
    "duration": 792,
    "start_time": "2022-01-30T14:47:12.137Z"
   },
   {
    "duration": 84,
    "start_time": "2022-01-30T14:47:12.931Z"
   },
   {
    "duration": 848,
    "start_time": "2022-01-30T14:47:13.017Z"
   },
   {
    "duration": 761,
    "start_time": "2022-01-30T14:47:13.867Z"
   }
  ],
  "kernelspec": {
   "display_name": "Python 3",
   "language": "python",
   "name": "python3"
  },
  "language_info": {
   "codemirror_mode": {
    "name": "ipython",
    "version": 3
   },
   "file_extension": ".py",
   "mimetype": "text/x-python",
   "name": "python",
   "nbconvert_exporter": "python",
   "pygments_lexer": "ipython3",
   "version": "3.8.8"
  },
  "toc": {
   "base_numbering": 1,
   "nav_menu": {},
   "number_sections": true,
   "sideBar": true,
   "skip_h1_title": true,
   "title_cell": "Содержание",
   "title_sidebar": "Contents",
   "toc_cell": true,
   "toc_position": {
    "height": "calc(100% - 180px)",
    "left": "10px",
    "top": "150px",
    "width": "165px"
   },
   "toc_section_display": true,
   "toc_window_display": true
  }
 },
 "nbformat": 4,
 "nbformat_minor": 2
}
